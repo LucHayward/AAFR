{
 "cells": [
  {
   "cell_type": "code",
   "execution_count": null,
   "id": "51ff4ef8",
   "metadata": {},
   "outputs": [],
   "source": [
    "import helper\n",
    "import transforms3d\n",
    "from copy import deepcopy,copy\n",
    "import random\n",
    "\n",
    "import open3d as o3d\n",
    "import numpy as np\n",
    "from copy import copy\n",
    "import helper\n",
    "import numpy as np\n",
    "from Fragment import FeatureLines\n",
    "from tqdm import tqdm\n",
    "import open3d as o3d\n",
    "import numpy as np\n",
    "import pandas as pd\n",
    "import re\n",
    "def my_error(name,RM_ground,result_transformation):\n",
    "\n",
    "\n",
    "    def change_angle(angle):\n",
    "        if angle < 0:\n",
    "            angle = angle + np.pi\n",
    "        return angle%np.pi\n",
    "    change_my_angle = np.vectorize(change_angle)\n",
    "\n",
    "    T_ground, R_ground, _, _ = transforms3d.affines.decompose44(RM_ground)\n",
    "    R_result = R_ground\n",
    "\n",
    "    T_result, R_result, _, _ = transforms3d.affines.decompose44(result_transformation)\n",
    "    R_result = R_result\n",
    "    \n",
    "    \n",
    "    \n",
    "    r_oa = R_ground \n",
    "    r_ob = R_result \n",
    "\n",
    "    r_oa_t = np.transpose(r_oa)\n",
    "    r_ab = np.dot(r_oa_t, r_ob)\n",
    "    \n",
    "    from scipy.spatial.transform import Rotation as R\n",
    "    r = R.from_matrix(r_ab)\n",
    "    print(r.as_euler('xyz'))\n",
    "    R_error3 = (np.sqrt(np.square(r.as_euler('xyz',degrees=True))))\n",
    "\n",
    "    R_error2 = np.rad2deg(np.arccos((np.trace(r_ab) - 1) / 2))\n",
    "\n",
    "\n",
    "    R_error = (np.sqrt(np.square(R_ground - R_result)))\n",
    "    # T_Matrix = inv[:3,3]\n",
    "    T_error = (np.sqrt(np.square(T_ground - T_result)))\n",
    "    # print(\"Rotation\",R,inv[0:3,0:3])\n",
    "    # print(\"Transalation\",T,T_Matrix)\n",
    "    error = name + \" & \"\n",
    "    for i,r_error in enumerate(np.round(R_error3,3)):\n",
    "        error += str(r_error)+\" & \"\n",
    "    for i,t_error in enumerate(np.round(T_error,3)):\n",
    "        error += str(t_error)\n",
    "        if i != 2:\n",
    "            error+=\" & \"\n",
    "    print(error)\n",
    "    return {\"R_error\":np.round(R_error3,3),\"T_error\":np.round(T_error,3)}\n",
    "\n",
    "\n",
    "def change_rotation_translation(pcd,init_R_T):\n",
    "    R,T = init_R_T\n",
    "    RM = pcd.get_rotation_matrix_from_xyz((R[0], R[1], R[2]))\n",
    "    pcd.rotate(RM, center=(0, 0, 0))\n",
    "    pcd.translate((T[0], T[1], T[2]))\n",
    "    return pcd\n",
    "def error_with_vs_without(url1,url2,name,init_R_T):\n",
    "    error = pd.read_csv(\"results/\"+name+\"/error.csv\")\n",
    "    best = error.iloc[error[\"T_error\"].idxmin()]\n",
    "    print(best)\n",
    "    output = best[\"transformations\"]\n",
    "    best_transformation = get_transformation(output)\n",
    "    \n",
    "    \n",
    "    pcd1,pcd_tree1 = helper.load_cloud(url1,30000)\n",
    "    pcd2,pcd_tree2 = helper.load_cloud(url2,30000)\n",
    "    R,T = init_R_T\n",
    "    RM_trial = np.eye(4)\n",
    "    RM = pcd2.get_rotation_matrix_from_xyz(R)\n",
    "    RM_trial[:3, :3] = RM\n",
    "    RM_trial[0, 3] = T[0]\n",
    "    RM_trial[1, 3] = T[1]\n",
    "    RM_trial[2, 3] = T[2]\n",
    "    RM_ground = np.linalg.inv(RM_trial)\n",
    "    pcd2 = change_rotation_translation(pcd2,init_R_T)\n",
    "    target = pcd1\n",
    "    source = pcd2\n",
    "    init_trans = np.eye(4)\n",
    "    # init_trans[:3, :3] = tf_param.rot\n",
    "\n",
    "    result_icp_2 = o3d.pipelines.registration.registration_icp(\n",
    "            source,target,5000,init_trans,\n",
    "            o3d.pipelines.registration.TransformationEstimationPointToPoint(with_scaling =False),\n",
    "            o3d.pipelines.registration.ICPConvergenceCriteria(max_iteration=5000))\n",
    "    result_transformation  = result_icp_2.transformation\n",
    "    \n",
    "    \n",
    "    return my_error(name,RM_ground,result_transformation), my_error(name,RM_ground,best_transformation)\n",
    "    \n",
    "def get_transformation(output):\n",
    "    transformation = [[float(number) for number in re.findall(r\"[-+]?(?:\\d*\\.*\\d+)\", in_list)] for in_list in output.split(\"\\n\")]\n",
    "    return transformation"
   ]
  },
  {
   "cell_type": "code",
   "execution_count": null,
   "id": "ca888624",
   "metadata": {},
   "outputs": [],
   "source": [
    "df = pd.read_csv(\"results/results.csv\")\n",
    "asd = df.groupby(['obj1', 'obj2'])[\"Total_error\"].idxmin()\n",
    "df.iloc[asd][['obj1', 'obj2',\"R & T\",\"R_error\",\"T_error\",\"Total_error\"]]"
   ]
  },
  {
   "cell_type": "code",
   "execution_count": null,
   "id": "f361c1e0",
   "metadata": {},
   "outputs": [],
   "source": [
    "objects = [{ \"name\":\"test_brick_1\",\"number\":68,\"init_R_T\":((0.2, 0.2, 0.1), (4, 0.6, 1))},\n",
    " { \"name\":\"test_brick_2\",\"number\":180,\"init_R_T\":((0.2, 0.2, 0.1), (0.01, 0.01, 0.01))},\n",
    " { \"name\":\"test_15_1\",\"number\":384,\"init_R_T\":((0.2, 0.2, 0.1), (0.1, 0.1, 0.1))},\n",
    " { \"name\":\"test_15_2\",\"number\":273,\"init_R_T\":((0.2, 0.2, 0.1), (0.1, 0.1, 0.1))},\n",
    " { \"name\":\"test_15_3\",\"number\":521,\"init_R_T\":((0.2, 0.2, 0.1), (0.1, 0.1, 0.1))},\n",
    " { \"name\":\"test_15_4\",\"number\":455,\"init_R_T\":((0.2, 0.2, 0.1), (0.1, -0.1, 0.1))},\n",
    " { \"name\":\"test_breaking_1\",\"init_R_T\":((0.2, 0.2, 0.1), (-1, -1, 2)),\"Obj1_url\":\"data_test/pairwise/breaking_bad_cat_artifact_pair1/breaking_bad_cat_artifact_piece1.ply\",\n",
    "\"Obj2_url\":\"data_test/pairwise/breaking_bad_cat_artifact_pair1/breaking_bad_cat_artifact_piece3.ply\"},\n",
    "  { \"name\":\"test_breaking_2\",\"init_R_T\":((0.2, 0.2, 0.1), (-1, -1, 2)),\"Obj1_url\":\"data_test/pairwise/breaking_bad_cat_artifact_pair2/breaking_bad_cat_artifact_piece2.ply\",\n",
    "\"Obj2_url\":\"data_test/pairwise/breaking_bad_cat_artifact_pair2/breaking_bad_cat_artifact_piece3.ply\"},\n",
    " { \"name\":\"test_breaking_3\",\"init_R_T\":((0.2, 0.2, 0.1), (-0.5, -0.5, -0.5)),\"Obj1_url\":\"data_test/pairwise/breaking_bad_statue_pair1/breaking_bad_cat_statue_piece1.ply\",\n",
    "\"Obj2_url\":\"data_test/pairwise/breaking_bad_statue_pair1/breaking_bad_cat_statue_piece2.ply\"}\n",
    "]"
   ]
  },
  {
   "cell_type": "code",
   "execution_count": null,
   "id": "47aef030",
   "metadata": {},
   "outputs": [],
   "source": [
    "for obj in objects[-3:]:\n",
    "    if \"_\".join(obj[\"name\"].split(\"_\")[:2]) == \"test_breaking\":\n",
    "        Obj1_url = obj[\"Obj1_url\"]\n",
    "        Obj2_url = obj[\"Obj2_url\"]\n",
    "    else:\n",
    "        Obj1_url = df.iloc[obj[\"number\"]][\"obj1\"]\n",
    "        Obj2_url = df.iloc[obj[\"number\"]][\"obj2\"]\n",
    "    init_R_T = obj[\"init_R_T\"]\n",
    "    error_with_vs_without(Obj1_url,Obj2_url,obj[\"name\"],init_R_T)"
   ]
  },
  {
   "cell_type": "code",
   "execution_count": null,
   "id": "78050b23",
   "metadata": {},
   "outputs": [],
   "source": [
    "number = 455\n",
    "Obj1_url = df.iloc[number][\"obj2\"]\n",
    "Obj2_url = df.iloc[number][\"obj1\"]\n",
    "init_R_T = ((0.2, 0.2, 0.1), (0.1, -0.1, 0.1))"
   ]
  },
  {
   "cell_type": "code",
   "execution_count": null,
   "id": "9654ad78",
   "metadata": {},
   "outputs": [],
   "source": [
    "error_with_vs_without(Obj1_url,Obj2_url,\"test_breaking_2\",init_R_T)"
   ]
  },
  {
   "cell_type": "code",
   "execution_count": null,
   "id": "8501cb02",
   "metadata": {},
   "outputs": [],
   "source": [
    "sum(np.asarray([0.061, 0.11 , 0.039]))\n"
   ]
  },
  {
   "cell_type": "code",
   "execution_count": null,
   "id": "0dc168e2",
   "metadata": {},
   "outputs": [],
   "source": []
  },
  {
   "cell_type": "code",
   "execution_count": null,
   "id": "ecb94c9c",
   "metadata": {},
   "outputs": [],
   "source": []
  },
  {
   "cell_type": "code",
   "execution_count": null,
   "id": "c02908bf",
   "metadata": {},
   "outputs": [],
   "source": [
    "results"
   ]
  },
  {
   "cell_type": "code",
   "execution_count": null,
   "id": "d0afc935",
   "metadata": {},
   "outputs": [],
   "source": []
  }
 ],
 "metadata": {
  "kernelspec": {
   "display_name": ".env",
   "language": "python",
   "name": ".env"
  },
  "language_info": {
   "codemirror_mode": {
    "name": "ipython",
    "version": 3
   },
   "file_extension": ".py",
   "mimetype": "text/x-python",
   "name": "python",
   "nbconvert_exporter": "python",
   "pygments_lexer": "ipython3",
   "version": "3.9.0"
  }
 },
 "nbformat": 4,
 "nbformat_minor": 5
}
