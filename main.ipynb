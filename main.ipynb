{
 "cells": [
  {
   "cell_type": "code",
   "execution_count": 119,
   "id": "e1d738af",
   "metadata": {},
   "outputs": [],
   "source": [
    "objects = [\n",
    "    {\n",
    "    \"Obj1_url\":\"data_test/pairwise/breaking_bad_statue_pair1/breaking_bad_cat_statue_piece1.ply\",\n",
    "    \"Obj2_url\":\"data_test/pairwise/breaking_bad_statue_pair1/breaking_bad_cat_statue_piece2.ply\",\n",
    "    \"small_object\":30000,\"large_object\":30000,\n",
    "    #to1,to2,to3 -> always fixed for the object creation (i fixed it for almost of them)\n",
    "    \"to1\":100 ,\"to2\":100, \"to3\":100,\n",
    "    #tb1,tb2,tb3 -> border paramters depend on the nature of the object\n",
    "    \"tb1\":0.1 ,\"tb2\":1, \"tb3\":0.1,\n",
    "    #dilation_size , thre -> size of the dilation and threshold applied depend on each object\n",
    "    \"dilation_size\":0.02,\"thre\":0.96},\n",
    "    {\n",
    "    \"Obj1_url\":\"data_test/pairwise/breaking_bad_cat_artifact_pair2/breaking_bad_cat_artifact_piece2.ply\",\n",
    "    \"Obj2_url\":\"data_test/pairwise/breaking_bad_cat_artifact_pair2/breaking_bad_cat_artifact_piece3.ply\",\n",
    "    \"small_object\":30000,\"large_object\":30000,\n",
    "    \"to1\":100 ,\"to2\":100, \"to3\":100,\n",
    "    \"tb1\":0.1 ,\"tb2\":1, \"tb3\":0.1,\n",
    "    \"dilation_size\":0.02,\"thre\":0.96},\n",
    "    {\n",
    "    \"Obj1_url\":\"data_test/pairwise/breaking_bad_cat_artifact_pair1/breaking_bad_cat_artifact_piece1.ply\",\n",
    "    \"Obj2_url\":\"data_test/pairwise/breaking_bad_cat_artifact_pair1/breaking_bad_cat_artifact_piece3.ply\",\n",
    "    \"small_object\":30000,\"large_object\":30000,\n",
    "    \"to1\":100 ,\"to2\":100, \"to3\":100,\n",
    "    \"tb1\":0.1 ,\"tb2\":1, \"tb3\":0.1,\n",
    "    \"dilation_size\":0.02,\"thre\":0.96},\n",
    "    {\n",
    "    \"Obj1_url\":\"data_test/breaking_bad/mirror/7fe270a9cb7621ed157bba5da16c1cd3/mode_1/piece_0.obj\",\n",
    "    \"Obj2_url\":\"data_test/breaking_bad/mirror/7fe270a9cb7621ed157bba5da16c1cd3/mode_1/piece_1.obj\",\n",
    "    \"small_object\":300000,\"large_object\":300000,\n",
    "    \"to1\":100 ,\"to2\":100, \"to3\":100,\n",
    "    \"tb1\":0.1 ,\"tb2\":0.1, \"tb3\":0.1,\n",
    "    \"dilation_size\":0.004,\"thre\":0.93\n",
    "    },\n",
    "     {\n",
    "    \"Obj1_url\":\"data_test/breaking_bad/mug/fractured_73/piece_0.obj\",\n",
    "    \"Obj2_url\":\"data_test/breaking_bad/mug/fractured_73/piece_1.obj\",\n",
    "    \"small_object\":300000,\"large_object\":300000,\n",
    "    \"to1\":100 ,\"to2\":100, \"to3\":100,\n",
    "    \"tb1\":0.1 ,\"tb2\":0.1, \"tb3\":0.1,\n",
    "    \"dilation_size\":0.01,\"thre\":0.93\n",
    "    },\n",
    "     {\n",
    "    \"Obj1_url\":\"data_test/breaking_bad_2/Cookie/fractured_46/piece_0.obj\",\n",
    "    \"Obj2_url\":\"data_test/breaking_bad_2/Cookie/fractured_46/piece_1.obj\",\n",
    "    \"small_object\":40000,\"large_object\":80000,\n",
    "    \"to1\":100 ,\"to2\":100, \"to3\":100,\n",
    "    \"tb1\":100 ,\"tb2\":100, \"tb3\":100,\n",
    "    \"dilation_size\":0.004,\"thre\":0.93\n",
    "    },\n",
    "     {\n",
    "    \"Obj1_url\":\"data_test/breaking_bad_2/Cookie/fractured_52/piece_0.obj\",\n",
    "    \"Obj2_url\":\"data_test/breaking_bad_2/Cookie/fractured_52/piece_1.obj\",\n",
    "    \"small_object\":40000,\"large_object\":80000,\n",
    "    \"to1\":100 ,\"to2\":100, \"to3\":100,\n",
    "    \"tb1\":100 ,\"tb2\":100, \"tb3\":100,\n",
    "    \"dilation_size\":0.004,\"thre\":0.93\n",
    "    },\n",
    "     {\n",
    "    \"Obj1_url\":\"data_test/breaking_bad_2/Cookie/fractured_70/piece_0.obj\",\n",
    "    \"Obj2_url\":\"data_test/breaking_bad_2/Cookie/fractured_70/piece_1.obj\",\n",
    "    \"small_object\":40000,\"large_object\":80000,\n",
    "    \"to1\":100 ,\"to2\":100, \"to3\":100,\n",
    "    \"tb1\":100 ,\"tb2\":100, \"tb3\":100,\n",
    "    \"dilation_size\":0.004,\"thre\":0.93\n",
    "    },\n",
    "     {\n",
    "    \"Obj1_url\":\"data_test/breaking_bad/WineBottle/fractured_14/piece_0.obj\",\n",
    "    \"Obj2_url\":\"data_test/breaking_bad/WineBottle/fractured_14/piece_1.obj\",\n",
    "    \"small_object\":40000,\"large_object\":100000,\n",
    "    \"to1\":100 ,\"to2\":100, \"to3\":100,\n",
    "    \"tb1\":0.1 ,\"tb2\":0.1, \"tb3\":0.1,\n",
    "    \"dilation_size\":0.006,\"thre\":0.97\n",
    "    },\n",
    "     {\n",
    "    \"Obj1_url\":\"data_test/breaking_bad/WineBottle/fractured_3/piece_0.obj\",\n",
    "    \"Obj2_url\":\"data_test/breaking_bad/WineBottle/fractured_3/piece_1.obj\",\n",
    "    \"small_object\":30000,\"large_object\":80000,\n",
    "    \"to1\":100 ,\"to2\":100, \"to3\":100,\n",
    "    \"tb1\":0.1 ,\"tb2\":0.1, \"tb3\":0.1,\n",
    "    \"dilation_size\":0.01,\"thre\":0.97\n",
    "    },\n",
    "     {\n",
    "    \"Obj1_url\":\"data_test/breaking_bad/PillBottle/fractured_40/piece_0.obj\",\n",
    "    \"Obj2_url\":\"data_test/breaking_bad/PillBottle/fractured_40/piece_1.obj\",\n",
    "    \"small_object\":100000,\"large_object\":200000,\n",
    "    \"to1\":100 ,\"to2\":100, \"to3\":100,\n",
    "    \"tb1\":0.1 ,\"tb2\":0.1, \"tb3\":0.1,\n",
    "    \"dilation_size\":0.01,\"thre\":0.95\n",
    "    },\n",
    "     {\n",
    "    \"Obj1_url\":\"data_test/breaking_bad/DrinkBottle/fractured_62/piece_0.obj\",\n",
    "    \"Obj2_url\":\"data_test/breaking_bad/DrinkBottle/fractured_62/piece_1.obj\",\n",
    "    \"small_object\":100000,\"large_object\":200000,\n",
    "    \"to1\":100 ,\"to2\":100, \"to3\":100,\n",
    "    \"tb1\":0.1 ,\"tb2\":0.1, \"tb3\":0.1,\n",
    "    \"dilation_size\":0.008,\"thre\":0.93\n",
    "    }\n",
    "    \n",
    "]"
   ]
  },
  {
   "cell_type": "code",
   "execution_count": 120,
   "id": "cfbba59e",
   "metadata": {},
   "outputs": [],
   "source": [
    "def get_winner_pair(test):\n",
    "    import scipy\n",
    "    from copy import copy\n",
    "    i = 0\n",
    "    winner_index = -1\n",
    "    winner_value = 10000000\n",
    "    arr = []\n",
    "    for o1,o2,R_T in test.result_transformation_arr:\n",
    "    #     print(o1,o2)\n",
    "        obj1 = test.Obj1_array[o1]\n",
    "        obj2 = test.Obj2_array[o2]\n",
    "        obj2_tmp = copy(obj2)\n",
    "        obj2_tmp.pcd = copy(obj2.pcd)\n",
    "        obj2_tmp.pcd.transform(R_T)\n",
    "    #     print(scipy.spatial.distance.directed_hausdorff(list(obj2_tmp.pcd.points), list(obj1.pcd.points), seed=0))\n",
    "    #     print(scipy.spatial.distance.directed_hausdorff(list(obj1.pcd.points),list(obj2_tmp.pcd.points) , seed=0))\n",
    "        chamfer_value = chamfer_distance(list(obj2_tmp.pcd.points),list(obj1.pcd.points))\n",
    "        arr.append({\"index\":i,\"o1\":o1,\"o2\":o2,\"chamfer\":chamfer_value})\n",
    "        if winner_value>chamfer_value:\n",
    "            winner_index = i\n",
    "            winner_value = chamfer_value\n",
    "        i+=1\n",
    "    chamfer_df = pd.DataFrame(arr)\n",
    "    return chamfer_df.sort_values('chamfer')\n",
    "import numpy as np\n",
    "from sklearn.neighbors import NearestNeighbors\n",
    "\n",
    "\n",
    "def chamfer_distance(x, y, metric='l2', direction='bi'):\n",
    "    \"\"\"Chamfer distance between two point clouds\n",
    "    Parameters\n",
    "    ----------\n",
    "    x: numpy array [n_points_x, n_dims]\n",
    "        first point cloud\n",
    "    y: numpy array [n_points_y, n_dims]\n",
    "        second point cloud\n",
    "    metric: string or callable, default ‘l2’\n",
    "        metric to use for distance computation. Any metric from scikit-learn or scipy.spatial.distance can be used.\n",
    "    direction: str\n",
    "        direction of Chamfer distance.\n",
    "            'y_to_x':  computes average minimal distance from every point in y to x\n",
    "            'x_to_y':  computes average minimal distance from every point in x to y\n",
    "            'bi': compute both\n",
    "    Returns\n",
    "    -------\n",
    "    chamfer_dist: float\n",
    "        computed bidirectional Chamfer distance:\n",
    "            sum_{x_i \\in x}{\\min_{y_j \\in y}{||x_i-y_j||**2}} + sum_{y_j \\in y}{\\min_{x_i \\in x}{||x_i-y_j||**2}}\n",
    "    \"\"\"\n",
    "    \n",
    "    if direction=='y_to_x':\n",
    "        x_nn = NearestNeighbors(n_neighbors=1, leaf_size=1, algorithm='kd_tree', metric=metric).fit(x)\n",
    "        min_y_to_x = x_nn.kneighbors(y)[0]\n",
    "        chamfer_dist = np.mean(min_y_to_x)\n",
    "    elif direction=='x_to_y':\n",
    "        y_nn = NearestNeighbors(n_neighbors=1, leaf_size=1, algorithm='kd_tree', metric=metric).fit(y)\n",
    "        min_x_to_y = y_nn.kneighbors(x)[0]\n",
    "        chamfer_dist = np.mean(min_x_to_y)\n",
    "    elif direction=='bi':\n",
    "        x_nn = NearestNeighbors(n_neighbors=1, leaf_size=1, algorithm='kd_tree', metric=metric).fit(x)\n",
    "        min_y_to_x = x_nn.kneighbors(y)[0]\n",
    "        y_nn = NearestNeighbors(n_neighbors=1, leaf_size=1, algorithm='kd_tree', metric=metric).fit(y)\n",
    "        min_x_to_y = y_nn.kneighbors(x)[0]\n",
    "        chamfer_dist = np.mean(min_y_to_x) + np.mean(min_x_to_y)\n",
    "    else:\n",
    "        raise ValueError(\"Invalid direction type. Supported types: \\'y_x\\', \\'x_y\\', \\'bi\\'\")\n",
    "        \n",
    "    return chamfer_dist"
   ]
  },
  {
   "cell_type": "code",
   "execution_count": 121,
   "id": "cea5850a",
   "metadata": {
    "scrolled": true
   },
   "outputs": [
    {
     "name": "stdout",
     "output_type": "stream",
     "text": [
      "data_test/breaking_bad/PillBottle/fractured_40/piece_0.obj data_test/breaking_bad/PillBottle/fractured_40/piece_1.obj\n",
      "_________________________First Object_________________________\n",
      "start\n",
      "1.obj\n",
      "small object\n",
      "starting init\n",
      "starting calculating atts\n"
     ]
    },
    {
     "name": "stderr",
     "output_type": "stream",
     "text": [
      "100%|████████████████████████████████████████████████████████████████████████| 100000/100000 [00:34<00:00, 2869.83it/s]\n"
     ]
    },
    {
     "name": "stdout",
     "output_type": "stream",
     "text": [
      "my radius is :  0.0033431395176044517\n",
      "1046172\n",
      "After graph 100000\n",
      "constructing borders\n",
      "3381\n",
      "shortest_allowed_branch_length 581.4636704042653\n",
      "smallest_isolated_island_length 581.4636704042653\n",
      "shortest_cycle_length 581.4636704042653\n",
      "my radius is :  0.008916169577148395\n",
      "99143\n",
      "After graph 3036\n",
      "After Pruning 0\n",
      "After Pruning 336\n",
      "dilation and segmentation\n",
      "borders dilated\n"
     ]
    },
    {
     "name": "stderr",
     "output_type": "stream",
     "text": [
      "282679it [07:15, 853.25it/s]                                                                                           "
     ]
    },
    {
     "name": "stdout",
     "output_type": "stream",
     "text": [
      "36809\n"
     ]
    },
    {
     "name": "stderr",
     "output_type": "stream",
     "text": [
      "681817it [16:39, 691.08it/s]"
     ]
    },
    {
     "name": "stdout",
     "output_type": "stream",
     "text": [
      "51454\n",
      "1\n"
     ]
    },
    {
     "name": "stderr",
     "output_type": "stream",
     "text": [
      "690613it [17:03, 503.01it/s]"
     ]
    },
    {
     "name": "stdout",
     "output_type": "stream",
     "text": [
      "1125\n"
     ]
    },
    {
     "name": "stderr",
     "output_type": "stream",
     "text": [
      "690631it [17:09, 671.10it/s]\n"
     ]
    },
    {
     "name": "stdout",
     "output_type": "stream",
     "text": [
      "got faces\n",
      "KNN Radius :  0.0033431395176044517\n",
      "113\n",
      "expanded\n",
      "coloring\n",
      "_________________________Second Object_________________________\n",
      "start\n",
      "0.obj\n",
      "big object\n",
      "starting init\n",
      "starting calculating atts\n"
     ]
    },
    {
     "name": "stderr",
     "output_type": "stream",
     "text": [
      "100%|████████████████████████████████████████████████████████████████████████| 200000/200000 [01:06<00:00, 3017.77it/s]\n"
     ]
    },
    {
     "name": "stdout",
     "output_type": "stream",
     "text": [
      "my radius is :  0.005630766241945837\n",
      "2106290\n",
      "After graph 200000\n",
      "constructing borders\n",
      "4069\n",
      "shortest_allowed_branch_length 637.8871373526824\n",
      "smallest_isolated_island_length 637.8871373526824\n",
      "shortest_cycle_length 637.8871373526824\n",
      "my radius is :  0.013328861983659611\n",
      "135223\n",
      "After graph 3378\n",
      "After Pruning 0\n",
      "After Pruning 252\n",
      "dilation and segmentation\n",
      "borders dilated\n"
     ]
    },
    {
     "name": "stderr",
     "output_type": "stream",
     "text": [
      "967064it [09:45, 1437.00it/s]                                                                                          "
     ]
    },
    {
     "name": "stdout",
     "output_type": "stream",
     "text": [
      "157015\n"
     ]
    },
    {
     "name": "stderr",
     "output_type": "stream",
     "text": [
      "1109933it [11:42, 1168.90it/s]"
     ]
    },
    {
     "name": "stdout",
     "output_type": "stream",
     "text": [
      "22860\n",
      "12\n"
     ]
    },
    {
     "name": "stderr",
     "output_type": "stream",
     "text": [
      "1195358it [12:52, 1425.13it/s]"
     ]
    },
    {
     "name": "stdout",
     "output_type": "stream",
     "text": [
      "14017\n",
      "1\n",
      "1\n",
      "1\n",
      "1\n",
      "1\n",
      "1\n"
     ]
    },
    {
     "name": "stderr",
     "output_type": "stream",
     "text": [
      "\r",
      "1195497it [13:02, 1528.54it/s]"
     ]
    },
    {
     "name": "stdout",
     "output_type": "stream",
     "text": [
      "1\n",
      "1\n",
      "1\n",
      "1\n",
      "1\n",
      "1\n",
      "1\n",
      "1\n",
      "1\n",
      "got faces\n"
     ]
    },
    {
     "name": "stderr",
     "output_type": "stream",
     "text": [
      "\n"
     ]
    },
    {
     "name": "stdout",
     "output_type": "stream",
     "text": [
      "KNN Radius :  0.005630766241945837\n",
      "170\n",
      "expanded\n",
      "coloring\n",
      "_________________________Registeration_________________________\n",
      "_________________________Evaluation_________________________\n"
     ]
    }
   ],
   "source": [
    "import ast\n",
    "\n",
    "from runner import test\n",
    "import numpy as np\n",
    "\n",
    "object_number = 10\n",
    "\n",
    "#objects\n",
    "Obj1_url = objects[object_number][\"Obj1_url\"]\n",
    "Obj2_url = objects[object_number][\"Obj2_url\"]\n",
    "print(Obj1_url,Obj2_url)\n",
    "\n",
    "#Before Evaluate do a Rotation and translation of\n",
    "init_R_T = ((0.2, 0.2, 0.1), (-0.5, -0.5, -0.5))\n",
    "\n",
    "\n",
    "#pipline name and pipline parameters\n",
    "pipline_name = \"general_pipeline\"\n",
    "\n",
    "#sampling\n",
    "large_object = objects[object_number][\"large_object\"]\n",
    "small_object = objects[object_number][\"small_object\"]\n",
    "\n",
    "\n",
    "N = 15\n",
    "Object_t1 = objects[object_number][\"to1\"]\n",
    "Object_t2 = objects[object_number][\"to2\"]\n",
    "Object_t3 = objects[object_number][\"to3\"]\n",
    "\n",
    "border_t1 = objects[object_number][\"tb1\"]\n",
    "border_t2 = objects[object_number][\"tb1\"]\n",
    "border_t3 = objects[object_number][\"tb1\"]\n",
    "\n",
    "\n",
    "#threshold for corner\n",
    "thre = objects[object_number][\"thre\"]\n",
    "\n",
    "dilation_size = objects[object_number][\"dilation_size\"]\n",
    "\n",
    "pipline_variables = (small_object, large_object, N, Object_t1, Object_t2,\n",
    "                     Object_t3, border_t1, border_t2, border_t3, dilation_size, thre)\n",
    "\n",
    "#test\n",
    "test_name = \"ICP_test\"\n",
    "\n",
    "# eval \n",
    "\n",
    "eval_list = [\"rms\"]\n",
    "\n",
    "test_breaking_thin = test(Obj2_url, Obj1_url, init_R_T, pipline_name, pipline_variables, test_name, eval_list, show_results = True, save_results=False)\n",
    "\n",
    "my_results = test_breaking_thin.run()"
   ]
  },
  {
   "cell_type": "code",
   "execution_count": 124,
   "id": "feeacaac",
   "metadata": {},
   "outputs": [
    {
     "data": {
      "text/html": [
       "<div>\n",
       "<style scoped>\n",
       "    .dataframe tbody tr th:only-of-type {\n",
       "        vertical-align: middle;\n",
       "    }\n",
       "\n",
       "    .dataframe tbody tr th {\n",
       "        vertical-align: top;\n",
       "    }\n",
       "\n",
       "    .dataframe thead th {\n",
       "        text-align: right;\n",
       "    }\n",
       "</style>\n",
       "<table border=\"1\" class=\"dataframe\">\n",
       "  <thead>\n",
       "    <tr style=\"text-align: right;\">\n",
       "      <th></th>\n",
       "      <th>index</th>\n",
       "      <th>o1</th>\n",
       "      <th>o2</th>\n",
       "      <th>chamfer</th>\n",
       "    </tr>\n",
       "  </thead>\n",
       "  <tbody>\n",
       "    <tr>\n",
       "      <th>5</th>\n",
       "      <td>5</td>\n",
       "      <td>1</td>\n",
       "      <td>2</td>\n",
       "      <td>0.004250</td>\n",
       "    </tr>\n",
       "    <tr>\n",
       "      <th>4</th>\n",
       "      <td>4</td>\n",
       "      <td>1</td>\n",
       "      <td>1</td>\n",
       "      <td>0.059060</td>\n",
       "    </tr>\n",
       "    <tr>\n",
       "      <th>2</th>\n",
       "      <td>2</td>\n",
       "      <td>0</td>\n",
       "      <td>2</td>\n",
       "      <td>0.074630</td>\n",
       "    </tr>\n",
       "    <tr>\n",
       "      <th>1</th>\n",
       "      <td>1</td>\n",
       "      <td>0</td>\n",
       "      <td>1</td>\n",
       "      <td>0.090833</td>\n",
       "    </tr>\n",
       "    <tr>\n",
       "      <th>8</th>\n",
       "      <td>8</td>\n",
       "      <td>2</td>\n",
       "      <td>2</td>\n",
       "      <td>0.098366</td>\n",
       "    </tr>\n",
       "    <tr>\n",
       "      <th>7</th>\n",
       "      <td>7</td>\n",
       "      <td>2</td>\n",
       "      <td>1</td>\n",
       "      <td>0.150284</td>\n",
       "    </tr>\n",
       "    <tr>\n",
       "      <th>0</th>\n",
       "      <td>0</td>\n",
       "      <td>0</td>\n",
       "      <td>0</td>\n",
       "      <td>0.370384</td>\n",
       "    </tr>\n",
       "    <tr>\n",
       "      <th>3</th>\n",
       "      <td>3</td>\n",
       "      <td>1</td>\n",
       "      <td>0</td>\n",
       "      <td>0.380326</td>\n",
       "    </tr>\n",
       "    <tr>\n",
       "      <th>6</th>\n",
       "      <td>6</td>\n",
       "      <td>2</td>\n",
       "      <td>0</td>\n",
       "      <td>0.551714</td>\n",
       "    </tr>\n",
       "  </tbody>\n",
       "</table>\n",
       "</div>"
      ],
      "text/plain": [
       "   index  o1  o2   chamfer\n",
       "5      5   1   2  0.004250\n",
       "4      4   1   1  0.059060\n",
       "2      2   0   2  0.074630\n",
       "1      1   0   1  0.090833\n",
       "8      8   2   2  0.098366\n",
       "7      7   2   1  0.150284\n",
       "0      0   0   0  0.370384\n",
       "3      3   1   0  0.380326\n",
       "6      6   2   0  0.551714"
      ]
     },
     "execution_count": 124,
     "metadata": {},
     "output_type": "execute_result"
    }
   ],
   "source": [
    "get_winner_pair(test_breaking_thin)"
   ]
  },
  {
   "cell_type": "code",
   "execution_count": 122,
   "id": "d67d3973",
   "metadata": {},
   "outputs": [
    {
     "data": {
      "text/html": [
       "<div>\n",
       "<style scoped>\n",
       "    .dataframe tbody tr th:only-of-type {\n",
       "        vertical-align: middle;\n",
       "    }\n",
       "\n",
       "    .dataframe tbody tr th {\n",
       "        vertical-align: top;\n",
       "    }\n",
       "\n",
       "    .dataframe thead th {\n",
       "        text-align: right;\n",
       "    }\n",
       "</style>\n",
       "<table border=\"1\" class=\"dataframe\">\n",
       "  <thead>\n",
       "    <tr style=\"text-align: right;\">\n",
       "      <th></th>\n",
       "      <th>o1</th>\n",
       "      <th>o2</th>\n",
       "      <th>R_error</th>\n",
       "      <th>T_error</th>\n",
       "      <th>total</th>\n",
       "    </tr>\n",
       "  </thead>\n",
       "  <tbody>\n",
       "    <tr>\n",
       "      <th>5</th>\n",
       "      <td>1</td>\n",
       "      <td>2</td>\n",
       "      <td>5.451518</td>\n",
       "      <td>0.016287</td>\n",
       "      <td>5.467806</td>\n",
       "    </tr>\n",
       "    <tr>\n",
       "      <th>2</th>\n",
       "      <td>0</td>\n",
       "      <td>2</td>\n",
       "      <td>5.315978</td>\n",
       "      <td>0.194471</td>\n",
       "      <td>5.510450</td>\n",
       "    </tr>\n",
       "    <tr>\n",
       "      <th>4</th>\n",
       "      <td>1</td>\n",
       "      <td>1</td>\n",
       "      <td>4.959060</td>\n",
       "      <td>0.398016</td>\n",
       "      <td>5.357076</td>\n",
       "    </tr>\n",
       "    <tr>\n",
       "      <th>7</th>\n",
       "      <td>2</td>\n",
       "      <td>1</td>\n",
       "      <td>5.108279</td>\n",
       "      <td>0.515534</td>\n",
       "      <td>5.623812</td>\n",
       "    </tr>\n",
       "    <tr>\n",
       "      <th>1</th>\n",
       "      <td>0</td>\n",
       "      <td>1</td>\n",
       "      <td>4.686296</td>\n",
       "      <td>0.609058</td>\n",
       "      <td>5.295354</td>\n",
       "    </tr>\n",
       "    <tr>\n",
       "      <th>6</th>\n",
       "      <td>2</td>\n",
       "      <td>0</td>\n",
       "      <td>4.070526</td>\n",
       "      <td>0.677901</td>\n",
       "      <td>4.748428</td>\n",
       "    </tr>\n",
       "    <tr>\n",
       "      <th>8</th>\n",
       "      <td>2</td>\n",
       "      <td>2</td>\n",
       "      <td>3.614328</td>\n",
       "      <td>1.162754</td>\n",
       "      <td>4.777083</td>\n",
       "    </tr>\n",
       "    <tr>\n",
       "      <th>0</th>\n",
       "      <td>0</td>\n",
       "      <td>0</td>\n",
       "      <td>6.426579</td>\n",
       "      <td>1.184804</td>\n",
       "      <td>7.611383</td>\n",
       "    </tr>\n",
       "    <tr>\n",
       "      <th>3</th>\n",
       "      <td>1</td>\n",
       "      <td>0</td>\n",
       "      <td>6.384393</td>\n",
       "      <td>1.292671</td>\n",
       "      <td>7.677064</td>\n",
       "    </tr>\n",
       "  </tbody>\n",
       "</table>\n",
       "</div>"
      ],
      "text/plain": [
       "   o1  o2   R_error   T_error     total\n",
       "5   1   2  5.451518  0.016287  5.467806\n",
       "2   0   2  5.315978  0.194471  5.510450\n",
       "4   1   1  4.959060  0.398016  5.357076\n",
       "7   2   1  5.108279  0.515534  5.623812\n",
       "1   0   1  4.686296  0.609058  5.295354\n",
       "6   2   0  4.070526  0.677901  4.748428\n",
       "8   2   2  3.614328  1.162754  4.777083\n",
       "0   0   0  6.426579  1.184804  7.611383\n",
       "3   1   0  6.384393  1.292671  7.677064"
      ]
     },
     "execution_count": 122,
     "metadata": {},
     "output_type": "execute_result"
    }
   ],
   "source": [
    "import pandas as pd\n",
    "df_breaking_3 = pd.DataFrame(test_breaking_thin.results)\n",
    "df_breaking_3[\"total\"] = df_breaking_3[\"R_error\"]+df_breaking_3[\"T_error\"]\n",
    "df_breaking_3.sort_values('T_error')"
   ]
  },
  {
   "cell_type": "code",
   "execution_count": 123,
   "id": "dbb32eac",
   "metadata": {},
   "outputs": [],
   "source": [
    "test_breaking_thin.draw_registration_result_original_color(test_breaking_thin.Obj1,test_breaking_thin.Obj2,test_breaking_thin.result_transformation_arr[5][2])"
   ]
  },
  {
   "cell_type": "code",
   "execution_count": null,
   "id": "877970ad",
   "metadata": {},
   "outputs": [],
   "source": []
  }
 ],
 "metadata": {
  "kernelspec": {
   "display_name": ".env",
   "language": "python",
   "name": ".env"
  },
  "language_info": {
   "codemirror_mode": {
    "name": "ipython",
    "version": 3
   },
   "file_extension": ".py",
   "mimetype": "text/x-python",
   "name": "python",
   "nbconvert_exporter": "python",
   "pygments_lexer": "ipython3",
   "version": "3.9.0"
  }
 },
 "nbformat": 4,
 "nbformat_minor": 5
}
