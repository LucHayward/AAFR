{
 "cells": [
  {
   "cell_type": "code",
   "execution_count": 26,
   "id": "e1d738af",
   "metadata": {},
   "outputs": [],
   "source": [
    "objects = [\n",
    "    {\n",
    "    \"Obj1_url\":\"data_test/pairwise/breaking_bad_statue_pair1/breaking_bad_cat_statue_piece1.ply\",\n",
    "    \"Obj2_url\":\"data_test/pairwise/breaking_bad_statue_pair1/breaking_bad_cat_statue_piece2.ply\",\n",
    "    \"small_object\":30000,\"large_object\":30000,\n",
    "    #to1,to2,to3 -> always fixed for the object creation (i fixed it for almost of them)\n",
    "    \"to1\":100 ,\"to2\":100, \"to3\":100,\n",
    "    #tb1,tb2,tb3 -> border paramters depend on the nature of the object\n",
    "    \"tb1\":0.1 ,\"tb2\":1, \"tb3\":0.1,\n",
    "    #dilation_size , thre -> size of the dilation and threshold applied depend on each object\n",
    "    \"dilation_size\":0.02,\"thre\":0.96},\n",
    "    {\n",
    "    \"Obj1_url\":\"data_test/pairwise/breaking_bad_cat_artifact_pair2/breaking_bad_cat_artifact_piece2.ply\",\n",
    "    \"Obj2_url\":\"data_test/pairwise/breaking_bad_cat_artifact_pair2/breaking_bad_cat_artifact_piece3.ply\",\n",
    "    \"small_object\":30000,\"large_object\":30000,\n",
    "    \"to1\":100 ,\"to2\":100, \"to3\":100,\n",
    "    \"tb1\":0.1 ,\"tb2\":1, \"tb3\":0.1,\n",
    "    \"dilation_size\":0.02,\"thre\":0.96},\n",
    "    {\n",
    "    \"Obj1_url\":\"data_test/pairwise/breaking_bad_cat_artifact_pair1/breaking_bad_cat_artifact_piece1.ply\",\n",
    "    \"Obj2_url\":\"data_test/pairwise/breaking_bad_cat_artifact_pair1/breaking_bad_cat_artifact_piece3.ply\",\n",
    "    \"small_object\":30000,\"large_object\":30000,\n",
    "    \"to1\":100 ,\"to2\":100, \"to3\":100,\n",
    "    \"tb1\":0.1 ,\"tb2\":1, \"tb3\":0.1,\n",
    "    \"dilation_size\":0.02,\"thre\":0.96}\n",
    "]"
   ]
  },
  {
   "cell_type": "code",
   "execution_count": 27,
   "id": "cfbba59e",
   "metadata": {},
   "outputs": [],
   "source": [
    "def get_winner_pair(test):\n",
    "    import scipy\n",
    "    from copy import copy\n",
    "    i = 0\n",
    "    winner_index = -1\n",
    "    winner_value = 10000000\n",
    "    arr = []\n",
    "    for o1,o2,R_T in test.result_transformation_arr:\n",
    "    #     print(o1,o2)\n",
    "        obj1 = test.Obj1_array[o1]\n",
    "        obj2 = test.Obj2_array[o2]\n",
    "        obj2_tmp = copy(obj2)\n",
    "        obj2_tmp.pcd = copy(obj2.pcd)\n",
    "        obj2_tmp.pcd.transform(R_T)\n",
    "    #     print(scipy.spatial.distance.directed_hausdorff(list(obj2_tmp.pcd.points), list(obj1.pcd.points), seed=0))\n",
    "    #     print(scipy.spatial.distance.directed_hausdorff(list(obj1.pcd.points),list(obj2_tmp.pcd.points) , seed=0))\n",
    "        chamfer_value = chamfer_distance(list(obj2_tmp.pcd.points),list(obj1.pcd.points))\n",
    "        arr.append({\"index\":i,\"o1\":o1,\"o2\":o2,\"chamfer\":chamfer_value})\n",
    "        if winner_value>chamfer_value:\n",
    "            winner_index = i\n",
    "            winner_value = chamfer_value\n",
    "        i+=1\n",
    "    chamfer_df = pd.DataFrame(arr)\n",
    "    return chamfer_df.sort_values('chamfer')\n",
    "import numpy as np\n",
    "from sklearn.neighbors import NearestNeighbors\n",
    "\n",
    "\n",
    "def chamfer_distance(x, y, metric='l2', direction='bi'):\n",
    "    \"\"\"Chamfer distance between two point clouds\n",
    "    Parameters\n",
    "    ----------\n",
    "    x: numpy array [n_points_x, n_dims]\n",
    "        first point cloud\n",
    "    y: numpy array [n_points_y, n_dims]\n",
    "        second point cloud\n",
    "    metric: string or callable, default ‘l2’\n",
    "        metric to use for distance computation. Any metric from scikit-learn or scipy.spatial.distance can be used.\n",
    "    direction: str\n",
    "        direction of Chamfer distance.\n",
    "            'y_to_x':  computes average minimal distance from every point in y to x\n",
    "            'x_to_y':  computes average minimal distance from every point in x to y\n",
    "            'bi': compute both\n",
    "    Returns\n",
    "    -------\n",
    "    chamfer_dist: float\n",
    "        computed bidirectional Chamfer distance:\n",
    "            sum_{x_i \\in x}{\\min_{y_j \\in y}{||x_i-y_j||**2}} + sum_{y_j \\in y}{\\min_{x_i \\in x}{||x_i-y_j||**2}}\n",
    "    \"\"\"\n",
    "    \n",
    "    if direction=='y_to_x':\n",
    "        x_nn = NearestNeighbors(n_neighbors=1, leaf_size=1, algorithm='kd_tree', metric=metric).fit(x)\n",
    "        min_y_to_x = x_nn.kneighbors(y)[0]\n",
    "        chamfer_dist = np.mean(min_y_to_x)\n",
    "    elif direction=='x_to_y':\n",
    "        y_nn = NearestNeighbors(n_neighbors=1, leaf_size=1, algorithm='kd_tree', metric=metric).fit(y)\n",
    "        min_x_to_y = y_nn.kneighbors(x)[0]\n",
    "        chamfer_dist = np.mean(min_x_to_y)\n",
    "    elif direction=='bi':\n",
    "        x_nn = NearestNeighbors(n_neighbors=1, leaf_size=1, algorithm='kd_tree', metric=metric).fit(x)\n",
    "        min_y_to_x = x_nn.kneighbors(y)[0]\n",
    "        y_nn = NearestNeighbors(n_neighbors=1, leaf_size=1, algorithm='kd_tree', metric=metric).fit(y)\n",
    "        min_x_to_y = y_nn.kneighbors(x)[0]\n",
    "        chamfer_dist = np.mean(min_y_to_x) + np.mean(min_x_to_y)\n",
    "    else:\n",
    "        raise ValueError(\"Invalid direction type. Supported types: \\'y_x\\', \\'x_y\\', \\'bi\\'\")\n",
    "        \n",
    "    return chamfer_dist"
   ]
  },
  {
   "cell_type": "code",
   "execution_count": 28,
   "id": "cea5850a",
   "metadata": {
    "scrolled": true
   },
   "outputs": [
    {
     "name": "stdout",
     "output_type": "stream",
     "text": [
      "_________________________First Object_________________________\n",
      "start\n",
      "piece3.ply\n",
      "small object\n",
      "my number is ->  0.0041171859741210935\n",
      "starting init\n",
      "starting calculating atts\n"
     ]
    },
    {
     "name": "stderr",
     "output_type": "stream",
     "text": [
      "100%|██████████████████████████████████████████████████████████████████████████| 30182/30182 [00:12<00:00, 2411.93it/s]\n"
     ]
    },
    {
     "name": "stdout",
     "output_type": "stream",
     "text": [
      "my radius is :  0.006752086811558033\n",
      "347722\n",
      "After graph 30182\n",
      "constructing borders\n",
      "3415\n",
      "shortest_allowed_branch_length 584.3800133474792\n",
      "smallest_isolated_island_length 584.3800133474792\n",
      "shortest_cycle_length 584.3800133474792\n",
      "my radius is :  0.012084650976664195\n",
      "73975\n",
      "After graph 3125\n",
      "After Pruning 0\n",
      "After Pruning 343\n",
      "dilation and segmentation\n",
      "borders dilated\n"
     ]
    },
    {
     "name": "stderr",
     "output_type": "stream",
     "text": [
      "174781it [05:05, 213.45it/s]                                                                                           "
     ]
    },
    {
     "name": "stdout",
     "output_type": "stream",
     "text": [
      "15155\n"
     ]
    },
    {
     "name": "stderr",
     "output_type": "stream",
     "text": [
      "190831it [05:34, 661.55it/s]"
     ]
    },
    {
     "name": "stdout",
     "output_type": "stream",
     "text": [
      "1524\n"
     ]
    },
    {
     "name": "stderr",
     "output_type": "stream",
     "text": [
      "225892it [06:31, 736.17it/s]"
     ]
    },
    {
     "name": "stdout",
     "output_type": "stream",
     "text": [
      "3047\n"
     ]
    },
    {
     "name": "stderr",
     "output_type": "stream",
     "text": [
      "247036it [07:04, 683.60it/s]"
     ]
    },
    {
     "name": "stdout",
     "output_type": "stream",
     "text": [
      "1939\n",
      "5\n"
     ]
    },
    {
     "name": "stderr",
     "output_type": "stream",
     "text": [
      "\r",
      "247116it [07:05, 349.03it/s]"
     ]
    },
    {
     "name": "stdout",
     "output_type": "stream",
     "text": [
      "1\n",
      "1\n",
      "1\n"
     ]
    },
    {
     "name": "stderr",
     "output_type": "stream",
     "text": [
      "247140it [07:10, 574.66it/s]\n"
     ]
    },
    {
     "name": "stdout",
     "output_type": "stream",
     "text": [
      "got faces\n",
      "KNN Radius :  0.006752086811558033\n",
      "0\n",
      "expanded\n",
      "coloring\n",
      "_________________________Second Object_________________________\n",
      "start\n",
      "piece2.ply\n",
      "small object\n",
      "my number is ->  0.0034162255859375\n",
      "starting init\n",
      "starting calculating atts\n"
     ]
    },
    {
     "name": "stderr",
     "output_type": "stream",
     "text": [
      "100%|██████████████████████████████████████████████████████████████████████████| 30263/30263 [00:11<00:00, 2620.56it/s]\n"
     ]
    },
    {
     "name": "stdout",
     "output_type": "stream",
     "text": [
      "my radius is :  0.005674372796985649\n",
      "347037\n",
      "After graph 30263\n",
      "constructing borders\n",
      "2457\n",
      "shortest_allowed_branch_length 495.6813492557491\n",
      "smallest_isolated_island_length 495.6813492557491\n",
      "shortest_cycle_length 495.6813492557491\n",
      "my radius is :  0.01125652780642981\n",
      "55215\n",
      "After graph 2184\n",
      "After Pruning 0\n",
      "After Pruning 239\n",
      "dilation and segmentation\n",
      "borders dilated\n"
     ]
    },
    {
     "name": "stderr",
     "output_type": "stream",
     "text": [
      "48380it [01:26, 707.89it/s]                                                                                            "
     ]
    },
    {
     "name": "stdout",
     "output_type": "stream",
     "text": [
      "4200\n"
     ]
    },
    {
     "name": "stderr",
     "output_type": "stream",
     "text": [
      "234238it [06:20, 634.66it/s]"
     ]
    },
    {
     "name": "stdout",
     "output_type": "stream",
     "text": [
      "16202\n"
     ]
    },
    {
     "name": "stderr",
     "output_type": "stream",
     "text": [
      "258426it [06:58, 754.28it/s]"
     ]
    },
    {
     "name": "stdout",
     "output_type": "stream",
     "text": [
      "2217\n"
     ]
    },
    {
     "name": "stderr",
     "output_type": "stream",
     "text": [
      "\r",
      "258509it [06:59, 182.25it/s]"
     ]
    },
    {
     "name": "stdout",
     "output_type": "stream",
     "text": [
      "10\n"
     ]
    },
    {
     "name": "stderr",
     "output_type": "stream",
     "text": [
      "258558it [07:01, 614.06it/s]\n"
     ]
    },
    {
     "name": "stdout",
     "output_type": "stream",
     "text": [
      "got faces\n",
      "KNN Radius :  0.005674372796985649\n",
      "35\n",
      "expanded\n",
      "coloring\n",
      "_________________________Registeration_________________________\n",
      "_________________________Evaluation_________________________\n"
     ]
    }
   ],
   "source": [
    "import ast\n",
    "\n",
    "from runner import test\n",
    "import numpy as np\n",
    "\n",
    "object_number = 1\n",
    "\n",
    "#objects\n",
    "Obj1_url = objects[object_number][\"Obj1_url\"]\n",
    "Obj2_url = objects[object_number][\"Obj2_url\"]\n",
    "\n",
    "#Before Evaluate do a Rotation and translation of\n",
    "init_R_T = ((0.2, 0.2, 0.1), (-0.5, -0.5, -0.5))\n",
    "\n",
    "\n",
    "#pipline name and pipline parameters\n",
    "pipline_name = \"general_pipeline\"\n",
    "\n",
    "#sampling\n",
    "large_object = objects[object_number][\"large_object\"]\n",
    "small_object = objects[object_number][\"small_object\"]\n",
    "\n",
    "\n",
    "N = 15\n",
    "Object_t1 = objects[object_number][\"to1\"]\n",
    "Object_t2 = objects[object_number][\"to2\"]\n",
    "Object_t3 = objects[object_number][\"to3\"]\n",
    "\n",
    "border_t1 = objects[object_number][\"tb1\"]\n",
    "border_t2 = objects[object_number][\"tb1\"]\n",
    "border_t3 = objects[object_number][\"tb1\"]\n",
    "\n",
    "\n",
    "#threshold for corner\n",
    "thre = objects[object_number][\"thre\"]\n",
    "\n",
    "dilation_size = objects[object_number][\"dilation_size\"]\n",
    "\n",
    "pipline_variables = (small_object, large_object, N, Object_t1, Object_t2,\n",
    "                     Object_t3, border_t1, border_t2, border_t3, dilation_size, thre)\n",
    "\n",
    "#test\n",
    "test_name = \"ICP_test\"\n",
    "\n",
    "# eval \n",
    "\n",
    "eval_list = [\"rms\"]\n",
    "\n",
    "test_breaking_thin = test(Obj2_url, Obj1_url, init_R_T, pipline_name, pipline_variables, test_name, eval_list, show_results = True, save_results=False)\n",
    "\n",
    "my_results = test_breaking_thin.run()"
   ]
  },
  {
   "cell_type": "code",
   "execution_count": 30,
   "id": "feeacaac",
   "metadata": {},
   "outputs": [
    {
     "data": {
      "text/html": [
       "<div>\n",
       "<style scoped>\n",
       "    .dataframe tbody tr th:only-of-type {\n",
       "        vertical-align: middle;\n",
       "    }\n",
       "\n",
       "    .dataframe tbody tr th {\n",
       "        vertical-align: top;\n",
       "    }\n",
       "\n",
       "    .dataframe thead th {\n",
       "        text-align: right;\n",
       "    }\n",
       "</style>\n",
       "<table border=\"1\" class=\"dataframe\">\n",
       "  <thead>\n",
       "    <tr style=\"text-align: right;\">\n",
       "      <th></th>\n",
       "      <th>index</th>\n",
       "      <th>o1</th>\n",
       "      <th>o2</th>\n",
       "      <th>chamfer</th>\n",
       "    </tr>\n",
       "  </thead>\n",
       "  <tbody>\n",
       "    <tr>\n",
       "      <th>8</th>\n",
       "      <td>8</td>\n",
       "      <td>2</td>\n",
       "      <td>2</td>\n",
       "      <td>0.010871</td>\n",
       "    </tr>\n",
       "    <tr>\n",
       "      <th>10</th>\n",
       "      <td>10</td>\n",
       "      <td>3</td>\n",
       "      <td>1</td>\n",
       "      <td>0.026462</td>\n",
       "    </tr>\n",
       "    <tr>\n",
       "      <th>4</th>\n",
       "      <td>4</td>\n",
       "      <td>1</td>\n",
       "      <td>1</td>\n",
       "      <td>0.030961</td>\n",
       "    </tr>\n",
       "    <tr>\n",
       "      <th>7</th>\n",
       "      <td>7</td>\n",
       "      <td>2</td>\n",
       "      <td>1</td>\n",
       "      <td>0.042063</td>\n",
       "    </tr>\n",
       "    <tr>\n",
       "      <th>5</th>\n",
       "      <td>5</td>\n",
       "      <td>1</td>\n",
       "      <td>2</td>\n",
       "      <td>0.046042</td>\n",
       "    </tr>\n",
       "    <tr>\n",
       "      <th>11</th>\n",
       "      <td>11</td>\n",
       "      <td>3</td>\n",
       "      <td>2</td>\n",
       "      <td>0.046676</td>\n",
       "    </tr>\n",
       "    <tr>\n",
       "      <th>6</th>\n",
       "      <td>6</td>\n",
       "      <td>2</td>\n",
       "      <td>0</td>\n",
       "      <td>0.076597</td>\n",
       "    </tr>\n",
       "    <tr>\n",
       "      <th>3</th>\n",
       "      <td>3</td>\n",
       "      <td>1</td>\n",
       "      <td>0</td>\n",
       "      <td>0.088553</td>\n",
       "    </tr>\n",
       "    <tr>\n",
       "      <th>9</th>\n",
       "      <td>9</td>\n",
       "      <td>3</td>\n",
       "      <td>0</td>\n",
       "      <td>0.096831</td>\n",
       "    </tr>\n",
       "    <tr>\n",
       "      <th>1</th>\n",
       "      <td>1</td>\n",
       "      <td>0</td>\n",
       "      <td>1</td>\n",
       "      <td>0.103636</td>\n",
       "    </tr>\n",
       "    <tr>\n",
       "      <th>0</th>\n",
       "      <td>0</td>\n",
       "      <td>0</td>\n",
       "      <td>0</td>\n",
       "      <td>0.117197</td>\n",
       "    </tr>\n",
       "    <tr>\n",
       "      <th>2</th>\n",
       "      <td>2</td>\n",
       "      <td>0</td>\n",
       "      <td>2</td>\n",
       "      <td>0.124329</td>\n",
       "    </tr>\n",
       "  </tbody>\n",
       "</table>\n",
       "</div>"
      ],
      "text/plain": [
       "    index  o1  o2   chamfer\n",
       "8       8   2   2  0.010871\n",
       "10     10   3   1  0.026462\n",
       "4       4   1   1  0.030961\n",
       "7       7   2   1  0.042063\n",
       "5       5   1   2  0.046042\n",
       "11     11   3   2  0.046676\n",
       "6       6   2   0  0.076597\n",
       "3       3   1   0  0.088553\n",
       "9       9   3   0  0.096831\n",
       "1       1   0   1  0.103636\n",
       "0       0   0   0  0.117197\n",
       "2       2   0   2  0.124329"
      ]
     },
     "execution_count": 30,
     "metadata": {},
     "output_type": "execute_result"
    }
   ],
   "source": [
    "get_winner_pair(test_breaking_thin)"
   ]
  },
  {
   "cell_type": "code",
   "execution_count": 29,
   "id": "d67d3973",
   "metadata": {},
   "outputs": [
    {
     "data": {
      "text/html": [
       "<div>\n",
       "<style scoped>\n",
       "    .dataframe tbody tr th:only-of-type {\n",
       "        vertical-align: middle;\n",
       "    }\n",
       "\n",
       "    .dataframe tbody tr th {\n",
       "        vertical-align: top;\n",
       "    }\n",
       "\n",
       "    .dataframe thead th {\n",
       "        text-align: right;\n",
       "    }\n",
       "</style>\n",
       "<table border=\"1\" class=\"dataframe\">\n",
       "  <thead>\n",
       "    <tr style=\"text-align: right;\">\n",
       "      <th></th>\n",
       "      <th>o1</th>\n",
       "      <th>o2</th>\n",
       "      <th>R_error</th>\n",
       "      <th>T_error</th>\n",
       "      <th>total</th>\n",
       "    </tr>\n",
       "  </thead>\n",
       "  <tbody>\n",
       "    <tr>\n",
       "      <th>8</th>\n",
       "      <td>2</td>\n",
       "      <td>2</td>\n",
       "      <td>5.445350</td>\n",
       "      <td>0.006108</td>\n",
       "      <td>5.451458</td>\n",
       "    </tr>\n",
       "    <tr>\n",
       "      <th>10</th>\n",
       "      <td>3</td>\n",
       "      <td>1</td>\n",
       "      <td>4.768334</td>\n",
       "      <td>0.084660</td>\n",
       "      <td>4.852994</td>\n",
       "    </tr>\n",
       "    <tr>\n",
       "      <th>3</th>\n",
       "      <td>1</td>\n",
       "      <td>0</td>\n",
       "      <td>5.147565</td>\n",
       "      <td>0.194037</td>\n",
       "      <td>5.341602</td>\n",
       "    </tr>\n",
       "    <tr>\n",
       "      <th>9</th>\n",
       "      <td>3</td>\n",
       "      <td>0</td>\n",
       "      <td>3.663123</td>\n",
       "      <td>0.299408</td>\n",
       "      <td>3.962531</td>\n",
       "    </tr>\n",
       "    <tr>\n",
       "      <th>7</th>\n",
       "      <td>2</td>\n",
       "      <td>1</td>\n",
       "      <td>5.871785</td>\n",
       "      <td>0.490908</td>\n",
       "      <td>6.362693</td>\n",
       "    </tr>\n",
       "    <tr>\n",
       "      <th>11</th>\n",
       "      <td>3</td>\n",
       "      <td>2</td>\n",
       "      <td>3.721386</td>\n",
       "      <td>0.544615</td>\n",
       "      <td>4.266001</td>\n",
       "    </tr>\n",
       "    <tr>\n",
       "      <th>5</th>\n",
       "      <td>1</td>\n",
       "      <td>2</td>\n",
       "      <td>4.914967</td>\n",
       "      <td>0.571343</td>\n",
       "      <td>5.486311</td>\n",
       "    </tr>\n",
       "    <tr>\n",
       "      <th>1</th>\n",
       "      <td>0</td>\n",
       "      <td>1</td>\n",
       "      <td>4.926005</td>\n",
       "      <td>0.638539</td>\n",
       "      <td>5.564544</td>\n",
       "    </tr>\n",
       "    <tr>\n",
       "      <th>6</th>\n",
       "      <td>2</td>\n",
       "      <td>0</td>\n",
       "      <td>4.686902</td>\n",
       "      <td>0.651526</td>\n",
       "      <td>5.338427</td>\n",
       "    </tr>\n",
       "    <tr>\n",
       "      <th>0</th>\n",
       "      <td>0</td>\n",
       "      <td>0</td>\n",
       "      <td>4.836084</td>\n",
       "      <td>0.651854</td>\n",
       "      <td>5.487938</td>\n",
       "    </tr>\n",
       "    <tr>\n",
       "      <th>2</th>\n",
       "      <td>0</td>\n",
       "      <td>2</td>\n",
       "      <td>5.002110</td>\n",
       "      <td>1.367532</td>\n",
       "      <td>6.369642</td>\n",
       "    </tr>\n",
       "    <tr>\n",
       "      <th>4</th>\n",
       "      <td>1</td>\n",
       "      <td>1</td>\n",
       "      <td>5.787760</td>\n",
       "      <td>1.480256</td>\n",
       "      <td>7.268016</td>\n",
       "    </tr>\n",
       "  </tbody>\n",
       "</table>\n",
       "</div>"
      ],
      "text/plain": [
       "    o1  o2   R_error   T_error     total\n",
       "8    2   2  5.445350  0.006108  5.451458\n",
       "10   3   1  4.768334  0.084660  4.852994\n",
       "3    1   0  5.147565  0.194037  5.341602\n",
       "9    3   0  3.663123  0.299408  3.962531\n",
       "7    2   1  5.871785  0.490908  6.362693\n",
       "11   3   2  3.721386  0.544615  4.266001\n",
       "5    1   2  4.914967  0.571343  5.486311\n",
       "1    0   1  4.926005  0.638539  5.564544\n",
       "6    2   0  4.686902  0.651526  5.338427\n",
       "0    0   0  4.836084  0.651854  5.487938\n",
       "2    0   2  5.002110  1.367532  6.369642\n",
       "4    1   1  5.787760  1.480256  7.268016"
      ]
     },
     "execution_count": 29,
     "metadata": {},
     "output_type": "execute_result"
    }
   ],
   "source": [
    "import pandas as pd\n",
    "df_breaking_3 = pd.DataFrame(test_breaking_thin.results)\n",
    "df_breaking_3[\"total\"] = df_breaking_3[\"R_error\"]+df_breaking_3[\"T_error\"]\n",
    "df_breaking_3.sort_values('T_error')"
   ]
  },
  {
   "cell_type": "code",
   "execution_count": null,
   "id": "dbb32eac",
   "metadata": {},
   "outputs": [],
   "source": []
  }
 ],
 "metadata": {
  "kernelspec": {
   "display_name": ".env",
   "language": "python",
   "name": ".env"
  },
  "language_info": {
   "codemirror_mode": {
    "name": "ipython",
    "version": 3
   },
   "file_extension": ".py",
   "mimetype": "text/x-python",
   "name": "python",
   "nbconvert_exporter": "python",
   "pygments_lexer": "ipython3",
   "version": "3.9.0"
  }
 },
 "nbformat": 4,
 "nbformat_minor": 5
}
