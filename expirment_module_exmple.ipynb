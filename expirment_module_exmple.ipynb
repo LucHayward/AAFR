{
 "cells": [
  {
   "cell_type": "code",
   "execution_count": 1,
   "id": "ce47384c",
   "metadata": {},
   "outputs": [
    {
     "name": "stdout",
     "output_type": "stream",
     "text": [
      "Jupyter environment detected. Enabling Open3D WebVisualizer.\n",
      "[Open3D INFO] WebRTC GUI backend enabled.\n",
      "[Open3D INFO] WebRTCWindowSystem: HTTP handshake server disabled.\n"
     ]
    }
   ],
   "source": [
    "from runner import experiment"
   ]
  },
  {
   "cell_type": "code",
   "execution_count": 2,
   "id": "bd1b0dad",
   "metadata": {},
   "outputs": [
    {
     "name": "stdout",
     "output_type": "stream",
     "text": [
      "{'data': [['data_test/pairwise/repair_group8_pair2/RPf_00059_gt.ply', 'data_test/pairwise/repair_group8_pair2/RPf_00061_gt.ply']], 'rotation': {'x': [0], 'y': [0], 'z': [0]}, 'translation': {'x': [0], 'y': [0], 'z': [0]}, 'piplines': [{'name': ['pipline_1'], 'para1': [15], 'para2': [2], 'para3': [2], 'para4': [2], 'para5': [0.92]}], 'tests': [['ICP_test']], 'evaluation': ['rms'], 'save_results': True}\n"
     ]
    }
   ],
   "source": [
    "my_expirments = experiment(\"test.yaml\")"
   ]
  },
  {
   "cell_type": "code",
   "execution_count": null,
   "id": "10b89bc1",
   "metadata": {},
   "outputs": [
    {
     "data": {
      "application/vnd.jupyter.widget-view+json": {
       "model_id": "ba39e2720b934428beda3b489b21f604",
       "version_major": 2,
       "version_minor": 0
      },
      "text/plain": [
       "  0%|          | 0/1 [00:00<?, ?it/s]"
      ]
     },
     "metadata": {},
     "output_type": "display_data"
    },
    {
     "name": "stdout",
     "output_type": "stream",
     "text": [
      "start\n",
      "\u001b[1;33m[Open3D WARNING] Read PLY failed: unable to read file: data_test/pairwise/repair_group8_pair2/RPf_00059_gt.ply\u001b[0;m\n"
     ]
    },
    {
     "name": "stderr",
     "output_type": "stream",
     "text": [
      "RPly: Error reading value number 2 of 'vertex_indices' of 'face' number 47266\n"
     ]
    },
    {
     "name": "stdout",
     "output_type": "stream",
     "text": [
      "starting init\n"
     ]
    },
    {
     "name": "stderr",
     "output_type": "stream",
     "text": [
      "/home/ali.alagrami/project/AAFR/Fragment.py:163: RuntimeWarning: invalid value encountered in divide\n",
      "  e_vectors_dir = e_vectors/np.repeat(e_vectors_mag.reshape(e_vectors_mag.shape[0],e_vectors_mag.shape[1],1),3,axis=2)\n"
     ]
    },
    {
     "name": "stdout",
     "output_type": "stream",
     "text": [
      "starting threshold\n",
      "create graph\n",
      "my radius is :  3.8325504654134885\n"
     ]
    },
    {
     "name": "stderr",
     "output_type": "stream",
     "text": [
      "100%|█████████████████████████████████████████████████████████████████████████████████████████████████████████████████████████████████████████████████████| 5556/5556 [00:04<00:00, 1335.15it/s]\n"
     ]
    },
    {
     "name": "stdout",
     "output_type": "stream",
     "text": [
      "After graph 5238\n",
      "After Pruning 770\n",
      "start\n",
      "\u001b[1;33m[Open3D WARNING] Read PLY failed: unable to read file: data_test/pairwise/repair_group8_pair2/RPf_00061_gt.ply\u001b[0;m\n"
     ]
    },
    {
     "name": "stderr",
     "output_type": "stream",
     "text": [
      "RPly: Error reading 'y' of 'vertex' number 533637\n"
     ]
    },
    {
     "name": "stdout",
     "output_type": "stream",
     "text": [
      "starting init\n"
     ]
    }
   ],
   "source": [
    "my_expirments.run()"
   ]
  },
  {
   "cell_type": "code",
   "execution_count": null,
   "id": "90c4a056",
   "metadata": {},
   "outputs": [],
   "source": [
    "my_expirments.results"
   ]
  },
  {
   "cell_type": "code",
   "execution_count": null,
   "id": "846c6932",
   "metadata": {},
   "outputs": [],
   "source": [
    "import open3d as o3d\n",
    "o3d.__version__"
   ]
  },
  {
   "cell_type": "code",
   "execution_count": null,
   "id": "858862d8",
   "metadata": {},
   "outputs": [],
   "source": [
    "pip uninstall open3d\n"
   ]
  },
  {
   "cell_type": "code",
   "execution_count": null,
   "id": "58dec112",
   "metadata": {},
   "outputs": [],
   "source": [
    "pip install open3d"
   ]
  },
  {
   "cell_type": "code",
   "execution_count": null,
   "id": "5e10e549",
   "metadata": {},
   "outputs": [],
   "source": [
    "import open3d as o3d\n",
    "pcd = o3d.io.read_point_cloud(\"data_test/test/repair_group15_pair1/RPf_00105_gt.ply\")"
   ]
  },
  {
   "cell_type": "code",
   "execution_count": null,
   "id": "ef78306d",
   "metadata": {},
   "outputs": [],
   "source": [
    "o3d.visualization.draw_geometries([pcd])"
   ]
  },
  {
   "cell_type": "code",
   "execution_count": null,
   "id": "2433afd1",
   "metadata": {},
   "outputs": [],
   "source": []
  }
 ],
 "metadata": {
  "kernelspec": {
   "display_name": ".env",
   "language": "python",
   "name": ".env"
  },
  "language_info": {
   "codemirror_mode": {
    "name": "ipython",
    "version": 3
   },
   "file_extension": ".py",
   "mimetype": "text/x-python",
   "name": "python",
   "nbconvert_exporter": "python",
   "pygments_lexer": "ipython3",
   "version": "3.9.0"
  }
 },
 "nbformat": 4,
 "nbformat_minor": 5
}
