{
 "cells": [
  {
   "cell_type": "code",
   "execution_count": 1,
   "id": "ce47384c",
   "metadata": {},
   "outputs": [
    {
     "name": "stdout",
     "output_type": "stream",
     "text": [
      "Jupyter environment detected. Enabling Open3D WebVisualizer.\n",
      "[Open3D INFO] WebRTC GUI backend enabled.\n",
      "[Open3D INFO] WebRTCWindowSystem: HTTP handshake server disabled.\n"
     ]
    }
   ],
   "source": [
    "from runner import experiment"
   ]
  },
  {
   "cell_type": "code",
   "execution_count": 2,
   "id": "bd1b0dad",
   "metadata": {},
   "outputs": [
    {
     "name": "stdout",
     "output_type": "stream",
     "text": [
      "{'data': [['data_test\\\\group8_1\\\\RPf_00059_gt.ply', 'data_test\\\\group8_1\\\\RPf_00060_gt.ply']], 'rotation': {'x': [0], 'y': [1.14], 'z': [0.6]}, 'translation': {'x': [0], 'y': [10], 'z': [15]}, 'piplines': [{'name': ['pipline_1'], 'para1': [15], 'para2': array([41.43109057, 43.67423579, 10.01784954]), 'para3': [1, 10, 3], 'para4': array([1., 4., 7.])}], 'tests': [['ICP_test']], 'evaluation': ['rms', 'new_eval']}\n"
     ]
    }
   ],
   "source": [
    "my_expirments = experiment(\"conf1.yaml\")"
   ]
  },
  {
   "cell_type": "code",
   "execution_count": null,
   "id": "10b89bc1",
   "metadata": {},
   "outputs": [
    {
     "data": {
      "application/vnd.jupyter.widget-view+json": {
       "model_id": "83ca8c2f04dd4d74904e8d26d3d74fd7",
       "version_major": 2,
       "version_minor": 0
      },
      "text/plain": [
       "  0%|          | 0/27 [00:00<?, ?it/s]"
      ]
     },
     "metadata": {},
     "output_type": "display_data"
    }
   ],
   "source": [
    "my_expirments.run()"
   ]
  },
  {
   "cell_type": "code",
   "execution_count": null,
   "id": "90c4a056",
   "metadata": {},
   "outputs": [],
   "source": [
    "my_expirments.results"
   ]
  },
  {
   "cell_type": "code",
   "execution_count": null,
   "id": "87f8d932",
   "metadata": {},
   "outputs": [],
   "source": []
  }
 ],
 "metadata": {
  "kernelspec": {
   "display_name": "Python [conda env:thesis]",
   "language": "python",
   "name": "conda-env-thesis-py"
  },
  "language_info": {
   "codemirror_mode": {
    "name": "ipython",
    "version": 3
   },
   "file_extension": ".py",
   "mimetype": "text/x-python",
   "name": "python",
   "nbconvert_exporter": "python",
   "pygments_lexer": "ipython3",
   "version": "3.9.12"
  }
 },
 "nbformat": 4,
 "nbformat_minor": 5
}
