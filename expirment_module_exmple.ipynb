{
 "cells": [
  {
   "cell_type": "code",
   "execution_count": 1,
   "id": "ce47384c",
   "metadata": {},
   "outputs": [
    {
     "name": "stdout",
     "output_type": "stream",
     "text": [
      "Jupyter environment detected. Enabling Open3D WebVisualizer.\n",
      "[Open3D INFO] WebRTC GUI backend enabled.\n",
      "[Open3D INFO] WebRTCWindowSystem: HTTP handshake server disabled.\n"
     ]
    }
   ],
   "source": [
    "from runner import experiment"
   ]
  },
  {
   "cell_type": "code",
   "execution_count": 2,
   "id": "bd1b0dad",
   "metadata": {},
   "outputs": [
    {
     "name": "stdout",
     "output_type": "stream",
     "text": [
      "{'data': [['data_test/test\\\\repair_group8_pair1\\\\RPf_00059_gt.ply', 'data_test/test\\\\repair_group8_pair1\\\\RPf_00060_gt.ply']], 'rotation': {'x': [0], 'y': [0], 'z': [0]}, 'translation': {'x': [0], 'y': [0], 'z': [0]}, 'piplines': [{'name': ['pipline_1'], 'para1': [15], 'para2': [2], 'para3': [2], 'para4': [2], 'para5': [0.92]}], 'tests': [['ICP_test']], 'evaluation': ['rms'], 'save_results': True}\n"
     ]
    }
   ],
   "source": [
    "my_expirments = experiment(\"test.yaml\")"
   ]
  },
  {
   "cell_type": "code",
   "execution_count": null,
   "id": "10b89bc1",
   "metadata": {},
   "outputs": [
    {
     "data": {
      "application/vnd.jupyter.widget-view+json": {
       "model_id": "416362b2b2d44547af88f81de98e931b",
       "version_major": 2,
       "version_minor": 0
      },
      "text/plain": [
       "  0%|          | 0/1 [00:00<?, ?it/s]"
      ]
     },
     "metadata": {},
     "output_type": "display_data"
    }
   ],
   "source": [
    "my_expirments.run()"
   ]
  },
  {
   "cell_type": "code",
   "execution_count": null,
   "id": "90c4a056",
   "metadata": {},
   "outputs": [],
   "source": [
    "my_expirments.results"
   ]
  },
  {
   "cell_type": "code",
   "execution_count": null,
   "id": "846c6932",
   "metadata": {},
   "outputs": [],
   "source": []
  }
 ],
 "metadata": {
  "kernelspec": {
   "display_name": "Python [conda env:thesis]",
   "language": "python",
   "name": "conda-env-thesis-py"
  },
  "language_info": {
   "codemirror_mode": {
    "name": "ipython",
    "version": 3
   },
   "file_extension": ".py",
   "mimetype": "text/x-python",
   "name": "python",
   "nbconvert_exporter": "python",
   "pygments_lexer": "ipython3",
   "version": "3.9.12"
  }
 },
 "nbformat": 4,
 "nbformat_minor": 5
}
