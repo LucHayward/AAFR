{
 "cells": [
  {
   "cell_type": "code",
   "execution_count": 1,
   "id": "ce47384c",
   "metadata": {},
   "outputs": [
    {
     "name": "stdout",
     "output_type": "stream",
     "text": [
      "Jupyter environment detected. Enabling Open3D WebVisualizer.\n",
      "[Open3D INFO] WebRTC GUI backend enabled.\n",
      "[Open3D INFO] WebRTCWindowSystem: HTTP handshake server disabled.\n"
     ]
    }
   ],
   "source": [
    "from runner import experiment"
   ]
  },
  {
   "cell_type": "code",
   "execution_count": 2,
   "id": "bd1b0dad",
   "metadata": {},
   "outputs": [
    {
     "name": "stdout",
     "output_type": "stream",
     "text": [
      "{'data': [['data_test\\\\group8_1\\\\RPf_00059_gt.ply', 'data_test\\\\group8_1\\\\RPf_00060_gt.ply']], 'rotation': {'x': [0], 'y': [0], 'z': [0]}, 'translation': {'x': [0], 'y': [0], 'z': [0]}, 'piplines': [{'name': ['pipline_1'], 'para1': [15], 'para2': array([2.64003646, 2.37888993]), 'para3': [1, 10, 5], 'para4': array([1., 6.])}], 'tests': [['ICP_test']], 'evaluation': ['rms']}\n"
     ]
    }
   ],
   "source": [
    "my_expirments = experiment(\"conf1.yaml\")"
   ]
  },
  {
   "cell_type": "code",
   "execution_count": 3,
   "id": "10b89bc1",
   "metadata": {},
   "outputs": [
    {
     "data": {
      "application/vnd.jupyter.widget-view+json": {
       "model_id": "98b450495ca04474b9553b70e2f34947",
       "version_major": 2,
       "version_minor": 0
      },
      "text/plain": [
       "  0%|          | 0/12 [00:00<?, ?it/s]"
      ]
     },
     "metadata": {},
     "output_type": "display_data"
    }
   ],
   "source": [
    "my_expirments.run()"
   ]
  },
  {
   "cell_type": "code",
   "execution_count": 4,
   "id": "90c4a056",
   "metadata": {},
   "outputs": [
    {
     "data": {
      "text/html": [
       "<div>\n",
       "<style scoped>\n",
       "    .dataframe tbody tr th:only-of-type {\n",
       "        vertical-align: middle;\n",
       "    }\n",
       "\n",
       "    .dataframe tbody tr th {\n",
       "        vertical-align: top;\n",
       "    }\n",
       "\n",
       "    .dataframe thead th {\n",
       "        text-align: right;\n",
       "    }\n",
       "</style>\n",
       "<table border=\"1\" class=\"dataframe\">\n",
       "  <thead>\n",
       "    <tr style=\"text-align: right;\">\n",
       "      <th></th>\n",
       "      <th>obj1</th>\n",
       "      <th>obj2</th>\n",
       "      <th>pipeline</th>\n",
       "      <th>params</th>\n",
       "      <th>R &amp; T</th>\n",
       "      <th>test</th>\n",
       "      <th>status</th>\n",
       "    </tr>\n",
       "  </thead>\n",
       "  <tbody>\n",
       "    <tr>\n",
       "      <th>0</th>\n",
       "      <td>data_test\\group8_1\\RPf_00059_gt.ply</td>\n",
       "      <td>data_test\\group8_1\\RPf_00060_gt.ply</td>\n",
       "      <td>pipline_1</td>\n",
       "      <td>(15, 2.6400364561791703, 1, 6.0)</td>\n",
       "      <td>((0, 0, 0), (0, 0, 0))</td>\n",
       "      <td>ICP_test</td>\n",
       "      <td>Failed</td>\n",
       "    </tr>\n",
       "    <tr>\n",
       "      <th>1</th>\n",
       "      <td>data_test\\group8_1\\RPf_00059_gt.ply</td>\n",
       "      <td>data_test\\group8_1\\RPf_00060_gt.ply</td>\n",
       "      <td>pipline_1</td>\n",
       "      <td>(15, 2.6400364561791703, 10, 6.0)</td>\n",
       "      <td>((0, 0, 0), (0, 0, 0))</td>\n",
       "      <td>ICP_test</td>\n",
       "      <td>Failed</td>\n",
       "    </tr>\n",
       "    <tr>\n",
       "      <th>2</th>\n",
       "      <td>data_test\\group8_1\\RPf_00059_gt.ply</td>\n",
       "      <td>data_test\\group8_1\\RPf_00060_gt.ply</td>\n",
       "      <td>pipline_1</td>\n",
       "      <td>(15, 2.6400364561791703, 10, 1.0)</td>\n",
       "      <td>((0, 0, 0), (0, 0, 0))</td>\n",
       "      <td>ICP_test</td>\n",
       "      <td>Failed</td>\n",
       "    </tr>\n",
       "    <tr>\n",
       "      <th>3</th>\n",
       "      <td>data_test\\group8_1\\RPf_00059_gt.ply</td>\n",
       "      <td>data_test\\group8_1\\RPf_00060_gt.ply</td>\n",
       "      <td>pipline_1</td>\n",
       "      <td>(15, 2.6400364561791703, 1, 1.0)</td>\n",
       "      <td>((0, 0, 0), (0, 0, 0))</td>\n",
       "      <td>ICP_test</td>\n",
       "      <td>Failed</td>\n",
       "    </tr>\n",
       "    <tr>\n",
       "      <th>4</th>\n",
       "      <td>data_test\\group8_1\\RPf_00059_gt.ply</td>\n",
       "      <td>data_test\\group8_1\\RPf_00060_gt.ply</td>\n",
       "      <td>pipline_1</td>\n",
       "      <td>(15, 2.6400364561791703, 5, 6.0)</td>\n",
       "      <td>((0, 0, 0), (0, 0, 0))</td>\n",
       "      <td>ICP_test</td>\n",
       "      <td>Failed</td>\n",
       "    </tr>\n",
       "    <tr>\n",
       "      <th>5</th>\n",
       "      <td>data_test\\group8_1\\RPf_00059_gt.ply</td>\n",
       "      <td>data_test\\group8_1\\RPf_00060_gt.ply</td>\n",
       "      <td>pipline_1</td>\n",
       "      <td>(15, 2.6400364561791703, 5, 1.0)</td>\n",
       "      <td>((0, 0, 0), (0, 0, 0))</td>\n",
       "      <td>ICP_test</td>\n",
       "      <td>Failed</td>\n",
       "    </tr>\n",
       "    <tr>\n",
       "      <th>6</th>\n",
       "      <td>data_test\\group8_1\\RPf_00059_gt.ply</td>\n",
       "      <td>data_test\\group8_1\\RPf_00060_gt.ply</td>\n",
       "      <td>pipline_1</td>\n",
       "      <td>(15, 2.3788899257797698, 1, 6.0)</td>\n",
       "      <td>((0, 0, 0), (0, 0, 0))</td>\n",
       "      <td>ICP_test</td>\n",
       "      <td>Failed</td>\n",
       "    </tr>\n",
       "    <tr>\n",
       "      <th>7</th>\n",
       "      <td>data_test\\group8_1\\RPf_00059_gt.ply</td>\n",
       "      <td>data_test\\group8_1\\RPf_00060_gt.ply</td>\n",
       "      <td>pipline_1</td>\n",
       "      <td>(15, 2.3788899257797698, 1, 1.0)</td>\n",
       "      <td>((0, 0, 0), (0, 0, 0))</td>\n",
       "      <td>ICP_test</td>\n",
       "      <td>Failed</td>\n",
       "    </tr>\n",
       "    <tr>\n",
       "      <th>8</th>\n",
       "      <td>data_test\\group8_1\\RPf_00059_gt.ply</td>\n",
       "      <td>data_test\\group8_1\\RPf_00060_gt.ply</td>\n",
       "      <td>pipline_1</td>\n",
       "      <td>(15, 2.3788899257797698, 10, 6.0)</td>\n",
       "      <td>((0, 0, 0), (0, 0, 0))</td>\n",
       "      <td>ICP_test</td>\n",
       "      <td>Failed</td>\n",
       "    </tr>\n",
       "    <tr>\n",
       "      <th>9</th>\n",
       "      <td>data_test\\group8_1\\RPf_00059_gt.ply</td>\n",
       "      <td>data_test\\group8_1\\RPf_00060_gt.ply</td>\n",
       "      <td>pipline_1</td>\n",
       "      <td>(15, 2.3788899257797698, 10, 1.0)</td>\n",
       "      <td>((0, 0, 0), (0, 0, 0))</td>\n",
       "      <td>ICP_test</td>\n",
       "      <td>Failed</td>\n",
       "    </tr>\n",
       "    <tr>\n",
       "      <th>10</th>\n",
       "      <td>data_test\\group8_1\\RPf_00059_gt.ply</td>\n",
       "      <td>data_test\\group8_1\\RPf_00060_gt.ply</td>\n",
       "      <td>pipline_1</td>\n",
       "      <td>(15, 2.3788899257797698, 5, 6.0)</td>\n",
       "      <td>((0, 0, 0), (0, 0, 0))</td>\n",
       "      <td>ICP_test</td>\n",
       "      <td>Failed</td>\n",
       "    </tr>\n",
       "    <tr>\n",
       "      <th>11</th>\n",
       "      <td>data_test\\group8_1\\RPf_00059_gt.ply</td>\n",
       "      <td>data_test\\group8_1\\RPf_00060_gt.ply</td>\n",
       "      <td>pipline_1</td>\n",
       "      <td>(15, 2.3788899257797698, 5, 1.0)</td>\n",
       "      <td>((0, 0, 0), (0, 0, 0))</td>\n",
       "      <td>ICP_test</td>\n",
       "      <td>Failed</td>\n",
       "    </tr>\n",
       "  </tbody>\n",
       "</table>\n",
       "</div>"
      ],
      "text/plain": [
       "                                   obj1                                 obj2  \\\n",
       "0   data_test\\group8_1\\RPf_00059_gt.ply  data_test\\group8_1\\RPf_00060_gt.ply   \n",
       "1   data_test\\group8_1\\RPf_00059_gt.ply  data_test\\group8_1\\RPf_00060_gt.ply   \n",
       "2   data_test\\group8_1\\RPf_00059_gt.ply  data_test\\group8_1\\RPf_00060_gt.ply   \n",
       "3   data_test\\group8_1\\RPf_00059_gt.ply  data_test\\group8_1\\RPf_00060_gt.ply   \n",
       "4   data_test\\group8_1\\RPf_00059_gt.ply  data_test\\group8_1\\RPf_00060_gt.ply   \n",
       "5   data_test\\group8_1\\RPf_00059_gt.ply  data_test\\group8_1\\RPf_00060_gt.ply   \n",
       "6   data_test\\group8_1\\RPf_00059_gt.ply  data_test\\group8_1\\RPf_00060_gt.ply   \n",
       "7   data_test\\group8_1\\RPf_00059_gt.ply  data_test\\group8_1\\RPf_00060_gt.ply   \n",
       "8   data_test\\group8_1\\RPf_00059_gt.ply  data_test\\group8_1\\RPf_00060_gt.ply   \n",
       "9   data_test\\group8_1\\RPf_00059_gt.ply  data_test\\group8_1\\RPf_00060_gt.ply   \n",
       "10  data_test\\group8_1\\RPf_00059_gt.ply  data_test\\group8_1\\RPf_00060_gt.ply   \n",
       "11  data_test\\group8_1\\RPf_00059_gt.ply  data_test\\group8_1\\RPf_00060_gt.ply   \n",
       "\n",
       "     pipeline                             params                   R & T  \\\n",
       "0   pipline_1   (15, 2.6400364561791703, 1, 6.0)  ((0, 0, 0), (0, 0, 0))   \n",
       "1   pipline_1  (15, 2.6400364561791703, 10, 6.0)  ((0, 0, 0), (0, 0, 0))   \n",
       "2   pipline_1  (15, 2.6400364561791703, 10, 1.0)  ((0, 0, 0), (0, 0, 0))   \n",
       "3   pipline_1   (15, 2.6400364561791703, 1, 1.0)  ((0, 0, 0), (0, 0, 0))   \n",
       "4   pipline_1   (15, 2.6400364561791703, 5, 6.0)  ((0, 0, 0), (0, 0, 0))   \n",
       "5   pipline_1   (15, 2.6400364561791703, 5, 1.0)  ((0, 0, 0), (0, 0, 0))   \n",
       "6   pipline_1   (15, 2.3788899257797698, 1, 6.0)  ((0, 0, 0), (0, 0, 0))   \n",
       "7   pipline_1   (15, 2.3788899257797698, 1, 1.0)  ((0, 0, 0), (0, 0, 0))   \n",
       "8   pipline_1  (15, 2.3788899257797698, 10, 6.0)  ((0, 0, 0), (0, 0, 0))   \n",
       "9   pipline_1  (15, 2.3788899257797698, 10, 1.0)  ((0, 0, 0), (0, 0, 0))   \n",
       "10  pipline_1   (15, 2.3788899257797698, 5, 6.0)  ((0, 0, 0), (0, 0, 0))   \n",
       "11  pipline_1   (15, 2.3788899257797698, 5, 1.0)  ((0, 0, 0), (0, 0, 0))   \n",
       "\n",
       "        test  status  \n",
       "0   ICP_test  Failed  \n",
       "1   ICP_test  Failed  \n",
       "2   ICP_test  Failed  \n",
       "3   ICP_test  Failed  \n",
       "4   ICP_test  Failed  \n",
       "5   ICP_test  Failed  \n",
       "6   ICP_test  Failed  \n",
       "7   ICP_test  Failed  \n",
       "8   ICP_test  Failed  \n",
       "9   ICP_test  Failed  \n",
       "10  ICP_test  Failed  \n",
       "11  ICP_test  Failed  "
      ]
     },
     "execution_count": 4,
     "metadata": {},
     "output_type": "execute_result"
    }
   ],
   "source": [
    "my_expirments.results"
   ]
  },
  {
   "cell_type": "code",
   "execution_count": null,
   "id": "5e080fe4",
   "metadata": {},
   "outputs": [],
   "source": []
  }
 ],
 "metadata": {
  "kernelspec": {
   "display_name": "Python [conda env:thesis]",
   "language": "python",
   "name": "conda-env-thesis-py"
  },
  "language_info": {
   "codemirror_mode": {
    "name": "ipython",
    "version": 3
   },
   "file_extension": ".py",
   "mimetype": "text/x-python",
   "name": "python",
   "nbconvert_exporter": "python",
   "pygments_lexer": "ipython3",
   "version": "3.9.12"
  }
 },
 "nbformat": 4,
 "nbformat_minor": 5
}
