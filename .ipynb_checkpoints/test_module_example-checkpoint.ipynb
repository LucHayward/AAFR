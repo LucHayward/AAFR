{
 "cells": [
  {
   "cell_type": "code",
   "execution_count": 1,
   "id": "d7238b8e",
   "metadata": {},
   "outputs": [
    {
     "name": "stdout",
     "output_type": "stream",
     "text": [
      "Jupyter environment detected. Enabling Open3D WebVisualizer.\n",
      "[Open3D INFO] WebRTC GUI backend enabled.\n",
      "[Open3D INFO] WebRTCWindowSystem: HTTP handshake server disabled.\n"
     ]
    }
   ],
   "source": [
    "from runner import test"
   ]
  },
  {
   "cell_type": "code",
   "execution_count": 5,
   "id": "cf2c85a2",
   "metadata": {},
   "outputs": [],
   "source": [
    "import numpy as np\n",
    "\n",
    "#objects\n",
    "Obj1_url = \"data_test/pairwise/repair_group15_pair1/RPf_00105_gt.ply\"\n",
    "Obj2_url =  \"data_test/pairwise/repair_group15_pair1/RPf_00108_gt.ply\"\n",
    "\n",
    "#Before Evaluate do a Rotation and translation of\n",
    "init_R_T = [( 0, 0, 0),( 0, 0, 10)]\n",
    "\n",
    "\n",
    "#pipline name and pipline parameters\n",
    "pipline_name = \"pipline_1\"\n",
    "\n",
    "N = 15\n",
    "t1 = 2\n",
    "t2 = 2\n",
    "t3 = 2\n",
    "\n",
    "\n",
    "#threshold for corner\n",
    "thre = 0.95\n",
    "\n",
    "pipline_variables = (N, t1, t2, t3, thre)\n",
    "\n",
    "#test\n",
    "test_name = \"ICP_test\"\n",
    "\n",
    "# eval \n",
    "\n",
    "eval_list = [\"rms\"]\n"
   ]
  },
  {
   "cell_type": "code",
   "execution_count": 6,
   "id": "4742c33e",
   "metadata": {},
   "outputs": [],
   "source": [
    "test1 = test(Obj2_url, Obj1_url, init_R_T, pipline_name, pipline_variables, test_name, eval_list, show_results = True, save_results=True)"
   ]
  },
  {
   "cell_type": "code",
   "execution_count": 7,
   "id": "06a3fdbf",
   "metadata": {
    "scrolled": true
   },
   "outputs": [
    {
     "name": "stdout",
     "output_type": "stream",
     "text": [
      "start\n",
      "starting init\n",
      "starting threshold\n",
      "create graph\n",
      "my radius is :  0.03916813958246063\n"
     ]
    },
    {
     "name": "stderr",
     "output_type": "stream",
     "text": [
      "100%|████████████████████████████████████████████████████████████████████████████| 4802/4802 [00:03<00:00, 1526.04it/s]\n"
     ]
    },
    {
     "name": "stdout",
     "output_type": "stream",
     "text": [
      "After graph 4488\n",
      "After Pruning 752\n",
      "start\n",
      "starting init\n",
      "starting threshold\n",
      "create graph\n",
      "my radius is :  0.07894059726986122\n"
     ]
    },
    {
     "name": "stderr",
     "output_type": "stream",
     "text": [
      "100%|████████████████████████████████████████████████████████████████████████████| 3999/3999 [00:02<00:00, 1569.57it/s]\n"
     ]
    },
    {
     "name": "stdout",
     "output_type": "stream",
     "text": [
      "After graph 3677\n",
      "After Pruning 666\n"
     ]
    },
    {
     "data": {
      "text/plain": [
       "{'R_error': 2.66393775502681, 'T_error': 10.051752403917966}"
      ]
     },
     "execution_count": 7,
     "metadata": {},
     "output_type": "execute_result"
    }
   ],
   "source": [
    "test1.run()"
   ]
  },
  {
   "cell_type": "code",
   "execution_count": null,
   "id": "e11e20f9",
   "metadata": {},
   "outputs": [],
   "source": []
  }
 ],
 "metadata": {
  "kernelspec": {
   "display_name": "Python [conda env:thesis]",
   "language": "python",
   "name": "conda-env-thesis-py"
  },
  "language_info": {
   "codemirror_mode": {
    "name": "ipython",
    "version": 3
   },
   "file_extension": ".py",
   "mimetype": "text/x-python",
   "name": "python",
   "nbconvert_exporter": "python",
   "pygments_lexer": "ipython3",
   "version": "3.9.12"
  }
 },
 "nbformat": 4,
 "nbformat_minor": 5
}
