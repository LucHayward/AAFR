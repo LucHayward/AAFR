{
 "cells": [
  {
   "cell_type": "code",
   "execution_count": 1,
   "id": "d7238b8e",
   "metadata": {},
   "outputs": [
    {
     "name": "stdout",
     "output_type": "stream",
     "text": [
      "Jupyter environment detected. Enabling Open3D WebVisualizer.\n",
      "[Open3D INFO] WebRTC GUI backend enabled.\n",
      "[Open3D INFO] WebRTCWindowSystem: HTTP handshake server disabled.\n"
     ]
    }
   ],
   "source": [
    "from runner import test"
   ]
  },
  {
   "cell_type": "code",
   "execution_count": 2,
   "id": "cf2c85a2",
   "metadata": {},
   "outputs": [],
   "source": [
    "import numpy as np\n",
    "\n",
    "#objects\n",
    "Obj1_url = \"data_test/group8_1/RPf_00060_gt.ply\"\n",
    "Obj2_url = \"data_test/group8_1/RPf_00059_gt.ply\"\n",
    "\n",
    "#Before Evaluate do a Rotation and translation of\n",
    "init_R_T = [( 0, 0, 0),( 0, 20, 0)]\n",
    "\n",
    "\n",
    "#pipline name and pipline parameters\n",
    "pipline_name = \"pipline_1\"\n",
    "\n",
    "N = 15\n",
    "t1 = 2\n",
    "t2 = 2\n",
    "t3 = 2\n",
    "\n",
    "\n",
    "#threshold for corner\n",
    "thre = 0.95\n",
    "\n",
    "pipline_variables = (N, t1, t2, t3, thre)\n",
    "\n",
    "#test\n",
    "test_name = \"ICP_test\"\n",
    "\n",
    "# eval \n",
    "\n",
    "eval_list = [\"rms\"]\n"
   ]
  },
  {
   "cell_type": "code",
   "execution_count": 3,
   "id": "4742c33e",
   "metadata": {},
   "outputs": [],
   "source": [
    "test1 = test(Obj2_url, Obj1_url, init_R_T, pipline_name, pipline_variables, test_name, eval_list, show_results = True, save_results=True)"
   ]
  },
  {
   "cell_type": "code",
   "execution_count": 4,
   "id": "06a3fdbf",
   "metadata": {},
   "outputs": [
    {
     "name": "stdout",
     "output_type": "stream",
     "text": [
      "start\n",
      "starting init\n"
     ]
    },
    {
     "name": "stderr",
     "output_type": "stream",
     "text": [
      "C:\\Users\\alial\\Documents\\THESIS\\Fragment.py:161: RuntimeWarning: invalid value encountered in true_divide\n",
      "  e_vectors_dir = e_vectors/np.repeat(e_vectors_mag.reshape(e_vectors_mag.shape[0],e_vectors_mag.shape[1],1),3,axis=2)\n"
     ]
    },
    {
     "name": "stdout",
     "output_type": "stream",
     "text": [
      "starting threshold\n",
      "create graph\n"
     ]
    },
    {
     "name": "stderr",
     "output_type": "stream",
     "text": [
      "100%|████████████████████████████████████████████████████████████████████████████| 8003/8003 [00:02<00:00, 3717.38it/s]\n"
     ]
    },
    {
     "name": "stdout",
     "output_type": "stream",
     "text": [
      "After graph 6954\n",
      "After Pruning 1651\n",
      "start\n",
      "starting init\n",
      "starting threshold\n",
      "create graph\n"
     ]
    },
    {
     "name": "stderr",
     "output_type": "stream",
     "text": [
      "100%|████████████████████████████████████████████████████████████████████████████| 5907/5907 [00:02<00:00, 2674.23it/s]\n"
     ]
    },
    {
     "name": "stdout",
     "output_type": "stream",
     "text": [
      "After graph 5429\n",
      "After Pruning 1209\n"
     ]
    },
    {
     "data": {
      "text/plain": [
       "{'R_error': 3.0388573323571477, 'T_error': 126.92178133352473}"
      ]
     },
     "execution_count": 4,
     "metadata": {},
     "output_type": "execute_result"
    }
   ],
   "source": [
    "test1.run()"
   ]
  },
  {
   "cell_type": "code",
   "execution_count": null,
   "id": "f7ffc655",
   "metadata": {},
   "outputs": [],
   "source": []
  },
  {
   "cell_type": "code",
   "execution_count": null,
   "id": "8f83fd56",
   "metadata": {},
   "outputs": [],
   "source": []
  }
 ],
 "metadata": {
  "kernelspec": {
   "display_name": "Python [conda env:thesis]",
   "language": "python",
   "name": "conda-env-thesis-py"
  },
  "language_info": {
   "codemirror_mode": {
    "name": "ipython",
    "version": 3
   },
   "file_extension": ".py",
   "mimetype": "text/x-python",
   "name": "python",
   "nbconvert_exporter": "python",
   "pygments_lexer": "ipython3",
   "version": "3.9.12"
  }
 },
 "nbformat": 4,
 "nbformat_minor": 5
}
