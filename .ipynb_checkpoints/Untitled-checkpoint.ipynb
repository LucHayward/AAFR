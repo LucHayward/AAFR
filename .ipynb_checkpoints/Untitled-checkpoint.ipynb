{
 "cells": [
  {
   "cell_type": "code",
   "execution_count": 1,
   "metadata": {},
   "outputs": [
    {
     "name": "stdout",
     "output_type": "stream",
     "text": [
      "Jupyter environment detected. Enabling Open3D WebVisualizer.\n",
      "[Open3D INFO] WebRTC GUI backend enabled.\n",
      "[Open3D INFO] WebRTCWindowSystem: HTTP handshake server disabled.\n"
     ]
    }
   ],
   "source": [
    "import helper\n",
    "import numpy as np"
   ]
  },
  {
   "cell_type": "code",
   "execution_count": 2,
   "metadata": {},
   "outputs": [],
   "source": [
    "from disjoint import DisjointSetExtra"
   ]
  },
  {
   "cell_type": "code",
   "execution_count": null,
   "metadata": {},
   "outputs": [],
   "source": []
  },
  {
   "cell_type": "code",
   "execution_count": 3,
   "metadata": {},
   "outputs": [],
   "source": [
    "import pdal"
   ]
  },
  {
   "cell_type": "code",
   "execution_count": 4,
   "metadata": {},
   "outputs": [],
   "source": [
    "from helper import FeatureLines\n",
    "Obj1 = FeatureLines(\"data/brick/pcd4web/fragment.ply\",voxel_size=0.05)"
   ]
  },
  {
   "cell_type": "code",
   "execution_count": 5,
   "metadata": {},
   "outputs": [
    {
     "name": "stderr",
     "output_type": "stream",
     "text": [
      "100%|██████████████████████████████████████████████████████████████████████████| 34950/34950 [00:12<00:00, 2789.42it/s]\n",
      "C:\\Users\\alial\\Documents\\THESIS\\helper.py:153: RuntimeWarning: invalid value encountered in true_divide\n",
      "  e_vectors_dir = e_vectors/np.repeat(e_vectors_mag.reshape(e_vectors_mag.shape[0],e_vectors_mag.shape[1],1),3,axis=2)\n",
      "100%|██████████████████████████████████████████████████████████████████████████| 34950/34950 [00:16<00:00, 2117.49it/s]\n"
     ]
    }
   ],
   "source": [
    "Obj1.init(16)"
   ]
  },
  {
   "cell_type": "code",
   "execution_count": 12,
   "metadata": {},
   "outputs": [
    {
     "name": "stderr",
     "output_type": "stream",
     "text": [
      "100%|█████████████████████████████████████████████████████████████████████████| 34950/34950 [00:01<00:00, 20946.16it/s]\n",
      " 18%|█████████████▉                                                                | 49.1k/276k [00:02<00:12, 17.8kB/s]\n",
      "100%|█████████████████████████████████████████████████████████████████████████| 34950/34950 [00:01<00:00, 21595.86it/s]\n",
      " 66%|██████████████████████████████████████████████████▉                          | 18.2k/27.4k [00:00<00:00, 48.7kB/s]\n"
     ]
    }
   ],
   "source": [
    "Obj1.set_params(alpha=0.2,gamma=0.5,crease_threshold=2.1,border_threshold=2)"
   ]
  },
  {
   "cell_type": "code",
   "execution_count": 13,
   "metadata": {},
   "outputs": [],
   "source": [
    "Obj1.show(\"crease\")"
   ]
  },
  {
   "cell_type": "code",
   "execution_count": 7,
   "metadata": {},
   "outputs": [],
   "source": [
    "Obj1.show_heat(Obj1.w_b2)"
   ]
  },
  {
   "cell_type": "code",
   "execution_count": null,
   "metadata": {},
   "outputs": [],
   "source": [
    "Obj1.border_pattern"
   ]
  },
  {
   "cell_type": "code",
   "execution_count": null,
   "metadata": {},
   "outputs": [],
   "source": [
    "import matplotlib.pyplot as plt\n",
    "data = Obj1.w_k\n",
    "plt.hist(data, bins=2)\n",
    "plt.show()"
   ]
  },
  {
   "cell_type": "code",
   "execution_count": null,
   "metadata": {},
   "outputs": [],
   "source": [
    "Obj1.show_heat(Obj1.w_b2)"
   ]
  },
  {
   "cell_type": "code",
   "execution_count": null,
   "metadata": {},
   "outputs": [],
   "source": [
    "Obj1.show_heat(Obj1.NormalizeData(np.sqrt(np.sum(Obj1.w_b1 * Obj1.w_b1,axis=1))))\n"
   ]
  },
  {
   "cell_type": "code",
   "execution_count": null,
   "metadata": {},
   "outputs": [],
   "source": [
    "Obj1.show(\"heat_border\")"
   ]
  },
  {
   "cell_type": "code",
   "execution_count": null,
   "metadata": {},
   "outputs": [],
   "source": [
    "Obj2 = FeatureLines(\"data/brick/pcd4web/fragment.ply\",voxel_size=0.1)"
   ]
  },
  {
   "cell_type": "code",
   "execution_count": null,
   "metadata": {},
   "outputs": [],
   "source": [
    "Obj2.init(16)"
   ]
  },
  {
   "cell_type": "code",
   "execution_count": null,
   "metadata": {},
   "outputs": [],
   "source": [
    "Obj2.set_params(alpha=0.2,gamma=0.5,T=12)"
   ]
  },
  {
   "cell_type": "code",
   "execution_count": null,
   "metadata": {},
   "outputs": [],
   "source": [
    "Obj1.show(\"border\")"
   ]
  },
  {
   "cell_type": "code",
   "execution_count": null,
   "metadata": {},
   "outputs": [],
   "source": [
    "Obj1.show()"
   ]
  },
  {
   "cell_type": "code",
   "execution_count": null,
   "metadata": {},
   "outputs": [],
   "source": [
    "Obj1.points_q_points[4]"
   ]
  },
  {
   "cell_type": "code",
   "execution_count": null,
   "metadata": {},
   "outputs": [],
   "source": [
    "min(Obj1.e_vectors_mag.flatten())"
   ]
  },
  {
   "cell_type": "code",
   "execution_count": null,
   "metadata": {},
   "outputs": [],
   "source": [
    "m = Obj1.w_c.flatten()"
   ]
  },
  {
   "cell_type": "code",
   "execution_count": null,
   "metadata": {},
   "outputs": [],
   "source": [
    "sorted(m)[-100]"
   ]
  },
  {
   "cell_type": "code",
   "execution_count": null,
   "metadata": {},
   "outputs": [],
   "source": [
    "Obj1.w_b"
   ]
  },
  {
   "cell_type": "code",
   "execution_count": null,
   "metadata": {},
   "outputs": [],
   "source": []
  },
  {
   "cell_type": "code",
   "execution_count": null,
   "metadata": {},
   "outputs": [],
   "source": [
    "# json = \"\"\"\n",
    "# [\n",
    "#     \"C:/Users/alial/Documents/THESIS/data/brick/pcd4web/down_sampled.ply\",\n",
    "#     {\n",
    "#         \"type\": \"filters.delaunay\"\n",
    "#     },\n",
    "#     {\n",
    "#         \"filename\": \"data/brick/pcd4web/output_filtered.ply\",\n",
    "#         \"faces\": true\n",
    "#     }\n",
    "# ]\n",
    "# \"\"\"\n",
    "# import pdal\n",
    "# pipeline = pdal.Pipeline(json)\n",
    "# count = pipeline.execute()\n",
    "# arrays = pipeline.arrays\n",
    "# metadata = pipeline.metadata\n",
    "# log = pipeline.log"
   ]
  }
 ],
 "metadata": {
  "kernelspec": {
   "display_name": "Python [conda env:thesis]",
   "language": "python",
   "name": "conda-env-thesis-py"
  },
  "language_info": {
   "codemirror_mode": {
    "name": "ipython",
    "version": 3
   },
   "file_extension": ".py",
   "mimetype": "text/x-python",
   "name": "python",
   "nbconvert_exporter": "python",
   "pygments_lexer": "ipython3",
   "version": "3.9.12"
  }
 },
 "nbformat": 4,
 "nbformat_minor": 4
}
