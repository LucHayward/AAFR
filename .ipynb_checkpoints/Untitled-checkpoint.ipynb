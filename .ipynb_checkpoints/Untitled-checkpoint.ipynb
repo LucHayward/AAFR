{
 "cells": [
  {
   "cell_type": "code",
   "execution_count": null,
   "metadata": {},
   "outputs": [],
   "source": [
    "import Fragment\n",
    "import numpy as np\n",
    "from tqdm import tqdm"
   ]
  },
  {
   "cell_type": "code",
   "execution_count": null,
   "metadata": {},
   "outputs": [],
   "source": [
    "from Fragment import FeatureLines\n",
    "Obj1 = FeatureLines(\"data/group8/RPf_00060_gt.ply\",voxel_size=0.8)"
   ]
  },
  {
   "cell_type": "code",
   "execution_count": null,
   "metadata": {},
   "outputs": [],
   "source": [
    "len(Obj1.pcd.points)"
   ]
  },
  {
   "cell_type": "code",
   "execution_count": null,
   "metadata": {},
   "outputs": [],
   "source": [
    "Obj1.init(15)"
   ]
  },
  {
   "cell_type": "code",
   "execution_count": null,
   "metadata": {},
   "outputs": [],
   "source": [
    "Obj1.show_heat(Obj1.w_co)"
   ]
  },
  {
   "cell_type": "code",
   "execution_count": null,
   "metadata": {},
   "outputs": [],
   "source": [
    "Obj1.init_graph(alpha=0.7,gamma=0.5)"
   ]
  },
  {
   "cell_type": "code",
   "execution_count": null,
   "metadata": {},
   "outputs": [],
   "source": [
    "Obj1.create_crease(T=1.2,pattern_length_T=1)"
   ]
  },
  {
   "cell_type": "code",
   "execution_count": null,
   "metadata": {},
   "outputs": [],
   "source": [
    "Obj1.create_border(T=1.7,pattern_length_T=1)"
   ]
  },
  {
   "cell_type": "code",
   "execution_count": null,
   "metadata": {},
   "outputs": [],
   "source": [
    "Obj1.show_pattern(Obj1.crease_pattern_pruned)"
   ]
  },
  {
   "cell_type": "code",
   "execution_count": null,
   "metadata": {},
   "outputs": [],
   "source": [
    "from runner import test"
   ]
  },
  {
   "cell_type": "code",
   "execution_count": null,
   "metadata": {
    "scrolled": true
   },
   "outputs": [],
   "source": [
    "import numpy as np\n",
    "\n",
    "#objects\n",
    "Obj1_url = \"data/group8/RPf_00060_gt.ply\"\n",
    "Obj2_url = \"data/group8/RPf_00059_gt.ply\"\n",
    "\n",
    "#Before Evaluate do a Rotation and translation of\n",
    "init_R_T = [(0,20,20),(0,np.pi//8,np.pi//8)]\n",
    "\n",
    "#pipline name and pipline parameters\n",
    "pipline_name = \"pipline_1\"\n",
    "N = 15\n",
    "t1 = 2\n",
    "t2 = 2\n",
    "t3 = 2\n",
    "pipline_variables = (N, t1, t2, t3)\n",
    "test_name = \"ICP_test\"\n",
    "\n",
    "Obj1_url, Obj2_url, init_R_T, pipline_name, pipline_variables\n",
    "\n",
    "\n",
    "test1 = test(Obj1_url, Obj2_url, init_R_T, pipline_name, pipline_variables, test_name)\n",
    "obj1,obj2 = test1.run()"
   ]
  },
  {
   "cell_type": "code",
   "execution_count": 1,
   "metadata": {},
   "outputs": [],
   "source": [
    "def compile_string(string):\n",
    "    string = str(string)\n",
    "    fixed_number = re.compile(\"\\d+(?:\\.\\d+)?\")\n",
    "    range_pattern = re.compile(\"range\\(\\d+(?:\\.\\d+)?,\\d+(?:\\.\\d+)?,\\d+(?:\\.\\d+)?\\)\")\n",
    "    random_pattern = re.compile(\"random\\([+-]?([0-9]*[.])?[0-9]+,[+-]?([0-9]*[.])?[0-9]+\\)\")\n",
    "    if range_pattern.match(string):\n",
    "        start,end,step = re.findall(r\"\\d+(?:\\.\\d+)?\", string, re.I)\n",
    "        my_values = np.arange(float(start), float(end), float(step))\n",
    "    if fixed_number.match(string):\n",
    "        my_values = [float(string)]\n",
    "    return my_values\n",
    "\n",
    "def combination_creation(conf):\n",
    "    import itertools\n",
    "    final_lists = []\n",
    "    data = conf[\"data\"]\n",
    "    rotation = [conf[\"rotation\"][\"x\"],conf[\"rotation\"][\"y\"],conf[\"rotation\"][\"z\"]]\n",
    "    translation = [conf[\"translation\"][\"x\"],conf[\"translation\"][\"y\"],conf[\"translation\"][\"z\"]]\n",
    "    rot_list = itertools.product(*rotation)\n",
    "    \n",
    "    tran_list= itertools.product(*translation)\n",
    "    \n",
    "    rot_tran = itertools.product(*[rot_list,tran_list])\n",
    "    rot_tran_data = itertools.product(*[data,rot_tran])\n",
    "    \n",
    "    pipline_lists = []\n",
    "    for pipline in conf[\"piplines\"]:\n",
    "        pipline_list = itertools.product(*[val for key,val in pipline.items()])\n",
    "        rot_tran_data_pipline = itertools.product(*[rot_tran_data,pipline_list])\n",
    "        pipline_lists.append(list(rot_tran_data_pipline))\n",
    "        \n",
    "    for test in conf[\"tests\"]:\n",
    "        for lst in pipline_lists:\n",
    "            final_lists.append(list(itertools.product(*[lst,test])))\n",
    "            \n",
    "    return list(final_lists)"
   ]
  },
  {
   "cell_type": "code",
   "execution_count": 2,
   "metadata": {},
   "outputs": [
    {
     "name": "stdout",
     "output_type": "stream",
     "text": [
      "{'data': [['data_test\\\\group8\\\\RPf_00059_gt.ply', 'data_test\\\\group8\\\\RPf_00060_gt.ply']], 'rotation': {'x': [0.0], 'y': [1.14], 'z': [0.6]}, 'translation': {'x': [0.0], 'y': [10.0], 'z': [15.0]}, 'piplines': [{'name': ['pipline_1'], 'para1': [15.0], 'para2': array([1., 4.]), 'para3': array([1., 4., 7.]), 'para4': array([1., 4., 7.])}], 'tests': [['ICP_test']]}\n"
     ]
    }
   ],
   "source": [
    "import re\n",
    "import yaml\n",
    "from yaml.loader import SafeLoader\n",
    "import numpy as np\n",
    "import os\n",
    "import os.path\n",
    "import pandas as pd\n",
    "import itertools\n",
    "my_conf = {}\n",
    "with open('expirments_conf/conf1.yaml') as f:\n",
    "    data = yaml.load(f, Loader=SafeLoader)\n",
    "    \n",
    "    for key,val in data.items():\n",
    "        if key == \"data\":\n",
    "            all_data = []\n",
    "            data = []\n",
    "            for dirpath, dirnames, filenames in os.walk(val):\n",
    "                for filename in [f for f in filenames if f.endswith(\".ply\")]:\n",
    "                    data.append((dirpath, os.path.join(dirpath, filename)))\n",
    "            key_func = lambda x: x[0]\n",
    "            for key, group in itertools.groupby(data, key_func):\n",
    "                all_data.append([filename for dirname, filename in list(group)])\n",
    "            my_conf[\"data\"] = all_data\n",
    "            \n",
    "        if key == \"rotation\":\n",
    "            my_conf[\"rotation\"] = {}\n",
    "            for axis_name, axis_val in val.items():\n",
    "                my_conf[\"rotation\"][axis_name] = None\n",
    "                my_conf[\"rotation\"][axis_name] = compile_string(axis_val)\n",
    "        if key == \"translation\":\n",
    "            my_conf[\"translation\"] = {}\n",
    "            for axis_name, axis_val in val.items():\n",
    "                my_conf[\"translation\"][axis_name] = None\n",
    "                my_conf[\"translation\"][axis_name] = compile_string(axis_val)\n",
    "                \n",
    "        if key == \"piplines\":\n",
    "            my_conf[\"piplines\"] = []\n",
    "            for pipline in val:\n",
    "                my_pipline = {\"name\":[pipline[\"name\"]]}\n",
    "                del pipline[\"name\"]\n",
    "                for axis_name, axis_val in pipline.items():\n",
    "                    my_pipline[axis_name] = compile_string(axis_val)\n",
    "                my_conf[\"piplines\"].append(my_pipline)\n",
    "                \n",
    "        if key == \"tests\":\n",
    "            tests = []\n",
    "            for test in val:\n",
    "                tests.append([test[\"name\"]])\n",
    "            my_conf[\"tests\"] = tests\n",
    "    print(my_conf)"
   ]
  },
  {
   "cell_type": "code",
   "execution_count": 3,
   "metadata": {},
   "outputs": [],
   "source": [
    "all_tests = combination_creation(my_conf)"
   ]
  },
  {
   "cell_type": "code",
   "execution_count": 4,
   "metadata": {},
   "outputs": [
    {
     "data": {
      "text/plain": [
       "18"
      ]
     },
     "execution_count": 4,
     "metadata": {},
     "output_type": "execute_result"
    }
   ],
   "source": [
    "len(all_tests[0])\n"
   ]
  },
  {
   "cell_type": "code",
   "execution_count": null,
   "metadata": {},
   "outputs": [],
   "source": []
  },
  {
   "cell_type": "code",
   "execution_count": 5,
   "metadata": {},
   "outputs": [
    {
     "data": {
      "text/plain": [
       "{'name': 'ICP_test'}"
      ]
     },
     "execution_count": 5,
     "metadata": {},
     "output_type": "execute_result"
    }
   ],
   "source": [
    "test"
   ]
  },
  {
   "cell_type": "code",
   "execution_count": 6,
   "metadata": {},
   "outputs": [
    {
     "name": "stdout",
     "output_type": "stream",
     "text": [
      "Jupyter environment detected. Enabling Open3D WebVisualizer.\n",
      "[Open3D INFO] WebRTC GUI backend enabled.\n",
      "[Open3D INFO] WebRTCWindowSystem: HTTP handshake server disabled.\n",
      "18\n"
     ]
    }
   ],
   "source": [
    "from runner import test\n",
    "tests_objects = []\n",
    "for tests in all_tests:\n",
    "    for ((data,rot_tran),pipline),test_name in tests:\n",
    "        Obj1_url,Obj2_url = data\n",
    "        pipline_name,pipline_variables = pipline[0],pipline[1:]\n",
    "        tests_objects.append(test(Obj1_url, Obj2_url,rot_tran, pipline_name,pipline_variables, test_name))\n",
    "print(len(tests_objects))\n",
    "\n",
    "def run_test(test_obj):\n",
    "    r_error, t_error = test_obj.run()\n",
    "    return test_obj.Obj1_url, test_obj.Obj2_url, test_obj.pipline_variables, test_obj.init_R_T, test_obj.result_transformation, test_obj.pipline_name, test_obj.test_name, r_error, t_error \n",
    "    "
   ]
  },
  {
   "cell_type": "code",
   "execution_count": 7,
   "metadata": {},
   "outputs": [
    {
     "data": {
      "application/vnd.jupyter.widget-view+json": {
       "model_id": "155aab0f5ec24d34b885461eba7ba806",
       "version_major": 2,
       "version_minor": 0
      },
      "text/plain": [
       "  0%|          | 0/18 [00:00<?, ?it/s]"
      ]
     },
     "metadata": {},
     "output_type": "display_data"
    }
   ],
   "source": [
    "from p_tqdm import p_umap\n",
    "results = p_umap(run_test, tests_objects)"
   ]
  },
  {
   "cell_type": "code",
   "execution_count": 9,
   "metadata": {},
   "outputs": [],
   "source": [
    "df = pd.DataFrame(results)"
   ]
  },
  {
   "cell_type": "code",
   "execution_count": 10,
   "metadata": {},
   "outputs": [
    {
     "data": {
      "text/html": [
       "<div>\n",
       "<style scoped>\n",
       "    .dataframe tbody tr th:only-of-type {\n",
       "        vertical-align: middle;\n",
       "    }\n",
       "\n",
       "    .dataframe tbody tr th {\n",
       "        vertical-align: top;\n",
       "    }\n",
       "\n",
       "    .dataframe thead th {\n",
       "        text-align: right;\n",
       "    }\n",
       "</style>\n",
       "<table border=\"1\" class=\"dataframe\">\n",
       "  <thead>\n",
       "    <tr style=\"text-align: right;\">\n",
       "      <th></th>\n",
       "      <th>0</th>\n",
       "      <th>1</th>\n",
       "      <th>2</th>\n",
       "      <th>3</th>\n",
       "      <th>4</th>\n",
       "      <th>5</th>\n",
       "      <th>6</th>\n",
       "      <th>7</th>\n",
       "    </tr>\n",
       "  </thead>\n",
       "  <tbody>\n",
       "    <tr>\n",
       "      <th>0</th>\n",
       "      <td>data_test\\group8\\RPf_00059_gt.ply</td>\n",
       "      <td>data_test\\group8\\RPf_00060_gt.ply</td>\n",
       "      <td>(15.0, 1.0, 1.0, 7.0)</td>\n",
       "      <td>((0.0, 1.14, 0.6), (0.0, 10.0, 15.0))</td>\n",
       "      <td>pipline_1</td>\n",
       "      <td>ICP_test</td>\n",
       "      <td>5.624183</td>\n",
       "      <td>158.745035</td>\n",
       "    </tr>\n",
       "    <tr>\n",
       "      <th>1</th>\n",
       "      <td>data_test\\group8\\RPf_00059_gt.ply</td>\n",
       "      <td>data_test\\group8\\RPf_00060_gt.ply</td>\n",
       "      <td>(15.0, 1.0, 1.0, 4.0)</td>\n",
       "      <td>((0.0, 1.14, 0.6), (0.0, 10.0, 15.0))</td>\n",
       "      <td>pipline_1</td>\n",
       "      <td>ICP_test</td>\n",
       "      <td>5.635265</td>\n",
       "      <td>160.068423</td>\n",
       "    </tr>\n",
       "    <tr>\n",
       "      <th>2</th>\n",
       "      <td>data_test\\group8\\RPf_00059_gt.ply</td>\n",
       "      <td>data_test\\group8\\RPf_00060_gt.ply</td>\n",
       "      <td>(15.0, 1.0, 1.0, 1.0)</td>\n",
       "      <td>((0.0, 1.14, 0.6), (0.0, 10.0, 15.0))</td>\n",
       "      <td>pipline_1</td>\n",
       "      <td>ICP_test</td>\n",
       "      <td>5.657790</td>\n",
       "      <td>160.387886</td>\n",
       "    </tr>\n",
       "    <tr>\n",
       "      <th>3</th>\n",
       "      <td>data_test\\group8\\RPf_00059_gt.ply</td>\n",
       "      <td>data_test\\group8\\RPf_00060_gt.ply</td>\n",
       "      <td>(15.0, 1.0, 4.0, 1.0)</td>\n",
       "      <td>((0.0, 1.14, 0.6), (0.0, 10.0, 15.0))</td>\n",
       "      <td>pipline_1</td>\n",
       "      <td>ICP_test</td>\n",
       "      <td>5.766127</td>\n",
       "      <td>161.074932</td>\n",
       "    </tr>\n",
       "    <tr>\n",
       "      <th>4</th>\n",
       "      <td>data_test\\group8\\RPf_00059_gt.ply</td>\n",
       "      <td>data_test\\group8\\RPf_00060_gt.ply</td>\n",
       "      <td>(15.0, 1.0, 4.0, 4.0)</td>\n",
       "      <td>((0.0, 1.14, 0.6), (0.0, 10.0, 15.0))</td>\n",
       "      <td>pipline_1</td>\n",
       "      <td>ICP_test</td>\n",
       "      <td>5.645592</td>\n",
       "      <td>160.196982</td>\n",
       "    </tr>\n",
       "    <tr>\n",
       "      <th>5</th>\n",
       "      <td>data_test\\group8\\RPf_00059_gt.ply</td>\n",
       "      <td>data_test\\group8\\RPf_00060_gt.ply</td>\n",
       "      <td>(15.0, 1.0, 4.0, 7.0)</td>\n",
       "      <td>((0.0, 1.14, 0.6), (0.0, 10.0, 15.0))</td>\n",
       "      <td>pipline_1</td>\n",
       "      <td>ICP_test</td>\n",
       "      <td>5.628298</td>\n",
       "      <td>158.618386</td>\n",
       "    </tr>\n",
       "    <tr>\n",
       "      <th>6</th>\n",
       "      <td>data_test\\group8\\RPf_00059_gt.ply</td>\n",
       "      <td>data_test\\group8\\RPf_00060_gt.ply</td>\n",
       "      <td>(15.0, 1.0, 7.0, 4.0)</td>\n",
       "      <td>((0.0, 1.14, 0.6), (0.0, 10.0, 15.0))</td>\n",
       "      <td>pipline_1</td>\n",
       "      <td>ICP_test</td>\n",
       "      <td>5.625227</td>\n",
       "      <td>159.521687</td>\n",
       "    </tr>\n",
       "    <tr>\n",
       "      <th>7</th>\n",
       "      <td>data_test\\group8\\RPf_00059_gt.ply</td>\n",
       "      <td>data_test\\group8\\RPf_00060_gt.ply</td>\n",
       "      <td>(15.0, 1.0, 7.0, 1.0)</td>\n",
       "      <td>((0.0, 1.14, 0.6), (0.0, 10.0, 15.0))</td>\n",
       "      <td>pipline_1</td>\n",
       "      <td>ICP_test</td>\n",
       "      <td>5.665190</td>\n",
       "      <td>159.446368</td>\n",
       "    </tr>\n",
       "    <tr>\n",
       "      <th>8</th>\n",
       "      <td>data_test\\group8\\RPf_00059_gt.ply</td>\n",
       "      <td>data_test\\group8\\RPf_00060_gt.ply</td>\n",
       "      <td>(15.0, 1.0, 7.0, 7.0)</td>\n",
       "      <td>((0.0, 1.14, 0.6), (0.0, 10.0, 15.0))</td>\n",
       "      <td>pipline_1</td>\n",
       "      <td>ICP_test</td>\n",
       "      <td>5.615888</td>\n",
       "      <td>158.011586</td>\n",
       "    </tr>\n",
       "    <tr>\n",
       "      <th>9</th>\n",
       "      <td>data_test\\group8\\RPf_00059_gt.ply</td>\n",
       "      <td>data_test\\group8\\RPf_00060_gt.ply</td>\n",
       "      <td>(15.0, 4.0, 1.0, 4.0)</td>\n",
       "      <td>((0.0, 1.14, 0.6), (0.0, 10.0, 15.0))</td>\n",
       "      <td>pipline_1</td>\n",
       "      <td>ICP_test</td>\n",
       "      <td>5.691706</td>\n",
       "      <td>155.717969</td>\n",
       "    </tr>\n",
       "    <tr>\n",
       "      <th>10</th>\n",
       "      <td>data_test\\group8\\RPf_00059_gt.ply</td>\n",
       "      <td>data_test\\group8\\RPf_00060_gt.ply</td>\n",
       "      <td>(15.0, 4.0, 1.0, 7.0)</td>\n",
       "      <td>((0.0, 1.14, 0.6), (0.0, 10.0, 15.0))</td>\n",
       "      <td>pipline_1</td>\n",
       "      <td>ICP_test</td>\n",
       "      <td>5.683635</td>\n",
       "      <td>155.679165</td>\n",
       "    </tr>\n",
       "    <tr>\n",
       "      <th>11</th>\n",
       "      <td>data_test\\group8\\RPf_00059_gt.ply</td>\n",
       "      <td>data_test\\group8\\RPf_00060_gt.ply</td>\n",
       "      <td>(15.0, 4.0, 1.0, 1.0)</td>\n",
       "      <td>((0.0, 1.14, 0.6), (0.0, 10.0, 15.0))</td>\n",
       "      <td>pipline_1</td>\n",
       "      <td>ICP_test</td>\n",
       "      <td>5.693882</td>\n",
       "      <td>155.510892</td>\n",
       "    </tr>\n",
       "    <tr>\n",
       "      <th>12</th>\n",
       "      <td>data_test\\group8\\RPf_00059_gt.ply</td>\n",
       "      <td>data_test\\group8\\RPf_00060_gt.ply</td>\n",
       "      <td>(15.0, 4.0, 4.0, 4.0)</td>\n",
       "      <td>((0.0, 1.14, 0.6), (0.0, 10.0, 15.0))</td>\n",
       "      <td>pipline_1</td>\n",
       "      <td>ICP_test</td>\n",
       "      <td>5.716474</td>\n",
       "      <td>156.306430</td>\n",
       "    </tr>\n",
       "    <tr>\n",
       "      <th>13</th>\n",
       "      <td>data_test\\group8\\RPf_00059_gt.ply</td>\n",
       "      <td>data_test\\group8\\RPf_00060_gt.ply</td>\n",
       "      <td>(15.0, 4.0, 4.0, 7.0)</td>\n",
       "      <td>((0.0, 1.14, 0.6), (0.0, 10.0, 15.0))</td>\n",
       "      <td>pipline_1</td>\n",
       "      <td>ICP_test</td>\n",
       "      <td>5.709016</td>\n",
       "      <td>156.229299</td>\n",
       "    </tr>\n",
       "    <tr>\n",
       "      <th>14</th>\n",
       "      <td>data_test\\group8\\RPf_00059_gt.ply</td>\n",
       "      <td>data_test\\group8\\RPf_00060_gt.ply</td>\n",
       "      <td>(15.0, 4.0, 4.0, 1.0)</td>\n",
       "      <td>((0.0, 1.14, 0.6), (0.0, 10.0, 15.0))</td>\n",
       "      <td>pipline_1</td>\n",
       "      <td>ICP_test</td>\n",
       "      <td>5.811548</td>\n",
       "      <td>157.350539</td>\n",
       "    </tr>\n",
       "    <tr>\n",
       "      <th>15</th>\n",
       "      <td>data_test\\group8\\RPf_00059_gt.ply</td>\n",
       "      <td>data_test\\group8\\RPf_00060_gt.ply</td>\n",
       "      <td>(15.0, 4.0, 7.0, 1.0)</td>\n",
       "      <td>((0.0, 1.14, 0.6), (0.0, 10.0, 15.0))</td>\n",
       "      <td>pipline_1</td>\n",
       "      <td>ICP_test</td>\n",
       "      <td>5.768987</td>\n",
       "      <td>156.796368</td>\n",
       "    </tr>\n",
       "    <tr>\n",
       "      <th>16</th>\n",
       "      <td>data_test\\group8\\RPf_00059_gt.ply</td>\n",
       "      <td>data_test\\group8\\RPf_00060_gt.ply</td>\n",
       "      <td>(15.0, 4.0, 7.0, 4.0)</td>\n",
       "      <td>((0.0, 1.14, 0.6), (0.0, 10.0, 15.0))</td>\n",
       "      <td>pipline_1</td>\n",
       "      <td>ICP_test</td>\n",
       "      <td>5.689201</td>\n",
       "      <td>155.781861</td>\n",
       "    </tr>\n",
       "    <tr>\n",
       "      <th>17</th>\n",
       "      <td>data_test\\group8\\RPf_00059_gt.ply</td>\n",
       "      <td>data_test\\group8\\RPf_00060_gt.ply</td>\n",
       "      <td>(15.0, 4.0, 7.0, 7.0)</td>\n",
       "      <td>((0.0, 1.14, 0.6), (0.0, 10.0, 15.0))</td>\n",
       "      <td>pipline_1</td>\n",
       "      <td>ICP_test</td>\n",
       "      <td>5.688694</td>\n",
       "      <td>155.634311</td>\n",
       "    </tr>\n",
       "  </tbody>\n",
       "</table>\n",
       "</div>"
      ],
      "text/plain": [
       "                                    0                                  1  \\\n",
       "0   data_test\\group8\\RPf_00059_gt.ply  data_test\\group8\\RPf_00060_gt.ply   \n",
       "1   data_test\\group8\\RPf_00059_gt.ply  data_test\\group8\\RPf_00060_gt.ply   \n",
       "2   data_test\\group8\\RPf_00059_gt.ply  data_test\\group8\\RPf_00060_gt.ply   \n",
       "3   data_test\\group8\\RPf_00059_gt.ply  data_test\\group8\\RPf_00060_gt.ply   \n",
       "4   data_test\\group8\\RPf_00059_gt.ply  data_test\\group8\\RPf_00060_gt.ply   \n",
       "5   data_test\\group8\\RPf_00059_gt.ply  data_test\\group8\\RPf_00060_gt.ply   \n",
       "6   data_test\\group8\\RPf_00059_gt.ply  data_test\\group8\\RPf_00060_gt.ply   \n",
       "7   data_test\\group8\\RPf_00059_gt.ply  data_test\\group8\\RPf_00060_gt.ply   \n",
       "8   data_test\\group8\\RPf_00059_gt.ply  data_test\\group8\\RPf_00060_gt.ply   \n",
       "9   data_test\\group8\\RPf_00059_gt.ply  data_test\\group8\\RPf_00060_gt.ply   \n",
       "10  data_test\\group8\\RPf_00059_gt.ply  data_test\\group8\\RPf_00060_gt.ply   \n",
       "11  data_test\\group8\\RPf_00059_gt.ply  data_test\\group8\\RPf_00060_gt.ply   \n",
       "12  data_test\\group8\\RPf_00059_gt.ply  data_test\\group8\\RPf_00060_gt.ply   \n",
       "13  data_test\\group8\\RPf_00059_gt.ply  data_test\\group8\\RPf_00060_gt.ply   \n",
       "14  data_test\\group8\\RPf_00059_gt.ply  data_test\\group8\\RPf_00060_gt.ply   \n",
       "15  data_test\\group8\\RPf_00059_gt.ply  data_test\\group8\\RPf_00060_gt.ply   \n",
       "16  data_test\\group8\\RPf_00059_gt.ply  data_test\\group8\\RPf_00060_gt.ply   \n",
       "17  data_test\\group8\\RPf_00059_gt.ply  data_test\\group8\\RPf_00060_gt.ply   \n",
       "\n",
       "                        2                                      3          4  \\\n",
       "0   (15.0, 1.0, 1.0, 7.0)  ((0.0, 1.14, 0.6), (0.0, 10.0, 15.0))  pipline_1   \n",
       "1   (15.0, 1.0, 1.0, 4.0)  ((0.0, 1.14, 0.6), (0.0, 10.0, 15.0))  pipline_1   \n",
       "2   (15.0, 1.0, 1.0, 1.0)  ((0.0, 1.14, 0.6), (0.0, 10.0, 15.0))  pipline_1   \n",
       "3   (15.0, 1.0, 4.0, 1.0)  ((0.0, 1.14, 0.6), (0.0, 10.0, 15.0))  pipline_1   \n",
       "4   (15.0, 1.0, 4.0, 4.0)  ((0.0, 1.14, 0.6), (0.0, 10.0, 15.0))  pipline_1   \n",
       "5   (15.0, 1.0, 4.0, 7.0)  ((0.0, 1.14, 0.6), (0.0, 10.0, 15.0))  pipline_1   \n",
       "6   (15.0, 1.0, 7.0, 4.0)  ((0.0, 1.14, 0.6), (0.0, 10.0, 15.0))  pipline_1   \n",
       "7   (15.0, 1.0, 7.0, 1.0)  ((0.0, 1.14, 0.6), (0.0, 10.0, 15.0))  pipline_1   \n",
       "8   (15.0, 1.0, 7.0, 7.0)  ((0.0, 1.14, 0.6), (0.0, 10.0, 15.0))  pipline_1   \n",
       "9   (15.0, 4.0, 1.0, 4.0)  ((0.0, 1.14, 0.6), (0.0, 10.0, 15.0))  pipline_1   \n",
       "10  (15.0, 4.0, 1.0, 7.0)  ((0.0, 1.14, 0.6), (0.0, 10.0, 15.0))  pipline_1   \n",
       "11  (15.0, 4.0, 1.0, 1.0)  ((0.0, 1.14, 0.6), (0.0, 10.0, 15.0))  pipline_1   \n",
       "12  (15.0, 4.0, 4.0, 4.0)  ((0.0, 1.14, 0.6), (0.0, 10.0, 15.0))  pipline_1   \n",
       "13  (15.0, 4.0, 4.0, 7.0)  ((0.0, 1.14, 0.6), (0.0, 10.0, 15.0))  pipline_1   \n",
       "14  (15.0, 4.0, 4.0, 1.0)  ((0.0, 1.14, 0.6), (0.0, 10.0, 15.0))  pipline_1   \n",
       "15  (15.0, 4.0, 7.0, 1.0)  ((0.0, 1.14, 0.6), (0.0, 10.0, 15.0))  pipline_1   \n",
       "16  (15.0, 4.0, 7.0, 4.0)  ((0.0, 1.14, 0.6), (0.0, 10.0, 15.0))  pipline_1   \n",
       "17  (15.0, 4.0, 7.0, 7.0)  ((0.0, 1.14, 0.6), (0.0, 10.0, 15.0))  pipline_1   \n",
       "\n",
       "           5         6           7  \n",
       "0   ICP_test  5.624183  158.745035  \n",
       "1   ICP_test  5.635265  160.068423  \n",
       "2   ICP_test  5.657790  160.387886  \n",
       "3   ICP_test  5.766127  161.074932  \n",
       "4   ICP_test  5.645592  160.196982  \n",
       "5   ICP_test  5.628298  158.618386  \n",
       "6   ICP_test  5.625227  159.521687  \n",
       "7   ICP_test  5.665190  159.446368  \n",
       "8   ICP_test  5.615888  158.011586  \n",
       "9   ICP_test  5.691706  155.717969  \n",
       "10  ICP_test  5.683635  155.679165  \n",
       "11  ICP_test  5.693882  155.510892  \n",
       "12  ICP_test  5.716474  156.306430  \n",
       "13  ICP_test  5.709016  156.229299  \n",
       "14  ICP_test  5.811548  157.350539  \n",
       "15  ICP_test  5.768987  156.796368  \n",
       "16  ICP_test  5.689201  155.781861  \n",
       "17  ICP_test  5.688694  155.634311  "
      ]
     },
     "execution_count": 10,
     "metadata": {},
     "output_type": "execute_result"
    }
   ],
   "source": [
    "df"
   ]
  },
  {
   "cell_type": "code",
   "execution_count": null,
   "metadata": {},
   "outputs": [],
   "source": [
    "!pip install p_tqdm"
   ]
  },
  {
   "cell_type": "code",
   "execution_count": null,
   "metadata": {},
   "outputs": [],
   "source": [
    "import numpy as np\n",
    "\n",
    "#objects\n",
    "Obj1_url = \"data/group8/RPf_00060_gt.ply\"\n",
    "Obj2_url = \"data/group8/RPf_00059_gt.ply\"\n",
    "\n",
    "#Before Evaluate do a Rotation and translation of\n",
    "init_R_T = [(0,20,20),(0,np.pi//8,np.pi//8)]\n",
    "\n",
    "#pipline name and pipline parameters\n",
    "pipline_name = \"pipline_1\"\n",
    "N = 15\n",
    "t1 = 2\n",
    "t2 = 2\n",
    "t3 = 2\n",
    "pipline_variables = (N, t1, t2, t3)\n",
    "test_name = \"ICP_test\"\n",
    "\n",
    "Obj1_url, Obj2_url, init_R_T, pipline_name, pipline_variables\n",
    "\n",
    "\n",
    "test1 = test(Obj1_url, Obj2_url, init_R_T, pipline_name, pipline_variables, test_name)\n",
    "print(Obj1_url, Obj2_url, init_R_T, pipline_name, pipline_variables, test_name)\n",
    "# obj1,obj2 = test1.run()"
   ]
  },
  {
   "cell_type": "code",
   "execution_count": null,
   "metadata": {},
   "outputs": [],
   "source": [
    "! pip install pyyaml"
   ]
  },
  {
   "cell_type": "code",
   "execution_count": null,
   "metadata": {},
   "outputs": [],
   "source": [
    "import open3d as o3d\n",
    "o3d.visualization.draw_geometries([obj2.pcd])"
   ]
  },
  {
   "cell_type": "code",
   "execution_count": null,
   "metadata": {},
   "outputs": [],
   "source": [
    "o3d.io.write_point_cloud(\"after.ply\", obj2.pcd)"
   ]
  },
  {
   "cell_type": "markdown",
   "metadata": {},
   "source": [
    "<h2>Trial only with w_co</h2>"
   ]
  },
  {
   "cell_type": "code",
   "execution_count": null,
   "metadata": {},
   "outputs": [],
   "source": [
    "def remove_point(G,p,visited):\n",
    "    counter = 0\n",
    "    short_branches = []\n",
    "    stack = [[p]]\n",
    "    while stack:\n",
    "        counter+=1\n",
    "        curr_branch = stack.pop(0)\n",
    "        curr_p  = curr_branch[-1]\n",
    "        neighbors = set(G.neighbors(curr_p))-visited\n",
    "        neighbors = list(neighbors)\n",
    "        if len(neighbors) == 0:\n",
    "            short_branches.append(curr_branch)\n",
    "            continue\n",
    "        for n in neighbors:\n",
    "            visited.add(n)\n",
    "            stack.append(curr_branch+[n])\n",
    "    return short_branches\n",
    "\n",
    "\n",
    "def short_branch(G,p,visited,threshold):\n",
    "    counter = 0\n",
    "    short_branches = []\n",
    "    stack = [[p]]\n",
    "    while stack:\n",
    "        counter+=1\n",
    "        if counter >= threshold:\n",
    "            return False\n",
    "        curr_branch = stack.pop(0)\n",
    "        curr_p  = curr_branch[-1]\n",
    "        neighbors = set(G.neighbors(curr_p)) - visited\n",
    "        neighbors = list(neighbors)\n",
    "        for n in neighbors:\n",
    "            if n not in visited:\n",
    "                visited.add(n)\n",
    "                stack.append(curr_branch+[n])\n",
    "    return True\n",
    "\n",
    "def path_length(G,p,q,threshold):\n",
    "    counter = 0\n",
    "    short_branches = []\n",
    "    stack = [[p]]\n",
    "    visited = set()\n",
    "    while stack:\n",
    "        counter+=1\n",
    "        # if counter >= threshold:\n",
    "        #     break\n",
    "        curr_branch = stack.pop(0)\n",
    "        curr_p  = curr_branch[-1]\n",
    "        neighbors = list(G.neighbors(curr_p))\n",
    "#         print(len(neighbors),\"->\",neighbors)\n",
    "        if len(neighbors) == 1 and neighbors[0] in visited:\n",
    "            short_branches.append(curr_branch[2:])\n",
    "            continue\n",
    "        for n in neighbors:\n",
    "            if n == q:\n",
    "                return counter+1\n",
    "            if n not in visited:\n",
    "                visited.add(n)\n",
    "                stack.append(curr_branch+[n])\n",
    "\n",
    "    return counter+1\n"
   ]
  },
  {
   "cell_type": "code",
   "execution_count": null,
   "metadata": {
    "scrolled": true
   },
   "outputs": [],
   "source": [
    "#Create the Graph\n",
    "def create_graph(Obj, shortest_cycle_length, smallest_isolated_island_length):\n",
    "    ds = DisjointSetExtra()\n",
    "    Graph = nx.Graph()\n",
    "    tree = o3d.geometry.KDTreeFlann(Obj.pcd)\n",
    "    for idx,p in tqdm(enumerate(Obj.pcd.points)):\n",
    "        [k, points_q, _] = tree.search_radius_vector_3d(Obj.pcd.points[idx],1)\n",
    "        distance = np.abs(np.linalg.norm(p-np.asarray(Obj.pcd.points).take(points_q,axis=0),axis=1))\n",
    "        arr1inds = distance.argsort()\n",
    "        points_q_sorted = np.asarray(points_q)[arr1inds]\n",
    "        for q in points_q_sorted:\n",
    "            if ds.exists(q) and ds.exists(int(idx)):\n",
    "                if not ds.connected(q,int(idx)):\n",
    "                    ds.connect(q,int(idx))\n",
    "                    Graph.add_edge(q,int(idx))\n",
    "                else:\n",
    "                    if path_length(Graph,int(idx),q,shortest_cycle_length+1)>shortest_cycle_length:\n",
    "                        ds.add(q,int(idx))\n",
    "                        Graph.add_edge(q,int(idx))\n",
    "            else:\n",
    "                ds.add(q,int(idx))\n",
    "                Graph.add_edge(q,int(idx))\n",
    "                \n",
    "    F_lines = []\n",
    "    isolated_islands = []\n",
    "    for group in list(ds.ds.itersets()):\n",
    "        if len(group) < smallest_isolated_island_length:\n",
    "            isolated_islands.extend(group)\n",
    "        else:\n",
    "            F_lines.append(group)\n",
    "\n",
    "    Graph.remove_nodes_from(isolated_islands)\n",
    "        \n",
    "    return Graph, F_lines, isolated_islands\n",
    "\n",
    "\n",
    "\n",
    "\n",
    "#prune the Graph\n",
    "def prune_branches(Obj,Graph,shortest_allowed_branch_length):\n",
    "    nodes = {}\n",
    "    for branch in F_lines:\n",
    "        for point in branch:\n",
    "            neighbors = set(Graph.neighbors(point))\n",
    "            if len(list(neighbors)) >= 2:\n",
    "                nodes[point]=neighbors\n",
    "\n",
    "    T = shortest_allowed_branch_length\n",
    "    all_nodes_rem = []\n",
    "    visited = set()\n",
    "    for point,my_nodes in tqdm(nodes.items()):\n",
    "        score = 0\n",
    "        point_rem_nodes = []\n",
    "        for node in my_nodes:\n",
    "            if not short_branch(Graph,node,{point},T):\n",
    "                score+=1\n",
    "            else:\n",
    "                point_rem_nodes.append(node)\n",
    "                \n",
    "        if score >= 2:\n",
    "            for node in point_rem_nodes:\n",
    "                tmp_rem_nodes = remove_point(Graph,node,{point})\n",
    "                all_nodes_rem.extend(tmp_rem_nodes)\n",
    "    removed_nodes = {node for branch in all_nodes_rem for node in branch}\n",
    "    pruned_graph = copy(Graph)\n",
    "    pruned_graph.remove_nodes_from(list(removed_nodes))\n",
    "    valid_nodes = [[node for node in group-removed_nodes] for group in F_lines]\n",
    "    return pruned_graph, removed_nodes, valid_nodes"
   ]
  },
  {
   "cell_type": "code",
   "execution_count": null,
   "metadata": {},
   "outputs": [],
   "source": [
    "distance = np.abs(np.linalg.norm(Obj.pcd.points[1]-Obj.points_q_points[1],axis=1))"
   ]
  },
  {
   "cell_type": "code",
   "execution_count": null,
   "metadata": {},
   "outputs": [],
   "source": [
    "np.asarray(Obj.pcd.points).take(Obj.points_q_idxs[1],axis=0)"
   ]
  },
  {
   "cell_type": "code",
   "execution_count": null,
   "metadata": {},
   "outputs": [],
   "source": [
    "from copy import copy,deepcopy\n",
    "import networkx as nx\n",
    "from disjoint import DisjointSetExtra\n",
    "import open3d as o3d\n",
    "\n",
    "valid = []\n",
    "for idx,val in tqdm(enumerate(Obj1.w_co)):\n",
    "    if val<0.97:\n",
    "        valid.append(idx)\n",
    "\n",
    "#Filter Valid points        \n",
    "Obj = copy(Obj1)\n",
    "Obj.pcd = copy(Obj1.pcd)\n",
    "Obj.pcd.points = o3d.utility.Vector3dVector(np.asarray(Obj1.pcd.points)[valid])\n",
    "isolated_islands_pruned_graph, F_lines, isolated_islands = create_graph(Obj, np.sqrt(len(Obj1.pcd.points))//8, np.sqrt(len(Obj1.pcd.points))//8)\n",
    "pruned_graph, removed_nodes, valid_nodes, nodes = prune_branches(Obj,isolated_islands_pruned_graph,np.sqrt(len(Obj1.pcd.points))//10)"
   ]
  },
  {
   "cell_type": "code",
   "execution_count": null,
   "metadata": {},
   "outputs": [],
   "source": [
    "mask = np.isin(np.arange(0, len(Obj.pcd.points), 1).tolist(),[node for branch in valid_nodes for node in branch])"
   ]
  },
  {
   "cell_type": "code",
   "execution_count": null,
   "metadata": {},
   "outputs": [],
   "source": [
    "# mask = []"
   ]
  },
  {
   "cell_type": "code",
   "execution_count": null,
   "metadata": {},
   "outputs": [],
   "source": [
    "out = copy(Obj)\n",
    "out.pcd = copy(Obj.pcd)\n",
    "out.pcd.points = o3d.utility.Vector3dVector(np.asarray(Obj.pcd.points)[mask])\n",
    "colors = [(0,255,0) for _ in out.pcd.points]\n",
    "out.pcd.colors = o3d.utility.Vector3dVector(np.asarray(colors).astype(np.float) / 255.0)\n",
    "o3d.visualization.draw_geometries([out.pcd])"
   ]
  },
  {
   "cell_type": "code",
   "execution_count": null,
   "metadata": {},
   "outputs": [],
   "source": [
    "import random\n",
    "groups = F_lines\n",
    "colors = [(0,255,0) for _ in Obj.pcd.points]\n",
    "for group in groups:\n",
    "    color = (random.randrange(0, 255),0,random.randrange(0, 255))\n",
    "    for node in group:\n",
    "        if node in nodes.keys():\n",
    "            colors[node] = color\n",
    "    \n",
    "    \n",
    "Obj.pcd.colors = o3d.utility.Vector3dVector(np.asarray(colors).astype(np.float) / 255.0)\n",
    "o3d.visualization.draw_geometries([Obj.pcd])"
   ]
  },
  {
   "cell_type": "code",
   "execution_count": null,
   "metadata": {},
   "outputs": [],
   "source": [
    "import random\n",
    "groups = F_lines\n",
    "colors = [(0,255,0) for _ in Obj.pcd.points]\n",
    "for group in groups:\n",
    "    color = (random.randrange(0, 255),0,random.randrange(0, 255))\n",
    "    for nodes in group:\n",
    "        colors[nodes] = color\n",
    "    \n",
    "    \n",
    "Obj.pcd.colors = o3d.utility.Vector3dVector(np.asarray(colors).astype(np.float) / 255.0)\n",
    "o3d.visualization.draw_geometries([Obj.pcd])"
   ]
  },
  {
   "cell_type": "code",
   "execution_count": null,
   "metadata": {},
   "outputs": [],
   "source": [
    "import random\n",
    "groups = F_lines\n",
    "colors = [(0,255,0) for _ in Obj.pcd.points]\n",
    "for group in groups:\n",
    "    color = (random.randrange(0, 255),0,random.randrange(0, 255))\n",
    "    for node in group:\n",
    "        if node in removed_nodes:\n",
    "            colors[node] = color\n",
    "    \n",
    "    \n",
    "Obj.pcd.colors = o3d.utility.Vector3dVector(np.asarray(colors).astype(np.float) / 255.0)\n",
    "o3d.visualization.draw_geometries([Obj.pcd])"
   ]
  },
  {
   "cell_type": "code",
   "execution_count": null,
   "metadata": {},
   "outputs": [],
   "source": [
    "import random\n",
    "groups = valid_nodes\n",
    "colors = [(0,255,0) for _ in Obj.pcd.points]\n",
    "for group in groups:\n",
    "    color = (random.randrange(0, 255),0,random.randrange(0, 255))\n",
    "    print(\"one\")\n",
    "    for nodes in group:\n",
    "        colors[nodes] = color\n",
    "        \n",
    "Obj.pcd.colors = o3d.utility.Vector3dVector(np.asarray(colors).astype(np.float) / 255.0)\n",
    "o3d.visualization.draw_geometries([Obj.pcd])"
   ]
  },
  {
   "cell_type": "code",
   "execution_count": null,
   "metadata": {},
   "outputs": [],
   "source": [
    "cycles = find_cycles(pruned_graph)\n",
    "sorted_cycles = sorted(cycles,key = lambda x:x[1],reverse=True)"
   ]
  },
  {
   "cell_type": "code",
   "execution_count": null,
   "metadata": {},
   "outputs": [],
   "source": [
    "len(sorted_cycles)"
   ]
  },
  {
   "cell_type": "code",
   "execution_count": null,
   "metadata": {},
   "outputs": [],
   "source": [
    "borders = sorted_cycles[0:10]"
   ]
  },
  {
   "cell_type": "code",
   "execution_count": null,
   "metadata": {},
   "outputs": [],
   "source": [
    " sorted_cycles[50]"
   ]
  },
  {
   "cell_type": "code",
   "execution_count": null,
   "metadata": {},
   "outputs": [],
   "source": [
    "for border,length in borders:\n",
    "    colors = [(0,255,0) for _ in Obj.pcd.points]\n",
    "    print(length)\n",
    "    color = (random.randrange(0, 255),0,random.randrange(0, 255))\n",
    "    for node in set(border):\n",
    "        colors[node] = color  \n",
    "    Obj.pcd.colors = o3d.utility.Vector3dVector(np.asarray(colors).astype(np.float) / 255.0)\n",
    "    o3d.visualization.draw_geometries([Obj.pcd])"
   ]
  },
  {
   "cell_type": "code",
   "execution_count": null,
   "metadata": {},
   "outputs": [],
   "source": [
    "print(len(Obj.pcd.points),len(Obj1.pcd.points))"
   ]
  },
  {
   "cell_type": "markdown",
   "metadata": {},
   "source": [
    "<h4>Copy the object then build the Graph</h4>"
   ]
  },
  {
   "cell_type": "code",
   "execution_count": null,
   "metadata": {},
   "outputs": [],
   "source": [
    "from copy import copy\n",
    "import networkx as nx\n",
    "from disjoint import DisjointSetExtra\n",
    "import open3d as o3d\n",
    "my_obj = copy(Obj1.pcd)\n",
    "my_obj.points = o3d.utility.Vector3dVector(np.asarray(Obj1.pcd.points)[valid])\n",
    "o3d.visualization.draw_geometries([my_obj])"
   ]
  },
  {
   "cell_type": "code",
   "execution_count": null,
   "metadata": {},
   "outputs": [],
   "source": [
    "pattern_length_T = np.sqrt(len(Obj1.pcd.points))//2\n",
    "ds = DisjointSetExtra()\n",
    "Graph = nx.Graph()\n",
    "tree = o3d.geometry.KDTreeFlann(my_obj)\n",
    "for idx,p in tqdm(enumerate(my_obj.points)):\n",
    "    [k, points_q, _] = tree.search_radius_vector_3d(my_obj.points[idx],1)\n",
    "    for q in points_q:\n",
    "        if ds.exists(q) and ds.exists(int(idx)):\n",
    "            if not ds.connected(q,int(idx)):\n",
    "                ds.connect(q,int(idx))\n",
    "                Graph.add_edge(q,int(idx))\n",
    "            else:\n",
    "#                 print(path_length(Graph,int(idx),q,pattern_length_T),pattern_length_T//2)\n",
    "                if path_length(Graph,int(idx),q,pattern_length_T)>pattern_length_T:\n",
    "                    ds.add(q,int(idx))\n",
    "                    Graph.add_edge(q,int(idx))\n",
    "        else:\n",
    "            ds.add(q,int(idx))\n",
    "            Graph.add_edge(q,int(idx))\n",
    "F_lines = []\n",
    "for group in list(ds.ds.itersets()):\n",
    "    if len(group) < pattern_length_T:\n",
    "        continue\n",
    "    F_lines.append(group)"
   ]
  },
  {
   "cell_type": "markdown",
   "metadata": {},
   "source": [
    "<h3> Print the diffrent regions of the object (Green = Removed - any other color is existing group)</h3>"
   ]
  },
  {
   "cell_type": "code",
   "execution_count": null,
   "metadata": {},
   "outputs": [],
   "source": [
    "import random\n",
    "groups = F_lines\n",
    "new_valid = []\n",
    "colors = [(0,255,0) for _ in my_obj.points]\n",
    "for group in groups:\n",
    "    color = (random.randrange(0, 255),0,random.randrange(0, 255))\n",
    "    for nodes in group:\n",
    "        colors[nodes] = color\n",
    "        new_valid.append(nodes)\n",
    "my_obj.colors = o3d.utility.Vector3dVector(np.asarray(colors).astype(np.float) / 255.0)\n",
    "o3d.visualization.draw_geometries([my_obj])"
   ]
  },
  {
   "cell_type": "code",
   "execution_count": null,
   "metadata": {},
   "outputs": [],
   "source": [
    "nodes = {}\n",
    "for branch in F_lines:\n",
    "    for point in branch:\n",
    "        neighbors = set(Graph.neighbors(point))\n",
    "        if len(list(neighbors)) >= 2:\n",
    "            nodes[point]=neighbors\n",
    "            \n",
    "T = np.sqrt(np.asarray(Obj1.pcd.points).shape[0])\n",
    "all_nodes_rem = []\n",
    "visited = set()\n",
    "for point,my_nodes in tqdm(nodes.items()):\n",
    "    score = 0\n",
    "    tmp_rem_nodes = []\n",
    "    for node in my_nodes:\n",
    "        if not check_point(Graph,node,{point},T):\n",
    "            score+=1\n",
    "        else:\n",
    "            tmp_rem_nodes.append(node)\n",
    "\n",
    "    if score >= 2:\n",
    "        for node in tmp_rem_nodes:\n",
    "            tmp_rem_nodes = remove_point(Graph,node,{point})\n",
    "            all_nodes_rem.extend(tmp_rem_nodes)"
   ]
  },
  {
   "cell_type": "code",
   "execution_count": null,
   "metadata": {},
   "outputs": [],
   "source": [
    "rem = {node for branch in all_nodes_rem for node in branch}\n",
    "pruned_graph = copy(Graph)\n",
    "pruned_graph.remove_nodes_from(list(rem))\n",
    "pruned = [[node for node in group-rem] for group in F_lines]"
   ]
  },
  {
   "cell_type": "code",
   "execution_count": null,
   "metadata": {},
   "outputs": [],
   "source": [
    "import random\n",
    "groups = pruned\n",
    "colors = [(0,255,0) for _ in my_obj.points]\n",
    "for group in groups:\n",
    "    if len(group) < pattern_length_T:\n",
    "        continue\n",
    "    color = (random.randrange(0, 255),0,random.randrange(0, 255))\n",
    "    for nodes in group:\n",
    "        colors[nodes] = color\n",
    "    \n",
    "my_obj.colors = o3d.utility.Vector3dVector(np.asarray(colors).astype(np.float) / 255.0)\n",
    "o3d.visualization.draw_geometries([my_obj])"
   ]
  },
  {
   "cell_type": "code",
   "execution_count": null,
   "metadata": {},
   "outputs": [],
   "source": [
    "len(set(valid))"
   ]
  },
  {
   "cell_type": "code",
   "execution_count": null,
   "metadata": {},
   "outputs": [],
   "source": [
    "len(my_obj.points)"
   ]
  },
  {
   "cell_type": "code",
   "execution_count": null,
   "metadata": {},
   "outputs": [],
   "source": [
    "len(set(set(Graph.nodes)))"
   ]
  },
  {
   "cell_type": "code",
   "execution_count": null,
   "metadata": {},
   "outputs": [],
   "source": [
    "len(F_lines[0])"
   ]
  },
  {
   "cell_type": "code",
   "execution_count": null,
   "metadata": {},
   "outputs": [],
   "source": [
    "len(set(Graph.nodes)-set(valid))"
   ]
  },
  {
   "cell_type": "code",
   "execution_count": null,
   "metadata": {},
   "outputs": [],
   "source": [
    "import random\n",
    "groups = F_lines\n",
    "colors = [(0,255,0) for _ in my_obj.points]\n",
    "for group in groups:\n",
    "    color = (random.randrange(0, 255),0,random.randrange(0, 255))\n",
    "    print(\"one\")\n",
    "    for nodes in group:\n",
    "        colors[nodes] = color\n",
    "        \n",
    "my_obj.colors = o3d.utility.Vector3dVector(np.asarray(colors).astype(np.float) / 255.0)\n",
    "o3d.visualization.draw_geometries([my_obj])"
   ]
  },
  {
   "cell_type": "markdown",
   "metadata": {},
   "source": [
    "## len(my_points)"
   ]
  },
  {
   "cell_type": "code",
   "execution_count": null,
   "metadata": {},
   "outputs": [],
   "source": [
    "my_obj.points = o3d.utility.Vector3dVector(np.asarray(Obj1.pcd.points)[list(F_lines[0])])\n",
    "o3d.visualization.draw_geometries([my_obj])"
   ]
  },
  {
   "cell_type": "code",
   "execution_count": null,
   "metadata": {},
   "outputs": [],
   "source": [
    "def remove_point(G,p,visited):\n",
    "    counter = 0\n",
    "    short_branches = []\n",
    "    stack = [[p]]\n",
    "    while stack:\n",
    "        counter+=1\n",
    "        curr_branch = stack.pop(0)\n",
    "        curr_p  = curr_branch[-1]\n",
    "        neighbors = set(G.neighbors(curr_p))-visited\n",
    "        neighbors = list(neighbors)\n",
    "        if len(neighbors) == 0:\n",
    "            short_branches.append(curr_branch[1:])\n",
    "            continue\n",
    "        for n in neighbors:\n",
    "            visited.add(n)\n",
    "            stack.append(curr_branch+[n])\n",
    "    return short_branches\n",
    "def check_point(G,p,visited,threshold):\n",
    "    counter = 0\n",
    "    short_branches = []\n",
    "    stack = [[p]]\n",
    "    while stack:\n",
    "        counter+=1\n",
    "        if counter >= threshold:\n",
    "            return False\n",
    "        curr_branch = stack.pop(0)\n",
    "        curr_p  = curr_branch[-1]\n",
    "        neighbors = set(G.neighbors(curr_p)) - visited\n",
    "        neighbors = list(neighbors)\n",
    "        for n in neighbors:\n",
    "            if n not in visited:\n",
    "                visited.add(n)\n",
    "                stack.append(curr_branch+[n])\n",
    "    return True\n",
    "\n",
    "nodes = {}\n",
    "for point in list(Graph.nodes):\n",
    "    neighbors = set(Graph.neighbors(point))\n",
    "    if len(list(neighbors)) >= 2:\n",
    "        nodes[point]=neighbors\n",
    "\n",
    "T = np.sqrt(np.asarray(my_obj.points).shape[0])//2\n",
    "all_nodes_rem = []\n",
    "visited = set()\n",
    "for point,my_nodes in tqdm(nodes.items()):\n",
    "    score = 0\n",
    "    tmp_rem_nodes = []\n",
    "    for node in my_nodes:\n",
    "        if not check_point(Graph,node,{point},T):\n",
    "            score+=1\n",
    "        else:\n",
    "            tmp_rem_nodes.append(node)\n",
    "\n",
    "    if score >= 2:\n",
    "        for node in tmp_rem_nodes:\n",
    "            tmp_rem_nodes = remove_point(Graph,node,{point})\n",
    "            all_nodes_rem.extend(tmp_rem_nodes)"
   ]
  },
  {
   "cell_type": "code",
   "execution_count": null,
   "metadata": {},
   "outputs": [],
   "source": [
    "points = list(set(valid)-set([node for branch in all_nodes_rem for node in branch]))\n",
    "my_obj.points = o3d.utility.Vector3dVector(np.asarray(Obj1.pcd.points)[points])\n",
    "o3d.visualization.draw_geometries([my_obj])"
   ]
  },
  {
   "cell_type": "code",
   "execution_count": null,
   "metadata": {},
   "outputs": [],
   "source": [
    "def find_cycles(Graph):\n",
    "    visited = set()\n",
    "    cycles = []\n",
    "    stack = [[list(Graph.nodes)[0]]]\n",
    "    parent = None\n",
    "    while stack:\n",
    "        path = stack.pop(-1)\n",
    "        last_node = path[-1]\n",
    "        # check that the node is not visited before if it is visited then it is a cycle\n",
    "        if last_node in visited:\n",
    "            cycles.append((path,last_node))\n",
    "            continue \n",
    "        visited.add(last_node)\n",
    "        nghs = Graph.neighbors(last_node)\n",
    "        for node in nghs:\n",
    "            if parent and parent == last_node:\n",
    "                continue\n",
    "            stack.append(path+[node])\n",
    "    filtered_cycles = []\n",
    "    for cycle,node in cycles:\n",
    "        path = []\n",
    "        counter = 0\n",
    "        for n in cycle:\n",
    "            if node == n:\n",
    "                counter = 1\n",
    "                \n",
    "            if counter:\n",
    "                path.append(n)\n",
    "            else:\n",
    "                continue\n",
    "        filtered_cycles.append((path,len(path)))\n",
    "    return filtered_cycles"
   ]
  },
  {
   "cell_type": "code",
   "execution_count": null,
   "metadata": {},
   "outputs": [],
   "source": [
    "cycles = find_cycles(Graph)\n",
    "sorted_cycles = sorted(cycles,key = lambda x:x[1],reverse=True)"
   ]
  },
  {
   "cell_type": "code",
   "execution_count": null,
   "metadata": {},
   "outputs": [],
   "source": []
  },
  {
   "cell_type": "code",
   "execution_count": null,
   "metadata": {},
   "outputs": [],
   "source": [
    "borders = sorted_cycles[:3]"
   ]
  },
  {
   "cell_type": "code",
   "execution_count": null,
   "metadata": {},
   "outputs": [],
   "source": [
    "new_obj = copy(my_obj)"
   ]
  },
  {
   "cell_type": "code",
   "execution_count": null,
   "metadata": {},
   "outputs": [],
   "source": [
    "colors = [(0,255,0) for _ in new_obj.points]\n",
    "for border,length in borders:\n",
    "    print(length)\n",
    "    color = (random.randrange(0, 255),0,random.randrange(0, 255))\n",
    "    for node in set(border) - rem:\n",
    "        colors[node] = color\n",
    "        \n",
    "my_obj.colors = o3d.utility.Vector3dVector(np.asarray(colors).astype(np.float) / 255.0)\n",
    "o3d.visualization.draw_geometries([new_obj])"
   ]
  },
  {
   "cell_type": "code",
   "execution_count": null,
   "metadata": {},
   "outputs": [],
   "source": [
    "[i for i in nx.connected_components(Graph)]"
   ]
  },
  {
   "cell_type": "code",
   "execution_count": null,
   "metadata": {},
   "outputs": [],
   "source": [
    "def find_all_cycles(G, source=None, cycle_length_limit=None):\n",
    "    \"\"\"forked from networkx dfs_edges function. Assumes nodes are integers, or at least\n",
    "    types which work with min() and > .\"\"\"\n",
    "    if source is None:\n",
    "        # produce edges for all components\n",
    "        nodes=[list(i)[0] for i in nx.connected_components(G)]\n",
    "    else:\n",
    "        # produce edges for components with source\n",
    "        nodes=[source]\n",
    "    # extra variables for cycle detection:\n",
    "    cycle_stack = []\n",
    "    output_cycles = set()\n",
    "    \n",
    "    def get_hashable_cycle(cycle):\n",
    "        \"\"\"cycle as a tuple in a deterministic order.\"\"\"\n",
    "        m = min(cycle)\n",
    "        mi = cycle.index(m)\n",
    "        mi_plus_1 = mi + 1 if mi < len(cycle) - 1 else 0\n",
    "        if cycle[mi-1] > cycle[mi_plus_1]:\n",
    "            result = cycle[mi:] + cycle[:mi]\n",
    "        else:\n",
    "            result = list(reversed(cycle[:mi_plus_1])) + list(reversed(cycle[mi_plus_1:]))\n",
    "        return tuple(result)\n",
    "    \n",
    "    for start in tqdm(nodes):\n",
    "        if start in cycle_stack:\n",
    "            continue\n",
    "        cycle_stack.append(start)\n",
    "        \n",
    "        stack = [(start,iter(G[start]))]\n",
    "        while stack:\n",
    "            parent,children = stack[-1]\n",
    "            try:\n",
    "                child = next(children)\n",
    "                \n",
    "                if child not in cycle_stack:\n",
    "                    cycle_stack.append(child)\n",
    "                    stack.append((child,iter(G[child])))\n",
    "                else:\n",
    "                    i = cycle_stack.index(child)\n",
    "                    if i < len(cycle_stack) - 2: \n",
    "                      output_cycles.add(get_hashable_cycle(cycle_stack[i:]))\n",
    "                \n",
    "            except StopIteration:\n",
    "                stack.pop()\n",
    "                cycle_stack.pop()\n",
    "    \n",
    "    return [list(i) for i in output_cycles]"
   ]
  },
  {
   "cell_type": "code",
   "execution_count": null,
   "metadata": {},
   "outputs": [],
   "source": [
    "find_all_cycles(Graph)"
   ]
  },
  {
   "cell_type": "code",
   "execution_count": null,
   "metadata": {},
   "outputs": [],
   "source": [
    "hull, _ = my_obj.compute_convex_hull()\n",
    "hull_ls = o3d.geometry.LineSet.create_from_triangle_mesh(hull)\n",
    "hull_ls.paint_uniform_color((1, 0, 0))\n",
    "o3d.visualization.draw_geometries([my_obj, hull_ls])"
   ]
  },
  {
   "cell_type": "code",
   "execution_count": null,
   "metadata": {},
   "outputs": [],
   "source": [
    "len(list(Obj1.pcd.points))"
   ]
  },
  {
   "cell_type": "code",
   "execution_count": null,
   "metadata": {
    "scrolled": true
   },
   "outputs": [],
   "source": [
    "Obj1.init(5)"
   ]
  },
  {
   "cell_type": "code",
   "execution_count": null,
   "metadata": {},
   "outputs": [],
   "source": [
    "Obj1.init_graph(alpha=0.2,gamma=0.5)"
   ]
  },
  {
   "cell_type": "code",
   "execution_count": null,
   "metadata": {},
   "outputs": [],
   "source": [
    "Obj1.create_crease(T=1,pattern_length_T=2)"
   ]
  },
  {
   "cell_type": "code",
   "execution_count": null,
   "metadata": {},
   "outputs": [],
   "source": [
    "Obj1.crease_pattern_pruned"
   ]
  },
  {
   "cell_type": "code",
   "execution_count": null,
   "metadata": {},
   "outputs": [],
   "source": [
    "Obj1.show_heat(Obj1.crease_pattern_pruned)"
   ]
  },
  {
   "cell_type": "code",
   "execution_count": null,
   "metadata": {},
   "outputs": [],
   "source": [
    "Obj1.set_edge_params(alpha=0.8,gamma=0.7)"
   ]
  },
  {
   "cell_type": "code",
   "execution_count": null,
   "metadata": {},
   "outputs": [],
   "source": [
    "Obj1.get_pattern(pattern=\"crease\",T=1.2,pattern_length_T=0.5)"
   ]
  },
  {
   "cell_type": "code",
   "execution_count": null,
   "metadata": {},
   "outputs": [],
   "source": [
    "Obj1.show(\"crease_after\")"
   ]
  },
  {
   "cell_type": "code",
   "execution_count": null,
   "metadata": {},
   "outputs": [],
   "source": [
    "Obj2.show(\"crease_after\")"
   ]
  },
  {
   "cell_type": "code",
   "execution_count": null,
   "metadata": {},
   "outputs": [],
   "source": []
  },
  {
   "cell_type": "code",
   "execution_count": null,
   "metadata": {},
   "outputs": [],
   "source": [
    "len(valid)"
   ]
  },
  {
   "cell_type": "code",
   "execution_count": null,
   "metadata": {},
   "outputs": [],
   "source": [
    "\n",
    "# from tqdm import tqdm\n",
    "# valid = []\n",
    "\n",
    "# for idx in tqdm(range(len(Obj1.pcd.points))):\n",
    "#     if idx not in invalid_pts:\n",
    "#         valid.append(idx)"
   ]
  },
  {
   "cell_type": "code",
   "execution_count": null,
   "metadata": {},
   "outputs": [],
   "source": []
  },
  {
   "cell_type": "code",
   "execution_count": null,
   "metadata": {},
   "outputs": [],
   "source": [
    "o3d.io.write_point_cloud(\"brick_01.ply\",my_obj)"
   ]
  },
  {
   "cell_type": "code",
   "execution_count": null,
   "metadata": {},
   "outputs": [],
   "source": [
    "Obj1.show_heat()"
   ]
  },
  {
   "cell_type": "code",
   "execution_count": null,
   "metadata": {},
   "outputs": [],
   "source": [
    "Obj2.show_heat(Obj2.w_co)"
   ]
  },
  {
   "cell_type": "code",
   "execution_count": null,
   "metadata": {},
   "outputs": [],
   "source": [
    "new_value = np.maximum(Obj1.w_co,Obj1.w_co)"
   ]
  },
  {
   "cell_type": "code",
   "execution_count": null,
   "metadata": {},
   "outputs": [],
   "source": [
    "Obj1.show_heat(Obj1.w_k)"
   ]
  },
  {
   "cell_type": "code",
   "execution_count": null,
   "metadata": {},
   "outputs": [],
   "source": [
    "Obj1.show_heat(Obj1.w_co)"
   ]
  },
  {
   "cell_type": "code",
   "execution_count": null,
   "metadata": {},
   "outputs": [],
   "source": [
    "from tqdm import tqdm\n",
    "import random\n",
    "N=60\n",
    "L=60\n",
    "noise_range = 0\n",
    "noise_d=100\n",
    "with open('data/my_cube.ply', 'w') as f:\n",
    "    f.write('ply\\n')\n",
    "    f.write('format ascii 1.0\\n')\n",
    "    f.write('element vertex '+str(N*N*6)+\"\\n\")\n",
    "    f.write('property float x \\n')\n",
    "    f.write('property float y\\n')\n",
    "    f.write('property float z \\n')\n",
    "    f.write('end_header\\n')\n",
    "    for zi in tqdm(range(N+1)):\n",
    "        for yi in range(N+1):\n",
    "            for xi in range(N+1):\n",
    "                counter = 0\n",
    "                if xi == N or xi == 0:\n",
    "                    counter+=1\n",
    "                if  yi == N or yi == 0:\n",
    "                    counter+=1\n",
    "                if zi == N or zi == 0:\n",
    "                    counter+=1\n",
    "                if counter >=1:\n",
    "                    f.write(str(xi*(L/N)+random.randint(0, noise_range)/noise_d)+\" \"+str(yi*(L/N)+random.randint(0, noise_range)/noise_d)+\" \"+str(zi*(L/N)++random.randint(0, noise_range)/noise_d)+\"\\n\")\n",
    "f.close()"
   ]
  },
  {
   "cell_type": "code",
   "execution_count": null,
   "metadata": {},
   "outputs": [],
   "source": [
    "import open3d as o3d\n",
    "import numpy as np\n",
    "import copy\n",
    "from tqdm import tqdm\n",
    "def draw_registration_result_original_color(source, target, transformation):\n",
    "    source_temp = copy.deepcopy(source)\n",
    "    source_temp.transform(transformation)\n",
    "    o3d.visualization.draw_geometries([source_temp, target])"
   ]
  },
  {
   "cell_type": "code",
   "execution_count": null,
   "metadata": {},
   "outputs": [],
   "source": [
    "import pandas as pd"
   ]
  },
  {
   "cell_type": "code",
   "execution_count": null,
   "metadata": {},
   "outputs": [],
   "source": [
    "test_table = []\n",
    "R_Range = ((0,2*np.pi),(0,2*np.pi),(0,2*np.pi))\n",
    "T_Range = ((0,20),(0,20),(0,20))\n",
    "for i in tqdm(range(100)):\n",
    "    R_X = np.random.uniform(R_Range[0][0],R_Range[0][1])\n",
    "    R_Y = np.random.uniform(R_Range[1][0],R_Range[1][1])\n",
    "    R_Z = np.random.uniform(R_Range[2][0],R_Range[2][1])\n",
    "\n",
    "    T_X = np.random.uniform(T_Range[0][0],T_Range[0][1])\n",
    "    T_Y = np.random.uniform(T_Range[1][0],T_Range[1][1])\n",
    "    T_Z = np.random.uniform(T_Range[2][0],T_Range[2][1])\n",
    "\n",
    "#     print(\"1. Load two point clouds and show initial pose\")\n",
    "    demo_colored_icp_pcds = o3d.data.DemoColoredICPPointClouds()\n",
    "    source = o3d.io.read_point_cloud(\"brick_03.ply\")\n",
    "    source.colors = o3d.utility.Vector3dVector(np.asarray([(0,1,0) for _ in source.points]).astype(np.float))\n",
    "    R = source.get_rotation_matrix_from_xyz((R_X, R_Y, R_Z))\n",
    "    source.rotate(R, center=(0, 0, 0))\n",
    "    source.translate((T_X, T_Y, T_Z))\n",
    "    source.estimate_normals()\n",
    "    target = o3d.io.read_point_cloud(\"brick_01.ply\")\n",
    "    target.colors = o3d.utility.Vector3dVector(np.asarray([(0,0,1) for _ in target.points]).astype(np.float))\n",
    "    target.estimate_normals()\n",
    "\n",
    "\n",
    "    # draw initial alignment\n",
    "    current_transformation = np.identity(4)\n",
    "    # draw_registration_result_original_color(source, target, current_transformation)\n",
    "    \n",
    "    \n",
    "    # point to plane ICP\n",
    "    current_transformation = np.identity(4)\n",
    "#     print(\"2. Point-to-plane ICP registration is applied on original point\")\n",
    "#     print(\"   clouds to refine the alignment. Distance threshold 0.02.\")\n",
    "    result_icp = o3d.pipelines.registration.registration_icp(\n",
    "        source,target,1000000000, current_transformation,    \n",
    "        o3d.pipelines.registration.TransformationEstimationPointToPoint(with_scaling =False),\n",
    "        o3d.pipelines.registration.ICPConvergenceCriteria(max_iteration=50000000))\n",
    "#     draw_registration_result_original_color(source, target,\n",
    "#                                             result_icp.transformation)\n",
    "\n",
    "\n",
    "    inv = np.linalg.inv(result_icp.transformation)\n",
    "    R_error = (np.sum(np.sqrt(np.square(R - inv[0:3,0:3])))/np.sum(np.abs(R)))*100\n",
    "    R_error = (np.sum(np.sqrt(np.square(R - inv[0:3,0:3]))))\n",
    "    T_Matrix = inv[:3,3]\n",
    "    T_error = (np.sum(np.sqrt(np.square((T_X, T_Y, T_Z) - T_Matrix)))/np.sum(np.abs((T_X, T_Y, T_Z))))*100\n",
    "    T_error = (np.sum(np.sqrt(np.square((T_X, T_Y, T_Z) - T_Matrix))))\n",
    "    \n",
    "    \n",
    "    test_table.append([(R_X, R_Y, R_Z),(T_X, T_Y, T_Z) , result_icp.transformation, R_error, T_error])"
   ]
  },
  {
   "cell_type": "code",
   "execution_count": null,
   "metadata": {},
   "outputs": [],
   "source": [
    "table = pd.DataFrame(test_table,columns=[\"Rotation\",\"Translation\",\"transformation\",\"R_ERROR\",\"T_ERROR\"])"
   ]
  },
  {
   "cell_type": "code",
   "execution_count": null,
   "metadata": {},
   "outputs": [],
   "source": [
    "table"
   ]
  },
  {
   "cell_type": "code",
   "execution_count": null,
   "metadata": {},
   "outputs": [],
   "source": [
    "print(table[\"R_ERROR\"].mean(),table[\"T_ERROR\"].mean())"
   ]
  },
  {
   "cell_type": "markdown",
   "metadata": {},
   "source": [
    "###### "
   ]
  },
  {
   "cell_type": "code",
   "execution_count": null,
   "metadata": {},
   "outputs": [],
   "source": [
    "T_error"
   ]
  },
  {
   "cell_type": "code",
   "execution_count": null,
   "metadata": {},
   "outputs": [],
   "source": [
    "result_icp.transformation"
   ]
  },
  {
   "cell_type": "code",
   "execution_count": null,
   "metadata": {},
   "outputs": [],
   "source": [
    "source = o3d.io.read_point_cloud(\"data/group8/RPf_00060_gt.ply\")\n",
    "source.colors = o3d.utility.Vector3dVector(np.asarray([(0,1,0) for _ in source.points]).astype(np.float))\n",
    "# R = source.get_rotation_matrix_from_xyz((np.pi / 8, np.pi / 6, 0))\n",
    "# print(R)\n",
    "# source.rotate(R, center=(0, 0, 0))\n",
    "# source.translate((0, 20, 20))\n",
    "source.estimate_normals()\n",
    "target = o3d.io.read_point_cloud(\"data/group8/RPf_00059_gt.ply\")\n",
    "target.colors = o3d.utility.Vector3dVector(np.asarray([(0,0,1) for _ in target.points]).astype(np.float))\n",
    "target.estimate_normals()\n",
    "draw_registration_result_original_color(source, target,np.identity(4))"
   ]
  },
  {
   "cell_type": "code",
   "execution_count": null,
   "metadata": {},
   "outputs": [],
   "source": [
    "result_icp.transformation"
   ]
  },
  {
   "cell_type": "code",
   "execution_count": null,
   "metadata": {},
   "outputs": [],
   "source": [
    "np.square(result_icp.transformation - current_transformation)"
   ]
  },
  {
   "cell_type": "code",
   "execution_count": null,
   "metadata": {},
   "outputs": [],
   "source": [
    "np.sum(np.square(result_icp.transformation - current_transformation))/sum(current_transformation)"
   ]
  },
  {
   "cell_type": "code",
   "execution_count": null,
   "metadata": {},
   "outputs": [],
   "source": [
    "source = o3d.io.read_point_cloud(\"proc0.ply\")"
   ]
  },
  {
   "cell_type": "code",
   "execution_count": null,
   "metadata": {},
   "outputs": [],
   "source": [
    "print(o3d.__version__)"
   ]
  },
  {
   "cell_type": "code",
   "execution_count": null,
   "metadata": {},
   "outputs": [],
   "source": [
    "\n",
    "mesh = o3d.io.read_triangle_mesh(\"data/cup_two/piece_0.obj.ply\")\n",
    "mesh.compute_vertex_normals()\n",
    "pcd = mesh.sample_points_poisson_disk(30000)"
   ]
  },
  {
   "cell_type": "code",
   "execution_count": null,
   "metadata": {},
   "outputs": [],
   "source": [
    "\n",
    "o3d.io.write_point_cloud(\"test0.ply\",pcd)"
   ]
  },
  {
   "cell_type": "code",
   "execution_count": null,
   "metadata": {},
   "outputs": [],
   "source": [
    "Obj1.pcd = pcd"
   ]
  },
  {
   "cell_type": "code",
   "execution_count": null,
   "metadata": {},
   "outputs": [],
   "source": [
    "Obj1.init(15)"
   ]
  },
  {
   "cell_type": "code",
   "execution_count": null,
   "metadata": {},
   "outputs": [],
   "source": [
    "import open3d as o3d\n",
    "import numpy as np\n",
    "from tqdm import tqdm"
   ]
  },
  {
   "cell_type": "code",
   "execution_count": null,
   "metadata": {},
   "outputs": [],
   "source": [
    "# FROM Open3D\n",
    "pcd = o3d.io.read_point_cloud(\"data/cup_two/Mesh.ply\")"
   ]
  },
  {
   "cell_type": "code",
   "execution_count": null,
   "metadata": {},
   "outputs": [],
   "source": [
    "pcd.points"
   ]
  },
  {
   "cell_type": "code",
   "execution_count": null,
   "metadata": {},
   "outputs": [],
   "source": [
    "pcd_tree = o3d.geometry.KDTreeFlann(pcd)"
   ]
  },
  {
   "cell_type": "code",
   "execution_count": null,
   "metadata": {},
   "outputs": [],
   "source": [
    "points = np.asarray(pcd.points)"
   ]
  },
  {
   "cell_type": "code",
   "execution_count": null,
   "metadata": {},
   "outputs": [],
   "source": [
    "print(\"Find its neighbors with distance less than 0.2, and paint them green.\")\n",
    "invalid_points = []\n",
    "for point in tqdm(points):\n",
    "    [k, idx, _] = pcd_tree.search_radius_vector_3d(point, 0.01)\n",
    "    invalid_points.extend(idx)\n",
    "    np.asarray(pcd.colors)[idx[1:], :] = [0, 1, 0]"
   ]
  },
  {
   "cell_type": "code",
   "execution_count": null,
   "metadata": {},
   "outputs": [],
   "source": [
    "len(set(invalid_points))"
   ]
  },
  {
   "cell_type": "code",
   "execution_count": null,
   "metadata": {},
   "outputs": [],
   "source": [
    "print(\"Visualize the point cloud.\")\n",
    "o3d.visualization.draw_geometries([pcd])"
   ]
  },
  {
   "cell_type": "code",
   "execution_count": null,
   "metadata": {},
   "outputs": [],
   "source": [
    "from tqdm import tqdm\n",
    "ln = sum([])\n",
    "with open('test_11.ply', 'w') as f:\n",
    "    f.write('ply\\n')\n",
    "    f.write('format ascii 1.0\\n')\n",
    "    f.write('element vertex '+str(np.asarray(VG_states>0.95).sum())+\"\\n\")\n",
    "    f.write('property float x \\n')\n",
    "    f.write('property float y\\n')\n",
    "    f.write('property float z \\n')\n",
    "    f.write('end_header\\n')\n",
    "    for zi in tqdm(range(N+1)):\n",
    "        f.write(str(xi)+\" \"+str(yi)+\" \"+str(zi)+\"\\n\")\n",
    "f.close()\n"
   ]
  },
  {
   "cell_type": "code",
   "execution_count": null,
   "metadata": {},
   "outputs": [],
   "source": [
    "kernel = np.float64(cv.getStructuringElement(cv.MORPH_ELLIPSE, (13, 13)))\n",
    "kernel /= np.sum(kernel)"
   ]
  },
  {
   "cell_type": "code",
   "execution_count": null,
   "metadata": {},
   "outputs": [],
   "source": []
  }
 ],
 "metadata": {
  "kernelspec": {
   "display_name": "Python [conda env:thesis]",
   "language": "python",
   "name": "conda-env-thesis-py"
  },
  "language_info": {
   "codemirror_mode": {
    "name": "ipython",
    "version": 3
   },
   "file_extension": ".py",
   "mimetype": "text/x-python",
   "name": "python",
   "nbconvert_exporter": "python",
   "pygments_lexer": "ipython3",
   "version": "3.9.12"
  }
 },
 "nbformat": 4,
 "nbformat_minor": 4
}
