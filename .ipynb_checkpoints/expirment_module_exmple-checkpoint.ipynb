{
 "cells": [
  {
   "cell_type": "code",
   "execution_count": 5,
   "id": "ce47384c",
   "metadata": {},
   "outputs": [],
   "source": [
    "from runner import experiment"
   ]
  },
  {
   "cell_type": "code",
   "execution_count": 6,
   "id": "bd1b0dad",
   "metadata": {},
   "outputs": [
    {
     "name": "stdout",
     "output_type": "stream",
     "text": [
      "{'data': [['data_test/trial_1\\\\repair_group15_pair1\\\\RPf_00105_gt.ply', 'data_test/trial_1\\\\repair_group15_pair1\\\\RPf_00108_gt.ply'], ['data_test/trial_1\\\\repair_group15_pair2\\\\RPf_00105_gt.ply', 'data_test/trial_1\\\\repair_group15_pair2\\\\RPf_00107_gt.ply'], ['data_test/trial_1\\\\repair_group15_pair3\\\\RPf_00103_gt.ply', 'data_test/trial_1\\\\repair_group15_pair3\\\\RPf_00107_gt.ply'], ['data_test/trial_1\\\\repair_group15_pair4\\\\RPf_00106_gt.ply', 'data_test/trial_1\\\\repair_group15_pair4\\\\RPf_00109_gt.ply'], ['data_test/trial_1\\\\repair_group15_pair5\\\\RPf_00098_gt.ply', 'data_test/trial_1\\\\repair_group15_pair5\\\\RPf_00099_gt.ply'], ['data_test/trial_1\\\\repair_group15_pair6\\\\RPf_00099_gt.ply', 'data_test/trial_1\\\\repair_group15_pair6\\\\RPf_00100_gt.ply'], ['data_test/trial_1\\\\repair_group15_pair7\\\\RPf_00098_gt.ply', 'data_test/trial_1\\\\repair_group15_pair7\\\\RPf_00100_gt.ply'], ['data_test/trial_1\\\\repair_group8_pair1\\\\RPf_00059_gt.ply', 'data_test/trial_1\\\\repair_group8_pair1\\\\RPf_00060_gt.ply'], ['data_test/trial_1\\\\repair_group8_pair2\\\\RPf_00059_gt.ply', 'data_test/trial_1\\\\repair_group8_pair2\\\\RPf_00061_gt.ply'], ['data_test/trial_1\\\\tuwien_brick_pair1\\\\brick_part01.ply', 'data_test/trial_1\\\\tuwien_brick_pair1\\\\brick_part02.ply'], ['data_test/trial_1\\\\tuwien_brick_pair2\\\\brick_part04.ply', 'data_test/trial_1\\\\tuwien_brick_pair2\\\\brick_part05.ply']], 'rotation': {'x': array([0.1, 0.2, 0.3, 0.4]), 'y': array([0.1, 0.2, 0.3, 0.4]), 'z': array([0.1, 0.2, 0.3, 0.4])}, 'translation': {'x': array([0.1, 0.2, 0.3, 0.4]), 'y': array([0.1, 0.2, 0.3, 0.4]), 'z': array([0.1, 0.2, 0.3, 0.4])}, 'piplines': [{'name': ['pipline_1'], 'para1': [15], 'para2': [2], 'para3': [2], 'para4': [2], 'para5': [0.95]}], 'tests': [['ICP_test']], 'evaluation': ['rms'], 'save_results': True}\n"
     ]
    }
   ],
   "source": [
    "my_expirments = experiment(\"test.yaml\")"
   ]
  },
  {
   "cell_type": "code",
   "execution_count": null,
   "id": "10b89bc1",
   "metadata": {},
   "outputs": [
    {
     "data": {
      "application/vnd.jupyter.widget-view+json": {
       "model_id": "5e6e58041074428a81d313d39a08126d",
       "version_major": 2,
       "version_minor": 0
      },
      "text/plain": [
       "  0%|          | 0/45056 [00:00<?, ?it/s]"
      ]
     },
     "metadata": {},
     "output_type": "display_data"
    }
   ],
   "source": [
    "my_expirments.run()"
   ]
  },
  {
   "cell_type": "code",
   "execution_count": null,
   "id": "90c4a056",
   "metadata": {},
   "outputs": [],
   "source": [
    "my_expirments.results"
   ]
  },
  {
   "cell_type": "code",
   "execution_count": null,
   "id": "846c6932",
   "metadata": {},
   "outputs": [],
   "source": []
  }
 ],
 "metadata": {
  "kernelspec": {
   "display_name": "Python [conda env:thesis]",
   "language": "python",
   "name": "conda-env-thesis-py"
  },
  "language_info": {
   "codemirror_mode": {
    "name": "ipython",
    "version": 3
   },
   "file_extension": ".py",
   "mimetype": "text/x-python",
   "name": "python",
   "nbconvert_exporter": "python",
   "pygments_lexer": "ipython3",
   "version": "3.9.12"
  }
 },
 "nbformat": 4,
 "nbformat_minor": 5
}
