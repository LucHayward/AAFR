{
 "cells": [
  {
   "cell_type": "code",
   "execution_count": 1,
   "metadata": {},
   "outputs": [
    {
     "name": "stdout",
     "output_type": "stream",
     "text": [
      "Jupyter environment detected. Enabling Open3D WebVisualizer.\n",
      "[Open3D INFO] WebRTC GUI backend enabled.\n",
      "[Open3D INFO] WebRTCWindowSystem: HTTP handshake server disabled.\n"
     ]
    }
   ],
   "source": [
    "import helper\n",
    "import numpy as np\n",
    "from tqdm import tqdm"
   ]
  },
  {
   "cell_type": "code",
   "execution_count": 2,
   "metadata": {},
   "outputs": [],
   "source": [
    "from helper import FeatureLines\n",
    "Obj1 = FeatureLines(\"data/brick/pcd4web/brick_part01.ply\",voxel_size=0.2)"
   ]
  },
  {
   "cell_type": "code",
   "execution_count": 3,
   "metadata": {},
   "outputs": [
    {
     "data": {
      "text/plain": [
       "3654"
      ]
     },
     "execution_count": 3,
     "metadata": {},
     "output_type": "execute_result"
    }
   ],
   "source": [
    "len(list(Obj1.pcd.points))"
   ]
  },
  {
   "cell_type": "code",
   "execution_count": 4,
   "metadata": {
    "scrolled": true
   },
   "outputs": [
    {
     "name": "stderr",
     "output_type": "stream",
     "text": [
      "100%|████████████████████████████████████████████████████████████████████████████| 3654/3654 [00:00<00:00, 3958.82it/s]\n",
      "C:\\Users\\alial\\Documents\\THESIS\\helper.py:167: RuntimeWarning: invalid value encountered in true_divide\n",
      "  e_vectors_dir = e_vectors/np.repeat(e_vectors_mag.reshape(e_vectors_mag.shape[0],e_vectors_mag.shape[1],1),3,axis=2)\n",
      "100%|████████████████████████████████████████████████████████████████████████████| 3654/3654 [00:00<00:00, 5213.95it/s]\n"
     ]
    }
   ],
   "source": [
    "Obj1.init(5)"
   ]
  },
  {
   "cell_type": "code",
   "execution_count": 5,
   "metadata": {},
   "outputs": [
    {
     "name": "stderr",
     "output_type": "stream",
     "text": [
      "100%|████████████████████████████████████████████████████████████████████████████| 3654/3654 [00:01<00:00, 2521.24it/s]\n"
     ]
    }
   ],
   "source": [
    "Obj1.init_graph(alpha=0.2,gamma=0.5)"
   ]
  },
  {
   "cell_type": "code",
   "execution_count": 6,
   "metadata": {},
   "outputs": [
    {
     "name": "stderr",
     "output_type": "stream",
     "text": [
      "100%|█████████████████████████████████████████████████████████████████████████████| 6.97k/6.97k [00:00<00:00, 55.8kB/s]\n",
      "100%|████████████████████████████████████████████████████████████████████████████| 2728/2728 [00:00<00:00, 8375.32it/s]"
     ]
    },
    {
     "name": "stdout",
     "output_type": "stream",
     "text": [
      "0.43349753694581283\n"
     ]
    },
    {
     "name": "stderr",
     "output_type": "stream",
     "text": [
      "\n"
     ]
    }
   ],
   "source": [
    "Obj1.create_crease(T=1,pattern_length_T=2)"
   ]
  },
  {
   "cell_type": "code",
   "execution_count": null,
   "metadata": {},
   "outputs": [],
   "source": [
    "Obj1.crease_pattern_pruned"
   ]
  },
  {
   "cell_type": "code",
   "execution_count": 9,
   "metadata": {},
   "outputs": [
    {
     "ename": "AttributeError",
     "evalue": "'list' object has no attribute 'shape'",
     "output_type": "error",
     "traceback": [
      "\u001b[1;31m---------------------------------------------------------------------------\u001b[0m",
      "\u001b[1;31mAttributeError\u001b[0m                            Traceback (most recent call last)",
      "Input \u001b[1;32mIn [9]\u001b[0m, in \u001b[0;36m<cell line: 1>\u001b[1;34m()\u001b[0m\n\u001b[1;32m----> 1\u001b[0m \u001b[43mObj1\u001b[49m\u001b[38;5;241;43m.\u001b[39;49m\u001b[43mshow_heat\u001b[49m\u001b[43m(\u001b[49m\u001b[43mObj1\u001b[49m\u001b[38;5;241;43m.\u001b[39;49m\u001b[43mcrease_pattern_pruned\u001b[49m\u001b[43m)\u001b[49m\n",
      "File \u001b[1;32m~\\Documents\\THESIS\\helper.py:393\u001b[0m, in \u001b[0;36mFeatureLines.show_heat\u001b[1;34m(self, weights, thre)\u001b[0m\n\u001b[0;32m    392\u001b[0m \u001b[38;5;28;01mdef\u001b[39;00m \u001b[38;5;21mshow_heat\u001b[39m(\u001b[38;5;28mself\u001b[39m,weights,thre \u001b[38;5;241m=\u001b[39m \u001b[38;5;241m0\u001b[39m):\n\u001b[1;32m--> 393\u001b[0m     \u001b[38;5;28;01mif\u001b[39;00m \u001b[43mweights\u001b[49m\u001b[38;5;241;43m.\u001b[39;49m\u001b[43mshape\u001b[49m[\u001b[38;5;241m-\u001b[39m\u001b[38;5;241m1\u001b[39m] \u001b[38;5;241m>\u001b[39m \u001b[38;5;241m1\u001b[39m:\n\u001b[0;32m    394\u001b[0m         weights \u001b[38;5;241m=\u001b[39m \u001b[38;5;241m1\u001b[39m\u001b[38;5;241m-\u001b[39m\u001b[38;5;28mself\u001b[39m\u001b[38;5;241m.\u001b[39mNormalizeData(np\u001b[38;5;241m.\u001b[39msqrt(np\u001b[38;5;241m.\u001b[39msum(weights \u001b[38;5;241m*\u001b[39m weights,axis\u001b[38;5;241m=\u001b[39m\u001b[38;5;241m1\u001b[39m)))\n\u001b[0;32m    395\u001b[0m     weights \u001b[38;5;241m=\u001b[39m weights\u001b[38;5;241m.\u001b[39mcopy()\n",
      "\u001b[1;31mAttributeError\u001b[0m: 'list' object has no attribute 'shape'"
     ]
    }
   ],
   "source": [
    "Obj1.show_heat(Obj1.crease_pattern_pruned)"
   ]
  },
  {
   "cell_type": "code",
   "execution_count": null,
   "metadata": {},
   "outputs": [],
   "source": [
    "Obj1.set_edge_params(alpha=0.8,gamma=0.7)"
   ]
  },
  {
   "cell_type": "code",
   "execution_count": null,
   "metadata": {},
   "outputs": [],
   "source": [
    "Obj1.get_pattern(pattern=\"crease\",T=1.2,pattern_length_T=0.5)"
   ]
  },
  {
   "cell_type": "code",
   "execution_count": null,
   "metadata": {},
   "outputs": [],
   "source": [
    "Obj1.show(\"crease_after\")"
   ]
  },
  {
   "cell_type": "code",
   "execution_count": null,
   "metadata": {},
   "outputs": [],
   "source": [
    "Obj2.show(\"crease_after\")"
   ]
  },
  {
   "cell_type": "code",
   "execution_count": null,
   "metadata": {},
   "outputs": [],
   "source": [
    "valid = []\n",
    "for idx,val in enumerate(Obj1.w_co):\n",
    "    if val<0.99:\n",
    "        valid.append(idx)"
   ]
  },
  {
   "cell_type": "code",
   "execution_count": null,
   "metadata": {},
   "outputs": [],
   "source": [
    "len(valid)"
   ]
  },
  {
   "cell_type": "code",
   "execution_count": null,
   "metadata": {},
   "outputs": [],
   "source": [
    "from copy import copy\n",
    "# from tqdm import tqdm\n",
    "# valid = []\n",
    "my_obj = copy(Obj1.pcd)\n",
    "# for idx in tqdm(range(len(Obj1.pcd.points))):\n",
    "#     if idx not in invalid_pts:\n",
    "#         valid.append(idx)"
   ]
  },
  {
   "cell_type": "code",
   "execution_count": null,
   "metadata": {},
   "outputs": [],
   "source": [
    "import open3d as o3d\n",
    "my_obj.points = o3d.utility.Vector3dVector(np.asarray(my_obj.points)[valid])\n",
    "o3d.visualization.draw_geometries([my_obj])"
   ]
  },
  {
   "cell_type": "code",
   "execution_count": null,
   "metadata": {},
   "outputs": [],
   "source": [
    "o3d.io.write_point_cloud(\"brick_01.ply\",my_obj)"
   ]
  },
  {
   "cell_type": "code",
   "execution_count": null,
   "metadata": {},
   "outputs": [],
   "source": [
    "Obj1.show_heat()"
   ]
  },
  {
   "cell_type": "code",
   "execution_count": null,
   "metadata": {},
   "outputs": [],
   "source": [
    "Obj2.show_heat(Obj2.w_co)"
   ]
  },
  {
   "cell_type": "code",
   "execution_count": null,
   "metadata": {},
   "outputs": [],
   "source": [
    "new_value = np.maximum(Obj1.w_co,Obj1.w_co)"
   ]
  },
  {
   "cell_type": "code",
   "execution_count": null,
   "metadata": {},
   "outputs": [],
   "source": [
    "Obj1.show_heat(Obj1.w_k)"
   ]
  },
  {
   "cell_type": "code",
   "execution_count": null,
   "metadata": {},
   "outputs": [],
   "source": [
    "Obj1.show_heat(Obj1.w_co)"
   ]
  },
  {
   "cell_type": "code",
   "execution_count": null,
   "metadata": {},
   "outputs": [],
   "source": [
    "from tqdm import tqdm\n",
    "import random\n",
    "N=60\n",
    "L=60\n",
    "noise_range = 0\n",
    "noise_d=100\n",
    "with open('data/my_cube.ply', 'w') as f:\n",
    "    f.write('ply\\n')\n",
    "    f.write('format ascii 1.0\\n')\n",
    "    f.write('element vertex '+str(N*N*6)+\"\\n\")\n",
    "    f.write('property float x \\n')\n",
    "    f.write('property float y\\n')\n",
    "    f.write('property float z \\n')\n",
    "    f.write('end_header\\n')\n",
    "    for zi in tqdm(range(N+1)):\n",
    "        for yi in range(N+1):\n",
    "            for xi in range(N+1):\n",
    "                counter = 0\n",
    "                if xi == N or xi == 0:\n",
    "                    counter+=1\n",
    "                if  yi == N or yi == 0:\n",
    "                    counter+=1\n",
    "                if zi == N or zi == 0:\n",
    "                    counter+=1\n",
    "                if counter >=1:\n",
    "                    f.write(str(xi*(L/N)+random.randint(0, noise_range)/noise_d)+\" \"+str(yi*(L/N)+random.randint(0, noise_range)/noise_d)+\" \"+str(zi*(L/N)++random.randint(0, noise_range)/noise_d)+\"\\n\")\n",
    "f.close()"
   ]
  },
  {
   "cell_type": "code",
   "execution_count": null,
   "metadata": {},
   "outputs": [],
   "source": [
    "import open3d as o3d\n",
    "import numpy as np\n",
    "import copy\n",
    "def draw_registration_result_original_color(source, target, transformation):\n",
    "    source_temp = copy.deepcopy(source)\n",
    "    source_temp.transform(transformation)\n",
    "    o3d.visualization.draw_geometries([source_temp, target])"
   ]
  },
  {
   "cell_type": "code",
   "execution_count": null,
   "metadata": {},
   "outputs": [],
   "source": [
    "print(\"1. Load two point clouds and show initial pose\")\n",
    "demo_colored_icp_pcds = o3d.data.DemoColoredICPPointClouds()\n",
    "source = o3d.io.read_point_cloud(\"data/brick/pcd4web/brick_part03.ply\")\n",
    "# R = source.get_rotation_matrix_from_xyz((np.pi / 8, np.pi / 6, 0))\n",
    "# source.rotate(R, center=(0, 0, 0))\n",
    "# source.translate((0, 4, 1.3))\n",
    "source.estimate_normals()\n",
    "target = o3d.io.read_point_cloud(\"data/brick/pcd4web/brick_part01.ply\")\n",
    "target.estimate_normals()\n",
    "print(len(list(source.points)),len(list(target.points)))\n",
    "\n",
    "# draw initial alignment\n",
    "current_transformation = np.identity(4)\n",
    "draw_registration_result_original_color(source, target, current_transformation)"
   ]
  },
  {
   "cell_type": "code",
   "execution_count": null,
   "metadata": {},
   "outputs": [],
   "source": [
    "# point to plane ICP\n",
    "current_transformation = np.identity(4)\n",
    "print(\"2. Point-to-plane ICP registration is applied on original point\")\n",
    "print(\"   clouds to refine the alignment. Distance threshold 0.02.\")\n",
    "result_icp = o3d.pipelines.registration.registration_icp(\n",
    "    source,target, 1000000, current_transformation,    \n",
    "    o3d.pipelines.registration.TransformationEstimationPointToPoint(with_scaling =False),\n",
    "    o3d.pipelines.registration.ICPConvergenceCriteria(max_iteration=4000))\n",
    "print(result_icp)\n",
    "draw_registration_result_original_color(source, target,\n",
    "                                        result_icp.transformation)"
   ]
  },
  {
   "cell_type": "code",
   "execution_count": null,
   "metadata": {},
   "outputs": [],
   "source": [
    "source = o3d.io.read_point_cloud(\"data/brick/pcd4web/brick_part03.ply\")\n",
    "R = source.get_rotation_matrix_from_xyz((np.pi / 8, np.pi / 6, 0))\n",
    "source.rotate(R, center=(0, 0, 0))\n",
    "source.translate((0, 4, 1.3))\n",
    "source.estimate_normals()\n",
    "target = o3d.io.read_point_cloud(\"data/brick/pcd4web/brick_part01.ply\")\n",
    "draw_registration_result_original_color(source, target,\n",
    "                                        result_icp.transformation)"
   ]
  },
  {
   "cell_type": "code",
   "execution_count": null,
   "metadata": {},
   "outputs": [],
   "source": [
    "source = o3d.io.read_point_cloud(\"proc0.ply\")"
   ]
  },
  {
   "cell_type": "code",
   "execution_count": null,
   "metadata": {},
   "outputs": [],
   "source": [
    "print(o3d.__version__)"
   ]
  },
  {
   "cell_type": "code",
   "execution_count": null,
   "metadata": {},
   "outputs": [],
   "source": [
    "\n",
    "mesh = o3d.io.read_triangle_mesh(\"data/cup_two/piece_0.obj.ply\")\n",
    "mesh.compute_vertex_normals()\n",
    "pcd = mesh.sample_points_poisson_disk(30000)"
   ]
  },
  {
   "cell_type": "code",
   "execution_count": null,
   "metadata": {},
   "outputs": [],
   "source": [
    "\n",
    "o3d.io.write_point_cloud(\"test0.ply\",pcd)"
   ]
  },
  {
   "cell_type": "code",
   "execution_count": null,
   "metadata": {},
   "outputs": [],
   "source": [
    "Obj1.pcd = pcd"
   ]
  },
  {
   "cell_type": "code",
   "execution_count": null,
   "metadata": {},
   "outputs": [],
   "source": [
    "Obj1.init(15)"
   ]
  },
  {
   "cell_type": "code",
   "execution_count": null,
   "metadata": {},
   "outputs": [],
   "source": [
    "import open3d as o3d\n",
    "import numpy as np\n",
    "from tqdm import tqdm"
   ]
  },
  {
   "cell_type": "code",
   "execution_count": null,
   "metadata": {},
   "outputs": [],
   "source": [
    "# FROM Open3D\n",
    "pcd = o3d.io.read_point_cloud(\"data/cup_two/Mesh.ply\")"
   ]
  },
  {
   "cell_type": "code",
   "execution_count": null,
   "metadata": {},
   "outputs": [],
   "source": [
    "pcd.points"
   ]
  },
  {
   "cell_type": "code",
   "execution_count": null,
   "metadata": {},
   "outputs": [],
   "source": [
    "pcd_tree = o3d.geometry.KDTreeFlann(pcd)"
   ]
  },
  {
   "cell_type": "code",
   "execution_count": null,
   "metadata": {},
   "outputs": [],
   "source": [
    "points = np.asarray(pcd.points)"
   ]
  },
  {
   "cell_type": "code",
   "execution_count": null,
   "metadata": {},
   "outputs": [],
   "source": [
    "print(\"Find its neighbors with distance less than 0.2, and paint them green.\")\n",
    "invalid_points = []\n",
    "for point in tqdm(points):\n",
    "    [k, idx, _] = pcd_tree.search_radius_vector_3d(point, 0.01)\n",
    "    invalid_points.extend(idx)\n",
    "    np.asarray(pcd.colors)[idx[1:], :] = [0, 1, 0]"
   ]
  },
  {
   "cell_type": "code",
   "execution_count": null,
   "metadata": {},
   "outputs": [],
   "source": [
    "len(set(invalid_points))"
   ]
  },
  {
   "cell_type": "code",
   "execution_count": null,
   "metadata": {},
   "outputs": [],
   "source": [
    "print(\"Visualize the point cloud.\")\n",
    "o3d.visualization.draw_geometries([pcd])"
   ]
  },
  {
   "cell_type": "code",
   "execution_count": null,
   "metadata": {},
   "outputs": [],
   "source": [
    "from tqdm import tqdm\n",
    "ln = sum([])\n",
    "with open('test_11.ply', 'w') as f:\n",
    "    f.write('ply\\n')\n",
    "    f.write('format ascii 1.0\\n')\n",
    "    f.write('element vertex '+str(np.asarray(VG_states>0.95).sum())+\"\\n\")\n",
    "    f.write('property float x \\n')\n",
    "    f.write('property float y\\n')\n",
    "    f.write('property float z \\n')\n",
    "    f.write('end_header\\n')\n",
    "    for zi in tqdm(range(N+1)):\n",
    "        f.write(str(xi)+\" \"+str(yi)+\" \"+str(zi)+\"\\n\")\n",
    "f.close()\n"
   ]
  }
 ],
 "metadata": {
  "kernelspec": {
   "display_name": "Python [conda env:thesis]",
   "language": "python",
   "name": "conda-env-thesis-py"
  },
  "language_info": {
   "codemirror_mode": {
    "name": "ipython",
    "version": 3
   },
   "file_extension": ".py",
   "mimetype": "text/x-python",
   "name": "python",
   "nbconvert_exporter": "python",
   "pygments_lexer": "ipython3",
   "version": "3.9.12"
  }
 },
 "nbformat": 4,
 "nbformat_minor": 4
}
