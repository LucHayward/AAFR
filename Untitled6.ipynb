{
 "cells": [
  {
   "cell_type": "code",
   "execution_count": 1,
   "id": "4bb6cecc",
   "metadata": {},
   "outputs": [],
   "source": [
    "import os\n",
    "import itertools\n",
    "import numpy as np\n",
    "import json\n",
    "import pandas as pd"
   ]
  },
  {
   "cell_type": "code",
   "execution_count": 2,
   "id": "1ddb9e33",
   "metadata": {},
   "outputs": [],
   "source": [
    "def save(name,test,number):\n",
    "    import os\n",
    "    from copy import deepcopy\n",
    "    import open3d as o3d\n",
    "    # Directory\n",
    "    directory = name\n",
    "\n",
    "    # Parent Directory path\n",
    "    parent_dir = \"results/breaking_bad_3\"\n",
    "\n",
    "    # Path\n",
    "    path = os.path.join(parent_dir, directory)\n",
    "\n",
    "    os.mkdir(path)\n",
    "    \n",
    "    \n",
    "    path_error = os.path.join(path, \"error.csv\")\n",
    "    \n",
    "    df_test = pd.DataFrame(test.results)\n",
    "    df_test[\"total\"] = df_test[\"R_error\"]+df_test[\"T_error\"]\n",
    "    df_test[\"transformations\"] = [el[2] for el in test.result_transformation_arr]\n",
    "    df_test.to_csv(path_error, encoding='utf-8')\n",
    "    \n",
    "    idx = number\n",
    "    \n",
    "    \n",
    "    pcd1 = deepcopy(test.Obj1.pcd)\n",
    "    pcd2 = deepcopy(test.Obj2.pcd)\n",
    "    pcd1.colors = o3d.utility.Vector3dVector(np.asarray([(0,1,0) for _ in pcd1.points]).astype(\"float\"))\n",
    "    pcd2.colors = o3d.utility.Vector3dVector(np.asarray([(0,0,1) for _ in pcd2.points]).astype(\"float\"))\n",
    "    pcd2.transform(np.eye(4))\n",
    "    o3d.io.write_point_cloud(os.path.join(path, \"Obj1_before.ply\"), pcd1, compressed=True)\n",
    "    o3d.io.write_point_cloud(os.path.join(path, \"Obj2_before.ply\"), pcd2, compressed=True)\n",
    "\n",
    "    pcd2.transform(test.result_transformation_arr[idx][2])\n",
    "    o3d.io.write_point_cloud(os.path.join(path, \"Obj1_after.ply\"), pcd1, compressed=True)\n",
    "    o3d.io.write_point_cloud(os.path.join(path, \"Obj2_after.ply\"), pcd2, compressed=True)\n",
    "    print(\"saved\")\n",
    "    \n",
    "    \n",
    "def do_object(name,Obj1_url,Obj2_url):\n",
    "    import ast\n",
    "\n",
    "    from runner import test\n",
    "    import numpy as np\n",
    "\n",
    "    number = 192\n",
    "\n",
    "    #objects\n",
    "    Obj1_url =  Obj1_url\n",
    "    Obj2_url =  Obj2_url\n",
    "\n",
    "    #Before Evaluate do a Rotation and translation of\n",
    "    init_R_T = ((0.2, 0.2, 0.1), (-0.5, -0.5, -0.5))\n",
    "\n",
    "\n",
    "    #pipline name and pipline parameters\n",
    "    pipline_name = \"pipline_breaking_bottle_70\"\n",
    "\n",
    "    N = 15\n",
    "    t1 = 100\n",
    "    t2 = 100\n",
    "    t3 = 100\n",
    "\n",
    "\n",
    "    #threshold for corner\n",
    "    thre = 0.95\n",
    "\n",
    "    pipline_variables = (N, t1, t2, t3, thre)\n",
    "\n",
    "    #test\n",
    "    test_name = \"ICP_test\"\n",
    "\n",
    "    # eval \n",
    "\n",
    "    eval_list = [\"rms\"]\n",
    "\n",
    "    test_breaking_4 = test(Obj2_url, Obj1_url, init_R_T, pipline_name, pipline_variables, test_name, eval_list, show_results = True, save_results=False)\n",
    "\n",
    "    my_results = test_breaking_4.run()\n",
    "    import pandas as pd\n",
    "    df_breaking_4 = pd.DataFrame(test_breaking_4.results)\n",
    "    df_breaking_4[\"total\"] = df_breaking_4[\"R_error\"]+df_breaking_4[\"T_error\"]\n",
    "    df_breaking_4.sort_values('T_error')\n",
    "    min_number = df_breaking_4['T_error'].idxmin()\n",
    "    save(name,test_breaking_4,min_number)\n",
    "    print(name,\"--> DONE --> \",str(df_breaking_4['T_error'][min_number]))\n",
    "    \n",
    "def get_all_pairs(folder):\n",
    "    all_data = []\n",
    "    data = []\n",
    "    for dirpath, dirnames, filenames in os.walk(folder):\n",
    "        for filename in [f for f in filenames if f.endswith(\".obj\")]:\n",
    "            data.append((dirpath, os.path.join(dirpath, filename)))\n",
    "    key_func = lambda x: x[0]\n",
    "    for key, group in itertools.groupby(data, key_func):\n",
    "        \n",
    "        all_data.append([((\"_\".join(\"_\".join(filename.split('/')[-1:]).split(\"\\\\\")[:-1])),filename) for dirname, filename in list(group)])\n",
    "    return all_data\n",
    "\n",
    "def do_all_objects(folder):\n",
    "    data = []\n",
    "    pairs = get_all_pairs(folder)\n",
    "    print(pairs)\n",
    "    for test in pairs:\n",
    "        pair1,pair2 = test\n",
    "        name = pair1[0]\n",
    "        Obj_url_1 = pair1[1]\n",
    "        Obj_url_2 = pair2[1]\n",
    "        do_object(name,Obj_url_1,Obj_url_2)\n",
    "        data.append({ \"name\":name,\"init_R_T\":((0.2, 0.2, 0.1), (-1, -1, 2)),\"Obj1_url\":Obj_url_1, \"Obj2_url\":Obj_url_2})\n",
    "    # Serialize data into file:\n",
    "    json.dump( data, open( folder+\"/results.json\", 'w' ) )"
   ]
  },
  {
   "cell_type": "code",
   "execution_count": null,
   "id": "b0c2eebc",
   "metadata": {},
   "outputs": [
    {
     "name": "stdout",
     "output_type": "stream",
     "text": [
      "[[('fractured_70', 'data_test/breaking_bad_3/fractured_70\\\\piece_0.obj'), ('fractured_70', 'data_test/breaking_bad_3/fractured_70\\\\piece_1.obj')]]\n",
      "Jupyter environment detected. Enabling Open3D WebVisualizer.\n",
      "[Open3D INFO] WebRTC GUI backend enabled.\n",
      "[Open3D INFO] WebRTCWindowSystem: HTTP handshake server disabled.\n",
      "_________________________First Object_________________________\n",
      "start\n",
      "1.obj\n",
      "starting init\n",
      "starting calculating atts\n"
     ]
    },
    {
     "name": "stderr",
     "output_type": "stream",
     "text": [
      "100%|██████████████████████████████████████████████████████████████████████████| 40000/40000 [00:19<00:00, 2089.18it/s]\n"
     ]
    },
    {
     "name": "stdout",
     "output_type": "stream",
     "text": [
      "starting calculating w_co\n",
      "my radius is :  0.003641633790483697\n",
      "406096\n",
      "After graph 40000\n",
      "constructing borders\n",
      "3972\n",
      "shortest_allowed_branch_length 2.0\n",
      "smallest_isolated_island_length 2.0\n",
      "shortest_cycle_length 2.0\n",
      "my radius is :  0.0069785716709151015\n",
      "94750\n",
      "After graph 3958\n",
      "After Pruning 3956\n",
      "After Pruning 3958\n",
      "dilation and segmentation\n",
      "borders dilated\n"
     ]
    },
    {
     "name": "stderr",
     "output_type": "stream",
     "text": [
      "  7%|█████▍                                                                       | 2800/40000 [00:58<09:19, 66.51it/s]"
     ]
    },
    {
     "name": "stdout",
     "output_type": "stream",
     "text": [
      "273\n"
     ]
    },
    {
     "name": "stderr",
     "output_type": "stream",
     "text": [
      "190691it [48:52, 88.56it/s]                                                                                            "
     ]
    },
    {
     "name": "stdout",
     "output_type": "stream",
     "text": [
      "19110\n"
     ]
    },
    {
     "name": "stderr",
     "output_type": "stream",
     "text": [
      "\r",
      "190702it [48:52, 54.21it/s]"
     ]
    },
    {
     "name": "stdout",
     "output_type": "stream",
     "text": [
      "1\n"
     ]
    },
    {
     "name": "stderr",
     "output_type": "stream",
     "text": [
      "243414it [59:24, 91.35it/s] "
     ]
    },
    {
     "name": "stdout",
     "output_type": "stream",
     "text": [
      "5307\n"
     ]
    },
    {
     "name": "stderr",
     "output_type": "stream",
     "text": [
      "243898it [59:32, 97.64it/s] "
     ]
    },
    {
     "name": "stdout",
     "output_type": "stream",
     "text": [
      "50\n"
     ]
    },
    {
     "name": "stderr",
     "output_type": "stream",
     "text": [
      "\r",
      "243919it [59:33, 33.66it/s]"
     ]
    },
    {
     "name": "stdout",
     "output_type": "stream",
     "text": [
      "1\n"
     ]
    },
    {
     "name": "stderr",
     "output_type": "stream",
     "text": [
      "\r",
      "243927it [59:34, 21.74it/s]"
     ]
    },
    {
     "name": "stdout",
     "output_type": "stream",
     "text": [
      "1\n"
     ]
    },
    {
     "name": "stderr",
     "output_type": "stream",
     "text": [
      "\r",
      "243938it [59:37, 11.09it/s]"
     ]
    },
    {
     "name": "stdout",
     "output_type": "stream",
     "text": [
      "1\n"
     ]
    },
    {
     "name": "stderr",
     "output_type": "stream",
     "text": [
      "244420it [59:55, 83.01it/s]"
     ]
    },
    {
     "name": "stdout",
     "output_type": "stream",
     "text": [
      "47\n"
     ]
    },
    {
     "name": "stderr",
     "output_type": "stream",
     "text": [
      "247175it [1:00:28, 96.52it/s] "
     ]
    },
    {
     "name": "stdout",
     "output_type": "stream",
     "text": [
      "271\n"
     ]
    },
    {
     "name": "stderr",
     "output_type": "stream",
     "text": [
      "247828it [1:00:45, 102.87it/s]"
     ]
    },
    {
     "name": "stdout",
     "output_type": "stream",
     "text": [
      "63\n"
     ]
    },
    {
     "name": "stderr",
     "output_type": "stream",
     "text": [
      "250539it [1:01:28, 91.03it/s] "
     ]
    },
    {
     "name": "stdout",
     "output_type": "stream",
     "text": [
      "260\n"
     ]
    },
    {
     "name": "stderr",
     "output_type": "stream",
     "text": [
      "250579it [1:01:35, 10.99it/s]"
     ]
    },
    {
     "name": "stdout",
     "output_type": "stream",
     "text": [
      "2\n"
     ]
    },
    {
     "name": "stderr",
     "output_type": "stream",
     "text": [
      "250711it [1:01:36, 68.57it/s]"
     ]
    },
    {
     "name": "stdout",
     "output_type": "stream",
     "text": [
      "15\n"
     ]
    },
    {
     "name": "stderr",
     "output_type": "stream",
     "text": [
      "251026it [1:01:40, 95.28it/s]"
     ]
    },
    {
     "name": "stdout",
     "output_type": "stream",
     "text": [
      "28\n"
     ]
    },
    {
     "name": "stderr",
     "output_type": "stream",
     "text": [
      "251820it [1:02:04, 93.32it/s] "
     ]
    },
    {
     "name": "stdout",
     "output_type": "stream",
     "text": [
      "82\n"
     ]
    },
    {
     "name": "stderr",
     "output_type": "stream",
     "text": [
      "251840it [1:02:09, 11.45it/s]"
     ]
    },
    {
     "name": "stdout",
     "output_type": "stream",
     "text": [
      "3\n"
     ]
    },
    {
     "name": "stderr",
     "output_type": "stream",
     "text": [
      "251868it [1:02:09, 18.78it/s]"
     ]
    },
    {
     "name": "stdout",
     "output_type": "stream",
     "text": [
      "2\n"
     ]
    },
    {
     "name": "stderr",
     "output_type": "stream",
     "text": [
      "251890it [1:02:11, 16.24it/s]"
     ]
    },
    {
     "name": "stdout",
     "output_type": "stream",
     "text": [
      "1\n"
     ]
    },
    {
     "name": "stderr",
     "output_type": "stream",
     "text": [
      "251937it [1:02:12, 39.26it/s]"
     ]
    },
    {
     "name": "stdout",
     "output_type": "stream",
     "text": [
      "5\n"
     ]
    },
    {
     "name": "stderr",
     "output_type": "stream",
     "text": [
      "\r",
      "251948it [1:02:12, 28.93it/s]"
     ]
    },
    {
     "name": "stdout",
     "output_type": "stream",
     "text": [
      "2\n"
     ]
    },
    {
     "name": "stderr",
     "output_type": "stream",
     "text": [
      "252088it [1:02:14, 88.84it/s]"
     ]
    },
    {
     "name": "stdout",
     "output_type": "stream",
     "text": [
      "14\n"
     ]
    },
    {
     "name": "stderr",
     "output_type": "stream",
     "text": [
      "252118it [1:02:24,  6.99it/s]"
     ]
    },
    {
     "name": "stdout",
     "output_type": "stream",
     "text": [
      "1\n"
     ]
    },
    {
     "name": "stderr",
     "output_type": "stream",
     "text": [
      "253705it [1:02:42, 97.90it/s] "
     ]
    },
    {
     "name": "stdout",
     "output_type": "stream",
     "text": [
      "161\n"
     ]
    },
    {
     "name": "stderr",
     "output_type": "stream",
     "text": [
      "\r",
      "253725it [1:02:48,  8.88it/s]"
     ]
    },
    {
     "name": "stdout",
     "output_type": "stream",
     "text": [
      "1\n"
     ]
    },
    {
     "name": "stderr",
     "output_type": "stream",
     "text": [
      "253725it [1:02:54, 67.22it/s]\n"
     ]
    },
    {
     "name": "stdout",
     "output_type": "stream",
     "text": [
      "got faces\n",
      "KNN Radius :  0.003641633790483697\n"
     ]
    }
   ],
   "source": [
    "do_all_objects(\"data_test/breaking_bad_3/\")"
   ]
  }
 ],
 "metadata": {
  "kernelspec": {
   "display_name": ".env",
   "language": "python",
   "name": ".env"
  },
  "language_info": {
   "codemirror_mode": {
    "name": "ipython",
    "version": 3
   },
   "file_extension": ".py",
   "mimetype": "text/x-python",
   "name": "python",
   "nbconvert_exporter": "python",
   "pygments_lexer": "ipython3",
   "version": "3.9.0"
  }
 },
 "nbformat": 4,
 "nbformat_minor": 5
}
