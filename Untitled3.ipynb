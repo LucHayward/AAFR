{
 "cells": [
  {
   "cell_type": "code",
   "execution_count": null,
   "id": "b13fc381",
   "metadata": {},
   "outputs": [],
   "source": [
    "import pandas as pd"
   ]
  },
  {
   "cell_type": "code",
   "execution_count": null,
   "id": "dda19ba9",
   "metadata": {},
   "outputs": [],
   "source": [
    "df = pd.read_csv(\"results/results.csv\")"
   ]
  },
  {
   "cell_type": "code",
   "execution_count": null,
   "id": "f6fc5d60",
   "metadata": {},
   "outputs": [],
   "source": [
    "asd = df.groupby(['obj1', 'obj2'])[\"Total_error\"].idxmin()"
   ]
  },
  {
   "cell_type": "code",
   "execution_count": null,
   "id": "e8ebaba5",
   "metadata": {
    "scrolled": true
   },
   "outputs": [],
   "source": [
    "df.iloc[asd][['obj1', 'obj2',\"R & T\",\"R_error\",\"T_error\",\"Total_error\"]]"
   ]
  },
  {
   "cell_type": "code",
   "execution_count": null,
   "id": "08d29148",
   "metadata": {},
   "outputs": [],
   "source": [
    "def save(name,test,number):\n",
    "    import os\n",
    "    from copy import deepcopy\n",
    "    import open3d as o3d\n",
    "    # Directory\n",
    "    directory = name\n",
    "\n",
    "    # Parent Directory path\n",
    "    parent_dir = \"results/\"\n",
    "\n",
    "    # Path\n",
    "    path = os.path.join(parent_dir, directory)\n",
    "\n",
    "    os.mkdir(path)\n",
    "    \n",
    "    \n",
    "    path_error = os.path.join(path, \"error.csv\")\n",
    "    \n",
    "    df_test = pd.DataFrame(test.results)\n",
    "    df_test[\"total\"] = df_test[\"R_error\"]+df_test[\"T_error\"]\n",
    "    df_test[\"transformations\"] = [el[2] for el in test.result_transformation_arr]\n",
    "    df_test.to_csv(path_error, encoding='utf-8')\n",
    "    \n",
    "    idx = number\n",
    "    \n",
    "    \n",
    "    pcd1 = deepcopy(test.Obj1.pcd)\n",
    "    pcd2 = deepcopy(test.Obj2.pcd)\n",
    "    pcd1.colors = o3d.utility.Vector3dVector(np.asarray([(0,1,0) for _ in pcd1.points]).astype(\"float\"))\n",
    "    pcd2.colors = o3d.utility.Vector3dVector(np.asarray([(0,0,1) for _ in pcd2.points]).astype(\"float\"))\n",
    "    pcd2.transform(np.eye(4))\n",
    "    o3d.io.write_point_cloud(os.path.join(path, \"Obj1_before.ply\"), pcd1, compressed=True)\n",
    "    o3d.io.write_point_cloud(os.path.join(path, \"Obj2_before.ply\"), pcd2, compressed=True)\n",
    "\n",
    "    pcd2.transform(test.result_transformation_arr[idx][2])\n",
    "    o3d.io.write_point_cloud(os.path.join(path, \"Obj1_after.ply\"), pcd1, compressed=True)\n",
    "    o3d.io.write_point_cloud(os.path.join(path, \"Obj2_after.ply\"), pcd2, compressed=True)\n",
    "    print(\"saved\")\n",
    "    \n",
    "    "
   ]
  },
  {
   "cell_type": "code",
   "execution_count": null,
   "id": "7a6cbc78",
   "metadata": {},
   "outputs": [],
   "source": [
    "def save_arr(name,test):\n",
    "    import os\n",
    "    from copy import deepcopy\n",
    "    import open3d as o3d\n",
    "    # Directory\n",
    "    directory = name\n",
    "\n",
    "    # Parent Directory path\n",
    "    parent_dir = \"results/\"\n",
    "\n",
    "    # Path\n",
    "    path = os.path.join(parent_dir, directory)\n",
    "\n",
    "    os.mkdir(path)\n",
    "    for i,(obj1,obj2) in enumerate(zip(test.Obj1_array,test.Obj1_array)):\n",
    "        pcd1 = deepcopy(obj1.pcd)\n",
    "        pcd2 = deepcopy(obj2.pcd)\n",
    "        pcd1.colors = o3d.utility.Vector3dVector(np.asarray([(0,1,0) for _ in pcd1.points]).astype(\"float\"))\n",
    "        pcd2.colors = o3d.utility.Vector3dVector(np.asarray([(0,0,1) for _ in pcd2.points]).astype(\"float\"))\n",
    "        pcd2.transform(np.eye(4))\n",
    "        o3d.io.write_point_cloud(os.path.join(path, str(i)+\"_Obj1.ply\"), pcd1, compressed=True)\n",
    "        o3d.io.write_point_cloud(os.path.join(path, str(i)+\"Obj2.ply\"), pcd2, compressed=True)\n",
    "    print(\"saved\")\n",
    "    \n",
    "    "
   ]
  },
  {
   "cell_type": "code",
   "execution_count": null,
   "id": "1aa26002",
   "metadata": {},
   "outputs": [],
   "source": [
    "df.iloc[384]"
   ]
  },
  {
   "cell_type": "code",
   "execution_count": null,
   "id": "b5a1725c",
   "metadata": {},
   "outputs": [],
   "source": [
    "from runner import test\n",
    "import numpy as np\n",
    "\n",
    "#objects\n",
    "Obj1_url = df.iloc[384][\"obj2\"]\n",
    "Obj2_url = df.iloc[384][\"obj1\"]\n",
    "\n",
    "#Before Evaluate do a Rotation and translation of\n",
    "init_R_T = ast.literal_eval(df.iloc[384][\"R & T\"])\n",
    "\n",
    "\n",
    "#pipline name and pipline parameters\n",
    "pipline_name = df.iloc[384][\"pipeline\"]\n",
    "\n",
    "\n",
    "pipline_variables = ast.literal_eval(df.iloc[384][\"params\"])\n",
    "\n",
    "#test\n",
    "test_name = df.iloc[384][\"test\"]\n",
    "\n",
    "# eval \n",
    "\n",
    "eval_list = [\"rms\"]\n",
    "\n",
    "test1 = test(Obj2_url, Obj1_url, init_R_T, pipline_name, pipline_variables, test_name, eval_list, show_results = True, save_results=False)\n",
    "\n",
    "my_results = test1.run()"
   ]
  },
  {
   "cell_type": "code",
   "execution_count": null,
   "id": "5c2805ad",
   "metadata": {},
   "outputs": [],
   "source": [
    "test1.draw_registration_result_original_color(test1.Obj2,test1.Obj1,test1.result_transformation_arr[0][2])"
   ]
  },
  {
   "cell_type": "code",
   "execution_count": null,
   "id": "a4185961",
   "metadata": {},
   "outputs": [],
   "source": [
    "from runner import test\n",
    "import numpy as np\n",
    "\n",
    "#objects\n",
    "Obj1_url = df.iloc[273][\"obj2\"]\n",
    "Obj2_url = df.iloc[273][\"obj1\"]\n",
    "\n",
    "#Before Evaluate do a Rotation and translation of\n",
    "init_R_T = ast.literal_eval(df.iloc[273][\"R & T\"])\n",
    "\n",
    "\n",
    "#pipline name and pipline parameters\n",
    "pipline_name = df.iloc[273][\"pipeline\"]\n",
    "\n",
    "\n",
    "pipline_variables = ast.literal_eval(df.iloc[273][\"params\"])\n",
    "\n",
    "#test\n",
    "test_name = df.iloc[273][\"test\"]\n",
    "\n",
    "# eval \n",
    "\n",
    "eval_list = [\"rms\"]\n",
    "\n",
    "test2 = test(Obj2_url, Obj1_url, init_R_T, pipline_name, pipline_variables, test_name, eval_list, show_results = True, save_results=False)\n",
    "\n",
    "my_results = test2.run()"
   ]
  },
  {
   "cell_type": "code",
   "execution_count": null,
   "id": "f68b0508",
   "metadata": {},
   "outputs": [],
   "source": [
    "test2.draw_registration_result_original_color(test1.Obj2,test1.Obj1,np.eye(4))"
   ]
  },
  {
   "cell_type": "code",
   "execution_count": null,
   "id": "efe58da3",
   "metadata": {},
   "outputs": [],
   "source": [
    "test2.draw_registration_result_original_color(test1.Obj2,test1.Obj1,test1.result_transformation_arr[0][2])"
   ]
  },
  {
   "cell_type": "code",
   "execution_count": null,
   "id": "0a759545",
   "metadata": {},
   "outputs": [],
   "source": [
    "from runner import test\n",
    "import numpy as np\n",
    "\n",
    "#objects\n",
    "Obj1_url = df.iloc[455][\"obj2\"]\n",
    "Obj2_url = df.iloc[455][\"obj1\"]\n",
    "\n",
    "#Before Evaluate do a Rotation and translation of\n",
    "init_R_T = ast.literal_eval(df.iloc[455][\"R & T\"])\n",
    "\n",
    "\n",
    "#pipline name and pipline parameters\n",
    "pipline_name = df.iloc[455][\"pipeline\"]\n",
    "\n",
    "\n",
    "pipline_variables = ast.literal_eval(df.iloc[273][\"params\"])\n",
    "\n",
    "#test\n",
    "test_name = df.iloc[455][\"test\"]\n",
    "\n",
    "# eval \n",
    "\n",
    "eval_list = [\"rms\"]\n",
    "\n",
    "test4 = test(Obj2_url, Obj1_url, init_R_T, pipline_name, pipline_variables, test_name, eval_list, show_results = True, save_results=False)\n",
    "\n",
    "my_results = test4.run()"
   ]
  },
  {
   "cell_type": "code",
   "execution_count": null,
   "id": "2b3d12a3",
   "metadata": {},
   "outputs": [],
   "source": [
    "test4.draw_registration_result_original_color(test4.Obj2,test4.Obj1,np.eye(4))"
   ]
  },
  {
   "cell_type": "code",
   "execution_count": null,
   "id": "020fbd8f",
   "metadata": {},
   "outputs": [],
   "source": [
    "test4.draw_registration_result_original_color(test4.Obj2,test4.Obj1,test4.result_transformation_arr[0][2])"
   ]
  },
  {
   "cell_type": "code",
   "execution_count": null,
   "id": "304935b6",
   "metadata": {},
   "outputs": [],
   "source": [
    "from runner import test\n",
    "import numpy as np\n",
    "\n",
    "#objects\n",
    "Obj1_url = df.iloc[180][\"obj2\"]\n",
    "Obj2_url = df.iloc[180][\"obj1\"]\n",
    "\n",
    "#Before Evaluate do a Rotation and translation of\n",
    "init_R_T = ast.literal_eval(df.iloc[180][\"R & T\"])\n",
    "\n",
    "\n",
    "#pipline name and pipline parameters\n",
    "pipline_name = df.iloc[180][\"pipeline\"]\n",
    "\n",
    "\n",
    "pipline_variables = ast.literal_eval(df.iloc[180][\"params\"])\n",
    "\n",
    "#test\n",
    "test_name = df.iloc[180][\"test\"]\n",
    "\n",
    "# eval \n",
    "\n",
    "eval_list = [\"rms\"]\n",
    "\n",
    "test3 = test(Obj2_url, Obj1_url, init_R_T, pipline_name, pipline_variables, test_name, eval_list, show_results = True, save_results=False)\n",
    "\n",
    "my_results = test3.run()"
   ]
  },
  {
   "cell_type": "code",
   "execution_count": null,
   "id": "d42a3510",
   "metadata": {},
   "outputs": [],
   "source": [
    "from runner import test\n",
    "import numpy as np\n",
    "\n",
    "#objects\n",
    "Obj1_url = df.iloc[521][\"obj2\"]\n",
    "Obj2_url = df.iloc[521][\"obj1\"]\n",
    "\n",
    "#Before Evaluate do a Rotation and translation of\n",
    "init_R_T = ast.literal_eval(df.iloc[521][\"R & T\"])\n",
    "\n",
    "\n",
    "#pipline name and pipline parameters\n",
    "pipline_name = df.iloc[521][\"pipeline\"]\n",
    "\n",
    "\n",
    "pipline_variables = ast.literal_eval(df.iloc[521][\"params\"])\n",
    "\n",
    "#test\n",
    "test_name = df.iloc[521][\"test\"]\n",
    "\n",
    "# eval \n",
    "\n",
    "eval_list = [\"rms\"]\n",
    "\n",
    "test5 = test(Obj2_url, Obj1_url, init_R_T, pipline_name, pipline_variables, test_name, eval_list, show_results = True, save_results=False)\n",
    "\n",
    "my_results = test5.run()"
   ]
  },
  {
   "cell_type": "code",
   "execution_count": null,
   "id": "bd9110a9",
   "metadata": {},
   "outputs": [],
   "source": [
    "test5.draw_registration_result_original_color(test5.Obj2,test5.Obj1,np.eye(4))"
   ]
  },
  {
   "cell_type": "code",
   "execution_count": null,
   "id": "32ff3691",
   "metadata": {},
   "outputs": [],
   "source": [
    "test5.draw_registration_result_original_color(test5.Obj2,test5.Obj1,test5.result_transformation_arr[0][2])"
   ]
  },
  {
   "cell_type": "code",
   "execution_count": null,
   "id": "030a7a04",
   "metadata": {},
   "outputs": [],
   "source": []
  },
  {
   "cell_type": "code",
   "execution_count": null,
   "id": "c5f05f1c",
   "metadata": {},
   "outputs": [],
   "source": [
    "# from copy import deepcopy,copy\n",
    "# import random\n",
    "\n",
    "# import open3d as o3d\n",
    "# import numpy as np\n",
    "\n",
    "# def dilate_border(my_obj,border,size):\n",
    "#     tmp_Obj = copy(my_obj)\n",
    "#     tmp_Obj.pcd = copy(my_obj.pcd)\n",
    "#     pcd_tree = o3d.geometry.KDTreeFlann(tmp_Obj.pcd)\n",
    "#     w_co = copy(tmp_Obj.w_co)\n",
    "#     new_borders = []\n",
    "#     for idx in border:\n",
    "#         point = tmp_Obj.pcd.points[idx]\n",
    "#         [k, idx, _] = pcd_tree.search_radius_vector_3d(point,size)\n",
    "#         new_borders.extend(idx)\n",
    "#     return new_borders\n",
    "\n",
    "# def get_sides(Graph, borders):\n",
    "#     faces = []\n",
    "#     all_visited = set()\n",
    "#     nodes = list(Graph.nodes)\n",
    "#     while len(nodes):\n",
    "#         random_point = nodes.pop(0)\n",
    "#         while random_point in all_visited:\n",
    "#             if not len(nodes):\n",
    "#                 sorted_faces = sorted(faces,key = lambda key:key[0], reverse = True)\n",
    "#                 return sorted_faces[:10]\n",
    "#             random_point = nodes.pop(0)\n",
    "       \n",
    "#         queue = [random_point]\n",
    "#         visited = set()\n",
    "#         while len(queue):\n",
    "#             point = queue.pop(0)\n",
    "#             if point not in visited:\n",
    "#                 visited.add(point)\n",
    "#                 all_visited.add(point)\n",
    "#                 neighbors = Graph.neighbors(point)\n",
    "#                 for neighbor in neighbors:\n",
    "#                     all_visited.add(neighbor)\n",
    "#                     if neighbor not in borders:\n",
    "#                         queue.append(neighbor)\n",
    "#         faces.append((len(visited),visited))\n",
    "#     sorted_faces = sorted(faces,key = lambda key:key[0], reverse = True)\n",
    "#     return sorted_faces[:20]\n",
    "\n",
    "# def knn_expand(Obj,my_borders,node_face,face_nodes,size):\n",
    "#     borders = deepcopy(my_borders)\n",
    "#     face_nodes_new = deepcopy(face_nodes)\n",
    "#     tree = o3d.geometry.KDTreeFlann(Obj.pcd)\n",
    "#     no_change = 0\n",
    "#     while borders:\n",
    "#         len_before = len(borders)\n",
    "        \n",
    "#         idx = borders.pop(0)\n",
    "#         point = Obj.pcd.points[idx]\n",
    "#         [k, q_idxs, _] = tree.search_knn_vector_3d(point, size)\n",
    "#         #vote \n",
    "#         my_faces = {}\n",
    "#         for q_idx in q_idxs:\n",
    "#             if q_idx not in node_face:\n",
    "#                 continue\n",
    "                \n",
    "#             if node_face[q_idx] not in my_faces:\n",
    "#                 my_faces[node_face[q_idx]] = 1\n",
    "#             else:\n",
    "#                 my_faces[node_face[q_idx]] += 1\n",
    "                \n",
    "#         if len(my_faces)==0:\n",
    "#             borders.append(idx)\n",
    "#         else:\n",
    "#             winner = max(my_faces, key=my_faces.get)\n",
    "#             face_nodes_new[winner].add(idx)\n",
    "#             node_face[idx] = winner\n",
    "            \n",
    "#         if len(borders) == len_before:\n",
    "#             no_change += 1\n",
    "#         else:\n",
    "#             no_change = 0\n",
    "        \n",
    "#         if no_change >= len_before+10000000:\n",
    "#             break\n",
    "#     print(len(borders))\n",
    "#     return face_nodes_new\n",
    "\n",
    "# def run(pipline_variables):\n",
    "    \n",
    "#     (N, shortest_cycle_length, smallest_isolated_island_length, shortest_allowed_branch_length, thre) = pipline_variables\n",
    "\n",
    "#     print(\"start\")\n",
    "#     Obj = FeatureLines(Obj_url,voxel_size=30000)\n",
    "#     # print(\"Size :\",len(Obj.pcd.points))\n",
    "#     print(\"starting init\")\n",
    "#     Obj.init(int(N))\n",
    "\n",
    "#     # print(\"Size valid :\",len(valid))\n",
    "\n",
    "#     shortest_cycle_length = np.sqrt(len(Obj.pcd.points))//shortest_cycle_length\n",
    "#     smallest_isolated_island_length = np.sqrt(len(Obj.pcd.points))//smallest_isolated_island_length\n",
    "#     shortest_allowed_branch_length = np.sqrt(len(Obj.pcd.points))//shortest_allowed_branch_length\n",
    "\n",
    "#     isolated_islands_pruned_graph, F_lines, isolated_islands = helper.create_graph(Obj, \\\n",
    "#     shortest_cycle_length, smallest_isolated_island_length)\n",
    "#     print(\"After graph\",len([point for branch in F_lines for point in branch]))\n",
    "#     pruned_graph_original, removed_nodes, valid_nodes = helper.prune_branches(F_lines,isolated_islands_pruned_graph,\\\n",
    "#     shortest_allowed_branch_length)\n",
    "#     print(\"After Pruning\",len([node for branch in valid_nodes for node in branch]))\n",
    "    \n",
    "#     print(\"constructing borders\")\n",
    "\n",
    "#     tmp_Obj = copy(Obj)\n",
    "#     tmp_Obj.pcd = copy(Obj.pcd)\n",
    "\n",
    "#     N = 30\n",
    "#     t1 = 0.1\n",
    "#     t2 = 1\n",
    "#     t3 = 0.1\n",
    "#     pipline_variables = (N, t1, t2, t3, thre)\n",
    "#     (N, shortest_cycle_length, smallest_isolated_island_length, shortest_allowed_branch_length, thre) = pipline_variables\n",
    "#     # print(\"Size valid :\",len(valid))\n",
    "#     valid = []\n",
    "#     for idx,val in enumerate(tmp_Obj.w_co):\n",
    "#         if val<thre:\n",
    "#             valid.append(idx)\n",
    "#     print(len(valid))\n",
    "#     shortest_cycle_length = np.sqrt(len(valid))//shortest_cycle_length\n",
    "#     smallest_isolated_island_length = np.sqrt(len(valid))//smallest_isolated_island_length\n",
    "#     shortest_allowed_branch_length = np.sqrt(len(valid))//shortest_allowed_branch_length\n",
    "#     print(\"shortest_allowed_branch_length\",shortest_allowed_branch_length)\n",
    "#     print(\"smallest_isolated_island_length\",smallest_isolated_island_length)\n",
    "#     print(\"shortest_cycle_length\",shortest_cycle_length)\n",
    "#     isolated_islands_pruned_graph, F_lines, isolated_islands = helper.create_graph(tmp_Obj, \\\n",
    "#     shortest_cycle_length, smallest_isolated_island_length,mask=valid,radius=None)\n",
    "#     print(\"After graph\",len([point for branch in F_lines for point in branch]))\n",
    "#     pruned_graph, removed_nodes, valid_nodes = helper.prune_branches(F_lines,isolated_islands_pruned_graph,\\\n",
    "#     shortest_allowed_branch_length)\n",
    "#     print(\"After Pruning\",len([node for branch in valid_nodes for node in branch]))\n",
    "    \n",
    "#     print(\"dilation and segmentation\")\n",
    "    \n",
    "#     border_nodes = [node for branch in valid_nodes for node in branch]\n",
    "    \n",
    "#     dilated_border = dilate_border(Obj,border_nodes,2)\n",
    "    \n",
    "#     dilated_faces = get_sides(pruned_graph_original, dilated_border)\n",
    "    \n",
    "    \n",
    "    \n",
    "#     node_face = {}\n",
    "#     face_nodes = []\n",
    "#     for idx,(_,face) in enumerate(dilated_faces):\n",
    "#         for node in face:\n",
    "#             node_face[node] = idx\n",
    "#         face_nodes.append(face)\n",
    "#     for key,value in node_face.items():\n",
    "#         if value>=10:\n",
    "#             print(value)\n",
    "\n",
    "#     all_dilated = [node for  _,face in dilated_faces for node in face]\n",
    "#     all_dilated.extend([node for node in dilated_border])\n",
    "    \n",
    "    \n",
    "#     left_overs = list(set(range(len(Obj.pcd.points)))-set(all_dilated))\n",
    "#     border_left_overs = left_overs+dilated_border\n",
    "    \n",
    "    \n",
    "#     expanded_faces = knn_expand(Obj,border_left_overs,node_face,face_nodes,size=15)\n",
    "    \n",
    "    \n",
    "#     Objects = []\n",
    "#     for expanded_face in expanded_faces:\n",
    "#         mask = np.isin(np.arange(0, len(Obj.pcd.points), 1).tolist(),[node for node in expanded_face])\n",
    "#         Obj_tmp = copy(Obj)\n",
    "#         Obj_tmp.pcd = copy(Obj.pcd)\n",
    "#         Obj_tmp.pcd.points = o3d.utility.Vector3dVector(np.asarray(Obj.pcd.points)[mask])\n",
    "#         Objects.append(Obj_tmp)\n",
    "\n",
    "#     colors = [(0,255,0) for _ in Obj.pcd.points]\n",
    "#     for face in expanded_faces:\n",
    "#         color = tuple(random.choices(range(256), k=3))\n",
    "#         for point in face:\n",
    "#             colors[point] = color\n",
    "#     Obj.pcd.colors = o3d.utility.Vector3dVector(np.asarray(colors).astype(np.float) / 255.0)\n",
    "#     o3d.visualization.draw_geometries([Obj.pcd])\n",
    "    \n",
    "#     return Objects"
   ]
  },
  {
   "cell_type": "code",
   "execution_count": null,
   "id": "5048ba2d",
   "metadata": {},
   "outputs": [],
   "source": [
    "# import helper\n",
    "# import pipline_modules.pipline_1 as pipeline\n",
    "# from Fragment import FeatureLines \n",
    "# import numpy as np\n",
    "# #Before Evaluate do a Rotation and translation of\n",
    "# init_R_T = [( 0 , 0 , 0),( -0.2, 0, 0 )]\n",
    "\n",
    "\n",
    "# #pipline name and pipline parameters\n",
    "# pipline_name = \"pipline_1\"\n",
    "\n",
    "# N = 50\n",
    "# t1 = 2\n",
    "# t2 = 100\n",
    "# t3 = 100\n",
    "\n",
    "# Obj_url = \"data_test/pairwise/repair_group8_pair1/RPf_00059_gt.ply\"\n",
    "# #threshold for corner\n",
    "# thre = 0.95\n",
    "\n",
    "# pipline_variables = (N, t1, t2, t3, thre)"
   ]
  },
  {
   "cell_type": "code",
   "execution_count": null,
   "id": "719bdd88",
   "metadata": {
    "scrolled": true
   },
   "outputs": [],
   "source": [
    "# Original_obj, array_objs = run(pipline_variables)"
   ]
  },
  {
   "cell_type": "code",
   "execution_count": null,
   "id": "e29bebe8",
   "metadata": {},
   "outputs": [],
   "source": [
    "ast.literal_eval(df.iloc[number][\"R & T\"])"
   ]
  },
  {
   "cell_type": "code",
   "execution_count": null,
   "id": "200ba17f",
   "metadata": {},
   "outputs": [],
   "source": [
    "import ast\n",
    "\n",
    "from runner import test\n",
    "import numpy as np\n",
    "\n",
    "number = 48\n",
    "\n",
    "#objects\n",
    "Obj1_url = df.iloc[number][\"obj2\"]\n",
    "Obj2_url = df.iloc[number][\"obj1\"]\n",
    "\n",
    "#Before Evaluate do a Rotation and translation of\n",
    "init_R_T = ((0.2, 0.2, 0.1), (0.01, 0.01, 0.01))\n",
    "\n",
    "\n",
    "#pipline name and pipline parameters\n",
    "pipline_name = \"pipline_3\"\n",
    "\n",
    "\n",
    "N = 15\n",
    "t1 = 2\n",
    "t2 = 100\n",
    "t3 = 100\n",
    "\n",
    "Obj_url = \"data_test/pairwise/repair_group8_pair1/RPf_00059_gt.ply\"\n",
    "#threshold for corner\n",
    "thre = 0.985\n",
    "\n",
    "pipline_variables = (N, t1, t2, t3, thre)\n",
    "\n",
    "#test\n",
    "test_name = \"pairwise\"\n",
    "\n",
    "# eval \n",
    "\n",
    "eval_list = [\"rms\"]\n",
    "\n",
    "test2_tmp = test(Obj2_url, Obj1_url, init_R_T, pipline_name, pipline_variables, test_name, eval_list, show_results = True, save_results=False)\n",
    "\n",
    "my_results = test2_tmp.run()"
   ]
  },
  {
   "cell_type": "code",
   "execution_count": null,
   "id": "193a491b",
   "metadata": {},
   "outputs": [],
   "source": [
    "df = pd.DataFrame(test2_tmp.results)\n",
    "df[\"total\"] = df[\"R_error\"]+df[\"T_error\"]\n",
    "df.sort_values('total')"
   ]
  },
  {
   "cell_type": "code",
   "execution_count": null,
   "id": "6e6b246b",
   "metadata": {},
   "outputs": [],
   "source": [
    "df = pd.DataFrame(test2_tmp.results)\n",
    "df[\"total\"] = df[\"R_error\"]+df[\"T_error\"]\n",
    "df.sort_values('total')"
   ]
  },
  {
   "cell_type": "code",
   "execution_count": null,
   "id": "7b57bc49",
   "metadata": {},
   "outputs": [],
   "source": [
    "test2_tmp.draw_registration_result_original_color(test2_tmp.Obj2,test2_tmp.Obj1,np.eye(4))"
   ]
  },
  {
   "cell_type": "code",
   "execution_count": null,
   "id": "03f5a4ae",
   "metadata": {
    "scrolled": true
   },
   "outputs": [],
   "source": [
    "import ast\n",
    "\n",
    "from runner import test\n",
    "import numpy as np\n",
    "\n",
    "number = 48\n",
    "\n",
    "#objects\n",
    "Obj1_url = df.iloc[number][\"obj2\"]\n",
    "Obj2_url = df.iloc[number][\"obj1\"]\n",
    "\n",
    "#Before Evaluate do a Rotation and translation of\n",
    "init_R_T = ((0.2, 0.2, 0.1), (0.01, 0 , 0))\n",
    "\n",
    "\n",
    "#pipline name and pipline parameters\n",
    "pipline_name = \"pipline_1\"\n",
    "\n",
    "\n",
    "N = 15\n",
    "t1 = 2\n",
    "t2 = 100\n",
    "t3 = 100\n",
    "\n",
    "Obj_url = \"data_test/pairwise/repair_group8_pair1/RPf_00059_gt.ply\"\n",
    "#threshold for corner\n",
    "thre = 0.985\n",
    "\n",
    "pipline_variables = (N, t1, t2, t3, thre)\n",
    "\n",
    "#test\n",
    "test_name = \"ICP_test\"\n",
    "\n",
    "# eval \n",
    "\n",
    "eval_list = [\"rms\"]\n",
    "\n",
    "test1_tmp = test(Obj2_url, Obj1_url, init_R_T, pipline_name, pipline_variables, test_name, eval_list, show_results = True, save_results=True)\n",
    "\n",
    "my_results = test1_tmp.run()"
   ]
  },
  {
   "cell_type": "code",
   "execution_count": null,
   "id": "8e9e380f",
   "metadata": {},
   "outputs": [],
   "source": [
    "test1_tmp.draw_registration_result_original_color(test1_tmp.Obj1,test1_tmp.Obj2,test1_tmp.result_transformation_arr[0])"
   ]
  },
  {
   "cell_type": "code",
   "execution_count": null,
   "id": "7747d9ba",
   "metadata": {},
   "outputs": [],
   "source": [
    "df.iloc[180][\"pipeline\"]"
   ]
  },
  {
   "cell_type": "code",
   "execution_count": null,
   "id": "cbd6f4fe",
   "metadata": {},
   "outputs": [],
   "source": [
    "4.845879%np.pi"
   ]
  },
  {
   "cell_type": "code",
   "execution_count": null,
   "id": "c37b3a0b",
   "metadata": {},
   "outputs": [],
   "source": [
    "test1_tmp.save_test()"
   ]
  },
  {
   "cell_type": "code",
   "execution_count": null,
   "id": "64f0d740",
   "metadata": {},
   "outputs": [],
   "source": [
    "# import ast\n",
    "# import pickle\n",
    "# from runner import test\n",
    "# import numpy as np\n",
    "\n",
    "# number = 180\n",
    "\n",
    "# #objects\n",
    "# Obj1_url = df.iloc[number][\"obj2\"]\n",
    "# Obj2_url = df.iloc[number][\"obj1\"]\n",
    "\n",
    "# #Before Evaluate do a Rotation and translation of\n",
    "# init_R_T = ((0.2, 0.2, 0.1), (0.01, 0 , 0))\n",
    "\n",
    "\n",
    "# #pipline name and pipline parameters\n",
    "# pipline_name = \"pipline_1\"\n",
    "\n",
    "\n",
    "# N = 15\n",
    "# t1 = 2\n",
    "# t2 = 100\n",
    "# t3 = 100\n",
    "\n",
    "# Obj_url = \"data_test/pairwise/repair_group8_pair1/RPf_00059_gt.ply\"\n",
    "# #threshold for corner\n",
    "# thre = 0.985\n",
    "\n",
    "# pipline_variables = (N, t1, t2, t3, thre)\n",
    "\n",
    "# #test\n",
    "# test_name = \"ICP_test\"\n",
    "\n",
    "# # eval \n",
    "\n",
    "# eval_list = [\"rms\"]\n",
    "\n",
    "# test_vars = [test1_tmp.Obj1_url, test1_tmp.Obj2_url,test1_tmp.pipline_variables, test1_tmp.init_R_T,\\\n",
    "#  test1_tmp.pipline_name, test1_tmp.test_name, test1_tmp.test_name, eval_list, True, True,\\\n",
    "#  test1_tmp.results_path, test1_tmp.result_transformation_arr, test1_tmp.results]\n",
    "# # pipline_module = open(str(\"pipline_modules/\"+self.pipline_name+\".py\"), \"r\")\n",
    "# # test_vars.append(pipline_module.read())\n",
    "# pipline_module = open(str(\"pipline_modules/\"+test1_tmp.pipline_name+\".py\"), \"r\")\n",
    "# test_vars.append(pipline_module.read())\n",
    "\n",
    "# test_module = open(str(\"test_modules/\"+test1_tmp.test_name+\".py\"), \"r\")\n",
    "# test_vars.append(test_module.read())\n",
    "# file = open('my_ob', 'wb')\n",
    "# pickle.dump(test_vars, file)\n",
    "# file.close()"
   ]
  },
  {
   "cell_type": "code",
   "execution_count": null,
   "id": "c39d94e8",
   "metadata": {},
   "outputs": [],
   "source": [
    "# objectRep = open(\"my_ob\", \"rb\")\n",
    "# test1_tmp.Obj1_url, test1_tmp.Obj2_url,test1_tmp.pipline_variables, test1_tmp.init_R_T,\\\n",
    "#  test1_tmp.pipline_name, test1_tmp.test_name, test1_tmp.test_name, eval_list, save_results, show_results,\\\n",
    "#  test1_tmp.results_path, test1_tmp.result_transformation_arr, test1_tmp.results, pip_code, test_code = pickle.load(objectRep)"
   ]
  },
  {
   "cell_type": "code",
   "execution_count": null,
   "id": "7295f1ba",
   "metadata": {},
   "outputs": [],
   "source": [
    "import sys,imp,os\n",
    "test1_tmp.pipline_module = imp.new_module(pip_code)\n",
    "exec(pip_code, test1_tmp.pipline_module.__dict__)\n",
    "\n",
    "test1_tmp.test_module = imp.new_module(test_code)\n",
    "exec(test_code, test1_tmp.test_module.__dict__)\n"
   ]
  },
  {
   "cell_type": "code",
   "execution_count": null,
   "id": "a45e9772",
   "metadata": {},
   "outputs": [],
   "source": [
    "import ast\n",
    "\n",
    "from runner import test\n",
    "import numpy as np\n",
    "\n",
    "number = 180\n",
    "\n",
    "#objects\n",
    "Obj1_url = df.iloc[number][\"obj1\"]\n",
    "Obj2_url = df.iloc[number][\"obj2\"]\n",
    "\n",
    "#Before Evaluate do a Rotation and translation of\n",
    "init_R_T = ((0.2, 0.2, 0.1), (0.2, 0.2, 0.2))\n",
    "\n",
    "\n",
    "#pipline name and pipline parameters\n",
    "pipline_name = \"pipline_3\"\n",
    "\n",
    "\n",
    "N = 15\n",
    "t1 = 2\n",
    "t2 = 100\n",
    "t3 = 100\n",
    "\n",
    "Obj_url = \"data_test/pairwise/repair_group8_pair1/RPf_00059_gt.ply\"\n",
    "#threshold for corner\n",
    "thre = 0.98\n",
    "\n",
    "pipline_variables = (N, t1, t2, t3, thre)\n",
    "\n",
    "#test\n",
    "test_name = \"ICP_test\"\n",
    "\n",
    "# eval \n",
    "\n",
    "eval_list = [\"rms\"]\n",
    "\n",
    "test_brick_2 = test(Obj2_url, Obj1_url, init_R_T, pipline_name, pipline_variables, test_name, eval_list, show_results = True, save_results=False)\n",
    "\n",
    "my_results = test_brick_2.run()"
   ]
  },
  {
   "cell_type": "code",
   "execution_count": null,
   "id": "4a38e49b",
   "metadata": {},
   "outputs": [],
   "source": [
    "df_brick = pd.DataFrame(test_brick_2.results)\n",
    "df_brick[\"total\"] = df_brick[\"R_error\"]+df_brick[\"T_error\"]\n",
    "df_brick.sort_values('T_error')"
   ]
  },
  {
   "cell_type": "code",
   "execution_count": null,
   "id": "f7ca781a",
   "metadata": {},
   "outputs": [],
   "source": [
    "# df_brick = pd.DataFrame(test_brick_2.results)\n",
    "# df_brick[\"total\"] = df_brick[\"R_error\"]+df_brick[\"T_error\"]\n",
    "# df_brick.sort_values('total')"
   ]
  },
  {
   "cell_type": "code",
   "execution_count": null,
   "id": "b2e8578e",
   "metadata": {},
   "outputs": [],
   "source": [
    "test_brick_2.draw_registration_result_original_color(test_brick_2.Obj1,test_brick_2.Obj2,test_brick_2.result_transformation_arr[4][2])"
   ]
  },
  {
   "cell_type": "code",
   "execution_count": null,
   "id": "13d5e7e1",
   "metadata": {},
   "outputs": [],
   "source": [
    "test_brick_2.draw_registration_result_original_color(test_brick_2.Obj1,test_brick_2.Obj2,np.eye(4))"
   ]
  },
  {
   "cell_type": "code",
   "execution_count": null,
   "id": "8fd98472",
   "metadata": {},
   "outputs": [],
   "source": [
    "test_brick_2.draw_registration_result_original_color(test_brick_2.Obj1,test_brick_2.Obj2,test_brick_2.RM_ground)"
   ]
  },
  {
   "cell_type": "code",
   "execution_count": null,
   "id": "d00dcd1a",
   "metadata": {},
   "outputs": [],
   "source": [
    "save(\"test_brick_2\",test_brick_2,8)"
   ]
  },
  {
   "cell_type": "code",
   "execution_count": null,
   "id": "4283652a",
   "metadata": {},
   "outputs": [],
   "source": [
    "number = 68\n",
    "\n",
    "#objects\n",
    "Obj1_url = df.iloc[number][\"obj2\"]\n",
    "Obj2_url = df.iloc[number][\"obj1\"]\n",
    "print(Obj1_url)\n",
    "print(Obj2_url)"
   ]
  },
  {
   "cell_type": "code",
   "execution_count": null,
   "id": "b325a41d",
   "metadata": {},
   "outputs": [],
   "source": [
    "import ast\n",
    "\n",
    "from runner import test\n",
    "import numpy as np\n",
    "\n",
    "number = 68\n",
    "\n",
    "#objects\n",
    "Obj1_url = df.iloc[number][\"obj2\"]\n",
    "Obj2_url = df.iloc[number][\"obj1\"]\n",
    "\n",
    "#Before Evaluate do a Rotation and translation of\n",
    "init_R_T = ((0.2, 0.2, 0.1), (4, 0.6, 1))\n",
    "\n",
    "\n",
    "#pipline name and pipline parameters\n",
    "pipline_name = \"pipline_3\"\n",
    "\n",
    "\n",
    "N = 15\n",
    "t1 = 2\n",
    "t2 = 100\n",
    "t3 = 100\n",
    "\n",
    "Obj_url = \"data_test/pairwise/repair_group8_pair1/\"\n",
    "#threshold for corner\n",
    "thre = 0.985\n",
    "\n",
    "pipline_variables = (N, t1, t2, t3, thre)\n",
    "\n",
    "#test\n",
    "test_name = \"ICP_test\"\n",
    "\n",
    "# eval \n",
    "\n",
    "eval_list = [\"rms\"]\n",
    "\n",
    "test_brick_1 = test(Obj2_url, Obj1_url, init_R_T, pipline_name, pipline_variables, test_name, eval_list, show_results = True, save_results=False)\n",
    "\n",
    "my_results = test_brick_1.run()"
   ]
  },
  {
   "cell_type": "code",
   "execution_count": null,
   "id": "75e0acf3",
   "metadata": {},
   "outputs": [],
   "source": [
    "df_brick_1 = pd.DataFrame(test_brick_1.results)\n",
    "df_brick_1[\"total\"] = df_brick_1[\"R_error\"]+df_brick_1[\"T_error\"]\n",
    "df_brick_1.sort_values('T_error')"
   ]
  },
  {
   "cell_type": "code",
   "execution_count": null,
   "id": "235b28cb",
   "metadata": {},
   "outputs": [],
   "source": [
    "test_brick_1.draw_registration_result_original_color(test_brick_1.Obj1,test_brick_1.Obj2,test_brick_1.result_transformation_arr[3])"
   ]
  },
  {
   "cell_type": "code",
   "execution_count": null,
   "id": "d974f868",
   "metadata": {},
   "outputs": [],
   "source": [
    "test_brick_1.draw_registration_result_original_color(test_brick_1.Obj1,test_brick_1.Obj2,np.eye(4))"
   ]
  },
  {
   "cell_type": "code",
   "execution_count": null,
   "id": "d8bd1028",
   "metadata": {},
   "outputs": [],
   "source": [
    "test_brick_1.draw_registration_result_original_color(test_brick_1.Obj1,test_brick_1.Obj2,test_brick_1.RM_ground)"
   ]
  },
  {
   "cell_type": "code",
   "execution_count": null,
   "id": "b525b37e",
   "metadata": {},
   "outputs": [],
   "source": [
    "save(\"test_brick_1\",test_brick_1,3)"
   ]
  },
  {
   "cell_type": "code",
   "execution_count": null,
   "id": "b370da8a",
   "metadata": {},
   "outputs": [],
   "source": [
    "import ast\n",
    "\n",
    "from runner import test\n",
    "import numpy as np\n",
    "\n",
    "number = 384\n",
    "\n",
    "#objects\n",
    "Obj1_url = df.iloc[number][\"obj2\"]\n",
    "Obj2_url = df.iloc[number][\"obj1\"]\n",
    "\n",
    "#Before Evaluate do a Rotation and translation of\n",
    "init_R_T = ((0.2, 0.2, 0.1), (0.01, 0.01, 0.01))\n",
    "\n",
    "\n",
    "#pipline name and pipline parameters\n",
    "pipline_name = \"pipline_3\"\n",
    "\n",
    "\n",
    "N = 15\n",
    "t1 = 2\n",
    "t2 = 100\n",
    "t3 = 100\n",
    "\n",
    "Obj_url = \"data_test/pairwise/repair_group8_pair1/RPf_00059_gt.ply\"\n",
    "#threshold for corner\n",
    "thre = 0.985\n",
    "\n",
    "pipline_variables = (N, t1, t2, t3, thre)\n",
    "\n",
    "#test\n",
    "test_name = \"ICP_test\"\n",
    "\n",
    "# eval \n",
    "\n",
    "eval_list = [\"rms\"]\n",
    "\n",
    "test_brick_2 = test(Obj2_url, Obj1_url, init_R_T, pipline_name, pipline_variables, test_name, eval_list, show_results = True, save_results=False)\n",
    "\n",
    "my_results = test_brick_2.run()"
   ]
  },
  {
   "cell_type": "markdown",
   "id": "9f6ef4a1",
   "metadata": {},
   "source": [
    "<h7>test_15_1</h7>"
   ]
  },
  {
   "cell_type": "code",
   "execution_count": null,
   "id": "ebf41b1a",
   "metadata": {},
   "outputs": [],
   "source": [
    "import ast\n",
    "\n",
    "from runner import test\n",
    "import numpy as np\n",
    "\n",
    "number = 384\n",
    "\n",
    "#objects\n",
    "Obj1_url = df.iloc[number][\"obj2\"]\n",
    "Obj2_url = df.iloc[number][\"obj1\"]\n",
    "\n",
    "#Before Evaluate do a Rotation and translation of\n",
    "init_R_T = ((0.2, 0.2, 0.1), (0.1, 0.1, 0.1))\n",
    "\n",
    "\n",
    "#pipline name and pipline parameters\n",
    "pipline_name = \"pipline_15\"\n",
    "\n",
    "\n",
    "N = 15\n",
    "t1 = 2\n",
    "t2 = 100\n",
    "t3 = 100\n",
    "\n",
    "Obj_url = \"data_test/pairwise/repair_group8_pair1/RPf_00059_gt.ply\"\n",
    "#threshold for corner\n",
    "thre = 0.985\n",
    "\n",
    "pipline_variables = (N, t1, t2, t3, thre)\n",
    "\n",
    "#test\n",
    "test_name = \"ICP_test\"\n",
    "\n",
    "# eval \n",
    "\n",
    "eval_list = [\"rms\"]\n",
    "\n",
    "test_15_1 = test(Obj2_url, Obj1_url, init_R_T, pipline_name, pipline_variables, test_name, eval_list, show_results = True, save_results=False)\n",
    "\n",
    "my_results = test_15_1.run()"
   ]
  },
  {
   "cell_type": "code",
   "execution_count": null,
   "id": "c40ea39f",
   "metadata": {},
   "outputs": [],
   "source": [
    "df_test_15_1 = pd.DataFrame(test_15_1.results)\n",
    "df_test_15_1[\"total\"] = df_test_15_1[\"R_error\"]+df_test_15_1[\"T_error\"]\n",
    "df_test_15_1.sort_values('T_error')"
   ]
  },
  {
   "cell_type": "code",
   "execution_count": null,
   "id": "fc7b69e8",
   "metadata": {},
   "outputs": [],
   "source": [
    "test_15_1.draw_registration_result_original_color(test_15_1.Obj1,test_15_1.Obj2,test_15_1.result_transformation_arr[94][2])"
   ]
  },
  {
   "cell_type": "code",
   "execution_count": null,
   "id": "7f88950d",
   "metadata": {},
   "outputs": [],
   "source": [
    "test_15_1.draw_registration_result_original_color(test_15_1.Obj1,test_15_1.Obj2,np.eye(4))"
   ]
  },
  {
   "cell_type": "code",
   "execution_count": null,
   "id": "4fe3b9d7",
   "metadata": {},
   "outputs": [],
   "source": [
    "test_15_1.draw_registration_result_original_color(test_15_1.Obj1,test_15_1.Obj2,test_15_1.RM_ground)"
   ]
  },
  {
   "cell_type": "code",
   "execution_count": null,
   "id": "a0641d49",
   "metadata": {},
   "outputs": [],
   "source": [
    "save(\"test_15_1\",test_15_1,52)"
   ]
  },
  {
   "cell_type": "markdown",
   "id": "a5f30d26",
   "metadata": {},
   "source": [
    "<h7>test_15_2</h7>"
   ]
  },
  {
   "cell_type": "code",
   "execution_count": null,
   "id": "40d78493",
   "metadata": {
    "scrolled": false
   },
   "outputs": [],
   "source": [
    "import ast\n",
    "\n",
    "from runner import test\n",
    "import numpy as np\n",
    "\n",
    "number = 273\n",
    "\n",
    "#objects\n",
    "Obj1_url = df.iloc[number][\"obj2\"]\n",
    "Obj2_url = df.iloc[number][\"obj1\"]\n",
    "\n",
    "#Before Evaluate do a Rotation and translation of\n",
    "init_R_T = ((0.2, 0.2, 0.1), (0.1, 0.1, 0.1))\n",
    "\n",
    "\n",
    "#pipline name and pipline parameters\n",
    "pipline_name = \"pipline_15\"\n",
    "\n",
    "\n",
    "N = 15\n",
    "t1 = 2\n",
    "t2 = 100\n",
    "t3 = 100\n",
    "\n",
    "Obj_url = \"data_test/pairwise/repair_group8_pair1/RPf_00059_gt.ply\"\n",
    "#threshold for corner\n",
    "thre = 0.985\n",
    "\n",
    "pipline_variables = (N, t1, t2, t3, thre)\n",
    "\n",
    "#test\n",
    "test_name = \"ICP_test\"\n",
    "\n",
    "# eval \n",
    "\n",
    "eval_list = [\"rms\"]\n",
    "\n",
    "test_15_2 = test(Obj2_url, Obj1_url, init_R_T, pipline_name, pipline_variables, test_name, eval_list, show_results = True, save_results=False)\n",
    "\n",
    "my_results = test_15_2.run()"
   ]
  },
  {
   "cell_type": "code",
   "execution_count": null,
   "id": "b5c490cd",
   "metadata": {},
   "outputs": [],
   "source": [
    "df_test_15_2 = pd.DataFrame(test_15_2.results)\n",
    "df_test_15_2[\"total\"] = df_test_15_2[\"R_error\"]+df_test_15_2[\"T_error\"]\n",
    "df_test_15_2.sort_values('T_error')"
   ]
  },
  {
   "cell_type": "code",
   "execution_count": null,
   "id": "95fdef23",
   "metadata": {},
   "outputs": [],
   "source": [
    "get_winner(test_15_2)"
   ]
  },
  {
   "cell_type": "code",
   "execution_count": null,
   "id": "13b29caf",
   "metadata": {},
   "outputs": [],
   "source": [
    "test_15_2.draw_registration_result_original_color(test_15_2.Obj1,test_15_2.Obj2,test_15_2.result_transformation_arr[67][2])"
   ]
  },
  {
   "cell_type": "code",
   "execution_count": null,
   "id": "d7103a5a",
   "metadata": {},
   "outputs": [],
   "source": [
    "test_15_2.draw_registration_result_original_color(test_15_2.Obj1,test_15_2.Obj2,np.eye(4))"
   ]
  },
  {
   "cell_type": "code",
   "execution_count": null,
   "id": "83355ded",
   "metadata": {},
   "outputs": [],
   "source": [
    "test_15_2.draw_registration_result_original_color(test_15_2.Obj1,test_15_2.Obj2,test_15_2.RM_ground)"
   ]
  },
  {
   "cell_type": "code",
   "execution_count": null,
   "id": "b3dcd0e8",
   "metadata": {},
   "outputs": [],
   "source": [
    "save(\"test_15_2\",test_15_2,83)"
   ]
  },
  {
   "cell_type": "markdown",
   "id": "618edefa",
   "metadata": {},
   "source": [
    "<h7>test_15_3</h7>"
   ]
  },
  {
   "cell_type": "code",
   "execution_count": null,
   "id": "4e08ccf3",
   "metadata": {},
   "outputs": [],
   "source": [
    "import ast\n",
    "\n",
    "from runner import test\n",
    "import numpy as np\n",
    "\n",
    "number = 521\n",
    "\n",
    "#objects\n",
    "Obj1_url = df.iloc[number][\"obj2\"]\n",
    "Obj2_url = df.iloc[number][\"obj1\"]\n",
    "\n",
    "#Before Evaluate do a Rotation and translation of\n",
    "init_R_T = ((0.2, 0.2, 0.1), (0.1, 0.1, 0.1))\n",
    "\n",
    "\n",
    "#pipline name and pipline parameters\n",
    "pipline_name = \"pipline_15\"\n",
    "\n",
    "\n",
    "N = 15\n",
    "t1 = 2\n",
    "t2 = 100\n",
    "t3 = 100\n",
    "\n",
    "Obj_url = \"data_test/pairwise/repair_group8_pair1/RPf_00059_gt.ply\"\n",
    "#threshold for corner\n",
    "thre = 0.985\n",
    "\n",
    "pipline_variables = (N, t1, t2, t3, thre)\n",
    "\n",
    "#test\n",
    "test_name = \"ICP_test\"\n",
    "\n",
    "# eval \n",
    "\n",
    "eval_list = [\"rms\"]\n",
    "\n",
    "test_15_3 = test(Obj2_url, Obj1_url, init_R_T, pipline_name, pipline_variables, test_name, eval_list, show_results = True, save_results=False)\n",
    "\n",
    "my_results = test_15_3.run()"
   ]
  },
  {
   "cell_type": "code",
   "execution_count": null,
   "id": "4ea91953",
   "metadata": {},
   "outputs": [],
   "source": [
    "df_test_15_3 = pd.DataFrame(test_15_3.results)\n",
    "df_test_15_3[\"total\"] = df_test_15_3[\"R_error\"]+df_test_15_3[\"T_error\"]\n",
    "df_test_15_3.sort_values('T_error')"
   ]
  },
  {
   "cell_type": "code",
   "execution_count": null,
   "id": "359d7455",
   "metadata": {},
   "outputs": [],
   "source": [
    "get_winner(test_15_3)"
   ]
  },
  {
   "cell_type": "code",
   "execution_count": null,
   "id": "e8051241",
   "metadata": {},
   "outputs": [],
   "source": [
    "test_15_3.draw_registration_result_original_color(test_15_3.Obj1,test_15_3.Obj2,test_15_3.result_transformation_arr[73][2])"
   ]
  },
  {
   "cell_type": "code",
   "execution_count": null,
   "id": "53cff61c",
   "metadata": {},
   "outputs": [],
   "source": [
    "test_15_3.draw_registration_result_original_color(test_15_3.Obj1,test_15_3.Obj2,np.eye(4))"
   ]
  },
  {
   "cell_type": "code",
   "execution_count": null,
   "id": "b4d21def",
   "metadata": {},
   "outputs": [],
   "source": [
    "test_15_3.draw_registration_result_original_color(test_15_3.Obj1,test_15_3.Obj2,test_15_3.RM_ground)"
   ]
  },
  {
   "cell_type": "code",
   "execution_count": null,
   "id": "2c0e2319",
   "metadata": {},
   "outputs": [],
   "source": [
    "save(\"test_15_3\",test_15_3,25)"
   ]
  },
  {
   "cell_type": "markdown",
   "id": "568d5667",
   "metadata": {},
   "source": [
    "<h7>test_15_4</h7>"
   ]
  },
  {
   "cell_type": "code",
   "execution_count": null,
   "id": "4b3bbf6e",
   "metadata": {},
   "outputs": [],
   "source": [
    "import ast\n",
    "\n",
    "from runner import test\n",
    "import numpy as np\n",
    "\n",
    "number = 455\n",
    "\n",
    "#objects\n",
    "Obj1_url = df.iloc[number][\"obj1\"]\n",
    "Obj2_url = df.iloc[number][\"obj2\"]\n",
    "\n",
    "#Before Evaluate do a Rotation and translation of\n",
    "init_R_T = ((0.2, 0.2, 0.1), (0.1, -0.1, 0.1))\n",
    "\n",
    "\n",
    "#pipline name and pipline parameters\n",
    "pipline_name = \"pipline_15\"\n",
    "\n",
    "\n",
    "N = 15\n",
    "t1 = 2\n",
    "t2 = 100\n",
    "t3 = 100\n",
    "\n",
    "Obj_url = \"data_test/pairwise/repair_group8_pair1/RPf_00059_gt.ply\"\n",
    "#threshold for corner\n",
    "thre = 0.985\n",
    "\n",
    "pipline_variables = (N, t1, t2, t3, thre)\n",
    "\n",
    "#test\n",
    "test_name = \"ICP_test\"\n",
    "\n",
    "# eval \n",
    "\n",
    "eval_list = [\"rms\"]\n",
    "\n",
    "test_15_4 = test(Obj2_url, Obj1_url, init_R_T, pipline_name, pipline_variables, test_name, eval_list, show_results = True, save_results=False)\n",
    "\n",
    "my_results = test_15_4.run()"
   ]
  },
  {
   "cell_type": "code",
   "execution_count": null,
   "id": "c45fc1b2",
   "metadata": {},
   "outputs": [],
   "source": [
    "df_test_15_4 = pd.DataFrame(test_15_4.results)\n",
    "df_test_15_4[\"total\"] = df_test_15_4[\"R_error\"]+df_test_15_4[\"T_error\"]\n",
    "df_test_15_4.sort_values('T_error')"
   ]
  },
  {
   "cell_type": "code",
   "execution_count": null,
   "id": "19b98e19",
   "metadata": {},
   "outputs": [],
   "source": [
    "get_winner(test_15_4)"
   ]
  },
  {
   "cell_type": "code",
   "execution_count": null,
   "id": "cbd67327",
   "metadata": {},
   "outputs": [],
   "source": [
    "test_15_4.draw_registration_result_original_color(test_15_4.Obj1,test_15_4.Obj2,test_15_4.result_transformation_arr[39][2])"
   ]
  },
  {
   "cell_type": "code",
   "execution_count": null,
   "id": "e0eaf205",
   "metadata": {},
   "outputs": [],
   "source": [
    "test_15_4.draw_registration_result_original_color(test_15_4.Obj1,test_15_4.Obj2,np.eye(4))"
   ]
  },
  {
   "cell_type": "code",
   "execution_count": null,
   "id": "c6a2f728",
   "metadata": {},
   "outputs": [],
   "source": [
    "test_15_4.draw_registration_result_original_color(test_15_4.Obj1,test_15_4.Obj2,test_15_4.RM_ground)"
   ]
  },
  {
   "cell_type": "code",
   "execution_count": null,
   "id": "24801592",
   "metadata": {},
   "outputs": [],
   "source": [
    "save(\"test_15_4\",test_15_4,39)"
   ]
  },
  {
   "cell_type": "markdown",
   "id": "de58131b",
   "metadata": {},
   "source": [
    "<h7>test_15_5</h7>"
   ]
  },
  {
   "cell_type": "code",
   "execution_count": null,
   "id": "c5cc6c7a",
   "metadata": {},
   "outputs": [],
   "source": [
    "import ast\n",
    "\n",
    "from runner import test\n",
    "import numpy as np\n",
    "\n",
    "number = 48\n",
    "\n",
    "#objects\n",
    "Obj1_url = df.iloc[number][\"obj1\"]\n",
    "Obj2_url = df.iloc[number][\"obj2\"]\n",
    "\n",
    "#Before Evaluate do a Rotation and translation of\n",
    "init_R_T = ((0.2, 0.2, 0.1), (0.1, -0.1, 0.1))\n",
    "\n",
    "\n",
    "#pipline name and pipline parameters\n",
    "pipline_name = \"pipline_15\"\n",
    "\n",
    "\n",
    "N = 15\n",
    "t1 = 2\n",
    "t2 = 100\n",
    "t3 = 100\n",
    "\n",
    "Obj_url = \"data_test/pairwise/repair_group8_pair1/RPf_00059_gt.ply\"\n",
    "#threshold for corner\n",
    "thre = 0.985\n",
    "\n",
    "pipline_variables = (N, t1, t2, t3, thre)\n",
    "\n",
    "#test\n",
    "test_name = \"ICP_test\"\n",
    "\n",
    "# eval \n",
    "\n",
    "eval_list = [\"rms\"]\n",
    "\n",
    "test_15_5 = test(Obj2_url, Obj1_url, init_R_T, pipline_name, pipline_variables, test_name, eval_list, show_results = True, save_results=False)\n",
    "\n",
    "my_results = test_15_5.run()"
   ]
  },
  {
   "cell_type": "code",
   "execution_count": null,
   "id": "f00f411c",
   "metadata": {},
   "outputs": [],
   "source": [
    "df_test_15_5 = pd.DataFrame(test_15_5.results)\n",
    "df_test_15_5[\"total\"] = df_test_15_5[\"R_error\"]+df_test_15_5[\"T_error\"]\n",
    "df_test_15_5.sort_values('T_error')"
   ]
  },
  {
   "cell_type": "code",
   "execution_count": null,
   "id": "06a6e9b7",
   "metadata": {},
   "outputs": [],
   "source": [
    "get_winner(test_15_5)"
   ]
  },
  {
   "cell_type": "code",
   "execution_count": null,
   "id": "941a1e45",
   "metadata": {},
   "outputs": [],
   "source": [
    "test_15_5.draw_registration_result_original_color(test_15_5.Obj1,test_15_5.Obj2,test_15_5.result_transformation_arr[44][2])"
   ]
  },
  {
   "cell_type": "code",
   "execution_count": null,
   "id": "391c11c3",
   "metadata": {},
   "outputs": [],
   "source": [
    "test_15_5.draw_registration_result_original_color(test_15_5.Obj1,test_15_5.Obj2,np.eye(4))"
   ]
  },
  {
   "cell_type": "code",
   "execution_count": null,
   "id": "63e007de",
   "metadata": {},
   "outputs": [],
   "source": [
    "test_15_5.draw_registration_result_original_color(test_15_5.Obj1,test_15_5.Obj2,test_15_5.RM_ground)"
   ]
  },
  {
   "cell_type": "code",
   "execution_count": null,
   "id": "a9c8fe56",
   "metadata": {},
   "outputs": [],
   "source": [
    "save(\"test_15_5_1\",test_15_5,47)"
   ]
  },
  {
   "cell_type": "code",
   "execution_count": null,
   "id": "e880c062",
   "metadata": {},
   "outputs": [],
   "source": [
    "<h7>test_8_2</h7>"
   ]
  },
  {
   "cell_type": "code",
   "execution_count": null,
   "id": "8df2b4af",
   "metadata": {},
   "outputs": [],
   "source": [
    "import ast\n",
    "\n",
    "from runner import test\n",
    "import numpy as np\n",
    "\n",
    "number = 192\n",
    "\n",
    "#objects\n",
    "Obj1_url = df.iloc[number][\"obj1\"]\n",
    "Obj2_url = df.iloc[number][\"obj2\"]\n",
    "\n",
    "#Before Evaluate do a Rotation and translation of\n",
    "init_R_T = ((0.2, 0.2, 0.1), (-20, -10, 2))\n",
    "\n",
    "\n",
    "#pipline name and pipline parameters\n",
    "pipline_name = \"pipline_3\"\n",
    "\n",
    "\n",
    "N = 15\n",
    "t1 = 2\n",
    "t2 = 100\n",
    "t3 = 100\n",
    "\n",
    "Obj_url = \"data_test/pairwise/repair_group8_pair1/RPf_00059_gt.ply\"\n",
    "#threshold for corner\n",
    "thre = 0.985\n",
    "\n",
    "pipline_variables = (N, t1, t2, t3, thre)\n",
    "\n",
    "#test\n",
    "test_name = \"ICP_test\"\n",
    "\n",
    "# eval \n",
    "\n",
    "eval_list = [\"rms\"]\n",
    "\n",
    "test_8_2 = test(Obj2_url, Obj1_url, init_R_T, pipline_name, pipline_variables, test_name, eval_list, show_results = True, save_results=False)\n",
    "\n",
    "my_results = test_8_2.run()"
   ]
  },
  {
   "cell_type": "code",
   "execution_count": null,
   "id": "62dca879",
   "metadata": {},
   "outputs": [],
   "source": [
    "df_test_8_2 = pd.DataFrame(test_8_2.results)\n",
    "df_test_8_2[\"total\"] = df_test_8_2[\"R_error\"]+df_test_8_2[\"T_error\"]\n",
    "df_test_8_2.sort_values('T_error')"
   ]
  },
  {
   "cell_type": "code",
   "execution_count": null,
   "id": "954344f7",
   "metadata": {},
   "outputs": [],
   "source": [
    "get_winner(test_8_2)"
   ]
  },
  {
   "cell_type": "code",
   "execution_count": null,
   "id": "a242f688",
   "metadata": {},
   "outputs": [],
   "source": [
    "test_8_2.draw_registration_result_original_color(test_8_2.Obj1,test_8_2.Obj2,test_8_2.result_transformation_arr[48][2])"
   ]
  },
  {
   "cell_type": "code",
   "execution_count": null,
   "id": "ff0824bf",
   "metadata": {},
   "outputs": [],
   "source": [
    "test_8_2.draw_registration_result_original_color(test_8_2.Obj1,test_8_2.Obj2,np.eye(4))"
   ]
  },
  {
   "cell_type": "code",
   "execution_count": null,
   "id": "976a2624",
   "metadata": {},
   "outputs": [],
   "source": [
    "test_8_2.draw_registration_result_original_color(test_8_2.Obj1,test_8_2.Obj2,test_8_2.RM_ground)"
   ]
  },
  {
   "cell_type": "markdown",
   "id": "1dd71b7c",
   "metadata": {},
   "source": [
    "Breaking"
   ]
  },
  {
   "cell_type": "code",
   "execution_count": null,
   "id": "e6c97771",
   "metadata": {},
   "outputs": [],
   "source": [
    "import ast\n",
    "\n",
    "from runner import test\n",
    "import numpy as np\n",
    "\n",
    "number = 192\n",
    "\n",
    "#objects\n",
    "Obj1_url = \"data_test/pairwise/breaking_bad_cat_artifact_pair1/breaking_bad_cat_artifact_piece1.ply\"\n",
    "Obj2_url = \"data_test/pairwise/breaking_bad_cat_artifact_pair1/breaking_bad_cat_artifact_piece3.ply\"\n",
    "\n",
    "#Before Evaluate do a Rotation and translation of\n",
    "init_R_T = ((0, 0, 0), (0.5, 0.5, 2))\n",
    "\n",
    "\n",
    "#pipline name and pipline parameters\n",
    "pipline_name = \"pipline_breaking\"\n",
    "\n",
    "\n",
    "N = 15\n",
    "t1 = 2\n",
    "t2 = 100\n",
    "t3 = 100\n",
    "\n",
    "Obj_url = \"data_test/pairwise/repair_group8_pair1/RPf_00059_gt.ply\"\n",
    "#threshold for corner\n",
    "thre = 0.95\n",
    "\n",
    "pipline_variables = (N, t1, t2, t3, thre)\n",
    "\n",
    "#test\n",
    "test_name = \"ICP_test\"\n",
    "\n",
    "# eval \n",
    "\n",
    "eval_list = [\"rms\"]\n",
    "\n",
    "test_breaking_1 = test(Obj2_url, Obj1_url, init_R_T, pipline_name, pipline_variables, test_name, eval_list, show_results = True, save_results=False)\n",
    "\n",
    "my_results = test_breaking_1.run()"
   ]
  },
  {
   "cell_type": "code",
   "execution_count": null,
   "id": "c6547863",
   "metadata": {},
   "outputs": [],
   "source": [
    "import pandas as pd\n",
    "df_breaking_1 = pd.DataFrame(test_breaking_1.results)\n",
    "df_breaking_1[\"total\"] = df_breaking_1[\"R_error\"]+df_breaking_1[\"T_error\"]\n",
    "df_breaking_1.sort_values('T_error')"
   ]
  },
  {
   "cell_type": "code",
   "execution_count": null,
   "id": "232fe473",
   "metadata": {},
   "outputs": [],
   "source": [
    "get_winner(test_breaking_1)"
   ]
  },
  {
   "cell_type": "code",
   "execution_count": null,
   "id": "7ce071b5",
   "metadata": {},
   "outputs": [],
   "source": [
    "test_breaking_1.draw_registration_result_original_color(test_breaking_1.Obj1,test_breaking_1.Obj2,test_breaking_1.result_transformation_arr[33][2])"
   ]
  },
  {
   "cell_type": "code",
   "execution_count": null,
   "id": "8cb6e811",
   "metadata": {},
   "outputs": [],
   "source": [
    "test_breaking_1.draw_registration_result_original_color(test_breaking_1.Obj1,test_breaking_1.Obj2,np.eye(4))"
   ]
  },
  {
   "cell_type": "code",
   "execution_count": null,
   "id": "cea8a65c",
   "metadata": {},
   "outputs": [],
   "source": [
    "test_breaking_1.draw_registration_result_original_color(test_breaking_1.Obj1,test_breaking_1.Obj2,test_breaking_1.RM_ground)"
   ]
  },
  {
   "cell_type": "code",
   "execution_count": null,
   "id": "230d0bdf",
   "metadata": {},
   "outputs": [],
   "source": [
    "save(\"test_breaking_1\",test_breaking_1,33)"
   ]
  },
  {
   "cell_type": "code",
   "execution_count": null,
   "id": "40e04075",
   "metadata": {},
   "outputs": [],
   "source": [
    "import ast\n",
    "\n",
    "from runner import test\n",
    "import numpy as np\n",
    "\n",
    "number = 192\n",
    "\n",
    "#objects\n",
    "Obj1_url = \"data_test/pairwise/breaking_bad_cat_artifact_pair2/breaking_bad_cat_artifact_piece2.ply\"\n",
    "Obj2_url = \"data_test/pairwise/breaking_bad_cat_artifact_pair2/breaking_bad_cat_artifact_piece3.ply\"\n",
    "\n",
    "#Before Evaluate do a Rotation and translation of\n",
    "init_R_T = ((0.2, 0.2, 0.1), (-0.5, -0.5, -0.5))\n",
    "\n",
    "\n",
    "#pipline name and pipline parameters\n",
    "pipline_name = \"pipline_breaking_bad_statue\"\n",
    "\n",
    "\n",
    "N = 15\n",
    "t1 = 2\n",
    "t2 = 100\n",
    "t3 = 100\n",
    "\n",
    "Obj_url = \"data_test/pairwise/repair_group8_pair1/RPf_00059_gt.ply\"\n",
    "#threshold for corner\n",
    "thre = 0.95\n",
    "\n",
    "pipline_variables = (N, t1, t2, t3, thre)\n",
    "\n",
    "#test\n",
    "test_name = \"ICP_test\"\n",
    "\n",
    "# eval \n",
    "\n",
    "eval_list = [\"rms\"]\n",
    "\n",
    "test_breaking_2 = test(Obj2_url, Obj1_url, init_R_T, pipline_name, pipline_variables, test_name, eval_list, show_results = True, save_results=False)\n",
    "\n",
    "my_results = test_breaking_2.run()"
   ]
  },
  {
   "cell_type": "code",
   "execution_count": null,
   "id": "10588efc",
   "metadata": {},
   "outputs": [],
   "source": [
    "import pandas as pd\n",
    "df_breaking_2 = pd.DataFrame(test_breaking_2.results)\n",
    "df_breaking_2[\"total\"] = df_breaking_2[\"R_error\"]+df_breaking_2[\"T_error\"]\n",
    "df_breaking_2.sort_values('T_error')"
   ]
  },
  {
   "cell_type": "code",
   "execution_count": null,
   "id": "8743ed4e",
   "metadata": {},
   "outputs": [],
   "source": [
    "df_breaking_2[(df_breaking_2[\"o1\"]==2) & (df_breaking_2[\"o2\"]==6)]"
   ]
  },
  {
   "cell_type": "code",
   "execution_count": null,
   "id": "d0e05ec7",
   "metadata": {},
   "outputs": [],
   "source": [
    "test_breaking_2.draw_registration_result_original_color(test_breaking_2.Obj1,test_breaking_2.Obj2,test_breaking_2.result_transformation_arr[22][2])"
   ]
  },
  {
   "cell_type": "code",
   "execution_count": null,
   "id": "7f558dac",
   "metadata": {},
   "outputs": [],
   "source": [
    "test_breaking_2.draw_registration_result_original_color(test_breaking_2.Obj1,test_breaking_2.Obj2,np.eye(4))"
   ]
  },
  {
   "cell_type": "code",
   "execution_count": null,
   "id": "41d1e096",
   "metadata": {},
   "outputs": [],
   "source": [
    "test_breaking_2.draw_registration_result_original_color(test_breaking_2.Obj1,test_breaking_2.Obj2,test_breaking_2.RM_ground)"
   ]
  },
  {
   "cell_type": "code",
   "execution_count": null,
   "id": "a85ca144",
   "metadata": {},
   "outputs": [],
   "source": [
    "save(\"test_breaking_2\",test_breaking_2,22)"
   ]
  },
  {
   "cell_type": "code",
   "execution_count": null,
   "id": "ef215363",
   "metadata": {},
   "outputs": [],
   "source": []
  },
  {
   "cell_type": "code",
   "execution_count": null,
   "id": "25654274",
   "metadata": {},
   "outputs": [],
   "source": [
    "import ast\n",
    "\n",
    "from runner import test\n",
    "import numpy as np\n",
    "\n",
    "number = 192\n",
    "\n",
    "#objects\n",
    "Obj1_url =  \"data_test/pairwise/breaking_bad_statue_pair1/breaking_bad_cat_statue_piece1.ply\"\n",
    "Obj2_url =  \"data_test/pairwise/breaking_bad_statue_pair1/breaking_bad_cat_statue_piece2.ply\"\n",
    "\n",
    "#Before Evaluate do a Rotation and translation of\n",
    "init_R_T = ((0.2, 0.2, 0.1), (-0.5, -0.5, -0.5))\n",
    "\n",
    "\n",
    "#pipline name and pipline parameters\n",
    "pipline_name = \"pipline_breaking_bad_statue\"\n",
    "\n",
    "\n",
    "N = 15\n",
    "t1 = 2\n",
    "t2 = 100\n",
    "t3 = 100\n",
    "\n",
    "#threshold for corner\n",
    "thre = 0.95\n",
    "\n",
    "pipline_variables = (N, t1, t2, t3, thre)\n",
    "\n",
    "#test\n",
    "test_name = \"ICP_test\"\n",
    "\n",
    "# eval \n",
    "\n",
    "eval_list = [\"rms\"]\n",
    "\n",
    "test_breaking_3 = test(Obj2_url, Obj1_url, init_R_T, pipline_name, pipline_variables, test_name, eval_list, show_results = True, save_results=False)\n",
    "\n",
    "my_results = test_breaking_3.run()"
   ]
  },
  {
   "cell_type": "code",
   "execution_count": null,
   "id": "16bc68b3",
   "metadata": {},
   "outputs": [],
   "source": [
    "import pandas as pd\n",
    "df_breaking_3 = pd.DataFrame(test_breaking_3.results)\n",
    "df_breaking_3[\"total\"] = df_breaking_3[\"R_error\"]+df_breaking_3[\"T_error\"]\n",
    "df_breaking_3.sort_values('T_error')"
   ]
  },
  {
   "cell_type": "code",
   "execution_count": null,
   "id": "9c045143",
   "metadata": {},
   "outputs": [],
   "source": [
    "df_breaking_3['T_error'][13]"
   ]
  },
  {
   "cell_type": "code",
   "execution_count": null,
   "id": "1b5e0a5c",
   "metadata": {},
   "outputs": [],
   "source": [
    "df_breaking_3[(df_breaking_3[\"o1\"]==2) & (df_breaking_3[\"o2\"]==6)]"
   ]
  },
  {
   "cell_type": "code",
   "execution_count": null,
   "id": "6dfd9579",
   "metadata": {},
   "outputs": [],
   "source": [
    "test_breaking_3.draw_registration_result_original_color(test_breaking_3.Obj1,test_breaking_3.Obj2,test_breaking_3.result_transformation_arr[13][2])"
   ]
  },
  {
   "cell_type": "code",
   "execution_count": null,
   "id": "fbe3c774",
   "metadata": {},
   "outputs": [],
   "source": [
    "test_breaking_3.draw_registration_result_original_color(test_breaking_3.Obj1,test_breaking_3.Obj2,np.eye(4))"
   ]
  },
  {
   "cell_type": "code",
   "execution_count": null,
   "id": "8d6ab3e5",
   "metadata": {},
   "outputs": [],
   "source": [
    "test_breaking_3.draw_registration_result_original_color(test_breaking_3.Obj1,test_breaking_3.Obj2,test_breaking_3.RM_ground)"
   ]
  },
  {
   "cell_type": "code",
   "execution_count": null,
   "id": "26070d94",
   "metadata": {},
   "outputs": [],
   "source": [
    "save(\"test_breaking_3\",test_breaking_3,13)"
   ]
  },
  {
   "cell_type": "code",
   "execution_count": null,
   "id": "09e3c04f",
   "metadata": {},
   "outputs": [],
   "source": []
  },
  {
   "cell_type": "code",
   "execution_count": null,
   "id": "363ec793",
   "metadata": {},
   "outputs": [],
   "source": [
    "import ast\n",
    "\n",
    "from runner import test\n",
    "import numpy as np\n",
    "\n",
    "number = 192\n",
    "\n",
    "#objects\n",
    "Obj1_url =  \"data_test/pairwise/breaking_bad_toyfigure_pair1/breaking_bad_cat_toyfigure_piece1.ply\"\n",
    "Obj2_url =  \"data_test/pairwise/breaking_bad_toyfigure_pair1/breaking_bad_cat_toyfigure_piece2.ply\"\n",
    "\n",
    "#Before Evaluate do a Rotation and translation of\n",
    "init_R_T = ((0.2, 0.2, 0.1), (-0.5, -0.5, -0.5))\n",
    "\n",
    "\n",
    "#pipline name and pipline parameters\n",
    "pipline_name = \"pipline_breaking_bad_statue\"\n",
    "\n",
    "\n",
    "N = 15\n",
    "t1 = 2\n",
    "t2 = 100\n",
    "t3 = 100\n",
    "\n",
    "#threshold for corner\n",
    "thre = 0.95\n",
    "\n",
    "pipline_variables = (N, t1, t2, t3, thre)\n",
    "\n",
    "#test\n",
    "test_name = \"ICP_test\"\n",
    "\n",
    "# eval \n",
    "\n",
    "eval_list = [\"rms\"]\n",
    "\n",
    "test_breaking_4 = test(Obj2_url, Obj1_url, init_R_T, pipline_name, pipline_variables, test_name, eval_list, show_results = True, save_results=False)\n",
    "\n",
    "my_results = test_breaking_4.run()"
   ]
  },
  {
   "cell_type": "code",
   "execution_count": null,
   "id": "99866e31",
   "metadata": {},
   "outputs": [],
   "source": [
    "import pandas as pd\n",
    "df_breaking_4 = pd.DataFrame(test_breaking_4.results)\n",
    "df_breaking_4[\"total\"] = df_breaking_4[\"R_error\"]+df_breaking_4[\"T_error\"]\n",
    "df_breaking_4.sort_values('T_error')"
   ]
  },
  {
   "cell_type": "code",
   "execution_count": null,
   "id": "a1755e40",
   "metadata": {},
   "outputs": [],
   "source": [
    "test_breaking_4.draw_registration_result_original_color(test_breaking_4.Obj1,test_breaking_4.Obj2,test_breaking_4.result_transformation_arr[9][2])"
   ]
  },
  {
   "cell_type": "code",
   "execution_count": null,
   "id": "b41ddca1",
   "metadata": {},
   "outputs": [],
   "source": [
    "test_breaking_4.draw_registration_result_original_color(test_breaking_4.Obj1,test_breaking_4.Obj2,np.eye(4))"
   ]
  },
  {
   "cell_type": "code",
   "execution_count": null,
   "id": "32345bac",
   "metadata": {},
   "outputs": [],
   "source": [
    "test_breaking_4.draw_registration_result_original_color(test_breaking_4.Obj1,test_breaking_4.Obj2,test_breaking_3.RM_ground)"
   ]
  },
  {
   "cell_type": "markdown",
   "id": "7114c11a",
   "metadata": {},
   "source": [
    "breaking_bad 3"
   ]
  },
  {
   "cell_type": "code",
   "execution_count": null,
   "id": "4751440f",
   "metadata": {},
   "outputs": [],
   "source": [
    "import ast\n",
    "\n",
    "from runner import test\n",
    "import numpy as np\n",
    "\n",
    "number = 192\n",
    "\n",
    "#objects\n",
    "Obj1_url = \"data_test/pairs_everyday/BeerBottle/fractured_79/piece_0.obj\"\n",
    "Obj2_url = \"data_test/pairs_everyday/BeerBottle/fractured_79/piece_1.obj\"\n",
    "\n",
    "#Before Evaluate do a Rotation and translation of\n",
    "init_R_T = ((0.2, 0.2, 0.1), (-0.5, -0.5, -0.5))\n",
    "\n",
    "\n",
    "#pipline name and pipline parameters\n",
    "pipline_name = \"pipline_breaking\"\n",
    "\n",
    "\n",
    "N = 15\n",
    "t1 = 2\n",
    "t2 = 100\n",
    "t3 = 100\n",
    "\n",
    "Obj_url = \"data_test/pairwise/repair_group8_pair1/RPf_00059_gt.ply\"\n",
    "#threshold for corner\n",
    "thre = 0.95\n",
    "\n",
    "pipline_variables = (N, t1, t2, t3, thre)\n",
    "\n",
    "#test\n",
    "test_name = \"ICP_test\"\n",
    "\n",
    "# eval \n",
    "\n",
    "eval_list = [\"rms\"]\n",
    "\n",
    "test_breaking_3 = test(Obj2_url, Obj1_url, init_R_T, pipline_name, pipline_variables, test_name, eval_list, show_results = True, save_results=False)\n",
    "\n",
    "my_results = test_breaking_3.run()"
   ]
  },
  {
   "cell_type": "code",
   "execution_count": null,
   "id": "3e7a3dc9",
   "metadata": {},
   "outputs": [],
   "source": [
    "import pandas as pd\n",
    "df_breaking_3 = pd.DataFrame(test_breaking_3.results)\n",
    "df_breaking_3[\"total\"] = df_breaking_3[\"R_error\"]+df_breaking_3[\"T_error\"]\n",
    "df_breaking_3.sort_values('T_error')"
   ]
  },
  {
   "cell_type": "code",
   "execution_count": null,
   "id": "2229989b",
   "metadata": {},
   "outputs": [],
   "source": [
    "test_breaking_3.draw_registration_result_original_color(test_breaking_3.Obj1,test_breaking_3.Obj2,test_breaking_3.result_transformation_arr[98][2])"
   ]
  },
  {
   "cell_type": "code",
   "execution_count": null,
   "id": "8931c39d",
   "metadata": {},
   "outputs": [],
   "source": [
    "test_breaking_3.draw_registration_result_original_color(test_breaking_3.Obj1,test_breaking_3.Obj2,np.eye(4))"
   ]
  },
  {
   "cell_type": "code",
   "execution_count": null,
   "id": "f2087665",
   "metadata": {},
   "outputs": [],
   "source": [
    "test_breaking_3.draw_registration_result_original_color(test_breaking_3.Obj1,test_breaking_3.Obj2,test_breaking_3.RM_ground)"
   ]
  },
  {
   "cell_type": "code",
   "execution_count": null,
   "id": "e97a705e",
   "metadata": {},
   "outputs": [],
   "source": []
  },
  {
   "cell_type": "code",
   "execution_count": null,
   "id": "7e5bc92e",
   "metadata": {},
   "outputs": [],
   "source": [
    "import ast\n",
    "\n",
    "from runner import test\n",
    "import numpy as np\n",
    "\n",
    "number = 192\n",
    "\n",
    "#objects\n",
    "Obj1_url = \"data_test/Breaking-bad-resampled-pairs/Vase-needtolookat/17b6b2b09458f1a435836c728d324152/fractured_5/piece_1.obj\"\n",
    "Obj2_url = \"data_test/Breaking-bad-resampled-pairs/Vase-needtolookat/17b6b2b09458f1a435836c728d324152/fractured_5/piece_0.obj\"\n",
    "\n",
    "#Before Evaluate do a Rotation and translation of\n",
    "init_R_T = ((0.2, 0.2, 0.1), (-0.5, -0.5, -0.5))\n",
    "\n",
    "\n",
    "#pipline name and pipline parameters\n",
    "pipline_name = \"thin_objects\"\n",
    "\n",
    "\n",
    "N = 15\n",
    "t1 = 100\n",
    "t2 = 100\n",
    "t3 = 100\n",
    "\n",
    "\n",
    "#threshold for corner\n",
    "thre = 0.93\n",
    "\n",
    "pipline_variables = (N, t1, t2, t3, thre)\n",
    "\n",
    "#test\n",
    "test_name = \"ICP_test\"\n",
    "\n",
    "# eval \n",
    "\n",
    "eval_list = [\"rms\"]\n",
    "\n",
    "test_breaking_thin = test(Obj2_url, Obj1_url, init_R_T, pipline_name, pipline_variables, test_name, eval_list, show_results = True, save_results=False)\n",
    "\n",
    "my_results = test_breaking_thin.run()"
   ]
  },
  {
   "cell_type": "code",
   "execution_count": null,
   "id": "e9d1ab97",
   "metadata": {},
   "outputs": [],
   "source": [
    "my_results"
   ]
  },
  {
   "cell_type": "code",
   "execution_count": null,
   "id": "b5f3e9a8",
   "metadata": {},
   "outputs": [],
   "source": [
    "import pandas as pd\n",
    "df_breaking_thin = pd.DataFrame(test_breaking_thin.results)\n",
    "df_breaking_thin[\"total\"] = df_breaking_thin[\"R_error\"]+df_breaking_thin[\"T_error\"]\n",
    "df_breaking_thin.sort_values('T_error')"
   ]
  },
  {
   "cell_type": "code",
   "execution_count": null,
   "id": "0ea1e23e",
   "metadata": {},
   "outputs": [],
   "source": [
    "df_breaking_thin"
   ]
  },
  {
   "cell_type": "code",
   "execution_count": null,
   "id": "132fc1fb",
   "metadata": {},
   "outputs": [],
   "source": [
    "test_breaking_thin.draw_registration_result_original_color(test_breaking_thin.Obj1,test_breaking_thin.Obj2,test_breaking_thin.result_transformation_arr[9][2])"
   ]
  },
  {
   "cell_type": "code",
   "execution_count": null,
   "id": "736217a5",
   "metadata": {},
   "outputs": [],
   "source": [
    "test_breaking_thin.draw_registration_result_original_color(test_breaking_thin.Obj1,test_breaking_thin.Obj2,np.eye(4))"
   ]
  },
  {
   "cell_type": "code",
   "execution_count": null,
   "id": "be55686e",
   "metadata": {},
   "outputs": [],
   "source": [
    "test_breaking_thin.draw_registration_result_original_color(test_breaking_thin.Obj1,test_breaking_thin.Obj2,test_breaking_thin.RM_ground)"
   ]
  },
  {
   "cell_type": "code",
   "execution_count": null,
   "id": "23778749",
   "metadata": {},
   "outputs": [],
   "source": [
    "save(\"test_breaking_thin\",test_breaking_thin,9)"
   ]
  },
  {
   "cell_type": "code",
   "execution_count": null,
   "id": "6b79f581",
   "metadata": {},
   "outputs": [],
   "source": []
  },
  {
   "cell_type": "code",
   "execution_count": 10,
   "id": "2cee4d38",
   "metadata": {},
   "outputs": [
    {
     "name": "stdout",
     "output_type": "stream",
     "text": [
      "_________________________First Object_________________________\n",
      "start\n",
      "1.obj\n",
      "small object\n",
      "[Open3D WARNING] Unable to load file data_test/breaking_bad/WineBottle/fractured_3/piece_1.obj with ASSIMP\n"
     ]
    },
    {
     "ename": "TypeError",
     "evalue": "exceptions must derive from BaseException",
     "output_type": "error",
     "traceback": [
      "\u001b[1;31m---------------------------------------------------------------------------\u001b[0m",
      "\u001b[1;31mRuntimeError\u001b[0m                              Traceback (most recent call last)",
      "File \u001b[1;32m~\\Documents\\THESIS\\helper.py:63\u001b[0m, in \u001b[0;36mload_mesh\u001b[1;34m(url, voxel_size)\u001b[0m\n\u001b[0;32m     62\u001b[0m     mesh \u001b[38;5;241m=\u001b[39m o3d\u001b[38;5;241m.\u001b[39mio\u001b[38;5;241m.\u001b[39mread_triangle_mesh(url)\n\u001b[1;32m---> 63\u001b[0m     pcd \u001b[38;5;241m=\u001b[39m \u001b[43mmesh\u001b[49m\u001b[38;5;241;43m.\u001b[39;49m\u001b[43msample_points_uniformly\u001b[49m\u001b[43m(\u001b[49m\u001b[43mnumber_of_points\u001b[49m\u001b[38;5;241;43m=\u001b[39;49m\u001b[43mvoxel_size\u001b[49m\u001b[43m)\u001b[49m\n\u001b[0;32m     64\u001b[0m \u001b[38;5;28;01mexcept\u001b[39;00m:\n",
      "\u001b[1;31mRuntimeError\u001b[0m: [Open3D Error] (class std::shared_ptr<class open3d::geometry::PointCloud> __cdecl open3d::geometry::TriangleMesh::SamplePointsUniformly(unsigned __int64,bool)) D:\\a\\Open3D\\Open3D\\cpp\\open3d\\geometry\\TriangleMesh.cpp:526: Input mesh has no triangles.\n",
      "\nDuring handling of the above exception, another exception occurred:\n",
      "\u001b[1;31mTypeError\u001b[0m                                 Traceback (most recent call last)",
      "Cell \u001b[1;32mIn[10], line 40\u001b[0m\n\u001b[0;32m     36\u001b[0m eval_list \u001b[38;5;241m=\u001b[39m [\u001b[38;5;124m\"\u001b[39m\u001b[38;5;124mrms\u001b[39m\u001b[38;5;124m\"\u001b[39m]\n\u001b[0;32m     38\u001b[0m test_breaking_thin \u001b[38;5;241m=\u001b[39m test(Obj2_url, Obj1_url, init_R_T, pipline_name, pipline_variables, test_name, eval_list, show_results \u001b[38;5;241m=\u001b[39m \u001b[38;5;28;01mTrue\u001b[39;00m, save_results\u001b[38;5;241m=\u001b[39m\u001b[38;5;28;01mFalse\u001b[39;00m)\n\u001b[1;32m---> 40\u001b[0m my_results \u001b[38;5;241m=\u001b[39m \u001b[43mtest_breaking_thin\u001b[49m\u001b[38;5;241;43m.\u001b[39;49m\u001b[43mrun\u001b[49m\u001b[43m(\u001b[49m\u001b[43m)\u001b[49m\n",
      "File \u001b[1;32m~\\Documents\\THESIS\\runner.py:252\u001b[0m, in \u001b[0;36mtest.run\u001b[1;34m(self)\u001b[0m\n\u001b[0;32m    247\u001b[0m \u001b[38;5;28;01mdef\u001b[39;00m \u001b[38;5;21mrun\u001b[39m(\u001b[38;5;28mself\u001b[39m):\n\u001b[0;32m    248\u001b[0m \n\u001b[0;32m    249\u001b[0m     \u001b[38;5;66;03m# try:\u001b[39;00m\n\u001b[0;32m    250\u001b[0m     \u001b[38;5;28mprint\u001b[39m(\u001b[38;5;124m\"\u001b[39m\u001b[38;5;124m_________________________First Object_________________________\u001b[39m\u001b[38;5;124m\"\u001b[39m)\n\u001b[1;32m--> 252\u001b[0m     \u001b[38;5;28mself\u001b[39m\u001b[38;5;241m.\u001b[39mObj1,\u001b[38;5;28mself\u001b[39m\u001b[38;5;241m.\u001b[39mObj1_array \u001b[38;5;241m=\u001b[39m \u001b[38;5;28;43mself\u001b[39;49m\u001b[38;5;241;43m.\u001b[39;49m\u001b[43mmy_pipline\u001b[49m\u001b[38;5;241;43m.\u001b[39;49m\u001b[43mrun\u001b[49m\u001b[43m(\u001b[49m\u001b[38;5;28;43mself\u001b[39;49m\u001b[38;5;241;43m.\u001b[39;49m\u001b[43mObj1_url\u001b[49m\u001b[43m,\u001b[49m\u001b[38;5;28;43mself\u001b[39;49m\u001b[38;5;241;43m.\u001b[39;49m\u001b[43mpipline_variables\u001b[49m\u001b[43m)\u001b[49m\n\u001b[0;32m    253\u001b[0m     \u001b[38;5;28mprint\u001b[39m(\u001b[38;5;124m\"\u001b[39m\u001b[38;5;124m_________________________Second Object_________________________\u001b[39m\u001b[38;5;124m\"\u001b[39m)\n\u001b[0;32m    255\u001b[0m     \u001b[38;5;28mself\u001b[39m\u001b[38;5;241m.\u001b[39mObj2,\u001b[38;5;28mself\u001b[39m\u001b[38;5;241m.\u001b[39mObj2_array \u001b[38;5;241m=\u001b[39m \u001b[38;5;28mself\u001b[39m\u001b[38;5;241m.\u001b[39mmy_pipline\u001b[38;5;241m.\u001b[39mrun(\u001b[38;5;28mself\u001b[39m\u001b[38;5;241m.\u001b[39mObj2_url,\u001b[38;5;28mself\u001b[39m\u001b[38;5;241m.\u001b[39mpipline_variables)\n",
      "File \u001b[1;32m~\\Documents\\THESIS\\pipline_modules\\drink.py:149\u001b[0m, in \u001b[0;36mrun\u001b[1;34m(Obj_url, pipline_variables)\u001b[0m\n\u001b[0;32m    147\u001b[0m \u001b[38;5;28;01melse\u001b[39;00m:\n\u001b[0;32m    148\u001b[0m     \u001b[38;5;28mprint\u001b[39m(\u001b[38;5;124m\"\u001b[39m\u001b[38;5;124msmall object\u001b[39m\u001b[38;5;124m\"\u001b[39m)\n\u001b[1;32m--> 149\u001b[0m     Obj \u001b[38;5;241m=\u001b[39m \u001b[43mFeatureLines\u001b[49m\u001b[43m(\u001b[49m\u001b[43mObj_url\u001b[49m\u001b[43m,\u001b[49m\u001b[38;5;124;43m\"\u001b[39;49m\u001b[38;5;124;43mmesh\u001b[39;49m\u001b[38;5;124;43m\"\u001b[39;49m\u001b[43m,\u001b[49m\u001b[43mvoxel_size\u001b[49m\u001b[38;5;241;43m=\u001b[39;49m\u001b[38;5;241;43m90000\u001b[39;49m\u001b[43m)\u001b[49m\n\u001b[0;32m    150\u001b[0m \u001b[38;5;66;03m# print(\"Size :\",len(Obj.pcd.points))\u001b[39;00m\n\u001b[0;32m    151\u001b[0m \u001b[38;5;28mprint\u001b[39m(\u001b[38;5;124m\"\u001b[39m\u001b[38;5;124mstarting init\u001b[39m\u001b[38;5;124m\"\u001b[39m)\n",
      "File \u001b[1;32m~\\Documents\\THESIS\\Fragment.py:24\u001b[0m, in \u001b[0;36mFeatureLines.__init__\u001b[1;34m(self, url, type, voxel_size)\u001b[0m\n\u001b[0;32m     22\u001b[0m     \u001b[38;5;28mself\u001b[39m\u001b[38;5;241m.\u001b[39mpcd,\u001b[38;5;28mself\u001b[39m\u001b[38;5;241m.\u001b[39mpcd_tree \u001b[38;5;241m=\u001b[39m helper\u001b[38;5;241m.\u001b[39mload_cloud(url,voxel_size)\n\u001b[0;32m     23\u001b[0m \u001b[38;5;28;01melif\u001b[39;00m \u001b[38;5;28mtype\u001b[39m \u001b[38;5;241m==\u001b[39m \u001b[38;5;124m\"\u001b[39m\u001b[38;5;124mmesh\u001b[39m\u001b[38;5;124m\"\u001b[39m:\n\u001b[1;32m---> 24\u001b[0m     \u001b[38;5;28mself\u001b[39m\u001b[38;5;241m.\u001b[39mpcd,\u001b[38;5;28mself\u001b[39m\u001b[38;5;241m.\u001b[39mpcd_tree \u001b[38;5;241m=\u001b[39m \u001b[43mhelper\u001b[49m\u001b[38;5;241;43m.\u001b[39;49m\u001b[43mload_mesh\u001b[49m\u001b[43m(\u001b[49m\u001b[43murl\u001b[49m\u001b[43m,\u001b[49m\u001b[43mvoxel_size\u001b[49m\u001b[43m)\u001b[49m\n\u001b[0;32m     25\u001b[0m \u001b[38;5;28;01melse\u001b[39;00m:\n\u001b[0;32m     26\u001b[0m     \u001b[38;5;28;01mraise\u001b[39;00m \u001b[38;5;167;01mException\u001b[39;00m(\u001b[38;5;124m'\u001b[39m\u001b[38;5;124mwrong value : \u001b[39m\u001b[38;5;124m'\u001b[39m\u001b[38;5;241m+\u001b[39m\u001b[38;5;28mtype\u001b[39m)\n",
      "File \u001b[1;32m~\\Documents\\THESIS\\helper.py:65\u001b[0m, in \u001b[0;36mload_mesh\u001b[1;34m(url, voxel_size)\u001b[0m\n\u001b[0;32m     63\u001b[0m     pcd \u001b[38;5;241m=\u001b[39m mesh\u001b[38;5;241m.\u001b[39msample_points_uniformly(number_of_points\u001b[38;5;241m=\u001b[39mvoxel_size)\n\u001b[0;32m     64\u001b[0m \u001b[38;5;28;01mexcept\u001b[39;00m:\n\u001b[1;32m---> 65\u001b[0m     \u001b[38;5;28;01mraise\u001b[39;00m(\u001b[38;5;124m\"\u001b[39m\u001b[38;5;124mproblem in reading the 3d file -> \u001b[39m\u001b[38;5;124m\"\u001b[39m\u001b[38;5;241m+\u001b[39murl)\n\u001b[0;32m     67\u001b[0m \u001b[38;5;66;03m# voxel_percentage = down_sample_to(pcd,voxel_size)\u001b[39;00m\n\u001b[0;32m     68\u001b[0m \u001b[38;5;66;03m# print(\"my number is -> \",voxel_percentage)\u001b[39;00m\n\u001b[0;32m     69\u001b[0m \u001b[38;5;66;03m# downpcd = pcd.voxel_down_sample(voxel_size=voxel_percentage)\u001b[39;00m\n\u001b[0;32m     70\u001b[0m pcd_tree \u001b[38;5;241m=\u001b[39m o3d\u001b[38;5;241m.\u001b[39mgeometry\u001b[38;5;241m.\u001b[39mKDTreeFlann(pcd)\n",
      "\u001b[1;31mTypeError\u001b[0m: exceptions must derive from BaseException"
     ]
    }
   ],
   "source": [
    "import ast\n",
    "\n",
    "from runner import test\n",
    "import numpy as np\n",
    "\n",
    "number = 192\n",
    "\n",
    "#objects\n",
    "Obj1_url = \"data_test/breaking_bad/WineBottle/fractured_3/piece_0.obj\"\n",
    "Obj2_url = \"data_test/breaking_bad/WineBottle/fractured_3/piece_1.obj\"\n",
    "\n",
    "#Before Evaluate do a Rotation and translation of\n",
    "init_R_T = ((0.2, 0.2, 0.1), (-0.5, -0.5, -0.5))\n",
    "\n",
    "\n",
    "#pipline name and pipline parameters\n",
    "pipline_name = \"drink\"\n",
    "\n",
    "\n",
    "N = 15\n",
    "t1 = 100\n",
    "t2 = 100\n",
    "t3 = 100\n",
    "\n",
    "\n",
    "#threshold for corner\n",
    "thre = 0.93\n",
    "\n",
    "pipline_variables = (N, t1, t2, t3, thre)\n",
    "\n",
    "#test\n",
    "test_name = \"ICP_test\"\n",
    "\n",
    "# eval \n",
    "\n",
    "eval_list = [\"rms\"]\n",
    "\n",
    "test_breaking_thin = test(Obj2_url, Obj1_url, init_R_T, pipline_name, pipline_variables, test_name, eval_list, show_results = True, save_results=False)\n",
    "\n",
    "my_results = test_breaking_thin.run()"
   ]
  },
  {
   "cell_type": "code",
   "execution_count": null,
   "id": "e6a73843",
   "metadata": {},
   "outputs": [],
   "source": [
    "import pandas as pd\n",
    "df_breaking_thin = pd.DataFrame(test_breaking_thin.results)\n",
    "df_breaking_thin[\"total\"] = df_breaking_thin[\"R_error\"]+df_breaking_thin[\"T_error\"]\n",
    "df_breaking_thin.sort_values('T_error')"
   ]
  },
  {
   "cell_type": "code",
   "execution_count": null,
   "id": "5666340d",
   "metadata": {},
   "outputs": [],
   "source": [
    "save(\"breaking_bad_WineBottle_fractured_3\",test_breaking_thin,3)"
   ]
  },
  {
   "cell_type": "code",
   "execution_count": null,
   "id": "2b9168a1",
   "metadata": {},
   "outputs": [],
   "source": [
    "test_breaking_thin.draw_registration_result_original_color(test_breaking_thin.Obj1,test_breaking_thin.Obj2,test_breaking_thin.result_transformation_arr[3][2])"
   ]
  },
  {
   "cell_type": "code",
   "execution_count": null,
   "id": "787c0d1d",
   "metadata": {},
   "outputs": [],
   "source": [
    "save(\"breaking_bad_WineBottle_fractured_14\",test_breaking_thin,3)"
   ]
  },
  {
   "cell_type": "code",
   "execution_count": null,
   "id": "2058db73",
   "metadata": {},
   "outputs": [],
   "source": [
    "test_breaking_thin.draw_registration_result_original_color(test_breaking_thin.Obj1,test_breaking_thin.Obj2,np.eye(4))"
   ]
  },
  {
   "cell_type": "code",
   "execution_count": null,
   "id": "8a1e6a42",
   "metadata": {},
   "outputs": [],
   "source": [
    "test_breaking_thin.draw_registration_result_original_color(test_breaking_thin.Obj1,test_breaking_thin.Obj2,test_breaking_thin.RM_ground)"
   ]
  },
  {
   "cell_type": "code",
   "execution_count": 1,
   "id": "7227fe5e",
   "metadata": {},
   "outputs": [
    {
     "name": "stdout",
     "output_type": "stream",
     "text": [
      "Jupyter environment detected. Enabling Open3D WebVisualizer.\n",
      "[Open3D INFO] WebRTC GUI backend enabled.\n",
      "[Open3D INFO] WebRTCWindowSystem: HTTP handshake server disabled.\n",
      "_________________________First Object_________________________\n",
      "start\n",
      "1.obj\n",
      "small object\n",
      "starting init\n",
      "starting calculating atts\n"
     ]
    },
    {
     "name": "stderr",
     "output_type": "stream",
     "text": [
      "100%|██████████████████████████████████████████████████████████████████████████| 40000/40000 [00:13<00:00, 3024.80it/s]\n"
     ]
    },
    {
     "name": "stdout",
     "output_type": "stream",
     "text": [
      "my radius is :  0.013461778771852624\n",
      "424344\n",
      "After graph 40000\n",
      "constructing borders\n",
      "2087\n",
      "shortest_allowed_branch_length 2.0\n",
      "smallest_isolated_island_length 2.0\n",
      "shortest_cycle_length 2.0\n",
      "my radius is :  0.028793117218499285\n",
      "46411\n",
      "After graph 2075\n",
      "After Pruning 2065\n",
      "After Pruning 2075\n",
      "dilation and segmentation\n",
      "borders dilated\n"
     ]
    },
    {
     "name": "stderr",
     "output_type": "stream",
     "text": [
      "379454it [02:01, 3738.09it/s]                                                                                          "
     ]
    },
    {
     "name": "stdout",
     "output_type": "stream",
     "text": [
      "35946\n"
     ]
    },
    {
     "name": "stderr",
     "output_type": "stream",
     "text": [
      "381877it [02:01, 3704.13it/s]"
     ]
    },
    {
     "name": "stdout",
     "output_type": "stream",
     "text": [
      "239\n"
     ]
    },
    {
     "name": "stderr",
     "output_type": "stream",
     "text": [
      "383357it [02:02, 2820.91it/s]"
     ]
    },
    {
     "name": "stdout",
     "output_type": "stream",
     "text": [
      "188\n",
      "6\n"
     ]
    },
    {
     "name": "stderr",
     "output_type": "stream",
     "text": [
      "384715it [02:02, 3193.29it/s]"
     ]
    },
    {
     "name": "stdout",
     "output_type": "stream",
     "text": [
      "88\n"
     ]
    },
    {
     "name": "stderr",
     "output_type": "stream",
     "text": [
      "386133it [02:03, 3192.32it/s]"
     ]
    },
    {
     "name": "stdout",
     "output_type": "stream",
     "text": [
      "161\n"
     ]
    },
    {
     "name": "stderr",
     "output_type": "stream",
     "text": [
      "387227it [02:03, 2872.66it/s]"
     ]
    },
    {
     "name": "stdout",
     "output_type": "stream",
     "text": [
      "116\n"
     ]
    },
    {
     "name": "stderr",
     "output_type": "stream",
     "text": [
      "388332it [02:03, 3132.52it/s]"
     ]
    },
    {
     "name": "stdout",
     "output_type": "stream",
     "text": [
      "60\n",
      "22\n"
     ]
    },
    {
     "name": "stderr",
     "output_type": "stream",
     "text": [
      "388490it [02:04, 3130.04it/s]\n"
     ]
    },
    {
     "name": "stdout",
     "output_type": "stream",
     "text": [
      "61\n",
      "got faces\n",
      "KNN Radius :  0.013461778771852624\n",
      "88\n",
      "expanded\n",
      "coloring\n",
      "_________________________Second Object_________________________\n",
      "start\n",
      "0.obj\n",
      "big object\n",
      "starting init\n",
      "starting calculating atts\n"
     ]
    },
    {
     "name": "stderr",
     "output_type": "stream",
     "text": [
      "100%|██████████████████████████████████████████████████████████████████████████| 40000/40000 [00:13<00:00, 2894.25it/s]\n"
     ]
    },
    {
     "name": "stdout",
     "output_type": "stream",
     "text": [
      "my radius is :  0.012827273111041381\n",
      "410224\n",
      "After graph 40000\n",
      "constructing borders\n",
      "2273\n",
      "shortest_allowed_branch_length 2.0\n",
      "smallest_isolated_island_length 2.0\n",
      "shortest_cycle_length 2.0\n",
      "my radius is :  0.026924063449495036\n",
      "47981\n",
      "After graph 2266\n",
      "After Pruning 2260\n",
      "After Pruning 2266\n",
      "dilation and segmentation\n",
      "borders dilated\n"
     ]
    },
    {
     "name": "stderr",
     "output_type": "stream",
     "text": [
      "229290it [01:23, 2806.39it/s]                                                                                          "
     ]
    },
    {
     "name": "stdout",
     "output_type": "stream",
     "text": [
      "22413\n"
     ]
    },
    {
     "name": "stderr",
     "output_type": "stream",
     "text": [
      "361913it [02:10, 2353.25it/s]"
     ]
    },
    {
     "name": "stdout",
     "output_type": "stream",
     "text": [
      "13161\n"
     ]
    },
    {
     "name": "stderr",
     "output_type": "stream",
     "text": [
      "363616it [02:11, 3030.48it/s]"
     ]
    },
    {
     "name": "stdout",
     "output_type": "stream",
     "text": [
      "111\n"
     ]
    },
    {
     "name": "stderr",
     "output_type": "stream",
     "text": [
      "364711it [02:11, 2996.77it/s]"
     ]
    },
    {
     "name": "stdout",
     "output_type": "stream",
     "text": [
      "111\n"
     ]
    },
    {
     "name": "stderr",
     "output_type": "stream",
     "text": [
      "367226it [02:12, 2552.56it/s]"
     ]
    },
    {
     "name": "stdout",
     "output_type": "stream",
     "text": [
      "259\n",
      "1\n",
      "25\n",
      "1\n"
     ]
    },
    {
     "name": "stderr",
     "output_type": "stream",
     "text": [
      "368475it [02:12, 2693.02it/s]"
     ]
    },
    {
     "name": "stdout",
     "output_type": "stream",
     "text": [
      "94\n"
     ]
    },
    {
     "name": "stderr",
     "output_type": "stream",
     "text": [
      "371192it [02:13, 2933.79it/s]"
     ]
    },
    {
     "name": "stdout",
     "output_type": "stream",
     "text": [
      "303\n",
      "1\n",
      "19\n"
     ]
    },
    {
     "name": "stderr",
     "output_type": "stream",
     "text": [
      "372275it [02:14, 2776.58it/s]\n"
     ]
    },
    {
     "name": "stdout",
     "output_type": "stream",
     "text": [
      "73\n",
      "13\n",
      "got faces\n",
      "KNN Radius :  0.012827273111041381\n",
      "30\n",
      "expanded\n",
      "coloring\n",
      "_________________________Registeration_________________________\n",
      "_________________________Evaluation_________________________\n"
     ]
    }
   ],
   "source": [
    "import ast\n",
    "\n",
    "from runner import test\n",
    "import numpy as np\n",
    "\n",
    "number = 192\n",
    "\n",
    "#objects\n",
    "Obj1_url = \"data_test/breaking_bad/mug/fractured_73/piece_0.obj\"\n",
    "Obj2_url = \"data_test/breaking_bad/mug/fractured_73/piece_1.obj\"\n",
    "\n",
    "#Before Evaluate do a Rotation and translation of\n",
    "init_R_T = ((0.2, 0.2, 0.1), (-0.5, -0.5, -0.5))\n",
    "\n",
    "\n",
    "#pipline name and pipline parameters\n",
    "pipline_name = \"mug\"\n",
    "\n",
    "\n",
    "N = 15\n",
    "t1 = 100\n",
    "t2 = 100\n",
    "t3 = 100\n",
    "\n",
    "\n",
    "#threshold for corner\n",
    "thre = 0.93\n",
    "\n",
    "pipline_variables = (N, t1, t2, t3, thre)\n",
    "\n",
    "#test\n",
    "test_name = \"ICP_test\"\n",
    "\n",
    "# eval \n",
    "\n",
    "eval_list = [\"rms\"]\n",
    "\n",
    "test_breaking_thin = test(Obj2_url, Obj1_url, init_R_T, pipline_name, pipline_variables, test_name, eval_list, show_results = True, save_results=False)\n",
    "\n",
    "my_results = test_breaking_thin.run()"
   ]
  },
  {
   "cell_type": "code",
   "execution_count": 7,
   "id": "3734623a",
   "metadata": {},
   "outputs": [
    {
     "data": {
      "text/html": [
       "<div>\n",
       "<style scoped>\n",
       "    .dataframe tbody tr th:only-of-type {\n",
       "        vertical-align: middle;\n",
       "    }\n",
       "\n",
       "    .dataframe tbody tr th {\n",
       "        vertical-align: top;\n",
       "    }\n",
       "\n",
       "    .dataframe thead th {\n",
       "        text-align: right;\n",
       "    }\n",
       "</style>\n",
       "<table border=\"1\" class=\"dataframe\">\n",
       "  <thead>\n",
       "    <tr style=\"text-align: right;\">\n",
       "      <th></th>\n",
       "      <th>index</th>\n",
       "      <th>o1</th>\n",
       "      <th>o2</th>\n",
       "      <th>chamfer</th>\n",
       "    </tr>\n",
       "  </thead>\n",
       "  <tbody>\n",
       "    <tr>\n",
       "      <th>79</th>\n",
       "      <td>79</td>\n",
       "      <td>8</td>\n",
       "      <td>7</td>\n",
       "      <td>0.012913</td>\n",
       "    </tr>\n",
       "    <tr>\n",
       "      <th>61</th>\n",
       "      <td>61</td>\n",
       "      <td>6</td>\n",
       "      <td>7</td>\n",
       "      <td>0.013125</td>\n",
       "    </tr>\n",
       "    <tr>\n",
       "      <th>49</th>\n",
       "      <td>49</td>\n",
       "      <td>5</td>\n",
       "      <td>4</td>\n",
       "      <td>0.015017</td>\n",
       "    </tr>\n",
       "    <tr>\n",
       "      <th>70</th>\n",
       "      <td>70</td>\n",
       "      <td>7</td>\n",
       "      <td>7</td>\n",
       "      <td>0.015102</td>\n",
       "    </tr>\n",
       "    <tr>\n",
       "      <th>41</th>\n",
       "      <td>41</td>\n",
       "      <td>4</td>\n",
       "      <td>5</td>\n",
       "      <td>0.015945</td>\n",
       "    </tr>\n",
       "    <tr>\n",
       "      <th>...</th>\n",
       "      <td>...</td>\n",
       "      <td>...</td>\n",
       "      <td>...</td>\n",
       "      <td>...</td>\n",
       "    </tr>\n",
       "    <tr>\n",
       "      <th>72</th>\n",
       "      <td>72</td>\n",
       "      <td>8</td>\n",
       "      <td>0</td>\n",
       "      <td>0.446423</td>\n",
       "    </tr>\n",
       "    <tr>\n",
       "      <th>7</th>\n",
       "      <td>7</td>\n",
       "      <td>0</td>\n",
       "      <td>7</td>\n",
       "      <td>0.473292</td>\n",
       "    </tr>\n",
       "    <tr>\n",
       "      <th>4</th>\n",
       "      <td>4</td>\n",
       "      <td>0</td>\n",
       "      <td>4</td>\n",
       "      <td>0.474548</td>\n",
       "    </tr>\n",
       "    <tr>\n",
       "      <th>5</th>\n",
       "      <td>5</td>\n",
       "      <td>0</td>\n",
       "      <td>5</td>\n",
       "      <td>0.483744</td>\n",
       "    </tr>\n",
       "    <tr>\n",
       "      <th>8</th>\n",
       "      <td>8</td>\n",
       "      <td>0</td>\n",
       "      <td>8</td>\n",
       "      <td>0.509560</td>\n",
       "    </tr>\n",
       "  </tbody>\n",
       "</table>\n",
       "<p>81 rows × 4 columns</p>\n",
       "</div>"
      ],
      "text/plain": [
       "    index  o1  o2   chamfer\n",
       "79     79   8   7  0.012913\n",
       "61     61   6   7  0.013125\n",
       "49     49   5   4  0.015017\n",
       "70     70   7   7  0.015102\n",
       "41     41   4   5  0.015945\n",
       "..    ...  ..  ..       ...\n",
       "72     72   8   0  0.446423\n",
       "7       7   0   7  0.473292\n",
       "4       4   0   4  0.474548\n",
       "5       5   0   5  0.483744\n",
       "8       8   0   8  0.509560\n",
       "\n",
       "[81 rows x 4 columns]"
      ]
     },
     "execution_count": 7,
     "metadata": {},
     "output_type": "execute_result"
    }
   ],
   "source": [
    "get_winner(test_breaking_thin)"
   ]
  },
  {
   "cell_type": "code",
   "execution_count": 6,
   "id": "a171c178",
   "metadata": {},
   "outputs": [
    {
     "data": {
      "text/html": [
       "<div>\n",
       "<style scoped>\n",
       "    .dataframe tbody tr th:only-of-type {\n",
       "        vertical-align: middle;\n",
       "    }\n",
       "\n",
       "    .dataframe tbody tr th {\n",
       "        vertical-align: top;\n",
       "    }\n",
       "\n",
       "    .dataframe thead th {\n",
       "        text-align: right;\n",
       "    }\n",
       "</style>\n",
       "<table border=\"1\" class=\"dataframe\">\n",
       "  <thead>\n",
       "    <tr style=\"text-align: right;\">\n",
       "      <th></th>\n",
       "      <th>o1</th>\n",
       "      <th>o2</th>\n",
       "      <th>R_error</th>\n",
       "      <th>T_error</th>\n",
       "      <th>total</th>\n",
       "    </tr>\n",
       "  </thead>\n",
       "  <tbody>\n",
       "    <tr>\n",
       "      <th>13</th>\n",
       "      <td>1</td>\n",
       "      <td>4</td>\n",
       "      <td>5.425321</td>\n",
       "      <td>0.134516</td>\n",
       "      <td>5.559837</td>\n",
       "    </tr>\n",
       "    <tr>\n",
       "      <th>19</th>\n",
       "      <td>2</td>\n",
       "      <td>1</td>\n",
       "      <td>4.262581</td>\n",
       "      <td>0.170321</td>\n",
       "      <td>4.432902</td>\n",
       "    </tr>\n",
       "    <tr>\n",
       "      <th>48</th>\n",
       "      <td>5</td>\n",
       "      <td>3</td>\n",
       "      <td>3.650905</td>\n",
       "      <td>0.297871</td>\n",
       "      <td>3.948776</td>\n",
       "    </tr>\n",
       "    <tr>\n",
       "      <th>29</th>\n",
       "      <td>3</td>\n",
       "      <td>2</td>\n",
       "      <td>4.944559</td>\n",
       "      <td>0.312256</td>\n",
       "      <td>5.256815</td>\n",
       "    </tr>\n",
       "    <tr>\n",
       "      <th>18</th>\n",
       "      <td>2</td>\n",
       "      <td>0</td>\n",
       "      <td>5.029078</td>\n",
       "      <td>0.321932</td>\n",
       "      <td>5.351009</td>\n",
       "    </tr>\n",
       "    <tr>\n",
       "      <th>...</th>\n",
       "      <td>...</td>\n",
       "      <td>...</td>\n",
       "      <td>...</td>\n",
       "      <td>...</td>\n",
       "      <td>...</td>\n",
       "    </tr>\n",
       "    <tr>\n",
       "      <th>21</th>\n",
       "      <td>2</td>\n",
       "      <td>3</td>\n",
       "      <td>6.488682</td>\n",
       "      <td>2.012096</td>\n",
       "      <td>8.500778</td>\n",
       "    </tr>\n",
       "    <tr>\n",
       "      <th>46</th>\n",
       "      <td>5</td>\n",
       "      <td>1</td>\n",
       "      <td>5.692705</td>\n",
       "      <td>2.180582</td>\n",
       "      <td>7.873287</td>\n",
       "    </tr>\n",
       "    <tr>\n",
       "      <th>17</th>\n",
       "      <td>1</td>\n",
       "      <td>8</td>\n",
       "      <td>5.645204</td>\n",
       "      <td>2.291942</td>\n",
       "      <td>7.937146</td>\n",
       "    </tr>\n",
       "    <tr>\n",
       "      <th>14</th>\n",
       "      <td>1</td>\n",
       "      <td>5</td>\n",
       "      <td>5.749810</td>\n",
       "      <td>2.390814</td>\n",
       "      <td>8.140624</td>\n",
       "    </tr>\n",
       "    <tr>\n",
       "      <th>4</th>\n",
       "      <td>0</td>\n",
       "      <td>4</td>\n",
       "      <td>5.742434</td>\n",
       "      <td>2.479548</td>\n",
       "      <td>8.221982</td>\n",
       "    </tr>\n",
       "  </tbody>\n",
       "</table>\n",
       "<p>81 rows × 5 columns</p>\n",
       "</div>"
      ],
      "text/plain": [
       "    o1  o2   R_error   T_error     total\n",
       "13   1   4  5.425321  0.134516  5.559837\n",
       "19   2   1  4.262581  0.170321  4.432902\n",
       "48   5   3  3.650905  0.297871  3.948776\n",
       "29   3   2  4.944559  0.312256  5.256815\n",
       "18   2   0  5.029078  0.321932  5.351009\n",
       "..  ..  ..       ...       ...       ...\n",
       "21   2   3  6.488682  2.012096  8.500778\n",
       "46   5   1  5.692705  2.180582  7.873287\n",
       "17   1   8  5.645204  2.291942  7.937146\n",
       "14   1   5  5.749810  2.390814  8.140624\n",
       "4    0   4  5.742434  2.479548  8.221982\n",
       "\n",
       "[81 rows x 5 columns]"
      ]
     },
     "execution_count": 6,
     "metadata": {},
     "output_type": "execute_result"
    }
   ],
   "source": [
    "import pandas as pd\n",
    "df_breaking_thin = pd.DataFrame(test_breaking_thin.results)\n",
    "df_breaking_thin[\"total\"] = df_breaking_thin[\"R_error\"]+df_breaking_thin[\"T_error\"]\n",
    "df_breaking_thin.sort_values('T_error')"
   ]
  },
  {
   "cell_type": "code",
   "execution_count": null,
   "id": "1fef3b41",
   "metadata": {},
   "outputs": [],
   "source": [
    "save(\"mug_fractured_73\",test_breaking_thin,21)"
   ]
  },
  {
   "cell_type": "code",
   "execution_count": 9,
   "id": "95810650",
   "metadata": {},
   "outputs": [],
   "source": [
    "test_breaking_thin.draw_registration_result_original_color(test_breaking_thin.Obj1,test_breaking_thin.Obj2,test_breaking_thin.result_transformation_arr[13][2])"
   ]
  },
  {
   "cell_type": "code",
   "execution_count": null,
   "id": "bba8cee4",
   "metadata": {},
   "outputs": [],
   "source": [
    "import ast\n",
    "\n",
    "from runner import test\n",
    "import numpy as np\n",
    "\n",
    "number = 192\n",
    "\n",
    "#objects\n",
    "Obj1_url = \"data_test/breaking_bad/mirror/7fe270a9cb7621ed157bba5da16c1cd3/mode_1/piece_0.obj\"\n",
    "Obj2_url = \"data_test/breaking_bad/mirror/7fe270a9cb7621ed157bba5da16c1cd3/mode_1/piece_1.obj\"\n",
    "\n",
    "#Before Evaluate do a Rotation and translation of\n",
    "init_R_T = ((0.2, 0.2, 0.1), (-0.5, -0.5, -0.5))\n",
    "\n",
    "\n",
    "#pipline name and pipline parameters\n",
    "pipline_name = \"thin_objects\"\n",
    "\n",
    "\n",
    "N = 15\n",
    "t1 = 100\n",
    "t2 = 100\n",
    "t3 = 100\n",
    "\n",
    "\n",
    "#threshold for corner\n",
    "thre = 0.9\n",
    "\n",
    "pipline_variables = (N, t1, t2, t3, thre)\n",
    "\n",
    "#test\n",
    "test_name = \"ICP_test\"\n",
    "\n",
    "# eval \n",
    "\n",
    "eval_list = [\"rms\"]\n",
    "\n",
    "test_breaking_thin = test(Obj2_url, Obj1_url, init_R_T, pipline_name, pipline_variables, test_name, eval_list, show_results = True, save_results=False)\n",
    "\n",
    "# my_results = test_breaking_thin.run()"
   ]
  },
  {
   "cell_type": "code",
   "execution_count": 11,
   "id": "310f95f3",
   "metadata": {},
   "outputs": [
    {
     "name": "stdout",
     "output_type": "stream",
     "text": [
      "_________________________First Object_________________________\n",
      "start\n",
      "1.obj\n",
      "small object\n",
      "starting init\n",
      "starting calculating atts\n"
     ]
    },
    {
     "name": "stderr",
     "output_type": "stream",
     "text": [
      "100%|██████████████████████████████████████████████████████████████████████████| 40000/40000 [00:12<00:00, 3142.97it/s]\n"
     ]
    },
    {
     "name": "stdout",
     "output_type": "stream",
     "text": [
      "my radius is :  0.0038983672576193727\n",
      "407148\n",
      "After graph 40000\n",
      "constructing borders\n",
      "1925\n",
      "shortest_allowed_branch_length 2.0\n",
      "smallest_isolated_island_length 2.0\n",
      "shortest_cycle_length 2.0\n",
      "my radius is :  0.0084721404455588\n",
      "45293\n",
      "After graph 1923\n",
      "After Pruning 1917\n",
      "After Pruning 1923\n",
      "dilation and segmentation\n",
      "borders dilated\n"
     ]
    },
    {
     "name": "stderr",
     "output_type": "stream",
     "text": [
      "269606it [04:06, 1124.56it/s]                                                                                          "
     ]
    },
    {
     "name": "stdout",
     "output_type": "stream",
     "text": [
      "26666\n"
     ]
    },
    {
     "name": "stderr",
     "output_type": "stream",
     "text": [
      "364074it [05:32, 1228.60it/s]"
     ]
    },
    {
     "name": "stdout",
     "output_type": "stream",
     "text": [
      "9431\n",
      "2\n"
     ]
    },
    {
     "name": "stderr",
     "output_type": "stream",
     "text": [
      "364203it [05:34, 1090.42it/s]\n"
     ]
    },
    {
     "name": "stdout",
     "output_type": "stream",
     "text": [
      "got faces\n",
      "KNN Radius :  0.0038983672576193727\n",
      "145\n",
      "expanded\n",
      "coloring\n",
      "_________________________Second Object_________________________\n",
      "start\n",
      "0.obj\n",
      "big object\n",
      "starting init\n",
      "starting calculating atts\n"
     ]
    },
    {
     "name": "stderr",
     "output_type": "stream",
     "text": [
      "100%|██████████████████████████████████████████████████████████████████████████| 80000/80000 [00:25<00:00, 3162.58it/s]\n"
     ]
    },
    {
     "name": "stdout",
     "output_type": "stream",
     "text": [
      "my radius is :  0.007805101250720003\n",
      "758312\n",
      "After graph 80000\n",
      "constructing borders\n",
      "1336\n",
      "shortest_allowed_branch_length 2.8284271247461903\n",
      "smallest_isolated_island_length 2.8284271247461903\n",
      "shortest_cycle_length 2.8284271247461903\n",
      "my radius is :  0.025139046061652136\n",
      "38602\n",
      "After graph 1334\n",
      "After Pruning 1333\n",
      "After Pruning 1333\n",
      "dilation and segmentation\n",
      "borders dilated\n"
     ]
    },
    {
     "name": "stderr",
     "output_type": "stream",
     "text": [
      "719425it [01:56, 7223.66it/s]                                                                                          "
     ]
    },
    {
     "name": "stdout",
     "output_type": "stream",
     "text": [
      "76096\n"
     ]
    },
    {
     "name": "stderr",
     "output_type": "stream",
     "text": [
      "739296it [01:59, 7479.52it/s]"
     ]
    },
    {
     "name": "stdout",
     "output_type": "stream",
     "text": [
      "2090\n"
     ]
    },
    {
     "name": "stderr",
     "output_type": "stream",
     "text": [
      "739447it [02:00, 6135.23it/s]\n"
     ]
    },
    {
     "name": "stdout",
     "output_type": "stream",
     "text": [
      "got faces\n",
      "KNN Radius :  0.007805101250720003\n",
      "17\n",
      "expanded\n",
      "coloring\n",
      "_________________________Registeration_________________________\n",
      "_________________________Evaluation_________________________\n"
     ]
    }
   ],
   "source": [
    "import ast\n",
    "\n",
    "from runner import test\n",
    "import numpy as np\n",
    "\n",
    "number = 192\n",
    "\n",
    "#objects\n",
    "Obj1_url = \"data_test/breaking_bad_2/Cookie/fractured_46/piece_0.obj\"\n",
    "Obj2_url = \"data_test/breaking_bad_2/Cookie/fractured_46/piece_1.obj\"\n",
    "\n",
    "#Before Evaluate do a Rotation and translation of\n",
    "init_R_T = ((0.2, 0.2, 0.1), (-0.5, -0.5, -0.5))\n",
    "\n",
    "\n",
    "#pipline name and pipline parameters\n",
    "pipline_name = \"pipline_breaking_cookie\"\n",
    "\n",
    "\n",
    "N = 15\n",
    "t1 = 100\n",
    "t2 = 100\n",
    "t3 = 100\n",
    "\n",
    "\n",
    "#threshold for corner\n",
    "thre = 0.93\n",
    "\n",
    "pipline_variables = (N, t1, t2, t3, thre)\n",
    "\n",
    "#test\n",
    "test_name = \"ICP_test\"\n",
    "\n",
    "# eval \n",
    "\n",
    "eval_list = [\"rms\"]\n",
    "\n",
    "test_breaking_thin = test(Obj2_url, Obj1_url, init_R_T, pipline_name, pipline_variables, test_name, eval_list, show_results = True, save_results=False)\n",
    "\n",
    "my_results = test_breaking_thin.run()"
   ]
  },
  {
   "cell_type": "code",
   "execution_count": 12,
   "id": "f0ed3ee6",
   "metadata": {},
   "outputs": [
    {
     "data": {
      "text/html": [
       "<div>\n",
       "<style scoped>\n",
       "    .dataframe tbody tr th:only-of-type {\n",
       "        vertical-align: middle;\n",
       "    }\n",
       "\n",
       "    .dataframe tbody tr th {\n",
       "        vertical-align: top;\n",
       "    }\n",
       "\n",
       "    .dataframe thead th {\n",
       "        text-align: right;\n",
       "    }\n",
       "</style>\n",
       "<table border=\"1\" class=\"dataframe\">\n",
       "  <thead>\n",
       "    <tr style=\"text-align: right;\">\n",
       "      <th></th>\n",
       "      <th>index</th>\n",
       "      <th>o1</th>\n",
       "      <th>o2</th>\n",
       "      <th>chamfer</th>\n",
       "    </tr>\n",
       "  </thead>\n",
       "  <tbody>\n",
       "    <tr>\n",
       "      <th>3</th>\n",
       "      <td>3</td>\n",
       "      <td>1</td>\n",
       "      <td>1</td>\n",
       "      <td>0.003831</td>\n",
       "    </tr>\n",
       "    <tr>\n",
       "      <th>1</th>\n",
       "      <td>1</td>\n",
       "      <td>0</td>\n",
       "      <td>1</td>\n",
       "      <td>0.063150</td>\n",
       "    </tr>\n",
       "    <tr>\n",
       "      <th>0</th>\n",
       "      <td>0</td>\n",
       "      <td>0</td>\n",
       "      <td>0</td>\n",
       "      <td>0.225472</td>\n",
       "    </tr>\n",
       "    <tr>\n",
       "      <th>2</th>\n",
       "      <td>2</td>\n",
       "      <td>1</td>\n",
       "      <td>0</td>\n",
       "      <td>0.240275</td>\n",
       "    </tr>\n",
       "  </tbody>\n",
       "</table>\n",
       "</div>"
      ],
      "text/plain": [
       "   index  o1  o2   chamfer\n",
       "3      3   1   1  0.003831\n",
       "1      1   0   1  0.063150\n",
       "0      0   0   0  0.225472\n",
       "2      2   1   0  0.240275"
      ]
     },
     "execution_count": 12,
     "metadata": {},
     "output_type": "execute_result"
    }
   ],
   "source": [
    "get_winner(test_breaking_thin)"
   ]
  },
  {
   "cell_type": "code",
   "execution_count": 13,
   "id": "518edf8d",
   "metadata": {},
   "outputs": [
    {
     "data": {
      "text/html": [
       "<div>\n",
       "<style scoped>\n",
       "    .dataframe tbody tr th:only-of-type {\n",
       "        vertical-align: middle;\n",
       "    }\n",
       "\n",
       "    .dataframe tbody tr th {\n",
       "        vertical-align: top;\n",
       "    }\n",
       "\n",
       "    .dataframe thead th {\n",
       "        text-align: right;\n",
       "    }\n",
       "</style>\n",
       "<table border=\"1\" class=\"dataframe\">\n",
       "  <thead>\n",
       "    <tr style=\"text-align: right;\">\n",
       "      <th></th>\n",
       "      <th>o1</th>\n",
       "      <th>o2</th>\n",
       "      <th>R_error</th>\n",
       "      <th>T_error</th>\n",
       "      <th>total</th>\n",
       "    </tr>\n",
       "  </thead>\n",
       "  <tbody>\n",
       "    <tr>\n",
       "      <th>3</th>\n",
       "      <td>1</td>\n",
       "      <td>1</td>\n",
       "      <td>5.443878</td>\n",
       "      <td>0.005397</td>\n",
       "      <td>5.449275</td>\n",
       "    </tr>\n",
       "    <tr>\n",
       "      <th>1</th>\n",
       "      <td>0</td>\n",
       "      <td>1</td>\n",
       "      <td>5.424311</td>\n",
       "      <td>0.053435</td>\n",
       "      <td>5.477745</td>\n",
       "    </tr>\n",
       "    <tr>\n",
       "      <th>0</th>\n",
       "      <td>0</td>\n",
       "      <td>0</td>\n",
       "      <td>5.372642</td>\n",
       "      <td>0.368315</td>\n",
       "      <td>5.740956</td>\n",
       "    </tr>\n",
       "    <tr>\n",
       "      <th>2</th>\n",
       "      <td>1</td>\n",
       "      <td>0</td>\n",
       "      <td>6.010129</td>\n",
       "      <td>0.755623</td>\n",
       "      <td>6.765751</td>\n",
       "    </tr>\n",
       "  </tbody>\n",
       "</table>\n",
       "</div>"
      ],
      "text/plain": [
       "   o1  o2   R_error   T_error     total\n",
       "3   1   1  5.443878  0.005397  5.449275\n",
       "1   0   1  5.424311  0.053435  5.477745\n",
       "0   0   0  5.372642  0.368315  5.740956\n",
       "2   1   0  6.010129  0.755623  6.765751"
      ]
     },
     "execution_count": 13,
     "metadata": {},
     "output_type": "execute_result"
    }
   ],
   "source": [
    "import pandas as pd\n",
    "df_breaking_thin = pd.DataFrame(test_breaking_thin.results)\n",
    "df_breaking_thin[\"total\"] = df_breaking_thin[\"R_error\"]+df_breaking_thin[\"T_error\"]\n",
    "df_breaking_thin.sort_values('T_error')"
   ]
  },
  {
   "cell_type": "code",
   "execution_count": null,
   "id": "38ddfe5a",
   "metadata": {},
   "outputs": [
    {
     "name": "stdout",
     "output_type": "stream",
     "text": [
      "Jupyter environment detected. Enabling Open3D WebVisualizer.\n",
      "[Open3D INFO] WebRTC GUI backend enabled.\n",
      "[Open3D INFO] WebRTCWindowSystem: HTTP handshake server disabled.\n",
      "_________________________First Object_________________________\n",
      "start\n",
      "1.obj\n",
      "small object\n",
      "starting init\n",
      "starting calculating atts\n"
     ]
    },
    {
     "name": "stderr",
     "output_type": "stream",
     "text": [
      "100%|██████████████████████████████████████████████████████████████████████████| 80000/80000 [00:26<00:00, 3053.14it/s]\n"
     ]
    },
    {
     "name": "stdout",
     "output_type": "stream",
     "text": [
      "my radius is :  0.0028629237529110623\n",
      "846188\n",
      "After graph 80000\n",
      "constructing borders\n",
      "3602\n",
      "shortest_allowed_branch_length 2.8284271247461903\n",
      "smallest_isolated_island_length 2.8284271247461903\n",
      "shortest_cycle_length 2.8284271247461903\n",
      "my radius is :  0.006685947817041398\n",
      "90340\n",
      "After graph 3587\n",
      "After Pruning 3585\n",
      "After Pruning 3585\n",
      "dilation and segmentation\n",
      "borders dilated\n"
     ]
    },
    {
     "name": "stderr",
     "output_type": "stream",
     "text": [
      "573291it [3:12:04, 61.55it/s]                                                                                          "
     ]
    },
    {
     "name": "stdout",
     "output_type": "stream",
     "text": [
      "54524\n"
     ]
    },
    {
     "name": "stderr",
     "output_type": "stream",
     "text": [
      "591066it [3:17:59, 71.89it/s]"
     ]
    },
    {
     "name": "stdout",
     "output_type": "stream",
     "text": [
      "1684\n"
     ]
    },
    {
     "name": "stderr",
     "output_type": "stream",
     "text": [
      "591113it [3:18:24,  4.96it/s]"
     ]
    },
    {
     "name": "stdout",
     "output_type": "stream",
     "text": [
      "5\n"
     ]
    },
    {
     "name": "stderr",
     "output_type": "stream",
     "text": [
      "591185it [3:18:26, 26.93it/s]"
     ]
    },
    {
     "name": "stdout",
     "output_type": "stream",
     "text": [
      "8\n"
     ]
    },
    {
     "name": "stderr",
     "output_type": "stream",
     "text": [
      "591247it [3:18:35, 16.31it/s]"
     ]
    },
    {
     "name": "stdout",
     "output_type": "stream",
     "text": [
      "6\n"
     ]
    },
    {
     "name": "stderr",
     "output_type": "stream",
     "text": [
      "626448it [3:30:26, 76.98it/s]"
     ]
    },
    {
     "name": "stdout",
     "output_type": "stream",
     "text": [
      "3360\n"
     ]
    },
    {
     "name": "stderr",
     "output_type": "stream",
     "text": [
      "630853it [3:32:27, 51.66it/s]"
     ]
    },
    {
     "name": "stdout",
     "output_type": "stream",
     "text": [
      "422\n"
     ]
    },
    {
     "name": "stderr",
     "output_type": "stream",
     "text": [
      "630853it [3:32:59, 49.36it/s]\n"
     ]
    },
    {
     "name": "stdout",
     "output_type": "stream",
     "text": [
      "got faces\n",
      "KNN Radius :  0.0028629237529110623\n",
      "813\n",
      "expanded\n",
      "coloring\n",
      "_________________________Second Object_________________________\n",
      "start\n",
      "0.obj\n",
      "big object\n",
      "starting init\n",
      "starting calculating atts\n"
     ]
    },
    {
     "name": "stderr",
     "output_type": "stream",
     "text": [
      "100%|████████████████████████████████████████████████████████████████████████| 300000/300000 [01:32<00:00, 3258.10it/s]\n"
     ]
    },
    {
     "name": "stdout",
     "output_type": "stream",
     "text": [
      "my radius is :  0.005778572112606249\n",
      "3142042\n",
      "After graph 300000\n",
      "constructing borders\n",
      "5784\n",
      "shortest_allowed_branch_length 5.477225575051661\n",
      "smallest_isolated_island_length 5.477225575051661\n",
      "shortest_cycle_length 5.477225575051661\n",
      "my radius is :  0.014878039099308816\n",
      "115772\n",
      "After graph 5684\n",
      "After Pruning 5375\n",
      "After Pruning 5388\n",
      "dilation and segmentation\n",
      "borders dilated\n"
     ]
    },
    {
     "name": "stderr",
     "output_type": "stream",
     "text": [
      "1204868it [2:59:30, 121.24it/s]                                                                                        "
     ]
    }
   ],
   "source": [
    "import ast\n",
    "\n",
    "from runner import test\n",
    "import numpy as np\n",
    "\n",
    "number = 192\n",
    "\n",
    "#objects\n",
    "Obj1_url = \"data_test/breaking_bad/teacup/fractured_39/piece_0.obj\"\n",
    "Obj2_url = \"data_test/breaking_bad/teacup/fractured_39/piece_1.obj\"\n",
    "\n",
    "#Before Evaluate do a Rotation and translation of\n",
    "init_R_T = ((0.2, 0.2, 0.1), (-0.5, -0.5, -0.5))\n",
    "\n",
    "\n",
    "#pipline name and pipline parameters\n",
    "pipline_name = \"teacup\"\n",
    "\n",
    "\n",
    "N = 15\n",
    "t1 = 100\n",
    "t2 = 100\n",
    "t3 = 100\n",
    "\n",
    "\n",
    "#threshold for corner\n",
    "thre = 0.93\n",
    "\n",
    "pipline_variables = (N, t1, t2, t3, thre)\n",
    "\n",
    "#test\n",
    "test_name = \"ICP_test\"\n",
    "\n",
    "# eval \n",
    "\n",
    "eval_list = [\"rms\"]\n",
    "\n",
    "test_breaking_thin = test(Obj2_url, Obj1_url, init_R_T, pipline_name, pipline_variables, test_name, eval_list, show_results = True, save_results=False)\n",
    "\n",
    "my_results = test_breaking_thin.run()"
   ]
  },
  {
   "cell_type": "code",
   "execution_count": null,
   "id": "8e91c824",
   "metadata": {},
   "outputs": [],
   "source": [
    "import helper\n",
    "test_breaking_thin.Ob1_array = []\n",
    "test_breaking_thin.Ob2_array = []\n",
    "for i in range(3):\n",
    "    test_breaking_thin.Ob1_array.append(helper.load_cloud(f\"results/mirror_arr/{i}_Obj1.ply\")[0])\n",
    "    test_breaking_thin.Ob2_array.append(helper.load_cloud(f\"results/mirror_arr/{i}_Obj2.ply\")[0])\n"
   ]
  },
  {
   "cell_type": "code",
   "execution_count": null,
   "id": "d0566508",
   "metadata": {},
   "outputs": [],
   "source": [
    "import pandas as pd\n",
    "def get_winner(test):\n",
    "    import scipy\n",
    "    from copy import copy\n",
    "    i = 0\n",
    "    winner_index = -1\n",
    "    winner_value = 10000000\n",
    "    arr = []\n",
    "    for i,(o1,o2) in enumerate(zip(test.Ob1_array,test.Ob2_array)):\n",
    "        print(o1,o2)\n",
    "        obj1 = o1\n",
    "        obj2 = o2\n",
    "    #     print(scipy.spatial.distance.directed_hausdorff(list(obj2_tmp.pcd.points), list(obj1.pcd.points), seed=0))\n",
    "    #     print(scipy.spatial.distance.directed_hausdorff(list(obj1.pcd.points),list(obj2_tmp.pcd.points) , seed=0))\n",
    "        chamfer_value = chamfer_distance(list(obj1.points),list(obj2.points))\n",
    "        arr.append({\"index\":i,\"chamfer\":chamfer_value})\n",
    "        if winner_value>chamfer_value:\n",
    "            winner_index = i\n",
    "            winner_value = chamfer_value\n",
    "        i+=1\n",
    "    chamfer_df = pd.DataFrame(arr)\n",
    "    return chamfer_df.sort_values('chamfer')"
   ]
  },
  {
   "cell_type": "code",
   "execution_count": null,
   "id": "0dfe345f",
   "metadata": {},
   "outputs": [],
   "source": [
    "get_winner(test_breaking_thin)"
   ]
  },
  {
   "cell_type": "code",
   "execution_count": null,
   "id": "ae5e231e",
   "metadata": {},
   "outputs": [],
   "source": [
    "import pandas as pd\n",
    "df_breaking_thin = pd.DataFrame(test_breaking_thin.results)\n",
    "df_breaking_thin[\"total\"] = df_breaking_thin[\"R_error\"]+df_breaking_thin[\"T_error\"]\n",
    "df_breaking_thin.sort_values('T_error')"
   ]
  },
  {
   "cell_type": "code",
   "execution_count": null,
   "id": "1cb719de",
   "metadata": {},
   "outputs": [],
   "source": [
    "test_breaking_thin.draw_registration_result_original_color(test_breaking_thin.Obj1,test_breaking_thin.Obj2,test_breaking_thin.result_transformation_arr[4][2])"
   ]
  },
  {
   "cell_type": "code",
   "execution_count": null,
   "id": "312dbd9e",
   "metadata": {},
   "outputs": [],
   "source": [
    "save(\"mirror_fractured\",test_breaking_thin,4)"
   ]
  },
  {
   "cell_type": "code",
   "execution_count": null,
   "id": "a469a2c5",
   "metadata": {},
   "outputs": [],
   "source": [
    "save_arr(\"mirror_arr\",test_breaking_thin)"
   ]
  },
  {
   "cell_type": "code",
   "execution_count": null,
   "id": "7a076514",
   "metadata": {},
   "outputs": [],
   "source": [
    "import ast\n",
    "\n",
    "from runner import test\n",
    "import numpy as np\n",
    "\n",
    "number = 192\n",
    "\n",
    "#objects\n",
    "Obj1_url = \"data_test/pairs_everyday/BeerBottle/fractured_79/piece_0.obj\"\n",
    "Obj2_url = \"data_test/pairs_everyday/BeerBottle/fractured_79/piece_1.obj\"\n",
    "\n",
    "#Before Evaluate do a Rotation and translation of\n",
    "init_R_T = ((0.2, 0.2, 0.1), (-0.5, -0.5, -0.5))\n",
    "\n",
    "\n",
    "#pipline name and pipline parameters\n",
    "pipline_name = \"pipline_breaking\"\n",
    "\n",
    "\n",
    "N = 15\n",
    "t1 = 2\n",
    "t2 = 100\n",
    "t3 = 100\n",
    "\n",
    "Obj_url = \"data_test/pairwise/repair_group8_pair1/RPf_00059_gt.ply\"\n",
    "#threshold for corner\n",
    "thre = 0.95\n",
    "\n",
    "pipline_variables = (N, t1, t2, t3, thre)\n",
    "\n",
    "#test\n",
    "test_name = \"ICP_test\"\n",
    "\n",
    "# eval \n",
    "\n",
    "eval_list = [\"rms\"]\n",
    "\n",
    "test_breaking_3 = test(Obj2_url, Obj1_url, init_R_T, pipline_name, pipline_variables, test_name, eval_list, show_results = True, save_results=False)\n",
    "\n",
    "# my_results = test_breaking_3.run()"
   ]
  },
  {
   "cell_type": "code",
   "execution_count": null,
   "id": "03250405",
   "metadata": {},
   "outputs": [],
   "source": [
    "d2 = {\"b\":10}"
   ]
  },
  {
   "cell_type": "code",
   "execution_count": null,
   "id": "1ff203ee",
   "metadata": {},
   "outputs": [],
   "source": [
    "import open3d as o3d\n",
    "import numpy as np\n",
    "\n",
    "for obj in test_breaking_2.Obj1_array:\n",
    "        points_u = []\n",
    "        tmp_tree = o3d.geometry.KDTreeFlann(obj.pcd)\n",
    "        for i in range(len(obj.pcd.points)):\n",
    "                point = obj.pcd.points[i]\n",
    "                [k, idx, _] = tmp_tree.search_knn_vector_3d(point,2)\n",
    "                q_points = np.asarray(obj.pcd.points).take(idx,axis=0)\n",
    "                points_u.append(np.mean(np.abs(q_points[1:] - point)))\n",
    "        print(np.mean(points_u))"
   ]
  },
  {
   "cell_type": "code",
   "execution_count": null,
   "id": "e7b9bd8e",
   "metadata": {},
   "outputs": [],
   "source": [
    "import open3d as o3d\n",
    "import numpy as np\n",
    "for obj in test_breaking_2.Obj2_array:\n",
    "        points_u = []\n",
    "        tmp_tree = o3d.geometry.KDTreeFlann(obj.pcd)\n",
    "        for i in range(len(obj.pcd.points)):\n",
    "                point = obj.pcd.points[i]\n",
    "                [k, idx, _] = tmp_tree.search_knn_vector_3d(point,2)\n",
    "                q_points = np.asarray(obj.pcd.points).take(idx,axis=0)\n",
    "                points_u.append(np.mean(np.abs(q_points[1:] - point)))\n",
    "        print(np.mean(points_u))"
   ]
  },
  {
   "cell_type": "code",
   "execution_count": 3,
   "id": "4629b1b0",
   "metadata": {},
   "outputs": [],
   "source": [
    "def get_winner(test):\n",
    "    import scipy\n",
    "    from copy import copy\n",
    "    i = 0\n",
    "    winner_index = -1\n",
    "    winner_value = 10000000\n",
    "    arr = []\n",
    "    for o1,o2,R_T in test.result_transformation_arr:\n",
    "    #     print(o1,o2)\n",
    "        obj1 = test.Obj1_array[o1]\n",
    "        obj2 = test.Obj2_array[o2]\n",
    "        obj2_tmp = copy(obj2)\n",
    "        obj2_tmp.pcd = copy(obj2.pcd)\n",
    "        obj2_tmp.pcd.transform(R_T)\n",
    "    #     print(scipy.spatial.distance.directed_hausdorff(list(obj2_tmp.pcd.points), list(obj1.pcd.points), seed=0))\n",
    "    #     print(scipy.spatial.distance.directed_hausdorff(list(obj1.pcd.points),list(obj2_tmp.pcd.points) , seed=0))\n",
    "        chamfer_value = chamfer_distance(list(obj2_tmp.pcd.points),list(obj1.pcd.points))\n",
    "        arr.append({\"index\":i,\"o1\":o1,\"o2\":o2,\"chamfer\":chamfer_value})\n",
    "        if winner_value>chamfer_value:\n",
    "            winner_index = i\n",
    "            winner_value = chamfer_value\n",
    "        i+=1\n",
    "    chamfer_df = pd.DataFrame(arr)\n",
    "    return chamfer_df.sort_values('chamfer')\n"
   ]
  },
  {
   "cell_type": "code",
   "execution_count": null,
   "id": "79d4d944",
   "metadata": {},
   "outputs": [],
   "source": [
    "pip install -U scikit-learn"
   ]
  },
  {
   "cell_type": "code",
   "execution_count": 4,
   "id": "733c976e",
   "metadata": {},
   "outputs": [],
   "source": [
    "import numpy as np\n",
    "from sklearn.neighbors import NearestNeighbors\n",
    "\n",
    "\n",
    "def chamfer_distance(x, y, metric='l2', direction='bi'):\n",
    "    \"\"\"Chamfer distance between two point clouds\n",
    "    Parameters\n",
    "    ----------\n",
    "    x: numpy array [n_points_x, n_dims]\n",
    "        first point cloud\n",
    "    y: numpy array [n_points_y, n_dims]\n",
    "        second point cloud\n",
    "    metric: string or callable, default ‘l2’\n",
    "        metric to use for distance computation. Any metric from scikit-learn or scipy.spatial.distance can be used.\n",
    "    direction: str\n",
    "        direction of Chamfer distance.\n",
    "            'y_to_x':  computes average minimal distance from every point in y to x\n",
    "            'x_to_y':  computes average minimal distance from every point in x to y\n",
    "            'bi': compute both\n",
    "    Returns\n",
    "    -------\n",
    "    chamfer_dist: float\n",
    "        computed bidirectional Chamfer distance:\n",
    "            sum_{x_i \\in x}{\\min_{y_j \\in y}{||x_i-y_j||**2}} + sum_{y_j \\in y}{\\min_{x_i \\in x}{||x_i-y_j||**2}}\n",
    "    \"\"\"\n",
    "    \n",
    "    if direction=='y_to_x':\n",
    "        x_nn = NearestNeighbors(n_neighbors=1, leaf_size=1, algorithm='kd_tree', metric=metric).fit(x)\n",
    "        min_y_to_x = x_nn.kneighbors(y)[0]\n",
    "        chamfer_dist = np.mean(min_y_to_x)\n",
    "    elif direction=='x_to_y':\n",
    "        y_nn = NearestNeighbors(n_neighbors=1, leaf_size=1, algorithm='kd_tree', metric=metric).fit(y)\n",
    "        min_x_to_y = y_nn.kneighbors(x)[0]\n",
    "        chamfer_dist = np.mean(min_x_to_y)\n",
    "    elif direction=='bi':\n",
    "        x_nn = NearestNeighbors(n_neighbors=1, leaf_size=1, algorithm='kd_tree', metric=metric).fit(x)\n",
    "        min_y_to_x = x_nn.kneighbors(y)[0]\n",
    "        y_nn = NearestNeighbors(n_neighbors=1, leaf_size=1, algorithm='kd_tree', metric=metric).fit(y)\n",
    "        min_x_to_y = y_nn.kneighbors(x)[0]\n",
    "        chamfer_dist = np.mean(min_y_to_x) + np.mean(min_x_to_y)\n",
    "    else:\n",
    "        raise ValueError(\"Invalid direction type. Supported types: \\'y_x\\', \\'x_y\\', \\'bi\\'\")\n",
    "        \n",
    "    return chamfer_dist"
   ]
  },
  {
   "cell_type": "code",
   "execution_count": null,
   "id": "47d9fc39",
   "metadata": {},
   "outputs": [],
   "source": [
    "import open3d as o3d\n",
    "import numpy as np\n",
    "df = pd.read_csv(\"results/breaking_bad_4/Ring_fractured_11/error.csv\")"
   ]
  },
  {
   "cell_type": "code",
   "execution_count": null,
   "id": "d3daf572",
   "metadata": {},
   "outputs": [],
   "source": [
    "df.sort_values('T_error')"
   ]
  },
  {
   "cell_type": "code",
   "execution_count": null,
   "id": "535f61a4",
   "metadata": {},
   "outputs": [],
   "source": [
    "ob1 = o3d.io.read_point_cloud(\"results/breaking_bad_4/Ring_fractured_11/Obj1_before.ply\")\n",
    "ob2 = o3d.io.read_point_cloud(\"results/breaking_bad_4/Ring_fractured_11/Obj2_before.ply\")"
   ]
  },
  {
   "cell_type": "code",
   "execution_count": null,
   "id": "a6c616ba",
   "metadata": {},
   "outputs": [],
   "source": [
    "import re\n",
    "from ast import literal_eval\n",
    "trans = re.sub(\"\\s+\", \",\", df.iloc[1][\"transformations\"].strip())\n",
    "trans = trans.replace(trans.split(\"[\")[-1].split(\"]\")[0], trans.split(\"[\")[-1].split(\"]\")[0][1:-1])\n",
    "trans = \"[[\"+trans[3:]\n",
    "trans = literal_eval(trans)"
   ]
  },
  {
   "cell_type": "code",
   "execution_count": null,
   "id": "5fea82ce",
   "metadata": {},
   "outputs": [],
   "source": [
    "trans = [[0.32144564,-0.72195116,0.61274728,-0.48494672],[0.92489243,0.37815645,-0.03964464,0.7821055,],[-0.20309284,0.57946892,0.7892839,0.10506854],[0.,0.,0.,1.]]"
   ]
  },
  {
   "cell_type": "code",
   "execution_count": null,
   "id": "c57dd80b",
   "metadata": {},
   "outputs": [],
   "source": [
    "draw_registration_result_original_color(ob1,ob2,trans)"
   ]
  },
  {
   "cell_type": "code",
   "execution_count": null,
   "id": "4a220806",
   "metadata": {},
   "outputs": [],
   "source": [
    "from copy import deepcopy\n",
    "def draw_registration_result_original_color( obj1, obj2, transformation):\n",
    "        pcd1 = deepcopy(obj1)\n",
    "        pcd2 = deepcopy(obj2)\n",
    "        # pcd1.colors = o3d.utility.Vector3dVector(np.asarray([(0,1,0) for _ in pcd1.points]).astype(np.float))\n",
    "        # pcd2.colors = o3d.utility.Vector3dVector(np.asarray([(0,0,1) for _ in pcd2.points]).astype(np.float))\n",
    "        pcd2.transform(transformation)\n",
    "        o3d.visualization.draw_geometries([pcd1, pcd2])"
   ]
  },
  {
   "cell_type": "code",
   "execution_count": 29,
   "id": "a4b894f1",
   "metadata": {},
   "outputs": [
    {
     "name": "stdout",
     "output_type": "stream",
     "text": [
      "my number is ->  0.0297828095703125\n",
      "my number is ->  0.031980009277343756\n"
     ]
    }
   ],
   "source": [
    "import open3d as o3d\n",
    "import helper\n",
    "import numpy as np\n",
    "target,_ = helper.load_cloud(\"data_test/pairwise/tuwien_brick_pair2/brick_part04.ply\",80000)\n",
    "source,_ = helper.load_cloud(\"data_test/pairwise/tuwien_brick_pair2/brick_part05.ply\",80000)\n",
    "init_trans = np.eye(4)\n",
    "target.estimate_normals()\n",
    "source.estimate_normals()\n",
    "result_icp_2 = o3d.pipelines.registration.registration_icp(\n",
    "        source,target,5000,init_trans,\n",
    "        o3d.pipelines.registration.TransformationEstimationPointToPoint(with_scaling =False),\n",
    "        o3d.pipelines.registration.ICPConvergenceCriteria(max_iteration=5000))\n",
    "result_transformation  = result_icp_2.transformation\n",
    "source.transform(result_transformation)\n",
    "source.colors = o3d.utility.Vector3dVector(np.asarray([(0,1,0) for _ in source.points]).astype(float))\n",
    "target.colors = o3d.utility.Vector3dVector(np.asarray([(0,0,1) for _ in target.points]).astype(float))\n",
    "o3d.visualization.draw_geometries([target, source])"
   ]
  },
  {
   "cell_type": "code",
   "execution_count": null,
   "id": "b4e3d75a",
   "metadata": {},
   "outputs": [],
   "source": []
  }
 ],
 "metadata": {
  "kernelspec": {
   "display_name": ".env",
   "language": "python",
   "name": ".env"
  },
  "language_info": {
   "codemirror_mode": {
    "name": "ipython",
    "version": 3
   },
   "file_extension": ".py",
   "mimetype": "text/x-python",
   "name": "python",
   "nbconvert_exporter": "python",
   "pygments_lexer": "ipython3",
   "version": "3.9.0"
  }
 },
 "nbformat": 4,
 "nbformat_minor": 5
}
