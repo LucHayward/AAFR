{
 "cells": [
  {
   "cell_type": "code",
   "execution_count": null,
   "id": "b13fc381",
   "metadata": {},
   "outputs": [],
   "source": [
    "import pandas as pd"
   ]
  },
  {
   "cell_type": "code",
   "execution_count": null,
   "id": "dda19ba9",
   "metadata": {},
   "outputs": [],
   "source": [
    "df = pd.read_csv(\"results/results.csv\")"
   ]
  },
  {
   "cell_type": "code",
   "execution_count": null,
   "id": "f6fc5d60",
   "metadata": {},
   "outputs": [],
   "source": [
    "asd = df.groupby(['obj1', 'obj2'])[\"Total_error\"].idxmin()"
   ]
  },
  {
   "cell_type": "code",
   "execution_count": null,
   "id": "e8ebaba5",
   "metadata": {
    "scrolled": true
   },
   "outputs": [],
   "source": [
    "df.iloc[asd][['obj1', 'obj2',\"R & T\",\"R_error\",\"T_error\",\"Total_error\"]]"
   ]
  },
  {
   "cell_type": "code",
   "execution_count": 7,
   "id": "08d29148",
   "metadata": {},
   "outputs": [],
   "source": [
    "def save(name,test,number):\n",
    "    import os\n",
    "    from copy import deepcopy\n",
    "    import open3d as o3d\n",
    "    # Directory\n",
    "    directory = name\n",
    "\n",
    "    # Parent Directory path\n",
    "    parent_dir = \"results/\"\n",
    "\n",
    "    # Path\n",
    "    path = os.path.join(parent_dir, directory)\n",
    "\n",
    "    os.mkdir(path)\n",
    "    \n",
    "    \n",
    "    path_error = os.path.join(path, \"error.csv\")\n",
    "    \n",
    "    df_test = pd.DataFrame(test.results)\n",
    "    df_test[\"total\"] = df_test[\"R_error\"]+df_test[\"T_error\"]\n",
    "    df_test[\"transformations\"] = [el[2] for el in test.result_transformation_arr]\n",
    "    df_test.to_csv(path_error, encoding='utf-8')\n",
    "    \n",
    "    idx = number\n",
    "    \n",
    "    \n",
    "    pcd1 = deepcopy(test.Obj1.pcd)\n",
    "    pcd2 = deepcopy(test.Obj2.pcd)\n",
    "    pcd1.colors = o3d.utility.Vector3dVector(np.asarray([(0,1,0) for _ in pcd1.points]).astype(\"float\"))\n",
    "    pcd2.colors = o3d.utility.Vector3dVector(np.asarray([(0,0,1) for _ in pcd2.points]).astype(\"float\"))\n",
    "    pcd2.transform(np.eye(4))\n",
    "    o3d.io.write_point_cloud(os.path.join(path, \"Obj1_before.ply\"), pcd1, compressed=True)\n",
    "    o3d.io.write_point_cloud(os.path.join(path, \"Obj2_before.ply\"), pcd2, compressed=True)\n",
    "\n",
    "    pcd2.transform(test.result_transformation_arr[idx][2])\n",
    "    o3d.io.write_point_cloud(os.path.join(path, \"Obj1_after.ply\"), pcd1, compressed=True)\n",
    "    o3d.io.write_point_cloud(os.path.join(path, \"Obj2_after.ply\"), pcd2, compressed=True)\n",
    "    print(\"saved\")\n",
    "    \n",
    "    "
   ]
  },
  {
   "cell_type": "code",
   "execution_count": null,
   "id": "1aa26002",
   "metadata": {},
   "outputs": [],
   "source": [
    "df.iloc[384]"
   ]
  },
  {
   "cell_type": "code",
   "execution_count": null,
   "id": "b5a1725c",
   "metadata": {},
   "outputs": [],
   "source": [
    "from runner import test\n",
    "import numpy as np\n",
    "\n",
    "#objects\n",
    "Obj1_url = df.iloc[384][\"obj2\"]\n",
    "Obj2_url = df.iloc[384][\"obj1\"]\n",
    "\n",
    "#Before Evaluate do a Rotation and translation of\n",
    "init_R_T = ast.literal_eval(df.iloc[384][\"R & T\"])\n",
    "\n",
    "\n",
    "#pipline name and pipline parameters\n",
    "pipline_name = df.iloc[384][\"pipeline\"]\n",
    "\n",
    "\n",
    "pipline_variables = ast.literal_eval(df.iloc[384][\"params\"])\n",
    "\n",
    "#test\n",
    "test_name = df.iloc[384][\"test\"]\n",
    "\n",
    "# eval \n",
    "\n",
    "eval_list = [\"rms\"]\n",
    "\n",
    "test1 = test(Obj2_url, Obj1_url, init_R_T, pipline_name, pipline_variables, test_name, eval_list, show_results = True, save_results=False)\n",
    "\n",
    "my_results = test1.run()"
   ]
  },
  {
   "cell_type": "code",
   "execution_count": null,
   "id": "5c2805ad",
   "metadata": {},
   "outputs": [],
   "source": [
    "test1.draw_registration_result_original_color(test1.Obj2,test1.Obj1,test1.result_transformation_arr[0][2])"
   ]
  },
  {
   "cell_type": "code",
   "execution_count": null,
   "id": "a4185961",
   "metadata": {},
   "outputs": [],
   "source": [
    "from runner import test\n",
    "import numpy as np\n",
    "\n",
    "#objects\n",
    "Obj1_url = df.iloc[273][\"obj2\"]\n",
    "Obj2_url = df.iloc[273][\"obj1\"]\n",
    "\n",
    "#Before Evaluate do a Rotation and translation of\n",
    "init_R_T = ast.literal_eval(df.iloc[273][\"R & T\"])\n",
    "\n",
    "\n",
    "#pipline name and pipline parameters\n",
    "pipline_name = df.iloc[273][\"pipeline\"]\n",
    "\n",
    "\n",
    "pipline_variables = ast.literal_eval(df.iloc[273][\"params\"])\n",
    "\n",
    "#test\n",
    "test_name = df.iloc[273][\"test\"]\n",
    "\n",
    "# eval \n",
    "\n",
    "eval_list = [\"rms\"]\n",
    "\n",
    "test2 = test(Obj2_url, Obj1_url, init_R_T, pipline_name, pipline_variables, test_name, eval_list, show_results = True, save_results=False)\n",
    "\n",
    "my_results = test2.run()"
   ]
  },
  {
   "cell_type": "code",
   "execution_count": null,
   "id": "f68b0508",
   "metadata": {},
   "outputs": [],
   "source": [
    "test2.draw_registration_result_original_color(test1.Obj2,test1.Obj1,np.eye(4))"
   ]
  },
  {
   "cell_type": "code",
   "execution_count": null,
   "id": "efe58da3",
   "metadata": {},
   "outputs": [],
   "source": [
    "test2.draw_registration_result_original_color(test1.Obj2,test1.Obj1,test1.result_transformation_arr[0][2])"
   ]
  },
  {
   "cell_type": "code",
   "execution_count": null,
   "id": "0a759545",
   "metadata": {},
   "outputs": [],
   "source": [
    "from runner import test\n",
    "import numpy as np\n",
    "\n",
    "#objects\n",
    "Obj1_url = df.iloc[455][\"obj2\"]\n",
    "Obj2_url = df.iloc[455][\"obj1\"]\n",
    "\n",
    "#Before Evaluate do a Rotation and translation of\n",
    "init_R_T = ast.literal_eval(df.iloc[455][\"R & T\"])\n",
    "\n",
    "\n",
    "#pipline name and pipline parameters\n",
    "pipline_name = df.iloc[455][\"pipeline\"]\n",
    "\n",
    "\n",
    "pipline_variables = ast.literal_eval(df.iloc[273][\"params\"])\n",
    "\n",
    "#test\n",
    "test_name = df.iloc[455][\"test\"]\n",
    "\n",
    "# eval \n",
    "\n",
    "eval_list = [\"rms\"]\n",
    "\n",
    "test4 = test(Obj2_url, Obj1_url, init_R_T, pipline_name, pipline_variables, test_name, eval_list, show_results = True, save_results=False)\n",
    "\n",
    "my_results = test4.run()"
   ]
  },
  {
   "cell_type": "code",
   "execution_count": null,
   "id": "2b3d12a3",
   "metadata": {},
   "outputs": [],
   "source": [
    "test4.draw_registration_result_original_color(test4.Obj2,test4.Obj1,np.eye(4))"
   ]
  },
  {
   "cell_type": "code",
   "execution_count": null,
   "id": "020fbd8f",
   "metadata": {},
   "outputs": [],
   "source": [
    "test4.draw_registration_result_original_color(test4.Obj2,test4.Obj1,test4.result_transformation_arr[0][2])"
   ]
  },
  {
   "cell_type": "code",
   "execution_count": null,
   "id": "304935b6",
   "metadata": {},
   "outputs": [],
   "source": [
    "from runner import test\n",
    "import numpy as np\n",
    "\n",
    "#objects\n",
    "Obj1_url = df.iloc[180][\"obj2\"]\n",
    "Obj2_url = df.iloc[180][\"obj1\"]\n",
    "\n",
    "#Before Evaluate do a Rotation and translation of\n",
    "init_R_T = ast.literal_eval(df.iloc[180][\"R & T\"])\n",
    "\n",
    "\n",
    "#pipline name and pipline parameters\n",
    "pipline_name = df.iloc[180][\"pipeline\"]\n",
    "\n",
    "\n",
    "pipline_variables = ast.literal_eval(df.iloc[180][\"params\"])\n",
    "\n",
    "#test\n",
    "test_name = df.iloc[180][\"test\"]\n",
    "\n",
    "# eval \n",
    "\n",
    "eval_list = [\"rms\"]\n",
    "\n",
    "test3 = test(Obj2_url, Obj1_url, init_R_T, pipline_name, pipline_variables, test_name, eval_list, show_results = True, save_results=False)\n",
    "\n",
    "my_results = test3.run()"
   ]
  },
  {
   "cell_type": "code",
   "execution_count": null,
   "id": "d42a3510",
   "metadata": {},
   "outputs": [],
   "source": [
    "from runner import test\n",
    "import numpy as np\n",
    "\n",
    "#objects\n",
    "Obj1_url = df.iloc[521][\"obj2\"]\n",
    "Obj2_url = df.iloc[521][\"obj1\"]\n",
    "\n",
    "#Before Evaluate do a Rotation and translation of\n",
    "init_R_T = ast.literal_eval(df.iloc[521][\"R & T\"])\n",
    "\n",
    "\n",
    "#pipline name and pipline parameters\n",
    "pipline_name = df.iloc[521][\"pipeline\"]\n",
    "\n",
    "\n",
    "pipline_variables = ast.literal_eval(df.iloc[521][\"params\"])\n",
    "\n",
    "#test\n",
    "test_name = df.iloc[521][\"test\"]\n",
    "\n",
    "# eval \n",
    "\n",
    "eval_list = [\"rms\"]\n",
    "\n",
    "test5 = test(Obj2_url, Obj1_url, init_R_T, pipline_name, pipline_variables, test_name, eval_list, show_results = True, save_results=False)\n",
    "\n",
    "my_results = test5.run()"
   ]
  },
  {
   "cell_type": "code",
   "execution_count": null,
   "id": "bd9110a9",
   "metadata": {},
   "outputs": [],
   "source": [
    "test5.draw_registration_result_original_color(test5.Obj2,test5.Obj1,np.eye(4))"
   ]
  },
  {
   "cell_type": "code",
   "execution_count": null,
   "id": "32ff3691",
   "metadata": {},
   "outputs": [],
   "source": [
    "test5.draw_registration_result_original_color(test5.Obj2,test5.Obj1,test5.result_transformation_arr[0][2])"
   ]
  },
  {
   "cell_type": "code",
   "execution_count": null,
   "id": "030a7a04",
   "metadata": {},
   "outputs": [],
   "source": []
  },
  {
   "cell_type": "code",
   "execution_count": null,
   "id": "c5f05f1c",
   "metadata": {},
   "outputs": [],
   "source": [
    "# from copy import deepcopy,copy\n",
    "# import random\n",
    "\n",
    "# import open3d as o3d\n",
    "# import numpy as np\n",
    "\n",
    "# def dilate_border(my_obj,border,size):\n",
    "#     tmp_Obj = copy(my_obj)\n",
    "#     tmp_Obj.pcd = copy(my_obj.pcd)\n",
    "#     pcd_tree = o3d.geometry.KDTreeFlann(tmp_Obj.pcd)\n",
    "#     w_co = copy(tmp_Obj.w_co)\n",
    "#     new_borders = []\n",
    "#     for idx in border:\n",
    "#         point = tmp_Obj.pcd.points[idx]\n",
    "#         [k, idx, _] = pcd_tree.search_radius_vector_3d(point,size)\n",
    "#         new_borders.extend(idx)\n",
    "#     return new_borders\n",
    "\n",
    "# def get_sides(Graph, borders):\n",
    "#     faces = []\n",
    "#     all_visited = set()\n",
    "#     nodes = list(Graph.nodes)\n",
    "#     while len(nodes):\n",
    "#         random_point = nodes.pop(0)\n",
    "#         while random_point in all_visited:\n",
    "#             if not len(nodes):\n",
    "#                 sorted_faces = sorted(faces,key = lambda key:key[0], reverse = True)\n",
    "#                 return sorted_faces[:10]\n",
    "#             random_point = nodes.pop(0)\n",
    "       \n",
    "#         queue = [random_point]\n",
    "#         visited = set()\n",
    "#         while len(queue):\n",
    "#             point = queue.pop(0)\n",
    "#             if point not in visited:\n",
    "#                 visited.add(point)\n",
    "#                 all_visited.add(point)\n",
    "#                 neighbors = Graph.neighbors(point)\n",
    "#                 for neighbor in neighbors:\n",
    "#                     all_visited.add(neighbor)\n",
    "#                     if neighbor not in borders:\n",
    "#                         queue.append(neighbor)\n",
    "#         faces.append((len(visited),visited))\n",
    "#     sorted_faces = sorted(faces,key = lambda key:key[0], reverse = True)\n",
    "#     return sorted_faces[:20]\n",
    "\n",
    "# def knn_expand(Obj,my_borders,node_face,face_nodes,size):\n",
    "#     borders = deepcopy(my_borders)\n",
    "#     face_nodes_new = deepcopy(face_nodes)\n",
    "#     tree = o3d.geometry.KDTreeFlann(Obj.pcd)\n",
    "#     no_change = 0\n",
    "#     while borders:\n",
    "#         len_before = len(borders)\n",
    "        \n",
    "#         idx = borders.pop(0)\n",
    "#         point = Obj.pcd.points[idx]\n",
    "#         [k, q_idxs, _] = tree.search_knn_vector_3d(point, size)\n",
    "#         #vote \n",
    "#         my_faces = {}\n",
    "#         for q_idx in q_idxs:\n",
    "#             if q_idx not in node_face:\n",
    "#                 continue\n",
    "                \n",
    "#             if node_face[q_idx] not in my_faces:\n",
    "#                 my_faces[node_face[q_idx]] = 1\n",
    "#             else:\n",
    "#                 my_faces[node_face[q_idx]] += 1\n",
    "                \n",
    "#         if len(my_faces)==0:\n",
    "#             borders.append(idx)\n",
    "#         else:\n",
    "#             winner = max(my_faces, key=my_faces.get)\n",
    "#             face_nodes_new[winner].add(idx)\n",
    "#             node_face[idx] = winner\n",
    "            \n",
    "#         if len(borders) == len_before:\n",
    "#             no_change += 1\n",
    "#         else:\n",
    "#             no_change = 0\n",
    "        \n",
    "#         if no_change >= len_before+10000000:\n",
    "#             break\n",
    "#     print(len(borders))\n",
    "#     return face_nodes_new\n",
    "\n",
    "# def run(pipline_variables):\n",
    "    \n",
    "#     (N, shortest_cycle_length, smallest_isolated_island_length, shortest_allowed_branch_length, thre) = pipline_variables\n",
    "\n",
    "#     print(\"start\")\n",
    "#     Obj = FeatureLines(Obj_url,voxel_size=30000)\n",
    "#     # print(\"Size :\",len(Obj.pcd.points))\n",
    "#     print(\"starting init\")\n",
    "#     Obj.init(int(N))\n",
    "\n",
    "#     # print(\"Size valid :\",len(valid))\n",
    "\n",
    "#     shortest_cycle_length = np.sqrt(len(Obj.pcd.points))//shortest_cycle_length\n",
    "#     smallest_isolated_island_length = np.sqrt(len(Obj.pcd.points))//smallest_isolated_island_length\n",
    "#     shortest_allowed_branch_length = np.sqrt(len(Obj.pcd.points))//shortest_allowed_branch_length\n",
    "\n",
    "#     isolated_islands_pruned_graph, F_lines, isolated_islands = helper.create_graph(Obj, \\\n",
    "#     shortest_cycle_length, smallest_isolated_island_length)\n",
    "#     print(\"After graph\",len([point for branch in F_lines for point in branch]))\n",
    "#     pruned_graph_original, removed_nodes, valid_nodes = helper.prune_branches(F_lines,isolated_islands_pruned_graph,\\\n",
    "#     shortest_allowed_branch_length)\n",
    "#     print(\"After Pruning\",len([node for branch in valid_nodes for node in branch]))\n",
    "    \n",
    "#     print(\"constructing borders\")\n",
    "\n",
    "#     tmp_Obj = copy(Obj)\n",
    "#     tmp_Obj.pcd = copy(Obj.pcd)\n",
    "\n",
    "#     N = 30\n",
    "#     t1 = 0.1\n",
    "#     t2 = 1\n",
    "#     t3 = 0.1\n",
    "#     pipline_variables = (N, t1, t2, t3, thre)\n",
    "#     (N, shortest_cycle_length, smallest_isolated_island_length, shortest_allowed_branch_length, thre) = pipline_variables\n",
    "#     # print(\"Size valid :\",len(valid))\n",
    "#     valid = []\n",
    "#     for idx,val in enumerate(tmp_Obj.w_co):\n",
    "#         if val<thre:\n",
    "#             valid.append(idx)\n",
    "#     print(len(valid))\n",
    "#     shortest_cycle_length = np.sqrt(len(valid))//shortest_cycle_length\n",
    "#     smallest_isolated_island_length = np.sqrt(len(valid))//smallest_isolated_island_length\n",
    "#     shortest_allowed_branch_length = np.sqrt(len(valid))//shortest_allowed_branch_length\n",
    "#     print(\"shortest_allowed_branch_length\",shortest_allowed_branch_length)\n",
    "#     print(\"smallest_isolated_island_length\",smallest_isolated_island_length)\n",
    "#     print(\"shortest_cycle_length\",shortest_cycle_length)\n",
    "#     isolated_islands_pruned_graph, F_lines, isolated_islands = helper.create_graph(tmp_Obj, \\\n",
    "#     shortest_cycle_length, smallest_isolated_island_length,mask=valid,radius=None)\n",
    "#     print(\"After graph\",len([point for branch in F_lines for point in branch]))\n",
    "#     pruned_graph, removed_nodes, valid_nodes = helper.prune_branches(F_lines,isolated_islands_pruned_graph,\\\n",
    "#     shortest_allowed_branch_length)\n",
    "#     print(\"After Pruning\",len([node for branch in valid_nodes for node in branch]))\n",
    "    \n",
    "#     print(\"dilation and segmentation\")\n",
    "    \n",
    "#     border_nodes = [node for branch in valid_nodes for node in branch]\n",
    "    \n",
    "#     dilated_border = dilate_border(Obj,border_nodes,2)\n",
    "    \n",
    "#     dilated_faces = get_sides(pruned_graph_original, dilated_border)\n",
    "    \n",
    "    \n",
    "    \n",
    "#     node_face = {}\n",
    "#     face_nodes = []\n",
    "#     for idx,(_,face) in enumerate(dilated_faces):\n",
    "#         for node in face:\n",
    "#             node_face[node] = idx\n",
    "#         face_nodes.append(face)\n",
    "#     for key,value in node_face.items():\n",
    "#         if value>=10:\n",
    "#             print(value)\n",
    "\n",
    "#     all_dilated = [node for  _,face in dilated_faces for node in face]\n",
    "#     all_dilated.extend([node for node in dilated_border])\n",
    "    \n",
    "    \n",
    "#     left_overs = list(set(range(len(Obj.pcd.points)))-set(all_dilated))\n",
    "#     border_left_overs = left_overs+dilated_border\n",
    "    \n",
    "    \n",
    "#     expanded_faces = knn_expand(Obj,border_left_overs,node_face,face_nodes,size=15)\n",
    "    \n",
    "    \n",
    "#     Objects = []\n",
    "#     for expanded_face in expanded_faces:\n",
    "#         mask = np.isin(np.arange(0, len(Obj.pcd.points), 1).tolist(),[node for node in expanded_face])\n",
    "#         Obj_tmp = copy(Obj)\n",
    "#         Obj_tmp.pcd = copy(Obj.pcd)\n",
    "#         Obj_tmp.pcd.points = o3d.utility.Vector3dVector(np.asarray(Obj.pcd.points)[mask])\n",
    "#         Objects.append(Obj_tmp)\n",
    "\n",
    "#     colors = [(0,255,0) for _ in Obj.pcd.points]\n",
    "#     for face in expanded_faces:\n",
    "#         color = tuple(random.choices(range(256), k=3))\n",
    "#         for point in face:\n",
    "#             colors[point] = color\n",
    "#     Obj.pcd.colors = o3d.utility.Vector3dVector(np.asarray(colors).astype(np.float) / 255.0)\n",
    "#     o3d.visualization.draw_geometries([Obj.pcd])\n",
    "    \n",
    "#     return Objects"
   ]
  },
  {
   "cell_type": "code",
   "execution_count": null,
   "id": "5048ba2d",
   "metadata": {},
   "outputs": [],
   "source": [
    "# import helper\n",
    "# import pipline_modules.pipline_1 as pipeline\n",
    "# from Fragment import FeatureLines \n",
    "# import numpy as np\n",
    "# #Before Evaluate do a Rotation and translation of\n",
    "# init_R_T = [( 0 , 0 , 0),( -0.2, 0, 0 )]\n",
    "\n",
    "\n",
    "# #pipline name and pipline parameters\n",
    "# pipline_name = \"pipline_1\"\n",
    "\n",
    "# N = 50\n",
    "# t1 = 2\n",
    "# t2 = 100\n",
    "# t3 = 100\n",
    "\n",
    "# Obj_url = \"data_test/pairwise/repair_group8_pair1/RPf_00059_gt.ply\"\n",
    "# #threshold for corner\n",
    "# thre = 0.95\n",
    "\n",
    "# pipline_variables = (N, t1, t2, t3, thre)"
   ]
  },
  {
   "cell_type": "code",
   "execution_count": null,
   "id": "719bdd88",
   "metadata": {
    "scrolled": true
   },
   "outputs": [],
   "source": [
    "# Original_obj, array_objs = run(pipline_variables)"
   ]
  },
  {
   "cell_type": "code",
   "execution_count": null,
   "id": "e29bebe8",
   "metadata": {},
   "outputs": [],
   "source": [
    "ast.literal_eval(df.iloc[number][\"R & T\"])"
   ]
  },
  {
   "cell_type": "code",
   "execution_count": null,
   "id": "200ba17f",
   "metadata": {},
   "outputs": [],
   "source": [
    "import ast\n",
    "\n",
    "from runner import test\n",
    "import numpy as np\n",
    "\n",
    "number = 48\n",
    "\n",
    "#objects\n",
    "Obj1_url = df.iloc[number][\"obj2\"]\n",
    "Obj2_url = df.iloc[number][\"obj1\"]\n",
    "\n",
    "#Before Evaluate do a Rotation and translation of\n",
    "init_R_T = ((0.2, 0.2, 0.1), (0.01, 0.01, 0.01))\n",
    "\n",
    "\n",
    "#pipline name and pipline parameters\n",
    "pipline_name = \"pipline_3\"\n",
    "\n",
    "\n",
    "N = 15\n",
    "t1 = 2\n",
    "t2 = 100\n",
    "t3 = 100\n",
    "\n",
    "Obj_url = \"data_test/pairwise/repair_group8_pair1/RPf_00059_gt.ply\"\n",
    "#threshold for corner\n",
    "thre = 0.985\n",
    "\n",
    "pipline_variables = (N, t1, t2, t3, thre)\n",
    "\n",
    "#test\n",
    "test_name = \"pairwise\"\n",
    "\n",
    "# eval \n",
    "\n",
    "eval_list = [\"rms\"]\n",
    "\n",
    "test2_tmp = test(Obj2_url, Obj1_url, init_R_T, pipline_name, pipline_variables, test_name, eval_list, show_results = True, save_results=False)\n",
    "\n",
    "my_results = test2_tmp.run()"
   ]
  },
  {
   "cell_type": "code",
   "execution_count": null,
   "id": "193a491b",
   "metadata": {},
   "outputs": [],
   "source": [
    "df = pd.DataFrame(test2_tmp.results)\n",
    "df[\"total\"] = df[\"R_error\"]+df[\"T_error\"]\n",
    "df.sort_values('total')"
   ]
  },
  {
   "cell_type": "code",
   "execution_count": null,
   "id": "6e6b246b",
   "metadata": {},
   "outputs": [],
   "source": [
    "df = pd.DataFrame(test2_tmp.results)\n",
    "df[\"total\"] = df[\"R_error\"]+df[\"T_error\"]\n",
    "df.sort_values('total')"
   ]
  },
  {
   "cell_type": "code",
   "execution_count": null,
   "id": "7b57bc49",
   "metadata": {},
   "outputs": [],
   "source": [
    "test2_tmp.draw_registration_result_original_color(test2_tmp.Obj2,test2_tmp.Obj1,np.eye(4))"
   ]
  },
  {
   "cell_type": "code",
   "execution_count": null,
   "id": "03f5a4ae",
   "metadata": {
    "scrolled": true
   },
   "outputs": [],
   "source": [
    "import ast\n",
    "\n",
    "from runner import test\n",
    "import numpy as np\n",
    "\n",
    "number = 48\n",
    "\n",
    "#objects\n",
    "Obj1_url = df.iloc[number][\"obj2\"]\n",
    "Obj2_url = df.iloc[number][\"obj1\"]\n",
    "\n",
    "#Before Evaluate do a Rotation and translation of\n",
    "init_R_T = ((0.2, 0.2, 0.1), (0.01, 0 , 0))\n",
    "\n",
    "\n",
    "#pipline name and pipline parameters\n",
    "pipline_name = \"pipline_1\"\n",
    "\n",
    "\n",
    "N = 15\n",
    "t1 = 2\n",
    "t2 = 100\n",
    "t3 = 100\n",
    "\n",
    "Obj_url = \"data_test/pairwise/repair_group8_pair1/RPf_00059_gt.ply\"\n",
    "#threshold for corner\n",
    "thre = 0.985\n",
    "\n",
    "pipline_variables = (N, t1, t2, t3, thre)\n",
    "\n",
    "#test\n",
    "test_name = \"ICP_test\"\n",
    "\n",
    "# eval \n",
    "\n",
    "eval_list = [\"rms\"]\n",
    "\n",
    "test1_tmp = test(Obj2_url, Obj1_url, init_R_T, pipline_name, pipline_variables, test_name, eval_list, show_results = True, save_results=True)\n",
    "\n",
    "my_results = test1_tmp.run()"
   ]
  },
  {
   "cell_type": "code",
   "execution_count": null,
   "id": "8e9e380f",
   "metadata": {},
   "outputs": [],
   "source": [
    "test1_tmp.draw_registration_result_original_color(test1_tmp.Obj1,test1_tmp.Obj2,test1_tmp.result_transformation_arr[0])"
   ]
  },
  {
   "cell_type": "code",
   "execution_count": null,
   "id": "7747d9ba",
   "metadata": {},
   "outputs": [],
   "source": [
    "df.iloc[180][\"pipeline\"]"
   ]
  },
  {
   "cell_type": "code",
   "execution_count": null,
   "id": "cbd6f4fe",
   "metadata": {},
   "outputs": [],
   "source": [
    "4.845879%np.pi"
   ]
  },
  {
   "cell_type": "code",
   "execution_count": null,
   "id": "c37b3a0b",
   "metadata": {},
   "outputs": [],
   "source": [
    "test1_tmp.save_test()"
   ]
  },
  {
   "cell_type": "code",
   "execution_count": null,
   "id": "64f0d740",
   "metadata": {},
   "outputs": [],
   "source": [
    "# import ast\n",
    "# import pickle\n",
    "# from runner import test\n",
    "# import numpy as np\n",
    "\n",
    "# number = 180\n",
    "\n",
    "# #objects\n",
    "# Obj1_url = df.iloc[number][\"obj2\"]\n",
    "# Obj2_url = df.iloc[number][\"obj1\"]\n",
    "\n",
    "# #Before Evaluate do a Rotation and translation of\n",
    "# init_R_T = ((0.2, 0.2, 0.1), (0.01, 0 , 0))\n",
    "\n",
    "\n",
    "# #pipline name and pipline parameters\n",
    "# pipline_name = \"pipline_1\"\n",
    "\n",
    "\n",
    "# N = 15\n",
    "# t1 = 2\n",
    "# t2 = 100\n",
    "# t3 = 100\n",
    "\n",
    "# Obj_url = \"data_test/pairwise/repair_group8_pair1/RPf_00059_gt.ply\"\n",
    "# #threshold for corner\n",
    "# thre = 0.985\n",
    "\n",
    "# pipline_variables = (N, t1, t2, t3, thre)\n",
    "\n",
    "# #test\n",
    "# test_name = \"ICP_test\"\n",
    "\n",
    "# # eval \n",
    "\n",
    "# eval_list = [\"rms\"]\n",
    "\n",
    "# test_vars = [test1_tmp.Obj1_url, test1_tmp.Obj2_url,test1_tmp.pipline_variables, test1_tmp.init_R_T,\\\n",
    "#  test1_tmp.pipline_name, test1_tmp.test_name, test1_tmp.test_name, eval_list, True, True,\\\n",
    "#  test1_tmp.results_path, test1_tmp.result_transformation_arr, test1_tmp.results]\n",
    "# # pipline_module = open(str(\"pipline_modules/\"+self.pipline_name+\".py\"), \"r\")\n",
    "# # test_vars.append(pipline_module.read())\n",
    "# pipline_module = open(str(\"pipline_modules/\"+test1_tmp.pipline_name+\".py\"), \"r\")\n",
    "# test_vars.append(pipline_module.read())\n",
    "\n",
    "# test_module = open(str(\"test_modules/\"+test1_tmp.test_name+\".py\"), \"r\")\n",
    "# test_vars.append(test_module.read())\n",
    "# file = open('my_ob', 'wb')\n",
    "# pickle.dump(test_vars, file)\n",
    "# file.close()"
   ]
  },
  {
   "cell_type": "code",
   "execution_count": null,
   "id": "c39d94e8",
   "metadata": {},
   "outputs": [],
   "source": [
    "# objectRep = open(\"my_ob\", \"rb\")\n",
    "# test1_tmp.Obj1_url, test1_tmp.Obj2_url,test1_tmp.pipline_variables, test1_tmp.init_R_T,\\\n",
    "#  test1_tmp.pipline_name, test1_tmp.test_name, test1_tmp.test_name, eval_list, save_results, show_results,\\\n",
    "#  test1_tmp.results_path, test1_tmp.result_transformation_arr, test1_tmp.results, pip_code, test_code = pickle.load(objectRep)"
   ]
  },
  {
   "cell_type": "code",
   "execution_count": null,
   "id": "7295f1ba",
   "metadata": {},
   "outputs": [],
   "source": [
    "import sys,imp,os\n",
    "test1_tmp.pipline_module = imp.new_module(pip_code)\n",
    "exec(pip_code, test1_tmp.pipline_module.__dict__)\n",
    "\n",
    "test1_tmp.test_module = imp.new_module(test_code)\n",
    "exec(test_code, test1_tmp.test_module.__dict__)\n"
   ]
  },
  {
   "cell_type": "code",
   "execution_count": null,
   "id": "a45e9772",
   "metadata": {},
   "outputs": [],
   "source": [
    "import ast\n",
    "\n",
    "from runner import test\n",
    "import numpy as np\n",
    "\n",
    "number = 180\n",
    "\n",
    "#objects\n",
    "Obj1_url = df.iloc[number][\"obj1\"]\n",
    "Obj2_url = df.iloc[number][\"obj2\"]\n",
    "\n",
    "#Before Evaluate do a Rotation and translation of\n",
    "init_R_T = ((0.2, 0.2, 0.1), (0.2, 0.2, 0.2))\n",
    "\n",
    "\n",
    "#pipline name and pipline parameters\n",
    "pipline_name = \"pipline_3\"\n",
    "\n",
    "\n",
    "N = 15\n",
    "t1 = 2\n",
    "t2 = 100\n",
    "t3 = 100\n",
    "\n",
    "Obj_url = \"data_test/pairwise/repair_group8_pair1/RPf_00059_gt.ply\"\n",
    "#threshold for corner\n",
    "thre = 0.98\n",
    "\n",
    "pipline_variables = (N, t1, t2, t3, thre)\n",
    "\n",
    "#test\n",
    "test_name = \"ICP_test\"\n",
    "\n",
    "# eval \n",
    "\n",
    "eval_list = [\"rms\"]\n",
    "\n",
    "test_brick_2 = test(Obj2_url, Obj1_url, init_R_T, pipline_name, pipline_variables, test_name, eval_list, show_results = True, save_results=False)\n",
    "\n",
    "my_results = test_brick_2.run()"
   ]
  },
  {
   "cell_type": "code",
   "execution_count": null,
   "id": "4a38e49b",
   "metadata": {},
   "outputs": [],
   "source": [
    "df_brick = pd.DataFrame(test_brick_2.results)\n",
    "df_brick[\"total\"] = df_brick[\"R_error\"]+df_brick[\"T_error\"]\n",
    "df_brick.sort_values('T_error')"
   ]
  },
  {
   "cell_type": "code",
   "execution_count": null,
   "id": "f7ca781a",
   "metadata": {},
   "outputs": [],
   "source": [
    "# df_brick = pd.DataFrame(test_brick_2.results)\n",
    "# df_brick[\"total\"] = df_brick[\"R_error\"]+df_brick[\"T_error\"]\n",
    "# df_brick.sort_values('total')"
   ]
  },
  {
   "cell_type": "code",
   "execution_count": null,
   "id": "b2e8578e",
   "metadata": {},
   "outputs": [],
   "source": [
    "test_brick_2.draw_registration_result_original_color(test_brick_2.Obj1,test_brick_2.Obj2,test_brick_2.result_transformation_arr[4][2])"
   ]
  },
  {
   "cell_type": "code",
   "execution_count": null,
   "id": "13d5e7e1",
   "metadata": {},
   "outputs": [],
   "source": [
    "test_brick_2.draw_registration_result_original_color(test_brick_2.Obj1,test_brick_2.Obj2,np.eye(4))"
   ]
  },
  {
   "cell_type": "code",
   "execution_count": null,
   "id": "8fd98472",
   "metadata": {},
   "outputs": [],
   "source": [
    "test_brick_2.draw_registration_result_original_color(test_brick_2.Obj1,test_brick_2.Obj2,test_brick_2.RM_ground)"
   ]
  },
  {
   "cell_type": "code",
   "execution_count": null,
   "id": "d00dcd1a",
   "metadata": {},
   "outputs": [],
   "source": [
    "save(\"test_brick_2\",test_brick_2,8)"
   ]
  },
  {
   "cell_type": "code",
   "execution_count": null,
   "id": "4283652a",
   "metadata": {},
   "outputs": [],
   "source": [
    "number = 68\n",
    "\n",
    "#objects\n",
    "Obj1_url = df.iloc[number][\"obj2\"]\n",
    "Obj2_url = df.iloc[number][\"obj1\"]\n",
    "print(Obj1_url)\n",
    "print(Obj2_url)"
   ]
  },
  {
   "cell_type": "code",
   "execution_count": null,
   "id": "b325a41d",
   "metadata": {},
   "outputs": [],
   "source": [
    "import ast\n",
    "\n",
    "from runner import test\n",
    "import numpy as np\n",
    "\n",
    "number = 68\n",
    "\n",
    "#objects\n",
    "Obj1_url = df.iloc[number][\"obj2\"]\n",
    "Obj2_url = df.iloc[number][\"obj1\"]\n",
    "\n",
    "#Before Evaluate do a Rotation and translation of\n",
    "init_R_T = ((0.2, 0.2, 0.1), (4, 0.6, 1))\n",
    "\n",
    "\n",
    "#pipline name and pipline parameters\n",
    "pipline_name = \"pipline_3\"\n",
    "\n",
    "\n",
    "N = 15\n",
    "t1 = 2\n",
    "t2 = 100\n",
    "t3 = 100\n",
    "\n",
    "Obj_url = \"data_test/pairwise/repair_group8_pair1/\"\n",
    "#threshold for corner\n",
    "thre = 0.985\n",
    "\n",
    "pipline_variables = (N, t1, t2, t3, thre)\n",
    "\n",
    "#test\n",
    "test_name = \"ICP_test\"\n",
    "\n",
    "# eval \n",
    "\n",
    "eval_list = [\"rms\"]\n",
    "\n",
    "test_brick_1 = test(Obj2_url, Obj1_url, init_R_T, pipline_name, pipline_variables, test_name, eval_list, show_results = True, save_results=False)\n",
    "\n",
    "my_results = test_brick_1.run()"
   ]
  },
  {
   "cell_type": "code",
   "execution_count": null,
   "id": "75e0acf3",
   "metadata": {},
   "outputs": [],
   "source": [
    "df_brick_1 = pd.DataFrame(test_brick_1.results)\n",
    "df_brick_1[\"total\"] = df_brick_1[\"R_error\"]+df_brick_1[\"T_error\"]\n",
    "df_brick_1.sort_values('T_error')"
   ]
  },
  {
   "cell_type": "code",
   "execution_count": null,
   "id": "235b28cb",
   "metadata": {},
   "outputs": [],
   "source": [
    "test_brick_1.draw_registration_result_original_color(test_brick_1.Obj1,test_brick_1.Obj2,test_brick_1.result_transformation_arr[3])"
   ]
  },
  {
   "cell_type": "code",
   "execution_count": null,
   "id": "d974f868",
   "metadata": {},
   "outputs": [],
   "source": [
    "test_brick_1.draw_registration_result_original_color(test_brick_1.Obj1,test_brick_1.Obj2,np.eye(4))"
   ]
  },
  {
   "cell_type": "code",
   "execution_count": null,
   "id": "d8bd1028",
   "metadata": {},
   "outputs": [],
   "source": [
    "test_brick_1.draw_registration_result_original_color(test_brick_1.Obj1,test_brick_1.Obj2,test_brick_1.RM_ground)"
   ]
  },
  {
   "cell_type": "code",
   "execution_count": null,
   "id": "b525b37e",
   "metadata": {},
   "outputs": [],
   "source": [
    "save(\"test_brick_1\",test_brick_1,3)"
   ]
  },
  {
   "cell_type": "code",
   "execution_count": null,
   "id": "b370da8a",
   "metadata": {},
   "outputs": [],
   "source": [
    "import ast\n",
    "\n",
    "from runner import test\n",
    "import numpy as np\n",
    "\n",
    "number = 384\n",
    "\n",
    "#objects\n",
    "Obj1_url = df.iloc[number][\"obj2\"]\n",
    "Obj2_url = df.iloc[number][\"obj1\"]\n",
    "\n",
    "#Before Evaluate do a Rotation and translation of\n",
    "init_R_T = ((0.2, 0.2, 0.1), (0.01, 0.01, 0.01))\n",
    "\n",
    "\n",
    "#pipline name and pipline parameters\n",
    "pipline_name = \"pipline_3\"\n",
    "\n",
    "\n",
    "N = 15\n",
    "t1 = 2\n",
    "t2 = 100\n",
    "t3 = 100\n",
    "\n",
    "Obj_url = \"data_test/pairwise/repair_group8_pair1/RPf_00059_gt.ply\"\n",
    "#threshold for corner\n",
    "thre = 0.985\n",
    "\n",
    "pipline_variables = (N, t1, t2, t3, thre)\n",
    "\n",
    "#test\n",
    "test_name = \"ICP_test\"\n",
    "\n",
    "# eval \n",
    "\n",
    "eval_list = [\"rms\"]\n",
    "\n",
    "test_brick_2 = test(Obj2_url, Obj1_url, init_R_T, pipline_name, pipline_variables, test_name, eval_list, show_results = True, save_results=False)\n",
    "\n",
    "my_results = test_brick_2.run()"
   ]
  },
  {
   "cell_type": "markdown",
   "id": "9f6ef4a1",
   "metadata": {},
   "source": [
    "<h7>test_15_1</h7>"
   ]
  },
  {
   "cell_type": "code",
   "execution_count": null,
   "id": "ebf41b1a",
   "metadata": {},
   "outputs": [],
   "source": [
    "import ast\n",
    "\n",
    "from runner import test\n",
    "import numpy as np\n",
    "\n",
    "number = 384\n",
    "\n",
    "#objects\n",
    "Obj1_url = df.iloc[number][\"obj2\"]\n",
    "Obj2_url = df.iloc[number][\"obj1\"]\n",
    "\n",
    "#Before Evaluate do a Rotation and translation of\n",
    "init_R_T = ((0.2, 0.2, 0.1), (0.1, 0.1, 0.1))\n",
    "\n",
    "\n",
    "#pipline name and pipline parameters\n",
    "pipline_name = \"pipline_15\"\n",
    "\n",
    "\n",
    "N = 15\n",
    "t1 = 2\n",
    "t2 = 100\n",
    "t3 = 100\n",
    "\n",
    "Obj_url = \"data_test/pairwise/repair_group8_pair1/RPf_00059_gt.ply\"\n",
    "#threshold for corner\n",
    "thre = 0.985\n",
    "\n",
    "pipline_variables = (N, t1, t2, t3, thre)\n",
    "\n",
    "#test\n",
    "test_name = \"ICP_test\"\n",
    "\n",
    "# eval \n",
    "\n",
    "eval_list = [\"rms\"]\n",
    "\n",
    "test_15_1 = test(Obj2_url, Obj1_url, init_R_T, pipline_name, pipline_variables, test_name, eval_list, show_results = True, save_results=False)\n",
    "\n",
    "my_results = test_15_1.run()"
   ]
  },
  {
   "cell_type": "code",
   "execution_count": null,
   "id": "c40ea39f",
   "metadata": {},
   "outputs": [],
   "source": [
    "df_test_15_1 = pd.DataFrame(test_15_1.results)\n",
    "df_test_15_1[\"total\"] = df_test_15_1[\"R_error\"]+df_test_15_1[\"T_error\"]\n",
    "df_test_15_1.sort_values('T_error')"
   ]
  },
  {
   "cell_type": "code",
   "execution_count": null,
   "id": "fc7b69e8",
   "metadata": {},
   "outputs": [],
   "source": [
    "test_15_1.draw_registration_result_original_color(test_15_1.Obj1,test_15_1.Obj2,test_15_1.result_transformation_arr[94][2])"
   ]
  },
  {
   "cell_type": "code",
   "execution_count": null,
   "id": "7f88950d",
   "metadata": {},
   "outputs": [],
   "source": [
    "test_15_1.draw_registration_result_original_color(test_15_1.Obj1,test_15_1.Obj2,np.eye(4))"
   ]
  },
  {
   "cell_type": "code",
   "execution_count": null,
   "id": "4fe3b9d7",
   "metadata": {},
   "outputs": [],
   "source": [
    "test_15_1.draw_registration_result_original_color(test_15_1.Obj1,test_15_1.Obj2,test_15_1.RM_ground)"
   ]
  },
  {
   "cell_type": "code",
   "execution_count": null,
   "id": "a0641d49",
   "metadata": {},
   "outputs": [],
   "source": [
    "save(\"test_15_1\",test_15_1,52)"
   ]
  },
  {
   "cell_type": "markdown",
   "id": "a5f30d26",
   "metadata": {},
   "source": [
    "<h7>test_15_2</h7>"
   ]
  },
  {
   "cell_type": "code",
   "execution_count": null,
   "id": "40d78493",
   "metadata": {
    "scrolled": false
   },
   "outputs": [],
   "source": [
    "import ast\n",
    "\n",
    "from runner import test\n",
    "import numpy as np\n",
    "\n",
    "number = 273\n",
    "\n",
    "#objects\n",
    "Obj1_url = df.iloc[number][\"obj2\"]\n",
    "Obj2_url = df.iloc[number][\"obj1\"]\n",
    "\n",
    "#Before Evaluate do a Rotation and translation of\n",
    "init_R_T = ((0.2, 0.2, 0.1), (0.1, 0.1, 0.1))\n",
    "\n",
    "\n",
    "#pipline name and pipline parameters\n",
    "pipline_name = \"pipline_15\"\n",
    "\n",
    "\n",
    "N = 15\n",
    "t1 = 2\n",
    "t2 = 100\n",
    "t3 = 100\n",
    "\n",
    "Obj_url = \"data_test/pairwise/repair_group8_pair1/RPf_00059_gt.ply\"\n",
    "#threshold for corner\n",
    "thre = 0.985\n",
    "\n",
    "pipline_variables = (N, t1, t2, t3, thre)\n",
    "\n",
    "#test\n",
    "test_name = \"ICP_test\"\n",
    "\n",
    "# eval \n",
    "\n",
    "eval_list = [\"rms\"]\n",
    "\n",
    "test_15_2 = test(Obj2_url, Obj1_url, init_R_T, pipline_name, pipline_variables, test_name, eval_list, show_results = True, save_results=False)\n",
    "\n",
    "my_results = test_15_2.run()"
   ]
  },
  {
   "cell_type": "code",
   "execution_count": null,
   "id": "b5c490cd",
   "metadata": {},
   "outputs": [],
   "source": [
    "df_test_15_2 = pd.DataFrame(test_15_2.results)\n",
    "df_test_15_2[\"total\"] = df_test_15_2[\"R_error\"]+df_test_15_2[\"T_error\"]\n",
    "df_test_15_2.sort_values('T_error')"
   ]
  },
  {
   "cell_type": "code",
   "execution_count": null,
   "id": "95fdef23",
   "metadata": {},
   "outputs": [],
   "source": [
    "get_winner(test_15_2)"
   ]
  },
  {
   "cell_type": "code",
   "execution_count": null,
   "id": "13b29caf",
   "metadata": {},
   "outputs": [],
   "source": [
    "test_15_2.draw_registration_result_original_color(test_15_2.Obj1,test_15_2.Obj2,test_15_2.result_transformation_arr[67][2])"
   ]
  },
  {
   "cell_type": "code",
   "execution_count": null,
   "id": "d7103a5a",
   "metadata": {},
   "outputs": [],
   "source": [
    "test_15_2.draw_registration_result_original_color(test_15_2.Obj1,test_15_2.Obj2,np.eye(4))"
   ]
  },
  {
   "cell_type": "code",
   "execution_count": null,
   "id": "83355ded",
   "metadata": {},
   "outputs": [],
   "source": [
    "test_15_2.draw_registration_result_original_color(test_15_2.Obj1,test_15_2.Obj2,test_15_2.RM_ground)"
   ]
  },
  {
   "cell_type": "code",
   "execution_count": null,
   "id": "b3dcd0e8",
   "metadata": {},
   "outputs": [],
   "source": [
    "save(\"test_15_2\",test_15_2,83)"
   ]
  },
  {
   "cell_type": "markdown",
   "id": "618edefa",
   "metadata": {},
   "source": [
    "<h7>test_15_3</h7>"
   ]
  },
  {
   "cell_type": "code",
   "execution_count": null,
   "id": "4e08ccf3",
   "metadata": {},
   "outputs": [],
   "source": [
    "import ast\n",
    "\n",
    "from runner import test\n",
    "import numpy as np\n",
    "\n",
    "number = 521\n",
    "\n",
    "#objects\n",
    "Obj1_url = df.iloc[number][\"obj2\"]\n",
    "Obj2_url = df.iloc[number][\"obj1\"]\n",
    "\n",
    "#Before Evaluate do a Rotation and translation of\n",
    "init_R_T = ((0.2, 0.2, 0.1), (0.1, 0.1, 0.1))\n",
    "\n",
    "\n",
    "#pipline name and pipline parameters\n",
    "pipline_name = \"pipline_15\"\n",
    "\n",
    "\n",
    "N = 15\n",
    "t1 = 2\n",
    "t2 = 100\n",
    "t3 = 100\n",
    "\n",
    "Obj_url = \"data_test/pairwise/repair_group8_pair1/RPf_00059_gt.ply\"\n",
    "#threshold for corner\n",
    "thre = 0.985\n",
    "\n",
    "pipline_variables = (N, t1, t2, t3, thre)\n",
    "\n",
    "#test\n",
    "test_name = \"ICP_test\"\n",
    "\n",
    "# eval \n",
    "\n",
    "eval_list = [\"rms\"]\n",
    "\n",
    "test_15_3 = test(Obj2_url, Obj1_url, init_R_T, pipline_name, pipline_variables, test_name, eval_list, show_results = True, save_results=False)\n",
    "\n",
    "my_results = test_15_3.run()"
   ]
  },
  {
   "cell_type": "code",
   "execution_count": null,
   "id": "4ea91953",
   "metadata": {},
   "outputs": [],
   "source": [
    "df_test_15_3 = pd.DataFrame(test_15_3.results)\n",
    "df_test_15_3[\"total\"] = df_test_15_3[\"R_error\"]+df_test_15_3[\"T_error\"]\n",
    "df_test_15_3.sort_values('T_error')"
   ]
  },
  {
   "cell_type": "code",
   "execution_count": null,
   "id": "359d7455",
   "metadata": {},
   "outputs": [],
   "source": [
    "get_winner(test_15_3)"
   ]
  },
  {
   "cell_type": "code",
   "execution_count": null,
   "id": "e8051241",
   "metadata": {},
   "outputs": [],
   "source": [
    "test_15_3.draw_registration_result_original_color(test_15_3.Obj1,test_15_3.Obj2,test_15_3.result_transformation_arr[73][2])"
   ]
  },
  {
   "cell_type": "code",
   "execution_count": null,
   "id": "53cff61c",
   "metadata": {},
   "outputs": [],
   "source": [
    "test_15_3.draw_registration_result_original_color(test_15_3.Obj1,test_15_3.Obj2,np.eye(4))"
   ]
  },
  {
   "cell_type": "code",
   "execution_count": null,
   "id": "b4d21def",
   "metadata": {},
   "outputs": [],
   "source": [
    "test_15_3.draw_registration_result_original_color(test_15_3.Obj1,test_15_3.Obj2,test_15_3.RM_ground)"
   ]
  },
  {
   "cell_type": "code",
   "execution_count": null,
   "id": "2c0e2319",
   "metadata": {},
   "outputs": [],
   "source": [
    "save(\"test_15_3\",test_15_3,25)"
   ]
  },
  {
   "cell_type": "markdown",
   "id": "568d5667",
   "metadata": {},
   "source": [
    "<h7>test_15_4</h7>"
   ]
  },
  {
   "cell_type": "code",
   "execution_count": null,
   "id": "4b3bbf6e",
   "metadata": {},
   "outputs": [],
   "source": [
    "import ast\n",
    "\n",
    "from runner import test\n",
    "import numpy as np\n",
    "\n",
    "number = 455\n",
    "\n",
    "#objects\n",
    "Obj1_url = df.iloc[number][\"obj1\"]\n",
    "Obj2_url = df.iloc[number][\"obj2\"]\n",
    "\n",
    "#Before Evaluate do a Rotation and translation of\n",
    "init_R_T = ((0.2, 0.2, 0.1), (0.1, -0.1, 0.1))\n",
    "\n",
    "\n",
    "#pipline name and pipline parameters\n",
    "pipline_name = \"pipline_15\"\n",
    "\n",
    "\n",
    "N = 15\n",
    "t1 = 2\n",
    "t2 = 100\n",
    "t3 = 100\n",
    "\n",
    "Obj_url = \"data_test/pairwise/repair_group8_pair1/RPf_00059_gt.ply\"\n",
    "#threshold for corner\n",
    "thre = 0.985\n",
    "\n",
    "pipline_variables = (N, t1, t2, t3, thre)\n",
    "\n",
    "#test\n",
    "test_name = \"ICP_test\"\n",
    "\n",
    "# eval \n",
    "\n",
    "eval_list = [\"rms\"]\n",
    "\n",
    "test_15_4 = test(Obj2_url, Obj1_url, init_R_T, pipline_name, pipline_variables, test_name, eval_list, show_results = True, save_results=False)\n",
    "\n",
    "my_results = test_15_4.run()"
   ]
  },
  {
   "cell_type": "code",
   "execution_count": null,
   "id": "c45fc1b2",
   "metadata": {},
   "outputs": [],
   "source": [
    "df_test_15_4 = pd.DataFrame(test_15_4.results)\n",
    "df_test_15_4[\"total\"] = df_test_15_4[\"R_error\"]+df_test_15_4[\"T_error\"]\n",
    "df_test_15_4.sort_values('T_error')"
   ]
  },
  {
   "cell_type": "code",
   "execution_count": null,
   "id": "19b98e19",
   "metadata": {},
   "outputs": [],
   "source": [
    "get_winner(test_15_4)"
   ]
  },
  {
   "cell_type": "code",
   "execution_count": null,
   "id": "cbd67327",
   "metadata": {},
   "outputs": [],
   "source": [
    "test_15_4.draw_registration_result_original_color(test_15_4.Obj1,test_15_4.Obj2,test_15_4.result_transformation_arr[39][2])"
   ]
  },
  {
   "cell_type": "code",
   "execution_count": null,
   "id": "e0eaf205",
   "metadata": {},
   "outputs": [],
   "source": [
    "test_15_4.draw_registration_result_original_color(test_15_4.Obj1,test_15_4.Obj2,np.eye(4))"
   ]
  },
  {
   "cell_type": "code",
   "execution_count": null,
   "id": "c6a2f728",
   "metadata": {},
   "outputs": [],
   "source": [
    "test_15_4.draw_registration_result_original_color(test_15_4.Obj1,test_15_4.Obj2,test_15_4.RM_ground)"
   ]
  },
  {
   "cell_type": "code",
   "execution_count": null,
   "id": "24801592",
   "metadata": {},
   "outputs": [],
   "source": [
    "save(\"test_15_4\",test_15_4,39)"
   ]
  },
  {
   "cell_type": "markdown",
   "id": "de58131b",
   "metadata": {},
   "source": [
    "<h7>test_15_5</h7>"
   ]
  },
  {
   "cell_type": "code",
   "execution_count": null,
   "id": "c5cc6c7a",
   "metadata": {},
   "outputs": [],
   "source": [
    "import ast\n",
    "\n",
    "from runner import test\n",
    "import numpy as np\n",
    "\n",
    "number = 48\n",
    "\n",
    "#objects\n",
    "Obj1_url = df.iloc[number][\"obj1\"]\n",
    "Obj2_url = df.iloc[number][\"obj2\"]\n",
    "\n",
    "#Before Evaluate do a Rotation and translation of\n",
    "init_R_T = ((0.2, 0.2, 0.1), (0.1, -0.1, 0.1))\n",
    "\n",
    "\n",
    "#pipline name and pipline parameters\n",
    "pipline_name = \"pipline_15\"\n",
    "\n",
    "\n",
    "N = 15\n",
    "t1 = 2\n",
    "t2 = 100\n",
    "t3 = 100\n",
    "\n",
    "Obj_url = \"data_test/pairwise/repair_group8_pair1/RPf_00059_gt.ply\"\n",
    "#threshold for corner\n",
    "thre = 0.985\n",
    "\n",
    "pipline_variables = (N, t1, t2, t3, thre)\n",
    "\n",
    "#test\n",
    "test_name = \"ICP_test\"\n",
    "\n",
    "# eval \n",
    "\n",
    "eval_list = [\"rms\"]\n",
    "\n",
    "test_15_5 = test(Obj2_url, Obj1_url, init_R_T, pipline_name, pipline_variables, test_name, eval_list, show_results = True, save_results=False)\n",
    "\n",
    "my_results = test_15_5.run()"
   ]
  },
  {
   "cell_type": "code",
   "execution_count": null,
   "id": "f00f411c",
   "metadata": {},
   "outputs": [],
   "source": [
    "df_test_15_5 = pd.DataFrame(test_15_5.results)\n",
    "df_test_15_5[\"total\"] = df_test_15_5[\"R_error\"]+df_test_15_5[\"T_error\"]\n",
    "df_test_15_5.sort_values('T_error')"
   ]
  },
  {
   "cell_type": "code",
   "execution_count": null,
   "id": "06a6e9b7",
   "metadata": {},
   "outputs": [],
   "source": [
    "get_winner(test_15_5)"
   ]
  },
  {
   "cell_type": "code",
   "execution_count": null,
   "id": "941a1e45",
   "metadata": {},
   "outputs": [],
   "source": [
    "test_15_5.draw_registration_result_original_color(test_15_5.Obj1,test_15_5.Obj2,test_15_5.result_transformation_arr[44][2])"
   ]
  },
  {
   "cell_type": "code",
   "execution_count": null,
   "id": "391c11c3",
   "metadata": {},
   "outputs": [],
   "source": [
    "test_15_5.draw_registration_result_original_color(test_15_5.Obj1,test_15_5.Obj2,np.eye(4))"
   ]
  },
  {
   "cell_type": "code",
   "execution_count": null,
   "id": "63e007de",
   "metadata": {},
   "outputs": [],
   "source": [
    "test_15_5.draw_registration_result_original_color(test_15_5.Obj1,test_15_5.Obj2,test_15_5.RM_ground)"
   ]
  },
  {
   "cell_type": "code",
   "execution_count": null,
   "id": "a9c8fe56",
   "metadata": {},
   "outputs": [],
   "source": [
    "save(\"test_15_5_1\",test_15_5,47)"
   ]
  },
  {
   "cell_type": "code",
   "execution_count": null,
   "id": "e880c062",
   "metadata": {},
   "outputs": [],
   "source": [
    "<h7>test_8_2</h7>"
   ]
  },
  {
   "cell_type": "code",
   "execution_count": null,
   "id": "8df2b4af",
   "metadata": {},
   "outputs": [],
   "source": [
    "import ast\n",
    "\n",
    "from runner import test\n",
    "import numpy as np\n",
    "\n",
    "number = 192\n",
    "\n",
    "#objects\n",
    "Obj1_url = df.iloc[number][\"obj1\"]\n",
    "Obj2_url = df.iloc[number][\"obj2\"]\n",
    "\n",
    "#Before Evaluate do a Rotation and translation of\n",
    "init_R_T = ((0.2, 0.2, 0.1), (-20, -10, 2))\n",
    "\n",
    "\n",
    "#pipline name and pipline parameters\n",
    "pipline_name = \"pipline_3\"\n",
    "\n",
    "\n",
    "N = 15\n",
    "t1 = 2\n",
    "t2 = 100\n",
    "t3 = 100\n",
    "\n",
    "Obj_url = \"data_test/pairwise/repair_group8_pair1/RPf_00059_gt.ply\"\n",
    "#threshold for corner\n",
    "thre = 0.985\n",
    "\n",
    "pipline_variables = (N, t1, t2, t3, thre)\n",
    "\n",
    "#test\n",
    "test_name = \"ICP_test\"\n",
    "\n",
    "# eval \n",
    "\n",
    "eval_list = [\"rms\"]\n",
    "\n",
    "test_8_2 = test(Obj2_url, Obj1_url, init_R_T, pipline_name, pipline_variables, test_name, eval_list, show_results = True, save_results=False)\n",
    "\n",
    "my_results = test_8_2.run()"
   ]
  },
  {
   "cell_type": "code",
   "execution_count": null,
   "id": "62dca879",
   "metadata": {},
   "outputs": [],
   "source": [
    "df_test_8_2 = pd.DataFrame(test_8_2.results)\n",
    "df_test_8_2[\"total\"] = df_test_8_2[\"R_error\"]+df_test_8_2[\"T_error\"]\n",
    "df_test_8_2.sort_values('T_error')"
   ]
  },
  {
   "cell_type": "code",
   "execution_count": null,
   "id": "954344f7",
   "metadata": {},
   "outputs": [],
   "source": [
    "get_winner(test_8_2)"
   ]
  },
  {
   "cell_type": "code",
   "execution_count": null,
   "id": "a242f688",
   "metadata": {},
   "outputs": [],
   "source": [
    "test_8_2.draw_registration_result_original_color(test_8_2.Obj1,test_8_2.Obj2,test_8_2.result_transformation_arr[48][2])"
   ]
  },
  {
   "cell_type": "code",
   "execution_count": null,
   "id": "ff0824bf",
   "metadata": {},
   "outputs": [],
   "source": [
    "test_8_2.draw_registration_result_original_color(test_8_2.Obj1,test_8_2.Obj2,np.eye(4))"
   ]
  },
  {
   "cell_type": "code",
   "execution_count": null,
   "id": "976a2624",
   "metadata": {},
   "outputs": [],
   "source": [
    "test_8_2.draw_registration_result_original_color(test_8_2.Obj1,test_8_2.Obj2,test_8_2.RM_ground)"
   ]
  },
  {
   "cell_type": "markdown",
   "id": "1dd71b7c",
   "metadata": {},
   "source": [
    "Breaking"
   ]
  },
  {
   "cell_type": "code",
   "execution_count": null,
   "id": "e6c97771",
   "metadata": {},
   "outputs": [],
   "source": [
    "import ast\n",
    "\n",
    "from runner import test\n",
    "import numpy as np\n",
    "\n",
    "number = 192\n",
    "\n",
    "#objects\n",
    "Obj1_url = \"data_test/pairwise/breaking_bad_cat_artifact_pair1/breaking_bad_cat_artifact_piece1.ply\"\n",
    "Obj2_url = \"data_test/pairwise/breaking_bad_cat_artifact_pair1/breaking_bad_cat_artifact_piece3.ply\"\n",
    "\n",
    "#Before Evaluate do a Rotation and translation of\n",
    "init_R_T = ((0, 0, 0), (0.5, 0.5, 2))\n",
    "\n",
    "\n",
    "#pipline name and pipline parameters\n",
    "pipline_name = \"pipline_breaking\"\n",
    "\n",
    "\n",
    "N = 15\n",
    "t1 = 2\n",
    "t2 = 100\n",
    "t3 = 100\n",
    "\n",
    "Obj_url = \"data_test/pairwise/repair_group8_pair1/RPf_00059_gt.ply\"\n",
    "#threshold for corner\n",
    "thre = 0.95\n",
    "\n",
    "pipline_variables = (N, t1, t2, t3, thre)\n",
    "\n",
    "#test\n",
    "test_name = \"ICP_test\"\n",
    "\n",
    "# eval \n",
    "\n",
    "eval_list = [\"rms\"]\n",
    "\n",
    "test_breaking_1 = test(Obj2_url, Obj1_url, init_R_T, pipline_name, pipline_variables, test_name, eval_list, show_results = True, save_results=False)\n",
    "\n",
    "my_results = test_breaking_1.run()"
   ]
  },
  {
   "cell_type": "code",
   "execution_count": null,
   "id": "c6547863",
   "metadata": {},
   "outputs": [],
   "source": [
    "import pandas as pd\n",
    "df_breaking_1 = pd.DataFrame(test_breaking_1.results)\n",
    "df_breaking_1[\"total\"] = df_breaking_1[\"R_error\"]+df_breaking_1[\"T_error\"]\n",
    "df_breaking_1.sort_values('T_error')"
   ]
  },
  {
   "cell_type": "code",
   "execution_count": null,
   "id": "232fe473",
   "metadata": {},
   "outputs": [],
   "source": [
    "get_winner(test_breaking_1)"
   ]
  },
  {
   "cell_type": "code",
   "execution_count": null,
   "id": "7ce071b5",
   "metadata": {},
   "outputs": [],
   "source": [
    "test_breaking_1.draw_registration_result_original_color(test_breaking_1.Obj1,test_breaking_1.Obj2,test_breaking_1.result_transformation_arr[33][2])"
   ]
  },
  {
   "cell_type": "code",
   "execution_count": null,
   "id": "8cb6e811",
   "metadata": {},
   "outputs": [],
   "source": [
    "test_breaking_1.draw_registration_result_original_color(test_breaking_1.Obj1,test_breaking_1.Obj2,np.eye(4))"
   ]
  },
  {
   "cell_type": "code",
   "execution_count": null,
   "id": "cea8a65c",
   "metadata": {},
   "outputs": [],
   "source": [
    "test_breaking_1.draw_registration_result_original_color(test_breaking_1.Obj1,test_breaking_1.Obj2,test_breaking_1.RM_ground)"
   ]
  },
  {
   "cell_type": "code",
   "execution_count": null,
   "id": "230d0bdf",
   "metadata": {},
   "outputs": [],
   "source": [
    "save(\"test_breaking_1\",test_breaking_1,33)"
   ]
  },
  {
   "cell_type": "code",
   "execution_count": null,
   "id": "40e04075",
   "metadata": {},
   "outputs": [],
   "source": [
    "import ast\n",
    "\n",
    "from runner import test\n",
    "import numpy as np\n",
    "\n",
    "number = 192\n",
    "\n",
    "#objects\n",
    "Obj1_url = \"data_test/pairwise/breaking_bad_cat_artifact_pair2/breaking_bad_cat_artifact_piece2.ply\"\n",
    "Obj2_url = \"data_test/pairwise/breaking_bad_cat_artifact_pair2/breaking_bad_cat_artifact_piece3.ply\"\n",
    "\n",
    "#Before Evaluate do a Rotation and translation of\n",
    "init_R_T = ((0.2, 0.2, 0.1), (-0.5, -0.5, -0.5))\n",
    "\n",
    "\n",
    "#pipline name and pipline parameters\n",
    "pipline_name = \"pipline_breaking_bad_statue\"\n",
    "\n",
    "\n",
    "N = 15\n",
    "t1 = 2\n",
    "t2 = 100\n",
    "t3 = 100\n",
    "\n",
    "Obj_url = \"data_test/pairwise/repair_group8_pair1/RPf_00059_gt.ply\"\n",
    "#threshold for corner\n",
    "thre = 0.95\n",
    "\n",
    "pipline_variables = (N, t1, t2, t3, thre)\n",
    "\n",
    "#test\n",
    "test_name = \"ICP_test\"\n",
    "\n",
    "# eval \n",
    "\n",
    "eval_list = [\"rms\"]\n",
    "\n",
    "test_breaking_2 = test(Obj2_url, Obj1_url, init_R_T, pipline_name, pipline_variables, test_name, eval_list, show_results = True, save_results=False)\n",
    "\n",
    "my_results = test_breaking_2.run()"
   ]
  },
  {
   "cell_type": "code",
   "execution_count": null,
   "id": "10588efc",
   "metadata": {},
   "outputs": [],
   "source": [
    "import pandas as pd\n",
    "df_breaking_2 = pd.DataFrame(test_breaking_2.results)\n",
    "df_breaking_2[\"total\"] = df_breaking_2[\"R_error\"]+df_breaking_2[\"T_error\"]\n",
    "df_breaking_2.sort_values('T_error')"
   ]
  },
  {
   "cell_type": "code",
   "execution_count": null,
   "id": "8743ed4e",
   "metadata": {},
   "outputs": [],
   "source": [
    "df_breaking_2[(df_breaking_2[\"o1\"]==2) & (df_breaking_2[\"o2\"]==6)]"
   ]
  },
  {
   "cell_type": "code",
   "execution_count": null,
   "id": "d0e05ec7",
   "metadata": {},
   "outputs": [],
   "source": [
    "test_breaking_2.draw_registration_result_original_color(test_breaking_2.Obj1,test_breaking_2.Obj2,test_breaking_2.result_transformation_arr[22][2])"
   ]
  },
  {
   "cell_type": "code",
   "execution_count": null,
   "id": "7f558dac",
   "metadata": {},
   "outputs": [],
   "source": [
    "test_breaking_2.draw_registration_result_original_color(test_breaking_2.Obj1,test_breaking_2.Obj2,np.eye(4))"
   ]
  },
  {
   "cell_type": "code",
   "execution_count": null,
   "id": "41d1e096",
   "metadata": {},
   "outputs": [],
   "source": [
    "test_breaking_2.draw_registration_result_original_color(test_breaking_2.Obj1,test_breaking_2.Obj2,test_breaking_2.RM_ground)"
   ]
  },
  {
   "cell_type": "code",
   "execution_count": null,
   "id": "a85ca144",
   "metadata": {},
   "outputs": [],
   "source": [
    "save(\"test_breaking_2\",test_breaking_2,22)"
   ]
  },
  {
   "cell_type": "code",
   "execution_count": null,
   "id": "ef215363",
   "metadata": {},
   "outputs": [],
   "source": []
  },
  {
   "cell_type": "code",
   "execution_count": null,
   "id": "25654274",
   "metadata": {},
   "outputs": [],
   "source": [
    "import ast\n",
    "\n",
    "from runner import test\n",
    "import numpy as np\n",
    "\n",
    "number = 192\n",
    "\n",
    "#objects\n",
    "Obj1_url =  \"data_test/pairwise/breaking_bad_statue_pair1/breaking_bad_cat_statue_piece1.ply\"\n",
    "Obj2_url =  \"data_test/pairwise/breaking_bad_statue_pair1/breaking_bad_cat_statue_piece2.ply\"\n",
    "\n",
    "#Before Evaluate do a Rotation and translation of\n",
    "init_R_T = ((0.2, 0.2, 0.1), (-0.5, -0.5, -0.5))\n",
    "\n",
    "\n",
    "#pipline name and pipline parameters\n",
    "pipline_name = \"pipline_breaking_bad_statue\"\n",
    "\n",
    "\n",
    "N = 15\n",
    "t1 = 2\n",
    "t2 = 100\n",
    "t3 = 100\n",
    "\n",
    "#threshold for corner\n",
    "thre = 0.95\n",
    "\n",
    "pipline_variables = (N, t1, t2, t3, thre)\n",
    "\n",
    "#test\n",
    "test_name = \"ICP_test\"\n",
    "\n",
    "# eval \n",
    "\n",
    "eval_list = [\"rms\"]\n",
    "\n",
    "test_breaking_3 = test(Obj2_url, Obj1_url, init_R_T, pipline_name, pipline_variables, test_name, eval_list, show_results = True, save_results=False)\n",
    "\n",
    "my_results = test_breaking_3.run()"
   ]
  },
  {
   "cell_type": "code",
   "execution_count": null,
   "id": "16bc68b3",
   "metadata": {},
   "outputs": [],
   "source": [
    "import pandas as pd\n",
    "df_breaking_3 = pd.DataFrame(test_breaking_3.results)\n",
    "df_breaking_3[\"total\"] = df_breaking_3[\"R_error\"]+df_breaking_3[\"T_error\"]\n",
    "df_breaking_3.sort_values('T_error')"
   ]
  },
  {
   "cell_type": "code",
   "execution_count": null,
   "id": "9c045143",
   "metadata": {},
   "outputs": [],
   "source": [
    "df_breaking_3['T_error'][13]"
   ]
  },
  {
   "cell_type": "code",
   "execution_count": null,
   "id": "1b5e0a5c",
   "metadata": {},
   "outputs": [],
   "source": [
    "df_breaking_3[(df_breaking_3[\"o1\"]==2) & (df_breaking_3[\"o2\"]==6)]"
   ]
  },
  {
   "cell_type": "code",
   "execution_count": null,
   "id": "6dfd9579",
   "metadata": {},
   "outputs": [],
   "source": [
    "test_breaking_3.draw_registration_result_original_color(test_breaking_3.Obj1,test_breaking_3.Obj2,test_breaking_3.result_transformation_arr[13][2])"
   ]
  },
  {
   "cell_type": "code",
   "execution_count": null,
   "id": "fbe3c774",
   "metadata": {},
   "outputs": [],
   "source": [
    "test_breaking_3.draw_registration_result_original_color(test_breaking_3.Obj1,test_breaking_3.Obj2,np.eye(4))"
   ]
  },
  {
   "cell_type": "code",
   "execution_count": null,
   "id": "8d6ab3e5",
   "metadata": {},
   "outputs": [],
   "source": [
    "test_breaking_3.draw_registration_result_original_color(test_breaking_3.Obj1,test_breaking_3.Obj2,test_breaking_3.RM_ground)"
   ]
  },
  {
   "cell_type": "code",
   "execution_count": null,
   "id": "26070d94",
   "metadata": {},
   "outputs": [],
   "source": [
    "save(\"test_breaking_3\",test_breaking_3,13)"
   ]
  },
  {
   "cell_type": "code",
   "execution_count": null,
   "id": "09e3c04f",
   "metadata": {},
   "outputs": [],
   "source": []
  },
  {
   "cell_type": "code",
   "execution_count": null,
   "id": "363ec793",
   "metadata": {},
   "outputs": [],
   "source": [
    "import ast\n",
    "\n",
    "from runner import test\n",
    "import numpy as np\n",
    "\n",
    "number = 192\n",
    "\n",
    "#objects\n",
    "Obj1_url =  \"data_test/pairwise/breaking_bad_toyfigure_pair1/breaking_bad_cat_toyfigure_piece1.ply\"\n",
    "Obj2_url =  \"data_test/pairwise/breaking_bad_toyfigure_pair1/breaking_bad_cat_toyfigure_piece2.ply\"\n",
    "\n",
    "#Before Evaluate do a Rotation and translation of\n",
    "init_R_T = ((0.2, 0.2, 0.1), (-0.5, -0.5, -0.5))\n",
    "\n",
    "\n",
    "#pipline name and pipline parameters\n",
    "pipline_name = \"pipline_breaking_bad_statue\"\n",
    "\n",
    "\n",
    "N = 15\n",
    "t1 = 2\n",
    "t2 = 100\n",
    "t3 = 100\n",
    "\n",
    "#threshold for corner\n",
    "thre = 0.95\n",
    "\n",
    "pipline_variables = (N, t1, t2, t3, thre)\n",
    "\n",
    "#test\n",
    "test_name = \"ICP_test\"\n",
    "\n",
    "# eval \n",
    "\n",
    "eval_list = [\"rms\"]\n",
    "\n",
    "test_breaking_4 = test(Obj2_url, Obj1_url, init_R_T, pipline_name, pipline_variables, test_name, eval_list, show_results = True, save_results=False)\n",
    "\n",
    "my_results = test_breaking_4.run()"
   ]
  },
  {
   "cell_type": "code",
   "execution_count": null,
   "id": "99866e31",
   "metadata": {},
   "outputs": [],
   "source": [
    "import pandas as pd\n",
    "df_breaking_4 = pd.DataFrame(test_breaking_4.results)\n",
    "df_breaking_4[\"total\"] = df_breaking_4[\"R_error\"]+df_breaking_4[\"T_error\"]\n",
    "df_breaking_4.sort_values('T_error')"
   ]
  },
  {
   "cell_type": "code",
   "execution_count": null,
   "id": "a1755e40",
   "metadata": {},
   "outputs": [],
   "source": [
    "test_breaking_4.draw_registration_result_original_color(test_breaking_4.Obj1,test_breaking_4.Obj2,test_breaking_4.result_transformation_arr[9][2])"
   ]
  },
  {
   "cell_type": "code",
   "execution_count": null,
   "id": "b41ddca1",
   "metadata": {},
   "outputs": [],
   "source": [
    "test_breaking_4.draw_registration_result_original_color(test_breaking_4.Obj1,test_breaking_4.Obj2,np.eye(4))"
   ]
  },
  {
   "cell_type": "code",
   "execution_count": null,
   "id": "32345bac",
   "metadata": {},
   "outputs": [],
   "source": [
    "test_breaking_4.draw_registration_result_original_color(test_breaking_4.Obj1,test_breaking_4.Obj2,test_breaking_3.RM_ground)"
   ]
  },
  {
   "cell_type": "markdown",
   "id": "7114c11a",
   "metadata": {},
   "source": [
    "breaking_bad 3"
   ]
  },
  {
   "cell_type": "code",
   "execution_count": null,
   "id": "4751440f",
   "metadata": {},
   "outputs": [],
   "source": [
    "import ast\n",
    "\n",
    "from runner import test\n",
    "import numpy as np\n",
    "\n",
    "number = 192\n",
    "\n",
    "#objects\n",
    "Obj1_url = \"data_test/pairs_everyday/BeerBottle/fractured_79/piece_0.obj\"\n",
    "Obj2_url = \"data_test/pairs_everyday/BeerBottle/fractured_79/piece_1.obj\"\n",
    "\n",
    "#Before Evaluate do a Rotation and translation of\n",
    "init_R_T = ((0.2, 0.2, 0.1), (-0.5, -0.5, -0.5))\n",
    "\n",
    "\n",
    "#pipline name and pipline parameters\n",
    "pipline_name = \"pipline_breaking\"\n",
    "\n",
    "\n",
    "N = 15\n",
    "t1 = 2\n",
    "t2 = 100\n",
    "t3 = 100\n",
    "\n",
    "Obj_url = \"data_test/pairwise/repair_group8_pair1/RPf_00059_gt.ply\"\n",
    "#threshold for corner\n",
    "thre = 0.95\n",
    "\n",
    "pipline_variables = (N, t1, t2, t3, thre)\n",
    "\n",
    "#test\n",
    "test_name = \"ICP_test\"\n",
    "\n",
    "# eval \n",
    "\n",
    "eval_list = [\"rms\"]\n",
    "\n",
    "test_breaking_3 = test(Obj2_url, Obj1_url, init_R_T, pipline_name, pipline_variables, test_name, eval_list, show_results = True, save_results=False)\n",
    "\n",
    "my_results = test_breaking_3.run()"
   ]
  },
  {
   "cell_type": "code",
   "execution_count": null,
   "id": "3e7a3dc9",
   "metadata": {},
   "outputs": [],
   "source": [
    "import pandas as pd\n",
    "df_breaking_3 = pd.DataFrame(test_breaking_3.results)\n",
    "df_breaking_3[\"total\"] = df_breaking_3[\"R_error\"]+df_breaking_3[\"T_error\"]\n",
    "df_breaking_3.sort_values('T_error')"
   ]
  },
  {
   "cell_type": "code",
   "execution_count": null,
   "id": "2229989b",
   "metadata": {},
   "outputs": [],
   "source": [
    "test_breaking_3.draw_registration_result_original_color(test_breaking_3.Obj1,test_breaking_3.Obj2,test_breaking_3.result_transformation_arr[98][2])"
   ]
  },
  {
   "cell_type": "code",
   "execution_count": null,
   "id": "8931c39d",
   "metadata": {},
   "outputs": [],
   "source": [
    "test_breaking_3.draw_registration_result_original_color(test_breaking_3.Obj1,test_breaking_3.Obj2,np.eye(4))"
   ]
  },
  {
   "cell_type": "code",
   "execution_count": null,
   "id": "f2087665",
   "metadata": {},
   "outputs": [],
   "source": [
    "test_breaking_3.draw_registration_result_original_color(test_breaking_3.Obj1,test_breaking_3.Obj2,test_breaking_3.RM_ground)"
   ]
  },
  {
   "cell_type": "code",
   "execution_count": null,
   "id": "4d18c1cd",
   "metadata": {},
   "outputs": [],
   "source": []
  },
  {
   "cell_type": "code",
   "execution_count": 1,
   "id": "72467bc2",
   "metadata": {},
   "outputs": [
    {
     "name": "stdout",
     "output_type": "stream",
     "text": [
      "Jupyter environment detected. Enabling Open3D WebVisualizer.\n",
      "[Open3D INFO] WebRTC GUI backend enabled.\n",
      "[Open3D INFO] WebRTCWindowSystem: HTTP handshake server disabled.\n",
      "_________________________First Object_________________________\n",
      "start\n",
      "0.obj\n",
      "big object\n",
      "starting init\n",
      "starting calculating atts\n"
     ]
    },
    {
     "name": "stderr",
     "output_type": "stream",
     "text": [
      "100%|████████████████████████████████████████████████████████████████████████| 800000/800000 [05:58<00:00, 2232.71it/s]\n"
     ]
    },
    {
     "name": "stdout",
     "output_type": "stream",
     "text": [
      "starting calculating w_co\n",
      "my radius is :  0.0039202428988809775\n",
      "8596524\n",
      "After graph 800000\n",
      "constructing borders\n",
      "4320\n",
      "shortest_allowed_branch_length 8.94427190999916\n",
      "smallest_isolated_island_length 8.94427190999916\n",
      "shortest_cycle_length 8.94427190999916\n",
      "my radius is :  0.011349066948208416\n",
      "137506\n",
      "After graph 4151\n",
      "After Pruning 3986\n",
      "After Pruning 3997\n",
      "dilation and segmentation\n",
      "borders dilated\n"
     ]
    },
    {
     "name": "stderr",
     "output_type": "stream",
     "text": [
      "1893566it [23:55, 1371.95it/s]                                                                                         "
     ]
    },
    {
     "name": "stdout",
     "output_type": "stream",
     "text": [
      "416934\n"
     ]
    },
    {
     "name": "stderr",
     "output_type": "stream",
     "text": [
      "3597565it [42:59, 1901.51it/s]"
     ]
    },
    {
     "name": "stdout",
     "output_type": "stream",
     "text": [
      "374697\n"
     ]
    },
    {
     "name": "stderr",
     "output_type": "stream",
     "text": [
      "3604529it [44:34, 1963.57it/s]"
     ]
    },
    {
     "name": "stdout",
     "output_type": "stream",
     "text": [
      "1506\n",
      "1\n",
      "1\n",
      "1\n"
     ]
    },
    {
     "name": "stderr",
     "output_type": "stream",
     "text": [
      "3604920it [44:44, 93.94it/s]  "
     ]
    },
    {
     "name": "stdout",
     "output_type": "stream",
     "text": [
      "1\n"
     ]
    },
    {
     "name": "stderr",
     "output_type": "stream",
     "text": [
      "3607373it [44:45, 1491.11it/s]"
     ]
    },
    {
     "name": "stdout",
     "output_type": "stream",
     "text": [
      "629\n",
      "1\n",
      "1\n",
      "2\n",
      "1\n",
      "1\n"
     ]
    },
    {
     "name": "stderr",
     "output_type": "stream",
     "text": [
      "3607760it [44:50, 163.37it/s] "
     ]
    },
    {
     "name": "stdout",
     "output_type": "stream",
     "text": [
      "1\n"
     ]
    },
    {
     "name": "stderr",
     "output_type": "stream",
     "text": [
      "3608597it [44:51, 561.76it/s]"
     ]
    },
    {
     "name": "stdout",
     "output_type": "stream",
     "text": [
      "231\n",
      "2\n",
      "1\n",
      "1\n",
      "1\n",
      "1\n",
      "9\n",
      "1\n"
     ]
    },
    {
     "name": "stderr",
     "output_type": "stream",
     "text": [
      "\r",
      "3608786it [44:52, 331.87it/s]"
     ]
    },
    {
     "name": "stdout",
     "output_type": "stream",
     "text": [
      "3\n",
      "1\n",
      "12\n",
      "1\n",
      "1\n"
     ]
    },
    {
     "name": "stderr",
     "output_type": "stream",
     "text": [
      "3608791it [45:38, 10.11it/s] "
     ]
    },
    {
     "name": "stdout",
     "output_type": "stream",
     "text": [
      "1\n"
     ]
    },
    {
     "name": "stderr",
     "output_type": "stream",
     "text": [
      "\r",
      "3608794it [45:39,  9.84it/s]"
     ]
    },
    {
     "name": "stdout",
     "output_type": "stream",
     "text": [
      "1\n",
      "1\n",
      "1\n",
      "1\n",
      "1\n",
      "1\n",
      "1\n",
      "1\n",
      "1\n",
      "1\n",
      "1\n"
     ]
    },
    {
     "name": "stderr",
     "output_type": "stream",
     "text": [
      "3608836it [46:07,  5.29it/s]"
     ]
    },
    {
     "name": "stdout",
     "output_type": "stream",
     "text": [
      "1\n",
      "1\n",
      "1\n",
      "1\n",
      "1\n",
      "1\n",
      "1\n"
     ]
    },
    {
     "name": "stderr",
     "output_type": "stream",
     "text": [
      "3612070it [46:16, 1266.86it/s]"
     ]
    },
    {
     "name": "stdout",
     "output_type": "stream",
     "text": [
      "713\n",
      "1\n",
      "1\n",
      "1\n",
      "2\n",
      "1\n",
      "1\n",
      "1\n",
      "1\n",
      "1\n",
      "1\n",
      "1\n",
      "1\n",
      "1\n",
      "1\n"
     ]
    },
    {
     "name": "stderr",
     "output_type": "stream",
     "text": [
      "\r",
      "3612168it [46:17, 1300.52it/s]"
     ]
    },
    {
     "name": "stdout",
     "output_type": "stream",
     "text": [
      "1\n",
      "1\n",
      "10\n",
      "1\n",
      "got faces\n"
     ]
    },
    {
     "name": "stderr",
     "output_type": "stream",
     "text": [
      "\n"
     ]
    },
    {
     "name": "stdout",
     "output_type": "stream",
     "text": [
      "KNN Radius :  0.0039202428988809775\n",
      "221\n",
      "expanded\n",
      "coloring\n",
      "_________________________Second Object_________________________\n",
      "start\n",
      "1.obj\n",
      "small object\n",
      "starting init\n",
      "starting calculating atts\n"
     ]
    },
    {
     "name": "stderr",
     "output_type": "stream",
     "text": [
      "100%|██████████████████████████████████████████████████████████████████████████| 80000/80000 [00:30<00:00, 2586.95it/s]\n"
     ]
    },
    {
     "name": "stdout",
     "output_type": "stream",
     "text": [
      "starting calculating w_co\n",
      "my radius is :  0.0031694395951576476\n",
      "904938\n",
      "After graph 80000\n",
      "constructing borders\n",
      "4628\n",
      "shortest_allowed_branch_length 2.8284271247461903\n",
      "smallest_isolated_island_length 2.8284271247461903\n",
      "shortest_cycle_length 2.8284271247461903\n",
      "my radius is :  0.006292179476822893\n",
      "101102\n",
      "After graph 4626\n",
      "After Pruning 4625\n",
      "After Pruning 4625\n",
      "dilation and segmentation\n",
      "borders dilated\n"
     ]
    },
    {
     "name": "stderr",
     "output_type": "stream",
     "text": [
      "777382it [12:10, 1293.08it/s]                                                                                          "
     ]
    },
    {
     "name": "stdout",
     "output_type": "stream",
     "text": [
      "69284\n"
     ]
    },
    {
     "name": "stderr",
     "output_type": "stream",
     "text": [
      "806346it [12:34, 1262.53it/s]"
     ]
    },
    {
     "name": "stdout",
     "output_type": "stream",
     "text": [
      "2607\n"
     ]
    },
    {
     "name": "stderr",
     "output_type": "stream",
     "text": [
      "818856it [12:45, 1251.93it/s]"
     ]
    },
    {
     "name": "stdout",
     "output_type": "stream",
     "text": [
      "1113\n"
     ]
    },
    {
     "name": "stderr",
     "output_type": "stream",
     "text": [
      "819209it [12:46, 550.27it/s] "
     ]
    },
    {
     "name": "stdout",
     "output_type": "stream",
     "text": [
      "32\n"
     ]
    },
    {
     "name": "stderr",
     "output_type": "stream",
     "text": [
      "\r",
      "819241it [12:47, 1066.81it/s]"
     ]
    },
    {
     "name": "stdout",
     "output_type": "stream",
     "text": [
      "1\n",
      "got faces\n"
     ]
    },
    {
     "name": "stderr",
     "output_type": "stream",
     "text": [
      "\n"
     ]
    },
    {
     "name": "stdout",
     "output_type": "stream",
     "text": [
      "KNN Radius :  0.0031694395951576476\n",
      "163\n",
      "expanded\n",
      "coloring\n",
      "_________________________Registeration_________________________\n",
      "_________________________Evaluation_________________________\n"
     ]
    }
   ],
   "source": [
    "import ast\n",
    "\n",
    "from runner import test\n",
    "import numpy as np\n",
    "\n",
    "number = 192\n",
    "\n",
    "#objects\n",
    "Obj1_url = \"data_test/Breaking-bad-resampled-pairs/Vase-needtolookat/17b6b2b09458f1a435836c728d324152/fractured_5/piece_1.obj\"\n",
    "Obj2_url = \"data_test/Breaking-bad-resampled-pairs/Vase-needtolookat/17b6b2b09458f1a435836c728d324152/fractured_5/piece_0.obj\"\n",
    "\n",
    "#Before Evaluate do a Rotation and translation of\n",
    "init_R_T = ((0.2, 0.2, 0.1), (-0.5, -0.5, -0.5))\n",
    "\n",
    "\n",
    "#pipline name and pipline parameters\n",
    "pipline_name = \"thin_objects\"\n",
    "\n",
    "\n",
    "N = 15\n",
    "t1 = 100\n",
    "t2 = 100\n",
    "t3 = 100\n",
    "\n",
    "\n",
    "#threshold for corner\n",
    "thre = 0.93\n",
    "\n",
    "pipline_variables = (N, t1, t2, t3, thre)\n",
    "\n",
    "#test\n",
    "test_name = \"ICP_test\"\n",
    "\n",
    "# eval \n",
    "\n",
    "eval_list = [\"rms\"]\n",
    "\n",
    "test_breaking_thin = test(Obj2_url, Obj1_url, init_R_T, pipline_name, pipline_variables, test_name, eval_list, show_results = True, save_results=False)\n",
    "\n",
    "my_results = test_breaking_thin.run()"
   ]
  },
  {
   "cell_type": "code",
   "execution_count": 2,
   "id": "68b39d98",
   "metadata": {},
   "outputs": [
    {
     "data": {
      "text/plain": [
       "[{'o1': 0,\n",
       "  'o2': 0,\n",
       "  'R_error': 5.812863080829562,\n",
       "  'T_error': 1.7100477985699385},\n",
       " {'o1': 0,\n",
       "  'o2': 1,\n",
       "  'R_error': 5.74164386087518,\n",
       "  'T_error': 1.4040617627274885},\n",
       " {'o1': 0,\n",
       "  'o2': 2,\n",
       "  'R_error': 4.899801338320577,\n",
       "  'T_error': 1.4700476304615564},\n",
       " {'o1': 0,\n",
       "  'o2': 3,\n",
       "  'R_error': 4.765079385521027,\n",
       "  'T_error': 1.3975654852068478},\n",
       " {'o1': 1,\n",
       "  'o2': 0,\n",
       "  'R_error': 6.127742013560899,\n",
       "  'T_error': 1.707924798644849},\n",
       " {'o1': 1,\n",
       "  'o2': 1,\n",
       "  'R_error': 4.62297789380022,\n",
       "  'T_error': 1.2700244291065592},\n",
       " {'o1': 1,\n",
       "  'o2': 2,\n",
       "  'R_error': 4.786135387920436,\n",
       "  'T_error': 1.5419958006811145},\n",
       " {'o1': 1,\n",
       "  'o2': 3,\n",
       "  'R_error': 4.574768006083408,\n",
       "  'T_error': 0.9554560659010989},\n",
       " {'o1': 2,\n",
       "  'o2': 0,\n",
       "  'R_error': 3.5844649578871675,\n",
       "  'T_error': 0.12394444542398728},\n",
       " {'o1': 2,\n",
       "  'o2': 1,\n",
       "  'R_error': 5.445542180590819,\n",
       "  'T_error': 0.0017660714258598998},\n",
       " {'o1': 2,\n",
       "  'o2': 2,\n",
       "  'R_error': 5.655136278020624,\n",
       "  'T_error': 1.0861351201953564},\n",
       " {'o1': 2,\n",
       "  'o2': 3,\n",
       "  'R_error': 4.214183382655048,\n",
       "  'T_error': 1.5166069696011035},\n",
       " {'o1': 3,\n",
       "  'o2': 0,\n",
       "  'R_error': 4.418440398581815,\n",
       "  'T_error': 0.8863212050102214},\n",
       " {'o1': 3,\n",
       "  'o2': 1,\n",
       "  'R_error': 5.9785094158904135,\n",
       "  'T_error': 0.8403952333251674},\n",
       " {'o1': 3,\n",
       "  'o2': 2,\n",
       "  'R_error': 5.147928820200202,\n",
       "  'T_error': 1.4319911903798292},\n",
       " {'o1': 3,\n",
       "  'o2': 3,\n",
       "  'R_error': 3.6173601752631313,\n",
       "  'T_error': 0.5313783572418886},\n",
       " {'o1': 4,\n",
       "  'o2': 0,\n",
       "  'R_error': 3.950675366906763,\n",
       "  'T_error': 0.7888604012589583},\n",
       " {'o1': 4,\n",
       "  'o2': 1,\n",
       "  'R_error': 5.865614468026198,\n",
       "  'T_error': 1.248659333131223},\n",
       " {'o1': 4,\n",
       "  'o2': 2,\n",
       "  'R_error': 5.754875675595855,\n",
       "  'T_error': 1.691551220163841},\n",
       " {'o1': 4,\n",
       "  'o2': 3,\n",
       "  'R_error': 5.815206831831126,\n",
       "  'T_error': 1.3814924884107513},\n",
       " {'o1': 5,\n",
       "  'o2': 0,\n",
       "  'R_error': 3.421719273580806,\n",
       "  'T_error': 0.4683507554130613},\n",
       " {'o1': 5,\n",
       "  'o2': 1,\n",
       "  'R_error': 5.393550682106417,\n",
       "  'T_error': 0.4216809588950995},\n",
       " {'o1': 5,\n",
       "  'o2': 2,\n",
       "  'R_error': 5.575068356084163,\n",
       "  'T_error': 1.4828649501498385},\n",
       " {'o1': 5,\n",
       "  'o2': 3,\n",
       "  'R_error': 4.36487607145793,\n",
       "  'T_error': 0.7912033129216015}]"
      ]
     },
     "execution_count": 2,
     "metadata": {},
     "output_type": "execute_result"
    }
   ],
   "source": [
    "my_results"
   ]
  },
  {
   "cell_type": "code",
   "execution_count": 3,
   "id": "f69addb6",
   "metadata": {},
   "outputs": [
    {
     "data": {
      "text/html": [
       "<div>\n",
       "<style scoped>\n",
       "    .dataframe tbody tr th:only-of-type {\n",
       "        vertical-align: middle;\n",
       "    }\n",
       "\n",
       "    .dataframe tbody tr th {\n",
       "        vertical-align: top;\n",
       "    }\n",
       "\n",
       "    .dataframe thead th {\n",
       "        text-align: right;\n",
       "    }\n",
       "</style>\n",
       "<table border=\"1\" class=\"dataframe\">\n",
       "  <thead>\n",
       "    <tr style=\"text-align: right;\">\n",
       "      <th></th>\n",
       "      <th>o1</th>\n",
       "      <th>o2</th>\n",
       "      <th>R_error</th>\n",
       "      <th>T_error</th>\n",
       "      <th>total</th>\n",
       "    </tr>\n",
       "  </thead>\n",
       "  <tbody>\n",
       "    <tr>\n",
       "      <th>9</th>\n",
       "      <td>2</td>\n",
       "      <td>1</td>\n",
       "      <td>5.445542</td>\n",
       "      <td>0.001766</td>\n",
       "      <td>5.447308</td>\n",
       "    </tr>\n",
       "    <tr>\n",
       "      <th>8</th>\n",
       "      <td>2</td>\n",
       "      <td>0</td>\n",
       "      <td>3.584465</td>\n",
       "      <td>0.123944</td>\n",
       "      <td>3.708409</td>\n",
       "    </tr>\n",
       "    <tr>\n",
       "      <th>21</th>\n",
       "      <td>5</td>\n",
       "      <td>1</td>\n",
       "      <td>5.393551</td>\n",
       "      <td>0.421681</td>\n",
       "      <td>5.815232</td>\n",
       "    </tr>\n",
       "    <tr>\n",
       "      <th>20</th>\n",
       "      <td>5</td>\n",
       "      <td>0</td>\n",
       "      <td>3.421719</td>\n",
       "      <td>0.468351</td>\n",
       "      <td>3.890070</td>\n",
       "    </tr>\n",
       "    <tr>\n",
       "      <th>15</th>\n",
       "      <td>3</td>\n",
       "      <td>3</td>\n",
       "      <td>3.617360</td>\n",
       "      <td>0.531378</td>\n",
       "      <td>4.148739</td>\n",
       "    </tr>\n",
       "    <tr>\n",
       "      <th>16</th>\n",
       "      <td>4</td>\n",
       "      <td>0</td>\n",
       "      <td>3.950675</td>\n",
       "      <td>0.788860</td>\n",
       "      <td>4.739536</td>\n",
       "    </tr>\n",
       "    <tr>\n",
       "      <th>23</th>\n",
       "      <td>5</td>\n",
       "      <td>3</td>\n",
       "      <td>4.364876</td>\n",
       "      <td>0.791203</td>\n",
       "      <td>5.156079</td>\n",
       "    </tr>\n",
       "    <tr>\n",
       "      <th>13</th>\n",
       "      <td>3</td>\n",
       "      <td>1</td>\n",
       "      <td>5.978509</td>\n",
       "      <td>0.840395</td>\n",
       "      <td>6.818905</td>\n",
       "    </tr>\n",
       "    <tr>\n",
       "      <th>12</th>\n",
       "      <td>3</td>\n",
       "      <td>0</td>\n",
       "      <td>4.418440</td>\n",
       "      <td>0.886321</td>\n",
       "      <td>5.304762</td>\n",
       "    </tr>\n",
       "    <tr>\n",
       "      <th>7</th>\n",
       "      <td>1</td>\n",
       "      <td>3</td>\n",
       "      <td>4.574768</td>\n",
       "      <td>0.955456</td>\n",
       "      <td>5.530224</td>\n",
       "    </tr>\n",
       "    <tr>\n",
       "      <th>10</th>\n",
       "      <td>2</td>\n",
       "      <td>2</td>\n",
       "      <td>5.655136</td>\n",
       "      <td>1.086135</td>\n",
       "      <td>6.741271</td>\n",
       "    </tr>\n",
       "    <tr>\n",
       "      <th>17</th>\n",
       "      <td>4</td>\n",
       "      <td>1</td>\n",
       "      <td>5.865614</td>\n",
       "      <td>1.248659</td>\n",
       "      <td>7.114274</td>\n",
       "    </tr>\n",
       "    <tr>\n",
       "      <th>5</th>\n",
       "      <td>1</td>\n",
       "      <td>1</td>\n",
       "      <td>4.622978</td>\n",
       "      <td>1.270024</td>\n",
       "      <td>5.893002</td>\n",
       "    </tr>\n",
       "    <tr>\n",
       "      <th>19</th>\n",
       "      <td>4</td>\n",
       "      <td>3</td>\n",
       "      <td>5.815207</td>\n",
       "      <td>1.381492</td>\n",
       "      <td>7.196699</td>\n",
       "    </tr>\n",
       "    <tr>\n",
       "      <th>3</th>\n",
       "      <td>0</td>\n",
       "      <td>3</td>\n",
       "      <td>4.765079</td>\n",
       "      <td>1.397565</td>\n",
       "      <td>6.162645</td>\n",
       "    </tr>\n",
       "    <tr>\n",
       "      <th>1</th>\n",
       "      <td>0</td>\n",
       "      <td>1</td>\n",
       "      <td>5.741644</td>\n",
       "      <td>1.404062</td>\n",
       "      <td>7.145706</td>\n",
       "    </tr>\n",
       "    <tr>\n",
       "      <th>14</th>\n",
       "      <td>3</td>\n",
       "      <td>2</td>\n",
       "      <td>5.147929</td>\n",
       "      <td>1.431991</td>\n",
       "      <td>6.579920</td>\n",
       "    </tr>\n",
       "    <tr>\n",
       "      <th>2</th>\n",
       "      <td>0</td>\n",
       "      <td>2</td>\n",
       "      <td>4.899801</td>\n",
       "      <td>1.470048</td>\n",
       "      <td>6.369849</td>\n",
       "    </tr>\n",
       "    <tr>\n",
       "      <th>22</th>\n",
       "      <td>5</td>\n",
       "      <td>2</td>\n",
       "      <td>5.575068</td>\n",
       "      <td>1.482865</td>\n",
       "      <td>7.057933</td>\n",
       "    </tr>\n",
       "    <tr>\n",
       "      <th>11</th>\n",
       "      <td>2</td>\n",
       "      <td>3</td>\n",
       "      <td>4.214183</td>\n",
       "      <td>1.516607</td>\n",
       "      <td>5.730790</td>\n",
       "    </tr>\n",
       "    <tr>\n",
       "      <th>6</th>\n",
       "      <td>1</td>\n",
       "      <td>2</td>\n",
       "      <td>4.786135</td>\n",
       "      <td>1.541996</td>\n",
       "      <td>6.328131</td>\n",
       "    </tr>\n",
       "    <tr>\n",
       "      <th>18</th>\n",
       "      <td>4</td>\n",
       "      <td>2</td>\n",
       "      <td>5.754876</td>\n",
       "      <td>1.691551</td>\n",
       "      <td>7.446427</td>\n",
       "    </tr>\n",
       "    <tr>\n",
       "      <th>4</th>\n",
       "      <td>1</td>\n",
       "      <td>0</td>\n",
       "      <td>6.127742</td>\n",
       "      <td>1.707925</td>\n",
       "      <td>7.835667</td>\n",
       "    </tr>\n",
       "    <tr>\n",
       "      <th>0</th>\n",
       "      <td>0</td>\n",
       "      <td>0</td>\n",
       "      <td>5.812863</td>\n",
       "      <td>1.710048</td>\n",
       "      <td>7.522911</td>\n",
       "    </tr>\n",
       "  </tbody>\n",
       "</table>\n",
       "</div>"
      ],
      "text/plain": [
       "    o1  o2   R_error   T_error     total\n",
       "9    2   1  5.445542  0.001766  5.447308\n",
       "8    2   0  3.584465  0.123944  3.708409\n",
       "21   5   1  5.393551  0.421681  5.815232\n",
       "20   5   0  3.421719  0.468351  3.890070\n",
       "15   3   3  3.617360  0.531378  4.148739\n",
       "16   4   0  3.950675  0.788860  4.739536\n",
       "23   5   3  4.364876  0.791203  5.156079\n",
       "13   3   1  5.978509  0.840395  6.818905\n",
       "12   3   0  4.418440  0.886321  5.304762\n",
       "7    1   3  4.574768  0.955456  5.530224\n",
       "10   2   2  5.655136  1.086135  6.741271\n",
       "17   4   1  5.865614  1.248659  7.114274\n",
       "5    1   1  4.622978  1.270024  5.893002\n",
       "19   4   3  5.815207  1.381492  7.196699\n",
       "3    0   3  4.765079  1.397565  6.162645\n",
       "1    0   1  5.741644  1.404062  7.145706\n",
       "14   3   2  5.147929  1.431991  6.579920\n",
       "2    0   2  4.899801  1.470048  6.369849\n",
       "22   5   2  5.575068  1.482865  7.057933\n",
       "11   2   3  4.214183  1.516607  5.730790\n",
       "6    1   2  4.786135  1.541996  6.328131\n",
       "18   4   2  5.754876  1.691551  7.446427\n",
       "4    1   0  6.127742  1.707925  7.835667\n",
       "0    0   0  5.812863  1.710048  7.522911"
      ]
     },
     "execution_count": 3,
     "metadata": {},
     "output_type": "execute_result"
    }
   ],
   "source": [
    "import pandas as pd\n",
    "df_breaking_thin = pd.DataFrame(test_breaking_thin.results)\n",
    "df_breaking_thin[\"total\"] = df_breaking_thin[\"R_error\"]+df_breaking_thin[\"T_error\"]\n",
    "df_breaking_thin.sort_values('T_error')"
   ]
  },
  {
   "cell_type": "code",
   "execution_count": null,
   "id": "66016eb9",
   "metadata": {},
   "outputs": [],
   "source": [
    "df_breaking_thin"
   ]
  },
  {
   "cell_type": "code",
   "execution_count": 5,
   "id": "03c9df44",
   "metadata": {},
   "outputs": [],
   "source": [
    "test_breaking_thin.draw_registration_result_original_color(test_breaking_thin.Obj1,test_breaking_thin.Obj2,test_breaking_thin.result_transformation_arr[9][2])"
   ]
  },
  {
   "cell_type": "code",
   "execution_count": 6,
   "id": "5a2bda28",
   "metadata": {},
   "outputs": [],
   "source": [
    "test_breaking_thin.draw_registration_result_original_color(test_breaking_thin.Obj1,test_breaking_thin.Obj2,np.eye(4))"
   ]
  },
  {
   "cell_type": "code",
   "execution_count": null,
   "id": "05292f31",
   "metadata": {},
   "outputs": [],
   "source": [
    "test_breaking_thin.draw_registration_result_original_color(test_breaking_thin.Obj1,test_breaking_thin.Obj2,test_breaking_thin.RM_ground)"
   ]
  },
  {
   "cell_type": "code",
   "execution_count": 8,
   "id": "45b10bba",
   "metadata": {},
   "outputs": [
    {
     "name": "stdout",
     "output_type": "stream",
     "text": [
      "saved\n"
     ]
    }
   ],
   "source": [
    "save(\"test_breaking_thin\",test_breaking_thin,9)"
   ]
  },
  {
   "cell_type": "code",
   "execution_count": null,
   "id": "7a076514",
   "metadata": {},
   "outputs": [],
   "source": [
    "import ast\n",
    "\n",
    "from runner import test\n",
    "import numpy as np\n",
    "\n",
    "number = 192\n",
    "\n",
    "#objects\n",
    "Obj1_url = \"data_test/pairs_everyday/BeerBottle/fractured_79/piece_0.obj\"\n",
    "Obj2_url = \"data_test/pairs_everyday/BeerBottle/fractured_79/piece_1.obj\"\n",
    "\n",
    "#Before Evaluate do a Rotation and translation of\n",
    "init_R_T = ((0.2, 0.2, 0.1), (-0.5, -0.5, -0.5))\n",
    "\n",
    "\n",
    "#pipline name and pipline parameters\n",
    "pipline_name = \"pipline_breaking\"\n",
    "\n",
    "\n",
    "N = 15\n",
    "t1 = 2\n",
    "t2 = 100\n",
    "t3 = 100\n",
    "\n",
    "Obj_url = \"data_test/pairwise/repair_group8_pair1/RPf_00059_gt.ply\"\n",
    "#threshold for corner\n",
    "thre = 0.95\n",
    "\n",
    "pipline_variables = (N, t1, t2, t3, thre)\n",
    "\n",
    "#test\n",
    "test_name = \"ICP_test\"\n",
    "\n",
    "# eval \n",
    "\n",
    "eval_list = [\"rms\"]\n",
    "\n",
    "test_breaking_3 = test(Obj2_url, Obj1_url, init_R_T, pipline_name, pipline_variables, test_name, eval_list, show_results = True, save_results=False)\n",
    "\n",
    "my_results = test_breaking_3.run()"
   ]
  },
  {
   "cell_type": "code",
   "execution_count": null,
   "id": "03250405",
   "metadata": {},
   "outputs": [],
   "source": [
    "d2 = {\"b\":10}"
   ]
  },
  {
   "cell_type": "code",
   "execution_count": null,
   "id": "1ff203ee",
   "metadata": {},
   "outputs": [],
   "source": [
    "import open3d as o3d\n",
    "import numpy as np\n",
    "\n",
    "for obj in test_breaking_2.Obj1_array:\n",
    "        points_u = []\n",
    "        tmp_tree = o3d.geometry.KDTreeFlann(obj.pcd)\n",
    "        for i in range(len(obj.pcd.points)):\n",
    "                point = obj.pcd.points[i]\n",
    "                [k, idx, _] = tmp_tree.search_knn_vector_3d(point,2)\n",
    "                q_points = np.asarray(obj.pcd.points).take(idx,axis=0)\n",
    "                points_u.append(np.mean(np.abs(q_points[1:] - point)))\n",
    "        print(np.mean(points_u))"
   ]
  },
  {
   "cell_type": "code",
   "execution_count": null,
   "id": "e7b9bd8e",
   "metadata": {},
   "outputs": [],
   "source": [
    "import open3d as o3d\n",
    "import numpy as np\n",
    "for obj in test_breaking_2.Obj2_array:\n",
    "        points_u = []\n",
    "        tmp_tree = o3d.geometry.KDTreeFlann(obj.pcd)\n",
    "        for i in range(len(obj.pcd.points)):\n",
    "                point = obj.pcd.points[i]\n",
    "                [k, idx, _] = tmp_tree.search_knn_vector_3d(point,2)\n",
    "                q_points = np.asarray(obj.pcd.points).take(idx,axis=0)\n",
    "                points_u.append(np.mean(np.abs(q_points[1:] - point)))\n",
    "        print(np.mean(points_u))"
   ]
  },
  {
   "cell_type": "code",
   "execution_count": null,
   "id": "4629b1b0",
   "metadata": {},
   "outputs": [],
   "source": [
    "def get_winner(test):\n",
    "    import scipy\n",
    "    from copy import copy\n",
    "    i = 0\n",
    "    winner_index = -1\n",
    "    winner_value = 10000000\n",
    "    arr = []\n",
    "    for o1,o2,R_T in test.result_transformation_arr:\n",
    "    #     print(o1,o2)\n",
    "        obj1 = test.Obj1_array[o1]\n",
    "        obj2 = test.Obj2_array[o2]\n",
    "        obj2_tmp = copy(obj2)\n",
    "        obj2_tmp.pcd = copy(obj2.pcd)\n",
    "        obj2_tmp.pcd.transform(R_T)\n",
    "    #     print(scipy.spatial.distance.directed_hausdorff(list(obj2_tmp.pcd.points), list(obj1.pcd.points), seed=0))\n",
    "    #     print(scipy.spatial.distance.directed_hausdorff(list(obj1.pcd.points),list(obj2_tmp.pcd.points) , seed=0))\n",
    "        chamfer_value = chamfer_distance(list(obj2_tmp.pcd.points),list(obj1.pcd.points))\n",
    "        arr.append({\"index\":i,\"o1\":o1,\"o2\":o2,\"chamfer\":chamfer_value})\n",
    "        if winner_value>chamfer_value:\n",
    "            winner_index = i\n",
    "            winner_value = chamfer_value\n",
    "        i+=1\n",
    "    chamfer_df = pd.DataFrame(arr)\n",
    "    return chamfer_df.sort_values('chamfer')"
   ]
  },
  {
   "cell_type": "code",
   "execution_count": null,
   "id": "733c976e",
   "metadata": {},
   "outputs": [],
   "source": [
    "import numpy as np\n",
    "from sklearn.neighbors import NearestNeighbors\n",
    "\n",
    "\n",
    "def chamfer_distance(x, y, metric='l2', direction='bi'):\n",
    "    \"\"\"Chamfer distance between two point clouds\n",
    "    Parameters\n",
    "    ----------\n",
    "    x: numpy array [n_points_x, n_dims]\n",
    "        first point cloud\n",
    "    y: numpy array [n_points_y, n_dims]\n",
    "        second point cloud\n",
    "    metric: string or callable, default ‘l2’\n",
    "        metric to use for distance computation. Any metric from scikit-learn or scipy.spatial.distance can be used.\n",
    "    direction: str\n",
    "        direction of Chamfer distance.\n",
    "            'y_to_x':  computes average minimal distance from every point in y to x\n",
    "            'x_to_y':  computes average minimal distance from every point in x to y\n",
    "            'bi': compute both\n",
    "    Returns\n",
    "    -------\n",
    "    chamfer_dist: float\n",
    "        computed bidirectional Chamfer distance:\n",
    "            sum_{x_i \\in x}{\\min_{y_j \\in y}{||x_i-y_j||**2}} + sum_{y_j \\in y}{\\min_{x_i \\in x}{||x_i-y_j||**2}}\n",
    "    \"\"\"\n",
    "    \n",
    "    if direction=='y_to_x':\n",
    "        x_nn = NearestNeighbors(n_neighbors=1, leaf_size=1, algorithm='kd_tree', metric=metric).fit(x)\n",
    "        min_y_to_x = x_nn.kneighbors(y)[0]\n",
    "        chamfer_dist = np.mean(min_y_to_x)\n",
    "    elif direction=='x_to_y':\n",
    "        y_nn = NearestNeighbors(n_neighbors=1, leaf_size=1, algorithm='kd_tree', metric=metric).fit(y)\n",
    "        min_x_to_y = y_nn.kneighbors(x)[0]\n",
    "        chamfer_dist = np.mean(min_x_to_y)\n",
    "    elif direction=='bi':\n",
    "        x_nn = NearestNeighbors(n_neighbors=1, leaf_size=1, algorithm='kd_tree', metric=metric).fit(x)\n",
    "        min_y_to_x = x_nn.kneighbors(y)[0]\n",
    "        y_nn = NearestNeighbors(n_neighbors=1, leaf_size=1, algorithm='kd_tree', metric=metric).fit(y)\n",
    "        min_x_to_y = y_nn.kneighbors(x)[0]\n",
    "        chamfer_dist = np.mean(min_y_to_x) + np.mean(min_x_to_y)\n",
    "    else:\n",
    "        raise ValueError(\"Invalid direction type. Supported types: \\'y_x\\', \\'x_y\\', \\'bi\\'\")\n",
    "        \n",
    "    return chamfer_dist"
   ]
  },
  {
   "cell_type": "code",
   "execution_count": null,
   "id": "47d9fc39",
   "metadata": {},
   "outputs": [],
   "source": []
  }
 ],
 "metadata": {
  "kernelspec": {
   "display_name": ".env",
   "language": "python",
   "name": ".env"
  },
  "language_info": {
   "codemirror_mode": {
    "name": "ipython",
    "version": 3
   },
   "file_extension": ".py",
   "mimetype": "text/x-python",
   "name": "python",
   "nbconvert_exporter": "python",
   "pygments_lexer": "ipython3",
   "version": "3.9.0"
  }
 },
 "nbformat": 4,
 "nbformat_minor": 5
}
