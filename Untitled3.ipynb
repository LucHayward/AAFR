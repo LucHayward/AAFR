{
 "cells": [
  {
   "cell_type": "code",
   "execution_count": null,
   "id": "b13fc381",
   "metadata": {},
   "outputs": [],
   "source": [
    "import pandas as pd"
   ]
  },
  {
   "cell_type": "code",
   "execution_count": null,
   "id": "dda19ba9",
   "metadata": {},
   "outputs": [],
   "source": [
    "df = pd.read_csv(\"results/results.csv\")"
   ]
  },
  {
   "cell_type": "code",
   "execution_count": null,
   "id": "f6fc5d60",
   "metadata": {},
   "outputs": [],
   "source": [
    "asd = df.groupby(['obj1', 'obj2'])[\"Total_error\"].idxmin()"
   ]
  },
  {
   "cell_type": "code",
   "execution_count": null,
   "id": "e8ebaba5",
   "metadata": {
    "scrolled": true
   },
   "outputs": [],
   "source": [
    "df.iloc[asd][['obj1', 'obj2',\"R & T\",\"R_error\",\"T_error\",\"Total_error\"]]"
   ]
  },
  {
   "cell_type": "code",
   "execution_count": null,
   "id": "08d29148",
   "metadata": {},
   "outputs": [],
   "source": [
    "def save(name,test,number):\n",
    "    import os\n",
    "    from copy import deepcopy\n",
    "    import open3d as o3d\n",
    "    # Directory\n",
    "    directory = name\n",
    "\n",
    "    # Parent Directory path\n",
    "    parent_dir = \"results/\"\n",
    "\n",
    "    # Path\n",
    "    path = os.path.join(parent_dir, directory)\n",
    "\n",
    "    os.mkdir(path)\n",
    "    \n",
    "    \n",
    "    path_error = os.path.join(path, \"error.csv\")\n",
    "    \n",
    "    df_test = pd.DataFrame(test.results)\n",
    "    df_test[\"total\"] = df_test[\"R_error\"]+df_test[\"T_error\"]\n",
    "    df_test[\"transformations\"] = [el[2] for el in test.result_transformation_arr]\n",
    "    df_test.to_csv(path_error, encoding='utf-8')\n",
    "    \n",
    "    idx = number\n",
    "    \n",
    "    \n",
    "    pcd1 = deepcopy(test.Obj1.pcd)\n",
    "    pcd2 = deepcopy(test.Obj2.pcd)\n",
    "    pcd1.colors = o3d.utility.Vector3dVector(np.asarray([(0,1,0) for _ in pcd1.points]).astype(\"float\"))\n",
    "    pcd2.colors = o3d.utility.Vector3dVector(np.asarray([(0,0,1) for _ in pcd2.points]).astype(\"float\"))\n",
    "    pcd2.transform(np.eye(4))\n",
    "    o3d.io.write_point_cloud(os.path.join(path, \"Obj1_before.ply\"), pcd1, compressed=True)\n",
    "    o3d.io.write_point_cloud(os.path.join(path, \"Obj2_before.ply\"), pcd2, compressed=True)\n",
    "\n",
    "    pcd2.transform(test.result_transformation_arr[idx][2])\n",
    "    o3d.io.write_point_cloud(os.path.join(path, \"Obj1_after.ply\"), pcd1, compressed=True)\n",
    "    o3d.io.write_point_cloud(os.path.join(path, \"Obj2_after.ply\"), pcd2, compressed=True)\n",
    "    print(\"saved\")\n",
    "    \n",
    "    "
   ]
  },
  {
   "cell_type": "code",
   "execution_count": null,
   "id": "7a6cbc78",
   "metadata": {},
   "outputs": [],
   "source": [
    "def save_arr(name,test):\n",
    "    import os\n",
    "    from copy import deepcopy\n",
    "    import open3d as o3d\n",
    "    # Directory\n",
    "    directory = name\n",
    "\n",
    "    # Parent Directory path\n",
    "    parent_dir = \"results/\"\n",
    "\n",
    "    # Path\n",
    "    path = os.path.join(parent_dir, directory)\n",
    "\n",
    "    os.mkdir(path)\n",
    "    for i,(obj1,obj2) in enumerate(zip(test.Obj1_array,test.Obj1_array)):\n",
    "        pcd1 = deepcopy(obj1.pcd)\n",
    "        pcd2 = deepcopy(obj2.pcd)\n",
    "        pcd1.colors = o3d.utility.Vector3dVector(np.asarray([(0,1,0) for _ in pcd1.points]).astype(\"float\"))\n",
    "        pcd2.colors = o3d.utility.Vector3dVector(np.asarray([(0,0,1) for _ in pcd2.points]).astype(\"float\"))\n",
    "        pcd2.transform(np.eye(4))\n",
    "        o3d.io.write_point_cloud(os.path.join(path, str(i)+\"_Obj1.ply\"), pcd1, compressed=True)\n",
    "        o3d.io.write_point_cloud(os.path.join(path, str(i)+\"Obj2.ply\"), pcd2, compressed=True)\n",
    "    print(\"saved\")\n",
    "    \n",
    "    "
   ]
  },
  {
   "cell_type": "code",
   "execution_count": null,
   "id": "b5a1725c",
   "metadata": {},
   "outputs": [],
   "source": [
    "from runner import test\n",
    "import numpy as np\n",
    "\n",
    "#objects\n",
    "Obj1_url = df.iloc[384][\"obj2\"]\n",
    "Obj2_url = df.iloc[384][\"obj1\"]\n",
    "\n",
    "#Before Evaluate do a Rotation and translation of\n",
    "init_R_T = ast.literal_eval(df.iloc[384][\"R & T\"])\n",
    "\n",
    "\n",
    "#pipline name and pipline parameters\n",
    "pipline_name = df.iloc[384][\"pipeline\"]\n",
    "\n",
    "\n",
    "pipline_variables = ast.literal_eval(df.iloc[384][\"params\"])\n",
    "\n",
    "#test\n",
    "test_name = df.iloc[384][\"test\"]\n",
    "\n",
    "# eval \n",
    "\n",
    "eval_list = [\"rms\"]\n",
    "\n",
    "test1 = test(Obj2_url, Obj1_url, init_R_T, pipline_name, pipline_variables, test_name, eval_list, show_results = True, save_results=False)\n",
    "\n",
    "my_results = test1.run()"
   ]
  },
  {
   "cell_type": "code",
   "execution_count": null,
   "id": "5c2805ad",
   "metadata": {},
   "outputs": [],
   "source": [
    "test1.draw_registration_result_original_color(test1.Obj2,test1.Obj1,test1.result_transformation_arr[0][2])"
   ]
  },
  {
   "cell_type": "code",
   "execution_count": null,
   "id": "a4185961",
   "metadata": {},
   "outputs": [],
   "source": [
    "from runner import test\n",
    "import numpy as np\n",
    "\n",
    "#objects\n",
    "Obj1_url = df.iloc[273][\"obj2\"]\n",
    "Obj2_url = df.iloc[273][\"obj1\"]\n",
    "\n",
    "#Before Evaluate do a Rotation and translation of\n",
    "init_R_T = ast.literal_eval(df.iloc[273][\"R & T\"])\n",
    "\n",
    "\n",
    "#pipline name and pipline parameters\n",
    "pipline_name = df.iloc[273][\"pipeline\"]\n",
    "\n",
    "\n",
    "pipline_variables = ast.literal_eval(df.iloc[273][\"params\"])\n",
    "\n",
    "#test\n",
    "test_name = df.iloc[273][\"test\"]\n",
    "\n",
    "# eval \n",
    "\n",
    "eval_list = [\"rms\"]\n",
    "\n",
    "test2 = test(Obj2_url, Obj1_url, init_R_T, pipline_name, pipline_variables, test_name, eval_list, show_results = True, save_results=False)\n",
    "\n",
    "my_results = test2.run()"
   ]
  },
  {
   "cell_type": "code",
   "execution_count": null,
   "id": "f68b0508",
   "metadata": {},
   "outputs": [],
   "source": [
    "test2.draw_registration_result_original_color(test1.Obj2,test1.Obj1,np.eye(4))"
   ]
  },
  {
   "cell_type": "code",
   "execution_count": null,
   "id": "efe58da3",
   "metadata": {},
   "outputs": [],
   "source": [
    "test2.draw_registration_result_original_color(test1.Obj2,test1.Obj1,test1.result_transformation_arr[0][2])"
   ]
  },
  {
   "cell_type": "code",
   "execution_count": null,
   "id": "0a759545",
   "metadata": {},
   "outputs": [],
   "source": [
    "from runner import test\n",
    "import numpy as np\n",
    "\n",
    "#objects\n",
    "Obj1_url = df.iloc[455][\"obj2\"]\n",
    "Obj2_url = df.iloc[455][\"obj1\"]\n",
    "\n",
    "#Before Evaluate do a Rotation and translation of\n",
    "init_R_T = ast.literal_eval(df.iloc[455][\"R & T\"])\n",
    "\n",
    "\n",
    "#pipline name and pipline parameters\n",
    "pipline_name = df.iloc[455][\"pipeline\"]\n",
    "\n",
    "\n",
    "pipline_variables = ast.literal_eval(df.iloc[273][\"params\"])\n",
    "\n",
    "#test\n",
    "test_name = df.iloc[455][\"test\"]\n",
    "\n",
    "# eval \n",
    "\n",
    "eval_list = [\"rms\"]\n",
    "\n",
    "test4 = test(Obj2_url, Obj1_url, init_R_T, pipline_name, pipline_variables, test_name, eval_list, show_results = True, save_results=False)\n",
    "\n",
    "my_results = test4.run()"
   ]
  },
  {
   "cell_type": "code",
   "execution_count": null,
   "id": "2b3d12a3",
   "metadata": {},
   "outputs": [],
   "source": [
    "test4.draw_registration_result_original_color(test4.Obj2,test4.Obj1,np.eye(4))"
   ]
  },
  {
   "cell_type": "code",
   "execution_count": null,
   "id": "020fbd8f",
   "metadata": {},
   "outputs": [],
   "source": [
    "test4.draw_registration_result_original_color(test4.Obj2,test4.Obj1,test4.result_transformation_arr[0][2])"
   ]
  },
  {
   "cell_type": "code",
   "execution_count": null,
   "id": "304935b6",
   "metadata": {},
   "outputs": [],
   "source": [
    "from runner import test\n",
    "import numpy as np\n",
    "\n",
    "#objects\n",
    "Obj1_url = df.iloc[180][\"obj2\"]\n",
    "Obj2_url = df.iloc[180][\"obj1\"]\n",
    "\n",
    "#Before Evaluate do a Rotation and translation of\n",
    "init_R_T = ast.literal_eval(df.iloc[180][\"R & T\"])\n",
    "\n",
    "\n",
    "#pipline name and pipline parameters\n",
    "pipline_name = df.iloc[180][\"pipeline\"]\n",
    "\n",
    "\n",
    "pipline_variables = ast.literal_eval(df.iloc[180][\"params\"])\n",
    "\n",
    "#test\n",
    "test_name = df.iloc[180][\"test\"]\n",
    "\n",
    "# eval \n",
    "\n",
    "eval_list = [\"rms\"]\n",
    "\n",
    "test3 = test(Obj2_url, Obj1_url, init_R_T, pipline_name, pipline_variables, test_name, eval_list, show_results = True, save_results=False)\n",
    "\n",
    "my_results = test3.run()"
   ]
  },
  {
   "cell_type": "code",
   "execution_count": null,
   "id": "d42a3510",
   "metadata": {},
   "outputs": [],
   "source": [
    "from runner import test\n",
    "import numpy as np\n",
    "\n",
    "#objects\n",
    "Obj1_url = df.iloc[521][\"obj2\"]\n",
    "Obj2_url = df.iloc[521][\"obj1\"]\n",
    "\n",
    "#Before Evaluate do a Rotation and translation of\n",
    "init_R_T = ast.literal_eval(df.iloc[521][\"R & T\"])\n",
    "\n",
    "\n",
    "#pipline name and pipline parameters\n",
    "pipline_name = df.iloc[521][\"pipeline\"]\n",
    "\n",
    "\n",
    "pipline_variables = ast.literal_eval(df.iloc[521][\"params\"])\n",
    "\n",
    "#test\n",
    "test_name = df.iloc[521][\"test\"]\n",
    "\n",
    "# eval \n",
    "\n",
    "eval_list = [\"rms\"]\n",
    "\n",
    "test5 = test(Obj2_url, Obj1_url, init_R_T, pipline_name, pipline_variables, test_name, eval_list, show_results = True, save_results=False)\n",
    "\n",
    "my_results = test5.run()"
   ]
  },
  {
   "cell_type": "code",
   "execution_count": null,
   "id": "bd9110a9",
   "metadata": {},
   "outputs": [],
   "source": [
    "test5.draw_registration_result_original_color(test5.Obj2,test5.Obj1,np.eye(4))"
   ]
  },
  {
   "cell_type": "code",
   "execution_count": null,
   "id": "32ff3691",
   "metadata": {},
   "outputs": [],
   "source": [
    "test5.draw_registration_result_original_color(test5.Obj2,test5.Obj1,test5.result_transformation_arr[0][2])"
   ]
  },
  {
   "cell_type": "code",
   "execution_count": null,
   "id": "030a7a04",
   "metadata": {},
   "outputs": [],
   "source": []
  },
  {
   "cell_type": "code",
   "execution_count": null,
   "id": "c5f05f1c",
   "metadata": {},
   "outputs": [],
   "source": [
    "# from copy import deepcopy,copy\n",
    "# import random\n",
    "\n",
    "# import open3d as o3d\n",
    "# import numpy as np\n",
    "\n",
    "# def dilate_border(my_obj,border,size):\n",
    "#     tmp_Obj = copy(my_obj)\n",
    "#     tmp_Obj.pcd = copy(my_obj.pcd)\n",
    "#     pcd_tree = o3d.geometry.KDTreeFlann(tmp_Obj.pcd)\n",
    "#     w_co = copy(tmp_Obj.w_co)\n",
    "#     new_borders = []\n",
    "#     for idx in border:\n",
    "#         point = tmp_Obj.pcd.points[idx]\n",
    "#         [k, idx, _] = pcd_tree.search_radius_vector_3d(point,size)\n",
    "#         new_borders.extend(idx)\n",
    "#     return new_borders\n",
    "\n",
    "# def get_sides(Graph, borders):\n",
    "#     faces = []\n",
    "#     all_visited = set()\n",
    "#     nodes = list(Graph.nodes)\n",
    "#     while len(nodes):\n",
    "#         random_point = nodes.pop(0)\n",
    "#         while random_point in all_visited:\n",
    "#             if not len(nodes):\n",
    "#                 sorted_faces = sorted(faces,key = lambda key:key[0], reverse = True)\n",
    "#                 return sorted_faces[:10]\n",
    "#             random_point = nodes.pop(0)\n",
    "       \n",
    "#         queue = [random_point]\n",
    "#         visited = set()\n",
    "#         while len(queue):\n",
    "#             point = queue.pop(0)\n",
    "#             if point not in visited:\n",
    "#                 visited.add(point)\n",
    "#                 all_visited.add(point)\n",
    "#                 neighbors = Graph.neighbors(point)\n",
    "#                 for neighbor in neighbors:\n",
    "#                     all_visited.add(neighbor)\n",
    "#                     if neighbor not in borders:\n",
    "#                         queue.append(neighbor)\n",
    "#         faces.append((len(visited),visited))\n",
    "#     sorted_faces = sorted(faces,key = lambda key:key[0], reverse = True)\n",
    "#     return sorted_faces[:20]\n",
    "\n",
    "# def knn_expand(Obj,my_borders,node_face,face_nodes,size):\n",
    "#     borders = deepcopy(my_borders)\n",
    "#     face_nodes_new = deepcopy(face_nodes)\n",
    "#     tree = o3d.geometry.KDTreeFlann(Obj.pcd)\n",
    "#     no_change = 0\n",
    "#     while borders:\n",
    "#         len_before = len(borders)\n",
    "        \n",
    "#         idx = borders.pop(0)\n",
    "#         point = Obj.pcd.points[idx]\n",
    "#         [k, q_idxs, _] = tree.search_knn_vector_3d(point, size)\n",
    "#         #vote \n",
    "#         my_faces = {}\n",
    "#         for q_idx in q_idxs:\n",
    "#             if q_idx not in node_face:\n",
    "#                 continue\n",
    "                \n",
    "#             if node_face[q_idx] not in my_faces:\n",
    "#                 my_faces[node_face[q_idx]] = 1\n",
    "#             else:\n",
    "#                 my_faces[node_face[q_idx]] += 1\n",
    "                \n",
    "#         if len(my_faces)==0:\n",
    "#             borders.append(idx)\n",
    "#         else:\n",
    "#             winner = max(my_faces, key=my_faces.get)\n",
    "#             face_nodes_new[winner].add(idx)\n",
    "#             node_face[idx] = winner\n",
    "            \n",
    "#         if len(borders) == len_before:\n",
    "#             no_change += 1\n",
    "#         else:\n",
    "#             no_change = 0\n",
    "        \n",
    "#         if no_change >= len_before+10000000:\n",
    "#             break\n",
    "#     print(len(borders))\n",
    "#     return face_nodes_new\n",
    "\n",
    "# def run(pipline_variables):\n",
    "    \n",
    "#     (N, shortest_cycle_length, smallest_isolated_island_length, shortest_allowed_branch_length, thre) = pipline_variables\n",
    "\n",
    "#     print(\"start\")\n",
    "#     Obj = FeatureLines(Obj_url,voxel_size=30000)\n",
    "#     # print(\"Size :\",len(Obj.pcd.points))\n",
    "#     print(\"starting init\")\n",
    "#     Obj.init(int(N))\n",
    "\n",
    "#     # print(\"Size valid :\",len(valid))\n",
    "\n",
    "#     shortest_cycle_length = np.sqrt(len(Obj.pcd.points))//shortest_cycle_length\n",
    "#     smallest_isolated_island_length = np.sqrt(len(Obj.pcd.points))//smallest_isolated_island_length\n",
    "#     shortest_allowed_branch_length = np.sqrt(len(Obj.pcd.points))//shortest_allowed_branch_length\n",
    "\n",
    "#     isolated_islands_pruned_graph, F_lines, isolated_islands = helper.create_graph(Obj, \\\n",
    "#     shortest_cycle_length, smallest_isolated_island_length)\n",
    "#     print(\"After graph\",len([point for branch in F_lines for point in branch]))\n",
    "#     pruned_graph_original, removed_nodes, valid_nodes = helper.prune_branches(F_lines,isolated_islands_pruned_graph,\\\n",
    "#     shortest_allowed_branch_length)\n",
    "#     print(\"After Pruning\",len([node for branch in valid_nodes for node in branch]))\n",
    "    \n",
    "#     print(\"constructing borders\")\n",
    "\n",
    "#     tmp_Obj = copy(Obj)\n",
    "#     tmp_Obj.pcd = copy(Obj.pcd)\n",
    "\n",
    "#     N = 30\n",
    "#     t1 = 0.1\n",
    "#     t2 = 1\n",
    "#     t3 = 0.1\n",
    "#     pipline_variables = (N, t1, t2, t3, thre)\n",
    "#     (N, shortest_cycle_length, smallest_isolated_island_length, shortest_allowed_branch_length, thre) = pipline_variables\n",
    "#     # print(\"Size valid :\",len(valid))\n",
    "#     valid = []\n",
    "#     for idx,val in enumerate(tmp_Obj.w_co):\n",
    "#         if val<thre:\n",
    "#             valid.append(idx)\n",
    "#     print(len(valid))\n",
    "#     shortest_cycle_length = np.sqrt(len(valid))//shortest_cycle_length\n",
    "#     smallest_isolated_island_length = np.sqrt(len(valid))//smallest_isolated_island_length\n",
    "#     shortest_allowed_branch_length = np.sqrt(len(valid))//shortest_allowed_branch_length\n",
    "#     print(\"shortest_allowed_branch_length\",shortest_allowed_branch_length)\n",
    "#     print(\"smallest_isolated_island_length\",smallest_isolated_island_length)\n",
    "#     print(\"shortest_cycle_length\",shortest_cycle_length)\n",
    "#     isolated_islands_pruned_graph, F_lines, isolated_islands = helper.create_graph(tmp_Obj, \\\n",
    "#     shortest_cycle_length, smallest_isolated_island_length,mask=valid,radius=None)\n",
    "#     print(\"After graph\",len([point for branch in F_lines for point in branch]))\n",
    "#     pruned_graph, removed_nodes, valid_nodes = helper.prune_branches(F_lines,isolated_islands_pruned_graph,\\\n",
    "#     shortest_allowed_branch_length)\n",
    "#     print(\"After Pruning\",len([node for branch in valid_nodes for node in branch]))\n",
    "    \n",
    "#     print(\"dilation and segmentation\")\n",
    "    \n",
    "#     border_nodes = [node for branch in valid_nodes for node in branch]\n",
    "    \n",
    "#     dilated_border = dilate_border(Obj,border_nodes,2)\n",
    "    \n",
    "#     dilated_faces = get_sides(pruned_graph_original, dilated_border)\n",
    "    \n",
    "    \n",
    "    \n",
    "#     node_face = {}\n",
    "#     face_nodes = []\n",
    "#     for idx,(_,face) in enumerate(dilated_faces):\n",
    "#         for node in face:\n",
    "#             node_face[node] = idx\n",
    "#         face_nodes.append(face)\n",
    "#     for key,value in node_face.items():\n",
    "#         if value>=10:\n",
    "#             print(value)\n",
    "\n",
    "#     all_dilated = [node for  _,face in dilated_faces for node in face]\n",
    "#     all_dilated.extend([node for node in dilated_border])\n",
    "    \n",
    "    \n",
    "#     left_overs = list(set(range(len(Obj.pcd.points)))-set(all_dilated))\n",
    "#     border_left_overs = left_overs+dilated_border\n",
    "    \n",
    "    \n",
    "#     expanded_faces = knn_expand(Obj,border_left_overs,node_face,face_nodes,size=15)\n",
    "    \n",
    "    \n",
    "#     Objects = []\n",
    "#     for expanded_face in expanded_faces:\n",
    "#         mask = np.isin(np.arange(0, len(Obj.pcd.points), 1).tolist(),[node for node in expanded_face])\n",
    "#         Obj_tmp = copy(Obj)\n",
    "#         Obj_tmp.pcd = copy(Obj.pcd)\n",
    "#         Obj_tmp.pcd.points = o3d.utility.Vector3dVector(np.asarray(Obj.pcd.points)[mask])\n",
    "#         Objects.append(Obj_tmp)\n",
    "\n",
    "#     colors = [(0,255,0) for _ in Obj.pcd.points]\n",
    "#     for face in expanded_faces:\n",
    "#         color = tuple(random.choices(range(256), k=3))\n",
    "#         for point in face:\n",
    "#             colors[point] = color\n",
    "#     Obj.pcd.colors = o3d.utility.Vector3dVector(np.asarray(colors).astype(np.float) / 255.0)\n",
    "#     o3d.visualization.draw_geometries([Obj.pcd])\n",
    "    \n",
    "#     return Objects"
   ]
  },
  {
   "cell_type": "code",
   "execution_count": null,
   "id": "5048ba2d",
   "metadata": {},
   "outputs": [],
   "source": [
    "# import helper\n",
    "# import pipline_modules.pipline_1 as pipeline\n",
    "# from Fragment import FeatureLines \n",
    "# import numpy as np\n",
    "# #Before Evaluate do a Rotation and translation of\n",
    "# init_R_T = [( 0 , 0 , 0),( -0.2, 0, 0 )]\n",
    "\n",
    "\n",
    "# #pipline name and pipline parameters\n",
    "# pipline_name = \"pipline_1\"\n",
    "\n",
    "# N = 50\n",
    "# t1 = 2\n",
    "# t2 = 100\n",
    "# t3 = 100\n",
    "\n",
    "# Obj_url = \"data_test/pairwise/repair_group8_pair1/RPf_00059_gt.ply\"\n",
    "# #threshold for corner\n",
    "# thre = 0.95\n",
    "\n",
    "# pipline_variables = (N, t1, t2, t3, thre)"
   ]
  },
  {
   "cell_type": "code",
   "execution_count": null,
   "id": "719bdd88",
   "metadata": {
    "scrolled": true
   },
   "outputs": [],
   "source": [
    "# Original_obj, array_objs = run(pipline_variables)"
   ]
  },
  {
   "cell_type": "code",
   "execution_count": null,
   "id": "e29bebe8",
   "metadata": {},
   "outputs": [],
   "source": [
    "ast.literal_eval(df.iloc[number][\"R & T\"])"
   ]
  },
  {
   "cell_type": "code",
   "execution_count": null,
   "id": "200ba17f",
   "metadata": {},
   "outputs": [],
   "source": [
    "import ast\n",
    "\n",
    "from runner import test\n",
    "import numpy as np\n",
    "\n",
    "number = 48\n",
    "\n",
    "#objects\n",
    "Obj1_url = df.iloc[number][\"obj2\"]\n",
    "Obj2_url = df.iloc[number][\"obj1\"]\n",
    "\n",
    "#Before Evaluate do a Rotation and translation of\n",
    "init_R_T = ((0.2, 0.2, 0.1), (0.01, 0.01, 0.01))\n",
    "\n",
    "\n",
    "#pipline name and pipline parameters\n",
    "pipline_name = \"pipline_3\"\n",
    "\n",
    "\n",
    "N = 15\n",
    "t1 = 2\n",
    "t2 = 100\n",
    "t3 = 100\n",
    "\n",
    "Obj_url = \"data_test/pairwise/repair_group8_pair1/RPf_00059_gt.ply\"\n",
    "#threshold for corner\n",
    "thre = 0.985\n",
    "\n",
    "pipline_variables = (N, t1, t2, t3, thre)\n",
    "\n",
    "#test\n",
    "test_name = \"pairwise\"\n",
    "\n",
    "# eval \n",
    "\n",
    "eval_list = [\"rms\"]\n",
    "\n",
    "test2_tmp = test(Obj2_url, Obj1_url, init_R_T, pipline_name, pipline_variables, test_name, eval_list, show_results = True, save_results=False)\n",
    "\n",
    "my_results = test2_tmp.run()"
   ]
  },
  {
   "cell_type": "code",
   "execution_count": null,
   "id": "193a491b",
   "metadata": {},
   "outputs": [],
   "source": [
    "df = pd.DataFrame(test2_tmp.results)\n",
    "df[\"total\"] = df[\"R_error\"]+df[\"T_error\"]\n",
    "df.sort_values('total')"
   ]
  },
  {
   "cell_type": "code",
   "execution_count": null,
   "id": "6e6b246b",
   "metadata": {},
   "outputs": [],
   "source": [
    "df = pd.DataFrame(test2_tmp.results)\n",
    "df[\"total\"] = df[\"R_error\"]+df[\"T_error\"]\n",
    "df.sort_values('total')"
   ]
  },
  {
   "cell_type": "code",
   "execution_count": null,
   "id": "7b57bc49",
   "metadata": {},
   "outputs": [],
   "source": [
    "test2_tmp.draw_registration_result_original_color(test2_tmp.Obj2,test2_tmp.Obj1,np.eye(4))"
   ]
  },
  {
   "cell_type": "code",
   "execution_count": null,
   "id": "03f5a4ae",
   "metadata": {
    "scrolled": true
   },
   "outputs": [],
   "source": [
    "import ast\n",
    "\n",
    "from runner import test\n",
    "import numpy as np\n",
    "\n",
    "number = 48\n",
    "\n",
    "#objects\n",
    "Obj1_url = df.iloc[number][\"obj2\"]\n",
    "Obj2_url = df.iloc[number][\"obj1\"]\n",
    "\n",
    "#Before Evaluate do a Rotation and translation of\n",
    "init_R_T = ((0.2, 0.2, 0.1), (0.01, 0 , 0))\n",
    "\n",
    "\n",
    "#pipline name and pipline parameters\n",
    "pipline_name = \"pipline_1\"\n",
    "\n",
    "\n",
    "N = 15\n",
    "t1 = 2\n",
    "t2 = 100\n",
    "t3 = 100\n",
    "\n",
    "Obj_url = \"data_test/pairwise/repair_group8_pair1/RPf_00059_gt.ply\"\n",
    "#threshold for corner\n",
    "thre = 0.985\n",
    "\n",
    "pipline_variables = (N, t1, t2, t3, thre)\n",
    "\n",
    "#test\n",
    "test_name = \"ICP_test\"\n",
    "\n",
    "# eval \n",
    "\n",
    "eval_list = [\"rms\"]\n",
    "\n",
    "test1_tmp = test(Obj2_url, Obj1_url, init_R_T, pipline_name, pipline_variables, test_name, eval_list, show_results = True, save_results=True)\n",
    "\n",
    "my_results = test1_tmp.run()"
   ]
  },
  {
   "cell_type": "code",
   "execution_count": null,
   "id": "8e9e380f",
   "metadata": {},
   "outputs": [],
   "source": [
    "test1_tmp.draw_registration_result_original_color(test1_tmp.Obj1,test1_tmp.Obj2,test1_tmp.result_transformation_arr[0])"
   ]
  },
  {
   "cell_type": "code",
   "execution_count": null,
   "id": "7747d9ba",
   "metadata": {},
   "outputs": [],
   "source": [
    "df.iloc[180][\"pipeline\"]"
   ]
  },
  {
   "cell_type": "code",
   "execution_count": null,
   "id": "cbd6f4fe",
   "metadata": {},
   "outputs": [],
   "source": [
    "4.845879%np.pi"
   ]
  },
  {
   "cell_type": "code",
   "execution_count": null,
   "id": "c37b3a0b",
   "metadata": {},
   "outputs": [],
   "source": [
    "test1_tmp.save_test()"
   ]
  },
  {
   "cell_type": "code",
   "execution_count": null,
   "id": "64f0d740",
   "metadata": {},
   "outputs": [],
   "source": [
    "# import ast\n",
    "# import pickle\n",
    "# from runner import test\n",
    "# import numpy as np\n",
    "\n",
    "# number = 180\n",
    "\n",
    "# #objects\n",
    "# Obj1_url = df.iloc[number][\"obj2\"]\n",
    "# Obj2_url = df.iloc[number][\"obj1\"]\n",
    "\n",
    "# #Before Evaluate do a Rotation and translation of\n",
    "# init_R_T = ((0.2, 0.2, 0.1), (0.01, 0 , 0))\n",
    "\n",
    "\n",
    "# #pipline name and pipline parameters\n",
    "# pipline_name = \"pipline_1\"\n",
    "\n",
    "\n",
    "# N = 15\n",
    "# t1 = 2\n",
    "# t2 = 100\n",
    "# t3 = 100\n",
    "\n",
    "# Obj_url = \"data_test/pairwise/repair_group8_pair1/RPf_00059_gt.ply\"\n",
    "# #threshold for corner\n",
    "# thre = 0.985\n",
    "\n",
    "# pipline_variables = (N, t1, t2, t3, thre)\n",
    "\n",
    "# #test\n",
    "# test_name = \"ICP_test\"\n",
    "\n",
    "# # eval \n",
    "\n",
    "# eval_list = [\"rms\"]\n",
    "\n",
    "# test_vars = [test1_tmp.Obj1_url, test1_tmp.Obj2_url,test1_tmp.pipline_variables, test1_tmp.init_R_T,\\\n",
    "#  test1_tmp.pipline_name, test1_tmp.test_name, test1_tmp.test_name, eval_list, True, True,\\\n",
    "#  test1_tmp.results_path, test1_tmp.result_transformation_arr, test1_tmp.results]\n",
    "# # pipline_module = open(str(\"pipline_modules/\"+self.pipline_name+\".py\"), \"r\")\n",
    "# # test_vars.append(pipline_module.read())\n",
    "# pipline_module = open(str(\"pipline_modules/\"+test1_tmp.pipline_name+\".py\"), \"r\")\n",
    "# test_vars.append(pipline_module.read())\n",
    "\n",
    "# test_module = open(str(\"test_modules/\"+test1_tmp.test_name+\".py\"), \"r\")\n",
    "# test_vars.append(test_module.read())\n",
    "# file = open('my_ob', 'wb')\n",
    "# pickle.dump(test_vars, file)\n",
    "# file.close()"
   ]
  },
  {
   "cell_type": "code",
   "execution_count": null,
   "id": "c39d94e8",
   "metadata": {},
   "outputs": [],
   "source": [
    "# objectRep = open(\"my_ob\", \"rb\")\n",
    "# test1_tmp.Obj1_url, test1_tmp.Obj2_url,test1_tmp.pipline_variables, test1_tmp.init_R_T,\\\n",
    "#  test1_tmp.pipline_name, test1_tmp.test_name, test1_tmp.test_name, eval_list, save_results, show_results,\\\n",
    "#  test1_tmp.results_path, test1_tmp.result_transformation_arr, test1_tmp.results, pip_code, test_code = pickle.load(objectRep)"
   ]
  },
  {
   "cell_type": "code",
   "execution_count": null,
   "id": "7295f1ba",
   "metadata": {},
   "outputs": [],
   "source": [
    "import sys,imp,os\n",
    "test1_tmp.pipline_module = imp.new_module(pip_code)\n",
    "exec(pip_code, test1_tmp.pipline_module.__dict__)\n",
    "\n",
    "test1_tmp.test_module = imp.new_module(test_code)\n",
    "exec(test_code, test1_tmp.test_module.__dict__)\n"
   ]
  },
  {
   "cell_type": "code",
   "execution_count": null,
   "id": "a45e9772",
   "metadata": {},
   "outputs": [],
   "source": [
    "import ast\n",
    "\n",
    "from runner import test\n",
    "import numpy as np\n",
    "\n",
    "number = 180\n",
    "\n",
    "#objects\n",
    "Obj1_url = df.iloc[number][\"obj1\"]\n",
    "Obj2_url = df.iloc[number][\"obj2\"]\n",
    "\n",
    "#Before Evaluate do a Rotation and translation of\n",
    "init_R_T = ((0.2, 0.2, 0.1), (0.2, 0.2, 0.2))\n",
    "\n",
    "\n",
    "#pipline name and pipline parameters\n",
    "pipline_name = \"pipline_3\"\n",
    "\n",
    "\n",
    "N = 15\n",
    "t1 = 2\n",
    "t2 = 100\n",
    "t3 = 100\n",
    "\n",
    "Obj_url = \"data_test/pairwise/repair_group8_pair1/RPf_00059_gt.ply\"\n",
    "#threshold for corner\n",
    "thre = 0.98\n",
    "\n",
    "pipline_variables = (N, t1, t2, t3, thre)\n",
    "\n",
    "#test\n",
    "test_name = \"ICP_test\"\n",
    "\n",
    "# eval \n",
    "\n",
    "eval_list = [\"rms\"]\n",
    "\n",
    "test_brick_2 = test(Obj2_url, Obj1_url, init_R_T, pipline_name, pipline_variables, test_name, eval_list, show_results = True, save_results=False)\n",
    "\n",
    "my_results = test_brick_2.run()"
   ]
  },
  {
   "cell_type": "code",
   "execution_count": null,
   "id": "4a38e49b",
   "metadata": {},
   "outputs": [],
   "source": [
    "df_brick = pd.DataFrame(test_brick_2.results)\n",
    "df_brick[\"total\"] = df_brick[\"R_error\"]+df_brick[\"T_error\"]\n",
    "df_brick.sort_values('T_error')"
   ]
  },
  {
   "cell_type": "code",
   "execution_count": null,
   "id": "f7ca781a",
   "metadata": {},
   "outputs": [],
   "source": [
    "# df_brick = pd.DataFrame(test_brick_2.results)\n",
    "# df_brick[\"total\"] = df_brick[\"R_error\"]+df_brick[\"T_error\"]\n",
    "# df_brick.sort_values('total')"
   ]
  },
  {
   "cell_type": "code",
   "execution_count": null,
   "id": "b2e8578e",
   "metadata": {},
   "outputs": [],
   "source": [
    "test_brick_2.draw_registration_result_original_color(test_brick_2.Obj1,test_brick_2.Obj2,test_brick_2.result_transformation_arr[4][2])"
   ]
  },
  {
   "cell_type": "code",
   "execution_count": null,
   "id": "13d5e7e1",
   "metadata": {},
   "outputs": [],
   "source": [
    "test_brick_2.draw_registration_result_original_color(test_brick_2.Obj1,test_brick_2.Obj2,np.eye(4))"
   ]
  },
  {
   "cell_type": "code",
   "execution_count": null,
   "id": "8fd98472",
   "metadata": {},
   "outputs": [],
   "source": [
    "test_brick_2.draw_registration_result_original_color(test_brick_2.Obj1,test_brick_2.Obj2,test_brick_2.RM_ground)"
   ]
  },
  {
   "cell_type": "code",
   "execution_count": null,
   "id": "d00dcd1a",
   "metadata": {},
   "outputs": [],
   "source": [
    "save(\"test_brick_2\",test_brick_2,8)"
   ]
  },
  {
   "cell_type": "code",
   "execution_count": null,
   "id": "4283652a",
   "metadata": {},
   "outputs": [],
   "source": [
    "number = 68\n",
    "\n",
    "#objects\n",
    "Obj1_url = df.iloc[number][\"obj2\"]\n",
    "Obj2_url = df.iloc[number][\"obj1\"]\n",
    "print(Obj1_url)\n",
    "print(Obj2_url)"
   ]
  },
  {
   "cell_type": "code",
   "execution_count": null,
   "id": "b325a41d",
   "metadata": {},
   "outputs": [],
   "source": [
    "import ast\n",
    "\n",
    "from runner import test\n",
    "import numpy as np\n",
    "\n",
    "number = 68\n",
    "\n",
    "#objects\n",
    "Obj1_url = df.iloc[number][\"obj2\"]\n",
    "Obj2_url = df.iloc[number][\"obj1\"]\n",
    "\n",
    "#Before Evaluate do a Rotation and translation of\n",
    "init_R_T = ((0.2, 0.2, 0.1), (4, 0.6, 1))\n",
    "\n",
    "\n",
    "#pipline name and pipline parameters\n",
    "pipline_name = \"pipline_3\"\n",
    "\n",
    "\n",
    "N = 15\n",
    "t1 = 2\n",
    "t2 = 100\n",
    "t3 = 100\n",
    "\n",
    "Obj_url = \"data_test/pairwise/repair_group8_pair1/\"\n",
    "#threshold for corner\n",
    "thre = 0.985\n",
    "\n",
    "pipline_variables = (N, t1, t2, t3, thre)\n",
    "\n",
    "#test\n",
    "test_name = \"ICP_test\"\n",
    "\n",
    "# eval \n",
    "\n",
    "eval_list = [\"rms\"]\n",
    "\n",
    "test_brick_1 = test(Obj2_url, Obj1_url, init_R_T, pipline_name, pipline_variables, test_name, eval_list, show_results = True, save_results=False)\n",
    "\n",
    "my_results = test_brick_1.run()"
   ]
  },
  {
   "cell_type": "code",
   "execution_count": null,
   "id": "75e0acf3",
   "metadata": {},
   "outputs": [],
   "source": [
    "df_brick_1 = pd.DataFrame(test_brick_1.results)\n",
    "df_brick_1[\"total\"] = df_brick_1[\"R_error\"]+df_brick_1[\"T_error\"]\n",
    "df_brick_1.sort_values('T_error')"
   ]
  },
  {
   "cell_type": "code",
   "execution_count": null,
   "id": "235b28cb",
   "metadata": {},
   "outputs": [],
   "source": [
    "test_brick_1.draw_registration_result_original_color(test_brick_1.Obj1,test_brick_1.Obj2,test_brick_1.result_transformation_arr[3])"
   ]
  },
  {
   "cell_type": "code",
   "execution_count": null,
   "id": "d974f868",
   "metadata": {},
   "outputs": [],
   "source": [
    "test_brick_1.draw_registration_result_original_color(test_brick_1.Obj1,test_brick_1.Obj2,np.eye(4))"
   ]
  },
  {
   "cell_type": "code",
   "execution_count": null,
   "id": "d8bd1028",
   "metadata": {},
   "outputs": [],
   "source": [
    "test_brick_1.draw_registration_result_original_color(test_brick_1.Obj1,test_brick_1.Obj2,test_brick_1.RM_ground)"
   ]
  },
  {
   "cell_type": "code",
   "execution_count": null,
   "id": "b525b37e",
   "metadata": {},
   "outputs": [],
   "source": [
    "save(\"test_brick_1\",test_brick_1,3)"
   ]
  },
  {
   "cell_type": "code",
   "execution_count": null,
   "id": "b370da8a",
   "metadata": {},
   "outputs": [],
   "source": [
    "import ast\n",
    "\n",
    "from runner import test\n",
    "import numpy as np\n",
    "\n",
    "number = 384\n",
    "\n",
    "#objects\n",
    "Obj1_url = df.iloc[number][\"obj2\"]\n",
    "Obj2_url = df.iloc[number][\"obj1\"]\n",
    "\n",
    "#Before Evaluate do a Rotation and translation of\n",
    "init_R_T = ((0.2, 0.2, 0.1), (0.01, 0.01, 0.01))\n",
    "\n",
    "\n",
    "#pipline name and pipline parameters\n",
    "pipline_name = \"pipline_3\"\n",
    "\n",
    "\n",
    "N = 15\n",
    "t1 = 2\n",
    "t2 = 100\n",
    "t3 = 100\n",
    "\n",
    "Obj_url = \"data_test/pairwise/repair_group8_pair1/RPf_00059_gt.ply\"\n",
    "#threshold for corner\n",
    "thre = 0.985\n",
    "\n",
    "pipline_variables = (N, t1, t2, t3, thre)\n",
    "\n",
    "#test\n",
    "test_name = \"ICP_test\"\n",
    "\n",
    "# eval \n",
    "\n",
    "eval_list = [\"rms\"]\n",
    "\n",
    "test_brick_2 = test(Obj2_url, Obj1_url, init_R_T, pipline_name, pipline_variables, test_name, eval_list, show_results = True, save_results=False)\n",
    "\n",
    "my_results = test_brick_2.run()"
   ]
  },
  {
   "cell_type": "markdown",
   "id": "9f6ef4a1",
   "metadata": {},
   "source": [
    "<h7>test_15_1</h7>"
   ]
  },
  {
   "cell_type": "code",
   "execution_count": null,
   "id": "ebf41b1a",
   "metadata": {},
   "outputs": [],
   "source": [
    "import ast\n",
    "\n",
    "from runner import test\n",
    "import numpy as np\n",
    "\n",
    "number = 384\n",
    "\n",
    "#objects\n",
    "Obj1_url = df.iloc[number][\"obj2\"]\n",
    "Obj2_url = df.iloc[number][\"obj1\"]\n",
    "\n",
    "#Before Evaluate do a Rotation and translation of\n",
    "init_R_T = ((0.2, 0.2, 0.1), (0.1, 0.1, 0.1))\n",
    "\n",
    "\n",
    "#pipline name and pipline parameters\n",
    "pipline_name = \"pipline_15\"\n",
    "\n",
    "\n",
    "N = 15\n",
    "t1 = 2\n",
    "t2 = 100\n",
    "t3 = 100\n",
    "\n",
    "Obj_url = \"data_test/pairwise/repair_group8_pair1/RPf_00059_gt.ply\"\n",
    "#threshold for corner\n",
    "thre = 0.985\n",
    "\n",
    "pipline_variables = (N, t1, t2, t3, thre)\n",
    "\n",
    "#test\n",
    "test_name = \"ICP_test\"\n",
    "\n",
    "# eval \n",
    "\n",
    "eval_list = [\"rms\"]\n",
    "\n",
    "test_15_1 = test(Obj2_url, Obj1_url, init_R_T, pipline_name, pipline_variables, test_name, eval_list, show_results = True, save_results=False)\n",
    "\n",
    "my_results = test_15_1.run()"
   ]
  },
  {
   "cell_type": "code",
   "execution_count": null,
   "id": "c40ea39f",
   "metadata": {},
   "outputs": [],
   "source": [
    "df_test_15_1 = pd.DataFrame(test_15_1.results)\n",
    "df_test_15_1[\"total\"] = df_test_15_1[\"R_error\"]+df_test_15_1[\"T_error\"]\n",
    "df_test_15_1.sort_values('T_error')"
   ]
  },
  {
   "cell_type": "code",
   "execution_count": null,
   "id": "fc7b69e8",
   "metadata": {},
   "outputs": [],
   "source": [
    "test_15_1.draw_registration_result_original_color(test_15_1.Obj1,test_15_1.Obj2,test_15_1.result_transformation_arr[94][2])"
   ]
  },
  {
   "cell_type": "code",
   "execution_count": null,
   "id": "7f88950d",
   "metadata": {},
   "outputs": [],
   "source": [
    "test_15_1.draw_registration_result_original_color(test_15_1.Obj1,test_15_1.Obj2,np.eye(4))"
   ]
  },
  {
   "cell_type": "code",
   "execution_count": null,
   "id": "4fe3b9d7",
   "metadata": {},
   "outputs": [],
   "source": [
    "test_15_1.draw_registration_result_original_color(test_15_1.Obj1,test_15_1.Obj2,test_15_1.RM_ground)"
   ]
  },
  {
   "cell_type": "code",
   "execution_count": null,
   "id": "a0641d49",
   "metadata": {},
   "outputs": [],
   "source": [
    "save(\"test_15_1\",test_15_1,52)"
   ]
  },
  {
   "cell_type": "markdown",
   "id": "a5f30d26",
   "metadata": {},
   "source": [
    "<h7>test_15_2</h7>"
   ]
  },
  {
   "cell_type": "code",
   "execution_count": null,
   "id": "40d78493",
   "metadata": {
    "scrolled": false
   },
   "outputs": [],
   "source": [
    "import ast\n",
    "\n",
    "from runner import test\n",
    "import numpy as np\n",
    "\n",
    "number = 273\n",
    "\n",
    "#objects\n",
    "Obj1_url = df.iloc[number][\"obj2\"]\n",
    "Obj2_url = df.iloc[number][\"obj1\"]\n",
    "\n",
    "#Before Evaluate do a Rotation and translation of\n",
    "init_R_T = ((0.2, 0.2, 0.1), (0.1, 0.1, 0.1))\n",
    "\n",
    "\n",
    "#pipline name and pipline parameters\n",
    "pipline_name = \"pipline_15\"\n",
    "\n",
    "\n",
    "N = 15\n",
    "t1 = 2\n",
    "t2 = 100\n",
    "t3 = 100\n",
    "\n",
    "Obj_url = \"data_test/pairwise/repair_group8_pair1/RPf_00059_gt.ply\"\n",
    "#threshold for corner\n",
    "thre = 0.985\n",
    "\n",
    "pipline_variables = (N, t1, t2, t3, thre)\n",
    "\n",
    "#test\n",
    "test_name = \"ICP_test\"\n",
    "\n",
    "# eval \n",
    "\n",
    "eval_list = [\"rms\"]\n",
    "\n",
    "test_15_2 = test(Obj2_url, Obj1_url, init_R_T, pipline_name, pipline_variables, test_name, eval_list, show_results = True, save_results=False)\n",
    "\n",
    "my_results = test_15_2.run()"
   ]
  },
  {
   "cell_type": "code",
   "execution_count": null,
   "id": "b5c490cd",
   "metadata": {},
   "outputs": [],
   "source": [
    "df_test_15_2 = pd.DataFrame(test_15_2.results)\n",
    "df_test_15_2[\"total\"] = df_test_15_2[\"R_error\"]+df_test_15_2[\"T_error\"]\n",
    "df_test_15_2.sort_values('T_error')"
   ]
  },
  {
   "cell_type": "code",
   "execution_count": null,
   "id": "95fdef23",
   "metadata": {},
   "outputs": [],
   "source": [
    "get_winner(test_15_2)"
   ]
  },
  {
   "cell_type": "code",
   "execution_count": null,
   "id": "13b29caf",
   "metadata": {},
   "outputs": [],
   "source": [
    "test_15_2.draw_registration_result_original_color(test_15_2.Obj1,test_15_2.Obj2,test_15_2.result_transformation_arr[67][2])"
   ]
  },
  {
   "cell_type": "code",
   "execution_count": null,
   "id": "d7103a5a",
   "metadata": {},
   "outputs": [],
   "source": [
    "test_15_2.draw_registration_result_original_color(test_15_2.Obj1,test_15_2.Obj2,np.eye(4))"
   ]
  },
  {
   "cell_type": "code",
   "execution_count": null,
   "id": "83355ded",
   "metadata": {},
   "outputs": [],
   "source": [
    "test_15_2.draw_registration_result_original_color(test_15_2.Obj1,test_15_2.Obj2,test_15_2.RM_ground)"
   ]
  },
  {
   "cell_type": "code",
   "execution_count": null,
   "id": "b3dcd0e8",
   "metadata": {},
   "outputs": [],
   "source": [
    "save(\"test_15_2\",test_15_2,83)"
   ]
  },
  {
   "cell_type": "markdown",
   "id": "618edefa",
   "metadata": {},
   "source": [
    "<h7>test_15_3</h7>"
   ]
  },
  {
   "cell_type": "code",
   "execution_count": null,
   "id": "4e08ccf3",
   "metadata": {},
   "outputs": [],
   "source": [
    "import ast\n",
    "\n",
    "from runner import test\n",
    "import numpy as np\n",
    "\n",
    "number = 521\n",
    "\n",
    "#objects\n",
    "Obj1_url = df.iloc[number][\"obj2\"]\n",
    "Obj2_url = df.iloc[number][\"obj1\"]\n",
    "\n",
    "#Before Evaluate do a Rotation and translation of\n",
    "init_R_T = ((0.2, 0.2, 0.1), (0.1, 0.1, 0.1))\n",
    "\n",
    "\n",
    "#pipline name and pipline parameters\n",
    "pipline_name = \"pipline_15\"\n",
    "\n",
    "\n",
    "N = 15\n",
    "t1 = 2\n",
    "t2 = 100\n",
    "t3 = 100\n",
    "\n",
    "Obj_url = \"data_test/pairwise/repair_group8_pair1/RPf_00059_gt.ply\"\n",
    "#threshold for corner\n",
    "thre = 0.985\n",
    "\n",
    "pipline_variables = (N, t1, t2, t3, thre)\n",
    "\n",
    "#test\n",
    "test_name = \"ICP_test\"\n",
    "\n",
    "# eval \n",
    "\n",
    "eval_list = [\"rms\"]\n",
    "\n",
    "test_15_3 = test(Obj2_url, Obj1_url, init_R_T, pipline_name, pipline_variables, test_name, eval_list, show_results = True, save_results=False)\n",
    "\n",
    "my_results = test_15_3.run()"
   ]
  },
  {
   "cell_type": "code",
   "execution_count": null,
   "id": "4ea91953",
   "metadata": {},
   "outputs": [],
   "source": [
    "df_test_15_3 = pd.DataFrame(test_15_3.results)\n",
    "df_test_15_3[\"total\"] = df_test_15_3[\"R_error\"]+df_test_15_3[\"T_error\"]\n",
    "df_test_15_3.sort_values('T_error')"
   ]
  },
  {
   "cell_type": "code",
   "execution_count": null,
   "id": "359d7455",
   "metadata": {},
   "outputs": [],
   "source": [
    "get_winner(test_15_3)"
   ]
  },
  {
   "cell_type": "code",
   "execution_count": null,
   "id": "e8051241",
   "metadata": {},
   "outputs": [],
   "source": [
    "test_15_3.draw_registration_result_original_color(test_15_3.Obj1,test_15_3.Obj2,test_15_3.result_transformation_arr[73][2])"
   ]
  },
  {
   "cell_type": "code",
   "execution_count": null,
   "id": "53cff61c",
   "metadata": {},
   "outputs": [],
   "source": [
    "test_15_3.draw_registration_result_original_color(test_15_3.Obj1,test_15_3.Obj2,np.eye(4))"
   ]
  },
  {
   "cell_type": "code",
   "execution_count": null,
   "id": "b4d21def",
   "metadata": {},
   "outputs": [],
   "source": [
    "test_15_3.draw_registration_result_original_color(test_15_3.Obj1,test_15_3.Obj2,test_15_3.RM_ground)"
   ]
  },
  {
   "cell_type": "code",
   "execution_count": null,
   "id": "2c0e2319",
   "metadata": {},
   "outputs": [],
   "source": [
    "save(\"test_15_3\",test_15_3,25)"
   ]
  },
  {
   "cell_type": "markdown",
   "id": "568d5667",
   "metadata": {},
   "source": [
    "<h7>test_15_4</h7>"
   ]
  },
  {
   "cell_type": "code",
   "execution_count": null,
   "id": "4b3bbf6e",
   "metadata": {},
   "outputs": [],
   "source": [
    "import ast\n",
    "\n",
    "from runner import test\n",
    "import numpy as np\n",
    "\n",
    "number = 455\n",
    "\n",
    "#objects\n",
    "Obj1_url = df.iloc[number][\"obj1\"]\n",
    "Obj2_url = df.iloc[number][\"obj2\"]\n",
    "\n",
    "#Before Evaluate do a Rotation and translation of\n",
    "init_R_T = ((0.2, 0.2, 0.1), (0.1, -0.1, 0.1))\n",
    "\n",
    "\n",
    "#pipline name and pipline parameters\n",
    "pipline_name = \"pipline_15\"\n",
    "\n",
    "\n",
    "N = 15\n",
    "t1 = 2\n",
    "t2 = 100\n",
    "t3 = 100\n",
    "\n",
    "Obj_url = \"data_test/pairwise/repair_group8_pair1/RPf_00059_gt.ply\"\n",
    "#threshold for corner\n",
    "thre = 0.985\n",
    "\n",
    "pipline_variables = (N, t1, t2, t3, thre)\n",
    "\n",
    "#test\n",
    "test_name = \"ICP_test\"\n",
    "\n",
    "# eval \n",
    "\n",
    "eval_list = [\"rms\"]\n",
    "\n",
    "test_15_4 = test(Obj2_url, Obj1_url, init_R_T, pipline_name, pipline_variables, test_name, eval_list, show_results = True, save_results=False)\n",
    "\n",
    "my_results = test_15_4.run()"
   ]
  },
  {
   "cell_type": "code",
   "execution_count": null,
   "id": "c45fc1b2",
   "metadata": {},
   "outputs": [],
   "source": [
    "df_test_15_4 = pd.DataFrame(test_15_4.results)\n",
    "df_test_15_4[\"total\"] = df_test_15_4[\"R_error\"]+df_test_15_4[\"T_error\"]\n",
    "df_test_15_4.sort_values('T_error')"
   ]
  },
  {
   "cell_type": "code",
   "execution_count": null,
   "id": "19b98e19",
   "metadata": {},
   "outputs": [],
   "source": [
    "get_winner(test_15_4)"
   ]
  },
  {
   "cell_type": "code",
   "execution_count": null,
   "id": "cbd67327",
   "metadata": {},
   "outputs": [],
   "source": [
    "test_15_4.draw_registration_result_original_color(test_15_4.Obj1,test_15_4.Obj2,test_15_4.result_transformation_arr[39][2])"
   ]
  },
  {
   "cell_type": "code",
   "execution_count": null,
   "id": "e0eaf205",
   "metadata": {},
   "outputs": [],
   "source": [
    "test_15_4.draw_registration_result_original_color(test_15_4.Obj1,test_15_4.Obj2,np.eye(4))"
   ]
  },
  {
   "cell_type": "code",
   "execution_count": null,
   "id": "c6a2f728",
   "metadata": {},
   "outputs": [],
   "source": [
    "test_15_4.draw_registration_result_original_color(test_15_4.Obj1,test_15_4.Obj2,test_15_4.RM_ground)"
   ]
  },
  {
   "cell_type": "code",
   "execution_count": null,
   "id": "24801592",
   "metadata": {},
   "outputs": [],
   "source": [
    "save(\"test_15_4\",test_15_4,39)"
   ]
  },
  {
   "cell_type": "markdown",
   "id": "de58131b",
   "metadata": {},
   "source": [
    "<h7>test_15_5</h7>"
   ]
  },
  {
   "cell_type": "code",
   "execution_count": null,
   "id": "c5cc6c7a",
   "metadata": {},
   "outputs": [],
   "source": [
    "import ast\n",
    "\n",
    "from runner import test\n",
    "import numpy as np\n",
    "\n",
    "number = 48\n",
    "\n",
    "#objects\n",
    "Obj1_url = df.iloc[number][\"obj1\"]\n",
    "Obj2_url = df.iloc[number][\"obj2\"]\n",
    "\n",
    "#Before Evaluate do a Rotation and translation of\n",
    "init_R_T = ((0.2, 0.2, 0.1), (0.1, -0.1, 0.1))\n",
    "\n",
    "\n",
    "#pipline name and pipline parameters\n",
    "pipline_name = \"pipline_15\"\n",
    "\n",
    "\n",
    "N = 15\n",
    "t1 = 2\n",
    "t2 = 100\n",
    "t3 = 100\n",
    "\n",
    "Obj_url = \"data_test/pairwise/repair_group8_pair1/RPf_00059_gt.ply\"\n",
    "#threshold for corner\n",
    "thre = 0.985\n",
    "\n",
    "pipline_variables = (N, t1, t2, t3, thre)\n",
    "\n",
    "#test\n",
    "test_name = \"ICP_test\"\n",
    "\n",
    "# eval \n",
    "\n",
    "eval_list = [\"rms\"]\n",
    "\n",
    "test_15_5 = test(Obj2_url, Obj1_url, init_R_T, pipline_name, pipline_variables, test_name, eval_list, show_results = True, save_results=False)\n",
    "\n",
    "my_results = test_15_5.run()"
   ]
  },
  {
   "cell_type": "code",
   "execution_count": null,
   "id": "f00f411c",
   "metadata": {},
   "outputs": [],
   "source": [
    "df_test_15_5 = pd.DataFrame(test_15_5.results)\n",
    "df_test_15_5[\"total\"] = df_test_15_5[\"R_error\"]+df_test_15_5[\"T_error\"]\n",
    "df_test_15_5.sort_values('T_error')"
   ]
  },
  {
   "cell_type": "code",
   "execution_count": null,
   "id": "06a6e9b7",
   "metadata": {},
   "outputs": [],
   "source": [
    "get_winner(test_15_5)"
   ]
  },
  {
   "cell_type": "code",
   "execution_count": null,
   "id": "941a1e45",
   "metadata": {},
   "outputs": [],
   "source": [
    "test_15_5.draw_registration_result_original_color(test_15_5.Obj1,test_15_5.Obj2,test_15_5.result_transformation_arr[44][2])"
   ]
  },
  {
   "cell_type": "code",
   "execution_count": null,
   "id": "391c11c3",
   "metadata": {},
   "outputs": [],
   "source": [
    "test_15_5.draw_registration_result_original_color(test_15_5.Obj1,test_15_5.Obj2,np.eye(4))"
   ]
  },
  {
   "cell_type": "code",
   "execution_count": null,
   "id": "63e007de",
   "metadata": {},
   "outputs": [],
   "source": [
    "test_15_5.draw_registration_result_original_color(test_15_5.Obj1,test_15_5.Obj2,test_15_5.RM_ground)"
   ]
  },
  {
   "cell_type": "code",
   "execution_count": null,
   "id": "a9c8fe56",
   "metadata": {},
   "outputs": [],
   "source": [
    "save(\"test_15_5_1\",test_15_5,47)"
   ]
  },
  {
   "cell_type": "code",
   "execution_count": null,
   "id": "e880c062",
   "metadata": {},
   "outputs": [],
   "source": [
    "<h7>test_8_2</h7>"
   ]
  },
  {
   "cell_type": "code",
   "execution_count": null,
   "id": "8df2b4af",
   "metadata": {},
   "outputs": [],
   "source": [
    "import ast\n",
    "\n",
    "from runner import test\n",
    "import numpy as np\n",
    "\n",
    "number = 192\n",
    "\n",
    "#objects\n",
    "Obj1_url = df.iloc[number][\"obj1\"]\n",
    "Obj2_url = df.iloc[number][\"obj2\"]\n",
    "\n",
    "#Before Evaluate do a Rotation and translation of\n",
    "init_R_T = ((0.2, 0.2, 0.1), (-20, -10, 2))\n",
    "\n",
    "\n",
    "#pipline name and pipline parameters\n",
    "pipline_name = \"pipline_3\"\n",
    "\n",
    "\n",
    "N = 15\n",
    "t1 = 2\n",
    "t2 = 100\n",
    "t3 = 100\n",
    "\n",
    "Obj_url = \"data_test/pairwise/repair_group8_pair1/RPf_00059_gt.ply\"\n",
    "#threshold for corner\n",
    "thre = 0.985\n",
    "\n",
    "pipline_variables = (N, t1, t2, t3, thre)\n",
    "\n",
    "#test\n",
    "test_name = \"ICP_test\"\n",
    "\n",
    "# eval \n",
    "\n",
    "eval_list = [\"rms\"]\n",
    "\n",
    "test_8_2 = test(Obj2_url, Obj1_url, init_R_T, pipline_name, pipline_variables, test_name, eval_list, show_results = True, save_results=False)\n",
    "\n",
    "my_results = test_8_2.run()"
   ]
  },
  {
   "cell_type": "code",
   "execution_count": null,
   "id": "62dca879",
   "metadata": {},
   "outputs": [],
   "source": [
    "df_test_8_2 = pd.DataFrame(test_8_2.results)\n",
    "df_test_8_2[\"total\"] = df_test_8_2[\"R_error\"]+df_test_8_2[\"T_error\"]\n",
    "df_test_8_2.sort_values('T_error')"
   ]
  },
  {
   "cell_type": "code",
   "execution_count": null,
   "id": "954344f7",
   "metadata": {},
   "outputs": [],
   "source": [
    "get_winner(test_8_2)"
   ]
  },
  {
   "cell_type": "code",
   "execution_count": null,
   "id": "a242f688",
   "metadata": {},
   "outputs": [],
   "source": [
    "test_8_2.draw_registration_result_original_color(test_8_2.Obj1,test_8_2.Obj2,test_8_2.result_transformation_arr[48][2])"
   ]
  },
  {
   "cell_type": "code",
   "execution_count": null,
   "id": "ff0824bf",
   "metadata": {},
   "outputs": [],
   "source": [
    "test_8_2.draw_registration_result_original_color(test_8_2.Obj1,test_8_2.Obj2,np.eye(4))"
   ]
  },
  {
   "cell_type": "code",
   "execution_count": null,
   "id": "976a2624",
   "metadata": {},
   "outputs": [],
   "source": [
    "test_8_2.draw_registration_result_original_color(test_8_2.Obj1,test_8_2.Obj2,test_8_2.RM_ground)"
   ]
  },
  {
   "cell_type": "markdown",
   "id": "1dd71b7c",
   "metadata": {},
   "source": [
    "Breaking"
   ]
  },
  {
   "cell_type": "code",
   "execution_count": 1,
   "id": "e6c97771",
   "metadata": {},
   "outputs": [
    {
     "name": "stdout",
     "output_type": "stream",
     "text": [
      "Jupyter environment detected. Enabling Open3D WebVisualizer.\n",
      "[Open3D INFO] WebRTC GUI backend enabled.\n",
      "[Open3D INFO] WebRTCWindowSystem: HTTP handshake server disabled.\n",
      "_________________________First Object_________________________\n",
      "start\n",
      "[Open3D WARNING] Read PLY failed: unable to read file: data_test/pairwise/breaking_bad_cat_artifact_pair1/breaking_bad_cat_artifact_piece3.ply\n",
      "my number is ->  0.0041171859741210935\n",
      "starting init\n",
      "starting calculating atts\n"
     ]
    },
    {
     "name": "stderr",
     "output_type": "stream",
     "text": [
      "100%|██████████████████████████████████████████████████████████████████████████| 30182/30182 [00:19<00:00, 1540.26it/s]\n"
     ]
    },
    {
     "name": "stdout",
     "output_type": "stream",
     "text": [
      "my radius is :  0.006752086811558033\n",
      "347722\n",
      "After graph 30182\n",
      "After Pruning 30182\n",
      "constructing borders\n",
      "shortest_allowed_branch_length 584.0\n",
      "smallest_isolated_island_length 58.0\n",
      "shortest_cycle_length 584.0\n",
      "my radius is :  0.012084650976664195\n",
      "73975\n",
      "After graph 3334\n",
      "After Pruning 552\n",
      "dilation and segmentation\n",
      "my size : 0.008838614224128724\n",
      "borders dilated\n",
      "got faces\n",
      "KNN Radius :  0.006752086811558033\n",
      "0\n",
      "expanded\n",
      "coloring\n",
      "_________________________Second Object_________________________\n",
      "start\n",
      "[Open3D WARNING] Read PLY failed: unable to read file: data_test/pairwise/breaking_bad_cat_artifact_pair1/breaking_bad_cat_artifact_piece1.ply\n",
      "my number is ->  0.006589372558593751\n",
      "starting init\n",
      "starting calculating atts\n"
     ]
    },
    {
     "name": "stderr",
     "output_type": "stream",
     "text": [
      "100%|██████████████████████████████████████████████████████████████████████████| 30182/30182 [00:19<00:00, 1535.22it/s]\n"
     ]
    },
    {
     "name": "stdout",
     "output_type": "stream",
     "text": [
      "my radius is :  0.01058361542529784\n",
      "338812\n",
      "After graph 30182\n",
      "After Pruning 30182\n",
      "constructing borders\n",
      "shortest_allowed_branch_length 859.0\n",
      "smallest_isolated_island_length 85.0\n",
      "shortest_cycle_length 859.0\n",
      "my radius is :  0.016410675037193328\n",
      "132876\n",
      "After graph 6844\n",
      "After Pruning 1450\n",
      "dilation and segmentation\n",
      "my size : 0.014083824261932373\n",
      "borders dilated\n",
      "got faces\n",
      "KNN Radius :  0.01058361542529784\n",
      "0\n",
      "expanded\n",
      "coloring\n",
      "_________________________Registeration_________________________\n",
      "_________________________Evaluation_________________________\n"
     ]
    }
   ],
   "source": [
    "import ast\n",
    "\n",
    "from runner import test\n",
    "import numpy as np\n",
    "\n",
    "number = 192\n",
    "\n",
    "#objects\n",
    "Obj1_url = \"data_test/pairwise/breaking_bad_cat_artifact_pair1/breaking_bad_cat_artifact_piece1.ply\"\n",
    "Obj2_url = \"data_test/pairwise/breaking_bad_cat_artifact_pair1/breaking_bad_cat_artifact_piece3.ply\"\n",
    "\n",
    "#Before Evaluate do a Rotation and translation of\n",
    "init_R_T = ((0, 0, 0), (0.5, 0.5, 2))\n",
    "\n",
    "\n",
    "#pipline name and pipline parameters\n",
    "pipline_name = \"pipline_breaking_bad_statue\"\n",
    "\n",
    "\n",
    "N = 15\n",
    "t1 = 2\n",
    "t2 = 100\n",
    "t3 = 100\n",
    "\n",
    "Obj_url = \"data_test/pairwise/repair_group8_pair1/RPf_00059_gt.ply\"\n",
    "#threshold for corner\n",
    "thre = 0.95\n",
    "\n",
    "pipline_variables = (N, t1, t2, t3, thre)\n",
    "\n",
    "#test\n",
    "test_name = \"ICP_test\"\n",
    "\n",
    "# eval \n",
    "\n",
    "eval_list = [\"rms\"]\n",
    "\n",
    "test_breaking_1 = test(Obj2_url, Obj1_url, init_R_T, pipline_name, pipline_variables, test_name, eval_list, show_results = True, save_results=False)\n",
    "\n",
    "my_results = test_breaking_1.run()"
   ]
  },
  {
   "cell_type": "code",
   "execution_count": 2,
   "id": "c6547863",
   "metadata": {},
   "outputs": [
    {
     "data": {
      "text/html": [
       "<div>\n",
       "<style scoped>\n",
       "    .dataframe tbody tr th:only-of-type {\n",
       "        vertical-align: middle;\n",
       "    }\n",
       "\n",
       "    .dataframe tbody tr th {\n",
       "        vertical-align: top;\n",
       "    }\n",
       "\n",
       "    .dataframe thead th {\n",
       "        text-align: right;\n",
       "    }\n",
       "</style>\n",
       "<table border=\"1\" class=\"dataframe\">\n",
       "  <thead>\n",
       "    <tr style=\"text-align: right;\">\n",
       "      <th></th>\n",
       "      <th>o1</th>\n",
       "      <th>o2</th>\n",
       "      <th>R_error</th>\n",
       "      <th>T_error</th>\n",
       "      <th>total</th>\n",
       "    </tr>\n",
       "  </thead>\n",
       "  <tbody>\n",
       "    <tr>\n",
       "      <th>33</th>\n",
       "      <td>3</td>\n",
       "      <td>3</td>\n",
       "      <td>5.401046</td>\n",
       "      <td>0.080639</td>\n",
       "      <td>5.481685</td>\n",
       "    </tr>\n",
       "    <tr>\n",
       "      <th>92</th>\n",
       "      <td>9</td>\n",
       "      <td>2</td>\n",
       "      <td>5.110520</td>\n",
       "      <td>0.313949</td>\n",
       "      <td>5.424469</td>\n",
       "    </tr>\n",
       "    <tr>\n",
       "      <th>29</th>\n",
       "      <td>2</td>\n",
       "      <td>9</td>\n",
       "      <td>3.953365</td>\n",
       "      <td>0.622732</td>\n",
       "      <td>4.576097</td>\n",
       "    </tr>\n",
       "    <tr>\n",
       "      <th>58</th>\n",
       "      <td>5</td>\n",
       "      <td>8</td>\n",
       "      <td>5.181189</td>\n",
       "      <td>0.736573</td>\n",
       "      <td>5.917761</td>\n",
       "    </tr>\n",
       "    <tr>\n",
       "      <th>84</th>\n",
       "      <td>8</td>\n",
       "      <td>4</td>\n",
       "      <td>5.067831</td>\n",
       "      <td>0.774513</td>\n",
       "      <td>5.842343</td>\n",
       "    </tr>\n",
       "    <tr>\n",
       "      <th>...</th>\n",
       "      <td>...</td>\n",
       "      <td>...</td>\n",
       "      <td>...</td>\n",
       "      <td>...</td>\n",
       "      <td>...</td>\n",
       "    </tr>\n",
       "    <tr>\n",
       "      <th>95</th>\n",
       "      <td>9</td>\n",
       "      <td>5</td>\n",
       "      <td>5.764480</td>\n",
       "      <td>4.490062</td>\n",
       "      <td>10.254542</td>\n",
       "    </tr>\n",
       "    <tr>\n",
       "      <th>21</th>\n",
       "      <td>2</td>\n",
       "      <td>1</td>\n",
       "      <td>5.682644</td>\n",
       "      <td>4.516602</td>\n",
       "      <td>10.199246</td>\n",
       "    </tr>\n",
       "    <tr>\n",
       "      <th>88</th>\n",
       "      <td>8</td>\n",
       "      <td>8</td>\n",
       "      <td>5.236761</td>\n",
       "      <td>4.517907</td>\n",
       "      <td>9.754667</td>\n",
       "    </tr>\n",
       "    <tr>\n",
       "      <th>85</th>\n",
       "      <td>8</td>\n",
       "      <td>5</td>\n",
       "      <td>5.280903</td>\n",
       "      <td>4.525540</td>\n",
       "      <td>9.806443</td>\n",
       "    </tr>\n",
       "    <tr>\n",
       "      <th>26</th>\n",
       "      <td>2</td>\n",
       "      <td>6</td>\n",
       "      <td>5.126112</td>\n",
       "      <td>4.671394</td>\n",
       "      <td>9.797506</td>\n",
       "    </tr>\n",
       "  </tbody>\n",
       "</table>\n",
       "<p>100 rows × 5 columns</p>\n",
       "</div>"
      ],
      "text/plain": [
       "    o1  o2   R_error   T_error      total\n",
       "33   3   3  5.401046  0.080639   5.481685\n",
       "92   9   2  5.110520  0.313949   5.424469\n",
       "29   2   9  3.953365  0.622732   4.576097\n",
       "58   5   8  5.181189  0.736573   5.917761\n",
       "84   8   4  5.067831  0.774513   5.842343\n",
       "..  ..  ..       ...       ...        ...\n",
       "95   9   5  5.764480  4.490062  10.254542\n",
       "21   2   1  5.682644  4.516602  10.199246\n",
       "88   8   8  5.236761  4.517907   9.754667\n",
       "85   8   5  5.280903  4.525540   9.806443\n",
       "26   2   6  5.126112  4.671394   9.797506\n",
       "\n",
       "[100 rows x 5 columns]"
      ]
     },
     "execution_count": 2,
     "metadata": {},
     "output_type": "execute_result"
    }
   ],
   "source": [
    "import pandas as pd\n",
    "df_breaking_1 = pd.DataFrame(test_breaking_1.results)\n",
    "df_breaking_1[\"total\"] = df_breaking_1[\"R_error\"]+df_breaking_1[\"T_error\"]\n",
    "df_breaking_1.sort_values('T_error')"
   ]
  },
  {
   "cell_type": "code",
   "execution_count": 5,
   "id": "232fe473",
   "metadata": {},
   "outputs": [
    {
     "data": {
      "text/html": [
       "<div>\n",
       "<style scoped>\n",
       "    .dataframe tbody tr th:only-of-type {\n",
       "        vertical-align: middle;\n",
       "    }\n",
       "\n",
       "    .dataframe tbody tr th {\n",
       "        vertical-align: top;\n",
       "    }\n",
       "\n",
       "    .dataframe thead th {\n",
       "        text-align: right;\n",
       "    }\n",
       "</style>\n",
       "<table border=\"1\" class=\"dataframe\">\n",
       "  <thead>\n",
       "    <tr style=\"text-align: right;\">\n",
       "      <th></th>\n",
       "      <th>index</th>\n",
       "      <th>o1</th>\n",
       "      <th>o2</th>\n",
       "      <th>chamfer</th>\n",
       "    </tr>\n",
       "  </thead>\n",
       "  <tbody>\n",
       "    <tr>\n",
       "      <th>33</th>\n",
       "      <td>33</td>\n",
       "      <td>3</td>\n",
       "      <td>3</td>\n",
       "      <td>0.007609</td>\n",
       "    </tr>\n",
       "    <tr>\n",
       "      <th>69</th>\n",
       "      <td>69</td>\n",
       "      <td>6</td>\n",
       "      <td>9</td>\n",
       "      <td>0.015024</td>\n",
       "    </tr>\n",
       "    <tr>\n",
       "      <th>49</th>\n",
       "      <td>49</td>\n",
       "      <td>4</td>\n",
       "      <td>9</td>\n",
       "      <td>0.015422</td>\n",
       "    </tr>\n",
       "    <tr>\n",
       "      <th>48</th>\n",
       "      <td>48</td>\n",
       "      <td>4</td>\n",
       "      <td>8</td>\n",
       "      <td>0.017600</td>\n",
       "    </tr>\n",
       "    <tr>\n",
       "      <th>68</th>\n",
       "      <td>68</td>\n",
       "      <td>6</td>\n",
       "      <td>8</td>\n",
       "      <td>0.018279</td>\n",
       "    </tr>\n",
       "    <tr>\n",
       "      <th>...</th>\n",
       "      <td>...</td>\n",
       "      <td>...</td>\n",
       "      <td>...</td>\n",
       "      <td>...</td>\n",
       "    </tr>\n",
       "    <tr>\n",
       "      <th>60</th>\n",
       "      <td>60</td>\n",
       "      <td>6</td>\n",
       "      <td>0</td>\n",
       "      <td>0.219166</td>\n",
       "    </tr>\n",
       "    <tr>\n",
       "      <th>40</th>\n",
       "      <td>40</td>\n",
       "      <td>4</td>\n",
       "      <td>0</td>\n",
       "      <td>0.219454</td>\n",
       "    </tr>\n",
       "    <tr>\n",
       "      <th>70</th>\n",
       "      <td>70</td>\n",
       "      <td>7</td>\n",
       "      <td>0</td>\n",
       "      <td>0.232368</td>\n",
       "    </tr>\n",
       "    <tr>\n",
       "      <th>80</th>\n",
       "      <td>80</td>\n",
       "      <td>8</td>\n",
       "      <td>0</td>\n",
       "      <td>0.239723</td>\n",
       "    </tr>\n",
       "    <tr>\n",
       "      <th>90</th>\n",
       "      <td>90</td>\n",
       "      <td>9</td>\n",
       "      <td>0</td>\n",
       "      <td>0.241291</td>\n",
       "    </tr>\n",
       "  </tbody>\n",
       "</table>\n",
       "<p>100 rows × 4 columns</p>\n",
       "</div>"
      ],
      "text/plain": [
       "    index  o1  o2   chamfer\n",
       "33     33   3   3  0.007609\n",
       "69     69   6   9  0.015024\n",
       "49     49   4   9  0.015422\n",
       "48     48   4   8  0.017600\n",
       "68     68   6   8  0.018279\n",
       "..    ...  ..  ..       ...\n",
       "60     60   6   0  0.219166\n",
       "40     40   4   0  0.219454\n",
       "70     70   7   0  0.232368\n",
       "80     80   8   0  0.239723\n",
       "90     90   9   0  0.241291\n",
       "\n",
       "[100 rows x 4 columns]"
      ]
     },
     "execution_count": 5,
     "metadata": {},
     "output_type": "execute_result"
    }
   ],
   "source": [
    "get_winner(test_breaking_1)"
   ]
  },
  {
   "cell_type": "code",
   "execution_count": 6,
   "id": "7ce071b5",
   "metadata": {},
   "outputs": [],
   "source": [
    "test_breaking_1.draw_registration_result_original_color(test_breaking_1.Obj1,test_breaking_1.Obj2,test_breaking_1.result_transformation_arr[33][2])"
   ]
  },
  {
   "cell_type": "code",
   "execution_count": null,
   "id": "8cb6e811",
   "metadata": {},
   "outputs": [],
   "source": [
    "test_breaking_1.draw_registration_result_original_color(test_breaking_1.Obj1,test_breaking_1.Obj2,np.eye(4))"
   ]
  },
  {
   "cell_type": "code",
   "execution_count": null,
   "id": "cea8a65c",
   "metadata": {},
   "outputs": [],
   "source": [
    "test_breaking_1.draw_registration_result_original_color(test_breaking_1.Obj1,test_breaking_1.Obj2,test_breaking_1.RM_ground)"
   ]
  },
  {
   "cell_type": "code",
   "execution_count": null,
   "id": "230d0bdf",
   "metadata": {},
   "outputs": [],
   "source": [
    "save(\"test_breaking_1\",test_breaking_1,33)"
   ]
  },
  {
   "cell_type": "code",
   "execution_count": 9,
   "id": "40e04075",
   "metadata": {},
   "outputs": [
    {
     "name": "stdout",
     "output_type": "stream",
     "text": [
      "_________________________First Object_________________________\n",
      "start\n",
      "my number is ->  0.0041171859741210935\n",
      "starting init\n",
      "starting calculating atts\n"
     ]
    },
    {
     "name": "stderr",
     "output_type": "stream",
     "text": [
      "100%|██████████████████████████████████████████████████████████████████████████| 30182/30182 [00:14<00:00, 2086.79it/s]\n"
     ]
    },
    {
     "name": "stdout",
     "output_type": "stream",
     "text": [
      "my radius is :  0.006752086811558033\n",
      "347722\n",
      "After graph 30182\n",
      "After Pruning 30182\n",
      "constructing borders\n",
      "shortest_allowed_branch_length 584.0\n",
      "smallest_isolated_island_length 58.0\n",
      "shortest_cycle_length 584.0\n",
      "my radius is :  0.012084650976664195\n",
      "73975\n",
      "After graph 3334\n",
      "After Pruning 552\n",
      "dilation and segmentation\n",
      "my size : 0.008838614224128724\n",
      "borders dilated\n",
      "got faces\n",
      "KNN Radius :  0.006752086811558033\n",
      "0\n",
      "expanded\n",
      "coloring\n",
      "_________________________Second Object_________________________\n",
      "start\n",
      "my number is ->  0.0034162255859375\n",
      "starting init\n",
      "starting calculating atts\n"
     ]
    },
    {
     "name": "stderr",
     "output_type": "stream",
     "text": [
      "100%|██████████████████████████████████████████████████████████████████████████| 30263/30263 [00:16<00:00, 1790.21it/s]\n"
     ]
    },
    {
     "name": "stdout",
     "output_type": "stream",
     "text": [
      "my radius is :  0.005674372796985649\n",
      "347037\n",
      "After graph 30263\n",
      "After Pruning 30263\n",
      "constructing borders\n",
      "shortest_allowed_branch_length 495.0\n",
      "smallest_isolated_island_length 49.0\n",
      "shortest_cycle_length 495.0\n",
      "my radius is :  0.01125652780642981\n",
      "55215\n",
      "After graph 2428\n",
      "After Pruning 483\n",
      "dilation and segmentation\n",
      "my size : 0.007400479449005126\n",
      "borders dilated\n",
      "got faces\n",
      "KNN Radius :  0.005674372796985649\n",
      "6\n",
      "expanded\n",
      "coloring\n",
      "_________________________Registeration_________________________\n",
      "_________________________Evaluation_________________________\n"
     ]
    }
   ],
   "source": [
    "import ast\n",
    "\n",
    "from runner import test\n",
    "import numpy as np\n",
    "\n",
    "number = 192\n",
    "\n",
    "#objects\n",
    "Obj1_url = \"data_test/pairwise/breaking_bad_cat_artifact_pair2/breaking_bad_cat_artifact_piece2.ply\"\n",
    "Obj2_url = \"data_test/pairwise/breaking_bad_cat_artifact_pair2/breaking_bad_cat_artifact_piece3.ply\"\n",
    "\n",
    "#Before Evaluate do a Rotation and translation of\n",
    "init_R_T = ((0.2, 0.2, 0.1), (-0.5, -0.5, -0.5))\n",
    "\n",
    "\n",
    "#pipline name and pipline parameters\n",
    "pipline_name = \"pipline_breaking_bad_statue\"\n",
    "\n",
    "\n",
    "N = 15\n",
    "t1 = 2\n",
    "t2 = 100\n",
    "t3 = 100\n",
    "\n",
    "Obj_url = \"data_test/pairwise/repair_group8_pair1/RPf_00059_gt.ply\"\n",
    "#threshold for corner\n",
    "thre = 0.95\n",
    "\n",
    "pipline_variables = (N, t1, t2, t3, thre)\n",
    "\n",
    "#test\n",
    "test_name = \"ICP_test\"\n",
    "\n",
    "# eval \n",
    "\n",
    "eval_list = [\"rms\"]\n",
    "\n",
    "test_breaking_2 = test(Obj2_url, Obj1_url, init_R_T, pipline_name, pipline_variables, test_name, eval_list, show_results = True, save_results=False)\n",
    "\n",
    "my_results = test_breaking_2.run()"
   ]
  },
  {
   "cell_type": "code",
   "execution_count": null,
   "id": "10588efc",
   "metadata": {},
   "outputs": [],
   "source": [
    "import pandas as pd\n",
    "df_breaking_2 = pd.DataFrame(test_breaking_2.results)\n",
    "df_breaking_2[\"total\"] = df_breaking_2[\"R_error\"]+df_breaking_2[\"T_error\"]\n",
    "df_breaking_2.sort_values('T_error')"
   ]
  },
  {
   "cell_type": "code",
   "execution_count": null,
   "id": "8743ed4e",
   "metadata": {},
   "outputs": [],
   "source": [
    "df_breaking_2[(df_breaking_2[\"o1\"]==2) & (df_breaking_2[\"o2\"]==6)]"
   ]
  },
  {
   "cell_type": "code",
   "execution_count": null,
   "id": "d0e05ec7",
   "metadata": {},
   "outputs": [],
   "source": [
    "test_breaking_2.draw_registration_result_original_color(test_breaking_2.Obj1,test_breaking_2.Obj2,test_breaking_2.result_transformation_arr[22][2])"
   ]
  },
  {
   "cell_type": "code",
   "execution_count": null,
   "id": "7f558dac",
   "metadata": {},
   "outputs": [],
   "source": [
    "test_breaking_2.draw_registration_result_original_color(test_breaking_2.Obj1,test_breaking_2.Obj2,np.eye(4))"
   ]
  },
  {
   "cell_type": "code",
   "execution_count": null,
   "id": "41d1e096",
   "metadata": {},
   "outputs": [],
   "source": [
    "test_breaking_2.draw_registration_result_original_color(test_breaking_2.Obj1,test_breaking_2.Obj2,test_breaking_2.RM_ground)"
   ]
  },
  {
   "cell_type": "code",
   "execution_count": null,
   "id": "a85ca144",
   "metadata": {},
   "outputs": [],
   "source": [
    "save(\"test_breaking_2\",test_breaking_2,22)"
   ]
  },
  {
   "cell_type": "code",
   "execution_count": null,
   "id": "ef215363",
   "metadata": {},
   "outputs": [],
   "source": []
  },
  {
   "cell_type": "code",
   "execution_count": 1,
   "id": "25654274",
   "metadata": {},
   "outputs": [
    {
     "name": "stdout",
     "output_type": "stream",
     "text": [
      "Jupyter environment detected. Enabling Open3D WebVisualizer.\n",
      "[Open3D INFO] WebRTC GUI backend enabled.\n",
      "[Open3D INFO] WebRTCWindowSystem: HTTP handshake server disabled.\n",
      "_________________________First Object_________________________\n",
      "start\n",
      "my number is ->  0.0042087623291015615\n",
      "starting init\n",
      "starting calculating atts\n"
     ]
    },
    {
     "name": "stderr",
     "output_type": "stream",
     "text": [
      "100%|██████████████████████████████████████████████████████████████████████████| 29839/29839 [00:15<00:00, 1955.07it/s]\n"
     ]
    },
    {
     "name": "stdout",
     "output_type": "stream",
     "text": [
      "my radius is :  0.0070102561123232\n",
      "342635\n",
      "After graph 29839\n",
      "After Pruning 29839\n",
      "constructing borders\n",
      "shortest_allowed_branch_length 576.0\n",
      "smallest_isolated_island_length 57.0\n",
      "shortest_cycle_length 576.0\n",
      "my radius is :  0.013630894909184857\n",
      "73808\n",
      "After graph 3257\n",
      "After Pruning 358\n",
      "dilation and segmentation\n",
      "my size : 0.009199095787792207\n",
      "borders dilated\n",
      "got faces\n",
      "KNN Radius :  0.0070102561123232\n",
      "0\n",
      "expanded\n",
      "coloring\n",
      "_________________________Second Object_________________________\n",
      "start\n",
      "my number is ->  0.009152338623046877\n",
      "starting init\n",
      "starting calculating atts\n"
     ]
    },
    {
     "name": "stderr",
     "output_type": "stream",
     "text": [
      "100%|██████████████████████████████████████████████████████████████████████████| 29937/29937 [00:12<00:00, 2438.30it/s]\n"
     ]
    },
    {
     "name": "stdout",
     "output_type": "stream",
     "text": [
      "my radius is :  0.014905101449387033\n",
      "324781\n",
      "After graph 29937\n",
      "After Pruning 29937\n",
      "constructing borders\n",
      "shortest_allowed_branch_length 787.0\n",
      "smallest_isolated_island_length 78.0\n",
      "shortest_cycle_length 787.0\n",
      "my radius is :  0.025055606764133397\n",
      "104373\n",
      "After graph 6022\n",
      "After Pruning 1164\n",
      "dilation and segmentation\n",
      "my size : 0.020114852078590387\n",
      "borders dilated\n",
      "got faces\n",
      "KNN Radius :  0.014905101449387033\n",
      "0\n",
      "expanded\n",
      "coloring\n",
      "_________________________Registeration_________________________\n",
      "_________________________Evaluation_________________________\n"
     ]
    }
   ],
   "source": [
    "import ast\n",
    "\n",
    "from runner import test\n",
    "import numpy as np\n",
    "\n",
    "number = 192\n",
    "\n",
    "#objects\n",
    "Obj1_url =  \"data_test/pairwise/breaking_bad_statue_pair1/breaking_bad_cat_statue_piece1.ply\"\n",
    "Obj2_url =  \"data_test/pairwise/breaking_bad_statue_pair1/breaking_bad_cat_statue_piece2.ply\"\n",
    "\n",
    "#Before Evaluate do a Rotation and translation of\n",
    "init_R_T = ((0.2, 0.2, 0.1), (-0.5, -0.5, -0.5))\n",
    "\n",
    "\n",
    "#pipline name and pipline parameters\n",
    "pipline_name = \"pipline_breaking_bad_statue\"\n",
    "\n",
    "\n",
    "N = 15\n",
    "t1 = 100\n",
    "t2 = 100\n",
    "t3 = 100\n",
    "\n",
    "#threshold for corner\n",
    "thre = 0.95\n",
    "\n",
    "pipline_variables = (N, t1, t2, t3, thre)\n",
    "\n",
    "#test\n",
    "test_name = \"ICP_test\"\n",
    "\n",
    "# eval \n",
    "\n",
    "eval_list = [\"rms\"]\n",
    "\n",
    "test_breaking_3 = test(Obj2_url, Obj1_url, init_R_T, pipline_name, pipline_variables, test_name, eval_list, show_results = True, save_results=False)\n",
    "\n",
    "my_results = test_breaking_3.run()"
   ]
  },
  {
   "cell_type": "code",
   "execution_count": null,
   "id": "da55a452",
   "metadata": {},
   "outputs": [],
   "source": [
    "get_winner(test_breaking_3)"
   ]
  },
  {
   "cell_type": "code",
   "execution_count": 2,
   "id": "16bc68b3",
   "metadata": {},
   "outputs": [
    {
     "data": {
      "text/html": [
       "<div>\n",
       "<style scoped>\n",
       "    .dataframe tbody tr th:only-of-type {\n",
       "        vertical-align: middle;\n",
       "    }\n",
       "\n",
       "    .dataframe tbody tr th {\n",
       "        vertical-align: top;\n",
       "    }\n",
       "\n",
       "    .dataframe thead th {\n",
       "        text-align: right;\n",
       "    }\n",
       "</style>\n",
       "<table border=\"1\" class=\"dataframe\">\n",
       "  <thead>\n",
       "    <tr style=\"text-align: right;\">\n",
       "      <th></th>\n",
       "      <th>o1</th>\n",
       "      <th>o2</th>\n",
       "      <th>R_error</th>\n",
       "      <th>T_error</th>\n",
       "      <th>total</th>\n",
       "    </tr>\n",
       "  </thead>\n",
       "  <tbody>\n",
       "    <tr>\n",
       "      <th>13</th>\n",
       "      <td>1</td>\n",
       "      <td>3</td>\n",
       "      <td>5.439077</td>\n",
       "      <td>0.003802</td>\n",
       "      <td>5.442879</td>\n",
       "    </tr>\n",
       "    <tr>\n",
       "      <th>73</th>\n",
       "      <td>7</td>\n",
       "      <td>3</td>\n",
       "      <td>5.847944</td>\n",
       "      <td>0.246540</td>\n",
       "      <td>6.094483</td>\n",
       "    </tr>\n",
       "    <tr>\n",
       "      <th>99</th>\n",
       "      <td>9</td>\n",
       "      <td>9</td>\n",
       "      <td>4.189059</td>\n",
       "      <td>0.311783</td>\n",
       "      <td>4.500841</td>\n",
       "    </tr>\n",
       "    <tr>\n",
       "      <th>30</th>\n",
       "      <td>3</td>\n",
       "      <td>0</td>\n",
       "      <td>5.260624</td>\n",
       "      <td>0.415937</td>\n",
       "      <td>5.676561</td>\n",
       "    </tr>\n",
       "    <tr>\n",
       "      <th>20</th>\n",
       "      <td>2</td>\n",
       "      <td>0</td>\n",
       "      <td>5.009309</td>\n",
       "      <td>0.433198</td>\n",
       "      <td>5.442507</td>\n",
       "    </tr>\n",
       "    <tr>\n",
       "      <th>...</th>\n",
       "      <td>...</td>\n",
       "      <td>...</td>\n",
       "      <td>...</td>\n",
       "      <td>...</td>\n",
       "      <td>...</td>\n",
       "    </tr>\n",
       "    <tr>\n",
       "      <th>27</th>\n",
       "      <td>2</td>\n",
       "      <td>7</td>\n",
       "      <td>5.983981</td>\n",
       "      <td>1.723212</td>\n",
       "      <td>7.707193</td>\n",
       "    </tr>\n",
       "    <tr>\n",
       "      <th>49</th>\n",
       "      <td>4</td>\n",
       "      <td>9</td>\n",
       "      <td>6.097608</td>\n",
       "      <td>1.766091</td>\n",
       "      <td>7.863699</td>\n",
       "    </tr>\n",
       "    <tr>\n",
       "      <th>67</th>\n",
       "      <td>6</td>\n",
       "      <td>7</td>\n",
       "      <td>5.373349</td>\n",
       "      <td>1.867885</td>\n",
       "      <td>7.241234</td>\n",
       "    </tr>\n",
       "    <tr>\n",
       "      <th>61</th>\n",
       "      <td>6</td>\n",
       "      <td>1</td>\n",
       "      <td>5.525759</td>\n",
       "      <td>1.898875</td>\n",
       "      <td>7.424633</td>\n",
       "    </tr>\n",
       "    <tr>\n",
       "      <th>81</th>\n",
       "      <td>8</td>\n",
       "      <td>1</td>\n",
       "      <td>5.362625</td>\n",
       "      <td>1.937690</td>\n",
       "      <td>7.300315</td>\n",
       "    </tr>\n",
       "  </tbody>\n",
       "</table>\n",
       "<p>100 rows × 5 columns</p>\n",
       "</div>"
      ],
      "text/plain": [
       "    o1  o2   R_error   T_error     total\n",
       "13   1   3  5.439077  0.003802  5.442879\n",
       "73   7   3  5.847944  0.246540  6.094483\n",
       "99   9   9  4.189059  0.311783  4.500841\n",
       "30   3   0  5.260624  0.415937  5.676561\n",
       "20   2   0  5.009309  0.433198  5.442507\n",
       "..  ..  ..       ...       ...       ...\n",
       "27   2   7  5.983981  1.723212  7.707193\n",
       "49   4   9  6.097608  1.766091  7.863699\n",
       "67   6   7  5.373349  1.867885  7.241234\n",
       "61   6   1  5.525759  1.898875  7.424633\n",
       "81   8   1  5.362625  1.937690  7.300315\n",
       "\n",
       "[100 rows x 5 columns]"
      ]
     },
     "execution_count": 2,
     "metadata": {},
     "output_type": "execute_result"
    }
   ],
   "source": [
    "import pandas as pd\n",
    "df_breaking_3 = pd.DataFrame(test_breaking_3.results)\n",
    "df_breaking_3[\"total\"] = df_breaking_3[\"R_error\"]+df_breaking_3[\"T_error\"]\n",
    "df_breaking_3.sort_values('T_error')"
   ]
  },
  {
   "cell_type": "code",
   "execution_count": null,
   "id": "9c045143",
   "metadata": {},
   "outputs": [],
   "source": [
    "df_breaking_3['T_error'][13]"
   ]
  },
  {
   "cell_type": "code",
   "execution_count": null,
   "id": "1b5e0a5c",
   "metadata": {},
   "outputs": [],
   "source": [
    "df_breaking_3[(df_breaking_3[\"o1\"]==2) & (df_breaking_3[\"o2\"]==6)]"
   ]
  },
  {
   "cell_type": "code",
   "execution_count": null,
   "id": "6dfd9579",
   "metadata": {},
   "outputs": [],
   "source": [
    "test_breaking_3.draw_registration_result_original_color(test_breaking_3.Obj1,test_breaking_3.Obj2,test_breaking_3.result_transformation_arr[13][2])"
   ]
  },
  {
   "cell_type": "code",
   "execution_count": null,
   "id": "fbe3c774",
   "metadata": {},
   "outputs": [],
   "source": [
    "test_breaking_3.draw_registration_result_original_color(test_breaking_3.Obj1,test_breaking_3.Obj2,np.eye(4))"
   ]
  },
  {
   "cell_type": "code",
   "execution_count": null,
   "id": "8d6ab3e5",
   "metadata": {},
   "outputs": [],
   "source": [
    "test_breaking_3.draw_registration_result_original_color(test_breaking_3.Obj1,test_breaking_3.Obj2,test_breaking_3.RM_ground)"
   ]
  },
  {
   "cell_type": "code",
   "execution_count": null,
   "id": "26070d94",
   "metadata": {},
   "outputs": [],
   "source": [
    "save(\"test_breaking_3\",test_breaking_3,13)"
   ]
  },
  {
   "cell_type": "code",
   "execution_count": null,
   "id": "09e3c04f",
   "metadata": {},
   "outputs": [],
   "source": []
  },
  {
   "cell_type": "code",
   "execution_count": 8,
   "id": "363ec793",
   "metadata": {},
   "outputs": [
    {
     "name": "stdout",
     "output_type": "stream",
     "text": [
      "_________________________First Object_________________________\n",
      "start\n",
      "my number is ->  0.002590889953613281\n",
      "starting init\n",
      "starting calculating atts\n"
     ]
    },
    {
     "name": "stderr",
     "output_type": "stream",
     "text": [
      "100%|██████████████████████████████████████████████████████████████████████████| 30028/30028 [00:13<00:00, 2269.91it/s]\n"
     ]
    },
    {
     "name": "stdout",
     "output_type": "stream",
     "text": [
      "my radius is :  0.0044225677118312065\n",
      "354186\n",
      "After graph 30028\n",
      "After Pruning 30028\n",
      "constructing borders\n",
      "shortest_allowed_branch_length 312.0\n",
      "smallest_isolated_island_length 31.0\n",
      "shortest_cycle_length 312.0\n",
      "my radius is :  0.0073051332579957325\n",
      "20330\n",
      "After graph 966\n",
      "After Pruning 230\n",
      "dilation and segmentation\n",
      "my size : 0.005584685212097168\n",
      "borders dilated\n"
     ]
    },
    {
     "ename": "KeyboardInterrupt",
     "evalue": "",
     "output_type": "error",
     "traceback": [
      "\u001b[1;31m---------------------------------------------------------------------------\u001b[0m",
      "\u001b[1;31mKeyboardInterrupt\u001b[0m                         Traceback (most recent call last)",
      "Cell \u001b[1;32mIn[8], line 39\u001b[0m\n\u001b[0;32m     35\u001b[0m eval_list \u001b[38;5;241m=\u001b[39m [\u001b[38;5;124m\"\u001b[39m\u001b[38;5;124mrms\u001b[39m\u001b[38;5;124m\"\u001b[39m]\n\u001b[0;32m     37\u001b[0m test_breaking_4 \u001b[38;5;241m=\u001b[39m test(Obj2_url, Obj1_url, init_R_T, pipline_name, pipline_variables, test_name, eval_list, show_results \u001b[38;5;241m=\u001b[39m \u001b[38;5;28;01mTrue\u001b[39;00m, save_results\u001b[38;5;241m=\u001b[39m\u001b[38;5;28;01mFalse\u001b[39;00m)\n\u001b[1;32m---> 39\u001b[0m my_results \u001b[38;5;241m=\u001b[39m \u001b[43mtest_breaking_4\u001b[49m\u001b[38;5;241;43m.\u001b[39;49m\u001b[43mrun\u001b[49m\u001b[43m(\u001b[49m\u001b[43m)\u001b[49m\n",
      "File \u001b[1;32m~\\Documents\\THESIS\\runner.py:252\u001b[0m, in \u001b[0;36mtest.run\u001b[1;34m(self)\u001b[0m\n\u001b[0;32m    247\u001b[0m \u001b[38;5;28;01mdef\u001b[39;00m \u001b[38;5;21mrun\u001b[39m(\u001b[38;5;28mself\u001b[39m):\n\u001b[0;32m    248\u001b[0m \n\u001b[0;32m    249\u001b[0m     \u001b[38;5;66;03m# try:\u001b[39;00m\n\u001b[0;32m    250\u001b[0m     \u001b[38;5;28mprint\u001b[39m(\u001b[38;5;124m\"\u001b[39m\u001b[38;5;124m_________________________First Object_________________________\u001b[39m\u001b[38;5;124m\"\u001b[39m)\n\u001b[1;32m--> 252\u001b[0m     \u001b[38;5;28mself\u001b[39m\u001b[38;5;241m.\u001b[39mObj1,\u001b[38;5;28mself\u001b[39m\u001b[38;5;241m.\u001b[39mObj1_array \u001b[38;5;241m=\u001b[39m \u001b[38;5;28;43mself\u001b[39;49m\u001b[38;5;241;43m.\u001b[39;49m\u001b[43mmy_pipline\u001b[49m\u001b[38;5;241;43m.\u001b[39;49m\u001b[43mrun\u001b[49m\u001b[43m(\u001b[49m\u001b[38;5;28;43mself\u001b[39;49m\u001b[38;5;241;43m.\u001b[39;49m\u001b[43mObj1_url\u001b[49m\u001b[43m,\u001b[49m\u001b[38;5;28;43mself\u001b[39;49m\u001b[38;5;241;43m.\u001b[39;49m\u001b[43mpipline_variables\u001b[49m\u001b[43m)\u001b[49m\n\u001b[0;32m    253\u001b[0m     \u001b[38;5;28mprint\u001b[39m(\u001b[38;5;124m\"\u001b[39m\u001b[38;5;124m_________________________Second Object_________________________\u001b[39m\u001b[38;5;124m\"\u001b[39m)\n\u001b[0;32m    255\u001b[0m     \u001b[38;5;28mself\u001b[39m\u001b[38;5;241m.\u001b[39mObj2,\u001b[38;5;28mself\u001b[39m\u001b[38;5;241m.\u001b[39mObj2_array \u001b[38;5;241m=\u001b[39m \u001b[38;5;28mself\u001b[39m\u001b[38;5;241m.\u001b[39mmy_pipline\u001b[38;5;241m.\u001b[39mrun(\u001b[38;5;28mself\u001b[39m\u001b[38;5;241m.\u001b[39mObj2_url,\u001b[38;5;28mself\u001b[39m\u001b[38;5;241m.\u001b[39mpipline_variables)\n",
      "File \u001b[1;32m~\\Documents\\THESIS\\pipline_modules\\pipline_breaking_bad_statue.py:192\u001b[0m, in \u001b[0;36mrun\u001b[1;34m(Obj_url, pipline_variables)\u001b[0m\n\u001b[0;32m    188\u001b[0m dilated_border \u001b[38;5;241m=\u001b[39m dilate_border(Obj,border_nodes,\u001b[38;5;241m0.009\u001b[39m)\n\u001b[0;32m    190\u001b[0m \u001b[38;5;28mprint\u001b[39m(\u001b[38;5;124m\"\u001b[39m\u001b[38;5;124mborders dilated\u001b[39m\u001b[38;5;124m\"\u001b[39m)\n\u001b[1;32m--> 192\u001b[0m dilated_faces \u001b[38;5;241m=\u001b[39m \u001b[43mget_sides\u001b[49m\u001b[43m(\u001b[49m\u001b[43mpruned_graph_original\u001b[49m\u001b[43m,\u001b[49m\u001b[43m \u001b[49m\u001b[43mdilated_border\u001b[49m\u001b[43m)\u001b[49m\n\u001b[0;32m    194\u001b[0m \u001b[38;5;28mprint\u001b[39m(\u001b[38;5;124m\"\u001b[39m\u001b[38;5;124mgot faces\u001b[39m\u001b[38;5;124m\"\u001b[39m)\n\u001b[0;32m    196\u001b[0m node_face \u001b[38;5;241m=\u001b[39m {}\n",
      "File \u001b[1;32m~\\Documents\\THESIS\\pipline_modules\\pipline_breaking_bad_statue.py:76\u001b[0m, in \u001b[0;36mget_sides\u001b[1;34m(Graph, borders)\u001b[0m\n\u001b[0;32m     74\u001b[0m                 all_visited\u001b[38;5;241m.\u001b[39madd(neighbor)\n\u001b[0;32m     75\u001b[0m                 \u001b[38;5;28;01mif\u001b[39;00m neighbor \u001b[38;5;129;01mnot\u001b[39;00m \u001b[38;5;129;01min\u001b[39;00m borders:\n\u001b[1;32m---> 76\u001b[0m                     \u001b[43mqueue\u001b[49m\u001b[38;5;241;43m.\u001b[39;49m\u001b[43mappend\u001b[49m\u001b[43m(\u001b[49m\u001b[43mneighbor\u001b[49m\u001b[43m)\u001b[49m\n\u001b[0;32m     77\u001b[0m     faces\u001b[38;5;241m.\u001b[39mappend((\u001b[38;5;28mlen\u001b[39m(visited),visited))\n\u001b[0;32m     78\u001b[0m sorted_faces \u001b[38;5;241m=\u001b[39m \u001b[38;5;28msorted\u001b[39m(faces,key \u001b[38;5;241m=\u001b[39m \u001b[38;5;28;01mlambda\u001b[39;00m key:key[\u001b[38;5;241m0\u001b[39m], reverse \u001b[38;5;241m=\u001b[39m \u001b[38;5;28;01mTrue\u001b[39;00m)\n",
      "\u001b[1;31mKeyboardInterrupt\u001b[0m: "
     ]
    }
   ],
   "source": [
    "import ast\n",
    "\n",
    "from runner import test\n",
    "import numpy as np\n",
    "\n",
    "number = 192\n",
    "\n",
    "#objects\n",
    "Obj1_url =  \"data_test/pairwise/breaking_bad_toyfigure_pair1/breaking_bad_cat_toyfigure_piece1.ply\"\n",
    "Obj2_url =  \"data_test/pairwise/breaking_bad_toyfigure_pair1/breaking_bad_cat_toyfigure_piece2.ply\"\n",
    "\n",
    "#Before Evaluate do a Rotation and translation of\n",
    "init_R_T = ((0.2, 0.2, 0.1), (-0.5, -0.5, -0.5))\n",
    "\n",
    "\n",
    "#pipline name and pipline parameters\n",
    "pipline_name = \"pipline_breaking_bad_statue\"\n",
    "\n",
    "\n",
    "N = 15\n",
    "t1 = 100\n",
    "t2 = 100\n",
    "t3 = 100\n",
    "\n",
    "#threshold for corner\n",
    "thre = 0.95\n",
    "\n",
    "pipline_variables = (N, t1, t2, t3, thre)\n",
    "\n",
    "#test\n",
    "test_name = \"ICP_test\"\n",
    "\n",
    "# eval \n",
    "\n",
    "eval_list = [\"rms\"]\n",
    "\n",
    "test_breaking_4 = test(Obj2_url, Obj1_url, init_R_T, pipline_name, pipline_variables, test_name, eval_list, show_results = True, save_results=False)\n",
    "\n",
    "my_results = test_breaking_4.run()"
   ]
  },
  {
   "cell_type": "code",
   "execution_count": null,
   "id": "99866e31",
   "metadata": {},
   "outputs": [],
   "source": [
    "import pandas as pd\n",
    "df_breaking_4 = pd.DataFrame(test_breaking_4.results)\n",
    "df_breaking_4[\"total\"] = df_breaking_4[\"R_error\"]+df_breaking_4[\"T_error\"]\n",
    "df_breaking_4.sort_values('T_error')"
   ]
  },
  {
   "cell_type": "code",
   "execution_count": null,
   "id": "a1755e40",
   "metadata": {},
   "outputs": [],
   "source": [
    "test_breaking_4.draw_registration_result_original_color(test_breaking_4.Obj1,test_breaking_4.Obj2,test_breaking_4.result_transformation_arr[106][2])"
   ]
  },
  {
   "cell_type": "code",
   "execution_count": null,
   "id": "b41ddca1",
   "metadata": {},
   "outputs": [],
   "source": [
    "test_breaking_4.draw_registration_result_original_color(test_breaking_4.Obj1,test_breaking_4.Obj2,np.eye(4))"
   ]
  },
  {
   "cell_type": "code",
   "execution_count": null,
   "id": "32345bac",
   "metadata": {},
   "outputs": [],
   "source": [
    "test_breaking_4.draw_registration_result_original_color(test_breaking_4.Obj1,test_breaking_4.Obj2,test_breaking_3.RM_ground)"
   ]
  },
  {
   "cell_type": "markdown",
   "id": "7114c11a",
   "metadata": {},
   "source": [
    "breaking_bad 3"
   ]
  },
  {
   "cell_type": "code",
   "execution_count": 7,
   "id": "4751440f",
   "metadata": {},
   "outputs": [
    {
     "name": "stdout",
     "output_type": "stream",
     "text": [
      "_________________________First Object_________________________\n",
      "start\n",
      "1.obj\n",
      "starting init\n",
      "starting calculating atts\n"
     ]
    },
    {
     "name": "stderr",
     "output_type": "stream",
     "text": [
      "100%|██████████████████████████████████████████████████████████████████████████| 40000/40000 [00:24<00:00, 1652.62it/s]\n"
     ]
    },
    {
     "name": "stdout",
     "output_type": "stream",
     "text": [
      "my radius is :  0.004610885611953303\n",
      "434102\n",
      "After graph 39976\n",
      "constructing borders\n",
      "16152\n",
      "shortest_allowed_branch_length 2.0\n",
      "smallest_isolated_island_length 2.0\n",
      "shortest_cycle_length 2.0\n",
      "my radius is :  0.005309347824661975\n",
      "237640\n",
      "After graph 16144\n",
      "After Pruning 16132\n",
      "After Pruning 16144\n",
      "dilation and segmentation\n",
      "borders dilated\n"
     ]
    },
    {
     "name": "stderr",
     "output_type": "stream",
     "text": [
      "  1%|█                                                                             | 568/39976 [00:09<10:42, 61.33it/s]"
     ]
    },
    {
     "name": "stdout",
     "output_type": "stream",
     "text": [
      "252\n"
     ]
    },
    {
     "name": "stderr",
     "output_type": "stream",
     "text": [
      "  1%|█▏                                                                            | 594/39976 [00:10<10:39, 61.59it/s]"
     ]
    },
    {
     "name": "stdout",
     "output_type": "stream",
     "text": [
      "11\n",
      "1\n"
     ]
    },
    {
     "name": "stderr",
     "output_type": "stream",
     "text": [
      "  2%|█▎                                                                            | 646/39976 [00:10<10:49, 60.59it/s]"
     ]
    },
    {
     "name": "stdout",
     "output_type": "stream",
     "text": [
      "24\n",
      "3\n",
      "1\n"
     ]
    },
    {
     "name": "stderr",
     "output_type": "stream",
     "text": [
      "  2%|█▎                                                                            | 661/39976 [00:11<13:21, 49.03it/s]"
     ]
    },
    {
     "name": "stdout",
     "output_type": "stream",
     "text": [
      "1\n",
      "1\n",
      "1\n"
     ]
    },
    {
     "name": "stderr",
     "output_type": "stream",
     "text": [
      "  2%|█▍                                                                            | 732/39976 [00:12<13:59, 46.73it/s]"
     ]
    },
    {
     "name": "stdout",
     "output_type": "stream",
     "text": [
      "35\n",
      "1\n"
     ]
    },
    {
     "name": "stderr",
     "output_type": "stream",
     "text": [
      "  2%|█▍                                                                            | 748/39976 [00:13<16:20, 40.03it/s]"
     ]
    },
    {
     "name": "stdout",
     "output_type": "stream",
     "text": [
      "1\n",
      "4\n"
     ]
    },
    {
     "name": "stderr",
     "output_type": "stream",
     "text": [
      "\r",
      "  2%|█▍                                                                            | 758/39976 [00:13<15:01, 43.48it/s]"
     ]
    },
    {
     "name": "stdout",
     "output_type": "stream",
     "text": [
      "1\n"
     ]
    },
    {
     "name": "stderr",
     "output_type": "stream",
     "text": [
      "  2%|█▋                                                                            | 854/39976 [00:15<17:00, 38.33it/s]"
     ]
    },
    {
     "name": "stdout",
     "output_type": "stream",
     "text": [
      "44\n",
      "1\n"
     ]
    },
    {
     "name": "stderr",
     "output_type": "stream",
     "text": [
      "\r",
      "  2%|█▋                                                                            | 859/39976 [00:16<24:57, 26.11it/s]"
     ]
    },
    {
     "name": "stdout",
     "output_type": "stream",
     "text": [
      "1\n",
      "1\n",
      "1\n"
     ]
    },
    {
     "name": "stderr",
     "output_type": "stream",
     "text": [
      "\r",
      "  2%|█▋                                                                            | 864/39976 [00:16<27:34, 23.64it/s]"
     ]
    },
    {
     "name": "stdout",
     "output_type": "stream",
     "text": [
      "1\n",
      "1\n",
      "1\n",
      "1\n"
     ]
    },
    {
     "name": "stderr",
     "output_type": "stream",
     "text": [
      "\r",
      "  2%|█▋                                                                            | 867/39976 [00:16<30:01, 21.71it/s]"
     ]
    },
    {
     "name": "stdout",
     "output_type": "stream",
     "text": [
      "1\n"
     ]
    },
    {
     "name": "stderr",
     "output_type": "stream",
     "text": [
      "  2%|█▋                                                                            | 884/39976 [00:17<37:45, 17.25it/s]"
     ]
    },
    {
     "name": "stdout",
     "output_type": "stream",
     "text": [
      "5\n"
     ]
    },
    {
     "name": "stderr",
     "output_type": "stream",
     "text": [
      "  3%|█▉                                                                           | 1023/39976 [00:23<35:27, 18.31it/s]"
     ]
    },
    {
     "name": "stdout",
     "output_type": "stream",
     "text": [
      "62\n",
      "1\n"
     ]
    },
    {
     "name": "stderr",
     "output_type": "stream",
     "text": [
      "  3%|█▉                                                                           | 1028/39976 [00:24<49:37, 13.08it/s]"
     ]
    },
    {
     "name": "stdout",
     "output_type": "stream",
     "text": [
      "1\n",
      "1\n",
      "1\n"
     ]
    },
    {
     "name": "stderr",
     "output_type": "stream",
     "text": [
      "  3%|██                                                                           | 1052/39976 [00:25<29:32, 21.96it/s]"
     ]
    },
    {
     "name": "stdout",
     "output_type": "stream",
     "text": [
      "7\n",
      "1\n"
     ]
    },
    {
     "name": "stderr",
     "output_type": "stream",
     "text": [
      "\r",
      "  3%|██                                                                           | 1055/39976 [00:25<29:20, 22.11it/s]"
     ]
    },
    {
     "name": "stdout",
     "output_type": "stream",
     "text": [
      "1\n"
     ]
    },
    {
     "name": "stderr",
     "output_type": "stream",
     "text": [
      "  3%|██                                                                           | 1068/39976 [00:26<31:40, 20.48it/s]"
     ]
    },
    {
     "name": "stdout",
     "output_type": "stream",
     "text": [
      "5\n"
     ]
    },
    {
     "name": "stderr",
     "output_type": "stream",
     "text": [
      "  3%|██                                                                           | 1086/39976 [00:26<22:27, 28.85it/s]"
     ]
    },
    {
     "name": "stdout",
     "output_type": "stream",
     "text": [
      "2\n",
      "3\n"
     ]
    },
    {
     "name": "stderr",
     "output_type": "stream",
     "text": [
      "\r",
      "  3%|██                                                                           | 1090/39976 [00:27<27:51, 23.27it/s]"
     ]
    },
    {
     "name": "stdout",
     "output_type": "stream",
     "text": [
      "1\n",
      "1\n",
      "1\n",
      "1\n",
      "1\n"
     ]
    },
    {
     "name": "stderr",
     "output_type": "stream",
     "text": [
      "\r",
      "  3%|██                                                                           | 1094/39976 [00:27<35:15, 18.38it/s]"
     ]
    },
    {
     "name": "stdout",
     "output_type": "stream",
     "text": [
      "1\n"
     ]
    },
    {
     "name": "stderr",
     "output_type": "stream",
     "text": [
      "  3%|██▏                                                                          | 1122/39976 [00:28<25:50, 25.06it/s]"
     ]
    },
    {
     "name": "stdout",
     "output_type": "stream",
     "text": [
      "12\n"
     ]
    },
    {
     "name": "stderr",
     "output_type": "stream",
     "text": [
      "\r",
      "  3%|██▏                                                                          | 1126/39976 [00:28<34:52, 18.57it/s]"
     ]
    },
    {
     "name": "stdout",
     "output_type": "stream",
     "text": [
      "1\n",
      "1\n"
     ]
    },
    {
     "name": "stderr",
     "output_type": "stream",
     "text": [
      "  3%|██▏                                                                          | 1151/39976 [00:29<15:40, 41.29it/s]"
     ]
    },
    {
     "name": "stdout",
     "output_type": "stream",
     "text": [
      "8\n"
     ]
    },
    {
     "name": "stderr",
     "output_type": "stream",
     "text": [
      "  3%|██▏                                                                          | 1167/39976 [00:29<15:20, 42.15it/s]"
     ]
    },
    {
     "name": "stdout",
     "output_type": "stream",
     "text": [
      "6\n"
     ]
    },
    {
     "name": "stderr",
     "output_type": "stream",
     "text": [
      "  3%|██▋                                                                          | 1375/39976 [00:33<08:46, 73.26it/s]"
     ]
    },
    {
     "name": "stdout",
     "output_type": "stream",
     "text": [
      "87\n"
     ]
    },
    {
     "name": "stderr",
     "output_type": "stream",
     "text": [
      "  3%|██▋                                                                          | 1399/39976 [00:33<08:21, 76.98it/s]"
     ]
    },
    {
     "name": "stdout",
     "output_type": "stream",
     "text": [
      "6\n"
     ]
    },
    {
     "name": "stderr",
     "output_type": "stream",
     "text": [
      "  4%|██▋                                                                          | 1416/39976 [00:33<10:52, 59.12it/s]"
     ]
    },
    {
     "name": "stdout",
     "output_type": "stream",
     "text": [
      "12\n"
     ]
    },
    {
     "name": "stderr",
     "output_type": "stream",
     "text": [
      "  4%|██▉                                                                          | 1500/39976 [00:35<10:58, 58.41it/s]"
     ]
    },
    {
     "name": "stdout",
     "output_type": "stream",
     "text": [
      "36\n"
     ]
    },
    {
     "name": "stderr",
     "output_type": "stream",
     "text": [
      "  4%|██▉                                                                          | 1516/39976 [00:35<12:08, 52.81it/s]"
     ]
    },
    {
     "name": "stdout",
     "output_type": "stream",
     "text": [
      "9\n",
      "5\n",
      "1\n"
     ]
    },
    {
     "name": "stderr",
     "output_type": "stream",
     "text": [
      "  4%|██▉                                                                          | 1529/39976 [00:35<12:17, 52.14it/s]"
     ]
    },
    {
     "name": "stdout",
     "output_type": "stream",
     "text": [
      "1\n",
      "1\n",
      "3\n",
      "1\n"
     ]
    },
    {
     "name": "stderr",
     "output_type": "stream",
     "text": [
      "  4%|██▉                                                                          | 1543/39976 [00:35<13:19, 48.09it/s]"
     ]
    },
    {
     "name": "stdout",
     "output_type": "stream",
     "text": [
      "1\n",
      "1\n",
      "1\n",
      "1\n",
      "1\n"
     ]
    },
    {
     "name": "stderr",
     "output_type": "stream",
     "text": [
      "\r",
      "  4%|██▉                                                                          | 1555/39976 [00:36<12:19, 51.93it/s]"
     ]
    },
    {
     "name": "stdout",
     "output_type": "stream",
     "text": [
      "1\n",
      "1\n",
      "1\n"
     ]
    },
    {
     "name": "stderr",
     "output_type": "stream",
     "text": [
      "  4%|███▎                                                                         | 1748/39976 [00:39<10:22, 61.44it/s]"
     ]
    },
    {
     "name": "stdout",
     "output_type": "stream",
     "text": [
      "89\n",
      "1\n",
      "1\n"
     ]
    },
    {
     "name": "stderr",
     "output_type": "stream",
     "text": [
      "  4%|███▍                                                                         | 1768/39976 [00:40<13:50, 45.99it/s]"
     ]
    },
    {
     "name": "stdout",
     "output_type": "stream",
     "text": [
      "1\n"
     ]
    },
    {
     "name": "stderr",
     "output_type": "stream",
     "text": [
      "  6%|████▋                                                                        | 2462/39976 [00:52<14:24, 43.39it/s]"
     ]
    },
    {
     "name": "stdout",
     "output_type": "stream",
     "text": [
      "313\n",
      "1\n",
      "1\n",
      "1\n"
     ]
    },
    {
     "name": "stderr",
     "output_type": "stream",
     "text": [
      "\r",
      "  6%|████▊                                                                        | 2468/39976 [00:52<15:29, 40.37it/s]"
     ]
    },
    {
     "name": "stdout",
     "output_type": "stream",
     "text": [
      "1\n",
      "1\n",
      "2\n",
      "1\n"
     ]
    },
    {
     "name": "stderr",
     "output_type": "stream",
     "text": [
      "\r",
      "  6%|████▊                                                                        | 2474/39976 [00:52<15:36, 40.02it/s]"
     ]
    },
    {
     "name": "stdout",
     "output_type": "stream",
     "text": [
      "1\n",
      "1\n",
      "1\n",
      "1\n"
     ]
    },
    {
     "name": "stderr",
     "output_type": "stream",
     "text": [
      "  6%|████▊                                                                        | 2483/39976 [00:52<20:11, 30.94it/s]"
     ]
    },
    {
     "name": "stdout",
     "output_type": "stream",
     "text": [
      "1\n",
      "1\n",
      "2\n",
      "1\n"
     ]
    },
    {
     "name": "stderr",
     "output_type": "stream",
     "text": [
      "  9%|███████                                                                      | 3663/39976 [01:12<09:00, 67.22it/s]"
     ]
    },
    {
     "name": "stdout",
     "output_type": "stream",
     "text": [
      "525\n"
     ]
    },
    {
     "name": "stderr",
     "output_type": "stream",
     "text": [
      "  9%|███████                                                                      | 3695/39976 [01:13<12:00, 50.37it/s]"
     ]
    },
    {
     "name": "stdout",
     "output_type": "stream",
     "text": [
      "10\n",
      "1\n"
     ]
    },
    {
     "name": "stderr",
     "output_type": "stream",
     "text": [
      " 11%|████████▍                                                                    | 4388/39976 [01:26<10:37, 55.82it/s]"
     ]
    },
    {
     "name": "stdout",
     "output_type": "stream",
     "text": [
      "312\n",
      "1\n",
      "2\n"
     ]
    },
    {
     "name": "stderr",
     "output_type": "stream",
     "text": [
      " 11%|████████▍                                                                    | 4399/39976 [01:26<13:55, 42.56it/s]"
     ]
    },
    {
     "name": "stdout",
     "output_type": "stream",
     "text": [
      "1\n",
      "1\n",
      "5\n"
     ]
    },
    {
     "name": "stderr",
     "output_type": "stream",
     "text": [
      "\r",
      " 11%|████████▍                                                                    | 4405/39976 [01:26<15:16, 38.83it/s]"
     ]
    },
    {
     "name": "stdout",
     "output_type": "stream",
     "text": [
      "1\n",
      "4\n"
     ]
    },
    {
     "name": "stderr",
     "output_type": "stream",
     "text": [
      " 11%|████████▌                                                                    | 4414/39976 [01:27<22:56, 25.84it/s]"
     ]
    },
    {
     "name": "stdout",
     "output_type": "stream",
     "text": [
      "1\n",
      "1\n",
      "1\n",
      "1\n"
     ]
    },
    {
     "name": "stderr",
     "output_type": "stream",
     "text": [
      "\r",
      " 11%|████████▌                                                                    | 4422/39976 [01:27<18:25, 32.15it/s]"
     ]
    },
    {
     "name": "stdout",
     "output_type": "stream",
     "text": [
      "1\n",
      "1\n",
      "1\n"
     ]
    },
    {
     "name": "stderr",
     "output_type": "stream",
     "text": [
      " 11%|████████▌                                                                    | 4441/39976 [01:27<13:14, 44.71it/s]"
     ]
    },
    {
     "name": "stdout",
     "output_type": "stream",
     "text": [
      "4\n",
      "3\n",
      "2\n"
     ]
    },
    {
     "name": "stderr",
     "output_type": "stream",
     "text": [
      " 11%|████████▌                                                                    | 4451/39976 [01:27<14:00, 42.26it/s]"
     ]
    },
    {
     "name": "stdout",
     "output_type": "stream",
     "text": [
      "2\n",
      "1\n",
      "1\n",
      "1\n",
      "1\n",
      "1\n"
     ]
    },
    {
     "name": "stderr",
     "output_type": "stream",
     "text": [
      " 11%|████████▌                                                                    | 4477/39976 [01:28<18:34, 31.86it/s]"
     ]
    },
    {
     "name": "stdout",
     "output_type": "stream",
     "text": [
      "6\n",
      "1\n",
      "2\n",
      "1\n"
     ]
    },
    {
     "name": "stderr",
     "output_type": "stream",
     "text": [
      " 11%|████████▋                                                                    | 4485/39976 [01:28<20:05, 29.43it/s]"
     ]
    },
    {
     "name": "stdout",
     "output_type": "stream",
     "text": [
      "3\n"
     ]
    },
    {
     "name": "stderr",
     "output_type": "stream",
     "text": [
      " 11%|████████▋                                                                    | 4504/39976 [01:29<15:47, 37.44it/s]"
     ]
    },
    {
     "name": "stdout",
     "output_type": "stream",
     "text": [
      "8\n",
      "1\n"
     ]
    },
    {
     "name": "stderr",
     "output_type": "stream",
     "text": [
      " 11%|████████▋                                                                    | 4521/39976 [01:29<11:13, 52.62it/s]"
     ]
    },
    {
     "name": "stdout",
     "output_type": "stream",
     "text": [
      "5\n"
     ]
    },
    {
     "name": "stderr",
     "output_type": "stream",
     "text": [
      " 11%|████████▊                                                                    | 4545/39976 [01:30<10:34, 55.87it/s]"
     ]
    },
    {
     "name": "stdout",
     "output_type": "stream",
     "text": [
      "11\n",
      "3\n"
     ]
    },
    {
     "name": "stderr",
     "output_type": "stream",
     "text": [
      "\r",
      " 11%|████████▊                                                                    | 4554/39976 [01:30<11:54, 49.58it/s]"
     ]
    },
    {
     "name": "stdout",
     "output_type": "stream",
     "text": [
      "1\n",
      "5\n",
      "1\n"
     ]
    },
    {
     "name": "stderr",
     "output_type": "stream",
     "text": [
      " 11%|████████▊                                                                    | 4580/39976 [01:30<09:43, 60.70it/s]"
     ]
    },
    {
     "name": "stdout",
     "output_type": "stream",
     "text": [
      "1\n",
      "1\n",
      "1\n",
      "1\n",
      "3\n"
     ]
    },
    {
     "name": "stderr",
     "output_type": "stream",
     "text": [
      "\r",
      " 11%|████████▊                                                                    | 4593/39976 [01:31<11:09, 52.82it/s]"
     ]
    },
    {
     "name": "stdout",
     "output_type": "stream",
     "text": [
      "1\n"
     ]
    },
    {
     "name": "stderr",
     "output_type": "stream",
     "text": [
      " 12%|█████████▎                                                                   | 4811/39976 [01:34<08:03, 72.66it/s]"
     ]
    },
    {
     "name": "stdout",
     "output_type": "stream",
     "text": [
      "99\n",
      "1\n"
     ]
    },
    {
     "name": "stderr",
     "output_type": "stream",
     "text": [
      "\r",
      " 12%|█████████▎                                                                   | 4820/39976 [01:34<11:49, 49.58it/s]"
     ]
    },
    {
     "name": "stdout",
     "output_type": "stream",
     "text": [
      "1\n"
     ]
    },
    {
     "name": "stderr",
     "output_type": "stream",
     "text": [
      "\r",
      " 12%|█████████▎                                                                   | 4830/39976 [01:35<16:53, 34.66it/s]"
     ]
    },
    {
     "name": "stdout",
     "output_type": "stream",
     "text": [
      "1\n",
      "1\n",
      "1\n"
     ]
    },
    {
     "name": "stderr",
     "output_type": "stream",
     "text": [
      " 12%|█████████▎                                                                   | 4858/39976 [01:35<12:38, 46.32it/s]"
     ]
    },
    {
     "name": "stdout",
     "output_type": "stream",
     "text": [
      "16\n",
      "1\n",
      "1\n",
      "1\n"
     ]
    },
    {
     "name": "stderr",
     "output_type": "stream",
     "text": [
      "\r",
      " 12%|█████████▎                                                                   | 4864/39976 [01:36<19:50, 29.49it/s]"
     ]
    },
    {
     "name": "stdout",
     "output_type": "stream",
     "text": [
      "1\n",
      "1\n",
      "1\n"
     ]
    },
    {
     "name": "stderr",
     "output_type": "stream",
     "text": [
      "\r",
      " 12%|█████████▍                                                                   | 4869/39976 [01:36<22:52, 25.58it/s]"
     ]
    },
    {
     "name": "stdout",
     "output_type": "stream",
     "text": [
      "1\n",
      "1\n",
      "1\n"
     ]
    },
    {
     "name": "stderr",
     "output_type": "stream",
     "text": [
      "\r",
      " 12%|█████████▍                                                                   | 4873/39976 [01:36<24:41, 23.69it/s]"
     ]
    },
    {
     "name": "stdout",
     "output_type": "stream",
     "text": [
      "1\n",
      "1\n",
      "1\n"
     ]
    },
    {
     "name": "stderr",
     "output_type": "stream",
     "text": [
      "\r",
      " 12%|█████████▍                                                                   | 4878/39976 [01:37<32:09, 18.19it/s]"
     ]
    },
    {
     "name": "stdout",
     "output_type": "stream",
     "text": [
      "1\n",
      "1\n",
      "1\n"
     ]
    },
    {
     "name": "stderr",
     "output_type": "stream",
     "text": [
      " 12%|█████████▍                                                                   | 4893/39976 [01:38<31:05, 18.81it/s]"
     ]
    },
    {
     "name": "stdout",
     "output_type": "stream",
     "text": [
      "1\n"
     ]
    },
    {
     "name": "stderr",
     "output_type": "stream",
     "text": [
      "\r",
      " 12%|█████████▍                                                                   | 4899/39976 [01:38<24:23, 23.97it/s]"
     ]
    },
    {
     "name": "stdout",
     "output_type": "stream",
     "text": [
      "8\n",
      "2\n",
      "1\n"
     ]
    },
    {
     "name": "stderr",
     "output_type": "stream",
     "text": [
      " 12%|█████████▍                                                                   | 4909/39976 [01:38<26:36, 21.96it/s]"
     ]
    },
    {
     "name": "stdout",
     "output_type": "stream",
     "text": [
      "3\n",
      "1\n"
     ]
    },
    {
     "name": "stderr",
     "output_type": "stream",
     "text": [
      " 13%|█████████▋                                                                   | 5029/39976 [01:40<09:05, 64.06it/s]"
     ]
    },
    {
     "name": "stdout",
     "output_type": "stream",
     "text": [
      "51\n",
      "1\n"
     ]
    },
    {
     "name": "stderr",
     "output_type": "stream",
     "text": [
      "\r",
      " 13%|█████████▋                                                                   | 5037/39976 [01:41<17:09, 33.94it/s]"
     ]
    },
    {
     "name": "stdout",
     "output_type": "stream",
     "text": [
      "1\n",
      "1\n",
      "1\n",
      "2\n",
      "1\n",
      "1\n"
     ]
    },
    {
     "name": "stderr",
     "output_type": "stream",
     "text": [
      " 13%|█████████▊                                                                   | 5079/39976 [01:42<12:23, 46.96it/s]"
     ]
    },
    {
     "name": "stdout",
     "output_type": "stream",
     "text": [
      "16\n",
      "1\n",
      "1\n"
     ]
    },
    {
     "name": "stderr",
     "output_type": "stream",
     "text": [
      "\r",
      " 13%|█████████▊                                                                   | 5087/39976 [01:42<17:05, 34.03it/s]"
     ]
    },
    {
     "name": "stdout",
     "output_type": "stream",
     "text": [
      "1\n",
      "1\n"
     ]
    },
    {
     "name": "stderr",
     "output_type": "stream",
     "text": [
      " 13%|█████████▊                                                                   | 5107/39976 [01:43<12:31, 46.43it/s]"
     ]
    },
    {
     "name": "stdout",
     "output_type": "stream",
     "text": [
      "8\n",
      "1\n"
     ]
    },
    {
     "name": "stderr",
     "output_type": "stream",
     "text": [
      " 14%|██████████▍                                                                  | 5398/39976 [01:47<09:30, 60.58it/s]"
     ]
    },
    {
     "name": "stdout",
     "output_type": "stream",
     "text": [
      "130\n",
      "1\n"
     ]
    },
    {
     "name": "stderr",
     "output_type": "stream",
     "text": [
      "\r",
      " 14%|██████████▍                                                                  | 5405/39976 [01:48<15:50, 36.37it/s]"
     ]
    },
    {
     "name": "stdout",
     "output_type": "stream",
     "text": [
      "1\n",
      "1\n",
      "1\n",
      "1\n"
     ]
    },
    {
     "name": "stderr",
     "output_type": "stream",
     "text": [
      " 14%|██████████▌                                                                  | 5474/39976 [01:49<10:53, 52.83it/s]"
     ]
    },
    {
     "name": "stdout",
     "output_type": "stream",
     "text": [
      "26\n",
      "4\n",
      "1\n",
      "1\n"
     ]
    },
    {
     "name": "stderr",
     "output_type": "stream",
     "text": [
      "\r",
      " 14%|██████████▌                                                                  | 5480/39976 [01:49<12:47, 44.94it/s]"
     ]
    },
    {
     "name": "stdout",
     "output_type": "stream",
     "text": [
      "1\n",
      "1\n",
      "1\n"
     ]
    },
    {
     "name": "stderr",
     "output_type": "stream",
     "text": [
      " 14%|███████████                                                                  | 5746/39976 [01:54<10:46, 52.94it/s]"
     ]
    },
    {
     "name": "stdout",
     "output_type": "stream",
     "text": [
      "115\n",
      "1\n",
      "1\n",
      "1\n"
     ]
    },
    {
     "name": "stderr",
     "output_type": "stream",
     "text": [
      " 14%|███████████                                                                  | 5760/39976 [01:54<11:09, 51.08it/s]"
     ]
    },
    {
     "name": "stdout",
     "output_type": "stream",
     "text": [
      "2\n"
     ]
    },
    {
     "name": "stderr",
     "output_type": "stream",
     "text": [
      "\r",
      " 14%|███████████                                                                  | 5768/39976 [01:54<10:45, 52.99it/s]"
     ]
    },
    {
     "name": "stdout",
     "output_type": "stream",
     "text": [
      "6\n",
      "1\n"
     ]
    },
    {
     "name": "stderr",
     "output_type": "stream",
     "text": [
      " 14%|███████████▏                                                                 | 5780/39976 [01:55<15:12, 37.48it/s]"
     ]
    },
    {
     "name": "stdout",
     "output_type": "stream",
     "text": [
      "2\n",
      "1\n",
      "1\n",
      "4\n"
     ]
    },
    {
     "name": "stderr",
     "output_type": "stream",
     "text": [
      "\r",
      " 14%|███████████▏                                                                 | 5785/39976 [01:55<16:10, 35.25it/s]"
     ]
    },
    {
     "name": "stdout",
     "output_type": "stream",
     "text": [
      "1\n"
     ]
    },
    {
     "name": "stderr",
     "output_type": "stream",
     "text": [
      " 14%|███████████▏                                                                 | 5793/39976 [01:56<40:22, 14.11it/s]"
     ]
    },
    {
     "name": "stdout",
     "output_type": "stream",
     "text": [
      "3\n",
      "1\n"
     ]
    },
    {
     "name": "stderr",
     "output_type": "stream",
     "text": [
      "\r",
      " 14%|███████████▏                                                                 | 5796/39976 [01:56<37:48, 15.07it/s]"
     ]
    },
    {
     "name": "stdout",
     "output_type": "stream",
     "text": [
      "1\n",
      "1\n",
      "1\n",
      "1\n"
     ]
    },
    {
     "name": "stderr",
     "output_type": "stream",
     "text": [
      " 15%|███████████▏                                                                 | 5803/39976 [01:57<32:19, 17.62it/s]"
     ]
    },
    {
     "name": "stdout",
     "output_type": "stream",
     "text": [
      "1\n",
      "1\n",
      "1\n",
      "1\n",
      "1\n",
      "1\n",
      "1\n",
      "1\n"
     ]
    },
    {
     "name": "stderr",
     "output_type": "stream",
     "text": [
      " 15%|███████████▏                                                                 | 5814/39976 [01:57<20:03, 28.38it/s]"
     ]
    },
    {
     "name": "stdout",
     "output_type": "stream",
     "text": [
      "1\n",
      "1\n",
      "3\n"
     ]
    },
    {
     "name": "stderr",
     "output_type": "stream",
     "text": [
      " 15%|███████████▏                                                                 | 5824/39976 [01:57<16:58, 33.54it/s]"
     ]
    },
    {
     "name": "stdout",
     "output_type": "stream",
     "text": [
      "1\n"
     ]
    },
    {
     "name": "stderr",
     "output_type": "stream",
     "text": [
      "\r",
      " 15%|███████████▏                                                                 | 5829/39976 [01:57<16:35, 34.30it/s]"
     ]
    },
    {
     "name": "stdout",
     "output_type": "stream",
     "text": [
      "3\n",
      "1\n",
      "1\n"
     ]
    },
    {
     "name": "stderr",
     "output_type": "stream",
     "text": [
      "\r",
      " 15%|███████████▏                                                                 | 5834/39976 [01:57<17:55, 31.75it/s]"
     ]
    },
    {
     "name": "stdout",
     "output_type": "stream",
     "text": [
      "1\n",
      "1\n",
      "1\n"
     ]
    },
    {
     "name": "stderr",
     "output_type": "stream",
     "text": [
      " 15%|███████████▎                                                                 | 5859/39976 [01:58<13:52, 40.99it/s]"
     ]
    },
    {
     "name": "stdout",
     "output_type": "stream",
     "text": [
      "6\n",
      "1\n"
     ]
    },
    {
     "name": "stderr",
     "output_type": "stream",
     "text": [
      " 15%|███████████▎                                                                 | 5872/39976 [01:58<13:02, 43.58it/s]"
     ]
    },
    {
     "name": "stdout",
     "output_type": "stream",
     "text": [
      "7\n"
     ]
    },
    {
     "name": "stderr",
     "output_type": "stream",
     "text": [
      " 15%|███████████▍                                                                 | 5919/39976 [01:59<11:30, 49.35it/s]"
     ]
    },
    {
     "name": "stdout",
     "output_type": "stream",
     "text": [
      "20\n",
      "1\n",
      "3\n"
     ]
    },
    {
     "name": "stderr",
     "output_type": "stream",
     "text": [
      " 15%|███████████▍                                                                 | 5937/39976 [02:00<18:37, 30.45it/s]"
     ]
    },
    {
     "name": "stdout",
     "output_type": "stream",
     "text": [
      "1\n",
      "1\n",
      "1\n",
      "1\n",
      "1\n"
     ]
    },
    {
     "name": "stderr",
     "output_type": "stream",
     "text": [
      " 15%|███████████▍                                                                 | 5968/39976 [02:01<14:35, 38.84it/s]"
     ]
    },
    {
     "name": "stdout",
     "output_type": "stream",
     "text": [
      "10\n",
      "4\n"
     ]
    },
    {
     "name": "stderr",
     "output_type": "stream",
     "text": [
      " 15%|███████████▌                                                                 | 6016/39976 [02:02<09:25, 60.02it/s]"
     ]
    },
    {
     "name": "stdout",
     "output_type": "stream",
     "text": [
      "19\n",
      "1\n",
      "1\n",
      "1\n",
      "1\n",
      "1\n"
     ]
    },
    {
     "name": "stderr",
     "output_type": "stream",
     "text": [
      " 15%|███████████▌                                                                 | 6028/39976 [02:02<15:41, 36.05it/s]"
     ]
    },
    {
     "name": "stdout",
     "output_type": "stream",
     "text": [
      "1\n"
     ]
    },
    {
     "name": "stderr",
     "output_type": "stream",
     "text": [
      " 16%|████████████▌                                                                | 6533/39976 [02:11<07:26, 74.98it/s]"
     ]
    },
    {
     "name": "stdout",
     "output_type": "stream",
     "text": [
      "226\n"
     ]
    },
    {
     "name": "stderr",
     "output_type": "stream",
     "text": [
      "\r",
      " 16%|████████████▌                                                                | 6547/39976 [02:11<07:16, 76.52it/s]"
     ]
    },
    {
     "name": "stdout",
     "output_type": "stream",
     "text": [
      "9\n",
      "1\n"
     ]
    },
    {
     "name": "stderr",
     "output_type": "stream",
     "text": [
      "\r",
      " 16%|████████████▋                                                                | 6557/39976 [02:11<12:24, 44.91it/s]"
     ]
    },
    {
     "name": "stdout",
     "output_type": "stream",
     "text": [
      "1\n",
      "1\n"
     ]
    },
    {
     "name": "stderr",
     "output_type": "stream",
     "text": [
      "\r",
      " 16%|████████████▋                                                                | 6564/39976 [02:12<16:12, 34.36it/s]"
     ]
    },
    {
     "name": "stdout",
     "output_type": "stream",
     "text": [
      "2\n",
      "1\n",
      "1\n"
     ]
    },
    {
     "name": "stderr",
     "output_type": "stream",
     "text": [
      " 18%|█████████████▍                                                               | 7001/39976 [02:20<13:10, 41.70it/s]"
     ]
    },
    {
     "name": "stdout",
     "output_type": "stream",
     "text": [
      "197\n",
      "1\n",
      "1\n"
     ]
    },
    {
     "name": "stderr",
     "output_type": "stream",
     "text": [
      "\r",
      " 18%|█████████████▍                                                               | 7006/39976 [02:20<18:56, 29.00it/s]"
     ]
    },
    {
     "name": "stdout",
     "output_type": "stream",
     "text": [
      "1\n",
      "1\n"
     ]
    },
    {
     "name": "stderr",
     "output_type": "stream",
     "text": [
      "\r",
      " 18%|█████████████▌                                                               | 7010/39976 [02:21<27:49, 19.75it/s]"
     ]
    },
    {
     "name": "stdout",
     "output_type": "stream",
     "text": [
      "1\n",
      "1\n"
     ]
    },
    {
     "name": "stderr",
     "output_type": "stream",
     "text": [
      "\r",
      " 18%|█████████████▌                                                               | 7017/39976 [02:21<25:15, 21.74it/s]"
     ]
    },
    {
     "name": "stdout",
     "output_type": "stream",
     "text": [
      "1\n",
      "1\n"
     ]
    },
    {
     "name": "stderr",
     "output_type": "stream",
     "text": [
      "\r",
      " 18%|█████████████▌                                                               | 7020/39976 [02:21<27:39, 19.86it/s]"
     ]
    },
    {
     "name": "stdout",
     "output_type": "stream",
     "text": [
      "4\n"
     ]
    },
    {
     "name": "stderr",
     "output_type": "stream",
     "text": [
      "\r",
      " 18%|█████████████▌                                                               | 7024/39976 [02:21<31:12, 17.59it/s]"
     ]
    },
    {
     "name": "stdout",
     "output_type": "stream",
     "text": [
      "2\n"
     ]
    },
    {
     "name": "stderr",
     "output_type": "stream",
     "text": [
      "\r",
      " 18%|█████████████▌                                                               | 7027/39976 [02:22<36:27, 15.06it/s]"
     ]
    },
    {
     "name": "stdout",
     "output_type": "stream",
     "text": [
      "1\n",
      "1\n"
     ]
    },
    {
     "name": "stderr",
     "output_type": "stream",
     "text": [
      " 18%|█████████████▌                                                               | 7032/39976 [02:22<37:12, 14.76it/s]"
     ]
    },
    {
     "name": "stdout",
     "output_type": "stream",
     "text": [
      "2\n",
      "2\n"
     ]
    },
    {
     "name": "stderr",
     "output_type": "stream",
     "text": [
      " 18%|█████████████▌                                                               | 7052/39976 [02:23<23:27, 23.40it/s]"
     ]
    },
    {
     "name": "stdout",
     "output_type": "stream",
     "text": [
      "4\n",
      "1\n",
      "1\n"
     ]
    },
    {
     "name": "stderr",
     "output_type": "stream",
     "text": [
      "\r",
      " 18%|█████████████▌                                                               | 7056/39976 [02:23<23:01, 23.83it/s]"
     ]
    },
    {
     "name": "stdout",
     "output_type": "stream",
     "text": [
      "1\n",
      "1\n"
     ]
    },
    {
     "name": "stderr",
     "output_type": "stream",
     "text": [
      "\r",
      " 18%|█████████████▌                                                               | 7059/39976 [02:23<39:01, 14.06it/s]"
     ]
    },
    {
     "name": "stdout",
     "output_type": "stream",
     "text": [
      "1\n"
     ]
    },
    {
     "name": "stderr",
     "output_type": "stream",
     "text": [
      " 18%|█████████████▌                                                               | 7068/39976 [02:24<25:59, 21.11it/s]"
     ]
    },
    {
     "name": "stdout",
     "output_type": "stream",
     "text": [
      "4\n",
      "1\n"
     ]
    },
    {
     "name": "stderr",
     "output_type": "stream",
     "text": [
      " 18%|█████████████▋                                                               | 7076/39976 [02:24<27:12, 20.15it/s]"
     ]
    },
    {
     "name": "stdout",
     "output_type": "stream",
     "text": [
      "1\n"
     ]
    },
    {
     "name": "stderr",
     "output_type": "stream",
     "text": [
      " 19%|██████████████▋                                                              | 7632/39976 [02:37<10:49, 49.82it/s]"
     ]
    },
    {
     "name": "stdout",
     "output_type": "stream",
     "text": [
      "256\n",
      "1\n"
     ]
    },
    {
     "name": "stderr",
     "output_type": "stream",
     "text": [
      " 19%|██████████████▋                                                              | 7644/39976 [02:37<14:04, 38.31it/s]"
     ]
    },
    {
     "name": "stdout",
     "output_type": "stream",
     "text": [
      "2\n"
     ]
    },
    {
     "name": "stderr",
     "output_type": "stream",
     "text": [
      " 21%|████████████████▍                                                            | 8521/39976 [02:55<08:35, 61.04it/s]"
     ]
    },
    {
     "name": "stdout",
     "output_type": "stream",
     "text": [
      "387\n",
      "1\n",
      "1\n",
      "1\n",
      "1\n",
      "1\n"
     ]
    },
    {
     "name": "stderr",
     "output_type": "stream",
     "text": [
      "\r",
      " 21%|████████████████▍                                                            | 8539/39976 [02:56<19:42, 26.59it/s]"
     ]
    },
    {
     "name": "stdout",
     "output_type": "stream",
     "text": [
      "1\n",
      "1\n"
     ]
    },
    {
     "name": "stderr",
     "output_type": "stream",
     "text": [
      " 21%|████████████████▍                                                            | 8549/39976 [02:57<23:50, 21.97it/s]"
     ]
    },
    {
     "name": "stdout",
     "output_type": "stream",
     "text": [
      "4\n",
      "1\n",
      "1\n"
     ]
    },
    {
     "name": "stderr",
     "output_type": "stream",
     "text": [
      "\r",
      " 21%|████████████████▍                                                            | 8554/39976 [02:57<22:44, 23.03it/s]"
     ]
    },
    {
     "name": "stdout",
     "output_type": "stream",
     "text": [
      "2\n",
      "1\n"
     ]
    },
    {
     "name": "stderr",
     "output_type": "stream",
     "text": [
      " 21%|████████████████▍                                                            | 8564/39976 [02:58<23:25, 22.35it/s]"
     ]
    },
    {
     "name": "stdout",
     "output_type": "stream",
     "text": [
      "1\n",
      "3\n",
      "1\n",
      "1\n"
     ]
    },
    {
     "name": "stderr",
     "output_type": "stream",
     "text": [
      " 21%|████████████████▌                                                            | 8572/39976 [02:59<34:07, 15.34it/s]"
     ]
    },
    {
     "name": "stdout",
     "output_type": "stream",
     "text": [
      "1\n",
      "2\n"
     ]
    },
    {
     "name": "stderr",
     "output_type": "stream",
     "text": [
      " 21%|████████████████▌                                                            | 8591/39976 [02:59<19:45, 26.48it/s]"
     ]
    },
    {
     "name": "stdout",
     "output_type": "stream",
     "text": [
      "7\n",
      "2\n"
     ]
    },
    {
     "name": "stderr",
     "output_type": "stream",
     "text": [
      " 22%|████████████████▌                                                            | 8602/39976 [02:59<15:03, 34.73it/s]"
     ]
    },
    {
     "name": "stdout",
     "output_type": "stream",
     "text": [
      "6\n",
      "1\n"
     ]
    },
    {
     "name": "stderr",
     "output_type": "stream",
     "text": [
      "\r",
      " 22%|████████████████▌                                                            | 8608/39976 [03:00<18:59, 27.53it/s]"
     ]
    },
    {
     "name": "stdout",
     "output_type": "stream",
     "text": [
      "1\n",
      "1\n",
      "1\n",
      "1\n"
     ]
    },
    {
     "name": "stderr",
     "output_type": "stream",
     "text": [
      "\r",
      " 22%|████████████████▌                                                            | 8612/39976 [03:00<20:07, 25.98it/s]"
     ]
    },
    {
     "name": "stdout",
     "output_type": "stream",
     "text": [
      "1\n",
      "1\n",
      "1\n"
     ]
    },
    {
     "name": "stderr",
     "output_type": "stream",
     "text": [
      "\r",
      " 22%|████████████████▌                                                            | 8616/39976 [03:00<28:59, 18.03it/s]"
     ]
    },
    {
     "name": "stdout",
     "output_type": "stream",
     "text": [
      "1\n",
      "1\n",
      "1\n"
     ]
    },
    {
     "name": "stderr",
     "output_type": "stream",
     "text": [
      "\r",
      " 22%|████████████████▌                                                            | 8619/39976 [03:01<43:42, 11.96it/s]"
     ]
    },
    {
     "name": "stdout",
     "output_type": "stream",
     "text": [
      "1\n",
      "1\n"
     ]
    },
    {
     "name": "stderr",
     "output_type": "stream",
     "text": [
      " 22%|████████████████▏                                                          | 8627/39976 [03:03<1:17:05,  6.78it/s]"
     ]
    },
    {
     "name": "stdout",
     "output_type": "stream",
     "text": [
      "1\n"
     ]
    },
    {
     "name": "stderr",
     "output_type": "stream",
     "text": [
      " 22%|████████████████▊                                                            | 8707/39976 [03:05<16:53, 30.84it/s]"
     ]
    },
    {
     "name": "stdout",
     "output_type": "stream",
     "text": [
      "34\n",
      "1\n"
     ]
    },
    {
     "name": "stderr",
     "output_type": "stream",
     "text": [
      "\r",
      " 22%|████████████████▊                                                            | 8711/39976 [03:06<32:45, 15.91it/s]"
     ]
    },
    {
     "name": "stdout",
     "output_type": "stream",
     "text": [
      "2\n",
      "1\n",
      "1\n"
     ]
    },
    {
     "name": "stderr",
     "output_type": "stream",
     "text": [
      " 22%|████████████████▊                                                            | 8722/39976 [03:06<21:38, 24.07it/s]"
     ]
    },
    {
     "name": "stdout",
     "output_type": "stream",
     "text": [
      "4\n"
     ]
    },
    {
     "name": "stderr",
     "output_type": "stream",
     "text": [
      "\r",
      " 22%|████████████████▊                                                            | 8731/39976 [03:06<20:40, 25.19it/s]"
     ]
    },
    {
     "name": "stdout",
     "output_type": "stream",
     "text": [
      "1\n",
      "3\n"
     ]
    },
    {
     "name": "stderr",
     "output_type": "stream",
     "text": [
      "\r",
      " 22%|████████████████▊                                                            | 8735/39976 [03:07<23:43, 21.95it/s]"
     ]
    },
    {
     "name": "stdout",
     "output_type": "stream",
     "text": [
      "1\n",
      "1\n",
      "1\n"
     ]
    },
    {
     "name": "stderr",
     "output_type": "stream",
     "text": [
      "\r",
      " 22%|████████████████▊                                                            | 8739/39976 [03:08<47:41, 10.92it/s]"
     ]
    },
    {
     "name": "stdout",
     "output_type": "stream",
     "text": [
      "1\n"
     ]
    },
    {
     "name": "stderr",
     "output_type": "stream",
     "text": [
      " 22%|████████████████▊                                                            | 8744/39976 [03:08<44:47, 11.62it/s]"
     ]
    },
    {
     "name": "stdout",
     "output_type": "stream",
     "text": [
      "2\n",
      "1\n"
     ]
    },
    {
     "name": "stderr",
     "output_type": "stream",
     "text": [
      "\r",
      " 22%|████████████████▊                                                            | 8747/39976 [03:08<46:20, 11.23it/s]"
     ]
    },
    {
     "name": "stdout",
     "output_type": "stream",
     "text": [
      "1\n",
      "1\n",
      "1\n",
      "1\n"
     ]
    },
    {
     "name": "stderr",
     "output_type": "stream",
     "text": [
      "\r",
      " 22%|████████████████▊                                                            | 8751/39976 [03:09<45:52, 11.34it/s]"
     ]
    },
    {
     "name": "stdout",
     "output_type": "stream",
     "text": [
      "1\n"
     ]
    },
    {
     "name": "stderr",
     "output_type": "stream",
     "text": [
      "\r",
      " 22%|████████████████▊                                                            | 8753/39976 [03:09<57:31,  9.05it/s]"
     ]
    },
    {
     "name": "stdout",
     "output_type": "stream",
     "text": [
      "1\n",
      "1\n",
      "1\n"
     ]
    },
    {
     "name": "stderr",
     "output_type": "stream",
     "text": [
      "\r",
      " 22%|████████████████▊                                                            | 8756/39976 [03:09<57:59,  8.97it/s]"
     ]
    },
    {
     "name": "stdout",
     "output_type": "stream",
     "text": [
      "1\n"
     ]
    },
    {
     "name": "stderr",
     "output_type": "stream",
     "text": [
      " 22%|████████████████▍                                                          | 8763/39976 [03:10<1:02:19,  8.35it/s]"
     ]
    },
    {
     "name": "stdout",
     "output_type": "stream",
     "text": [
      "1\n",
      "1\n",
      "1\n",
      "1\n",
      "1\n",
      "1\n"
     ]
    },
    {
     "name": "stderr",
     "output_type": "stream",
     "text": [
      " 22%|████████████████▉                                                            | 8773/39976 [03:11<31:35, 16.46it/s]"
     ]
    },
    {
     "name": "stdout",
     "output_type": "stream",
     "text": [
      "1\n",
      "2\n",
      "1\n"
     ]
    },
    {
     "name": "stderr",
     "output_type": "stream",
     "text": [
      " 22%|████████████████▉                                                            | 8781/39976 [03:11<28:33, 18.21it/s]"
     ]
    },
    {
     "name": "stdout",
     "output_type": "stream",
     "text": [
      "1\n"
     ]
    },
    {
     "name": "stderr",
     "output_type": "stream",
     "text": [
      " 22%|████████████████▉                                                            | 8820/39976 [03:12<14:32, 35.69it/s]"
     ]
    },
    {
     "name": "stdout",
     "output_type": "stream",
     "text": [
      "19\n",
      "1\n",
      "1\n"
     ]
    },
    {
     "name": "stderr",
     "output_type": "stream",
     "text": [
      "\r",
      " 22%|████████████████▉                                                            | 8825/39976 [03:12<16:33, 31.36it/s]"
     ]
    },
    {
     "name": "stdout",
     "output_type": "stream",
     "text": [
      "2\n",
      "1\n"
     ]
    },
    {
     "name": "stderr",
     "output_type": "stream",
     "text": [
      "\r",
      " 22%|█████████████████                                                            | 8830/39976 [03:12<16:24, 31.64it/s]"
     ]
    },
    {
     "name": "stdout",
     "output_type": "stream",
     "text": [
      "4\n"
     ]
    },
    {
     "name": "stderr",
     "output_type": "stream",
     "text": [
      " 22%|█████████████████                                                            | 8845/39976 [03:13<15:58, 32.49it/s]"
     ]
    },
    {
     "name": "stdout",
     "output_type": "stream",
     "text": [
      "1\n",
      "3\n"
     ]
    },
    {
     "name": "stderr",
     "output_type": "stream",
     "text": [
      " 22%|█████████████████                                                            | 8860/39976 [03:13<12:33, 41.32it/s]"
     ]
    },
    {
     "name": "stdout",
     "output_type": "stream",
     "text": [
      "7\n",
      "1\n"
     ]
    },
    {
     "name": "stderr",
     "output_type": "stream",
     "text": [
      "\r",
      " 22%|█████████████████                                                            | 8867/39976 [03:13<15:32, 33.38it/s]"
     ]
    },
    {
     "name": "stdout",
     "output_type": "stream",
     "text": [
      "3\n",
      "1\n"
     ]
    },
    {
     "name": "stderr",
     "output_type": "stream",
     "text": [
      "\r",
      " 22%|█████████████████                                                            | 8871/39976 [03:14<32:03, 16.17it/s]"
     ]
    },
    {
     "name": "stdout",
     "output_type": "stream",
     "text": [
      "1\n"
     ]
    },
    {
     "name": "stderr",
     "output_type": "stream",
     "text": [
      "\r",
      " 22%|█████████████████                                                            | 8874/39976 [03:15<39:13, 13.21it/s]"
     ]
    },
    {
     "name": "stdout",
     "output_type": "stream",
     "text": [
      "1\n",
      "1\n",
      "1\n",
      "1\n"
     ]
    },
    {
     "name": "stderr",
     "output_type": "stream",
     "text": [
      " 22%|█████████████████                                                            | 8887/39976 [03:16<37:38, 13.76it/s]"
     ]
    },
    {
     "name": "stdout",
     "output_type": "stream",
     "text": [
      "3\n",
      "2\n"
     ]
    },
    {
     "name": "stderr",
     "output_type": "stream",
     "text": [
      " 22%|█████████████████▏                                                           | 8899/39976 [03:16<26:54, 19.25it/s]"
     ]
    },
    {
     "name": "stdout",
     "output_type": "stream",
     "text": [
      "1\n"
     ]
    },
    {
     "name": "stderr",
     "output_type": "stream",
     "text": [
      " 22%|█████████████████▏                                                           | 8935/39976 [03:17<14:30, 35.67it/s]"
     ]
    },
    {
     "name": "stdout",
     "output_type": "stream",
     "text": [
      "16\n",
      "3\n"
     ]
    },
    {
     "name": "stderr",
     "output_type": "stream",
     "text": [
      " 22%|█████████████████▏                                                           | 8949/39976 [03:17<13:29, 38.35it/s]"
     ]
    },
    {
     "name": "stdout",
     "output_type": "stream",
     "text": [
      "1\n",
      "1\n",
      "1\n",
      "1\n",
      "1\n",
      "1\n"
     ]
    },
    {
     "name": "stderr",
     "output_type": "stream",
     "text": [
      " 23%|█████████████████▌                                                           | 9116/39976 [03:21<07:59, 64.38it/s]"
     ]
    },
    {
     "name": "stdout",
     "output_type": "stream",
     "text": [
      "71\n"
     ]
    },
    {
     "name": "stderr",
     "output_type": "stream",
     "text": [
      " 23%|██████████████████                                                           | 9381/39976 [03:26<10:44, 47.50it/s]"
     ]
    },
    {
     "name": "stdout",
     "output_type": "stream",
     "text": [
      "121\n",
      "1\n"
     ]
    },
    {
     "name": "stderr",
     "output_type": "stream",
     "text": [
      " 23%|██████████████████                                                           | 9393/39976 [03:27<22:56, 22.22it/s]"
     ]
    },
    {
     "name": "stdout",
     "output_type": "stream",
     "text": [
      "1\n"
     ]
    },
    {
     "name": "stderr",
     "output_type": "stream",
     "text": [
      " 24%|██████████████████▋                                                          | 9698/39976 [03:33<09:33, 52.79it/s]"
     ]
    },
    {
     "name": "stdout",
     "output_type": "stream",
     "text": [
      "135\n",
      "1\n",
      "1\n",
      "1\n"
     ]
    },
    {
     "name": "stderr",
     "output_type": "stream",
     "text": [
      " 24%|██████████████████▋                                                          | 9713/39976 [03:35<45:49, 11.01it/s]"
     ]
    },
    {
     "name": "stdout",
     "output_type": "stream",
     "text": [
      "3\n",
      "1\n"
     ]
    },
    {
     "name": "stderr",
     "output_type": "stream",
     "text": [
      "\r",
      " 24%|██████████████████▋                                                          | 9718/39976 [03:36<41:04, 12.28it/s]"
     ]
    },
    {
     "name": "stdout",
     "output_type": "stream",
     "text": [
      "1\n",
      "1\n"
     ]
    },
    {
     "name": "stderr",
     "output_type": "stream",
     "text": [
      " 24%|██████████████████▋                                                          | 9732/39976 [03:36<24:32, 20.54it/s]"
     ]
    },
    {
     "name": "stdout",
     "output_type": "stream",
     "text": [
      "2\n",
      "1\n",
      "2\n",
      "1\n",
      "1\n",
      "1\n"
     ]
    },
    {
     "name": "stderr",
     "output_type": "stream",
     "text": [
      "\r",
      " 24%|██████████████████▊                                                          | 9738/39976 [03:36<28:34, 17.64it/s]"
     ]
    },
    {
     "name": "stdout",
     "output_type": "stream",
     "text": [
      "1\n",
      "1\n",
      "1\n"
     ]
    },
    {
     "name": "stderr",
     "output_type": "stream",
     "text": [
      "\r",
      " 24%|██████████████████▊                                                          | 9742/39976 [03:37<33:24, 15.08it/s]"
     ]
    },
    {
     "name": "stdout",
     "output_type": "stream",
     "text": [
      "1\n",
      "1\n"
     ]
    },
    {
     "name": "stderr",
     "output_type": "stream",
     "text": [
      "\r",
      " 24%|██████████████████▊                                                          | 9745/39976 [03:37<43:38, 11.55it/s]"
     ]
    },
    {
     "name": "stdout",
     "output_type": "stream",
     "text": [
      "1\n",
      "1\n"
     ]
    },
    {
     "name": "stderr",
     "output_type": "stream",
     "text": [
      " 25%|██████████████████▉                                                          | 9816/39976 [03:40<13:52, 36.22it/s]"
     ]
    },
    {
     "name": "stdout",
     "output_type": "stream",
     "text": [
      "33\n",
      "1\n",
      "1\n"
     ]
    },
    {
     "name": "stderr",
     "output_type": "stream",
     "text": [
      "\r",
      " 25%|██████████████████▉                                                          | 9821/39976 [03:41<38:37, 13.01it/s]"
     ]
    },
    {
     "name": "stdout",
     "output_type": "stream",
     "text": [
      "1\n",
      "1\n"
     ]
    },
    {
     "name": "stderr",
     "output_type": "stream",
     "text": [
      " 25%|██████████████████▉                                                          | 9830/39976 [03:41<35:39, 14.09it/s]"
     ]
    },
    {
     "name": "stdout",
     "output_type": "stream",
     "text": [
      "7\n"
     ]
    },
    {
     "name": "stderr",
     "output_type": "stream",
     "text": [
      "\r",
      " 25%|██████████████████▉                                                          | 9837/39976 [03:41<30:06, 16.68it/s]"
     ]
    },
    {
     "name": "stdout",
     "output_type": "stream",
     "text": [
      "1\n",
      "1\n"
     ]
    },
    {
     "name": "stderr",
     "output_type": "stream",
     "text": [
      "\r",
      " 25%|██████████████████▉                                                          | 9840/39976 [03:42<35:06, 14.30it/s]"
     ]
    },
    {
     "name": "stdout",
     "output_type": "stream",
     "text": [
      "1\n"
     ]
    },
    {
     "name": "stderr",
     "output_type": "stream",
     "text": [
      " 25%|██████████████████▉                                                          | 9845/39976 [03:42<34:08, 14.71it/s]"
     ]
    },
    {
     "name": "stdout",
     "output_type": "stream",
     "text": [
      "1\n",
      "1\n",
      "1\n",
      "1\n"
     ]
    },
    {
     "name": "stderr",
     "output_type": "stream",
     "text": [
      " 25%|██████████████████▉                                                          | 9849/39976 [03:43<40:36, 12.37it/s]"
     ]
    },
    {
     "name": "stdout",
     "output_type": "stream",
     "text": [
      "1\n",
      "1\n",
      "1\n",
      "1\n"
     ]
    },
    {
     "name": "stderr",
     "output_type": "stream",
     "text": [
      " 25%|███████████████████                                                          | 9880/39976 [03:43<14:02, 35.70it/s]"
     ]
    },
    {
     "name": "stdout",
     "output_type": "stream",
     "text": [
      "12\n",
      "1\n",
      "1\n"
     ]
    },
    {
     "name": "stderr",
     "output_type": "stream",
     "text": [
      "\r",
      " 25%|███████████████████                                                          | 9889/39976 [03:44<17:09, 29.22it/s]"
     ]
    },
    {
     "name": "stdout",
     "output_type": "stream",
     "text": [
      "1\n",
      "1\n",
      "2\n"
     ]
    },
    {
     "name": "stderr",
     "output_type": "stream",
     "text": [
      "\r",
      " 25%|███████████████████                                                          | 9895/39976 [03:44<19:09, 26.17it/s]"
     ]
    },
    {
     "name": "stdout",
     "output_type": "stream",
     "text": [
      "2\n"
     ]
    },
    {
     "name": "stderr",
     "output_type": "stream",
     "text": [
      " 28%|█████████████████████▎                                                      | 11228/39976 [04:08<07:04, 67.78it/s]"
     ]
    },
    {
     "name": "stdout",
     "output_type": "stream",
     "text": [
      "584\n"
     ]
    },
    {
     "name": "stderr",
     "output_type": "stream",
     "text": [
      " 34%|█████████████████████████▊                                                  | 13558/39976 [04:49<07:22, 59.73it/s]"
     ]
    },
    {
     "name": "stdout",
     "output_type": "stream",
     "text": [
      "1043\n"
     ]
    },
    {
     "name": "stderr",
     "output_type": "stream",
     "text": [
      " 34%|█████████████████████████▊                                                  | 13573/39976 [04:49<08:39, 50.83it/s]"
     ]
    },
    {
     "name": "stdout",
     "output_type": "stream",
     "text": [
      "6\n",
      "1\n",
      "1\n"
     ]
    },
    {
     "name": "stderr",
     "output_type": "stream",
     "text": [
      " 34%|█████████████████████████▊                                                  | 13584/39976 [04:50<16:38, 26.42it/s]"
     ]
    },
    {
     "name": "stdout",
     "output_type": "stream",
     "text": [
      "1\n",
      "1\n",
      "1\n",
      "2\n"
     ]
    },
    {
     "name": "stderr",
     "output_type": "stream",
     "text": [
      "\r",
      " 34%|█████████████████████████▊                                                  | 13589/39976 [04:50<15:53, 27.68it/s]"
     ]
    },
    {
     "name": "stdout",
     "output_type": "stream",
     "text": [
      "1\n",
      "1\n",
      "2\n",
      "1\n",
      "1\n"
     ]
    },
    {
     "name": "stderr",
     "output_type": "stream",
     "text": [
      " 34%|█████████████████████████▊                                                  | 13608/39976 [04:51<15:47, 27.82it/s]"
     ]
    },
    {
     "name": "stdout",
     "output_type": "stream",
     "text": [
      "1\n",
      "1\n",
      "3\n",
      "1\n",
      "1\n"
     ]
    },
    {
     "name": "stderr",
     "output_type": "stream",
     "text": [
      "\r",
      " 34%|█████████████████████████▉                                                  | 13614/39976 [04:52<24:58, 17.59it/s]"
     ]
    },
    {
     "name": "stdout",
     "output_type": "stream",
     "text": [
      "1\n",
      "1\n"
     ]
    },
    {
     "name": "stderr",
     "output_type": "stream",
     "text": [
      "\r",
      " 34%|█████████████████████████▉                                                  | 13619/39976 [04:52<22:56, 19.15it/s]"
     ]
    },
    {
     "name": "stdout",
     "output_type": "stream",
     "text": [
      "2\n"
     ]
    },
    {
     "name": "stderr",
     "output_type": "stream",
     "text": [
      " 34%|█████████████████████████▉                                                  | 13636/39976 [04:53<17:15, 25.43it/s]"
     ]
    },
    {
     "name": "stdout",
     "output_type": "stream",
     "text": [
      "5\n"
     ]
    },
    {
     "name": "stderr",
     "output_type": "stream",
     "text": [
      "\r",
      " 34%|█████████████████████████▉                                                  | 13640/39976 [04:53<16:59, 25.83it/s]"
     ]
    },
    {
     "name": "stdout",
     "output_type": "stream",
     "text": [
      "6\n",
      "1\n"
     ]
    },
    {
     "name": "stderr",
     "output_type": "stream",
     "text": [
      " 34%|█████████████████████████▉                                                  | 13667/39976 [04:53<08:43, 50.22it/s]"
     ]
    },
    {
     "name": "stdout",
     "output_type": "stream",
     "text": [
      "1\n",
      "2\n"
     ]
    },
    {
     "name": "stderr",
     "output_type": "stream",
     "text": [
      " 34%|██████████████████████████▏                                                 | 13747/39976 [04:55<07:47, 56.06it/s]"
     ]
    },
    {
     "name": "stdout",
     "output_type": "stream",
     "text": [
      "42\n"
     ]
    },
    {
     "name": "stderr",
     "output_type": "stream",
     "text": [
      "\r",
      " 34%|██████████████████████████▏                                                 | 13756/39976 [04:55<10:46, 40.57it/s]"
     ]
    },
    {
     "name": "stdout",
     "output_type": "stream",
     "text": [
      "1\n",
      "1\n"
     ]
    },
    {
     "name": "stderr",
     "output_type": "stream",
     "text": [
      " 35%|██████████████████████████▎                                                 | 13845/39976 [04:58<08:03, 53.99it/s]"
     ]
    },
    {
     "name": "stdout",
     "output_type": "stream",
     "text": [
      "36\n"
     ]
    },
    {
     "name": "stderr",
     "output_type": "stream",
     "text": [
      "\r",
      " 35%|██████████████████████████▎                                                 | 13855/39976 [04:58<14:01, 31.04it/s]"
     ]
    },
    {
     "name": "stdout",
     "output_type": "stream",
     "text": [
      "1\n",
      "1\n",
      "1\n",
      "1\n",
      "1\n"
     ]
    },
    {
     "name": "stderr",
     "output_type": "stream",
     "text": [
      "\r",
      " 35%|██████████████████████████▎                                                 | 13861/39976 [04:59<21:11, 20.54it/s]"
     ]
    },
    {
     "name": "stdout",
     "output_type": "stream",
     "text": [
      "1\n",
      "1\n",
      "1\n"
     ]
    },
    {
     "name": "stderr",
     "output_type": "stream",
     "text": [
      " 35%|██████████████████████████▎                                                 | 13870/39976 [04:59<19:38, 22.15it/s]"
     ]
    },
    {
     "name": "stdout",
     "output_type": "stream",
     "text": [
      "1\n",
      "1\n",
      "1\n",
      "1\n",
      "1\n"
     ]
    },
    {
     "name": "stderr",
     "output_type": "stream",
     "text": [
      " 35%|██████████████████████████▍                                                 | 13889/39976 [05:00<12:27, 34.91it/s]"
     ]
    },
    {
     "name": "stdout",
     "output_type": "stream",
     "text": [
      "6\n",
      "1\n",
      "1\n",
      "1\n",
      "1\n"
     ]
    },
    {
     "name": "stderr",
     "output_type": "stream",
     "text": [
      "\r",
      " 35%|██████████████████████████▍                                                 | 13894/39976 [05:00<17:02, 25.50it/s]"
     ]
    },
    {
     "name": "stdout",
     "output_type": "stream",
     "text": [
      "1\n",
      "1\n",
      "1\n",
      "1\n"
     ]
    },
    {
     "name": "stderr",
     "output_type": "stream",
     "text": [
      " 35%|██████████████████████████▍                                                 | 13904/39976 [05:01<19:46, 21.98it/s]"
     ]
    },
    {
     "name": "stdout",
     "output_type": "stream",
     "text": [
      "1\n",
      "1\n"
     ]
    },
    {
     "name": "stderr",
     "output_type": "stream",
     "text": [
      " 35%|██████████████████████████▍                                                 | 13911/39976 [05:01<19:58, 21.75it/s]"
     ]
    },
    {
     "name": "stdout",
     "output_type": "stream",
     "text": [
      "3\n",
      "1\n",
      "1\n"
     ]
    },
    {
     "name": "stderr",
     "output_type": "stream",
     "text": [
      "\r",
      " 35%|██████████████████████████▍                                                 | 13917/39976 [05:01<17:27, 24.88it/s]"
     ]
    },
    {
     "name": "stdout",
     "output_type": "stream",
     "text": [
      "1\n",
      "1\n"
     ]
    },
    {
     "name": "stderr",
     "output_type": "stream",
     "text": [
      "\r",
      " 35%|██████████████████████████▍                                                 | 13921/39976 [05:01<15:58, 27.20it/s]"
     ]
    },
    {
     "name": "stdout",
     "output_type": "stream",
     "text": [
      "2\n",
      "2\n",
      "1\n"
     ]
    },
    {
     "name": "stderr",
     "output_type": "stream",
     "text": [
      "\r",
      " 35%|██████████████████████████▍                                                 | 13925/39976 [05:02<18:51, 23.02it/s]"
     ]
    },
    {
     "name": "stdout",
     "output_type": "stream",
     "text": [
      "1\n",
      "1\n",
      "1\n"
     ]
    },
    {
     "name": "stderr",
     "output_type": "stream",
     "text": [
      " 35%|██████████████████████████▌                                                 | 13952/39976 [05:03<13:18, 32.57it/s]"
     ]
    },
    {
     "name": "stdout",
     "output_type": "stream",
     "text": [
      "12\n",
      "1\n",
      "1\n"
     ]
    },
    {
     "name": "stderr",
     "output_type": "stream",
     "text": [
      "\r",
      " 35%|██████████████████████████▌                                                 | 13957/39976 [05:03<18:22, 23.60it/s]"
     ]
    },
    {
     "name": "stdout",
     "output_type": "stream",
     "text": [
      "1\n",
      "1\n",
      "1\n",
      "1\n",
      "1\n"
     ]
    },
    {
     "name": "stderr",
     "output_type": "stream",
     "text": [
      " 35%|██████████████████████████▌                                                 | 13966/39976 [05:03<15:16, 28.37it/s]"
     ]
    },
    {
     "name": "stdout",
     "output_type": "stream",
     "text": [
      "1\n",
      "3\n"
     ]
    },
    {
     "name": "stderr",
     "output_type": "stream",
     "text": [
      " 35%|██████████████████████████▌                                                 | 13982/39976 [05:04<16:38, 26.03it/s]"
     ]
    },
    {
     "name": "stdout",
     "output_type": "stream",
     "text": [
      "5\n"
     ]
    },
    {
     "name": "stderr",
     "output_type": "stream",
     "text": [
      "\r",
      " 35%|██████████████████████████▌                                                 | 13988/39976 [05:04<15:31, 27.91it/s]"
     ]
    },
    {
     "name": "stdout",
     "output_type": "stream",
     "text": [
      "2\n",
      "1\n",
      "1\n"
     ]
    },
    {
     "name": "stderr",
     "output_type": "stream",
     "text": [
      "\r",
      " 35%|██████████████████████████▌                                                 | 13991/39976 [05:04<20:31, 21.10it/s]"
     ]
    },
    {
     "name": "stdout",
     "output_type": "stream",
     "text": [
      "1\n",
      "1\n",
      "1\n",
      "1\n",
      "1\n",
      "1\n"
     ]
    },
    {
     "name": "stderr",
     "output_type": "stream",
     "text": [
      " 35%|██████████████████████████▋                                                 | 14069/39976 [05:06<07:50, 55.11it/s]"
     ]
    },
    {
     "name": "stdout",
     "output_type": "stream",
     "text": [
      "34\n",
      "1\n",
      "1\n",
      "1\n"
     ]
    },
    {
     "name": "stderr",
     "output_type": "stream",
     "text": [
      " 35%|██████████████████████████▊                                                 | 14081/39976 [05:07<13:21, 32.29it/s]"
     ]
    },
    {
     "name": "stdout",
     "output_type": "stream",
     "text": [
      "1\n"
     ]
    },
    {
     "name": "stderr",
     "output_type": "stream",
     "text": [
      "\r",
      " 35%|██████████████████████████▊                                                 | 14085/39976 [05:07<14:11, 30.40it/s]"
     ]
    },
    {
     "name": "stdout",
     "output_type": "stream",
     "text": [
      "4\n",
      "1\n",
      "1\n",
      "1\n",
      "1\n",
      "1\n"
     ]
    },
    {
     "name": "stderr",
     "output_type": "stream",
     "text": [
      " 35%|██████████████████████████▊                                                 | 14093/39976 [05:07<19:28, 22.15it/s]"
     ]
    },
    {
     "name": "stdout",
     "output_type": "stream",
     "text": [
      "1\n",
      "1\n",
      "1\n"
     ]
    },
    {
     "name": "stderr",
     "output_type": "stream",
     "text": [
      " 35%|██████████████████████████▊                                                 | 14103/39976 [05:08<18:02, 23.91it/s]"
     ]
    },
    {
     "name": "stdout",
     "output_type": "stream",
     "text": [
      "2\n",
      "1\n",
      "1\n",
      "1\n",
      "1\n",
      "1\n"
     ]
    },
    {
     "name": "stderr",
     "output_type": "stream",
     "text": [
      " 35%|██████████████████████████▊                                                 | 14119/39976 [05:08<10:39, 40.43it/s]"
     ]
    },
    {
     "name": "stdout",
     "output_type": "stream",
     "text": [
      "2\n",
      "1\n"
     ]
    },
    {
     "name": "stderr",
     "output_type": "stream",
     "text": [
      " 35%|██████████████████████████▉                                                 | 14178/39976 [05:09<08:20, 51.50it/s]"
     ]
    },
    {
     "name": "stdout",
     "output_type": "stream",
     "text": [
      "29\n",
      "1\n",
      "1\n",
      "1\n"
     ]
    },
    {
     "name": "stderr",
     "output_type": "stream",
     "text": [
      " 36%|██████████████████████████▉                                                 | 14198/39976 [05:10<16:50, 25.51it/s]"
     ]
    },
    {
     "name": "stdout",
     "output_type": "stream",
     "text": [
      "4\n",
      "1\n",
      "1\n",
      "1\n",
      "1\n"
     ]
    },
    {
     "name": "stderr",
     "output_type": "stream",
     "text": [
      "\r",
      " 36%|███████████████████████████                                                 | 14202/39976 [05:12<49:27,  8.68it/s]"
     ]
    },
    {
     "name": "stdout",
     "output_type": "stream",
     "text": [
      "1\n",
      "1\n"
     ]
    },
    {
     "name": "stderr",
     "output_type": "stream",
     "text": [
      " 36%|███████████████████████████▏                                                | 14315/39976 [05:15<09:50, 43.46it/s]"
     ]
    },
    {
     "name": "stdout",
     "output_type": "stream",
     "text": [
      "44\n",
      "3\n"
     ]
    },
    {
     "name": "stderr",
     "output_type": "stream",
     "text": [
      " 36%|███████████████████████████▍                                                | 14460/39976 [05:19<13:21, 31.85it/s]"
     ]
    },
    {
     "name": "stdout",
     "output_type": "stream",
     "text": [
      "58\n"
     ]
    },
    {
     "name": "stderr",
     "output_type": "stream",
     "text": [
      "\r",
      " 36%|███████████████████████████▌                                                | 14467/39976 [05:19<12:30, 34.01it/s]"
     ]
    },
    {
     "name": "stdout",
     "output_type": "stream",
     "text": [
      "4\n",
      "1\n",
      "1\n"
     ]
    },
    {
     "name": "stderr",
     "output_type": "stream",
     "text": [
      "\r",
      " 36%|███████████████████████████▌                                                | 14472/39976 [05:20<36:49, 11.54it/s]"
     ]
    },
    {
     "name": "stdout",
     "output_type": "stream",
     "text": [
      "1\n"
     ]
    },
    {
     "name": "stderr",
     "output_type": "stream",
     "text": [
      "\r",
      " 36%|███████████████████████████▌                                                | 14475/39976 [05:21<43:21,  9.80it/s]"
     ]
    },
    {
     "name": "stdout",
     "output_type": "stream",
     "text": [
      "1\n",
      "1\n",
      "1\n",
      "1\n",
      "1\n"
     ]
    },
    {
     "name": "stderr",
     "output_type": "stream",
     "text": [
      "\r",
      " 36%|███████████████████████████▌                                                | 14479/39976 [05:21<49:25,  8.60it/s]"
     ]
    },
    {
     "name": "stdout",
     "output_type": "stream",
     "text": [
      "1\n"
     ]
    },
    {
     "name": "stderr",
     "output_type": "stream",
     "text": [
      " 36%|███████████████████████████▌                                                | 14493/39976 [05:22<30:05, 14.12it/s]"
     ]
    },
    {
     "name": "stdout",
     "output_type": "stream",
     "text": [
      "4\n"
     ]
    },
    {
     "name": "stderr",
     "output_type": "stream",
     "text": [
      "\r",
      " 36%|███████████████████████████▌                                                | 14495/39976 [05:22<37:27, 11.34it/s]"
     ]
    },
    {
     "name": "stdout",
     "output_type": "stream",
     "text": [
      "1\n"
     ]
    },
    {
     "name": "stderr",
     "output_type": "stream",
     "text": [
      " 36%|███████████████████████████▌                                                | 14509/39976 [05:23<22:19, 19.01it/s]"
     ]
    },
    {
     "name": "stdout",
     "output_type": "stream",
     "text": [
      "6\n",
      "2\n"
     ]
    },
    {
     "name": "stderr",
     "output_type": "stream",
     "text": [
      " 36%|███████████████████████████▌                                                | 14514/39976 [05:23<34:00, 12.48it/s]"
     ]
    },
    {
     "name": "stdout",
     "output_type": "stream",
     "text": [
      "1\n",
      "1\n",
      "1\n"
     ]
    },
    {
     "name": "stderr",
     "output_type": "stream",
     "text": [
      " 37%|████████████████████████████▎                                               | 14912/39976 [05:32<08:08, 51.30it/s]"
     ]
    },
    {
     "name": "stdout",
     "output_type": "stream",
     "text": [
      "174\n",
      "2\n"
     ]
    },
    {
     "name": "stderr",
     "output_type": "stream",
     "text": [
      " 37%|████████████████████████████▍                                               | 14929/39976 [05:33<09:19, 44.80it/s]\n"
     ]
    },
    {
     "ename": "KeyboardInterrupt",
     "evalue": "",
     "output_type": "error",
     "traceback": [
      "\u001b[1;31m---------------------------------------------------------------------------\u001b[0m",
      "\u001b[1;31mKeyboardInterrupt\u001b[0m                         Traceback (most recent call last)",
      "Cell \u001b[1;32mIn[7], line 40\u001b[0m\n\u001b[0;32m     36\u001b[0m eval_list \u001b[38;5;241m=\u001b[39m [\u001b[38;5;124m\"\u001b[39m\u001b[38;5;124mrms\u001b[39m\u001b[38;5;124m\"\u001b[39m]\n\u001b[0;32m     38\u001b[0m test_breaking_3 \u001b[38;5;241m=\u001b[39m test(Obj2_url, Obj1_url, init_R_T, pipline_name, pipline_variables, test_name, eval_list, show_results \u001b[38;5;241m=\u001b[39m \u001b[38;5;28;01mTrue\u001b[39;00m, save_results\u001b[38;5;241m=\u001b[39m\u001b[38;5;28;01mFalse\u001b[39;00m)\n\u001b[1;32m---> 40\u001b[0m my_results \u001b[38;5;241m=\u001b[39m \u001b[43mtest_breaking_3\u001b[49m\u001b[38;5;241;43m.\u001b[39;49m\u001b[43mrun\u001b[49m\u001b[43m(\u001b[49m\u001b[43m)\u001b[49m\n",
      "File \u001b[1;32m~\\Documents\\THESIS\\runner.py:252\u001b[0m, in \u001b[0;36mtest.run\u001b[1;34m(self)\u001b[0m\n\u001b[0;32m    247\u001b[0m \u001b[38;5;28;01mdef\u001b[39;00m \u001b[38;5;21mrun\u001b[39m(\u001b[38;5;28mself\u001b[39m):\n\u001b[0;32m    248\u001b[0m \n\u001b[0;32m    249\u001b[0m     \u001b[38;5;66;03m# try:\u001b[39;00m\n\u001b[0;32m    250\u001b[0m     \u001b[38;5;28mprint\u001b[39m(\u001b[38;5;124m\"\u001b[39m\u001b[38;5;124m_________________________First Object_________________________\u001b[39m\u001b[38;5;124m\"\u001b[39m)\n\u001b[1;32m--> 252\u001b[0m     \u001b[38;5;28mself\u001b[39m\u001b[38;5;241m.\u001b[39mObj1,\u001b[38;5;28mself\u001b[39m\u001b[38;5;241m.\u001b[39mObj1_array \u001b[38;5;241m=\u001b[39m \u001b[38;5;28;43mself\u001b[39;49m\u001b[38;5;241;43m.\u001b[39;49m\u001b[43mmy_pipline\u001b[49m\u001b[38;5;241;43m.\u001b[39;49m\u001b[43mrun\u001b[49m\u001b[43m(\u001b[49m\u001b[38;5;28;43mself\u001b[39;49m\u001b[38;5;241;43m.\u001b[39;49m\u001b[43mObj1_url\u001b[49m\u001b[43m,\u001b[49m\u001b[38;5;28;43mself\u001b[39;49m\u001b[38;5;241;43m.\u001b[39;49m\u001b[43mpipline_variables\u001b[49m\u001b[43m)\u001b[49m\n\u001b[0;32m    253\u001b[0m     \u001b[38;5;28mprint\u001b[39m(\u001b[38;5;124m\"\u001b[39m\u001b[38;5;124m_________________________Second Object_________________________\u001b[39m\u001b[38;5;124m\"\u001b[39m)\n\u001b[0;32m    255\u001b[0m     \u001b[38;5;28mself\u001b[39m\u001b[38;5;241m.\u001b[39mObj2,\u001b[38;5;28mself\u001b[39m\u001b[38;5;241m.\u001b[39mObj2_array \u001b[38;5;241m=\u001b[39m \u001b[38;5;28mself\u001b[39m\u001b[38;5;241m.\u001b[39mmy_pipline\u001b[38;5;241m.\u001b[39mrun(\u001b[38;5;28mself\u001b[39m\u001b[38;5;241m.\u001b[39mObj2_url,\u001b[38;5;28mself\u001b[39m\u001b[38;5;241m.\u001b[39mpipline_variables)\n",
      "File \u001b[1;32m~\\Documents\\THESIS\\pipline_modules\\pipline_breaking.py:198\u001b[0m, in \u001b[0;36mrun\u001b[1;34m(Obj_url, pipline_variables)\u001b[0m\n\u001b[0;32m    194\u001b[0m dilated_border \u001b[38;5;241m=\u001b[39m dilate_border(Obj,border_nodes,\u001b[38;5;241m0.004\u001b[39m)\n\u001b[0;32m    196\u001b[0m \u001b[38;5;28mprint\u001b[39m(\u001b[38;5;124m\"\u001b[39m\u001b[38;5;124mborders dilated\u001b[39m\u001b[38;5;124m\"\u001b[39m)\n\u001b[1;32m--> 198\u001b[0m dilated_faces \u001b[38;5;241m=\u001b[39m \u001b[43mget_sides\u001b[49m\u001b[43m(\u001b[49m\u001b[43misolated_islands_pruned_graph\u001b[49m\u001b[43m,\u001b[49m\u001b[43m \u001b[49m\u001b[43mdilated_border\u001b[49m\u001b[43m)\u001b[49m\n\u001b[0;32m    200\u001b[0m \u001b[38;5;28mprint\u001b[39m(\u001b[38;5;124m\"\u001b[39m\u001b[38;5;124mgot faces\u001b[39m\u001b[38;5;124m\"\u001b[39m)\n\u001b[0;32m    202\u001b[0m node_face \u001b[38;5;241m=\u001b[39m {}\n",
      "File \u001b[1;32m~\\Documents\\THESIS\\pipline_modules\\pipline_breaking.py:58\u001b[0m, in \u001b[0;36mget_sides\u001b[1;34m(Graph, borders)\u001b[0m\n\u001b[0;32m     56\u001b[0m             all_visited\u001b[38;5;241m.\u001b[39madd(neighbor)\n\u001b[0;32m     57\u001b[0m             \u001b[38;5;28;01mif\u001b[39;00m neighbor \u001b[38;5;129;01mnot\u001b[39;00m \u001b[38;5;129;01min\u001b[39;00m borders:\n\u001b[1;32m---> 58\u001b[0m                 \u001b[43mqueue\u001b[49m\u001b[38;5;241;43m.\u001b[39;49m\u001b[43mappend\u001b[49m\u001b[43m(\u001b[49m\u001b[43mneighbor\u001b[49m\u001b[43m)\u001b[49m\n\u001b[0;32m     59\u001b[0m \u001b[38;5;28mprint\u001b[39m(\u001b[38;5;28mlen\u001b[39m(visited))\n\u001b[0;32m     60\u001b[0m faces\u001b[38;5;241m.\u001b[39mappend((\u001b[38;5;28mlen\u001b[39m(visited),visited))\n",
      "\u001b[1;31mKeyboardInterrupt\u001b[0m: "
     ]
    }
   ],
   "source": [
    "import ast\n",
    "\n",
    "from runner import test\n",
    "import numpy as np\n",
    "\n",
    "number = 192\n",
    "\n",
    "#objects\n",
    "Obj1_url = \"data_test/pairs_everyday/BeerBottle/fractured_79/piece_0.obj\"\n",
    "Obj2_url = \"data_test/pairs_everyday/BeerBottle/fractured_79/piece_1.obj\"\n",
    "\n",
    "#Before Evaluate do a Rotation and translation of\n",
    "init_R_T = ((0.2, 0.2, 0.1), (-0.5, -0.5, -0.5))\n",
    "\n",
    "\n",
    "#pipline name and pipline parameters\n",
    "pipline_name = \"pipline_breaking\"\n",
    "\n",
    "\n",
    "N = 15\n",
    "t1 = 2\n",
    "t2 = 100\n",
    "t3 = 100\n",
    "\n",
    "Obj_url = \"data_test/pairwise/repair_group8_pair1/RPf_00059_gt.ply\"\n",
    "#threshold for corner\n",
    "thre = 0.95\n",
    "\n",
    "pipline_variables = (N, t1, t2, t3, thre)\n",
    "\n",
    "#test\n",
    "test_name = \"ICP_test\"\n",
    "\n",
    "# eval \n",
    "\n",
    "eval_list = [\"rms\"]\n",
    "\n",
    "test_breaking_3 = test(Obj2_url, Obj1_url, init_R_T, pipline_name, pipline_variables, test_name, eval_list, show_results = True, save_results=False)\n",
    "\n",
    "my_results = test_breaking_3.run()"
   ]
  },
  {
   "cell_type": "code",
   "execution_count": null,
   "id": "3e7a3dc9",
   "metadata": {},
   "outputs": [],
   "source": [
    "import pandas as pd\n",
    "df_breaking_3 = pd.DataFrame(test_breaking_3.results)\n",
    "df_breaking_3[\"total\"] = df_breaking_3[\"R_error\"]+df_breaking_3[\"T_error\"]\n",
    "df_breaking_3.sort_values('T_error')"
   ]
  },
  {
   "cell_type": "code",
   "execution_count": null,
   "id": "2229989b",
   "metadata": {},
   "outputs": [],
   "source": [
    "test_breaking_3.draw_registration_result_original_color(test_breaking_3.Obj1,test_breaking_3.Obj2,test_breaking_3.result_transformation_arr[98][2])"
   ]
  },
  {
   "cell_type": "code",
   "execution_count": null,
   "id": "8931c39d",
   "metadata": {},
   "outputs": [],
   "source": [
    "test_breaking_3.draw_registration_result_original_color(test_breaking_3.Obj1,test_breaking_3.Obj2,np.eye(4))"
   ]
  },
  {
   "cell_type": "code",
   "execution_count": null,
   "id": "f2087665",
   "metadata": {},
   "outputs": [],
   "source": [
    "test_breaking_3.draw_registration_result_original_color(test_breaking_3.Obj1,test_breaking_3.Obj2,test_breaking_3.RM_ground)"
   ]
  },
  {
   "cell_type": "code",
   "execution_count": null,
   "id": "e97a705e",
   "metadata": {},
   "outputs": [],
   "source": []
  },
  {
   "cell_type": "code",
   "execution_count": null,
   "id": "7e5bc92e",
   "metadata": {},
   "outputs": [],
   "source": [
    "import ast\n",
    "\n",
    "from runner import test\n",
    "import numpy as np\n",
    "\n",
    "number = 192\n",
    "\n",
    "#objects\n",
    "Obj1_url = \"data_test/Breaking-bad-resampled-pairs/Vase-needtolookat/17b6b2b09458f1a435836c728d324152/fractured_5/piece_1.obj\"\n",
    "Obj2_url = \"data_test/Breaking-bad-resampled-pairs/Vase-needtolookat/17b6b2b09458f1a435836c728d324152/fractured_5/piece_0.obj\"\n",
    "\n",
    "#Before Evaluate do a Rotation and translation of\n",
    "init_R_T = ((0.2, 0.2, 0.1), (-0.5, -0.5, -0.5))\n",
    "\n",
    "\n",
    "#pipline name and pipline parameters\n",
    "pipline_name = \"thin_objects\"\n",
    "\n",
    "\n",
    "N = 15\n",
    "t1 = 100\n",
    "t2 = 100\n",
    "t3 = 100\n",
    "\n",
    "\n",
    "#threshold for corner\n",
    "thre = 0.93\n",
    "\n",
    "pipline_variables = (N, t1, t2, t3, thre)\n",
    "\n",
    "#test\n",
    "test_name = \"ICP_test\"\n",
    "\n",
    "# eval \n",
    "\n",
    "eval_list = [\"rms\"]\n",
    "\n",
    "test_breaking_thin = test(Obj2_url, Obj1_url, init_R_T, pipline_name, pipline_variables, test_name, eval_list, show_results = True, save_results=False)\n",
    "\n",
    "my_results = test_breaking_thin.run()"
   ]
  },
  {
   "cell_type": "code",
   "execution_count": null,
   "id": "e9d1ab97",
   "metadata": {},
   "outputs": [],
   "source": [
    "my_results"
   ]
  },
  {
   "cell_type": "code",
   "execution_count": null,
   "id": "b5f3e9a8",
   "metadata": {},
   "outputs": [],
   "source": [
    "import pandas as pd\n",
    "df_breaking_thin = pd.DataFrame(test_breaking_thin.results)\n",
    "df_breaking_thin[\"total\"] = df_breaking_thin[\"R_error\"]+df_breaking_thin[\"T_error\"]\n",
    "df_breaking_thin.sort_values('T_error')"
   ]
  },
  {
   "cell_type": "code",
   "execution_count": null,
   "id": "0ea1e23e",
   "metadata": {},
   "outputs": [],
   "source": [
    "df_breaking_thin"
   ]
  },
  {
   "cell_type": "code",
   "execution_count": null,
   "id": "132fc1fb",
   "metadata": {},
   "outputs": [],
   "source": [
    "test_breaking_thin.draw_registration_result_original_color(test_breaking_thin.Obj1,test_breaking_thin.Obj2,test_breaking_thin.result_transformation_arr[9][2])"
   ]
  },
  {
   "cell_type": "code",
   "execution_count": null,
   "id": "736217a5",
   "metadata": {},
   "outputs": [],
   "source": [
    "test_breaking_thin.draw_registration_result_original_color(test_breaking_thin.Obj1,test_breaking_thin.Obj2,np.eye(4))"
   ]
  },
  {
   "cell_type": "code",
   "execution_count": null,
   "id": "be55686e",
   "metadata": {},
   "outputs": [],
   "source": [
    "test_breaking_thin.draw_registration_result_original_color(test_breaking_thin.Obj1,test_breaking_thin.Obj2,test_breaking_thin.RM_ground)"
   ]
  },
  {
   "cell_type": "code",
   "execution_count": null,
   "id": "23778749",
   "metadata": {},
   "outputs": [],
   "source": [
    "save(\"test_breaking_thin\",test_breaking_thin,9)"
   ]
  },
  {
   "cell_type": "code",
   "execution_count": null,
   "id": "6b79f581",
   "metadata": {},
   "outputs": [],
   "source": []
  },
  {
   "cell_type": "code",
   "execution_count": 6,
   "id": "2cee4d38",
   "metadata": {},
   "outputs": [
    {
     "name": "stdout",
     "output_type": "stream",
     "text": [
      "_________________________First Object_________________________\n",
      "start\n",
      "1.obj\n",
      "small object\n",
      "starting init\n",
      "starting calculating atts\n"
     ]
    },
    {
     "name": "stderr",
     "output_type": "stream",
     "text": [
      "100%|██████████████████████████████████████████████████████████████████████████| 90000/90000 [00:32<00:00, 2785.42it/s]\n"
     ]
    },
    {
     "name": "stdout",
     "output_type": "stream",
     "text": [
      "my radius is :  0.0017374348889503675\n",
      "939936\n",
      "After graph 90000\n",
      "constructing borders\n",
      "1405\n",
      "shortest_allowed_branch_length 374.83329627982624\n",
      "smallest_isolated_island_length 374.83329627982624\n",
      "shortest_cycle_length 374.83329627982624\n",
      "my radius is :  0.005201442354064511\n",
      "50219\n",
      "After graph 1315\n",
      "After Pruning 0\n",
      "After Pruning 114\n",
      "dilation and segmentation\n",
      "borders dilated\n"
     ]
    },
    {
     "name": "stderr",
     "output_type": "stream",
     "text": [
      "619825it [03:26, 3158.54it/s]                                                                                          "
     ]
    },
    {
     "name": "stdout",
     "output_type": "stream",
     "text": [
      "80628\n"
     ]
    },
    {
     "name": "stderr",
     "output_type": "stream",
     "text": [
      "669432it [03:43, 3154.26it/s]"
     ]
    },
    {
     "name": "stdout",
     "output_type": "stream",
     "text": [
      "6419\n"
     ]
    },
    {
     "name": "stderr",
     "output_type": "stream",
     "text": [
      "669432it [03:45, 2971.56it/s]\n"
     ]
    },
    {
     "name": "stdout",
     "output_type": "stream",
     "text": [
      "got faces\n",
      "KNN Radius :  0.0017374348889503675\n",
      "24\n",
      "expanded\n",
      "coloring\n",
      "_________________________Second Object_________________________\n",
      "start\n",
      "0.obj\n",
      "big object\n",
      "starting init\n",
      "starting calculating atts\n"
     ]
    },
    {
     "name": "stderr",
     "output_type": "stream",
     "text": [
      "100%|████████████████████████████████████████████████████████████████████████| 160000/160000 [01:03<00:00, 2504.60it/s]\n"
     ]
    },
    {
     "name": "stdout",
     "output_type": "stream",
     "text": [
      "my radius is :  0.0037183597388561296\n",
      "1710690\n",
      "After graph 160000\n",
      "constructing borders\n",
      "587\n",
      "shortest_allowed_branch_length 242.28082879171433\n",
      "smallest_isolated_island_length 242.28082879171433\n",
      "shortest_cycle_length 242.28082879171433\n",
      "my radius is :  0.006794320376807763\n",
      "11791\n",
      "After graph 578\n",
      "After Pruning 0\n",
      "After Pruning 66\n",
      "dilation and segmentation\n",
      "borders dilated\n"
     ]
    },
    {
     "name": "stderr",
     "output_type": "stream",
     "text": [
      "957952it [00:42, 23521.88it/s]                                                                                         "
     ]
    },
    {
     "name": "stdout",
     "output_type": "stream",
     "text": [
      "157899\n"
     ]
    },
    {
     "name": "stderr",
     "output_type": "stream",
     "text": [
      "967341it [00:45, 6742.96it/s] "
     ]
    },
    {
     "name": "stdout",
     "output_type": "stream",
     "text": [
      "1447\n",
      "1\n",
      "1\n",
      "1\n"
     ]
    },
    {
     "name": "stderr",
     "output_type": "stream",
     "text": [
      "968185it [00:48, 20107.60it/s]\n"
     ]
    },
    {
     "name": "stdout",
     "output_type": "stream",
     "text": [
      "got faces\n",
      "KNN Radius :  0.0037183597388561296\n",
      "17\n",
      "expanded\n",
      "coloring\n",
      "_________________________Registeration_________________________\n",
      "_________________________Evaluation_________________________\n"
     ]
    }
   ],
   "source": [
    "import ast\n",
    "\n",
    "from runner import test\n",
    "import numpy as np\n",
    "\n",
    "number = 192\n",
    "\n",
    "#objects\n",
    "Obj1_url = \"data_test/breaking_bad/WineBottle/fractured_14/piece_0.obj\"\n",
    "Obj2_url = \"data_test/breaking_bad/WineBottle/fractured_3/piece_1.obj\"\n",
    "\n",
    "#Before Evaluate do a Rotation and translation of\n",
    "init_R_T = ((0.2, 0.2, 0.1), (-0.5, -0.5, -0.5))\n",
    "\n",
    "\n",
    "#pipline name and pipline parameters\n",
    "pipline_name = \"drink\"\n",
    "\n",
    "\n",
    "N = 15\n",
    "t1 = 100\n",
    "t2 = 100\n",
    "t3 = 100\n",
    "\n",
    "\n",
    "#threshold for corner\n",
    "thre = 0.93\n",
    "\n",
    "pipline_variables = (N, t1, t2, t3, thre)\n",
    "\n",
    "#test\n",
    "test_name = \"ICP_test\"\n",
    "\n",
    "# eval \n",
    "\n",
    "eval_list = [\"rms\"]\n",
    "\n",
    "test_breaking_thin = test(Obj2_url, Obj1_url, init_R_T, pipline_name, pipline_variables, test_name, eval_list, show_results = True, save_results=False)\n",
    "\n",
    "my_results = test_breaking_thin.run()"
   ]
  },
  {
   "cell_type": "code",
   "execution_count": 7,
   "id": "e6a73843",
   "metadata": {},
   "outputs": [
    {
     "data": {
      "text/html": [
       "<div>\n",
       "<style scoped>\n",
       "    .dataframe tbody tr th:only-of-type {\n",
       "        vertical-align: middle;\n",
       "    }\n",
       "\n",
       "    .dataframe tbody tr th {\n",
       "        vertical-align: top;\n",
       "    }\n",
       "\n",
       "    .dataframe thead th {\n",
       "        text-align: right;\n",
       "    }\n",
       "</style>\n",
       "<table border=\"1\" class=\"dataframe\">\n",
       "  <thead>\n",
       "    <tr style=\"text-align: right;\">\n",
       "      <th></th>\n",
       "      <th>o1</th>\n",
       "      <th>o2</th>\n",
       "      <th>R_error</th>\n",
       "      <th>T_error</th>\n",
       "      <th>total</th>\n",
       "    </tr>\n",
       "  </thead>\n",
       "  <tbody>\n",
       "    <tr>\n",
       "      <th>0</th>\n",
       "      <td>0</td>\n",
       "      <td>0</td>\n",
       "      <td>5.170315</td>\n",
       "      <td>0.603456</td>\n",
       "      <td>5.773770</td>\n",
       "    </tr>\n",
       "    <tr>\n",
       "      <th>2</th>\n",
       "      <td>1</td>\n",
       "      <td>0</td>\n",
       "      <td>3.585831</td>\n",
       "      <td>0.777808</td>\n",
       "      <td>4.363639</td>\n",
       "    </tr>\n",
       "    <tr>\n",
       "      <th>1</th>\n",
       "      <td>0</td>\n",
       "      <td>1</td>\n",
       "      <td>5.015144</td>\n",
       "      <td>0.909920</td>\n",
       "      <td>5.925065</td>\n",
       "    </tr>\n",
       "    <tr>\n",
       "      <th>3</th>\n",
       "      <td>1</td>\n",
       "      <td>1</td>\n",
       "      <td>5.191303</td>\n",
       "      <td>1.406000</td>\n",
       "      <td>6.597303</td>\n",
       "    </tr>\n",
       "  </tbody>\n",
       "</table>\n",
       "</div>"
      ],
      "text/plain": [
       "   o1  o2   R_error   T_error     total\n",
       "0   0   0  5.170315  0.603456  5.773770\n",
       "2   1   0  3.585831  0.777808  4.363639\n",
       "1   0   1  5.015144  0.909920  5.925065\n",
       "3   1   1  5.191303  1.406000  6.597303"
      ]
     },
     "execution_count": 7,
     "metadata": {},
     "output_type": "execute_result"
    }
   ],
   "source": [
    "import pandas as pd\n",
    "df_breaking_thin = pd.DataFrame(test_breaking_thin.results)\n",
    "df_breaking_thin[\"total\"] = df_breaking_thin[\"R_error\"]+df_breaking_thin[\"T_error\"]\n",
    "df_breaking_thin.sort_values('T_error')"
   ]
  },
  {
   "cell_type": "code",
   "execution_count": null,
   "id": "5666340d",
   "metadata": {},
   "outputs": [],
   "source": [
    "save(\"breaking_bad_WineBottle_fractured_3\",test_breaking_thin,3)"
   ]
  },
  {
   "cell_type": "code",
   "execution_count": null,
   "id": "2b9168a1",
   "metadata": {},
   "outputs": [],
   "source": [
    "test_breaking_thin.draw_registration_result_original_color(test_breaking_thin.Obj1,test_breaking_thin.Obj2,test_breaking_thin.result_transformation_arr[3][2])"
   ]
  },
  {
   "cell_type": "code",
   "execution_count": null,
   "id": "787c0d1d",
   "metadata": {},
   "outputs": [],
   "source": [
    "save(\"breaking_bad_WineBottle_fractured_14\",test_breaking_thin,3)"
   ]
  },
  {
   "cell_type": "code",
   "execution_count": null,
   "id": "2058db73",
   "metadata": {},
   "outputs": [],
   "source": [
    "test_breaking_thin.draw_registration_result_original_color(test_breaking_thin.Obj1,test_breaking_thin.Obj2,np.eye(4))"
   ]
  },
  {
   "cell_type": "code",
   "execution_count": null,
   "id": "8a1e6a42",
   "metadata": {},
   "outputs": [],
   "source": [
    "test_breaking_thin.draw_registration_result_original_color(test_breaking_thin.Obj1,test_breaking_thin.Obj2,test_breaking_thin.RM_ground)"
   ]
  },
  {
   "cell_type": "code",
   "execution_count": null,
   "id": "7227fe5e",
   "metadata": {},
   "outputs": [],
   "source": [
    "import ast\n",
    "\n",
    "from runner import test\n",
    "import numpy as np\n",
    "\n",
    "number = 192\n",
    "\n",
    "#objects\n",
    "Obj1_url = \"data_test/breaking_bad/mug/fractured_73/piece_0.obj\"\n",
    "Obj2_url = \"data_test/breaking_bad/mug/fractured_73/piece_1.obj\"\n",
    "\n",
    "#Before Evaluate do a Rotation and translation of\n",
    "init_R_T = ((0.2, 0.2, 0.1), (-0.5, -0.5, -0.5))\n",
    "\n",
    "\n",
    "#pipline name and pipline parameters\n",
    "pipline_name = \"mug\"\n",
    "\n",
    "\n",
    "N = 15\n",
    "t1 = 100\n",
    "t2 = 100\n",
    "t3 = 100\n",
    "\n",
    "\n",
    "#threshold for corner\n",
    "thre = 0.93\n",
    "\n",
    "pipline_variables = (N, t1, t2, t3, thre)\n",
    "\n",
    "#test\n",
    "test_name = \"ICP_test\"\n",
    "\n",
    "# eval \n",
    "\n",
    "eval_list = [\"rms\"]\n",
    "\n",
    "test_breaking_thin = test(Obj2_url, Obj1_url, init_R_T, pipline_name, pipline_variables, test_name, eval_list, show_results = True, save_results=False)\n",
    "\n",
    "my_results = test_breaking_thin.run()"
   ]
  },
  {
   "cell_type": "code",
   "execution_count": null,
   "id": "3734623a",
   "metadata": {},
   "outputs": [],
   "source": [
    "get_winner(test_breaking_thin)"
   ]
  },
  {
   "cell_type": "code",
   "execution_count": null,
   "id": "a171c178",
   "metadata": {},
   "outputs": [],
   "source": [
    "import pandas as pd\n",
    "df_breaking_thin = pd.DataFrame(test_breaking_thin.results)\n",
    "df_breaking_thin[\"total\"] = df_breaking_thin[\"R_error\"]+df_breaking_thin[\"T_error\"]\n",
    "df_breaking_thin.sort_values('T_error')"
   ]
  },
  {
   "cell_type": "code",
   "execution_count": null,
   "id": "1fef3b41",
   "metadata": {},
   "outputs": [],
   "source": [
    "save(\"mug_fractured_73\",test_breaking_thin,21)"
   ]
  },
  {
   "cell_type": "code",
   "execution_count": null,
   "id": "95810650",
   "metadata": {},
   "outputs": [],
   "source": [
    "test_breaking_thin.draw_registration_result_original_color(test_breaking_thin.Obj1,test_breaking_thin.Obj2,test_breaking_thin.result_transformation_arr[13][2])"
   ]
  },
  {
   "cell_type": "code",
   "execution_count": null,
   "id": "bba8cee4",
   "metadata": {},
   "outputs": [],
   "source": [
    "import ast\n",
    "\n",
    "from runner import test\n",
    "import numpy as np\n",
    "\n",
    "number = 192\n",
    "\n",
    "#objects\n",
    "Obj1_url = \"data_test/breaking_bad/mirror/7fe270a9cb7621ed157bba5da16c1cd3/mode_1/piece_0.obj\"\n",
    "Obj2_url = \"data_test/breaking_bad/mirror/7fe270a9cb7621ed157bba5da16c1cd3/mode_1/piece_1.obj\"\n",
    "\n",
    "#Before Evaluate do a Rotation and translation of\n",
    "init_R_T = ((0.2, 0.2, 0.1), (-0.5, -0.5, -0.5))\n",
    "\n",
    "\n",
    "#pipline name and pipline parameters\n",
    "pipline_name = \"thin_objects\"\n",
    "\n",
    "\n",
    "N = 15\n",
    "t1 = 100\n",
    "t2 = 100\n",
    "t3 = 100\n",
    "\n",
    "\n",
    "#threshold for corner\n",
    "thre = 0.9\n",
    "\n",
    "pipline_variables = (N, t1, t2, t3, thre)\n",
    "\n",
    "#test\n",
    "test_name = \"ICP_test\"\n",
    "\n",
    "# eval \n",
    "\n",
    "eval_list = [\"rms\"]\n",
    "\n",
    "test_breaking_thin = test(Obj2_url, Obj1_url, init_R_T, pipline_name, pipline_variables, test_name, eval_list, show_results = True, save_results=False)\n",
    "\n",
    "# my_results = test_breaking_thin.run()"
   ]
  },
  {
   "cell_type": "code",
   "execution_count": 1,
   "id": "310f95f3",
   "metadata": {},
   "outputs": [
    {
     "name": "stdout",
     "output_type": "stream",
     "text": [
      "Jupyter environment detected. Enabling Open3D WebVisualizer.\n",
      "[Open3D INFO] WebRTC GUI backend enabled.\n",
      "[Open3D INFO] WebRTCWindowSystem: HTTP handshake server disabled.\n",
      "_________________________First Object_________________________\n",
      "start\n",
      "1.obj\n",
      "small object\n",
      "starting init\n",
      "starting calculating atts\n"
     ]
    },
    {
     "name": "stderr",
     "output_type": "stream",
     "text": [
      "100%|████████████████████████████████████████████████████████████████████████| 100000/100000 [00:35<00:00, 2799.99it/s]\n"
     ]
    },
    {
     "name": "stdout",
     "output_type": "stream",
     "text": [
      "my radius is :  0.0034564127286522387\n",
      "1025282\n",
      "After graph 100000\n",
      "constructing borders\n",
      "2155\n",
      "shortest_allowed_branch_length 464.21977553740635\n",
      "smallest_isolated_island_length 464.21977553740635\n",
      "shortest_cycle_length 464.21977553740635\n",
      "my radius is :  0.011210510913869575\n",
      "74207\n",
      "After graph 1875\n",
      "After Pruning 0\n",
      "After Pruning 190\n",
      "dilation and segmentation\n",
      "borders dilated\n"
     ]
    },
    {
     "name": "stderr",
     "output_type": "stream",
     "text": [
      "608928it [06:48, 1721.83it/s]                                                                                          "
     ]
    },
    {
     "name": "stdout",
     "output_type": "stream",
     "text": [
      "77939\n"
     ]
    },
    {
     "name": "stderr",
     "output_type": "stream",
     "text": [
      "741943it [08:11, 1737.11it/s]"
     ]
    },
    {
     "name": "stdout",
     "output_type": "stream",
     "text": [
      "17109\n"
     ]
    },
    {
     "name": "stderr",
     "output_type": "stream",
     "text": [
      "742294it [08:13, 320.81it/s] "
     ]
    },
    {
     "name": "stdout",
     "output_type": "stream",
     "text": [
      "5\n",
      "29\n"
     ]
    },
    {
     "name": "stderr",
     "output_type": "stream",
     "text": [
      "742418it [08:14, 1502.61it/s]\n"
     ]
    },
    {
     "name": "stdout",
     "output_type": "stream",
     "text": [
      "got faces\n",
      "KNN Radius :  0.0034564127286522387\n",
      "27\n",
      "expanded\n",
      "coloring\n",
      "_________________________Second Object_________________________\n",
      "start\n",
      "0.obj\n",
      "big object\n",
      "starting init\n",
      "starting calculating atts\n"
     ]
    },
    {
     "name": "stderr",
     "output_type": "stream",
     "text": [
      "100%|████████████████████████████████████████████████████████████████████████| 200000/200000 [01:16<00:00, 2604.88it/s]\n"
     ]
    },
    {
     "name": "stdout",
     "output_type": "stream",
     "text": [
      "my radius is :  0.0035763229310323847\n",
      "2169994\n",
      "After graph 200000\n",
      "constructing borders\n",
      "3222\n",
      "shortest_allowed_branch_length 567.626637852735\n",
      "smallest_isolated_island_length 567.626637852735\n",
      "shortest_cycle_length 567.626637852735\n",
      "my radius is :  0.010006662744688807\n",
      "80542\n",
      "After graph 1658\n",
      "After Pruning 0\n",
      "After Pruning 127\n",
      "dilation and segmentation\n",
      "borders dilated\n"
     ]
    },
    {
     "name": "stderr",
     "output_type": "stream",
     "text": [
      "1083996it [07:23, 2509.71it/s]                                                                                         "
     ]
    },
    {
     "name": "stdout",
     "output_type": "stream",
     "text": [
      "178480\n"
     ]
    },
    {
     "name": "stderr",
     "output_type": "stream",
     "text": [
      "1190094it [08:04, 1761.71it/s]"
     ]
    },
    {
     "name": "stdout",
     "output_type": "stream",
     "text": [
      "17201\n",
      "1\n",
      "1\n",
      "1\n",
      "1\n",
      "1\n",
      "1\n",
      "1\n"
     ]
    },
    {
     "name": "stderr",
     "output_type": "stream",
     "text": [
      "\r",
      "1190232it [08:14, 1761.71it/s]"
     ]
    },
    {
     "name": "stdout",
     "output_type": "stream",
     "text": [
      "1\n",
      "1\n"
     ]
    },
    {
     "name": "stderr",
     "output_type": "stream",
     "text": [
      "\r",
      "1190235it [08:14, 56.95it/s]  "
     ]
    },
    {
     "name": "stdout",
     "output_type": "stream",
     "text": [
      "1\n"
     ]
    },
    {
     "name": "stderr",
     "output_type": "stream",
     "text": [
      "1190235it [08:15, 2403.29it/s]\n"
     ]
    },
    {
     "name": "stdout",
     "output_type": "stream",
     "text": [
      "got faces\n",
      "KNN Radius :  0.0035763229310323847\n",
      "41\n",
      "expanded\n",
      "coloring\n",
      "_________________________Registeration_________________________\n",
      "_________________________Evaluation_________________________\n"
     ]
    }
   ],
   "source": [
    "import ast\n",
    "\n",
    "from runner import test\n",
    "import numpy as np\n",
    "\n",
    "number = 192\n",
    "\n",
    "#objects\n",
    "Obj1_url = \"data_test/breaking_bad/DrinkBottle/fractured_62/piece_0.obj\"\n",
    "Obj2_url = \"data_test/breaking_bad/DrinkBottle/fractured_62/piece_1.obj\"\n",
    "\n",
    "#Before Evaluate do a Rotation and translation of\n",
    "init_R_T = ((0.2, 0.2, 0.1), (-0.5, -0.5, -0.5))\n",
    "\n",
    "\n",
    "#pipline name and pipline parameters\n",
    "pipline_name = \"drink\"\n",
    "\n",
    "\n",
    "N = 15\n",
    "t1 = 100\n",
    "t2 = 100\n",
    "t3 = 100\n",
    "\n",
    "\n",
    "#threshold for corner\n",
    "thre = 0.9\n",
    "\n",
    "pipline_variables = (N, t1, t2, t3, thre)\n",
    "\n",
    "#test\n",
    "test_name = \"ICP_test\"\n",
    "\n",
    "# eval \n",
    "\n",
    "eval_list = [\"rms\"]\n",
    "\n",
    "test_breaking_thin = test(Obj2_url, Obj1_url, init_R_T, pipline_name, pipline_variables, test_name, eval_list, show_results = True, save_results=False)\n",
    "\n",
    "my_results = test_breaking_thin.run()"
   ]
  },
  {
   "cell_type": "code",
   "execution_count": 6,
   "id": "f0ed3ee6",
   "metadata": {},
   "outputs": [
    {
     "data": {
      "text/html": [
       "<div>\n",
       "<style scoped>\n",
       "    .dataframe tbody tr th:only-of-type {\n",
       "        vertical-align: middle;\n",
       "    }\n",
       "\n",
       "    .dataframe tbody tr th {\n",
       "        vertical-align: top;\n",
       "    }\n",
       "\n",
       "    .dataframe thead th {\n",
       "        text-align: right;\n",
       "    }\n",
       "</style>\n",
       "<table border=\"1\" class=\"dataframe\">\n",
       "  <thead>\n",
       "    <tr style=\"text-align: right;\">\n",
       "      <th></th>\n",
       "      <th>index</th>\n",
       "      <th>o1</th>\n",
       "      <th>o2</th>\n",
       "      <th>chamfer</th>\n",
       "    </tr>\n",
       "  </thead>\n",
       "  <tbody>\n",
       "    <tr>\n",
       "      <th>3</th>\n",
       "      <td>3</td>\n",
       "      <td>1</td>\n",
       "      <td>1</td>\n",
       "      <td>0.002201</td>\n",
       "    </tr>\n",
       "    <tr>\n",
       "      <th>5</th>\n",
       "      <td>5</td>\n",
       "      <td>2</td>\n",
       "      <td>1</td>\n",
       "      <td>0.100802</td>\n",
       "    </tr>\n",
       "    <tr>\n",
       "      <th>0</th>\n",
       "      <td>0</td>\n",
       "      <td>0</td>\n",
       "      <td>0</td>\n",
       "      <td>0.111714</td>\n",
       "    </tr>\n",
       "    <tr>\n",
       "      <th>1</th>\n",
       "      <td>1</td>\n",
       "      <td>0</td>\n",
       "      <td>1</td>\n",
       "      <td>0.127575</td>\n",
       "    </tr>\n",
       "    <tr>\n",
       "      <th>2</th>\n",
       "      <td>2</td>\n",
       "      <td>1</td>\n",
       "      <td>0</td>\n",
       "      <td>0.202379</td>\n",
       "    </tr>\n",
       "    <tr>\n",
       "      <th>4</th>\n",
       "      <td>4</td>\n",
       "      <td>2</td>\n",
       "      <td>0</td>\n",
       "      <td>0.337662</td>\n",
       "    </tr>\n",
       "  </tbody>\n",
       "</table>\n",
       "</div>"
      ],
      "text/plain": [
       "   index  o1  o2   chamfer\n",
       "3      3   1   1  0.002201\n",
       "5      5   2   1  0.100802\n",
       "0      0   0   0  0.111714\n",
       "1      1   0   1  0.127575\n",
       "2      2   1   0  0.202379\n",
       "4      4   2   0  0.337662"
      ]
     },
     "execution_count": 6,
     "metadata": {},
     "output_type": "execute_result"
    }
   ],
   "source": [
    "get_winner(test_breaking_thin)"
   ]
  },
  {
   "cell_type": "code",
   "execution_count": 7,
   "id": "a80cdafa",
   "metadata": {},
   "outputs": [],
   "source": [
    "test_breaking_thin.draw_registration_result_original_color(test_breaking_thin.Obj1,test_breaking_thin.Obj2,test_breaking_thin.result_transformation_arr[3][2])"
   ]
  },
  {
   "cell_type": "code",
   "execution_count": 2,
   "id": "518edf8d",
   "metadata": {},
   "outputs": [
    {
     "data": {
      "text/html": [
       "<div>\n",
       "<style scoped>\n",
       "    .dataframe tbody tr th:only-of-type {\n",
       "        vertical-align: middle;\n",
       "    }\n",
       "\n",
       "    .dataframe tbody tr th {\n",
       "        vertical-align: top;\n",
       "    }\n",
       "\n",
       "    .dataframe thead th {\n",
       "        text-align: right;\n",
       "    }\n",
       "</style>\n",
       "<table border=\"1\" class=\"dataframe\">\n",
       "  <thead>\n",
       "    <tr style=\"text-align: right;\">\n",
       "      <th></th>\n",
       "      <th>o1</th>\n",
       "      <th>o2</th>\n",
       "      <th>R_error</th>\n",
       "      <th>T_error</th>\n",
       "      <th>total</th>\n",
       "    </tr>\n",
       "  </thead>\n",
       "  <tbody>\n",
       "    <tr>\n",
       "      <th>3</th>\n",
       "      <td>1</td>\n",
       "      <td>1</td>\n",
       "      <td>5.446026</td>\n",
       "      <td>0.004871</td>\n",
       "      <td>5.450897</td>\n",
       "    </tr>\n",
       "    <tr>\n",
       "      <th>0</th>\n",
       "      <td>0</td>\n",
       "      <td>0</td>\n",
       "      <td>5.019782</td>\n",
       "      <td>0.470392</td>\n",
       "      <td>5.490174</td>\n",
       "    </tr>\n",
       "    <tr>\n",
       "      <th>2</th>\n",
       "      <td>1</td>\n",
       "      <td>0</td>\n",
       "      <td>3.747771</td>\n",
       "      <td>0.629651</td>\n",
       "      <td>4.377421</td>\n",
       "    </tr>\n",
       "    <tr>\n",
       "      <th>5</th>\n",
       "      <td>2</td>\n",
       "      <td>1</td>\n",
       "      <td>4.735299</td>\n",
       "      <td>0.893847</td>\n",
       "      <td>5.629146</td>\n",
       "    </tr>\n",
       "    <tr>\n",
       "      <th>4</th>\n",
       "      <td>2</td>\n",
       "      <td>0</td>\n",
       "      <td>5.468257</td>\n",
       "      <td>1.250285</td>\n",
       "      <td>6.718542</td>\n",
       "    </tr>\n",
       "    <tr>\n",
       "      <th>1</th>\n",
       "      <td>0</td>\n",
       "      <td>1</td>\n",
       "      <td>4.751952</td>\n",
       "      <td>1.407904</td>\n",
       "      <td>6.159856</td>\n",
       "    </tr>\n",
       "  </tbody>\n",
       "</table>\n",
       "</div>"
      ],
      "text/plain": [
       "   o1  o2   R_error   T_error     total\n",
       "3   1   1  5.446026  0.004871  5.450897\n",
       "0   0   0  5.019782  0.470392  5.490174\n",
       "2   1   0  3.747771  0.629651  4.377421\n",
       "5   2   1  4.735299  0.893847  5.629146\n",
       "4   2   0  5.468257  1.250285  6.718542\n",
       "1   0   1  4.751952  1.407904  6.159856"
      ]
     },
     "execution_count": 2,
     "metadata": {},
     "output_type": "execute_result"
    }
   ],
   "source": [
    "import pandas as pd\n",
    "df_breaking_thin = pd.DataFrame(test_breaking_thin.results)\n",
    "df_breaking_thin[\"total\"] = df_breaking_thin[\"R_error\"]+df_breaking_thin[\"T_error\"]\n",
    "df_breaking_thin.sort_values('T_error')"
   ]
  },
  {
   "cell_type": "code",
   "execution_count": null,
   "id": "38ddfe5a",
   "metadata": {},
   "outputs": [],
   "source": [
    "import os\n",
    "os.environ['OMP_NUM_THREADS'] = '1'\n",
    "import ast\n",
    "\n",
    "from runner import test\n",
    "import numpy as np\n",
    "\n",
    "number = 192\n",
    "\n",
    "#objects\n",
    "Obj1_url = \"data_test/breaking_bad/teacup/fractured_39/piece_0.obj\"\n",
    "Obj2_url = \"data_test/breaking_bad/teacup/fractured_39/piece_1.obj\"\n",
    "\n",
    "#Before Evaluate do a Rotation and translation of\n",
    "init_R_T = ((0.2, 0.2, 0.1), (-0.5, -0.5, -0.5))\n",
    "\n",
    "\n",
    "#pipline name and pipline parameters\n",
    "pipline_name = \"pipline_breaking_teacup\"\n",
    "\n",
    "\n",
    "N = 15\n",
    "t1 = 100\n",
    "t2 = 100\n",
    "t3 = 100\n",
    "\n",
    "\n",
    "#threshold for corner\n",
    "thre = 0.93\n",
    "\n",
    "pipline_variables = (N, t1, t2, t3, thre)\n",
    "\n",
    "#test\n",
    "test_name = \"ICP_test\"\n",
    "\n",
    "# eval \n",
    "\n",
    "eval_list = [\"rms\"]\n",
    "\n",
    "test_breaking_thin = test(Obj2_url, Obj1_url, init_R_T, pipline_name, pipline_variables, test_name, eval_list, show_results = True, save_results=False)\n",
    "\n",
    "my_results = test_breaking_thin.run()"
   ]
  },
  {
   "cell_type": "code",
   "execution_count": null,
   "id": "546f86e1",
   "metadata": {},
   "outputs": [],
   "source": [
    "test_breaking_thin.draw_registration_result_original_color(test_breaking_thin.Obj1,test_breaking_thin.Obj2,test_breaking_thin.result_transformation_arr[10][2])"
   ]
  },
  {
   "cell_type": "code",
   "execution_count": null,
   "id": "0de3332a",
   "metadata": {},
   "outputs": [],
   "source": [
    "import pandas as pd\n",
    "df_breaking_thin = pd.DataFrame(test_breaking_thin.results)\n",
    "df_breaking_thin[\"total\"] = df_breaking_thin[\"R_error\"]+df_breaking_thin[\"T_error\"]\n",
    "df_breaking_thin.sort_values('T_error')"
   ]
  },
  {
   "cell_type": "code",
   "execution_count": null,
   "id": "8e91c824",
   "metadata": {},
   "outputs": [],
   "source": [
    "import helper\n",
    "test_breaking_thin.Ob1_array = []\n",
    "test_breaking_thin.Ob2_array = []\n",
    "for i in range(3):\n",
    "    test_breaking_thin.Ob1_array.append(helper.load_cloud(f\"results/mirror_arr/{i}_Obj1.ply\")[0])\n",
    "    test_breaking_thin.Ob2_array.append(helper.load_cloud(f\"results/mirror_arr/{i}_Obj2.ply\")[0])\n"
   ]
  },
  {
   "cell_type": "code",
   "execution_count": null,
   "id": "d0566508",
   "metadata": {},
   "outputs": [],
   "source": [
    "import pandas as pd\n",
    "def get_winner(test):\n",
    "    import scipy\n",
    "    from copy import copy\n",
    "    i = 0\n",
    "    winner_index = -1\n",
    "    winner_value = 10000000\n",
    "    arr = []\n",
    "    for i,(o1,o2) in enumerate(zip(test.Ob1_array,test.Ob2_array)):\n",
    "        print(o1,o2)\n",
    "        obj1 = o1\n",
    "        obj2 = o2\n",
    "    #     print(scipy.spatial.distance.directed_hausdorff(list(obj2_tmp.pcd.points), list(obj1.pcd.points), seed=0))\n",
    "    #     print(scipy.spatial.distance.directed_hausdorff(list(obj1.pcd.points),list(obj2_tmp.pcd.points) , seed=0))\n",
    "        chamfer_value = chamfer_distance(list(obj1.points),list(obj2.points))\n",
    "        arr.append({\"index\":i,\"chamfer\":chamfer_value})\n",
    "        if winner_value>chamfer_value:\n",
    "            winner_index = i\n",
    "            winner_value = chamfer_value\n",
    "        i+=1\n",
    "    chamfer_df = pd.DataFrame(arr)\n",
    "    return chamfer_df.sort_values('chamfer')"
   ]
  },
  {
   "cell_type": "code",
   "execution_count": null,
   "id": "0dfe345f",
   "metadata": {},
   "outputs": [],
   "source": [
    "get_winner(test_breaking_thin)"
   ]
  },
  {
   "cell_type": "code",
   "execution_count": null,
   "id": "ae5e231e",
   "metadata": {},
   "outputs": [],
   "source": [
    "import pandas as pd\n",
    "df_breaking_thin = pd.DataFrame(test_breaking_thin.results)\n",
    "df_breaking_thin[\"total\"] = df_breaking_thin[\"R_error\"]+df_breaking_thin[\"T_error\"]\n",
    "df_breaking_thin.sort_values('T_error')"
   ]
  },
  {
   "cell_type": "code",
   "execution_count": null,
   "id": "1cb719de",
   "metadata": {},
   "outputs": [],
   "source": [
    "test_breaking_thin.draw_registration_result_original_color(test_breaking_thin.Obj1,test_breaking_thin.Obj2,test_breaking_thin.result_transformation_arr[4][2])"
   ]
  },
  {
   "cell_type": "code",
   "execution_count": null,
   "id": "312dbd9e",
   "metadata": {},
   "outputs": [],
   "source": [
    "save(\"mirror_fractured\",test_breaking_thin,4)"
   ]
  },
  {
   "cell_type": "code",
   "execution_count": null,
   "id": "a469a2c5",
   "metadata": {},
   "outputs": [],
   "source": [
    "save_arr(\"mirror_arr\",test_breaking_thin)"
   ]
  },
  {
   "cell_type": "code",
   "execution_count": 1,
   "id": "7a076514",
   "metadata": {},
   "outputs": [
    {
     "name": "stdout",
     "output_type": "stream",
     "text": [
      "Jupyter environment detected. Enabling Open3D WebVisualizer.\n",
      "[Open3D INFO] WebRTC GUI backend enabled.\n",
      "[Open3D INFO] WebRTCWindowSystem: HTTP handshake server disabled.\n",
      "_________________________First Object_________________________\n",
      "start\n",
      "1.obj\n",
      "small object\n",
      "starting init\n",
      "starting calculating atts\n"
     ]
    },
    {
     "name": "stderr",
     "output_type": "stream",
     "text": [
      "100%|██████████████████████████████████████████████████████████████████████████| 80000/80000 [00:29<00:00, 2684.36it/s]\n"
     ]
    },
    {
     "name": "stdout",
     "output_type": "stream",
     "text": [
      "my radius is :  0.003169245520494872\n",
      "905120\n",
      "After graph 80000\n",
      "constructing borders\n",
      "4753\n",
      "shortest_allowed_branch_length 2.8284271247461903\n",
      "smallest_isolated_island_length 2.8284271247461903\n",
      "shortest_cycle_length 2.8284271247461903\n",
      "my radius is :  0.00617970821667739\n",
      "104307\n",
      "After graph 4747\n",
      "After Pruning 4747\n",
      "After Pruning 4747\n",
      "dilation and segmentation\n",
      "borders dilated\n"
     ]
    },
    {
     "name": "stderr",
     "output_type": "stream",
     "text": [
      "  0%|                                                                               | 12/80000 [00:00<14:52, 89.60it/s]"
     ]
    },
    {
     "name": "stdout",
     "output_type": "stream",
     "text": [
      "1\n"
     ]
    },
    {
     "name": "stderr",
     "output_type": "stream",
     "text": [
      "\r",
      "  0%|                                                                              | 26/80000 [00:00<11:56, 111.62it/s]"
     ]
    },
    {
     "name": "stdout",
     "output_type": "stream",
     "text": [
      "1\n"
     ]
    },
    {
     "name": "stderr",
     "output_type": "stream",
     "text": [
      "175900it [1:13:42, 39.77it/s]                                                                                          \n"
     ]
    },
    {
     "ename": "KeyboardInterrupt",
     "evalue": "",
     "output_type": "error",
     "traceback": [
      "\u001b[1;31m---------------------------------------------------------------------------\u001b[0m",
      "\u001b[1;31mKeyboardInterrupt\u001b[0m                         Traceback (most recent call last)",
      "Cell \u001b[1;32mIn[1], line 40\u001b[0m\n\u001b[0;32m     36\u001b[0m eval_list \u001b[38;5;241m=\u001b[39m [\u001b[38;5;124m\"\u001b[39m\u001b[38;5;124mrms\u001b[39m\u001b[38;5;124m\"\u001b[39m]\n\u001b[0;32m     38\u001b[0m test_breaking_3 \u001b[38;5;241m=\u001b[39m test(Obj2_url, Obj1_url, init_R_T, pipline_name, pipline_variables, test_name, eval_list, show_results \u001b[38;5;241m=\u001b[39m \u001b[38;5;28;01mTrue\u001b[39;00m, save_results\u001b[38;5;241m=\u001b[39m\u001b[38;5;28;01mFalse\u001b[39;00m)\n\u001b[1;32m---> 40\u001b[0m my_results \u001b[38;5;241m=\u001b[39m \u001b[43mtest_breaking_3\u001b[49m\u001b[38;5;241;43m.\u001b[39;49m\u001b[43mrun\u001b[49m\u001b[43m(\u001b[49m\u001b[43m)\u001b[49m\n",
      "File \u001b[1;32m~\\Documents\\THESIS\\runner.py:252\u001b[0m, in \u001b[0;36mtest.run\u001b[1;34m(self)\u001b[0m\n\u001b[0;32m    247\u001b[0m \u001b[38;5;28;01mdef\u001b[39;00m \u001b[38;5;21mrun\u001b[39m(\u001b[38;5;28mself\u001b[39m):\n\u001b[0;32m    248\u001b[0m \n\u001b[0;32m    249\u001b[0m     \u001b[38;5;66;03m# try:\u001b[39;00m\n\u001b[0;32m    250\u001b[0m     \u001b[38;5;28mprint\u001b[39m(\u001b[38;5;124m\"\u001b[39m\u001b[38;5;124m_________________________First Object_________________________\u001b[39m\u001b[38;5;124m\"\u001b[39m)\n\u001b[1;32m--> 252\u001b[0m     \u001b[38;5;28mself\u001b[39m\u001b[38;5;241m.\u001b[39mObj1,\u001b[38;5;28mself\u001b[39m\u001b[38;5;241m.\u001b[39mObj1_array \u001b[38;5;241m=\u001b[39m \u001b[38;5;28;43mself\u001b[39;49m\u001b[38;5;241;43m.\u001b[39;49m\u001b[43mmy_pipline\u001b[49m\u001b[38;5;241;43m.\u001b[39;49m\u001b[43mrun\u001b[49m\u001b[43m(\u001b[49m\u001b[38;5;28;43mself\u001b[39;49m\u001b[38;5;241;43m.\u001b[39;49m\u001b[43mObj1_url\u001b[49m\u001b[43m,\u001b[49m\u001b[38;5;28;43mself\u001b[39;49m\u001b[38;5;241;43m.\u001b[39;49m\u001b[43mpipline_variables\u001b[49m\u001b[43m)\u001b[49m\n\u001b[0;32m    253\u001b[0m     \u001b[38;5;28mprint\u001b[39m(\u001b[38;5;124m\"\u001b[39m\u001b[38;5;124m_________________________Second Object_________________________\u001b[39m\u001b[38;5;124m\"\u001b[39m)\n\u001b[0;32m    255\u001b[0m     \u001b[38;5;28mself\u001b[39m\u001b[38;5;241m.\u001b[39mObj2,\u001b[38;5;28mself\u001b[39m\u001b[38;5;241m.\u001b[39mObj2_array \u001b[38;5;241m=\u001b[39m \u001b[38;5;28mself\u001b[39m\u001b[38;5;241m.\u001b[39mmy_pipline\u001b[38;5;241m.\u001b[39mrun(\u001b[38;5;28mself\u001b[39m\u001b[38;5;241m.\u001b[39mObj2_url,\u001b[38;5;28mself\u001b[39m\u001b[38;5;241m.\u001b[39mpipline_variables)\n",
      "File \u001b[1;32m~\\Documents\\THESIS\\pipline_modules\\thin_objects.py:203\u001b[0m, in \u001b[0;36mrun\u001b[1;34m(Obj_url, pipline_variables)\u001b[0m\n\u001b[0;32m    199\u001b[0m dilated_border \u001b[38;5;241m=\u001b[39m dilate_border(Obj,border_nodes,\u001b[38;5;241m0.008\u001b[39m)\n\u001b[0;32m    201\u001b[0m \u001b[38;5;28mprint\u001b[39m(\u001b[38;5;124m\"\u001b[39m\u001b[38;5;124mborders dilated\u001b[39m\u001b[38;5;124m\"\u001b[39m)\n\u001b[1;32m--> 203\u001b[0m dilated_faces \u001b[38;5;241m=\u001b[39m \u001b[43mget_sides\u001b[49m\u001b[43m(\u001b[49m\u001b[43misolated_islands_pruned_graph\u001b[49m\u001b[43m,\u001b[49m\u001b[43m \u001b[49m\u001b[43mdilated_border\u001b[49m\u001b[43m)\u001b[49m\n\u001b[0;32m    205\u001b[0m \u001b[38;5;28mprint\u001b[39m(\u001b[38;5;124m\"\u001b[39m\u001b[38;5;124mgot faces\u001b[39m\u001b[38;5;124m\"\u001b[39m)\n\u001b[0;32m    207\u001b[0m node_face \u001b[38;5;241m=\u001b[39m {}\n",
      "File \u001b[1;32m~\\Documents\\THESIS\\pipline_modules\\thin_objects.py:58\u001b[0m, in \u001b[0;36mget_sides\u001b[1;34m(Graph, borders)\u001b[0m\n\u001b[0;32m     56\u001b[0m             all_visited\u001b[38;5;241m.\u001b[39madd(neighbor)\n\u001b[0;32m     57\u001b[0m             \u001b[38;5;28;01mif\u001b[39;00m neighbor \u001b[38;5;129;01mnot\u001b[39;00m \u001b[38;5;129;01min\u001b[39;00m borders:\n\u001b[1;32m---> 58\u001b[0m                 \u001b[43mqueue\u001b[49m\u001b[38;5;241;43m.\u001b[39;49m\u001b[43mappend\u001b[49m\u001b[43m(\u001b[49m\u001b[43mneighbor\u001b[49m\u001b[43m)\u001b[49m\n\u001b[0;32m     59\u001b[0m \u001b[38;5;28mprint\u001b[39m(\u001b[38;5;28mlen\u001b[39m(visited))\n\u001b[0;32m     60\u001b[0m faces\u001b[38;5;241m.\u001b[39mappend((\u001b[38;5;28mlen\u001b[39m(visited),visited))\n",
      "\u001b[1;31mKeyboardInterrupt\u001b[0m: "
     ]
    }
   ],
   "source": [
    "import ast\n",
    "\n",
    "from runner import test\n",
    "import numpy as np\n",
    "\n",
    "number = 192\n",
    "\n",
    "#objects\n",
    "Obj1_url = \"data_test/Breaking-bad-resampled-pairs/17b6b2b09458f1a435836c728d324152/fractured_5/piece_0.obj\"\n",
    "Obj2_url = \"data_test/Breaking-bad-resampled-pairs/17b6b2b09458f1a435836c728d324152/fractured_5/piece_1.obj\"\n",
    "\n",
    "#Before Evaluate do a Rotation and translation of\n",
    "init_R_T = ((0.2, 0.2, 0.1), (-0.5, -0.5, -0.5))\n",
    "\n",
    "\n",
    "#pipline name and pipline parameters\n",
    "pipline_name = \"thin_objects\"\n",
    "\n",
    "\n",
    "N = 15\n",
    "t1 = 100\n",
    "t2 = 100\n",
    "t3 = 100\n",
    "\n",
    "Obj_url = \"data_test/pairwise/repair_group8_pair1/RPf_00059_gt.ply\"\n",
    "#threshold for corner\n",
    "thre = 0.95\n",
    "\n",
    "pipline_variables = (N, t1, t2, t3, thre)\n",
    "\n",
    "#test\n",
    "test_name = \"ICP_test\"\n",
    "\n",
    "# eval \n",
    "\n",
    "eval_list = [\"rms\"]\n",
    "\n",
    "test_breaking_3 = test(Obj2_url, Obj1_url, init_R_T, pipline_name, pipline_variables, test_name, eval_list, show_results = True, save_results=False)\n",
    "\n",
    "my_results = test_breaking_3.run()"
   ]
  },
  {
   "cell_type": "code",
   "execution_count": null,
   "id": "03250405",
   "metadata": {},
   "outputs": [],
   "source": [
    "import pandas as pd\n",
    "df_breaking_thin = pd.DataFrame(test_breaking_3.results)\n",
    "df_breaking_thin[\"total\"] = df_breaking_thin[\"R_error\"]+df_breaking_thin[\"T_error\"]\n",
    "df_breaking_thin.sort_values('T_error')"
   ]
  },
  {
   "cell_type": "code",
   "execution_count": null,
   "id": "1ff203ee",
   "metadata": {},
   "outputs": [],
   "source": [
    "import open3d as o3d\n",
    "import numpy as np\n",
    "\n",
    "for obj in test_breaking_2.Obj1_array:\n",
    "        points_u = []\n",
    "        tmp_tree = o3d.geometry.KDTreeFlann(obj.pcd)\n",
    "        for i in range(len(obj.pcd.points)):\n",
    "                point = obj.pcd.points[i]\n",
    "                [k, idx, _] = tmp_tree.search_knn_vector_3d(point,2)\n",
    "                q_points = np.asarray(obj.pcd.points).take(idx,axis=0)\n",
    "                points_u.append(np.mean(np.abs(q_points[1:] - point)))\n",
    "        print(np.mean(points_u))"
   ]
  },
  {
   "cell_type": "code",
   "execution_count": null,
   "id": "e7b9bd8e",
   "metadata": {},
   "outputs": [],
   "source": [
    "import open3d as o3d\n",
    "import numpy as np\n",
    "for obj in test_breaking_2.Obj2_array:\n",
    "        points_u = []\n",
    "        tmp_tree = o3d.geometry.KDTreeFlann(obj.pcd)\n",
    "        for i in range(len(obj.pcd.points)):\n",
    "                point = obj.pcd.points[i]\n",
    "                [k, idx, _] = tmp_tree.search_knn_vector_3d(point,2)\n",
    "                q_points = np.asarray(obj.pcd.points).take(idx,axis=0)\n",
    "                points_u.append(np.mean(np.abs(q_points[1:] - point)))\n",
    "        print(np.mean(points_u))"
   ]
  },
  {
   "cell_type": "code",
   "execution_count": 4,
   "id": "4629b1b0",
   "metadata": {},
   "outputs": [],
   "source": [
    "def get_winner(test):\n",
    "    import scipy\n",
    "    from copy import copy\n",
    "    i = 0\n",
    "    winner_index = -1\n",
    "    winner_value = 10000000\n",
    "    arr = []\n",
    "    for o1,o2,R_T in test.result_transformation_arr:\n",
    "    #     print(o1,o2)\n",
    "        obj1 = test.Obj1_array[o1]\n",
    "        obj2 = test.Obj2_array[o2]\n",
    "        obj2_tmp = copy(obj2)\n",
    "        obj2_tmp.pcd = copy(obj2.pcd)\n",
    "        obj2_tmp.pcd.transform(R_T)\n",
    "    #     print(scipy.spatial.distance.directed_hausdorff(list(obj2_tmp.pcd.points), list(obj1.pcd.points), seed=0))\n",
    "    #     print(scipy.spatial.distance.directed_hausdorff(list(obj1.pcd.points),list(obj2_tmp.pcd.points) , seed=0))\n",
    "        chamfer_value = chamfer_distance(list(obj2_tmp.pcd.points),list(obj1.pcd.points))\n",
    "        arr.append({\"index\":i,\"o1\":o1,\"o2\":o2,\"chamfer\":chamfer_value})\n",
    "        if winner_value>chamfer_value:\n",
    "            winner_index = i\n",
    "            winner_value = chamfer_value\n",
    "        i+=1\n",
    "    chamfer_df = pd.DataFrame(arr)\n",
    "    return chamfer_df.sort_values('chamfer')\n"
   ]
  },
  {
   "cell_type": "code",
   "execution_count": null,
   "id": "79d4d944",
   "metadata": {},
   "outputs": [],
   "source": [
    "pip install -U scikit-learn"
   ]
  },
  {
   "cell_type": "code",
   "execution_count": 5,
   "id": "733c976e",
   "metadata": {},
   "outputs": [],
   "source": [
    "import numpy as np\n",
    "from sklearn.neighbors import NearestNeighbors\n",
    "\n",
    "\n",
    "def chamfer_distance(x, y, metric='l2', direction='bi'):\n",
    "    \"\"\"Chamfer distance between two point clouds\n",
    "    Parameters\n",
    "    ----------\n",
    "    x: numpy array [n_points_x, n_dims]\n",
    "        first point cloud\n",
    "    y: numpy array [n_points_y, n_dims]\n",
    "        second point cloud\n",
    "    metric: string or callable, default ‘l2’\n",
    "        metric to use for distance computation. Any metric from scikit-learn or scipy.spatial.distance can be used.\n",
    "    direction: str\n",
    "        direction of Chamfer distance.\n",
    "            'y_to_x':  computes average minimal distance from every point in y to x\n",
    "            'x_to_y':  computes average minimal distance from every point in x to y\n",
    "            'bi': compute both\n",
    "    Returns\n",
    "    -------\n",
    "    chamfer_dist: float\n",
    "        computed bidirectional Chamfer distance:\n",
    "            sum_{x_i \\in x}{\\min_{y_j \\in y}{||x_i-y_j||**2}} + sum_{y_j \\in y}{\\min_{x_i \\in x}{||x_i-y_j||**2}}\n",
    "    \"\"\"\n",
    "    \n",
    "    if direction=='y_to_x':\n",
    "        x_nn = NearestNeighbors(n_neighbors=1, leaf_size=1, algorithm='kd_tree', metric=metric).fit(x)\n",
    "        min_y_to_x = x_nn.kneighbors(y)[0]\n",
    "        chamfer_dist = np.mean(min_y_to_x)\n",
    "    elif direction=='x_to_y':\n",
    "        y_nn = NearestNeighbors(n_neighbors=1, leaf_size=1, algorithm='kd_tree', metric=metric).fit(y)\n",
    "        min_x_to_y = y_nn.kneighbors(x)[0]\n",
    "        chamfer_dist = np.mean(min_x_to_y)\n",
    "    elif direction=='bi':\n",
    "        x_nn = NearestNeighbors(n_neighbors=1, leaf_size=1, algorithm='kd_tree', metric=metric).fit(x)\n",
    "        min_y_to_x = x_nn.kneighbors(y)[0]\n",
    "        y_nn = NearestNeighbors(n_neighbors=1, leaf_size=1, algorithm='kd_tree', metric=metric).fit(y)\n",
    "        min_x_to_y = y_nn.kneighbors(x)[0]\n",
    "        chamfer_dist = np.mean(min_y_to_x) + np.mean(min_x_to_y)\n",
    "    else:\n",
    "        raise ValueError(\"Invalid direction type. Supported types: \\'y_x\\', \\'x_y\\', \\'bi\\'\")\n",
    "        \n",
    "    return chamfer_dist"
   ]
  },
  {
   "cell_type": "code",
   "execution_count": null,
   "id": "47d9fc39",
   "metadata": {},
   "outputs": [],
   "source": [
    "import open3d as o3d\n",
    "import numpy as np\n",
    "df = pd.read_csv(\"results/breaking_bad_4/Ring_fractured_11/error.csv\")"
   ]
  },
  {
   "cell_type": "code",
   "execution_count": null,
   "id": "d3daf572",
   "metadata": {},
   "outputs": [],
   "source": [
    "df.sort_values('T_error')"
   ]
  },
  {
   "cell_type": "code",
   "execution_count": null,
   "id": "535f61a4",
   "metadata": {},
   "outputs": [],
   "source": [
    "ob1 = o3d.io.read_point_cloud(\"results/breaking_bad_4/Ring_fractured_11/Obj1_before.ply\")\n",
    "ob2 = o3d.io.read_point_cloud(\"results/breaking_bad_4/Ring_fractured_11/Obj2_before.ply\")"
   ]
  },
  {
   "cell_type": "code",
   "execution_count": null,
   "id": "a6c616ba",
   "metadata": {},
   "outputs": [],
   "source": [
    "import re\n",
    "from ast import literal_eval\n",
    "trans = re.sub(\"\\s+\", \",\", df.iloc[1][\"transformations\"].strip())\n",
    "trans = trans.replace(trans.split(\"[\")[-1].split(\"]\")[0], trans.split(\"[\")[-1].split(\"]\")[0][1:-1])\n",
    "trans = \"[[\"+trans[3:]\n",
    "trans = literal_eval(trans)"
   ]
  },
  {
   "cell_type": "code",
   "execution_count": null,
   "id": "5fea82ce",
   "metadata": {},
   "outputs": [],
   "source": [
    "trans = [[0.32144564,-0.72195116,0.61274728,-0.48494672],[0.92489243,0.37815645,-0.03964464,0.7821055,],[-0.20309284,0.57946892,0.7892839,0.10506854],[0.,0.,0.,1.]]"
   ]
  },
  {
   "cell_type": "code",
   "execution_count": null,
   "id": "c57dd80b",
   "metadata": {},
   "outputs": [],
   "source": [
    "draw_registration_result_original_color(ob1,ob2,trans)"
   ]
  },
  {
   "cell_type": "code",
   "execution_count": null,
   "id": "4a220806",
   "metadata": {},
   "outputs": [],
   "source": [
    "from copy import deepcopy\n",
    "def draw_registration_result_original_color( obj1, obj2, transformation):\n",
    "        pcd1 = deepcopy(obj1)\n",
    "        pcd2 = deepcopy(obj2)\n",
    "        # pcd1.colors = o3d.utility.Vector3dVector(np.asarray([(0,1,0) for _ in pcd1.points]).astype(np.float))\n",
    "        # pcd2.colors = o3d.utility.Vector3dVector(np.asarray([(0,0,1) for _ in pcd2.points]).astype(np.float))\n",
    "        pcd2.transform(transformation)\n",
    "        o3d.visualization.draw_geometries([pcd1, pcd2])"
   ]
  },
  {
   "cell_type": "code",
   "execution_count": null,
   "id": "a4b894f1",
   "metadata": {},
   "outputs": [],
   "source": [
    "import open3d as o3d\n",
    "import helper\n",
    "import numpy as np\n",
    "target,_ = helper.load_mesh(\"data_test/breaking_bad/mirror/7fe270a9cb7621ed157bba5da16c1cd3/mode_1/piece_0.obj\",80000)\n",
    "source,_ = helper.load_mesh(\"data_test/breaking_bad/mirror/7fe270a9cb7621ed157bba5da16c1cd3/mode_1/piece_1.obj\",80000)\n",
    "init_trans = np.eye(4)\n",
    "target.estimate_normals()\n",
    "source.estimate_normals()\n",
    "result_icp_2 = o3d.pipelines.registration.registration_icp(\n",
    "        source,target,5000,init_trans,\n",
    "        o3d.pipelines.registration.TransformationEstimationPointToPoint(with_scaling =False),\n",
    "        o3d.pipelines.registration.ICPConvergenceCriteria(max_iteration=5000))\n",
    "result_transformation  = result_icp_2.transformation\n",
    "source.transform(result_transformation)\n",
    "source.colors = o3d.utility.Vector3dVector(np.asarray([(0,1,0) for _ in source.points]).astype(float))\n",
    "target.colors = o3d.utility.Vector3dVector(np.asarray([(0,0,1) for _ in target.points]).astype(float))\n",
    "o3d.visualization.draw_geometries([target, source])"
   ]
  },
  {
   "cell_type": "code",
   "execution_count": null,
   "id": "b4e3d75a",
   "metadata": {},
   "outputs": [],
   "source": [
    "target,_ = helper.load_mesh(\"data_test/breaking_bad/mirror/7fe270a9cb7621ed157bba5da16c1cd3/mode_1/piece_0.obj\",80000)\n",
    "source,_ = helper.load_mesh(\"data_test/breaking_bad/mirror/7fe270a9cb7621ed157bba5da16c1cd3/mode_1/piece_1.obj\",80000)\n",
    "source.colors = o3d.utility.Vector3dVector(np.asarray([(0,1,0) for _ in source.points]).astype(float))\n",
    "target.colors = o3d.utility.Vector3dVector(np.asarray([(0,0,1) for _ in target.points]).astype(float))\n",
    "\n",
    "target.estimate_normals()\n",
    "source.estimate_normals()\n",
    "o3d.visualization.draw_geometries([target, source])"
   ]
  },
  {
   "cell_type": "code",
   "execution_count": null,
   "id": "73dcc4bb",
   "metadata": {},
   "outputs": [],
   "source": []
  }
 ],
 "metadata": {
  "kernelspec": {
   "display_name": ".env",
   "language": "python",
   "name": ".env"
  },
  "language_info": {
   "codemirror_mode": {
    "name": "ipython",
    "version": 3
   },
   "file_extension": ".py",
   "mimetype": "text/x-python",
   "name": "python",
   "nbconvert_exporter": "python",
   "pygments_lexer": "ipython3",
   "version": "3.9.0"
  }
 },
 "nbformat": 4,
 "nbformat_minor": 5
}
