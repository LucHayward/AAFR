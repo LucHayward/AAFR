{
 "cells": [
  {
   "cell_type": "code",
   "execution_count": 1,
   "id": "d7238b8e",
   "metadata": {},
   "outputs": [
    {
     "name": "stdout",
     "output_type": "stream",
     "text": [
      "Jupyter environment detected. Enabling Open3D WebVisualizer.\n",
      "[Open3D INFO] WebRTC GUI backend enabled.\n",
      "[Open3D INFO] WebRTCWindowSystem: HTTP handshake server disabled.\n"
     ]
    }
   ],
   "source": [
    "from runner import test\n"
   ]
  },
  {
   "cell_type": "code",
   "execution_count": 2,
   "id": "cf2c85a2",
   "metadata": {},
   "outputs": [],
   "source": [
    "import numpy as np\n",
    "\n",
    "#objects\n",
    "Obj1_url =\"data_test/pairwise/repair_group8_pair2/RPf_00059_gt.ply\" \n",
    "Obj2_url =\"data_test/pairwise/repair_group8_pair2/RPf_00061_gt.ply\" \n",
    "\n",
    "#Before Evaluate do a Rotation and translation of\n",
    "init_R_T = [( 0 , 0 , 0),( 0, -0.6, 0 )]\n",
    "\n",
    "\n",
    "#pipline name and pipline parameters\n",
    "pipline_name = \"pipline_1\"\n",
    "\n",
    "N = 15\n",
    "t1 = 2\n",
    "t2 = 2\n",
    "t3 = 2\n",
    "\n",
    "\n",
    "#threshold for corner\n",
    "thre = 0.99\n",
    "\n",
    "pipline_variables = (N, t1, t2, t3, thre)\n",
    "\n",
    "#test\n",
    "test_name = \"ICP_test\"\n",
    "\n",
    "# eval \n",
    "\n",
    "eval_list = [\"rms\"]\n"
   ]
  },
  {
   "cell_type": "code",
   "execution_count": 3,
   "id": "4742c33e",
   "metadata": {},
   "outputs": [],
   "source": [
    "test1 = test(Obj2_url, Obj1_url, init_R_T, pipline_name, pipline_variables, test_name, eval_list, show_results = False, save_results=True)"
   ]
  },
  {
   "cell_type": "code",
   "execution_count": 4,
   "id": "06a3fdbf",
   "metadata": {
    "scrolled": true
   },
   "outputs": [
    {
     "name": "stdout",
     "output_type": "stream",
     "text": [
      "start\n",
      "\u001b[1;33m[Open3D WARNING] Read PLY failed: unable to read file: data_test/pairwise/repair_group8_pair2/RPf_00061_gt.ply\u001b[0;m\n"
     ]
    },
    {
     "name": "stderr",
     "output_type": "stream",
     "text": [
      "RPly: Error reading 'y' of 'vertex' number 533637\n"
     ]
    },
    {
     "name": "stdout",
     "output_type": "stream",
     "text": [
      "starting init\n"
     ]
    },
    {
     "name": "stderr",
     "output_type": "stream",
     "text": [
      "/home/ali.alagrami/project/AAFR/Fragment.py:163: RuntimeWarning: invalid value encountered in divide\n",
      "  e_vectors_dir = e_vectors/np.repeat(e_vectors_mag.reshape(e_vectors_mag.shape[0],e_vectors_mag.shape[1],1),3,axis=2)\n"
     ]
    },
    {
     "name": "stdout",
     "output_type": "stream",
     "text": [
      "starting threshold\n",
      "create graph\n",
      "my radius is :  1.395188514121991\n"
     ]
    },
    {
     "name": "stderr",
     "output_type": "stream",
     "text": [
      "100%|██████████| 11336/11336 [00:06<00:00, 1881.20it/s]\n"
     ]
    },
    {
     "name": "stdout",
     "output_type": "stream",
     "text": [
      "After graph 11147\n",
      "After Pruning 4696\n",
      "start\n",
      "\u001b[1;33m[Open3D WARNING] Read PLY failed: unable to read file: data_test/pairwise/repair_group8_pair2/RPf_00059_gt.ply\u001b[0;m\n"
     ]
    },
    {
     "name": "stderr",
     "output_type": "stream",
     "text": [
      "RPly: Error reading value number 2 of 'vertex_indices' of 'face' number 47266\n"
     ]
    },
    {
     "name": "stdout",
     "output_type": "stream",
     "text": [
      "starting init\n",
      "starting threshold\n",
      "create graph\n",
      "my radius is :  2.4937656926096854\n"
     ]
    },
    {
     "name": "stderr",
     "output_type": "stream",
     "text": [
      "100%|██████████| 20914/20914 [00:12<00:00, 1609.46it/s]\n"
     ]
    },
    {
     "name": "stdout",
     "output_type": "stream",
     "text": [
      "After graph 20044\n",
      "After Pruning 6951\n",
      "[[ 1.   0.   0.   0. ]\n",
      " [ 0.   1.   0.  -0.6]\n",
      " [ 0.   0.   1.   0. ]\n",
      " [ 0.   0.   0.   1. ]]\n",
      "[[1.  0.  0.  0. ]\n",
      " [0.  1.  0.  0.6]\n",
      " [0.  0.  1.  0. ]\n",
      " [0.  0.  0.  1. ]]\n",
      "[[ 8.11536439e-01  5.57646362e-01 -1.74468173e-01 -1.22648052e-02]\n",
      " [-5.64323209e-01  6.70619364e-01 -4.81465455e-01  7.22491334e+01]\n",
      " [-1.51485725e-01  4.89183200e-01  8.58924835e-01 -1.95969958e+01]\n",
      " [ 0.00000000e+00  0.00000000e+00  0.00000000e+00  1.00000000e+00]]\n",
      "[[  0.81153644  -0.56432321  -0.15148572  37.813151  ]\n",
      " [  0.55764636   0.67061936   0.4891832  -38.85830735]\n",
      " [ -0.17446817  -0.48146546   0.85892483  51.61566852]\n",
      " [  0.           0.           0.           1.        ]]\n",
      "{'R_error': 1.147971569626019, 'T_error': 75.17293158946697}\n"
     ]
    },
    {
     "data": {
      "text/plain": [
       "{'R_error': 1.147971569626018, 'T_error': 74.28082333175925}"
      ]
     },
     "execution_count": 4,
     "metadata": {},
     "output_type": "execute_result"
    }
   ],
   "source": [
    "test1.run()"
   ]
  },
  {
   "cell_type": "code",
   "execution_count": 5,
   "id": "4daca88b",
   "metadata": {},
   "outputs": [
    {
     "name": "stdout",
     "output_type": "stream",
     "text": [
      "[[  0.86216055,-0.05210942,-0.50394821,11.1895856 ], [ -0.07712327,0.969605,-0.23220281,5.7623569 ], [  0.50073065,0.23906224,0.83193633,-41.70132799], [  0.,0.,0.,1.        ]]\n",
      "[[0.86216055, -0.05210942, -0.50394821, 11.1895856], [-0.07712327, 0.969605, -0.23220281, 5.7623569], [0.50073065, 0.23906224, 0.83193633, -41.70132799], [0.0, 0.0, 0.0, 1.0]]\n",
      "[[ 0.86216055 -0.05210942 -0.50394821]\n",
      " [-0.07712327  0.969605   -0.23220281]\n",
      " [ 0.50073065  0.23906224  0.83193633]]\n",
      "[1.7695856  2.6223569  2.25867201]\n"
     ]
    }
   ],
   "source": [
    "import helper\n",
    "import numpy as np\n",
    "import ast\n",
    "import re\n",
    "s = '''[[  0.86216055  -0.05210942  -0.50394821  11.1895856 ]\n",
    " [ -0.07712327   0.969605    -0.23220281   5.7623569 ]\n",
    " [  0.50073065   0.23906224   0.83193633 -41.70132799]\n",
    " [  0.           0.           0.           1.        ]]\n",
    "'''\n",
    "print(','.join(re.sub(r'(?<=[\\d+\\.\\d+])(\\s+)(?=-?[\\d+\\.\\d+])', ',', s).splitlines()))\n",
    "M = ast.literal_eval(','.join(re.sub(r'(?<=[\\d+\\.\\d+])(\\s+)(?=-?[\\d+\\.\\d+])', ',', s).splitlines()))\n",
    "print(M)\n",
    "RST = np.asarray(M)\n",
    "R,T = helper.decompose(RST)\n",
    "print(R)\n",
    "print(T%3.14)"
   ]
  },
  {
   "cell_type": "code",
   "execution_count": 10,
   "id": "49444dc4",
   "metadata": {},
   "outputs": [],
   "source": [
    "import transforms3d\n",
    "Tdash, Rdash, Zdash, Sdash = transforms3d.affines.decompose(RST)"
   ]
  },
  {
   "cell_type": "code",
   "execution_count": 12,
   "id": "d07ec64b",
   "metadata": {},
   "outputs": [
    {
     "data": {
      "text/plain": [
       "array([0., 0., 0.])"
      ]
     },
     "execution_count": 12,
     "metadata": {},
     "output_type": "execute_result"
    }
   ],
   "source": [
    "Sdash"
   ]
  },
  {
   "cell_type": "code",
   "execution_count": 6,
   "id": "2d335a46",
   "metadata": {},
   "outputs": [
    {
     "name": "stdout",
     "output_type": "stream",
     "text": [
      "[[ 1.,0.,0.,0.        ], [ 0.,0.92106099,-0.38941834,0.        ], [ 0.,0.38941834,0.92106099,0.        ], [ 0.,0.,0.,1.        ]]\n",
      "[[1.0, 0.0, 0.0, 0.0], [0.0, 0.92106099, -0.38941834, 0.0], [0.0, 0.38941834, 0.92106099, 0.0], [0.0, 0.0, 0.0, 1.0]]\n",
      "[[ 1.          0.          0.        ]\n",
      " [ 0.          0.92106099 -0.38941834]\n",
      " [ 0.          0.38941834  0.92106099]]\n",
      "[0. 0. 0.]\n"
     ]
    }
   ],
   "source": [
    "s = '''[[ 1.          0.          0.          0.        ]\n",
    " [ 0.          0.92106099 -0.38941834  0.        ]\n",
    " [ 0.          0.38941834  0.92106099  0.        ]\n",
    " [ 0.          0.          0.          1.        ]]'''\n",
    "print(','.join(re.sub(r'(?<=[\\d+\\.\\d+])(\\s+)(?=-?[\\d+\\.\\d+])', ',', s).splitlines()))\n",
    "M = ast.literal_eval(','.join(re.sub(r'(?<=[\\d+\\.\\d+])(\\s+)(?=-?[\\d+\\.\\d+])', ',', s).splitlines()))\n",
    "print(M)\n",
    "RST = np.asarray(M)\n",
    "R,T = helper.decompose(RST)\n",
    "print(R)\n",
    "print(T)"
   ]
  },
  {
   "cell_type": "code",
   "execution_count": null,
   "id": "7fe1bca9",
   "metadata": {},
   "outputs": [
    {
     "data": {
      "text/plain": [
       "[[1.0, 0.0, 0.0],\n",
       " [0.0, 0.92106099, -0.38941834],\n",
       " [0.0, 0.38941834, 0.92106099]]"
      ]
     },
     "execution_count": 42,
     "metadata": {},
     "output_type": "execute_result"
    }
   ],
   "source": [
    "init_R = '''[[ 1.          0.          0.        ]\n",
    " [ 0.          0.92106099 -0.38941834]\n",
    " [ 0.          0.38941834  0.92106099]]\n",
    "'''\n",
    "init_R = ast.literal_eval(','.join(re.sub(r'(?<=[\\d+\\.\\d+])(\\s+)(?=-?[\\d+\\.\\d+])', ',', init_R).splitlines()))\n",
    "init_R"
   ]
  },
  {
   "cell_type": "code",
   "execution_count": null,
   "id": "98f2733b",
   "metadata": {},
   "outputs": [],
   "source": [
    "optimal = np.eye(3)\n",
    "results = np.matmul(R,np.transpose(init_R))\n",
    "R_error = (np.sqrt(np.sum(np.square(optimal - results))))\n",
    "R_error = (np.sqrt(np.sum(np.square(T - results))))"
   ]
  },
  {
   "cell_type": "code",
   "execution_count": 45,
   "id": "69adcd0c",
   "metadata": {},
   "outputs": [
    {
     "data": {
      "text/plain": [
       "0.5495921530129283"
      ]
     },
     "execution_count": 45,
     "metadata": {},
     "output_type": "execute_result"
    }
   ],
   "source": [
    "R_error"
   ]
  },
  {
   "cell_type": "code",
   "execution_count": 5,
   "id": "e11e20f9",
   "metadata": {},
   "outputs": [],
   "source": [
    "test1.show_before()"
   ]
  },
  {
   "cell_type": "code",
   "execution_count": 6,
   "id": "40ec2ef3",
   "metadata": {},
   "outputs": [],
   "source": [
    "test1.show_after()"
   ]
  },
  {
   "cell_type": "code",
   "execution_count": 7,
   "id": "50254759",
   "metadata": {},
   "outputs": [
    {
     "ename": "TypeError",
     "evalue": "cannot pickle 'module' object",
     "output_type": "error",
     "traceback": [
      "\u001b[1;31m---------------------------------------------------------------------------\u001b[0m",
      "\u001b[1;31mTypeError\u001b[0m                                 Traceback (most recent call last)",
      "Input \u001b[1;32mIn [7]\u001b[0m, in \u001b[0;36m<cell line: 1>\u001b[1;34m()\u001b[0m\n\u001b[1;32m----> 1\u001b[0m \u001b[43mtest1\u001b[49m\u001b[38;5;241;43m.\u001b[39;49m\u001b[43msave_test\u001b[49m\u001b[43m(\u001b[49m\u001b[43m)\u001b[49m\n",
      "File \u001b[1;32m~\\Documents\\THESIS\\runner.py:290\u001b[0m, in \u001b[0;36mtest.save_test\u001b[1;34m(self)\u001b[0m\n\u001b[0;32m    288\u001b[0m \u001b[38;5;28;01mdef\u001b[39;00m \u001b[38;5;21msave_test\u001b[39m(\u001b[38;5;28mself\u001b[39m):\n\u001b[0;32m    289\u001b[0m     file \u001b[38;5;241m=\u001b[39m \u001b[38;5;28mopen\u001b[39m(\u001b[38;5;28mself\u001b[39m\u001b[38;5;241m.\u001b[39mresults_path\u001b[38;5;241m+\u001b[39m\u001b[38;5;124m\"\u001b[39m\u001b[38;5;124m/test.ply\u001b[39m\u001b[38;5;124m\"\u001b[39m, \u001b[38;5;124m'\u001b[39m\u001b[38;5;124mwb\u001b[39m\u001b[38;5;124m'\u001b[39m)\n\u001b[1;32m--> 290\u001b[0m     \u001b[43mpickle\u001b[49m\u001b[38;5;241;43m.\u001b[39;49m\u001b[43mdump\u001b[49m\u001b[43m(\u001b[49m\u001b[38;5;28;43mself\u001b[39;49m\u001b[43m,\u001b[49m\u001b[43m \u001b[49m\u001b[43mfile\u001b[49m\u001b[43m,\u001b[49m\u001b[43m \u001b[49m\u001b[43mpickle\u001b[49m\u001b[38;5;241;43m.\u001b[39;49m\u001b[43mHIGHEST_PROTOCOL\u001b[49m\u001b[43m)\u001b[49m\n\u001b[0;32m    291\u001b[0m     \u001b[38;5;28mprint\u001b[39m(\u001b[38;5;124m\"\u001b[39m\u001b[38;5;124mTest saved -> \u001b[39m\u001b[38;5;124m\"\u001b[39m, \u001b[38;5;28mself\u001b[39m\u001b[38;5;241m.\u001b[39mresults_path\u001b[38;5;241m+\u001b[39m\u001b[38;5;124m\"\u001b[39m\u001b[38;5;124m/test.ply\u001b[39m\u001b[38;5;124m\"\u001b[39m)\n",
      "\u001b[1;31mTypeError\u001b[0m: cannot pickle 'module' object"
     ]
    }
   ],
   "source": [
    "test1.save_test()"
   ]
  },
  {
   "cell_type": "code",
   "execution_count": 10,
   "id": "01581155",
   "metadata": {},
   "outputs": [],
   "source": [
    "import pandas as pd\n",
    "import os\n",
    "from pathlib import Path \n",
    "d =  {'col_1': [3, 2, 1, 0], 'col_2': ['a', 'b', 'c', 'd']}\n",
    "df = pd.DataFrame.from_dict(d)\n",
    "path = os.path.join(\"results\",\"ali\",'out.csv')\n",
    "df.to_csv(path)  "
   ]
  },
  {
   "cell_type": "code",
   "execution_count": null,
   "id": "538e40bb",
   "metadata": {},
   "outputs": [],
   "source": []
  }
 ],
 "metadata": {
  "kernelspec": {
   "display_name": "my1env",
   "language": "python",
   "name": "my1env"
  },
  "language_info": {
   "codemirror_mode": {
    "name": "ipython",
    "version": 3
   },
   "file_extension": ".py",
   "mimetype": "text/x-python",
   "name": "python",
   "nbconvert_exporter": "python",
   "pygments_lexer": "ipython3",
   "version": "3.10.6"
  }
 },
 "nbformat": 4,
 "nbformat_minor": 5
}
