{
 "cells": [
  {
   "cell_type": "code",
   "execution_count": 1,
   "id": "d7238b8e",
   "metadata": {},
   "outputs": [
    {
     "name": "stdout",
     "output_type": "stream",
     "text": [
      "Jupyter environment detected. Enabling Open3D WebVisualizer.\n",
      "[Open3D INFO] WebRTC GUI backend enabled.\n",
      "[Open3D INFO] WebRTCWindowSystem: HTTP handshake server disabled.\n"
     ]
    }
   ],
   "source": [
    "from runner import test"
   ]
  },
  {
   "cell_type": "code",
   "execution_count": 130,
   "id": "cf2c85a2",
   "metadata": {},
   "outputs": [],
   "source": [
    "import numpy as np\n",
    "\n",
    "#objects\n",
    "Obj1_url =\"data_test/pairwise/repair_group15_pair7/RPf_00098_gt.ply\" \n",
    "Obj2_url =  \"data_test/pairwise/repair_group15_pair7/RPf_00100_gt.ply\"\n",
    "\n",
    "#Before Evaluate do a Rotation and translation of\n",
    "init_R_T = [( 0 , 0, 0),( 0.1, 0.1, 0.1)]\n",
    "\n",
    "\n",
    "#pipline name and pipline parameters\n",
    "pipline_name = \"pipline_1\"\n",
    "\n",
    "N = 5\n",
    "t1 = 1\n",
    "t2 = 1\n",
    "t3 = 1\n",
    "\n",
    "\n",
    "#threshold for corner\n",
    "thre = 0.99\n",
    "\n",
    "pipline_variables = (N, t1, t2, t3, thre)\n",
    "\n",
    "#test\n",
    "test_name = \"ICP_test\"\n",
    "\n",
    "# eval \n",
    "\n",
    "eval_list = [\"rms\"]\n"
   ]
  },
  {
   "cell_type": "code",
   "execution_count": 131,
   "id": "4742c33e",
   "metadata": {},
   "outputs": [],
   "source": [
    "test1 = test(Obj2_url, Obj1_url, init_R_T, pipline_name, pipline_variables, test_name, eval_list, show_results = True, save_results=True)"
   ]
  },
  {
   "cell_type": "code",
   "execution_count": null,
   "id": "06a3fdbf",
   "metadata": {
    "scrolled": true
   },
   "outputs": [
    {
     "name": "stdout",
     "output_type": "stream",
     "text": [
      "start\n",
      "starting init\n",
      "starting threshold\n",
      "create graph\n",
      "my radius is :  0.0827468369153101\n"
     ]
    },
    {
     "name": "stderr",
     "output_type": "stream",
     "text": [
      "100%|████████████████████████████████████████████████████████████████████████████| 2151/2151 [00:01<00:00, 1542.75it/s]\n"
     ]
    },
    {
     "name": "stdout",
     "output_type": "stream",
     "text": [
      "After graph 2068\n",
      "After Pruning 246\n",
      "start\n",
      "starting init\n",
      "starting threshold\n",
      "create graph\n",
      "my radius is :  0.04186501039896887\n"
     ]
    },
    {
     "name": "stderr",
     "output_type": "stream",
     "text": [
      "100%|████████████████████████████████████████████████████████████████████████████| 4411/4411 [00:02<00:00, 1498.93it/s]\n"
     ]
    },
    {
     "name": "stdout",
     "output_type": "stream",
     "text": [
      "After graph 4201\n"
     ]
    }
   ],
   "source": [
    "test1.run()"
   ]
  },
  {
   "cell_type": "code",
   "execution_count": null,
   "id": "e11e20f9",
   "metadata": {},
   "outputs": [],
   "source": []
  },
  {
   "cell_type": "code",
   "execution_count": null,
   "id": "da5fbe40",
   "metadata": {},
   "outputs": [],
   "source": []
  }
 ],
 "metadata": {
  "kernelspec": {
   "display_name": "Python [conda env:thesis]",
   "language": "python",
   "name": "conda-env-thesis-py"
  },
  "language_info": {
   "codemirror_mode": {
    "name": "ipython",
    "version": 3
   },
   "file_extension": ".py",
   "mimetype": "text/x-python",
   "name": "python",
   "nbconvert_exporter": "python",
   "pygments_lexer": "ipython3",
   "version": "3.9.12"
  }
 },
 "nbformat": 4,
 "nbformat_minor": 5
}
