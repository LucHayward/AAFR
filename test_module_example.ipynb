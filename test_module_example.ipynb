{
 "cells": [
  {
   "cell_type": "code",
   "execution_count": 1,
   "id": "d7238b8e",
   "metadata": {},
   "outputs": [
    {
     "name": "stdout",
     "output_type": "stream",
     "text": [
      "Jupyter environment detected. Enabling Open3D WebVisualizer.\n",
      "[Open3D INFO] WebRTC GUI backend enabled.\n",
      "[Open3D INFO] WebRTCWindowSystem: HTTP handshake server disabled.\n"
     ]
    }
   ],
   "source": [
    "from runner import test"
   ]
  },
  {
   "cell_type": "code",
   "execution_count": 2,
   "id": "cf2c85a2",
   "metadata": {},
   "outputs": [],
   "source": [
    "import numpy as np\n",
    "\n",
    "#objects\n",
    "Obj1_url =\"data_test/pairwise/repair_group8_pair2/RPf_00059_gt.ply\" \n",
    "Obj2_url =\"data_test/pairwise/repair_group8_pair2/RPf_00061_gt.ply\" \n",
    "\n",
    "#Before Evaluate do a Rotation and translation of\n",
    "init_R_T = [( 0.4 , 0, 0),( -10, 0, 0 )]\n",
    "\n",
    "\n",
    "#pipline name and pipline parameters\n",
    "pipline_name = \"pipline_1\"\n",
    "\n",
    "N = 15\n",
    "t1 = 2\n",
    "t2 = 2\n",
    "t3 = 2\n",
    "\n",
    "\n",
    "#threshold for corner\n",
    "thre = 0.98\n",
    "\n",
    "pipline_variables = (N, t1, t2, t3, thre)\n",
    "\n",
    "#test\n",
    "test_name = \"ICP_test\"\n",
    "\n",
    "# eval \n",
    "\n",
    "eval_list = [\"rms\"]\n"
   ]
  },
  {
   "cell_type": "code",
   "execution_count": 3,
   "id": "4742c33e",
   "metadata": {},
   "outputs": [],
   "source": [
    "test1 = test(Obj2_url, Obj1_url, init_R_T, pipline_name, pipline_variables, test_name, eval_list, show_results = True, save_results=True)"
   ]
  },
  {
   "cell_type": "code",
   "execution_count": 4,
   "id": "06a3fdbf",
   "metadata": {
    "scrolled": true
   },
   "outputs": [
    {
     "name": "stdout",
     "output_type": "stream",
     "text": [
      "start\n",
      "\u001b[1;33m[Open3D WARNING] Read PLY failed: unable to read file: data_test/pairwise/repair_group8_pair2/RPf_00061_gt.ply\u001b[0;m\n"
     ]
    },
    {
     "name": "stderr",
     "output_type": "stream",
     "text": [
      "RPly: Error reading 'y' of 'vertex' number 533637\n"
     ]
    },
    {
     "name": "stdout",
     "output_type": "stream",
     "text": [
      "starting init\n"
     ]
    },
    {
     "name": "stderr",
     "output_type": "stream",
     "text": [
      "/home/ali.alagrami/project/AAFR/Fragment.py:163: RuntimeWarning: invalid value encountered in divide\n",
      "  e_vectors_dir = e_vectors/np.repeat(e_vectors_mag.reshape(e_vectors_mag.shape[0],e_vectors_mag.shape[1],1),3,axis=2)\n"
     ]
    },
    {
     "name": "stdout",
     "output_type": "stream",
     "text": [
      "starting threshold\n",
      "create graph\n",
      "my radius is :  1.5255910279813103\n"
     ]
    },
    {
     "name": "stderr",
     "output_type": "stream",
     "text": [
      "100%|█████████████████████████████████████████████████████████████████████████████████████████████████████████████████████████████████████████████████████| 8385/8385 [00:04<00:00, 1770.30it/s]\n"
     ]
    },
    {
     "name": "stdout",
     "output_type": "stream",
     "text": [
      "After graph 8173\n",
      "After Pruning 2948\n",
      "start\n",
      "\u001b[1;33m[Open3D WARNING] Read PLY failed: unable to read file: data_test/pairwise/repair_group8_pair2/RPf_00059_gt.ply\u001b[0;m\n"
     ]
    },
    {
     "name": "stderr",
     "output_type": "stream",
     "text": [
      "RPly: Error reading value number 2 of 'vertex_indices' of 'face' number 47266\n"
     ]
    },
    {
     "name": "stdout",
     "output_type": "stream",
     "text": [
      "starting init\n",
      "starting threshold\n",
      "create graph\n",
      "my radius is :  2.769361435584934\n"
     ]
    },
    {
     "name": "stderr",
     "output_type": "stream",
     "text": [
      "100%|███████████████████████████████████████████████████████████████████████████████████████████████████████████████████████████████████████████████████| 14822/14822 [00:10<00:00, 1432.49it/s]\n"
     ]
    },
    {
     "name": "stdout",
     "output_type": "stream",
     "text": [
      "After graph 13965\n",
      "After Pruning 4018\n",
      "\u001b[1;33m[Open3D WARNING] GLFW Error: X11: The DISPLAY environment variable is missing\u001b[0;m\n",
      "\u001b[1;33m[Open3D WARNING] Failed to initialize GLFW\u001b[0;m\n",
      "\u001b[1;33m[Open3D WARNING] [DrawGeometries] Failed creating OpenGL window.\u001b[0;m\n"
     ]
    },
    {
     "data": {
      "text/plain": [
       "{'R_error': 1.1574890811536485, 'T_error': 103.78522027069776}"
      ]
     },
     "execution_count": 4,
     "metadata": {},
     "output_type": "execute_result"
    }
   ],
   "source": [
    "test1.run()"
   ]
  },
  {
   "cell_type": "code",
   "execution_count": 5,
   "id": "e11e20f9",
   "metadata": {},
   "outputs": [],
   "source": [
    "test1.show_before()"
   ]
  },
  {
   "cell_type": "code",
   "execution_count": 6,
   "id": "40ec2ef3",
   "metadata": {},
   "outputs": [],
   "source": [
    "test1.show_after()"
   ]
  },
  {
   "cell_type": "code",
   "execution_count": 7,
   "id": "50254759",
   "metadata": {},
   "outputs": [
    {
     "ename": "TypeError",
     "evalue": "cannot pickle 'module' object",
     "output_type": "error",
     "traceback": [
      "\u001b[1;31m---------------------------------------------------------------------------\u001b[0m",
      "\u001b[1;31mTypeError\u001b[0m                                 Traceback (most recent call last)",
      "Input \u001b[1;32mIn [7]\u001b[0m, in \u001b[0;36m<cell line: 1>\u001b[1;34m()\u001b[0m\n\u001b[1;32m----> 1\u001b[0m \u001b[43mtest1\u001b[49m\u001b[38;5;241;43m.\u001b[39;49m\u001b[43msave_test\u001b[49m\u001b[43m(\u001b[49m\u001b[43m)\u001b[49m\n",
      "File \u001b[1;32m~\\Documents\\THESIS\\runner.py:290\u001b[0m, in \u001b[0;36mtest.save_test\u001b[1;34m(self)\u001b[0m\n\u001b[0;32m    288\u001b[0m \u001b[38;5;28;01mdef\u001b[39;00m \u001b[38;5;21msave_test\u001b[39m(\u001b[38;5;28mself\u001b[39m):\n\u001b[0;32m    289\u001b[0m     file \u001b[38;5;241m=\u001b[39m \u001b[38;5;28mopen\u001b[39m(\u001b[38;5;28mself\u001b[39m\u001b[38;5;241m.\u001b[39mresults_path\u001b[38;5;241m+\u001b[39m\u001b[38;5;124m\"\u001b[39m\u001b[38;5;124m/test.ply\u001b[39m\u001b[38;5;124m\"\u001b[39m, \u001b[38;5;124m'\u001b[39m\u001b[38;5;124mwb\u001b[39m\u001b[38;5;124m'\u001b[39m)\n\u001b[1;32m--> 290\u001b[0m     \u001b[43mpickle\u001b[49m\u001b[38;5;241;43m.\u001b[39;49m\u001b[43mdump\u001b[49m\u001b[43m(\u001b[49m\u001b[38;5;28;43mself\u001b[39;49m\u001b[43m,\u001b[49m\u001b[43m \u001b[49m\u001b[43mfile\u001b[49m\u001b[43m,\u001b[49m\u001b[43m \u001b[49m\u001b[43mpickle\u001b[49m\u001b[38;5;241;43m.\u001b[39;49m\u001b[43mHIGHEST_PROTOCOL\u001b[49m\u001b[43m)\u001b[49m\n\u001b[0;32m    291\u001b[0m     \u001b[38;5;28mprint\u001b[39m(\u001b[38;5;124m\"\u001b[39m\u001b[38;5;124mTest saved -> \u001b[39m\u001b[38;5;124m\"\u001b[39m, \u001b[38;5;28mself\u001b[39m\u001b[38;5;241m.\u001b[39mresults_path\u001b[38;5;241m+\u001b[39m\u001b[38;5;124m\"\u001b[39m\u001b[38;5;124m/test.ply\u001b[39m\u001b[38;5;124m\"\u001b[39m)\n",
      "\u001b[1;31mTypeError\u001b[0m: cannot pickle 'module' object"
     ]
    }
   ],
   "source": [
    "test1.save_test()"
   ]
  },
  {
   "cell_type": "code",
   "execution_count": 10,
   "id": "01581155",
   "metadata": {},
   "outputs": [],
   "source": [
    "import pandas as pd\n",
    "import os\n",
    "from pathlib import Path \n",
    "d =  {'col_1': [3, 2, 1, 0], 'col_2': ['a', 'b', 'c', 'd']}\n",
    "df = pd.DataFrame.from_dict(d)\n",
    "path = os.path.join(\"results\",\"ali\",'out.csv')\n",
    "df.to_csv(path)  "
   ]
  },
  {
   "cell_type": "code",
   "execution_count": null,
   "id": "538e40bb",
   "metadata": {},
   "outputs": [],
   "source": []
  }
 ],
 "metadata": {
  "kernelspec": {
   "display_name": "my1env",
   "language": "python",
   "name": "my1env"
  },
  "language_info": {
   "codemirror_mode": {
    "name": "ipython",
    "version": 3
   },
   "file_extension": ".py",
   "mimetype": "text/x-python",
   "name": "python",
   "nbconvert_exporter": "python",
   "pygments_lexer": "ipython3",
   "version": "3.10.6"
  }
 },
 "nbformat": 4,
 "nbformat_minor": 5
}
