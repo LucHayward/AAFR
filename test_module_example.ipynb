{
 "cells": [
  {
   "cell_type": "code",
   "execution_count": 1,
   "id": "d7238b8e",
   "metadata": {},
   "outputs": [
    {
     "name": "stdout",
     "output_type": "stream",
     "text": [
      "Jupyter environment detected. Enabling Open3D WebVisualizer.\n",
      "[Open3D INFO] WebRTC GUI backend enabled.\n",
      "[Open3D INFO] WebRTCWindowSystem: HTTP handshake server disabled.\n"
     ]
    }
   ],
   "source": [
    "from runner import test"
   ]
  },
  {
   "cell_type": "code",
   "execution_count": 2,
   "id": "cf2c85a2",
   "metadata": {},
   "outputs": [],
   "source": [
    "import numpy as np\n",
    "\n",
    "#objects\n",
    "Obj1_url = \"data/group8/RPf_00060_gt.ply\"\n",
    "Obj2_url = \"data/group8/RPf_00059_gt.ply\"\n",
    "\n",
    "#Before Evaluate do a Rotation and translation of\n",
    "init_R_T = [(0,0,0),(0,0,0)]\n",
    "\n",
    "\n",
    "#pipline name and pipline parameters\n",
    "pipline_name = \"pipline_1\"\n",
    "\n",
    "N = 15\n",
    "t1 = 2\n",
    "t2 = 2\n",
    "t3 = 2\n",
    "pipline_variables = (N, t1, t2, t3)\n",
    "\n",
    "\n",
    "#test\n",
    "test_name = \"ICP_test\"\n",
    "\n",
    "# eval \n",
    "\n",
    "eval_list = [\"rms\",\"new_eval\"]\n"
   ]
  },
  {
   "cell_type": "code",
   "execution_count": 5,
   "id": "4742c33e",
   "metadata": {},
   "outputs": [],
   "source": [
    "test1 = test(Obj2_url, Obj1_url, init_R_T, pipline_name, pipline_variables, test_name, eval_list, show_results = False)"
   ]
  },
  {
   "cell_type": "code",
   "execution_count": 6,
   "id": "06a3fdbf",
   "metadata": {},
   "outputs": [
    {
     "name": "stdout",
     "output_type": "stream",
     "text": [
      "After graph 10801\n",
      "After Pruning 2842\n",
      "After graph 8456\n",
      "After Pruning 2383\n"
     ]
    },
    {
     "data": {
      "text/plain": [
       "{'R_error': 0.0, 'T_error': 0.0, 'eval1': -1, 'eval2': -1}"
      ]
     },
     "execution_count": 6,
     "metadata": {},
     "output_type": "execute_result"
    }
   ],
   "source": [
    "test1.run()"
   ]
  },
  {
   "cell_type": "code",
   "execution_count": null,
   "id": "c82178f2",
   "metadata": {},
   "outputs": [],
   "source": []
  }
 ],
 "metadata": {
  "kernelspec": {
   "display_name": "Python [conda env:thesis]",
   "language": "python",
   "name": "conda-env-thesis-py"
  },
  "language_info": {
   "codemirror_mode": {
    "name": "ipython",
    "version": 3
   },
   "file_extension": ".py",
   "mimetype": "text/x-python",
   "name": "python",
   "nbconvert_exporter": "python",
   "pygments_lexer": "ipython3",
   "version": "3.9.12"
  }
 },
 "nbformat": 4,
 "nbformat_minor": 5
}
