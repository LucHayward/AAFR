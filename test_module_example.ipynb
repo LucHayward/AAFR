{
 "cells": [
  {
   "cell_type": "code",
   "execution_count": 5,
   "id": "d7238b8e",
   "metadata": {},
   "outputs": [],
   "source": [
    "from runner import test"
   ]
  },
  {
   "cell_type": "code",
   "execution_count": 6,
   "id": "cf2c85a2",
   "metadata": {},
   "outputs": [],
   "source": [
    "import numpy as np\n",
    "\n",
    "#objects\n",
    "Obj1_url = \"data_test/pairwise/repair_group15_pair1/RPf_00105_gt.ply\"\n",
    "Obj2_url =  \"data_test/pairwise/repair_group15_pair1/RPf_00108_gt.ply\"\n",
    "\n",
    "#Before Evaluate do a Rotation and translation of\n",
    "init_R_T = [( 0.1, 0, 0),( 0, 0, 0)]\n",
    "\n",
    "\n",
    "#pipline name and pipline parameters\n",
    "pipline_name = \"pipline_1\"\n",
    "\n",
    "N = 15\n",
    "t1 = 2\n",
    "t2 = 2\n",
    "t3 = 2\n",
    "\n",
    "\n",
    "#threshold for corner\n",
    "thre = 0.95\n",
    "\n",
    "pipline_variables = (N, t1, t2, t3, thre)\n",
    "\n",
    "#test\n",
    "test_name = \"ICP_test\"\n",
    "\n",
    "# eval \n",
    "\n",
    "eval_list = [\"rms\"]\n"
   ]
  },
  {
   "cell_type": "code",
   "execution_count": 7,
   "id": "4742c33e",
   "metadata": {},
   "outputs": [],
   "source": [
    "test1 = test(Obj2_url, Obj1_url, init_R_T, pipline_name, pipline_variables, test_name, eval_list, show_results = True, save_results=True)"
   ]
  },
  {
   "cell_type": "code",
   "execution_count": 8,
   "id": "06a3fdbf",
   "metadata": {
    "scrolled": true
   },
   "outputs": [
    {
     "name": "stdout",
     "output_type": "stream",
     "text": [
      "start\n",
      "\u001b[1;33m[Open3D WARNING] Read PLY failed: unable to open file: data_test/pairwise/repair_group15_pair1/RPf_00108_gt.ply\u001b[0;m\n"
     ]
    },
    {
     "name": "stderr",
     "output_type": "stream",
     "text": [
      "RPly: Unable to open file\n"
     ]
    },
    {
     "ename": "Exception",
     "evalue": "Sorry, num should be less than number of voxels in the objects",
     "output_type": "error",
     "traceback": [
      "\u001b[0;31m---------------------------------------------------------------------------\u001b[0m",
      "\u001b[0;31mException\u001b[0m                                 Traceback (most recent call last)",
      "Cell \u001b[0;32mIn [8], line 1\u001b[0m\n\u001b[0;32m----> 1\u001b[0m \u001b[43mtest1\u001b[49m\u001b[38;5;241;43m.\u001b[39;49m\u001b[43mrun\u001b[49m\u001b[43m(\u001b[49m\u001b[43m)\u001b[49m\n",
      "File \u001b[0;32m~/project/AAFR/runner.py:237\u001b[0m, in \u001b[0;36mtest.run\u001b[0;34m(self)\u001b[0m\n\u001b[1;32m    234\u001b[0m \u001b[38;5;28;01mdef\u001b[39;00m \u001b[38;5;21mrun\u001b[39m(\u001b[38;5;28mself\u001b[39m):\n\u001b[1;32m    235\u001b[0m \n\u001b[1;32m    236\u001b[0m     \u001b[38;5;66;03m# try:\u001b[39;00m\n\u001b[0;32m--> 237\u001b[0m     Obj1 \u001b[38;5;241m=\u001b[39m \u001b[38;5;28;43mself\u001b[39;49m\u001b[38;5;241;43m.\u001b[39;49m\u001b[43mmy_pipline\u001b[49m\u001b[38;5;241;43m.\u001b[39;49m\u001b[43mrun\u001b[49m\u001b[43m(\u001b[49m\u001b[38;5;28;43mself\u001b[39;49m\u001b[38;5;241;43m.\u001b[39;49m\u001b[43mObj1_url\u001b[49m\u001b[43m,\u001b[49m\u001b[38;5;28;43mself\u001b[39;49m\u001b[38;5;241;43m.\u001b[39;49m\u001b[43mpipline_variables\u001b[49m\u001b[43m)\u001b[49m\n\u001b[1;32m    238\u001b[0m     Obj2 \u001b[38;5;241m=\u001b[39m \u001b[38;5;28mself\u001b[39m\u001b[38;5;241m.\u001b[39mmy_pipline\u001b[38;5;241m.\u001b[39mrun(\u001b[38;5;28mself\u001b[39m\u001b[38;5;241m.\u001b[39mObj2_url,\u001b[38;5;28mself\u001b[39m\u001b[38;5;241m.\u001b[39mpipline_variables)\n\u001b[1;32m    239\u001b[0m     R,T \u001b[38;5;241m=\u001b[39m \u001b[38;5;28mself\u001b[39m\u001b[38;5;241m.\u001b[39minit_R_T\n",
      "File \u001b[0;32m~/project/AAFR/pipline_modules/pipline_1.py:17\u001b[0m, in \u001b[0;36mrun\u001b[0;34m(Obj_url, pipline_variables)\u001b[0m\n\u001b[1;32m     14\u001b[0m (N, shortest_cycle_length, smallest_isolated_island_length, shortest_allowed_branch_length, thre) \u001b[38;5;241m=\u001b[39m pipline_variables\n\u001b[1;32m     16\u001b[0m \u001b[38;5;28mprint\u001b[39m(\u001b[38;5;124m\"\u001b[39m\u001b[38;5;124mstart\u001b[39m\u001b[38;5;124m\"\u001b[39m)\n\u001b[0;32m---> 17\u001b[0m Obj \u001b[38;5;241m=\u001b[39m \u001b[43mFeatureLines\u001b[49m\u001b[43m(\u001b[49m\u001b[43mObj_url\u001b[49m\u001b[43m,\u001b[49m\u001b[43mvoxel_size\u001b[49m\u001b[38;5;241;43m=\u001b[39;49m\u001b[38;5;241;43m30000\u001b[39;49m\u001b[43m)\u001b[49m\n\u001b[1;32m     18\u001b[0m \u001b[38;5;66;03m# print(\"Size :\",len(Obj.pcd.points))\u001b[39;00m\n\u001b[1;32m     19\u001b[0m \u001b[38;5;28mprint\u001b[39m(\u001b[38;5;124m\"\u001b[39m\u001b[38;5;124mstarting init\u001b[39m\u001b[38;5;124m\"\u001b[39m)\n",
      "File \u001b[0;32m~/project/AAFR/Fragment.py:21\u001b[0m, in \u001b[0;36mFeatureLines.__init__\u001b[0;34m(self, url, voxel_size)\u001b[0m\n\u001b[1;32m     20\u001b[0m \u001b[38;5;28;01mdef\u001b[39;00m \u001b[38;5;21m__init__\u001b[39m(\u001b[38;5;28mself\u001b[39m, url, voxel_size\u001b[38;5;241m=\u001b[39m\u001b[38;5;241m30000\u001b[39m):\n\u001b[0;32m---> 21\u001b[0m     \u001b[38;5;28mself\u001b[39m\u001b[38;5;241m.\u001b[39mpcd,\u001b[38;5;28mself\u001b[39m\u001b[38;5;241m.\u001b[39mpcd_tree \u001b[38;5;241m=\u001b[39m \u001b[43mhelper\u001b[49m\u001b[38;5;241;43m.\u001b[39;49m\u001b[43mload_cloud\u001b[49m\u001b[43m(\u001b[49m\u001b[43murl\u001b[49m\u001b[43m,\u001b[49m\u001b[43mvoxel_size\u001b[49m\u001b[43m)\u001b[49m\n",
      "File \u001b[0;32m~/project/AAFR/helper.py:46\u001b[0m, in \u001b[0;36mload_cloud\u001b[0;34m(url, voxel_size)\u001b[0m\n\u001b[1;32m     44\u001b[0m \u001b[38;5;28;01mdef\u001b[39;00m \u001b[38;5;21mload_cloud\u001b[39m(url,voxel_size\u001b[38;5;241m=\u001b[39m\u001b[38;5;241m30000\u001b[39m):\n\u001b[1;32m     45\u001b[0m       pcd \u001b[38;5;241m=\u001b[39m o3d\u001b[38;5;241m.\u001b[39mio\u001b[38;5;241m.\u001b[39mread_point_cloud(url)\n\u001b[0;32m---> 46\u001b[0m       voxel_percentage \u001b[38;5;241m=\u001b[39m \u001b[43mdown_sample_to\u001b[49m\u001b[43m(\u001b[49m\u001b[43mpcd\u001b[49m\u001b[43m,\u001b[49m\u001b[43mvoxel_size\u001b[49m\u001b[43m)\u001b[49m\n\u001b[1;32m     47\u001b[0m       downpcd \u001b[38;5;241m=\u001b[39m pcd\u001b[38;5;241m.\u001b[39mvoxel_down_sample(voxel_size\u001b[38;5;241m=\u001b[39mvoxel_percentage)\n\u001b[1;32m     48\u001b[0m       pcd_tree \u001b[38;5;241m=\u001b[39m o3d\u001b[38;5;241m.\u001b[39mgeometry\u001b[38;5;241m.\u001b[39mKDTreeFlann(downpcd)\n",
      "File \u001b[0;32m~/project/AAFR/helper.py:17\u001b[0m, in \u001b[0;36mdown_sample_to\u001b[0;34m(obj, num)\u001b[0m\n\u001b[1;32m     15\u001b[0m \u001b[38;5;28;01mdef\u001b[39;00m \u001b[38;5;21mdown_sample_to\u001b[39m(obj,num):\n\u001b[1;32m     16\u001b[0m     \u001b[38;5;28;01mif\u001b[39;00m \u001b[38;5;28mlen\u001b[39m(obj\u001b[38;5;241m.\u001b[39mpoints) \u001b[38;5;241m<\u001b[39m num:\n\u001b[0;32m---> 17\u001b[0m         \u001b[38;5;28;01mraise\u001b[39;00m \u001b[38;5;167;01mException\u001b[39;00m(\u001b[38;5;124m\"\u001b[39m\u001b[38;5;124mSorry, num should be less than number of voxels in the objects\u001b[39m\u001b[38;5;124m\"\u001b[39m)\n\u001b[1;32m     18\u001b[0m     diff \u001b[38;5;241m=\u001b[39m \u001b[38;5;241m0\u001b[39m\n\u001b[1;32m     19\u001b[0m     answer \u001b[38;5;241m=\u001b[39m \u001b[38;5;28;01mNone\u001b[39;00m\n",
      "\u001b[0;31mException\u001b[0m: Sorry, num should be less than number of voxels in the objects"
     ]
    }
   ],
   "source": [
    "test1.run()"
   ]
  },
  {
   "cell_type": "code",
   "execution_count": null,
   "id": "f7ffc655",
   "metadata": {},
   "outputs": [],
   "source": []
  },
  {
   "cell_type": "code",
   "execution_count": null,
   "id": "8f83fd56",
   "metadata": {},
   "outputs": [],
   "source": []
  }
 ],
 "metadata": {
  "kernelspec": {
   "display_name": "my1env",
   "language": "python",
   "name": "my1env"
  },
  "language_info": {
   "codemirror_mode": {
    "name": "ipython",
    "version": 3
   },
   "file_extension": ".py",
   "mimetype": "text/x-python",
   "name": "python",
   "nbconvert_exporter": "python",
   "pygments_lexer": "ipython3",
   "version": "3.10.6"
  }
 },
 "nbformat": 4,
 "nbformat_minor": 5
}
