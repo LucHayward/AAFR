{
 "cells": [
  {
   "cell_type": "code",
   "execution_count": 1,
   "metadata": {},
   "outputs": [
    {
     "name": "stdout",
     "output_type": "stream",
     "text": [
      "Jupyter environment detected. Enabling Open3D WebVisualizer.\n",
      "[Open3D INFO] WebRTC GUI backend enabled.\n",
      "[Open3D INFO] WebRTCWindowSystem: HTTP handshake server disabled.\n"
     ]
    }
   ],
   "source": [
    "import helper\n",
    "import numpy as np"
   ]
  },
  {
   "cell_type": "code",
   "execution_count": 2,
   "metadata": {},
   "outputs": [],
   "source": [
    "import pdal"
   ]
  },
  {
   "cell_type": "code",
   "execution_count": 3,
   "metadata": {},
   "outputs": [],
   "source": [
    "from helper import FeatureLines\n",
    "Obj1 = FeatureLines(\"data/group19/RPf_00152.ply\",voxel_size=0.7)"
   ]
  },
  {
   "cell_type": "code",
   "execution_count": null,
   "metadata": {},
   "outputs": [],
   "source": [
    "# from tqdm import tqdm\n",
    "# for i in tqdm(range(len(Obj1.points_q_points))):\n",
    "#     p,q_points = Obj1.pcd.points[i],Obj1.points_q_points[i]\n",
    "#     n = Obj1.points_eig_vecs[i][0]\n",
    "#     vec = np.repeat(np.asarray([(np.dot(q_points,n))/(np.sqrt(n.dot(n)))**2]),3,axis=0)\n",
    "#     projection = np.multiply(vec.T, n)\n",
    "#     q_points_projected = np.asarray(q_points)-np.asarray(projection)\n",
    "#     q_points_projected_vectors = list(p-q_points_projected)\n",
    "#     print(q_points_projected_vectors[0])\n",
    "#     break"
   ]
  },
  {
   "cell_type": "code",
   "execution_count": 4,
   "metadata": {},
   "outputs": [
    {
     "name": "stderr",
     "output_type": "stream",
     "text": [
      "100%|██████████████████████████████████████████████████████████████████████████| 30565/30565 [00:14<00:00, 2096.70it/s]\n",
      "C:\\Users\\alial\\Documents\\THESIS\\helper.py:154: RuntimeWarning: invalid value encountered in true_divide\n",
      "  e_vectors_dir = e_vectors/np.repeat(e_vectors_mag.reshape(e_vectors_mag.shape[0],e_vectors_mag.shape[1],1),3,axis=2)\n",
      "100%|███████████████████████████████████████████████████████████████████████████| 30565/30565 [00:40<00:00, 760.61it/s]\n"
     ]
    }
   ],
   "source": [
    "Obj1.init(50)"
   ]
  },
  {
   "cell_type": "code",
   "execution_count": 5,
   "metadata": {},
   "outputs": [
    {
     "name": "stderr",
     "output_type": "stream",
     "text": [
      "100%|██████████████████████████████████████████████████████████████████████████| 30565/30565 [00:04<00:00, 7453.19it/s]\n",
      "100%|███████████████████████████████████████████████████████████████████████████████| 776k/776k [00:11<00:00, 65.0kB/s]\n",
      "100%|██████████████████████████████████████████████████████████████████████████| 30565/30565 [00:05<00:00, 5247.99it/s]\n",
      "100%|████████████████████████████████████████████████████████████████████████████████| 19.0/19.0 [00:00<00:00, 67.6B/s]\n"
     ]
    }
   ],
   "source": [
    "Obj1.set_params(alpha=0.5,gamma=0.5,crease_threshold=10,border_threshold=1)"
   ]
  },
  {
   "cell_type": "code",
   "execution_count": 10,
   "metadata": {},
   "outputs": [],
   "source": [
    "Obj1.show(\"crease\")"
   ]
  },
  {
   "cell_type": "code",
   "execution_count": 6,
   "metadata": {},
   "outputs": [],
   "source": [
    "weights = Obj1.w_b2"
   ]
  },
  {
   "cell_type": "code",
   "execution_count": null,
   "metadata": {},
   "outputs": [],
   "source": [
    "weights = 1-Obj1.NormalizeData(np.sqrt(np.sum(weights * weights,axis=1)))"
   ]
  },
  {
   "cell_type": "code",
   "execution_count": null,
   "metadata": {},
   "outputs": [],
   "source": [
    "Obj1.show_heat(np.asarray(Obj1.w_b2))"
   ]
  },
  {
   "cell_type": "code",
   "execution_count": null,
   "metadata": {},
   "outputs": [],
   "source": [
    "Obj1.border_pattern"
   ]
  },
  {
   "cell_type": "code",
   "execution_count": null,
   "metadata": {},
   "outputs": [],
   "source": [
    "import matplotlib.pyplot as plt\n",
    "data = Obj1.w_k\n",
    "plt.hist(data, bins=2)\n",
    "plt.show()"
   ]
  },
  {
   "cell_type": "code",
   "execution_count": null,
   "metadata": {},
   "outputs": [],
   "source": [
    "Obj1.show_heat(Obj1.w_b2)"
   ]
  },
  {
   "cell_type": "code",
   "execution_count": null,
   "metadata": {},
   "outputs": [],
   "source": [
    "Obj1.show_heat(Obj1.NormalizeData(np.sqrt(np.sum(Obj1.w_b1 * Obj1.w_b1,axis=1))))\n"
   ]
  },
  {
   "cell_type": "code",
   "execution_count": null,
   "metadata": {},
   "outputs": [],
   "source": [
    "Obj1.show(\"heat_border\")"
   ]
  },
  {
   "cell_type": "code",
   "execution_count": null,
   "metadata": {},
   "outputs": [],
   "source": [
    "Obj2 = FeatureLines(\"data/brick/pcd4web/fragment.ply\",voxel_size=0.1)"
   ]
  },
  {
   "cell_type": "code",
   "execution_count": null,
   "metadata": {},
   "outputs": [],
   "source": [
    "Obj2.init(16)"
   ]
  },
  {
   "cell_type": "code",
   "execution_count": null,
   "metadata": {},
   "outputs": [],
   "source": [
    "Obj2.set_params(alpha=0.2,gamma=0.5,T=12)"
   ]
  },
  {
   "cell_type": "code",
   "execution_count": null,
   "metadata": {},
   "outputs": [],
   "source": [
    "Obj1.show(\"border\")"
   ]
  },
  {
   "cell_type": "code",
   "execution_count": null,
   "metadata": {},
   "outputs": [],
   "source": [
    "Obj1.show()"
   ]
  },
  {
   "cell_type": "code",
   "execution_count": null,
   "metadata": {},
   "outputs": [],
   "source": [
    "Obj1.points_q_points[4]"
   ]
  },
  {
   "cell_type": "code",
   "execution_count": null,
   "metadata": {},
   "outputs": [],
   "source": [
    "min(Obj1.e_vectors_mag.flatten())"
   ]
  },
  {
   "cell_type": "code",
   "execution_count": null,
   "metadata": {},
   "outputs": [],
   "source": [
    "m = Obj1.w_c.flatten()"
   ]
  },
  {
   "cell_type": "code",
   "execution_count": null,
   "metadata": {},
   "outputs": [],
   "source": [
    "sorted(m)[-100]"
   ]
  },
  {
   "cell_type": "code",
   "execution_count": null,
   "metadata": {},
   "outputs": [],
   "source": [
    "Obj1.w_b"
   ]
  },
  {
   "cell_type": "code",
   "execution_count": null,
   "metadata": {},
   "outputs": [],
   "source": []
  },
  {
   "cell_type": "code",
   "execution_count": null,
   "metadata": {},
   "outputs": [],
   "source": [
    "# json = \"\"\"\n",
    "# [\n",
    "#     \"C:/Users/alial/Documents/THESIS/data/brick/pcd4web/down_sampled.ply\",\n",
    "#     {\n",
    "#         \"type\": \"filters.delaunay\"\n",
    "#     },\n",
    "#     {\n",
    "#         \"filename\": \"data/brick/pcd4web/output_filtered.ply\",\n",
    "#         \"faces\": true\n",
    "#     }\n",
    "# ]\n",
    "# \"\"\"\n",
    "# import pdal\n",
    "# pipeline = pdal.Pipeline(json)\n",
    "# count = pipeline.execute()\n",
    "# arrays = pipeline.arrays\n",
    "# metadata = pipeline.metadata\n",
    "# log = pipeline.log"
   ]
  }
 ],
 "metadata": {
  "kernelspec": {
   "display_name": "Python [conda env:thesis]",
   "language": "python",
   "name": "conda-env-thesis-py"
  },
  "language_info": {
   "codemirror_mode": {
    "name": "ipython",
    "version": 3
   },
   "file_extension": ".py",
   "mimetype": "text/x-python",
   "name": "python",
   "nbconvert_exporter": "python",
   "pygments_lexer": "ipython3",
   "version": "3.9.12"
  }
 },
 "nbformat": 4,
 "nbformat_minor": 4
}
