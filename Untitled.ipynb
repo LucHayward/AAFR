{
 "cells": [
  {
   "cell_type": "code",
   "execution_count": 1,
   "metadata": {},
   "outputs": [
    {
     "name": "stdout",
     "output_type": "stream",
     "text": [
      "Jupyter environment detected. Enabling Open3D WebVisualizer.\n",
      "[Open3D INFO] WebRTC GUI backend enabled.\n",
      "[Open3D INFO] WebRTCWindowSystem: HTTP handshake server disabled.\n"
     ]
    }
   ],
   "source": [
    "import helper\n",
    "import numpy as np\n",
    "from tqdm import tqdm"
   ]
  },
  {
   "cell_type": "code",
   "execution_count": 2,
   "metadata": {},
   "outputs": [],
   "source": [
    "from helper import FeatureLines\n",
    "Obj1 = FeatureLines(\"data/group8/RPf_00060_gt.ply\",voxel_size=0.000001)"
   ]
  },
  {
   "cell_type": "code",
   "execution_count": 3,
   "metadata": {},
   "outputs": [
    {
     "data": {
      "text/plain": [
       "97472"
      ]
     },
     "execution_count": 3,
     "metadata": {},
     "output_type": "execute_result"
    }
   ],
   "source": [
    "len(Obj1.pcd.points)"
   ]
  },
  {
   "cell_type": "code",
   "execution_count": 4,
   "metadata": {},
   "outputs": [
    {
     "name": "stderr",
     "output_type": "stream",
     "text": [
      "100%|██████████████████████████████████████████████████████████████████████████| 97472/97472 [00:34<00:00, 2816.74it/s]\n",
      "C:\\Users\\alial\\Documents\\THESIS\\helper.py:167: RuntimeWarning: invalid value encountered in true_divide\n",
      "  e_vectors_dir = e_vectors/np.repeat(e_vectors_mag.reshape(e_vectors_mag.shape[0],e_vectors_mag.shape[1],1),3,axis=2)\n",
      "100%|██████████████████████████████████████████████████████████████████████████| 97472/97472 [00:46<00:00, 2104.81it/s]\n"
     ]
    }
   ],
   "source": [
    "Obj1.init(15)"
   ]
  },
  {
   "cell_type": "code",
   "execution_count": 5,
   "metadata": {},
   "outputs": [],
   "source": [
    "Obj1.show_heat(Obj1.w_co)"
   ]
  },
  {
   "cell_type": "code",
   "execution_count": null,
   "metadata": {},
   "outputs": [
    {
     "name": "stderr",
     "output_type": "stream",
     "text": [
      "  1%|▉                                                                           | 1139/97472 [00:10<14:39, 109.55it/s]"
     ]
    }
   ],
   "source": [
    "Obj1.init_graph(alpha=0.9,gamma=0.5)"
   ]
  },
  {
   "cell_type": "code",
   "execution_count": null,
   "metadata": {},
   "outputs": [],
   "source": [
    "Obj1.create_crease(T=1.4,pattern_length_T=2)"
   ]
  },
  {
   "cell_type": "code",
   "execution_count": null,
   "metadata": {},
   "outputs": [],
   "source": [
    "Obj1.show_pattern(Obj1.crease_pattern_pruned)"
   ]
  },
  {
   "cell_type": "markdown",
   "metadata": {},
   "source": [
    "<h2>Trial only with w_co</h2>"
   ]
  },
  {
   "cell_type": "code",
   "execution_count": 14,
   "metadata": {},
   "outputs": [
    {
     "name": "stderr",
     "output_type": "stream",
     "text": [
      "97472it [00:00, 995171.01it/s]\n"
     ]
    }
   ],
   "source": [
    "valid = []\n",
    "for idx,val in tqdm(enumerate(Obj1.w_co)):\n",
    "    if val<0.95:\n",
    "        valid.append(idx)"
   ]
  },
  {
   "cell_type": "code",
   "execution_count": 15,
   "metadata": {},
   "outputs": [],
   "source": [
    "def remove_point(G,p,visited):\n",
    "    counter = 0\n",
    "    short_branches = []\n",
    "    stack = [[p]]\n",
    "    while stack:\n",
    "        counter+=1\n",
    "        curr_branch = stack.pop(0)\n",
    "        curr_p  = curr_branch[-1]\n",
    "        neighbors = set(G.neighbors(curr_p))-visited\n",
    "        neighbors = list(neighbors)\n",
    "        if len(neighbors) == 0:\n",
    "            short_branches.append(curr_branch[1:])\n",
    "            continue\n",
    "        for n in neighbors:\n",
    "            visited.add(n)\n",
    "            stack.append(curr_branch+[n])\n",
    "    return short_branches\n",
    "def check_point(G,p,visited,threshold):\n",
    "    counter = 0\n",
    "    short_branches = []\n",
    "    stack = [[p]]\n",
    "    while stack:\n",
    "        counter+=1\n",
    "        if counter >= threshold:\n",
    "            return False\n",
    "        curr_branch = stack.pop(0)\n",
    "        curr_p  = curr_branch[-1]\n",
    "        neighbors = set(G.neighbors(curr_p)) - visited\n",
    "        neighbors = list(neighbors)\n",
    "        for n in neighbors:\n",
    "            if n not in visited:\n",
    "                visited.add(n)\n",
    "                stack.append(curr_branch+[n])\n",
    "    return True\n",
    "\n",
    "def path_length(G,p,q,threshold):\n",
    "    counter = 0\n",
    "    short_branches = []\n",
    "    stack = [[p]]\n",
    "    visited = set()\n",
    "    while stack:\n",
    "        counter+=1\n",
    "        # if counter >= threshold:\n",
    "        #     break\n",
    "        curr_branch = stack.pop(0)\n",
    "        curr_p  = curr_branch[-1]\n",
    "        neighbors = list(G.neighbors(curr_p))\n",
    "#         print(len(neighbors),\"->\",neighbors)\n",
    "        if len(neighbors) == 1 and neighbors[0] in visited:\n",
    "            short_branches.append(curr_branch[2:])\n",
    "            continue\n",
    "        for n in neighbors:\n",
    "            if n == q:\n",
    "                return counter+1\n",
    "            if n not in visited:\n",
    "                visited.add(n)\n",
    "                stack.append(curr_branch+[n])\n",
    "\n",
    "    return counter+1\n"
   ]
  },
  {
   "cell_type": "markdown",
   "metadata": {},
   "source": [
    "<h4>Copy the object then build the Graph</h4>"
   ]
  },
  {
   "cell_type": "code",
   "execution_count": 27,
   "metadata": {},
   "outputs": [],
   "source": [
    "from copy import copy\n",
    "import networkx as nx\n",
    "from disjoint import DisjointSetExtra\n",
    "import open3d as o3d\n",
    "my_obj = copy(Obj1.pcd)\n",
    "my_obj.points = o3d.utility.Vector3dVector(np.asarray(Obj1.pcd.points)[valid])\n",
    "o3d.visualization.draw_geometries([my_obj])"
   ]
  },
  {
   "cell_type": "code",
   "execution_count": 25,
   "metadata": {},
   "outputs": [
    {
     "name": "stderr",
     "output_type": "stream",
     "text": [
      "11561it [00:02, 4651.40it/s]\n"
     ]
    }
   ],
   "source": [
    "pattern_length_T = np.sqrt(len(Obj1.pcd.points))//2\n",
    "ds = DisjointSetExtra()\n",
    "Graph = nx.Graph()\n",
    "tree = o3d.geometry.KDTreeFlann(my_obj)\n",
    "for idx,p in tqdm(enumerate(my_obj.points)):\n",
    "    [k, points_q, _] = tree.search_radius_vector_3d(my_obj.points[idx],1)\n",
    "    for q in points_q:\n",
    "        if ds.exists(q) and ds.exists(int(idx)):\n",
    "            if not ds.connected(q,int(idx)):\n",
    "                ds.connect(q,int(idx))\n",
    "                Graph.add_edge(q,int(idx))\n",
    "            else:\n",
    "                if path_length(Graph,int(idx),q,pattern_length_T)>pattern_length_T//4:\n",
    "                    ds.add(q,int(idx))\n",
    "                    Graph.add_edge(q,int(idx))\n",
    "        else:\n",
    "            ds.add(q,int(idx))\n",
    "            Graph.add_edge(q,int(idx))\n",
    "F_lines = []\n",
    "for group in list(ds.ds.itersets()):\n",
    "    if len(group) < pattern_length_T:\n",
    "        continue\n",
    "    F_lines.append(group)"
   ]
  },
  {
   "cell_type": "markdown",
   "metadata": {},
   "source": [
    "<h3> Print the diffrent regions of the object (Green = Removed - any other color is existing group)</h3>"
   ]
  },
  {
   "cell_type": "code",
   "execution_count": 28,
   "metadata": {},
   "outputs": [
    {
     "name": "stderr",
     "output_type": "stream",
     "text": [
      "C:\\Users\\alial\\AppData\\Local\\Temp\\ipykernel_12540\\1522707315.py:10: DeprecationWarning: `np.float` is a deprecated alias for the builtin `float`. To silence this warning, use `float` by itself. Doing this will not modify any behavior and is safe. If you specifically wanted the numpy scalar type, use `np.float64` here.\n",
      "Deprecated in NumPy 1.20; for more details and guidance: https://numpy.org/devdocs/release/1.20.0-notes.html#deprecations\n",
      "  my_obj.colors = o3d.utility.Vector3dVector(np.asarray(colors).astype(np.float) / 255.0)\n"
     ]
    }
   ],
   "source": [
    "import random\n",
    "groups = F_lines\n",
    "new_valid = []\n",
    "colors = [(0,255,0) for _ in my_obj.points]\n",
    "for group in groups:\n",
    "    color = (random.randrange(0, 255),0,random.randrange(0, 255))\n",
    "    for nodes in group:\n",
    "        colors[nodes] = color\n",
    "        new_valid.append(nodes)\n",
    "my_obj.colors = o3d.utility.Vector3dVector(np.asarray(colors).astype(np.float) / 255.0)\n",
    "o3d.visualization.draw_geometries([my_obj])"
   ]
  },
  {
   "cell_type": "code",
   "execution_count": 23,
   "metadata": {},
   "outputs": [
    {
     "ename": "NetworkXError",
     "evalue": "The node 8194 is not in the graph.",
     "output_type": "error",
     "traceback": [
      "\u001b[1;31m---------------------------------------------------------------------------\u001b[0m",
      "\u001b[1;31mKeyError\u001b[0m                                  Traceback (most recent call last)",
      "File \u001b[1;32m~\\anaconda3\\envs\\thesis\\lib\\site-packages\\networkx\\classes\\graph.py:1253\u001b[0m, in \u001b[0;36mGraph.neighbors\u001b[1;34m(self, n)\u001b[0m\n\u001b[0;32m   1252\u001b[0m \u001b[38;5;28;01mtry\u001b[39;00m:\n\u001b[1;32m-> 1253\u001b[0m     \u001b[38;5;28;01mreturn\u001b[39;00m \u001b[38;5;28miter\u001b[39m(\u001b[38;5;28;43mself\u001b[39;49m\u001b[38;5;241;43m.\u001b[39;49m\u001b[43m_adj\u001b[49m\u001b[43m[\u001b[49m\u001b[43mn\u001b[49m\u001b[43m]\u001b[49m)\n\u001b[0;32m   1254\u001b[0m \u001b[38;5;28;01mexcept\u001b[39;00m \u001b[38;5;167;01mKeyError\u001b[39;00m \u001b[38;5;28;01mas\u001b[39;00m err:\n",
      "\u001b[1;31mKeyError\u001b[0m: 8194",
      "\nThe above exception was the direct cause of the following exception:\n",
      "\u001b[1;31mNetworkXError\u001b[0m                             Traceback (most recent call last)",
      "Input \u001b[1;32mIn [23]\u001b[0m, in \u001b[0;36m<cell line: 2>\u001b[1;34m()\u001b[0m\n\u001b[0;32m      2\u001b[0m \u001b[38;5;28;01mfor\u001b[39;00m branch \u001b[38;5;129;01min\u001b[39;00m F_lines:\n\u001b[0;32m      3\u001b[0m     \u001b[38;5;28;01mfor\u001b[39;00m point \u001b[38;5;129;01min\u001b[39;00m branch:\n\u001b[1;32m----> 4\u001b[0m         neighbors \u001b[38;5;241m=\u001b[39m \u001b[38;5;28mset\u001b[39m(\u001b[43mGraph\u001b[49m\u001b[38;5;241;43m.\u001b[39;49m\u001b[43mneighbors\u001b[49m\u001b[43m(\u001b[49m\u001b[43mpoint\u001b[49m\u001b[43m)\u001b[49m)\n\u001b[0;32m      5\u001b[0m         \u001b[38;5;28;01mif\u001b[39;00m \u001b[38;5;28mlen\u001b[39m(\u001b[38;5;28mlist\u001b[39m(neighbors)) \u001b[38;5;241m>\u001b[39m\u001b[38;5;241m=\u001b[39m \u001b[38;5;241m2\u001b[39m:\n\u001b[0;32m      6\u001b[0m             nodes[point]\u001b[38;5;241m=\u001b[39mneighbors\n",
      "File \u001b[1;32m~\\anaconda3\\envs\\thesis\\lib\\site-packages\\networkx\\classes\\graph.py:1255\u001b[0m, in \u001b[0;36mGraph.neighbors\u001b[1;34m(self, n)\u001b[0m\n\u001b[0;32m   1253\u001b[0m     \u001b[38;5;28;01mreturn\u001b[39;00m \u001b[38;5;28miter\u001b[39m(\u001b[38;5;28mself\u001b[39m\u001b[38;5;241m.\u001b[39m_adj[n])\n\u001b[0;32m   1254\u001b[0m \u001b[38;5;28;01mexcept\u001b[39;00m \u001b[38;5;167;01mKeyError\u001b[39;00m \u001b[38;5;28;01mas\u001b[39;00m err:\n\u001b[1;32m-> 1255\u001b[0m     \u001b[38;5;28;01mraise\u001b[39;00m NetworkXError(\u001b[38;5;124mf\u001b[39m\u001b[38;5;124m\"\u001b[39m\u001b[38;5;124mThe node \u001b[39m\u001b[38;5;132;01m{\u001b[39;00mn\u001b[38;5;132;01m}\u001b[39;00m\u001b[38;5;124m is not in the graph.\u001b[39m\u001b[38;5;124m\"\u001b[39m) \u001b[38;5;28;01mfrom\u001b[39;00m \u001b[38;5;21;01merr\u001b[39;00m\n",
      "\u001b[1;31mNetworkXError\u001b[0m: The node 8194 is not in the graph."
     ]
    }
   ],
   "source": [
    "nodes = {}\n",
    "for branch in F_lines:\n",
    "    for point in branch:\n",
    "        neighbors = set(Graph.neighbors(point))\n",
    "        if len(list(neighbors)) >= 2:\n",
    "            nodes[point]=neighbors\n",
    "            \n",
    "T = np.sqrt(np.asarray(Obj1.pcd.points).shape[0])\n",
    "all_nodes_rem = []\n",
    "visited = set()\n",
    "for point,my_nodes in tqdm(nodes.items()):\n",
    "    score = 0\n",
    "    tmp_rem_nodes = []\n",
    "    for node in my_nodes:\n",
    "        if not check_point(Graph,node,{point},T):\n",
    "            score+=1\n",
    "        else:\n",
    "            tmp_rem_nodes.append(node)\n",
    "\n",
    "    if score >= 2:\n",
    "        for node in tmp_rem_nodes:\n",
    "            tmp_rem_nodes = remove_point(Graph,node,{point})\n",
    "            all_nodes_rem.extend(tmp_rem_nodes)"
   ]
  },
  {
   "cell_type": "code",
   "execution_count": null,
   "metadata": {},
   "outputs": [],
   "source": [
    "rem = {node for branch in all_nodes_rem for node in branch}\n",
    "pruned_graph = copy(Graph)\n",
    "pruned_graph.remove_nodes_from(list(rem))\n",
    "pruned = [[node for node in group-rem] for group in F_lines]"
   ]
  },
  {
   "cell_type": "code",
   "execution_count": 24,
   "metadata": {},
   "outputs": [
    {
     "name": "stderr",
     "output_type": "stream",
     "text": [
      "C:\\Users\\alial\\AppData\\Local\\Temp\\ipykernel_12540\\2114507722.py:11: DeprecationWarning: `np.float` is a deprecated alias for the builtin `float`. To silence this warning, use `float` by itself. Doing this will not modify any behavior and is safe. If you specifically wanted the numpy scalar type, use `np.float64` here.\n",
      "Deprecated in NumPy 1.20; for more details and guidance: https://numpy.org/devdocs/release/1.20.0-notes.html#deprecations\n",
      "  my_obj.colors = o3d.utility.Vector3dVector(np.asarray(colors).astype(np.float) / 255.0)\n"
     ]
    }
   ],
   "source": [
    "import random\n",
    "groups = pruned\n",
    "colors = [(0,255,0) for _ in my_obj.points]\n",
    "for group in groups:\n",
    "    if len(group) < pattern_length_T:\n",
    "        continue\n",
    "    color = (random.randrange(0, 255),0,random.randrange(0, 255))\n",
    "    for nodes in group:\n",
    "        colors[nodes] = color\n",
    "    \n",
    "my_obj.colors = o3d.utility.Vector3dVector(np.asarray(colors).astype(np.float) / 255.0)\n",
    "o3d.visualization.draw_geometries([my_obj])"
   ]
  },
  {
   "cell_type": "code",
   "execution_count": 44,
   "metadata": {},
   "outputs": [
    {
     "data": {
      "text/plain": [
       "11561"
      ]
     },
     "execution_count": 44,
     "metadata": {},
     "output_type": "execute_result"
    }
   ],
   "source": [
    "len(set(valid))"
   ]
  },
  {
   "cell_type": "code",
   "execution_count": null,
   "metadata": {},
   "outputs": [],
   "source": [
    "len(my_obj.points)"
   ]
  },
  {
   "cell_type": "code",
   "execution_count": null,
   "metadata": {},
   "outputs": [],
   "source": [
    "len(set(set(Graph.nodes)))"
   ]
  },
  {
   "cell_type": "code",
   "execution_count": null,
   "metadata": {},
   "outputs": [],
   "source": [
    "len(F_lines[0])"
   ]
  },
  {
   "cell_type": "code",
   "execution_count": null,
   "metadata": {},
   "outputs": [],
   "source": [
    "len(set(Graph.nodes)-set(valid))"
   ]
  },
  {
   "cell_type": "code",
   "execution_count": null,
   "metadata": {},
   "outputs": [],
   "source": [
    "import random\n",
    "groups = F_lines\n",
    "colors = [(0,255,0) for _ in my_obj.points]\n",
    "for group in groups:\n",
    "    color = (random.randrange(0, 255),0,random.randrange(0, 255))\n",
    "    print(\"one\")\n",
    "    for nodes in group:\n",
    "        colors[nodes] = color\n",
    "        \n",
    "my_obj.colors = o3d.utility.Vector3dVector(np.asarray(colors).astype(np.float) / 255.0)\n",
    "o3d.visualization.draw_geometries([my_obj])"
   ]
  },
  {
   "cell_type": "markdown",
   "metadata": {},
   "source": [
    "## len(my_points)"
   ]
  },
  {
   "cell_type": "code",
   "execution_count": null,
   "metadata": {},
   "outputs": [],
   "source": [
    "my_obj.points = o3d.utility.Vector3dVector(np.asarray(Obj1.pcd.points)[list(F_lines[0])])\n",
    "o3d.visualization.draw_geometries([my_obj])"
   ]
  },
  {
   "cell_type": "code",
   "execution_count": null,
   "metadata": {},
   "outputs": [],
   "source": [
    "def remove_point(G,p,visited):\n",
    "    counter = 0\n",
    "    short_branches = []\n",
    "    stack = [[p]]\n",
    "    while stack:\n",
    "        counter+=1\n",
    "        curr_branch = stack.pop(0)\n",
    "        curr_p  = curr_branch[-1]\n",
    "        neighbors = set(G.neighbors(curr_p))-visited\n",
    "        neighbors = list(neighbors)\n",
    "        if len(neighbors) == 0:\n",
    "            short_branches.append(curr_branch[1:])\n",
    "            continue\n",
    "        for n in neighbors:\n",
    "            visited.add(n)\n",
    "            stack.append(curr_branch+[n])\n",
    "    return short_branches\n",
    "def check_point(G,p,visited,threshold):\n",
    "    counter = 0\n",
    "    short_branches = []\n",
    "    stack = [[p]]\n",
    "    while stack:\n",
    "        counter+=1\n",
    "        if counter >= threshold:\n",
    "            return False\n",
    "        curr_branch = stack.pop(0)\n",
    "        curr_p  = curr_branch[-1]\n",
    "        neighbors = set(G.neighbors(curr_p)) - visited\n",
    "        neighbors = list(neighbors)\n",
    "        for n in neighbors:\n",
    "            if n not in visited:\n",
    "                visited.add(n)\n",
    "                stack.append(curr_branch+[n])\n",
    "    return True\n",
    "\n",
    "nodes = {}\n",
    "for point in list(Graph.nodes):\n",
    "    neighbors = set(Graph.neighbors(point))\n",
    "    if len(list(neighbors)) >= 2:\n",
    "        nodes[point]=neighbors\n",
    "\n",
    "T = np.sqrt(np.asarray(my_obj.points).shape[0])//2\n",
    "all_nodes_rem = []\n",
    "visited = set()\n",
    "for point,my_nodes in tqdm(nodes.items()):\n",
    "    score = 0\n",
    "    tmp_rem_nodes = []\n",
    "    for node in my_nodes:\n",
    "        if not check_point(Graph,node,{point},T):\n",
    "            score+=1\n",
    "        else:\n",
    "            tmp_rem_nodes.append(node)\n",
    "\n",
    "    if score >= 2:\n",
    "        for node in tmp_rem_nodes:\n",
    "            tmp_rem_nodes = remove_point(Graph,node,{point})\n",
    "            all_nodes_rem.extend(tmp_rem_nodes)"
   ]
  },
  {
   "cell_type": "code",
   "execution_count": null,
   "metadata": {},
   "outputs": [],
   "source": [
    "points = list(set(valid)-set([node for branch in all_nodes_rem for node in branch]))\n",
    "my_obj.points = o3d.utility.Vector3dVector(np.asarray(Obj1.pcd.points)[points])\n",
    "o3d.visualization.draw_geometries([my_obj])"
   ]
  },
  {
   "cell_type": "code",
   "execution_count": null,
   "metadata": {},
   "outputs": [],
   "source": [
    "def find_cycles(Graph):\n",
    "    visited = set()\n",
    "    cycles = []\n",
    "    stack = [[list(Graph.nodes)[0]]]\n",
    "    parent = None\n",
    "    while stack:\n",
    "        path = stack.pop(-1)\n",
    "        last_node = path[-1]\n",
    "        # check that the node is not visited before if it is visited then it is a cycle\n",
    "        if last_node in visited:\n",
    "            cycles.append((path,last_node))\n",
    "            continue \n",
    "        visited.add(last_node)\n",
    "        nghs = Graph.neighbors(last_node)\n",
    "        for node in nghs:\n",
    "            if parent and parent == last_node:\n",
    "                continue\n",
    "            stack.append(path+[node])\n",
    "    filtered_cycles = []\n",
    "    for cycle,node in cycles:\n",
    "        path = []\n",
    "        counter = 0\n",
    "        for n in cycle:\n",
    "            if node == n:\n",
    "                counter = 1\n",
    "                \n",
    "            if counter:\n",
    "                path.append(n)\n",
    "            else:\n",
    "                continue\n",
    "        filtered_cycles.append((path,len(path)))\n",
    "    return filtered_cycles"
   ]
  },
  {
   "cell_type": "code",
   "execution_count": null,
   "metadata": {},
   "outputs": [],
   "source": [
    "cycles = find_cycles(Graph)"
   ]
  },
  {
   "cell_type": "code",
   "execution_count": null,
   "metadata": {},
   "outputs": [],
   "source": [
    "sorted_cycles = sorted(cycles,key = lambda x:x[1],reverse=True)"
   ]
  },
  {
   "cell_type": "code",
   "execution_count": null,
   "metadata": {},
   "outputs": [],
   "source": [
    "borders = sorted_cycles[:3]"
   ]
  },
  {
   "cell_type": "code",
   "execution_count": null,
   "metadata": {},
   "outputs": [],
   "source": [
    "new_obj = copy(my_obj)"
   ]
  },
  {
   "cell_type": "code",
   "execution_count": null,
   "metadata": {},
   "outputs": [],
   "source": [
    "colors = [(0,255,0) for _ in new_obj.points]\n",
    "for border,length in borders:\n",
    "    print(length)\n",
    "    color = (random.randrange(0, 255),0,random.randrange(0, 255))\n",
    "    for node in set(border) - rem:\n",
    "        colors[node] = color\n",
    "        \n",
    "my_obj.colors = o3d.utility.Vector3dVector(np.asarray(colors).astype(np.float) / 255.0)\n",
    "o3d.visualization.draw_geometries([new_obj])"
   ]
  },
  {
   "cell_type": "code",
   "execution_count": null,
   "metadata": {},
   "outputs": [],
   "source": [
    "[i for i in nx.connected_components(Graph)]"
   ]
  },
  {
   "cell_type": "code",
   "execution_count": null,
   "metadata": {},
   "outputs": [],
   "source": [
    "def find_all_cycles(G, source=None, cycle_length_limit=None):\n",
    "    \"\"\"forked from networkx dfs_edges function. Assumes nodes are integers, or at least\n",
    "    types which work with min() and > .\"\"\"\n",
    "    if source is None:\n",
    "        # produce edges for all components\n",
    "        nodes=[list(i)[0] for i in nx.connected_components(G)]\n",
    "    else:\n",
    "        # produce edges for components with source\n",
    "        nodes=[source]\n",
    "    # extra variables for cycle detection:\n",
    "    cycle_stack = []\n",
    "    output_cycles = set()\n",
    "    \n",
    "    def get_hashable_cycle(cycle):\n",
    "        \"\"\"cycle as a tuple in a deterministic order.\"\"\"\n",
    "        m = min(cycle)\n",
    "        mi = cycle.index(m)\n",
    "        mi_plus_1 = mi + 1 if mi < len(cycle) - 1 else 0\n",
    "        if cycle[mi-1] > cycle[mi_plus_1]:\n",
    "            result = cycle[mi:] + cycle[:mi]\n",
    "        else:\n",
    "            result = list(reversed(cycle[:mi_plus_1])) + list(reversed(cycle[mi_plus_1:]))\n",
    "        return tuple(result)\n",
    "    \n",
    "    for start in tqdm(nodes):\n",
    "        if start in cycle_stack:\n",
    "            continue\n",
    "        cycle_stack.append(start)\n",
    "        \n",
    "        stack = [(start,iter(G[start]))]\n",
    "        while stack:\n",
    "            parent,children = stack[-1]\n",
    "            try:\n",
    "                child = next(children)\n",
    "                \n",
    "                if child not in cycle_stack:\n",
    "                    cycle_stack.append(child)\n",
    "                    stack.append((child,iter(G[child])))\n",
    "                else:\n",
    "                    i = cycle_stack.index(child)\n",
    "                    if i < len(cycle_stack) - 2: \n",
    "                      output_cycles.add(get_hashable_cycle(cycle_stack[i:]))\n",
    "                \n",
    "            except StopIteration:\n",
    "                stack.pop()\n",
    "                cycle_stack.pop()\n",
    "    \n",
    "    return [list(i) for i in output_cycles]"
   ]
  },
  {
   "cell_type": "code",
   "execution_count": null,
   "metadata": {},
   "outputs": [],
   "source": [
    "find_all_cycles(Graph)"
   ]
  },
  {
   "cell_type": "code",
   "execution_count": null,
   "metadata": {},
   "outputs": [],
   "source": [
    "hull, _ = my_obj.compute_convex_hull()\n",
    "hull_ls = o3d.geometry.LineSet.create_from_triangle_mesh(hull)\n",
    "hull_ls.paint_uniform_color((1, 0, 0))\n",
    "o3d.visualization.draw_geometries([my_obj, hull_ls])"
   ]
  },
  {
   "cell_type": "code",
   "execution_count": null,
   "metadata": {},
   "outputs": [],
   "source": [
    "len(list(Obj1.pcd.points))"
   ]
  },
  {
   "cell_type": "code",
   "execution_count": null,
   "metadata": {
    "scrolled": true
   },
   "outputs": [],
   "source": [
    "Obj1.init(5)"
   ]
  },
  {
   "cell_type": "code",
   "execution_count": null,
   "metadata": {},
   "outputs": [],
   "source": [
    "Obj1.init_graph(alpha=0.2,gamma=0.5)"
   ]
  },
  {
   "cell_type": "code",
   "execution_count": null,
   "metadata": {},
   "outputs": [],
   "source": [
    "Obj1.create_crease(T=1,pattern_length_T=2)"
   ]
  },
  {
   "cell_type": "code",
   "execution_count": null,
   "metadata": {},
   "outputs": [],
   "source": [
    "Obj1.crease_pattern_pruned"
   ]
  },
  {
   "cell_type": "code",
   "execution_count": null,
   "metadata": {},
   "outputs": [],
   "source": [
    "Obj1.show_heat(Obj1.crease_pattern_pruned)"
   ]
  },
  {
   "cell_type": "code",
   "execution_count": null,
   "metadata": {},
   "outputs": [],
   "source": [
    "Obj1.set_edge_params(alpha=0.8,gamma=0.7)"
   ]
  },
  {
   "cell_type": "code",
   "execution_count": null,
   "metadata": {},
   "outputs": [],
   "source": [
    "Obj1.get_pattern(pattern=\"crease\",T=1.2,pattern_length_T=0.5)"
   ]
  },
  {
   "cell_type": "code",
   "execution_count": null,
   "metadata": {},
   "outputs": [],
   "source": [
    "Obj1.show(\"crease_after\")"
   ]
  },
  {
   "cell_type": "code",
   "execution_count": null,
   "metadata": {},
   "outputs": [],
   "source": [
    "Obj2.show(\"crease_after\")"
   ]
  },
  {
   "cell_type": "code",
   "execution_count": null,
   "metadata": {},
   "outputs": [],
   "source": []
  },
  {
   "cell_type": "code",
   "execution_count": null,
   "metadata": {},
   "outputs": [],
   "source": [
    "len(valid)"
   ]
  },
  {
   "cell_type": "code",
   "execution_count": null,
   "metadata": {},
   "outputs": [],
   "source": [
    "\n",
    "# from tqdm import tqdm\n",
    "# valid = []\n",
    "\n",
    "# for idx in tqdm(range(len(Obj1.pcd.points))):\n",
    "#     if idx not in invalid_pts:\n",
    "#         valid.append(idx)"
   ]
  },
  {
   "cell_type": "code",
   "execution_count": null,
   "metadata": {},
   "outputs": [],
   "source": []
  },
  {
   "cell_type": "code",
   "execution_count": null,
   "metadata": {},
   "outputs": [],
   "source": [
    "o3d.io.write_point_cloud(\"brick_01.ply\",my_obj)"
   ]
  },
  {
   "cell_type": "code",
   "execution_count": null,
   "metadata": {},
   "outputs": [],
   "source": [
    "Obj1.show_heat()"
   ]
  },
  {
   "cell_type": "code",
   "execution_count": null,
   "metadata": {},
   "outputs": [],
   "source": [
    "Obj2.show_heat(Obj2.w_co)"
   ]
  },
  {
   "cell_type": "code",
   "execution_count": null,
   "metadata": {},
   "outputs": [],
   "source": [
    "new_value = np.maximum(Obj1.w_co,Obj1.w_co)"
   ]
  },
  {
   "cell_type": "code",
   "execution_count": null,
   "metadata": {},
   "outputs": [],
   "source": [
    "Obj1.show_heat(Obj1.w_k)"
   ]
  },
  {
   "cell_type": "code",
   "execution_count": null,
   "metadata": {},
   "outputs": [],
   "source": [
    "Obj1.show_heat(Obj1.w_co)"
   ]
  },
  {
   "cell_type": "code",
   "execution_count": null,
   "metadata": {},
   "outputs": [],
   "source": [
    "from tqdm import tqdm\n",
    "import random\n",
    "N=60\n",
    "L=60\n",
    "noise_range = 0\n",
    "noise_d=100\n",
    "with open('data/my_cube.ply', 'w') as f:\n",
    "    f.write('ply\\n')\n",
    "    f.write('format ascii 1.0\\n')\n",
    "    f.write('element vertex '+str(N*N*6)+\"\\n\")\n",
    "    f.write('property float x \\n')\n",
    "    f.write('property float y\\n')\n",
    "    f.write('property float z \\n')\n",
    "    f.write('end_header\\n')\n",
    "    for zi in tqdm(range(N+1)):\n",
    "        for yi in range(N+1):\n",
    "            for xi in range(N+1):\n",
    "                counter = 0\n",
    "                if xi == N or xi == 0:\n",
    "                    counter+=1\n",
    "                if  yi == N or yi == 0:\n",
    "                    counter+=1\n",
    "                if zi == N or zi == 0:\n",
    "                    counter+=1\n",
    "                if counter >=1:\n",
    "                    f.write(str(xi*(L/N)+random.randint(0, noise_range)/noise_d)+\" \"+str(yi*(L/N)+random.randint(0, noise_range)/noise_d)+\" \"+str(zi*(L/N)++random.randint(0, noise_range)/noise_d)+\"\\n\")\n",
    "f.close()"
   ]
  },
  {
   "cell_type": "code",
   "execution_count": 57,
   "metadata": {},
   "outputs": [],
   "source": [
    "import open3d as o3d\n",
    "import numpy as np\n",
    "import copy\n",
    "def draw_registration_result_original_color(source, target, transformation):\n",
    "    source_temp = copy.deepcopy(source)\n",
    "    source_temp.transform(transformation)\n",
    "    o3d.visualization.draw_geometries([source_temp, target])"
   ]
  },
  {
   "cell_type": "code",
   "execution_count": 64,
   "metadata": {},
   "outputs": [
    {
     "name": "stdout",
     "output_type": "stream",
     "text": [
      "1. Load two point clouds and show initial pose\n",
      "1. Load two point clouds and show initial pose\n"
     ]
    },
    {
     "name": "stderr",
     "output_type": "stream",
     "text": [
      "C:\\Users\\alial\\AppData\\Local\\Temp\\ipykernel_21212\\1683013737.py:4: DeprecationWarning: `np.float` is a deprecated alias for the builtin `float`. To silence this warning, use `float` by itself. Doing this will not modify any behavior and is safe. If you specifically wanted the numpy scalar type, use `np.float64` here.\n",
      "Deprecated in NumPy 1.20; for more details and guidance: https://numpy.org/devdocs/release/1.20.0-notes.html#deprecations\n",
      "  source.colors = o3d.utility.Vector3dVector(np.asarray([(0,1,0) for _ in source.points]).astype(np.float))\n",
      "C:\\Users\\alial\\AppData\\Local\\Temp\\ipykernel_21212\\1683013737.py:11: DeprecationWarning: `np.float` is a deprecated alias for the builtin `float`. To silence this warning, use `float` by itself. Doing this will not modify any behavior and is safe. If you specifically wanted the numpy scalar type, use `np.float64` here.\n",
      "Deprecated in NumPy 1.20; for more details and guidance: https://numpy.org/devdocs/release/1.20.0-notes.html#deprecations\n",
      "  target.colors = o3d.utility.Vector3dVector(np.asarray([(0,0,1) for _ in target.points]).astype(np.float))\n",
      "C:\\Users\\alial\\AppData\\Local\\Temp\\ipykernel_21212\\1683013737.py:4: DeprecationWarning: `np.float` is a deprecated alias for the builtin `float`. To silence this warning, use `float` by itself. Doing this will not modify any behavior and is safe. If you specifically wanted the numpy scalar type, use `np.float64` here.\n",
      "Deprecated in NumPy 1.20; for more details and guidance: https://numpy.org/devdocs/release/1.20.0-notes.html#deprecations\n",
      "  source.colors = o3d.utility.Vector3dVector(np.asarray([(0,1,0) for _ in source.points]).astype(np.float))\n",
      "C:\\Users\\alial\\AppData\\Local\\Temp\\ipykernel_21212\\1683013737.py:11: DeprecationWarning: `np.float` is a deprecated alias for the builtin `float`. To silence this warning, use `float` by itself. Doing this will not modify any behavior and is safe. If you specifically wanted the numpy scalar type, use `np.float64` here.\n",
      "Deprecated in NumPy 1.20; for more details and guidance: https://numpy.org/devdocs/release/1.20.0-notes.html#deprecations\n",
      "  target.colors = o3d.utility.Vector3dVector(np.asarray([(0,0,1) for _ in target.points]).astype(np.float))\n"
     ]
    }
   ],
   "source": [
    "print(\"1. Load two point clouds and show initial pose\")\n",
    "demo_colored_icp_pcds = o3d.data.DemoColoredICPPointClouds()\n",
    "source = o3d.io.read_point_cloud(\"brick_01.ply\")\n",
    "source.colors = o3d.utility.Vector3dVector(np.asarray([(0,1,0) for _ in source.points]).astype(np.float))\n",
    "R = source.get_rotation_matrix_from_xyz((np.pi / 8, np.pi / 6, 0))\n",
    "print(R)\n",
    "source.rotate(R, center=(0, 0, 0))\n",
    "source.translate((0, 20, 20))\n",
    "source.estimate_normals()\n",
    "target = o3d.io.read_point_cloud(\"brick_03.ply\")\n",
    "target.colors = o3d.utility.Vector3dVector(np.asarray([(0,0,1) for _ in target.points]).astype(np.float))\n",
    "target.estimate_normals()\n",
    "\n",
    "\n",
    "# draw initial alignment\n",
    "current_transformation = np.identity(4)\n",
    "draw_registration_result_original_color(source, target, current_transformation)"
   ]
  },
  {
   "cell_type": "code",
   "execution_count": 39,
   "metadata": {},
   "outputs": [
    {
     "data": {
      "text/plain": [
       "array([[1., 0., 0., 0.],\n",
       "       [0., 1., 0., 0.],\n",
       "       [0., 0., 1., 0.],\n",
       "       [0., 0., 0., 1.]])"
      ]
     },
     "execution_count": 39,
     "metadata": {},
     "output_type": "execute_result"
    },
    {
     "data": {
      "text/plain": [
       "array([[1., 0., 0., 0.],\n",
       "       [0., 1., 0., 0.],\n",
       "       [0., 0., 1., 0.],\n",
       "       [0., 0., 0., 1.]])"
      ]
     },
     "execution_count": 39,
     "metadata": {},
     "output_type": "execute_result"
    }
   ],
   "source": [
    "current_transformation"
   ]
  },
  {
   "cell_type": "code",
   "execution_count": 48,
   "metadata": {},
   "outputs": [
    {
     "name": "stdout",
     "output_type": "stream",
     "text": [
      "2. Point-to-plane ICP registration is applied on original point\n",
      "   clouds to refine the alignment. Distance threshold 0.02.\n",
      "RegistrationResult with fitness=6.273242e-01, inlier_rmse=5.937765e+00, and correspondence_set size of 3104\n",
      "Access transformation to get result.\n",
      "2. Point-to-plane ICP registration is applied on original point\n",
      "   clouds to refine the alignment. Distance threshold 0.02.\n",
      "RegistrationResult with fitness=6.273242e-01, inlier_rmse=5.937765e+00, and correspondence_set size of 3104\n",
      "Access transformation to get result.\n"
     ]
    }
   ],
   "source": [
    "# point to plane ICP\n",
    "current_transformation = np.identity(4)\n",
    "print(\"2. Point-to-plane ICP registration is applied on original point\")\n",
    "print(\"   clouds to refine the alignment. Distance threshold 0.02.\")\n",
    "result_icp = o3d.pipelines.registration.registration_icp(\n",
    "    source,target,19.6, current_transformation,    \n",
    "    o3d.pipelines.registration.TransformationEstimationPointToPoint(with_scaling =False),\n",
    "    o3d.pipelines.registration.ICPConvergenceCriteria(max_iteration=50000))\n",
    "print(result_icp)\n",
    "draw_registration_result_original_color(source, target,\n",
    "                                        result_icp.transformation)"
   ]
  },
  {
   "cell_type": "markdown",
   "metadata": {},
   "source": [
    "###### "
   ]
  },
  {
   "cell_type": "code",
   "execution_count": 49,
   "metadata": {},
   "outputs": [],
   "source": [
    "inv = np.linalg.inv(result_icp.transformation)"
   ]
  },
  {
   "cell_type": "code",
   "execution_count": 50,
   "metadata": {},
   "outputs": [
    {
     "data": {
      "text/plain": [
       "array([[ 0.85919814,  0.03079283,  0.51071553, -4.04313911],\n",
       "       [ 0.1498718 ,  0.93925588, -0.30876663, 22.82000467],\n",
       "       [-0.48920037,  0.34183357,  0.80239193, 25.76394831],\n",
       "       [ 0.        ,  0.        ,  0.        ,  1.        ]])"
      ]
     },
     "execution_count": 50,
     "metadata": {},
     "output_type": "execute_result"
    },
    {
     "data": {
      "text/plain": [
       "array([[ 0.85919814,  0.03079283,  0.51071553, -4.04313911],\n",
       "       [ 0.1498718 ,  0.93925588, -0.30876663, 22.82000467],\n",
       "       [-0.48920037,  0.34183357,  0.80239193, 25.76394831],\n",
       "       [ 0.        ,  0.        ,  0.        ,  1.        ]])"
      ]
     },
     "execution_count": 50,
     "metadata": {},
     "output_type": "execute_result"
    }
   ],
   "source": [
    "inv"
   ]
  },
  {
   "cell_type": "code",
   "execution_count": 51,
   "metadata": {},
   "outputs": [],
   "source": [
    "R_error = (np.sum(np.sqrt(np.square(R - inv[0:3,0:3])))/np.sum(np.abs(R)))*100"
   ]
  },
  {
   "cell_type": "code",
   "execution_count": 52,
   "metadata": {},
   "outputs": [
    {
     "data": {
      "text/plain": [
       "4.447182106783794"
      ]
     },
     "execution_count": 52,
     "metadata": {},
     "output_type": "execute_result"
    },
    {
     "data": {
      "text/plain": [
       "4.447182106783794"
      ]
     },
     "execution_count": 52,
     "metadata": {},
     "output_type": "execute_result"
    }
   ],
   "source": [
    "R_error"
   ]
  },
  {
   "cell_type": "code",
   "execution_count": 53,
   "metadata": {},
   "outputs": [],
   "source": [
    "T = inv[:3,3]"
   ]
  },
  {
   "cell_type": "code",
   "execution_count": 54,
   "metadata": {},
   "outputs": [
    {
     "data": {
      "text/plain": [
       "array([ 4.04313911, -2.82000467, -5.76394831])"
      ]
     },
     "execution_count": 54,
     "metadata": {},
     "output_type": "execute_result"
    },
    {
     "data": {
      "text/plain": [
       "array([ 4.04313911, -2.82000467, -5.76394831])"
      ]
     },
     "execution_count": 54,
     "metadata": {},
     "output_type": "execute_result"
    }
   ],
   "source": [
    "(0, 20, 20) - T"
   ]
  },
  {
   "cell_type": "code",
   "execution_count": 55,
   "metadata": {},
   "outputs": [],
   "source": [
    "T_error = (np.sum(np.sqrt(np.square((0, 20, 20) - T)))/np.sum(np.abs((0, 20, 20))))*100"
   ]
  },
  {
   "cell_type": "code",
   "execution_count": 56,
   "metadata": {},
   "outputs": [
    {
     "data": {
      "text/plain": [
       "31.567730223935005"
      ]
     },
     "execution_count": 56,
     "metadata": {},
     "output_type": "execute_result"
    },
    {
     "data": {
      "text/plain": [
       "31.567730223935005"
      ]
     },
     "execution_count": 56,
     "metadata": {},
     "output_type": "execute_result"
    }
   ],
   "source": [
    "T_error"
   ]
  },
  {
   "cell_type": "code",
   "execution_count": 35,
   "metadata": {},
   "outputs": [
    {
     "data": {
      "text/plain": [
       "array([[ 8.60125049e-01,  1.51495039e-01, -4.87066887e-01,\n",
       "         1.20604174e+01],\n",
       "       [ 2.79396534e-02,  9.39451148e-01,  3.41541970e-01,\n",
       "        -3.01894473e+01],\n",
       "       [ 5.09317460e-01, -3.07377284e-01,  8.03812746e-01,\n",
       "        -1.17212284e+01],\n",
       "       [ 0.00000000e+00,  0.00000000e+00,  0.00000000e+00,\n",
       "         1.00000000e+00]])"
      ]
     },
     "execution_count": 35,
     "metadata": {},
     "output_type": "execute_result"
    },
    {
     "data": {
      "text/plain": [
       "array([[ 8.60125049e-01,  1.51495039e-01, -4.87066887e-01,\n",
       "         1.20604174e+01],\n",
       "       [ 2.79396534e-02,  9.39451148e-01,  3.41541970e-01,\n",
       "        -3.01894473e+01],\n",
       "       [ 5.09317460e-01, -3.07377284e-01,  8.03812746e-01,\n",
       "        -1.17212284e+01],\n",
       "       [ 0.00000000e+00,  0.00000000e+00,  0.00000000e+00,\n",
       "         1.00000000e+00]])"
      ]
     },
     "execution_count": 35,
     "metadata": {},
     "output_type": "execute_result"
    }
   ],
   "source": [
    "result_icp.transformation"
   ]
  },
  {
   "cell_type": "code",
   "execution_count": null,
   "metadata": {},
   "outputs": [
    {
     "name": "stderr",
     "output_type": "stream",
     "text": [
      "C:\\Users\\alial\\AppData\\Local\\Temp\\ipykernel_21212\\2106044695.py:2: DeprecationWarning: `np.float` is a deprecated alias for the builtin `float`. To silence this warning, use `float` by itself. Doing this will not modify any behavior and is safe. If you specifically wanted the numpy scalar type, use `np.float64` here.\n",
      "Deprecated in NumPy 1.20; for more details and guidance: https://numpy.org/devdocs/release/1.20.0-notes.html#deprecations\n",
      "  source.colors = o3d.utility.Vector3dVector(np.asarray([(0,1,0) for _ in source.points]).astype(np.float))\n",
      "C:\\Users\\alial\\AppData\\Local\\Temp\\ipykernel_21212\\2106044695.py:2: DeprecationWarning: `np.float` is a deprecated alias for the builtin `float`. To silence this warning, use `float` by itself. Doing this will not modify any behavior and is safe. If you specifically wanted the numpy scalar type, use `np.float64` here.\n",
      "Deprecated in NumPy 1.20; for more details and guidance: https://numpy.org/devdocs/release/1.20.0-notes.html#deprecations\n",
      "  source.colors = o3d.utility.Vector3dVector(np.asarray([(0,1,0) for _ in source.points]).astype(np.float))\n",
      "C:\\Users\\alial\\AppData\\Local\\Temp\\ipykernel_21212\\2106044695.py:9: DeprecationWarning: `np.float` is a deprecated alias for the builtin `float`. To silence this warning, use `float` by itself. Doing this will not modify any behavior and is safe. If you specifically wanted the numpy scalar type, use `np.float64` here.\n",
      "Deprecated in NumPy 1.20; for more details and guidance: https://numpy.org/devdocs/release/1.20.0-notes.html#deprecations\n",
      "  target.colors = o3d.utility.Vector3dVector(np.asarray([(0,0,1) for _ in target.points]).astype(np.float))\n",
      "C:\\Users\\alial\\AppData\\Local\\Temp\\ipykernel_21212\\2106044695.py:9: DeprecationWarning: `np.float` is a deprecated alias for the builtin `float`. To silence this warning, use `float` by itself. Doing this will not modify any behavior and is safe. If you specifically wanted the numpy scalar type, use `np.float64` here.\n",
      "Deprecated in NumPy 1.20; for more details and guidance: https://numpy.org/devdocs/release/1.20.0-notes.html#deprecations\n",
      "  target.colors = o3d.utility.Vector3dVector(np.asarray([(0,0,1) for _ in target.points]).astype(np.float))\n"
     ]
    },
    {
     "name": "stdout",
     "output_type": "stream",
     "text": [
      "[Open3D WARNING] [ViewControl] SetViewPoint() failed because window height and width are not set.\n"
     ]
    }
   ],
   "source": [
    "source = o3d.io.read_point_cloud(\"data/group8/RPf_00060_gt.ply\")\n",
    "source.colors = o3d.utility.Vector3dVector(np.asarray([(0,1,0) for _ in source.points]).astype(np.float))\n",
    "# R = source.get_rotation_matrix_from_xyz((np.pi / 8, np.pi / 6, 0))\n",
    "# print(R)\n",
    "# source.rotate(R, center=(0, 0, 0))\n",
    "# source.translate((0, 20, 20))\n",
    "source.estimate_normals()\n",
    "target = o3d.io.read_point_cloud(\"data/group8/RPf_00059_gt.ply\")\n",
    "target.colors = o3d.utility.Vector3dVector(np.asarray([(0,0,1) for _ in target.points]).astype(np.float))\n",
    "target.estimate_normals()\n",
    "draw_registration_result_original_color(source, target,np.identity(4))"
   ]
  },
  {
   "cell_type": "code",
   "execution_count": null,
   "metadata": {},
   "outputs": [],
   "source": [
    "result_icp.transformation"
   ]
  },
  {
   "cell_type": "code",
   "execution_count": null,
   "metadata": {},
   "outputs": [],
   "source": [
    "np.square(result_icp.transformation - current_transformation)"
   ]
  },
  {
   "cell_type": "code",
   "execution_count": null,
   "metadata": {},
   "outputs": [],
   "source": [
    "np.sum(np.square(result_icp.transformation - current_transformation))/sum(current_transformation)"
   ]
  },
  {
   "cell_type": "code",
   "execution_count": null,
   "metadata": {},
   "outputs": [],
   "source": [
    "source = o3d.io.read_point_cloud(\"proc0.ply\")"
   ]
  },
  {
   "cell_type": "code",
   "execution_count": null,
   "metadata": {},
   "outputs": [],
   "source": [
    "print(o3d.__version__)"
   ]
  },
  {
   "cell_type": "code",
   "execution_count": null,
   "metadata": {},
   "outputs": [],
   "source": [
    "\n",
    "mesh = o3d.io.read_triangle_mesh(\"data/cup_two/piece_0.obj.ply\")\n",
    "mesh.compute_vertex_normals()\n",
    "pcd = mesh.sample_points_poisson_disk(30000)"
   ]
  },
  {
   "cell_type": "code",
   "execution_count": null,
   "metadata": {},
   "outputs": [],
   "source": [
    "\n",
    "o3d.io.write_point_cloud(\"test0.ply\",pcd)"
   ]
  },
  {
   "cell_type": "code",
   "execution_count": null,
   "metadata": {},
   "outputs": [],
   "source": [
    "Obj1.pcd = pcd"
   ]
  },
  {
   "cell_type": "code",
   "execution_count": null,
   "metadata": {},
   "outputs": [],
   "source": [
    "Obj1.init(15)"
   ]
  },
  {
   "cell_type": "code",
   "execution_count": null,
   "metadata": {},
   "outputs": [],
   "source": [
    "import open3d as o3d\n",
    "import numpy as np\n",
    "from tqdm import tqdm"
   ]
  },
  {
   "cell_type": "code",
   "execution_count": null,
   "metadata": {},
   "outputs": [],
   "source": [
    "# FROM Open3D\n",
    "pcd = o3d.io.read_point_cloud(\"data/cup_two/Mesh.ply\")"
   ]
  },
  {
   "cell_type": "code",
   "execution_count": null,
   "metadata": {},
   "outputs": [],
   "source": [
    "pcd.points"
   ]
  },
  {
   "cell_type": "code",
   "execution_count": null,
   "metadata": {},
   "outputs": [],
   "source": [
    "pcd_tree = o3d.geometry.KDTreeFlann(pcd)"
   ]
  },
  {
   "cell_type": "code",
   "execution_count": null,
   "metadata": {},
   "outputs": [],
   "source": [
    "points = np.asarray(pcd.points)"
   ]
  },
  {
   "cell_type": "code",
   "execution_count": null,
   "metadata": {},
   "outputs": [],
   "source": [
    "print(\"Find its neighbors with distance less than 0.2, and paint them green.\")\n",
    "invalid_points = []\n",
    "for point in tqdm(points):\n",
    "    [k, idx, _] = pcd_tree.search_radius_vector_3d(point, 0.01)\n",
    "    invalid_points.extend(idx)\n",
    "    np.asarray(pcd.colors)[idx[1:], :] = [0, 1, 0]"
   ]
  },
  {
   "cell_type": "code",
   "execution_count": null,
   "metadata": {},
   "outputs": [],
   "source": [
    "len(set(invalid_points))"
   ]
  },
  {
   "cell_type": "code",
   "execution_count": null,
   "metadata": {},
   "outputs": [],
   "source": [
    "print(\"Visualize the point cloud.\")\n",
    "o3d.visualization.draw_geometries([pcd])"
   ]
  },
  {
   "cell_type": "code",
   "execution_count": null,
   "metadata": {},
   "outputs": [],
   "source": [
    "from tqdm import tqdm\n",
    "ln = sum([])\n",
    "with open('test_11.ply', 'w') as f:\n",
    "    f.write('ply\\n')\n",
    "    f.write('format ascii 1.0\\n')\n",
    "    f.write('element vertex '+str(np.asarray(VG_states>0.95).sum())+\"\\n\")\n",
    "    f.write('property float x \\n')\n",
    "    f.write('property float y\\n')\n",
    "    f.write('property float z \\n')\n",
    "    f.write('end_header\\n')\n",
    "    for zi in tqdm(range(N+1)):\n",
    "        f.write(str(xi)+\" \"+str(yi)+\" \"+str(zi)+\"\\n\")\n",
    "f.close()\n"
   ]
  },
  {
   "cell_type": "code",
   "execution_count": null,
   "metadata": {},
   "outputs": [],
   "source": [
    "kernel = np.float64(cv.getStructuringElement(cv.MORPH_ELLIPSE, (13, 13)))\n",
    "kernel /= np.sum(kernel)"
   ]
  },
  {
   "cell_type": "code",
   "execution_count": null,
   "metadata": {},
   "outputs": [],
   "source": []
  }
 ],
 "metadata": {
  "kernelspec": {
   "display_name": "Python [conda env:thesis]",
   "language": "python",
   "name": "conda-env-thesis-py"
  },
  "language_info": {
   "codemirror_mode": {
    "name": "ipython",
    "version": 3
   },
   "file_extension": ".py",
   "mimetype": "text/x-python",
   "name": "python",
   "nbconvert_exporter": "python",
   "pygments_lexer": "ipython3",
   "version": "3.9.12"
  }
 },
 "nbformat": 4,
 "nbformat_minor": 4
}
