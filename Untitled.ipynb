{
 "cells": [
  {
   "cell_type": "code",
   "execution_count": 2,
   "metadata": {},
   "outputs": [
    {
     "name": "stdout",
     "output_type": "stream",
     "text": [
      "Jupyter environment detected. Enabling Open3D WebVisualizer.\n",
      "[Open3D INFO] WebRTC GUI backend enabled.\n",
      "[Open3D INFO] WebRTCWindowSystem: HTTP handshake server disabled.\n"
     ]
    }
   ],
   "source": [
    "import Fragment\n",
    "import numpy as np\n",
    "from tqdm import tqdm\n",
    "import open3d as o3d\n",
    "import helper"
   ]
  },
  {
   "cell_type": "code",
   "execution_count": 11,
   "metadata": {},
   "outputs": [],
   "source": [
    "from Fragment import FeatureLines\n",
    "Obj = FeatureLines(\"data/brick/pcd4web/brick_part01.ply\",voxel_size=30000)"
   ]
  },
  {
   "cell_type": "code",
   "execution_count": 12,
   "metadata": {},
   "outputs": [],
   "source": [
    "Obj.init(15)"
   ]
  },
  {
   "cell_type": "code",
   "execution_count": 14,
   "metadata": {},
   "outputs": [
    {
     "name": "stdout",
     "output_type": "stream",
     "text": [
      "starting threshold\n"
     ]
    }
   ],
   "source": [
    "print(\"starting threshold\")\n",
    "valid = []\n",
    "for idx,val in enumerate(Obj.w_co):\n",
    "    if val<0.9:\n",
    "        valid.append(idx)\n",
    "\n",
    "# print(\"Size valid :\",len(valid))\n",
    "\n",
    "shortest_cycle_length = np.sqrt(len(Obj.pcd.points))//2\n",
    "smallest_isolated_island_length = np.sqrt(len(Obj.pcd.points))//2\n",
    "shortest_allowed_branch_length = np.sqrt(len(Obj.pcd.points))//2\n",
    "\n",
    "\n",
    "\n",
    "Obj1 = Obj\n",
    "Obj1.pcd.points = o3d.utility.Vector3dVector(np.asarray(Obj.pcd.points)[valid])\n",
    "# isolated_islands_pruned_graph, F_lines, isolated_islands = helper.create_graph(Obj,\\\n",
    "# 1,shortest_cycle_length, smallest_isolated_island_length)"
   ]
  },
  {
   "cell_type": "code",
   "execution_count": 15,
   "metadata": {},
   "outputs": [],
   "source": [
    "Obj1.show_heat(Obj1.w_co)"
   ]
  },
  {
   "cell_type": "code",
   "execution_count": null,
   "metadata": {},
   "outputs": [],
   "source": [
    "from Fragment import FeatureLines\n",
    "Obj1 = FeatureLines(\"data/group8/RPf_00060_gt.ply\",voxel_size=0.8)\n",
    "Obj1.init(15)\n",
    "Obj1.init_create_crease(alpha = 0.7, T = 1.2, minimum_allowed_branch_length=2, minimum_allowed_island_size=2)"
   ]
  },
  {
   "cell_type": "code",
   "execution_count": null,
   "metadata": {},
   "outputs": [],
   "source": [
    "Obj1.create_crease(T=1.2,pattern_length_T=1)"
   ]
  },
  {
   "cell_type": "code",
   "execution_count": null,
   "metadata": {},
   "outputs": [],
   "source": [
    "Obj1.create_border(T=1.7,pattern_length_T=1)"
   ]
  },
  {
   "cell_type": "code",
   "execution_count": null,
   "metadata": {},
   "outputs": [],
   "source": [
    "Obj1.show_pattern(Obj1.crease_pattern_pruned)"
   ]
  },
  {
   "cell_type": "markdown",
   "metadata": {},
   "source": [
    "<h2>Trial only with w_co</h2>"
   ]
  },
  {
   "cell_type": "code",
   "execution_count": null,
   "metadata": {},
   "outputs": [],
   "source": [
    "from copy import copy,deepcopy\n",
    "import networkx as nx\n",
    "from disjoint import DisjointSetExtra\n",
    "import open3d as o3d\n",
    "import helper\n",
    "valid = []\n",
    "for idx,val in tqdm(enumerate(Obj1.w_co)):\n",
    "    if val<0.90:\n",
    "        valid.append(idx)\n",
    "\n",
    "#Filter Valid points        \n",
    "Obj = copy(Obj1)\n",
    "Obj.pcd = copy(Obj1.pcd)\n",
    "Obj.pcd.points = o3d.utility.Vector3dVector(np.asarray(Obj1.pcd.points)[valid])\n",
    "isolated_islands_pruned_graph, F_lines, isolated_islands = helper.create_graph(Obj,2,  np.sqrt(len(Obj1.pcd.points))//8, np.sqrt(len(Obj1.pcd.points))//8)\n",
    "pruned_graph, removed_nodes, valid_nodes = helper.prune_branches(Obj, F_lines, isolated_islands_pruned_graph,np.sqrt(len(Obj1.pcd.points))//10)"
   ]
  },
  {
   "cell_type": "code",
   "execution_count": null,
   "metadata": {},
   "outputs": [],
   "source": [
    "mask = np.isin(np.arange(0, len(Obj.pcd.points), 1).tolist(),[node for branch in valid_nodes for node in branch])"
   ]
  },
  {
   "cell_type": "code",
   "execution_count": null,
   "metadata": {},
   "outputs": [],
   "source": [
    "out = copy(Obj)\n",
    "out.pcd = copy(Obj.pcd)\n",
    "out.pcd.points = o3d.utility.Vector3dVector(np.asarray(Obj.pcd.points)[mask])\n",
    "colors = [(0,255,0) for _ in out.pcd.points]\n",
    "out.pcd.colors = o3d.utility.Vector3dVector(np.asarray(colors).astype(np.float) / 255.0)\n",
    "o3d.visualization.draw_geometries([out.pcd])"
   ]
  },
  {
   "cell_type": "code",
   "execution_count": null,
   "metadata": {},
   "outputs": [],
   "source": [
    "import random\n",
    "groups = F_lines\n",
    "colors = [(0,255,0) for _ in Obj.pcd.points]\n",
    "for group in groups:\n",
    "    color = (random.randrange(0, 255),0,random.randrange(0, 255))\n",
    "    for nodes in group:\n",
    "        colors[nodes] = color\n",
    "    \n",
    "    \n",
    "Obj.pcd.colors = o3d.utility.Vector3dVector(np.asarray(colors).astype(np.float) / 255.0)\n",
    "o3d.visualization.draw_geometries([Obj.pcd])"
   ]
  },
  {
   "cell_type": "code",
   "execution_count": null,
   "metadata": {},
   "outputs": [],
   "source": [
    "import random\n",
    "groups = F_lines\n",
    "colors = [(0,255,0) for _ in Obj.pcd.points]\n",
    "for group in groups:\n",
    "    color = (random.randrange(0, 255),0,random.randrange(0, 255))\n",
    "    for node in group:\n",
    "        if node in removed_nodes:\n",
    "            colors[node] = color\n",
    "    \n",
    "    \n",
    "Obj.pcd.colors = o3d.utility.Vector3dVector(np.asarray(colors).astype(np.float) / 255.0)\n",
    "o3d.visualization.draw_geometries([Obj.pcd])"
   ]
  },
  {
   "cell_type": "code",
   "execution_count": null,
   "metadata": {},
   "outputs": [],
   "source": [
    "import random\n",
    "groups = valid_nodes\n",
    "colors = [(0,255,0) for _ in Obj.pcd.points]\n",
    "for group in groups:\n",
    "    color = (random.randrange(0, 255),0,random.randrange(0, 255))\n",
    "    print(\"one\")\n",
    "    for nodes in group:\n",
    "        colors[nodes] = color\n",
    "        \n",
    "Obj.pcd.colors = o3d.utility.Vector3dVector(np.asarray(colors).astype(np.float) / 255.0)\n",
    "o3d.visualization.draw_geometries([Obj.pcd])"
   ]
  },
  {
   "cell_type": "code",
   "execution_count": null,
   "metadata": {},
   "outputs": [],
   "source": [
    "cycles = find_cycles(pruned_graph)\n",
    "sorted_cycles = sorted(cycles,key = lambda x:x[1],reverse=True)"
   ]
  },
  {
   "cell_type": "code",
   "execution_count": null,
   "metadata": {},
   "outputs": [],
   "source": [
    "len(sorted_cycles)"
   ]
  },
  {
   "cell_type": "code",
   "execution_count": null,
   "metadata": {},
   "outputs": [],
   "source": [
    "borders = sorted_cycles[0:10]"
   ]
  },
  {
   "cell_type": "code",
   "execution_count": null,
   "metadata": {},
   "outputs": [],
   "source": [
    " sorted_cycles[50]"
   ]
  },
  {
   "cell_type": "code",
   "execution_count": null,
   "metadata": {},
   "outputs": [],
   "source": [
    "for border,length in borders:\n",
    "    colors = [(0,255,0) for _ in Obj.pcd.points]\n",
    "    print(length)\n",
    "    color = (random.randrange(0, 255),0,random.randrange(0, 255))\n",
    "    for node in set(border):\n",
    "        colors[node] = color  \n",
    "    Obj.pcd.colors = o3d.utility.Vector3dVector(np.asarray(colors).astype(np.float) / 255.0)\n",
    "    o3d.visualization.draw_geometries([Obj.pcd])"
   ]
  },
  {
   "cell_type": "code",
   "execution_count": null,
   "metadata": {},
   "outputs": [],
   "source": [
    "len(Obj.pcd.points)"
   ]
  },
  {
   "cell_type": "code",
   "execution_count": null,
   "metadata": {},
   "outputs": [],
   "source": [
    "print(len(Obj.pcd.points),len(Obj1.pcd.points))"
   ]
  },
  {
   "cell_type": "markdown",
   "metadata": {},
   "source": [
    "<h4>Copy the object then build the Graph</h4>"
   ]
  },
  {
   "cell_type": "code",
   "execution_count": null,
   "metadata": {},
   "outputs": [],
   "source": [
    "from copy import copy\n",
    "import networkx as nx\n",
    "from disjoint import DisjointSetExtra\n",
    "import open3d as o3d\n",
    "my_obj = copy(Obj1.pcd)\n",
    "my_obj.points = o3d.utility.Vector3dVector(np.asarray(Obj1.pcd.points)[valid])\n",
    "o3d.visualization.draw_geometries([my_obj])"
   ]
  },
  {
   "cell_type": "code",
   "execution_count": null,
   "metadata": {},
   "outputs": [],
   "source": [
    "pattern_length_T = np.sqrt(len(Obj1.pcd.points))//2\n",
    "ds = DisjointSetExtra()\n",
    "Graph = nx.Graph()\n",
    "tree = o3d.geometry.KDTreeFlann(my_obj)\n",
    "for idx,p in tqdm(enumerate(my_obj.points)):\n",
    "    [k, points_q, _] = tree.search_radius_vector_3d(my_obj.points[idx],1)\n",
    "    for q in points_q:\n",
    "        if ds.exists(q) and ds.exists(int(idx)):\n",
    "            if not ds.connected(q,int(idx)):\n",
    "                ds.connect(q,int(idx))\n",
    "                Graph.add_edge(q,int(idx))\n",
    "            else:\n",
    "#                 print(path_length(Graph,int(idx),q,pattern_length_T),pattern_length_T//2)\n",
    "                if path_length(Graph,int(idx),q,pattern_length_T)>pattern_length_T:\n",
    "                    ds.add(q,int(idx))\n",
    "                    Graph.add_edge(q,int(idx))\n",
    "        else:\n",
    "            ds.add(q,int(idx))\n",
    "            Graph.add_edge(q,int(idx))\n",
    "F_lines = []\n",
    "for group in list(ds.ds.itersets()):\n",
    "    if len(group) < pattern_length_T:\n",
    "        continue\n",
    "    F_lines.append(group)"
   ]
  },
  {
   "cell_type": "markdown",
   "metadata": {},
   "source": [
    "<h3> Print the diffrent regions of the object (Green = Removed - any other color is existing group)</h3>"
   ]
  },
  {
   "cell_type": "code",
   "execution_count": null,
   "metadata": {},
   "outputs": [],
   "source": [
    "import random\n",
    "groups = F_lines\n",
    "new_valid = []\n",
    "colors = [(0,255,0) for _ in my_obj.points]\n",
    "for group in groups:\n",
    "    color = (random.randrange(0, 255),0,random.randrange(0, 255))\n",
    "    for nodes in group:\n",
    "        colors[nodes] = color\n",
    "        new_valid.append(nodes)\n",
    "my_obj.colors = o3d.utility.Vector3dVector(np.asarray(colors).astype(np.float) / 255.0)\n",
    "o3d.visualization.draw_geometries([my_obj])"
   ]
  },
  {
   "cell_type": "code",
   "execution_count": null,
   "metadata": {},
   "outputs": [],
   "source": [
    "nodes = {}\n",
    "for branch in F_lines:\n",
    "    for point in branch:\n",
    "        neighbors = set(Graph.neighbors(point))\n",
    "        if len(list(neighbors)) >= 2:\n",
    "            nodes[point]=neighbors\n",
    "            \n",
    "T = np.sqrt(np.asarray(Obj1.pcd.points).shape[0])\n",
    "all_nodes_rem = []\n",
    "visited = set()\n",
    "for point,my_nodes in tqdm(nodes.items()):\n",
    "    score = 0\n",
    "    tmp_rem_nodes = []\n",
    "    for node in my_nodes:\n",
    "        if not check_point(Graph,node,{point},T):\n",
    "            score+=1\n",
    "        else:\n",
    "            tmp_rem_nodes.append(node)\n",
    "\n",
    "    if score >= 2:\n",
    "        for node in tmp_rem_nodes:\n",
    "            tmp_rem_nodes = remove_point(Graph,node,{point})\n",
    "            all_nodes_rem.extend(tmp_rem_nodes)"
   ]
  },
  {
   "cell_type": "code",
   "execution_count": null,
   "metadata": {},
   "outputs": [],
   "source": [
    "rem = {node for branch in all_nodes_rem for node in branch}\n",
    "pruned_graph = copy(Graph)\n",
    "pruned_graph.remove_nodes_from(list(rem))\n",
    "pruned = [[node for node in group-rem] for group in F_lines]"
   ]
  },
  {
   "cell_type": "code",
   "execution_count": null,
   "metadata": {},
   "outputs": [],
   "source": [
    "import random\n",
    "groups = pruned\n",
    "colors = [(0,255,0) for _ in my_obj.points]\n",
    "for group in groups:\n",
    "    if len(group) < pattern_length_T:\n",
    "        continue\n",
    "    color = (random.randrange(0, 255),0,random.randrange(0, 255))\n",
    "    for nodes in group:\n",
    "        colors[nodes] = color\n",
    "    \n",
    "my_obj.colors = o3d.utility.Vector3dVector(np.asarray(colors).astype(np.float) / 255.0)\n",
    "o3d.visualization.draw_geometries([my_obj])"
   ]
  },
  {
   "cell_type": "code",
   "execution_count": null,
   "metadata": {},
   "outputs": [],
   "source": [
    "len(set(valid))"
   ]
  },
  {
   "cell_type": "code",
   "execution_count": null,
   "metadata": {},
   "outputs": [],
   "source": [
    "len(my_obj.points)"
   ]
  },
  {
   "cell_type": "code",
   "execution_count": null,
   "metadata": {},
   "outputs": [],
   "source": [
    "len(set(set(Graph.nodes)))"
   ]
  },
  {
   "cell_type": "code",
   "execution_count": null,
   "metadata": {},
   "outputs": [],
   "source": [
    "len(F_lines[0])"
   ]
  },
  {
   "cell_type": "code",
   "execution_count": null,
   "metadata": {},
   "outputs": [],
   "source": [
    "len(set(Graph.nodes)-set(valid))"
   ]
  },
  {
   "cell_type": "code",
   "execution_count": null,
   "metadata": {},
   "outputs": [],
   "source": [
    "import random\n",
    "groups = F_lines\n",
    "colors = [(0,255,0) for _ in my_obj.points]\n",
    "for group in groups:\n",
    "    color = (random.randrange(0, 255),0,random.randrange(0, 255))\n",
    "    print(\"one\")\n",
    "    for nodes in group:\n",
    "        colors[nodes] = color\n",
    "        \n",
    "my_obj.colors = o3d.utility.Vector3dVector(np.asarray(colors).astype(np.float) / 255.0)\n",
    "o3d.visualization.draw_geometries([my_obj])"
   ]
  },
  {
   "cell_type": "markdown",
   "metadata": {},
   "source": [
    "## len(my_points)"
   ]
  },
  {
   "cell_type": "code",
   "execution_count": null,
   "metadata": {},
   "outputs": [],
   "source": [
    "my_obj.points = o3d.utility.Vector3dVector(np.asarray(Obj1.pcd.points)[list(F_lines[0])])\n",
    "o3d.visualization.draw_geometries([my_obj])"
   ]
  },
  {
   "cell_type": "code",
   "execution_count": null,
   "metadata": {},
   "outputs": [],
   "source": [
    "def remove_point(G,p,visited):\n",
    "    counter = 0\n",
    "    short_branches = []\n",
    "    stack = [[p]]\n",
    "    while stack:\n",
    "        counter+=1\n",
    "        curr_branch = stack.pop(0)\n",
    "        curr_p  = curr_branch[-1]\n",
    "        neighbors = set(G.neighbors(curr_p))-visited\n",
    "        neighbors = list(neighbors)\n",
    "        if len(neighbors) == 0:\n",
    "            short_branches.append(curr_branch[1:])\n",
    "            continue\n",
    "        for n in neighbors:\n",
    "            visited.add(n)\n",
    "            stack.append(curr_branch+[n])\n",
    "    return short_branches\n",
    "def check_point(G,p,visited,threshold):\n",
    "    counter = 0\n",
    "    short_branches = []\n",
    "    stack = [[p]]\n",
    "    while stack:\n",
    "        counter+=1\n",
    "        if counter >= threshold:\n",
    "            return False\n",
    "        curr_branch = stack.pop(0)\n",
    "        curr_p  = curr_branch[-1]\n",
    "        neighbors = set(G.neighbors(curr_p)) - visited\n",
    "        neighbors = list(neighbors)\n",
    "        for n in neighbors:\n",
    "            if n not in visited:\n",
    "                visited.add(n)\n",
    "                stack.append(curr_branch+[n])\n",
    "    return True\n",
    "\n",
    "nodes = {}\n",
    "for point in list(Graph.nodes):\n",
    "    neighbors = set(Graph.neighbors(point))\n",
    "    if len(list(neighbors)) >= 2:\n",
    "        nodes[point]=neighbors\n",
    "\n",
    "T = np.sqrt(np.asarray(my_obj.points).shape[0])//2\n",
    "all_nodes_rem = []\n",
    "visited = set()\n",
    "for point,my_nodes in tqdm(nodes.items()):\n",
    "    score = 0\n",
    "    tmp_rem_nodes = []\n",
    "    for node in my_nodes:\n",
    "        if not check_point(Graph,node,{point},T):\n",
    "            score+=1\n",
    "        else:\n",
    "            tmp_rem_nodes.append(node)\n",
    "\n",
    "    if score >= 2:\n",
    "        for node in tmp_rem_nodes:\n",
    "            tmp_rem_nodes = remove_point(Graph,node,{point})\n",
    "            all_nodes_rem.extend(tmp_rem_nodes)"
   ]
  },
  {
   "cell_type": "code",
   "execution_count": null,
   "metadata": {},
   "outputs": [],
   "source": [
    "points = list(set(valid)-set([node for branch in all_nodes_rem for node in branch]))\n",
    "my_obj.points = o3d.utility.Vector3dVector(np.asarray(Obj1.pcd.points)[points])\n",
    "o3d.visualization.draw_geometries([my_obj])"
   ]
  },
  {
   "cell_type": "code",
   "execution_count": 1,
   "metadata": {},
   "outputs": [
    {
     "name": "stdout",
     "output_type": "stream",
     "text": [
      "Jupyter environment detected. Enabling Open3D WebVisualizer.\n",
      "[Open3D INFO] WebRTC GUI backend enabled.\n",
      "[Open3D INFO] WebRTCWindowSystem: HTTP handshake server disabled.\n"
     ]
    }
   ],
   "source": []
  },
  {
   "cell_type": "code",
   "execution_count": 2,
   "metadata": {},
   "outputs": [
    {
     "ename": "AttributeError",
     "evalue": "module 'helper' has no attribute 'my_pipline'",
     "output_type": "error",
     "traceback": [
      "\u001b[1;31m---------------------------------------------------------------------------\u001b[0m",
      "\u001b[1;31mAttributeError\u001b[0m                            Traceback (most recent call last)",
      "Input \u001b[1;32mIn [2]\u001b[0m, in \u001b[0;36m<cell line: 2>\u001b[1;34m()\u001b[0m\n\u001b[0;32m      1\u001b[0m \u001b[38;5;28;01mimport\u001b[39;00m \u001b[38;5;21;01mpipline_modules\u001b[39;00m\u001b[38;5;21;01m.\u001b[39;00m\u001b[38;5;21;01mpipline_1\u001b[39;00m \u001b[38;5;28;01mas\u001b[39;00m \u001b[38;5;21;01mpipeline\u001b[39;00m\n\u001b[1;32m----> 2\u001b[0m \u001b[38;5;28mself\u001b[39m\u001b[38;5;241m.\u001b[39mObj1 \u001b[38;5;241m=\u001b[39m \u001b[43mhelper\u001b[49m\u001b[38;5;241;43m.\u001b[39;49m\u001b[43mmy_pipline\u001b[49m\u001b[38;5;241m.\u001b[39mrun(\u001b[38;5;28mself\u001b[39m\u001b[38;5;241m.\u001b[39mObj1_url,\u001b[38;5;28mself\u001b[39m\u001b[38;5;241m.\u001b[39mpipline_variables)\n",
      "\u001b[1;31mAttributeError\u001b[0m: module 'helper' has no attribute 'my_pipline'"
     ]
    }
   ],
   "source": []
  },
  {
   "cell_type": "code",
   "execution_count": null,
   "metadata": {},
   "outputs": [],
   "source": [
    "def find_cycles(Graph):\n",
    "    visited = set()\n",
    "    cycles = []\n",
    "    stack = [[list(Graph.nodes)[0]]]\n",
    "    parent = None\n",
    "    while stack:\n",
    "        path = stack.pop(-1)\n",
    "        last_node = path[-1]\n",
    "        # check that the node is not visited before if it is visited then it is a cycle\n",
    "        if last_node in visited:\n",
    "            cycles.append((path,last_node))\n",
    "            continue \n",
    "        visited.add(last_node)\n",
    "        nghs = Graph.neighbors(last_node)\n",
    "        for node in nghs:\n",
    "            if parent and parent == last_node:\n",
    "                continue\n",
    "            stack.append(path+[node])\n",
    "    filtered_cycles = []\n",
    "    for cycle,node in cycles:\n",
    "        path = []\n",
    "        counter = 0\n",
    "        for n in cycle:\n",
    "            if node == n:\n",
    "                counter = 1\n",
    "                \n",
    "            if counter:\n",
    "                path.append(n)\n",
    "            else:\n",
    "                continue\n",
    "        filtered_cycles.append((path,len(path)))\n",
    "    return filtered_cycles"
   ]
  },
  {
   "cell_type": "code",
   "execution_count": null,
   "metadata": {},
   "outputs": [],
   "source": [
    "cycles = find_cycles(Graph)\n",
    "sorted_cycles = sorted(cycles,key = lambda x:x[1],reverse=True)"
   ]
  },
  {
   "cell_type": "code",
   "execution_count": null,
   "metadata": {},
   "outputs": [],
   "source": []
  },
  {
   "cell_type": "code",
   "execution_count": null,
   "metadata": {},
   "outputs": [],
   "source": [
    "borders = sorted_cycles[:3]"
   ]
  },
  {
   "cell_type": "code",
   "execution_count": null,
   "metadata": {},
   "outputs": [],
   "source": [
    "new_obj = copy(my_obj)"
   ]
  },
  {
   "cell_type": "code",
   "execution_count": null,
   "metadata": {},
   "outputs": [],
   "source": [
    "colors = [(0,255,0) for _ in new_obj.points]\n",
    "for border,length in borders:\n",
    "    print(length)\n",
    "    color = (random.randrange(0, 255),0,random.randrange(0, 255))\n",
    "    for node in set(border) - rem:\n",
    "        colors[node] = color\n",
    "        \n",
    "my_obj.colors = o3d.utility.Vector3dVector(np.asarray(colors).astype(np.float) / 255.0)\n",
    "o3d.visualization.draw_geometries([new_obj])"
   ]
  },
  {
   "cell_type": "code",
   "execution_count": null,
   "metadata": {},
   "outputs": [],
   "source": [
    "[i for i in nx.connected_components(Graph)]"
   ]
  },
  {
   "cell_type": "code",
   "execution_count": null,
   "metadata": {},
   "outputs": [],
   "source": [
    "def find_all_cycles(G, source=None, cycle_length_limit=None):\n",
    "    \"\"\"forked from networkx dfs_edges function. Assumes nodes are integers, or at least\n",
    "    types which work with min() and > .\"\"\"\n",
    "    if source is None:\n",
    "        # produce edges for all components\n",
    "        nodes=[list(i)[0] for i in nx.connected_components(G)]\n",
    "    else:\n",
    "        # produce edges for components with source\n",
    "        nodes=[source]\n",
    "    # extra variables for cycle detection:\n",
    "    cycle_stack = []\n",
    "    output_cycles = set()\n",
    "    \n",
    "    def get_hashable_cycle(cycle):\n",
    "        \"\"\"cycle as a tuple in a deterministic order.\"\"\"\n",
    "        m = min(cycle)\n",
    "        mi = cycle.index(m)\n",
    "        mi_plus_1 = mi + 1 if mi < len(cycle) - 1 else 0\n",
    "        if cycle[mi-1] > cycle[mi_plus_1]:\n",
    "            result = cycle[mi:] + cycle[:mi]\n",
    "        else:\n",
    "            result = list(reversed(cycle[:mi_plus_1])) + list(reversed(cycle[mi_plus_1:]))\n",
    "        return tuple(result)\n",
    "    \n",
    "    for start in tqdm(nodes):\n",
    "        if start in cycle_stack:\n",
    "            continue\n",
    "        cycle_stack.append(start)\n",
    "        \n",
    "        stack = [(start,iter(G[start]))]\n",
    "        while stack:\n",
    "            parent,children = stack[-1]\n",
    "            try:\n",
    "                child = next(children)\n",
    "                \n",
    "                if child not in cycle_stack:\n",
    "                    cycle_stack.append(child)\n",
    "                    stack.append((child,iter(G[child])))\n",
    "                else:\n",
    "                    i = cycle_stack.index(child)\n",
    "                    if i < len(cycle_stack) - 2: \n",
    "                      output_cycles.add(get_hashable_cycle(cycle_stack[i:]))\n",
    "                \n",
    "            except StopIteration:\n",
    "                stack.pop()\n",
    "                cycle_stack.pop()\n",
    "    \n",
    "    return [list(i) for i in output_cycles]"
   ]
  },
  {
   "cell_type": "code",
   "execution_count": null,
   "metadata": {},
   "outputs": [],
   "source": [
    "find_all_cycles(Graph)"
   ]
  },
  {
   "cell_type": "code",
   "execution_count": null,
   "metadata": {},
   "outputs": [],
   "source": [
    "hull, _ = my_obj.compute_convex_hull()\n",
    "hull_ls = o3d.geometry.LineSet.create_from_triangle_mesh(hull)\n",
    "hull_ls.paint_uniform_color((1, 0, 0))\n",
    "o3d.visualization.draw_geometries([my_obj, hull_ls])"
   ]
  },
  {
   "cell_type": "code",
   "execution_count": null,
   "metadata": {},
   "outputs": [],
   "source": [
    "len(list(Obj1.pcd.points))"
   ]
  },
  {
   "cell_type": "code",
   "execution_count": null,
   "metadata": {
    "scrolled": true
   },
   "outputs": [],
   "source": [
    "Obj1.init(5)"
   ]
  },
  {
   "cell_type": "code",
   "execution_count": null,
   "metadata": {},
   "outputs": [],
   "source": [
    "Obj1.init_graph(alpha=0.2,gamma=0.5)"
   ]
  },
  {
   "cell_type": "code",
   "execution_count": null,
   "metadata": {},
   "outputs": [],
   "source": [
    "Obj1.create_crease(T=1,pattern_length_T=2)"
   ]
  },
  {
   "cell_type": "code",
   "execution_count": null,
   "metadata": {},
   "outputs": [],
   "source": [
    "Obj1.crease_pattern_pruned"
   ]
  },
  {
   "cell_type": "code",
   "execution_count": null,
   "metadata": {},
   "outputs": [],
   "source": [
    "Obj1.show_heat(Obj1.crease_pattern_pruned)"
   ]
  },
  {
   "cell_type": "code",
   "execution_count": null,
   "metadata": {},
   "outputs": [],
   "source": [
    "Obj1.set_edge_params(alpha=0.8,gamma=0.7)"
   ]
  },
  {
   "cell_type": "code",
   "execution_count": null,
   "metadata": {},
   "outputs": [],
   "source": [
    "Obj1.get_pattern(pattern=\"crease\",T=1.2,pattern_length_T=0.5)"
   ]
  },
  {
   "cell_type": "code",
   "execution_count": null,
   "metadata": {},
   "outputs": [],
   "source": [
    "Obj1.show(\"crease_after\")"
   ]
  },
  {
   "cell_type": "code",
   "execution_count": null,
   "metadata": {},
   "outputs": [],
   "source": [
    "Obj2.show(\"crease_after\")"
   ]
  },
  {
   "cell_type": "code",
   "execution_count": null,
   "metadata": {},
   "outputs": [],
   "source": []
  },
  {
   "cell_type": "code",
   "execution_count": null,
   "metadata": {},
   "outputs": [],
   "source": [
    "len(valid)"
   ]
  },
  {
   "cell_type": "code",
   "execution_count": null,
   "metadata": {},
   "outputs": [],
   "source": [
    "\n",
    "# from tqdm import tqdm\n",
    "# valid = []\n",
    "\n",
    "# for idx in tqdm(range(len(Obj1.pcd.points))):\n",
    "#     if idx not in invalid_pts:\n",
    "#         valid.append(idx)"
   ]
  },
  {
   "cell_type": "code",
   "execution_count": null,
   "metadata": {},
   "outputs": [],
   "source": []
  },
  {
   "cell_type": "code",
   "execution_count": null,
   "metadata": {},
   "outputs": [],
   "source": [
    "o3d.io.write_point_cloud(\"brick_01.ply\",my_obj)"
   ]
  },
  {
   "cell_type": "code",
   "execution_count": null,
   "metadata": {},
   "outputs": [],
   "source": [
    "Obj1.show_heat()"
   ]
  },
  {
   "cell_type": "code",
   "execution_count": null,
   "metadata": {},
   "outputs": [],
   "source": [
    "Obj2.show_heat(Obj2.w_co)"
   ]
  },
  {
   "cell_type": "code",
   "execution_count": null,
   "metadata": {},
   "outputs": [],
   "source": [
    "new_value = np.maximum(Obj1.w_co,Obj1.w_co)"
   ]
  },
  {
   "cell_type": "code",
   "execution_count": null,
   "metadata": {},
   "outputs": [],
   "source": [
    "Obj1.show_heat(Obj1.w_k)"
   ]
  },
  {
   "cell_type": "code",
   "execution_count": null,
   "metadata": {},
   "outputs": [],
   "source": [
    "Obj1.show_heat(Obj1.w_co)"
   ]
  },
  {
   "cell_type": "code",
   "execution_count": null,
   "metadata": {},
   "outputs": [],
   "source": [
    "from tqdm import tqdm\n",
    "import random\n",
    "N=60\n",
    "L=60\n",
    "noise_range = 0\n",
    "noise_d=100\n",
    "with open('data/my_cube.ply', 'w') as f:\n",
    "    f.write('ply\\n')\n",
    "    f.write('format ascii 1.0\\n')\n",
    "    f.write('element vertex '+str(N*N*6)+\"\\n\")\n",
    "    f.write('property float x \\n')\n",
    "    f.write('property float y\\n')\n",
    "    f.write('property float z \\n')\n",
    "    f.write('end_header\\n')\n",
    "    for zi in tqdm(range(N+1)):\n",
    "        for yi in range(N+1):\n",
    "            for xi in range(N+1):\n",
    "                counter = 0\n",
    "                if xi == N or xi == 0:\n",
    "                    counter+=1\n",
    "                if  yi == N or yi == 0:\n",
    "                    counter+=1\n",
    "                if zi == N or zi == 0:\n",
    "                    counter+=1\n",
    "                if counter >=1:\n",
    "                    f.write(str(xi*(L/N)+random.randint(0, noise_range)/noise_d)+\" \"+str(yi*(L/N)+random.randint(0, noise_range)/noise_d)+\" \"+str(zi*(L/N)++random.randint(0, noise_range)/noise_d)+\"\\n\")\n",
    "f.close()"
   ]
  },
  {
   "cell_type": "code",
   "execution_count": 13,
   "metadata": {},
   "outputs": [],
   "source": [
    "import open3d as o3d\n",
    "import numpy as np\n",
    "import copy\n",
    "from tqdm import tqdm\n",
    "def draw_registration_result_original_color(source, target, transformation):\n",
    "    source_temp = copy.deepcopy(source)\n",
    "    source_temp.transform(transformation)\n",
    "    o3d.visualization.draw_geometries([source_temp, target])"
   ]
  },
  {
   "cell_type": "code",
   "execution_count": 14,
   "metadata": {},
   "outputs": [],
   "source": [
    "import pandas as pd"
   ]
  },
  {
   "cell_type": "code",
   "execution_count": 15,
   "metadata": {},
   "outputs": [
    {
     "name": "stderr",
     "output_type": "stream",
     "text": [
      "  0%|                                                                                            | 0/1 [00:00<?, ?it/s]C:\\Users\\alial\\AppData\\Local\\Temp\\ipykernel_7128\\1366505054.py:23: DeprecationWarning: `np.float` is a deprecated alias for the builtin `float`. To silence this warning, use `float` by itself. Doing this will not modify any behavior and is safe. If you specifically wanted the numpy scalar type, use `np.float64` here.\n",
      "Deprecated in NumPy 1.20; for more details and guidance: https://numpy.org/devdocs/release/1.20.0-notes.html#deprecations\n",
      "  source.colors = o3d.utility.Vector3dVector(np.asarray([(0,1,0) for _ in source.points]).astype(np.float))\n",
      "C:\\Users\\alial\\AppData\\Local\\Temp\\ipykernel_7128\\1366505054.py:29: DeprecationWarning: `np.float` is a deprecated alias for the builtin `float`. To silence this warning, use `float` by itself. Doing this will not modify any behavior and is safe. If you specifically wanted the numpy scalar type, use `np.float64` here.\n",
      "Deprecated in NumPy 1.20; for more details and guidance: https://numpy.org/devdocs/release/1.20.0-notes.html#deprecations\n",
      "  target.colors = o3d.utility.Vector3dVector(np.asarray([(0,0,1) for _ in target.points]).astype(np.float))\n",
      "100%|████████████████████████████████████████████████████████████████████████████████████| 1/1 [00:07<00:00,  7.35s/it]\n"
     ]
    }
   ],
   "source": [
    "test_table = []\n",
    "R_Range = ((0,2*np.pi),(0,2*np.pi),(0,2*np.pi))\n",
    "T_Range = ((0,20),(0,20),(0,20))\n",
    "for i in tqdm(range(1)):\n",
    "#     R_X = np.random.uniform(R_Range[0][0],R_Range[0][1])\n",
    "#     R_Y = np.random.uniform(R_Range[1][0],R_Range[1][1])\n",
    "#     R_Z = np.random.uniform(R_Range[2][0],R_Range[2][1])\n",
    "\n",
    "#     T_X = np.random.uniform(T_Range[0][0],T_Range[0][1])\n",
    "#     T_Y = np.random.uniform(T_Range[1][0],T_Range[1][1])\n",
    "#     T_Z = np.random.uniform(T_Range[2][0],T_Range[2][1])\n",
    "    R_X = 0.39\n",
    "    R_Y = 0\n",
    "    R_Z = 0\n",
    "\n",
    "    T_X = 0\n",
    "    T_Y = 1.3\n",
    "    T_Z = 1.3\n",
    "\n",
    "#     print(\"1. Load two point clouds and show initial pose\")\n",
    "    demo_colored_icp_pcds = o3d.data.DemoColoredICPPointClouds()\n",
    "    source = o3d.io.read_point_cloud(\"brick_03.ply\")\n",
    "    source.colors = o3d.utility.Vector3dVector(np.asarray([(0,1,0) for _ in source.points]).astype(np.float))\n",
    "    R = source.get_rotation_matrix_from_xyz((R_X, R_Y, R_Z))\n",
    "    source.rotate(R, center=(0, 0, 0))\n",
    "    source.translate((T_X, T_Y, T_Z))\n",
    "    source.estimate_normals()\n",
    "    target = o3d.io.read_point_cloud(\"brick_01.ply\")\n",
    "    target.colors = o3d.utility.Vector3dVector(np.asarray([(0,0,1) for _ in target.points]).astype(np.float))\n",
    "    target.estimate_normals()\n",
    "\n",
    "\n",
    "    # draw initial alignment\n",
    "    current_transformation = np.identity(4)\n",
    "    # draw_registration_result_original_color(source, target, current_transformation)\n",
    "    \n",
    "    \n",
    "    # point to plane ICP\n",
    "    current_transformation = np.identity(4)\n",
    "#     print(\"2. Point-to-plane ICP registration is applied on original point\")\n",
    "#     print(\"   clouds to refine the alignment. Distance threshold 0.02.\")\n",
    "    result_icp = o3d.pipelines.registration.registration_icp(\n",
    "        source,target,1000000000, current_transformation,\n",
    "        o3d.pipelines.registration.TransformationEstimationPointToPoint(with_scaling =False),\n",
    "        o3d.pipelines.registration.ICPConvergenceCriteria(max_iteration=50000000))\n",
    "    draw_registration_result_original_color(source, target,\n",
    "                                            result_icp.transformation)\n",
    "\n",
    "\n",
    "    inv = np.linalg.inv(result_icp.transformation)\n",
    "    R_error = (np.sum(np.sqrt(np.square(R - inv[0:3,0:3])))/np.sum(np.abs(R)))*100\n",
    "    R_error = (np.sum(np.sqrt(np.square(R - inv[0:3,0:3]))))\n",
    "    T_Matrix = inv[:3,3]\n",
    "    T_error = (np.sum(np.sqrt(np.square((T_X, T_Y, T_Z) - T_Matrix)))/np.sum(np.abs((T_X, T_Y, T_Z))))*100\n",
    "    T_error = (np.sum(np.sqrt(np.square((T_X, T_Y, T_Z) - T_Matrix))))\n",
    "    \n",
    "    \n",
    "    test_table.append([(R_X, R_Y, R_Z),(T_X, T_Y, T_Z) , result_icp.transformation, R_error, T_error])"
   ]
  },
  {
   "cell_type": "code",
   "execution_count": 11,
   "metadata": {},
   "outputs": [],
   "source": [
    "table = pd.DataFrame(test_table,columns=[\"Rotation\",\"Translation\",\"transformation\",\"R_ERROR\",\"T_ERROR\"])"
   ]
  },
  {
   "cell_type": "code",
   "execution_count": 12,
   "metadata": {},
   "outputs": [
    {
     "data": {
      "text/html": [
       "<div>\n",
       "<style scoped>\n",
       "    .dataframe tbody tr th:only-of-type {\n",
       "        vertical-align: middle;\n",
       "    }\n",
       "\n",
       "    .dataframe tbody tr th {\n",
       "        vertical-align: top;\n",
       "    }\n",
       "\n",
       "    .dataframe thead th {\n",
       "        text-align: right;\n",
       "    }\n",
       "</style>\n",
       "<table border=\"1\" class=\"dataframe\">\n",
       "  <thead>\n",
       "    <tr style=\"text-align: right;\">\n",
       "      <th></th>\n",
       "      <th>Rotation</th>\n",
       "      <th>Translation</th>\n",
       "      <th>transformation</th>\n",
       "      <th>R_ERROR</th>\n",
       "      <th>T_ERROR</th>\n",
       "    </tr>\n",
       "  </thead>\n",
       "  <tbody>\n",
       "    <tr>\n",
       "      <th>0</th>\n",
       "      <td>(0.39, 0, 0)</td>\n",
       "      <td>(0, 1.3, 1.3)</td>\n",
       "      <td>[[0.9969999690149003, -0.012239300530456784, 0...</td>\n",
       "      <td>0.203155</td>\n",
       "      <td>0.366585</td>\n",
       "    </tr>\n",
       "  </tbody>\n",
       "</table>\n",
       "</div>"
      ],
      "text/plain": [
       "       Rotation    Translation  \\\n",
       "0  (0.39, 0, 0)  (0, 1.3, 1.3)   \n",
       "\n",
       "                                      transformation   R_ERROR   T_ERROR  \n",
       "0  [[0.9969999690149003, -0.012239300530456784, 0...  0.203155  0.366585  "
      ]
     },
     "execution_count": 12,
     "metadata": {},
     "output_type": "execute_result"
    }
   ],
   "source": [
    "table"
   ]
  },
  {
   "cell_type": "code",
   "execution_count": null,
   "metadata": {},
   "outputs": [],
   "source": [
    "print(table[\"R_ERROR\"].mean(),table[\"T_ERROR\"].mean())"
   ]
  },
  {
   "cell_type": "markdown",
   "metadata": {},
   "source": [
    "###### "
   ]
  },
  {
   "cell_type": "code",
   "execution_count": null,
   "metadata": {},
   "outputs": [],
   "source": [
    "T_error"
   ]
  },
  {
   "cell_type": "code",
   "execution_count": null,
   "metadata": {},
   "outputs": [],
   "source": [
    "result_icp.transformation"
   ]
  },
  {
   "cell_type": "code",
   "execution_count": null,
   "metadata": {},
   "outputs": [],
   "source": [
    "source = o3d.io.read_point_cloud(\"data/group8/RPf_00060_gt.ply\")\n",
    "source.colors = o3d.utility.Vector3dVector(np.asarray([(0,1,0) for _ in source.points]).astype(np.float))\n",
    "# R = source.get_rotation_matrix_from_xyz((np.pi / 8, np.pi / 6, 0))\n",
    "# print(R)\n",
    "# source.rotate(R, center=(0, 0, 0))\n",
    "# source.translate((0, 20, 20))\n",
    "source.estimate_normals()\n",
    "target = o3d.io.read_point_cloud(\"data/group8/RPf_00059_gt.ply\")\n",
    "target.colors = o3d.utility.Vector3dVector(np.asarray([(0,0,1) for _ in target.points]).astype(np.float))\n",
    "target.estimate_normals()\n",
    "draw_registration_result_original_color(source, target,np.identity(4))"
   ]
  },
  {
   "cell_type": "code",
   "execution_count": null,
   "metadata": {},
   "outputs": [],
   "source": [
    "result_icp.transformation"
   ]
  },
  {
   "cell_type": "code",
   "execution_count": null,
   "metadata": {},
   "outputs": [],
   "source": [
    "np.square(result_icp.transformation - current_transformation)"
   ]
  },
  {
   "cell_type": "code",
   "execution_count": null,
   "metadata": {},
   "outputs": [],
   "source": [
    "np.sum(np.square(result_icp.transformation - current_transformation))/sum(current_transformation)"
   ]
  },
  {
   "cell_type": "code",
   "execution_count": null,
   "metadata": {},
   "outputs": [],
   "source": [
    "source = o3d.io.read_point_cloud(\"proc0.ply\")"
   ]
  },
  {
   "cell_type": "code",
   "execution_count": null,
   "metadata": {},
   "outputs": [],
   "source": [
    "print(o3d.__version__)"
   ]
  },
  {
   "cell_type": "code",
   "execution_count": null,
   "metadata": {},
   "outputs": [],
   "source": [
    "\n",
    "mesh = o3d.io.read_triangle_mesh(\"data/cup_two/piece_0.obj.ply\")\n",
    "mesh.compute_vertex_normals()\n",
    "pcd = mesh.sample_points_poisson_disk(30000)"
   ]
  },
  {
   "cell_type": "code",
   "execution_count": null,
   "metadata": {},
   "outputs": [],
   "source": [
    "\n",
    "o3d.io.write_point_cloud(\"test0.ply\",pcd)"
   ]
  },
  {
   "cell_type": "code",
   "execution_count": null,
   "metadata": {},
   "outputs": [],
   "source": [
    "Obj1.pcd = pcd"
   ]
  },
  {
   "cell_type": "code",
   "execution_count": null,
   "metadata": {},
   "outputs": [],
   "source": [
    "Obj1.init(15)"
   ]
  },
  {
   "cell_type": "code",
   "execution_count": null,
   "metadata": {},
   "outputs": [],
   "source": [
    "import open3d as o3d\n",
    "import numpy as np\n",
    "from tqdm import tqdm"
   ]
  },
  {
   "cell_type": "code",
   "execution_count": null,
   "metadata": {},
   "outputs": [],
   "source": [
    "# FROM Open3D\n",
    "pcd = o3d.io.read_point_cloud(\"data/cup_two/Mesh.ply\")"
   ]
  },
  {
   "cell_type": "code",
   "execution_count": null,
   "metadata": {},
   "outputs": [],
   "source": [
    "pcd.points"
   ]
  },
  {
   "cell_type": "code",
   "execution_count": null,
   "metadata": {},
   "outputs": [],
   "source": [
    "pcd_tree = o3d.geometry.KDTreeFlann(pcd)"
   ]
  },
  {
   "cell_type": "code",
   "execution_count": null,
   "metadata": {},
   "outputs": [],
   "source": [
    "points = np.asarray(pcd.points)"
   ]
  },
  {
   "cell_type": "code",
   "execution_count": null,
   "metadata": {},
   "outputs": [],
   "source": [
    "print(\"Find its neighbors with distance less than 0.2, and paint them green.\")\n",
    "invalid_points = []\n",
    "for point in tqdm(points):\n",
    "    [k, idx, _] = pcd_tree.search_radius_vector_3d(point, 0.01)\n",
    "    invalid_points.extend(idx)\n",
    "    np.asarray(pcd.colors)[idx[1:], :] = [0, 1, 0]"
   ]
  },
  {
   "cell_type": "code",
   "execution_count": null,
   "metadata": {},
   "outputs": [],
   "source": [
    "len(set(invalid_points))"
   ]
  },
  {
   "cell_type": "code",
   "execution_count": null,
   "metadata": {},
   "outputs": [],
   "source": [
    "print(\"Visualize the point cloud.\")\n",
    "o3d.visualization.draw_geometries([pcd])"
   ]
  },
  {
   "cell_type": "code",
   "execution_count": null,
   "metadata": {},
   "outputs": [],
   "source": [
    "from tqdm import tqdm\n",
    "ln = sum([])\n",
    "with open('test_11.ply', 'w') as f:\n",
    "    f.write('ply\\n')\n",
    "    f.write('format ascii 1.0\\n')\n",
    "    f.write('element vertex '+str(np.asarray(VG_states>0.95).sum())+\"\\n\")\n",
    "    f.write('property float x \\n')\n",
    "    f.write('property float y\\n')\n",
    "    f.write('property float z \\n')\n",
    "    f.write('end_header\\n')\n",
    "    for zi in tqdm(range(N+1)):\n",
    "        f.write(str(xi)+\" \"+str(yi)+\" \"+str(zi)+\"\\n\")\n",
    "f.close()\n"
   ]
  },
  {
   "cell_type": "code",
   "execution_count": null,
   "metadata": {},
   "outputs": [],
   "source": [
    "kernel = np.float64(cv.getStructuringElement(cv.MORPH_ELLIPSE, (13, 13)))\n",
    "kernel /= np.sum(kernel)"
   ]
  },
  {
   "cell_type": "code",
   "execution_count": 36,
   "metadata": {},
   "outputs": [],
   "source": [
    "import helper"
   ]
  },
  {
   "cell_type": "code",
   "execution_count": null,
   "metadata": {},
   "outputs": [],
   "source": []
  },
  {
   "cell_type": "code",
   "execution_count": null,
   "metadata": {},
   "outputs": [
    {
     "name": "stdout",
     "output_type": "stream",
     "text": [
      "trying 0.01 72236\n",
      "trying 0.01 65826\n",
      "trying 0.01 62771\n",
      "trying 0.01 61342\n",
      "trying 0.01 60467\n",
      "trying 0.01 60168\n",
      "trying 0.01 59835\n",
      "trying 0.01 59732\n",
      "trying 0.01 59675\n",
      "trying 0.01 59811\n",
      "trying 0.01 59718\n",
      "trying 0.01 59718\n",
      "trying 0.01 59701\n",
      "trying 0.01 59714\n",
      "trying 0.01 59726\n",
      "trying 0.01 59733\n",
      "trying 0.01 59721\n",
      "trying 0.01 59716\n",
      "trying 0.01 59712\n",
      "trying 0.01 59716\n",
      "trying 0.01 59718\n",
      "trying 0.01 59714\n",
      "trying 0.01 59715\n",
      "trying 0.01 59715\n",
      "trying 0.01 59715\n",
      "trying 0.01 59715\n",
      "trying 0.01 59715\n",
      "trying 0.01 59715\n",
      "trying 0.01 59715\n",
      "trying 0.01 59715\n",
      "trying 0.01 59715\n",
      "trying 0.01 59715\n",
      "trying 0.01 59715\n",
      "trying 0.01 59715\n",
      "trying 0.01 59715\n",
      "trying 0.01 59715\n",
      "trying 0.01 59715\n",
      "trying 0.01 59715\n",
      "trying 0.01 59715\n",
      "trying 0.01 59715\n",
      "trying 0.01 59715\n",
      "trying 0.01 59715\n",
      "trying 0.01 59715\n",
      "trying 0.01 59715\n",
      "trying 0.01 59715\n",
      "trying 0.01 59715\n",
      "trying 0.01 59715\n",
      "trying 0.01 59715\n",
      "trying 0.01 59715\n",
      "trying 0.01 59715\n",
      "trying 0.01 59715\n",
      "trying 0.01 59715\n",
      "trying 0.01 59715\n",
      "trying 0.01 59715\n",
      "trying 0.02 72236\n",
      "trying 0.02 65826\n",
      "trying 0.02 62771\n",
      "trying 0.02 61342\n",
      "trying 0.02 60467\n",
      "trying 0.02 60168\n",
      "trying 0.02 59835\n",
      "trying 0.02 59732\n",
      "trying 0.02 59675\n",
      "trying 0.02 59811\n",
      "trying 0.02 59718\n",
      "trying 0.02 59718\n",
      "trying 0.02 59701\n",
      "trying 0.02 59714\n",
      "trying 0.02 59726\n",
      "trying 0.02 59733\n",
      "trying 0.02 59721\n",
      "trying 0.02 59716\n",
      "trying 0.02 59712\n",
      "trying 0.02 59716\n",
      "trying 0.02 59718\n",
      "trying 0.02 59714\n",
      "trying 0.02 59715\n",
      "trying 0.02 59715\n",
      "trying 0.02 59715\n",
      "trying 0.02 59715\n",
      "trying 0.02 59715\n",
      "trying 0.02 59715\n",
      "trying 0.02 59715\n",
      "trying 0.02 59715\n",
      "trying 0.02 59715\n",
      "trying 0.02 59715\n",
      "trying 0.02 59715\n",
      "trying 0.02 59715\n",
      "trying 0.02 59715\n",
      "trying 0.02 59715\n",
      "trying 0.02 59715\n",
      "trying 0.02 59715\n",
      "trying 0.02 59715\n",
      "trying 0.02 59715\n",
      "trying 0.02 59715\n",
      "trying 0.02 59715\n",
      "trying 0.02 59715\n",
      "trying 0.02 59715\n",
      "trying 0.02 59715\n",
      "trying 0.02 59715\n",
      "trying 0.02 59715\n",
      "trying 0.02 59715\n",
      "trying 0.02 59715\n",
      "trying 0.02 59715\n",
      "trying 0.02 59715\n",
      "trying 0.02 59715\n",
      "trying 0.02 59715\n",
      "trying 0.02 59715\n",
      "trying 0.03 72236\n",
      "trying 0.03 65826\n",
      "trying 0.03 62771\n",
      "trying 0.03 61342\n",
      "trying 0.03 60467\n",
      "trying 0.03 60168\n",
      "trying 0.03 59835\n",
      "trying 0.03 59732\n",
      "trying 0.03 59675\n",
      "trying 0.03 59811\n",
      "trying 0.03 59718\n",
      "trying 0.03 59718\n",
      "trying 0.03 59701\n",
      "trying 0.03 59714\n",
      "trying 0.03 59726\n",
      "trying 0.03 59733\n",
      "trying 0.03 59721\n",
      "trying 0.03 59716\n",
      "trying 0.03 59712\n",
      "trying 0.03 59716\n",
      "trying 0.03 59718\n",
      "trying 0.03 59714\n",
      "trying 0.03 59715\n",
      "trying 0.03 59715\n",
      "trying 0.03 59715\n",
      "trying 0.03 59715\n",
      "trying 0.03 59715\n",
      "trying 0.03 59715\n",
      "trying 0.03 59715\n",
      "trying 0.03 59715\n",
      "trying 0.03 59715\n",
      "trying 0.03 59715\n",
      "trying 0.03 59715\n",
      "trying 0.03 59715\n",
      "trying 0.03 59715\n",
      "trying 0.03 59715\n",
      "trying 0.03 59715\n",
      "trying 0.03 59715\n",
      "trying 0.03 59715\n",
      "trying 0.03 59715\n",
      "trying 0.03 59715\n",
      "trying 0.03 59715\n",
      "trying 0.03 59715\n",
      "trying 0.03 59715\n",
      "trying 0.03 59715\n",
      "trying 0.03 59715\n",
      "trying 0.03 59715\n",
      "trying 0.03 59715\n",
      "trying 0.03 59715\n",
      "trying 0.03 59715\n",
      "trying 0.03 59715\n",
      "trying 0.03 59715\n",
      "trying 0.03 59715\n",
      "trying 0.03 59715\n",
      "trying 0.04 72236\n",
      "trying 0.04 65826\n",
      "trying 0.04 62771\n",
      "trying 0.04 61342\n",
      "trying 0.04 60467\n",
      "trying 0.04 60168\n",
      "trying 0.04 59835\n",
      "trying 0.04 59732\n",
      "trying 0.04 59675\n",
      "trying 0.04 59811\n",
      "trying 0.04 59718\n",
      "trying 0.04 59718\n",
      "trying 0.04 59701\n",
      "trying 0.04 59714\n",
      "trying 0.04 59726\n",
      "trying 0.04 59733\n",
      "trying 0.04 59721\n",
      "trying 0.04 59716\n",
      "trying 0.04 59712\n",
      "trying 0.04 59716\n",
      "trying 0.04 59718\n",
      "trying 0.04 59714\n",
      "trying 0.04 59715\n",
      "trying 0.04 59715\n",
      "trying 0.04 59715\n",
      "trying 0.04 59715\n",
      "trying 0.04 59715\n",
      "trying 0.04 59715\n",
      "trying 0.04 59715\n",
      "trying 0.04 59715\n",
      "trying 0.04 59715\n",
      "trying 0.04 59715\n",
      "trying 0.04 59715\n",
      "trying 0.04 59715\n",
      "trying 0.04 59715\n",
      "trying 0.04 59715\n",
      "trying 0.04 59715\n",
      "trying 0.04 59715\n",
      "trying 0.04 59715\n",
      "trying 0.04 59715\n",
      "trying 0.04 59715\n",
      "trying 0.04 59715\n",
      "trying 0.04 59715\n",
      "trying 0.04 59715\n",
      "trying 0.04 59715\n",
      "trying 0.04 59715\n",
      "trying 0.04 59715\n",
      "trying 0.04 59715\n",
      "trying 0.04 59715\n",
      "trying 0.04 59715\n",
      "trying 0.04 59715\n",
      "trying 0.04 59715\n",
      "trying 0.04 59715\n",
      "trying 0.04 59715\n",
      "trying 0.05 72236\n",
      "trying 0.05 65826\n",
      "trying 0.05 62771\n",
      "trying 0.05 61342\n",
      "trying 0.05 60467\n",
      "trying 0.05 60168\n",
      "trying 0.05 59835\n",
      "trying 0.05 59732\n",
      "trying 0.05 59675\n",
      "trying 0.05 59811\n",
      "trying 0.05 59718\n",
      "trying 0.05 59718\n",
      "trying 0.05 59701\n",
      "trying 0.05 59714\n",
      "trying 0.05 59726\n",
      "trying 0.05 59733\n",
      "trying 0.05 59721\n",
      "trying 0.05 59716\n",
      "trying 0.05 59712\n",
      "trying 0.05 59716\n",
      "trying 0.05 59718\n",
      "trying 0.05 59714\n",
      "trying 0.05 59715\n",
      "trying 0.05 59715\n",
      "trying 0.05 59715\n",
      "trying 0.05 59715\n",
      "trying 0.05 59715\n",
      "trying 0.05 59715\n",
      "trying 0.05 59715\n",
      "trying 0.05 59715\n",
      "trying 0.05 59715\n",
      "trying 0.05 59715\n",
      "trying 0.05 59715\n",
      "trying 0.05 59715\n",
      "trying 0.05 59715\n",
      "trying 0.05 59715\n",
      "trying 0.05 59715\n",
      "trying 0.05 59715\n",
      "trying 0.05 59715\n",
      "trying 0.05 59715\n",
      "trying 0.05 59715\n",
      "trying 0.05 59715\n",
      "trying 0.05 59715\n",
      "trying 0.05 59715\n",
      "trying 0.05 59715\n",
      "trying 0.05 59715\n",
      "trying 0.05 59715\n",
      "trying 0.05 59715\n",
      "trying 0.05 59715\n",
      "trying 0.05 59715\n",
      "trying 0.05 59715\n",
      "trying 0.05 59715\n",
      "trying 0.05 59715\n",
      "trying 0.05 59715\n",
      "trying 0.060000000000000005 72236\n",
      "trying 0.060000000000000005 65826\n",
      "trying 0.060000000000000005 62771\n",
      "trying 0.060000000000000005 61342\n",
      "trying 0.060000000000000005 60467\n",
      "trying 0.060000000000000005 60168\n",
      "trying 0.060000000000000005 59835\n",
      "trying 0.060000000000000005 59732\n",
      "trying 0.060000000000000005 59675\n",
      "trying 0.060000000000000005 59811\n",
      "trying 0.060000000000000005 59718\n",
      "trying 0.060000000000000005 59718\n",
      "trying 0.060000000000000005 59701\n",
      "trying 0.060000000000000005 59714\n",
      "trying 0.060000000000000005 59726\n",
      "trying 0.060000000000000005 59733\n",
      "trying 0.060000000000000005 59721\n",
      "trying 0.060000000000000005 59716\n",
      "trying 0.060000000000000005 59712\n",
      "trying 0.060000000000000005 59716\n",
      "trying 0.060000000000000005 59718\n",
      "trying 0.060000000000000005 59714\n",
      "trying 0.060000000000000005 59715\n",
      "trying 0.060000000000000005 59715\n",
      "trying 0.060000000000000005 59715\n",
      "trying 0.060000000000000005 59715\n",
      "trying 0.060000000000000005 59715\n",
      "trying 0.060000000000000005 59715\n",
      "trying 0.060000000000000005 59715\n",
      "trying 0.060000000000000005 59715\n",
      "trying 0.060000000000000005 59715\n",
      "trying 0.060000000000000005 59715\n",
      "trying 0.060000000000000005 59715\n",
      "trying 0.060000000000000005 59715\n",
      "trying 0.060000000000000005 59715\n",
      "trying 0.060000000000000005 59715\n",
      "trying 0.060000000000000005 59715\n",
      "trying 0.060000000000000005 59715\n",
      "trying 0.060000000000000005 59715\n",
      "trying 0.060000000000000005 59715\n",
      "trying 0.060000000000000005 59715\n",
      "trying 0.060000000000000005 59715\n",
      "trying 0.060000000000000005 59715\n",
      "trying 0.060000000000000005 59715\n",
      "trying 0.060000000000000005 59715\n",
      "trying 0.060000000000000005 59715\n",
      "trying 0.060000000000000005 59715\n",
      "trying 0.060000000000000005 59715\n",
      "trying 0.060000000000000005 59715\n",
      "trying 0.060000000000000005 59715\n",
      "trying 0.060000000000000005 59715\n",
      "trying 0.060000000000000005 59715\n",
      "trying 0.060000000000000005 59715\n",
      "trying 0.060000000000000005 59715\n",
      "trying 0.07 72236\n",
      "trying 0.07 65826\n",
      "trying 0.07 62771\n",
      "trying 0.07 61342\n",
      "trying 0.07 60467\n",
      "trying 0.07 60168\n",
      "trying 0.07 59835\n",
      "trying 0.07 59732\n",
      "trying 0.07 59675\n",
      "trying 0.07 59811\n",
      "trying 0.07 59718\n",
      "trying 0.07 59718\n",
      "trying 0.07 59701\n",
      "trying 0.07 59714\n",
      "trying 0.07 59726\n",
      "trying 0.07 59733\n",
      "trying 0.07 59721\n",
      "trying 0.07 59716\n",
      "trying 0.07 59712\n",
      "trying 0.07 59716\n",
      "trying 0.07 59718\n",
      "trying 0.07 59714\n",
      "trying 0.07 59715\n",
      "trying 0.07 59715\n",
      "trying 0.07 59715\n",
      "trying 0.07 59715\n",
      "trying 0.07 59715\n",
      "trying 0.07 59715\n",
      "trying 0.07 59715\n",
      "trying 0.07 59715\n",
      "trying 0.07 59715\n",
      "trying 0.07 59715\n",
      "trying 0.07 59715\n",
      "trying 0.07 59715\n",
      "trying 0.07 59715\n",
      "trying 0.07 59715\n",
      "trying 0.07 59715\n",
      "trying 0.07 59715\n",
      "trying 0.07 59715\n",
      "trying 0.07 59715\n",
      "trying 0.07 59715\n",
      "trying 0.07 59715\n",
      "trying 0.07 59715\n",
      "trying 0.07 59715\n",
      "trying 0.07 59715\n",
      "trying 0.07 59715\n",
      "trying 0.07 59715\n",
      "trying 0.07 59715\n",
      "trying 0.07 59715\n",
      "trying 0.07 59715\n",
      "trying 0.07 59715\n",
      "trying 0.07 59715\n",
      "trying 0.07 59715\n",
      "trying 0.07 59715\n",
      "trying 0.08 72236\n",
      "trying 0.08 65826\n",
      "trying 0.08 62771\n",
      "trying 0.08 61342\n",
      "trying 0.08 60467\n",
      "trying 0.08 60168\n",
      "trying 0.08 59835\n",
      "trying 0.08 59732\n",
      "trying 0.08 59675\n",
      "trying 0.08 59811\n",
      "trying 0.08 59718\n",
      "trying 0.08 59718\n",
      "trying 0.08 59701\n",
      "trying 0.08 59714\n",
      "trying 0.08 59726\n",
      "trying 0.08 59733\n",
      "trying 0.08 59721\n",
      "trying 0.08 59716\n",
      "trying 0.08 59712\n",
      "trying 0.08 59716\n",
      "trying 0.08 59718\n",
      "trying 0.08 59714\n",
      "trying 0.08 59715\n",
      "trying 0.08 59715\n",
      "trying 0.08 59715\n",
      "trying 0.08 59715\n",
      "trying 0.08 59715\n",
      "trying 0.08 59715\n",
      "trying 0.08 59715\n",
      "trying 0.08 59715\n"
     ]
    },
    {
     "name": "stdout",
     "output_type": "stream",
     "text": [
      "trying 0.08 59715\n",
      "trying 0.08 59715\n",
      "trying 0.08 59715\n",
      "trying 0.08 59715\n",
      "trying 0.08 59715\n",
      "trying 0.08 59715\n",
      "trying 0.08 59715\n",
      "trying 0.08 59715\n",
      "trying 0.08 59715\n",
      "trying 0.08 59715\n",
      "trying 0.08 59715\n",
      "trying 0.08 59715\n",
      "trying 0.08 59715\n",
      "trying 0.08 59715\n",
      "trying 0.08 59715\n",
      "trying 0.08 59715\n",
      "trying 0.08 59715\n",
      "trying 0.08 59715\n",
      "trying 0.08 59715\n",
      "trying 0.08 59715\n",
      "trying 0.08 59715\n",
      "trying 0.08 59715\n",
      "trying 0.08 59715\n",
      "trying 0.08 59715\n",
      "trying 0.09 72236\n",
      "trying 0.09 65826\n",
      "trying 0.09 62771\n",
      "trying 0.09 61342\n",
      "trying 0.09 60467\n",
      "trying 0.09 60168\n",
      "trying 0.09 59835\n",
      "trying 0.09 59732\n",
      "trying 0.09 59675\n",
      "trying 0.09 59811\n",
      "trying 0.09 59718\n",
      "trying 0.09 59718\n",
      "trying 0.09 59701\n",
      "trying 0.09 59714\n",
      "trying 0.09 59726\n",
      "trying 0.09 59733\n",
      "trying 0.09 59721\n",
      "trying 0.09 59716\n",
      "trying 0.09 59712\n",
      "trying 0.09 59716\n",
      "trying 0.09 59718\n",
      "trying 0.09 59714\n",
      "trying 0.09 59715\n",
      "trying 0.09 59715\n",
      "trying 0.09 59715\n",
      "trying 0.09 59715\n",
      "trying 0.09 59715\n",
      "trying 0.09 59715\n",
      "trying 0.09 59715\n",
      "trying 0.09 59715\n",
      "trying 0.09 59715\n",
      "trying 0.09 59715\n",
      "trying 0.09 59715\n",
      "trying 0.09 59715\n",
      "trying 0.09 59715\n",
      "trying 0.09 59715\n",
      "trying 0.09 59715\n",
      "trying 0.09 59715\n",
      "trying 0.09 59715\n",
      "trying 0.09 59715\n",
      "trying 0.09 59715\n",
      "trying 0.09 59715\n",
      "trying 0.09 59715\n",
      "trying 0.09 59715\n",
      "trying 0.09 59715\n",
      "trying 0.09 59715\n",
      "trying 0.09 59715\n",
      "trying 0.09 59715\n",
      "trying 0.09 59715\n",
      "trying 0.09 59715\n",
      "trying 0.09 59715\n",
      "trying 0.09 59715\n",
      "trying 0.09 59715\n",
      "trying 0.09 59715\n",
      "trying 0.09999999999999999 72236\n",
      "trying 0.09999999999999999 65826\n",
      "trying 0.09999999999999999 62771\n",
      "trying 0.09999999999999999 61342\n",
      "trying 0.09999999999999999 60467\n",
      "trying 0.09999999999999999 60168\n",
      "trying 0.09999999999999999 59835\n",
      "trying 0.09999999999999999 59732\n",
      "trying 0.09999999999999999 59675\n",
      "trying 0.09999999999999999 59811\n",
      "trying 0.09999999999999999 59718\n",
      "trying 0.09999999999999999 59718\n",
      "trying 0.09999999999999999 59701\n",
      "trying 0.09999999999999999 59714\n",
      "trying 0.09999999999999999 59726\n",
      "trying 0.09999999999999999 59733\n",
      "trying 0.09999999999999999 59721\n",
      "trying 0.09999999999999999 59716\n",
      "trying 0.09999999999999999 59712\n",
      "trying 0.09999999999999999 59716\n",
      "trying 0.09999999999999999 59718\n",
      "trying 0.09999999999999999 59714\n",
      "trying 0.09999999999999999 59715\n",
      "trying 0.09999999999999999 59715\n",
      "trying 0.09999999999999999 59715\n",
      "trying 0.09999999999999999 59715\n",
      "trying 0.09999999999999999 59715\n",
      "trying 0.09999999999999999 59715\n",
      "trying 0.09999999999999999 59715\n",
      "trying 0.09999999999999999 59715\n",
      "trying 0.09999999999999999 59715\n",
      "trying 0.09999999999999999 59715\n",
      "trying 0.09999999999999999 59715\n",
      "trying 0.09999999999999999 59715\n",
      "trying 0.09999999999999999 59715\n",
      "trying 0.09999999999999999 59715\n",
      "trying 0.09999999999999999 59715\n",
      "trying 0.09999999999999999 59715\n",
      "trying 0.09999999999999999 59715\n",
      "trying 0.09999999999999999 59715\n",
      "trying 0.09999999999999999 59715\n",
      "trying 0.09999999999999999 59715\n",
      "trying 0.09999999999999999 59715\n",
      "trying 0.09999999999999999 59715\n",
      "trying 0.09999999999999999 59715\n",
      "trying 0.09999999999999999 59715\n",
      "trying 0.09999999999999999 59715\n",
      "trying 0.09999999999999999 59715\n",
      "trying 0.09999999999999999 59715\n",
      "trying 0.09999999999999999 59715\n",
      "trying 0.09999999999999999 59715\n",
      "trying 0.09999999999999999 59715\n",
      "trying 0.09999999999999999 59715\n",
      "trying 0.09999999999999999 59715\n",
      "trying 0.10999999999999999 72236\n",
      "trying 0.10999999999999999 65826\n",
      "trying 0.10999999999999999 62771\n",
      "trying 0.10999999999999999 61342\n",
      "trying 0.10999999999999999 60467\n",
      "trying 0.10999999999999999 60168\n",
      "trying 0.10999999999999999 59835\n",
      "trying 0.10999999999999999 59732\n",
      "trying 0.10999999999999999 59675\n",
      "trying 0.10999999999999999 59811\n",
      "trying 0.10999999999999999 59718\n",
      "trying 0.10999999999999999 59718\n",
      "trying 0.10999999999999999 59701\n",
      "trying 0.10999999999999999 59714\n",
      "trying 0.10999999999999999 59726\n",
      "trying 0.10999999999999999 59733\n",
      "trying 0.10999999999999999 59721\n",
      "trying 0.10999999999999999 59716\n",
      "trying 0.10999999999999999 59712\n",
      "trying 0.10999999999999999 59716\n",
      "trying 0.10999999999999999 59718\n",
      "trying 0.10999999999999999 59714\n",
      "trying 0.10999999999999999 59715\n",
      "trying 0.10999999999999999 59715\n",
      "trying 0.10999999999999999 59715\n",
      "trying 0.10999999999999999 59715\n"
     ]
    }
   ],
   "source": [
    "pcd = o3d.io.read_point_cloud(\"data_test/group8_1/RPf_00059_gt.ply\")\n",
    "print(helper.down_sample_to(pcd,30000))"
   ]
  },
  {
   "cell_type": "code",
   "execution_count": 19,
   "metadata": {},
   "outputs": [],
   "source": [
    "import open3d as o3d\n",
    "import numpy as np  \n",
    "pcd = o3d.io.read_point_cloud(\"data_test/group8_1/RPf_00059_gt.ply\")\n",
    "vd = 0.99999\n",
    "downpcd = pcd.voxel_down_sample(voxel_size=vd)"
   ]
  },
  {
   "cell_type": "code",
   "execution_count": 20,
   "metadata": {},
   "outputs": [
    {
     "data": {
      "text/plain": [
       "584806"
      ]
     },
     "execution_count": 20,
     "metadata": {},
     "output_type": "execute_result"
    }
   ],
   "source": [
    "len(pcd.points)"
   ]
  },
  {
   "cell_type": "code",
   "execution_count": 21,
   "metadata": {},
   "outputs": [
    {
     "data": {
      "text/plain": [
       "27488"
      ]
     },
     "execution_count": 21,
     "metadata": {},
     "output_type": "execute_result"
    }
   ],
   "source": [
    "len(downpcd.points)"
   ]
  },
  {
   "cell_type": "code",
   "execution_count": null,
   "metadata": {},
   "outputs": [],
   "source": []
  }
 ],
 "metadata": {
  "kernelspec": {
   "display_name": "Python [conda env:thesis]",
   "language": "python",
   "name": "conda-env-thesis-py"
  },
  "language_info": {
   "codemirror_mode": {
    "name": "ipython",
    "version": 3
   },
   "file_extension": ".py",
   "mimetype": "text/x-python",
   "name": "python",
   "nbconvert_exporter": "python",
   "pygments_lexer": "ipython3",
   "version": "3.9.12"
  }
 },
 "nbformat": 4,
 "nbformat_minor": 4
}
