{
 "cells": [
  {
   "cell_type": "code",
   "execution_count": 1,
   "id": "37ecb06f",
   "metadata": {},
   "outputs": [],
   "source": [
    "import os\n",
    "import itertools\n",
    "import numpy as np\n",
    "import json\n",
    "import pandas as pd"
   ]
  },
  {
   "cell_type": "code",
   "execution_count": 2,
   "id": "b13e9a16",
   "metadata": {},
   "outputs": [],
   "source": [
    "def save(name,test,number):\n",
    "    import os\n",
    "    from copy import deepcopy\n",
    "    import open3d as o3d\n",
    "    # Directory\n",
    "    directory = name\n",
    "\n",
    "    # Parent Directory path\n",
    "    parent_dir = \"results/breaking_bad\"\n",
    "\n",
    "    # Path\n",
    "    path = os.path.join(parent_dir, directory)\n",
    "\n",
    "    os.mkdir(path)\n",
    "    \n",
    "    \n",
    "    path_error = os.path.join(path, \"error.csv\")\n",
    "    \n",
    "    df_test = pd.DataFrame(test.results)\n",
    "    df_test[\"total\"] = df_test[\"R_error\"]+df_test[\"T_error\"]\n",
    "    df_test[\"transformations\"] = [el[2] for el in test.result_transformation_arr]\n",
    "    df_test.to_csv(path_error, encoding='utf-8')\n",
    "    \n",
    "    idx = number\n",
    "    \n",
    "    \n",
    "    pcd1 = deepcopy(test.Obj1.pcd)\n",
    "    pcd2 = deepcopy(test.Obj2.pcd)\n",
    "    pcd1.colors = o3d.utility.Vector3dVector(np.asarray([(0,1,0) for _ in pcd1.points]).astype(\"float\"))\n",
    "    pcd2.colors = o3d.utility.Vector3dVector(np.asarray([(0,0,1) for _ in pcd2.points]).astype(\"float\"))\n",
    "    pcd2.transform(np.eye(4))\n",
    "    o3d.io.write_point_cloud(os.path.join(path, \"Obj1_before.ply\"), pcd1, compressed=True)\n",
    "    o3d.io.write_point_cloud(os.path.join(path, \"Obj2_before.ply\"), pcd2, compressed=True)\n",
    "\n",
    "    pcd2.transform(test.result_transformation_arr[idx][2])\n",
    "    o3d.io.write_point_cloud(os.path.join(path, \"Obj1_after.ply\"), pcd1, compressed=True)\n",
    "    o3d.io.write_point_cloud(os.path.join(path, \"Obj2_after.ply\"), pcd2, compressed=True)\n",
    "    print(\"saved\")\n",
    "    \n",
    "    \n",
    "def do_object(name,Obj1_url,Obj2_url):\n",
    "    import ast\n",
    "\n",
    "    from runner import test\n",
    "    import numpy as np\n",
    "\n",
    "    number = 192\n",
    "\n",
    "    #objects\n",
    "    Obj1_url =  Obj1_url\n",
    "    Obj2_url =  Obj2_url\n",
    "\n",
    "    #Before Evaluate do a Rotation and translation of\n",
    "    init_R_T = ((0.2, 0.2, 0.1), (-0.5, -0.5, -0.5))\n",
    "\n",
    "\n",
    "    #pipline name and pipline parameters\n",
    "    pipline_name = \"pipline_breaking\"\n",
    "\n",
    "    N = 15\n",
    "    t1 = 100\n",
    "    t2 = 100\n",
    "    t3 = 100\n",
    "\n",
    "\n",
    "    #threshold for corner\n",
    "    thre = 0.95\n",
    "\n",
    "    pipline_variables = (N, t1, t2, t3, thre)\n",
    "\n",
    "    #test\n",
    "    test_name = \"ICP_test\"\n",
    "\n",
    "    # eval \n",
    "\n",
    "    eval_list = [\"rms\"]\n",
    "\n",
    "    test_breaking_4 = test(Obj2_url, Obj1_url, init_R_T, pipline_name, pipline_variables, test_name, eval_list, show_results = True, save_results=False)\n",
    "\n",
    "    my_results = test_breaking_4.run()\n",
    "    import pandas as pd\n",
    "    df_breaking_4 = pd.DataFrame(test_breaking_4.results)\n",
    "    df_breaking_4[\"total\"] = df_breaking_4[\"R_error\"]+df_breaking_4[\"T_error\"]\n",
    "    df_breaking_4.sort_values('T_error')\n",
    "    min_number = df_breaking_4['T_error'].idxmin()\n",
    "    save(name,test_breaking_4,min_number)\n",
    "    print(name,\"--> DONE --> \",str(df_breaking_4['T_error'][min_number]))\n",
    "    \n",
    "def get_all_pairs(folder):\n",
    "    all_data = []\n",
    "    data = []\n",
    "    for dirpath, dirnames, filenames in os.walk(folder):\n",
    "        for filename in [f for f in filenames if f.endswith(\".obj\")]:\n",
    "            data.append((dirpath, os.path.join(dirpath, filename)))\n",
    "    key_func = lambda x: x[0]\n",
    "    for key, group in itertools.groupby(data, key_func):\n",
    "        \n",
    "        all_data.append([((\"_\".join(\"_\".join(filename.split('/')[-1:]).split(\"\\\\\")[:-1])),filename) for dirname, filename in list(group)])\n",
    "    return all_data\n",
    "\n",
    "def do_all_objects(folder):\n",
    "    data = []\n",
    "    pairs = get_all_pairs(folder)\n",
    "    print(pairs)\n",
    "    for test in pairs:\n",
    "        pair1,pair2 = test\n",
    "        name = pair1[0]\n",
    "        Obj_url_1 = pair1[1]\n",
    "        Obj_url_2 = pair2[1]\n",
    "        do_object(name,Obj_url_1,Obj_url_2)\n",
    "        data.append({ \"name\":name,\"init_R_T\":((0.2, 0.2, 0.1), (-1, -1, 2)),\"Obj1_url\":Obj_url_1, \"Obj2_url\":Obj_url_2})\n",
    "    # Serialize data into file:\n",
    "    json.dump( data, open( folder+\"/results.json\", 'w' ) )"
   ]
  },
  {
   "cell_type": "code",
   "execution_count": null,
   "id": "0aeb277f",
   "metadata": {
    "scrolled": true
   },
   "outputs": [
    {
     "name": "stdout",
     "output_type": "stream",
     "text": [
      "[[('DrinkBottle_fractured_62', 'data_test/breaking_bad/DrinkBottle\\\\fractured_62\\\\piece_1 (1).obj'), ('DrinkBottle_fractured_62', 'data_test/breaking_bad/DrinkBottle\\\\fractured_62\\\\piece_1 (2).obj')], [('DrinkBottle_fractured_70', 'data_test/breaking_bad/DrinkBottle\\\\fractured_70\\\\piece_0.obj'), ('DrinkBottle_fractured_70', 'data_test/breaking_bad/DrinkBottle\\\\fractured_70\\\\piece_1.obj')], [('PillBottle_fractured_40', 'data_test/breaking_bad/PillBottle\\\\fractured_40\\\\piece_0.obj'), ('PillBottle_fractured_40', 'data_test/breaking_bad/PillBottle\\\\fractured_40\\\\piece_1.obj')], [('PillBottle_fractured_62', 'data_test/breaking_bad/PillBottle\\\\fractured_62\\\\piece_0.obj'), ('PillBottle_fractured_62', 'data_test/breaking_bad/PillBottle\\\\fractured_62\\\\piece_1.obj')], [('WineBottle_fractured_14', 'data_test/breaking_bad/WineBottle\\\\fractured_14\\\\piece_0.obj'), ('WineBottle_fractured_14', 'data_test/breaking_bad/WineBottle\\\\fractured_14\\\\piece_1.obj')], [('WineBottle_fractured_3', 'data_test/breaking_bad/WineBottle\\\\fractured_3\\\\piece_0.obj'), ('WineBottle_fractured_3', 'data_test/breaking_bad/WineBottle\\\\fractured_3\\\\piece_1.obj')], [('WineBottle_fractured_30', 'data_test/breaking_bad/WineBottle\\\\fractured_30\\\\piece_0.obj'), ('WineBottle_fractured_30', 'data_test/breaking_bad/WineBottle\\\\fractured_30\\\\piece_1.obj')]]\n",
      "Jupyter environment detected. Enabling Open3D WebVisualizer.\n",
      "[Open3D INFO] WebRTC GUI backend enabled.\n",
      "[Open3D INFO] WebRTCWindowSystem: HTTP handshake server disabled.\n",
      "_________________________First Object_________________________\n",
      "start\n",
      "1 (2).obj\n",
      "starting init\n",
      "starting calculating atts\n"
     ]
    },
    {
     "name": "stderr",
     "output_type": "stream",
     "text": [
      "100%|██████████████████████████████████████████████████████████████████████████| 40000/40000 [00:15<00:00, 2635.94it/s]\n"
     ]
    },
    {
     "name": "stdout",
     "output_type": "stream",
     "text": [
      "starting calculating w_co\n",
      "my radius is :  0.00795774997591665\n",
      "432800\n",
      "After graph 40000\n",
      "constructing borders\n",
      "2068\n",
      "shortest_allowed_branch_length 2.0\n",
      "smallest_isolated_island_length 2.0\n",
      "shortest_cycle_length 2.0\n",
      "my radius is :  0.016082463157644233\n",
      "43996\n",
      "After graph 2063\n",
      "After Pruning 2063\n",
      "After Pruning 2063\n",
      "dilation and segmentation\n",
      "borders dilated\n"
     ]
    },
    {
     "name": "stderr",
     "output_type": "stream",
     "text": [
      "365897it [01:26, 3191.89it/s]                                                                                          "
     ]
    },
    {
     "name": "stdout",
     "output_type": "stream",
     "text": [
      "34061\n",
      "2\n"
     ]
    },
    {
     "name": "stderr",
     "output_type": "stream",
     "text": [
      "398840it [01:34, 3500.82it/s]"
     ]
    },
    {
     "name": "stdout",
     "output_type": "stream",
     "text": [
      "3019\n",
      "1\n",
      "6\n",
      "7\n",
      "11\n",
      "2\n",
      "4\n",
      "14\n",
      "3\n"
     ]
    },
    {
     "name": "stderr",
     "output_type": "stream",
     "text": [
      "399686it [01:34, 4212.11it/s]"
     ]
    },
    {
     "name": "stdout",
     "output_type": "stream",
     "text": [
      "5\n",
      "1\n",
      "3\n",
      "2\n",
      "1\n",
      "3\n",
      "4\n",
      "1\n",
      "6\n",
      "3\n",
      "3\n",
      "10\n",
      "1\n",
      "5\n",
      "2\n",
      "6\n",
      "got faces\n"
     ]
    },
    {
     "name": "stderr",
     "output_type": "stream",
     "text": [
      "\n"
     ]
    },
    {
     "name": "stdout",
     "output_type": "stream",
     "text": [
      "KNN Radius :  0.00795774997591665\n",
      "51\n",
      "expanded\n",
      "coloring\n",
      "_________________________Second Object_________________________\n",
      "start\n",
      "1 (1).obj\n",
      "starting init\n",
      "starting calculating atts\n"
     ]
    },
    {
     "name": "stderr",
     "output_type": "stream",
     "text": [
      "100%|██████████████████████████████████████████████████████████████████████████| 40000/40000 [00:13<00:00, 2961.51it/s]\n"
     ]
    },
    {
     "name": "stdout",
     "output_type": "stream",
     "text": [
      "starting calculating w_co\n",
      "my radius is :  0.005453704995925584\n",
      "409322\n",
      "After graph 40000\n",
      "constructing borders\n",
      "1389\n",
      "shortest_allowed_branch_length 2.0\n",
      "smallest_isolated_island_length 2.0\n",
      "shortest_cycle_length 2.0\n",
      "my radius is :  0.01581747613979193\n",
      "43765\n",
      "After graph 1385\n",
      "After Pruning 1379\n",
      "After Pruning 1385\n",
      "dilation and segmentation\n",
      "borders dilated\n"
     ]
    },
    {
     "name": "stderr",
     "output_type": "stream",
     "text": [
      "316497it [01:37, 2767.39it/s]                                                                                          "
     ]
    },
    {
     "name": "stdout",
     "output_type": "stream",
     "text": [
      "31043\n"
     ]
    },
    {
     "name": "stderr",
     "output_type": "stream",
     "text": [
      "381773it [01:56, 2328.94it/s]"
     ]
    },
    {
     "name": "stdout",
     "output_type": "stream",
     "text": [
      "6449\n",
      "1\n"
     ]
    },
    {
     "name": "stderr",
     "output_type": "stream",
     "text": [
      "382131it [01:57, 3265.16it/s]"
     ]
    },
    {
     "name": "stdout",
     "output_type": "stream",
     "text": [
      "39\n",
      "2\n",
      "1\n",
      "2\n",
      "4\n",
      "got faces\n"
     ]
    },
    {
     "name": "stderr",
     "output_type": "stream",
     "text": [
      "\n"
     ]
    },
    {
     "name": "stdout",
     "output_type": "stream",
     "text": [
      "KNN Radius :  0.005453704995925584\n",
      "25\n",
      "expanded\n",
      "coloring\n",
      "_________________________Registeration_________________________\n",
      "_________________________Evaluation_________________________\n",
      "saved\n",
      "DrinkBottle_fractured_62 --> DONE -->  0.0029476841017198247\n",
      "_________________________First Object_________________________\n",
      "start\n",
      "1.obj\n",
      "starting init\n",
      "starting calculating atts\n"
     ]
    },
    {
     "name": "stderr",
     "output_type": "stream",
     "text": [
      "100%|██████████████████████████████████████████████████████████████████████████| 40000/40000 [00:15<00:00, 2540.16it/s]\n"
     ]
    },
    {
     "name": "stdout",
     "output_type": "stream",
     "text": [
      "starting calculating w_co\n",
      "my radius is :  0.0036413478085781576\n",
      "406836\n",
      "After graph 40000\n",
      "constructing borders\n",
      "4134\n",
      "shortest_allowed_branch_length 2.0\n",
      "smallest_isolated_island_length 2.0\n",
      "shortest_cycle_length 2.0\n",
      "my radius is :  0.0069098415716051685\n",
      "97488\n",
      "After graph 4120\n",
      "After Pruning 4108\n",
      "After Pruning 4120\n",
      "dilation and segmentation\n",
      "borders dilated\n"
     ]
    },
    {
     "name": "stderr",
     "output_type": "stream",
     "text": [
      " 70%|████████████████████████████████████████████████████▏                      | 27842/40000 [01:12<00:30, 393.06it/s]"
     ]
    },
    {
     "name": "stdout",
     "output_type": "stream",
     "text": [
      "2745\n"
     ]
    },
    {
     "name": "stderr",
     "output_type": "stream",
     "text": [
      "235290it [10:41, 258.70it/s]                                                                                           "
     ]
    },
    {
     "name": "stdout",
     "output_type": "stream",
     "text": [
      "20993\n"
     ]
    },
    {
     "name": "stderr",
     "output_type": "stream",
     "text": [
      "304506it [13:50, 403.36it/s]"
     ]
    },
    {
     "name": "stdout",
     "output_type": "stream",
     "text": [
      "6950\n",
      "8\n",
      "1\n",
      "1\n"
     ]
    },
    {
     "name": "stderr",
     "output_type": "stream",
     "text": [
      "\r",
      "304555it [13:51, 173.52it/s]"
     ]
    },
    {
     "name": "stdout",
     "output_type": "stream",
     "text": [
      "4\n",
      "3\n"
     ]
    },
    {
     "name": "stderr",
     "output_type": "stream",
     "text": [
      "\r",
      "304594it [13:51, 149.86it/s]"
     ]
    },
    {
     "name": "stdout",
     "output_type": "stream",
     "text": [
      "4\n"
     ]
    },
    {
     "name": "stderr",
     "output_type": "stream",
     "text": [
      "304738it [13:53, 138.92it/s]"
     ]
    },
    {
     "name": "stdout",
     "output_type": "stream",
     "text": [
      "6\n",
      "5\n",
      "3\n",
      "1\n"
     ]
    },
    {
     "name": "stderr",
     "output_type": "stream",
     "text": [
      "304839it [13:53, 178.32it/s]"
     ]
    },
    {
     "name": "stdout",
     "output_type": "stream",
     "text": [
      "7\n",
      "1\n"
     ]
    },
    {
     "name": "stderr",
     "output_type": "stream",
     "text": [
      "\r",
      "304869it [13:54, 135.68it/s]"
     ]
    },
    {
     "name": "stdout",
     "output_type": "stream",
     "text": [
      "1\n",
      "2\n",
      "1\n",
      "1\n"
     ]
    },
    {
     "name": "stderr",
     "output_type": "stream",
     "text": [
      "304928it [13:56, 54.02it/s] "
     ]
    },
    {
     "name": "stdout",
     "output_type": "stream",
     "text": [
      "4\n",
      "2\n",
      "2\n"
     ]
    },
    {
     "name": "stderr",
     "output_type": "stream",
     "text": [
      "\r",
      "304974it [13:57, 58.85it/s]"
     ]
    },
    {
     "name": "stdout",
     "output_type": "stream",
     "text": [
      "3\n"
     ]
    },
    {
     "name": "stderr",
     "output_type": "stream",
     "text": [
      "305453it [13:59, 341.38it/s]"
     ]
    },
    {
     "name": "stdout",
     "output_type": "stream",
     "text": [
      "48\n"
     ]
    },
    {
     "name": "stderr",
     "output_type": "stream",
     "text": [
      "305540it [13:59, 184.89it/s]"
     ]
    },
    {
     "name": "stdout",
     "output_type": "stream",
     "text": [
      "10\n",
      "1\n"
     ]
    },
    {
     "name": "stderr",
     "output_type": "stream",
     "text": [
      "\r",
      "305571it [14:00, 159.63it/s]"
     ]
    },
    {
     "name": "stdout",
     "output_type": "stream",
     "text": [
      "1\n",
      "1\n",
      "1\n"
     ]
    },
    {
     "name": "stderr",
     "output_type": "stream",
     "text": [
      "305623it [14:01, 72.55it/s] "
     ]
    },
    {
     "name": "stdout",
     "output_type": "stream",
     "text": [
      "1\n",
      "2\n",
      "1\n"
     ]
    },
    {
     "name": "stderr",
     "output_type": "stream",
     "text": [
      "305623it [14:02, 362.86it/s]\n"
     ]
    },
    {
     "name": "stdout",
     "output_type": "stream",
     "text": [
      "got faces\n",
      "KNN Radius :  0.0036413478085781576\n",
      "307\n",
      "expanded\n",
      "coloring\n",
      "_________________________Second Object_________________________\n",
      "start\n",
      "0.obj\n",
      "starting init\n",
      "starting calculating atts\n"
     ]
    },
    {
     "name": "stderr",
     "output_type": "stream",
     "text": [
      "100%|██████████████████████████████████████████████████████████████████████████| 40000/40000 [00:15<00:00, 2580.58it/s]\n"
     ]
    },
    {
     "name": "stdout",
     "output_type": "stream",
     "text": [
      "starting calculating w_co\n",
      "my radius is :  0.010781022623781195\n",
      "429100\n",
      "After graph 40000\n",
      "constructing borders\n",
      "2855\n",
      "shortest_allowed_branch_length 2.0\n",
      "smallest_isolated_island_length 2.0\n",
      "shortest_cycle_length 2.0\n",
      "my radius is :  0.01938147361892759\n",
      "39021\n",
      "After graph 2855\n",
      "After Pruning 2853\n",
      "After Pruning 2855\n",
      "dilation and segmentation\n",
      "borders dilated\n"
     ]
    },
    {
     "name": "stderr",
     "output_type": "stream",
     "text": [
      "389897it [01:35, 3228.27it/s]                                                                                          "
     ]
    },
    {
     "name": "stdout",
     "output_type": "stream",
     "text": [
      "36437\n",
      "2\n",
      "26\n",
      "1\n"
     ]
    },
    {
     "name": "stderr",
     "output_type": "stream",
     "text": [
      "\r",
      "390273it [01:35, 2603.73it/s]"
     ]
    },
    {
     "name": "stdout",
     "output_type": "stream",
     "text": [
      "1\n",
      "2\n",
      "1\n",
      "1\n",
      "3\n",
      "1\n",
      "10\n",
      "2\n",
      "2\n",
      "1\n"
     ]
    },
    {
     "name": "stderr",
     "output_type": "stream",
     "text": [
      "390295it [01:35, 4072.55it/s]\n"
     ]
    },
    {
     "name": "stdout",
     "output_type": "stream",
     "text": [
      "got faces\n",
      "KNN Radius :  0.010781022623781195\n",
      "54\n",
      "expanded\n",
      "coloring\n",
      "_________________________Registeration_________________________\n",
      "_________________________Evaluation_________________________\n",
      "saved\n",
      "DrinkBottle_fractured_70 --> DONE -->  1.0620694264584714\n",
      "_________________________First Object_________________________\n",
      "start\n",
      "1.obj\n",
      "starting init\n",
      "starting calculating atts\n"
     ]
    },
    {
     "name": "stderr",
     "output_type": "stream",
     "text": [
      "100%|██████████████████████████████████████████████████████████████████████████| 40000/40000 [00:15<00:00, 2662.10it/s]\n"
     ]
    },
    {
     "name": "stdout",
     "output_type": "stream",
     "text": [
      "starting calculating w_co\n",
      "my radius is :  0.0052715152898412465\n",
      "420528\n",
      "After graph 40000\n",
      "constructing borders\n",
      "1938\n",
      "shortest_allowed_branch_length 2.0\n",
      "smallest_isolated_island_length 2.0\n",
      "shortest_cycle_length 2.0\n",
      "my radius is :  0.013076409591287926\n",
      "52286\n",
      "After graph 1929\n",
      "After Pruning 1921\n",
      "After Pruning 1929\n",
      "dilation and segmentation\n",
      "borders dilated\n"
     ]
    },
    {
     "name": "stderr",
     "output_type": "stream",
     "text": [
      "157623it [01:48, 2164.79it/s]                                                                                          "
     ]
    },
    {
     "name": "stdout",
     "output_type": "stream",
     "text": [
      "15111\n"
     ]
    },
    {
     "name": "stderr",
     "output_type": "stream",
     "text": [
      "374706it [04:19, 1581.97it/s]"
     ]
    },
    {
     "name": "stdout",
     "output_type": "stream",
     "text": [
      "20822\n"
     ]
    },
    {
     "name": "stderr",
     "output_type": "stream",
     "text": [
      "375021it [04:20, 851.46it/s] "
     ]
    },
    {
     "name": "stdout",
     "output_type": "stream",
     "text": [
      "1\n"
     ]
    },
    {
     "name": "stderr",
     "output_type": "stream",
     "text": [
      "381361it [04:27, 560.06it/s] "
     ]
    },
    {
     "name": "stdout",
     "output_type": "stream",
     "text": [
      "621\n",
      "4\n"
     ]
    },
    {
     "name": "stderr",
     "output_type": "stream",
     "text": [
      "381499it [04:28, 535.98it/s]"
     ]
    },
    {
     "name": "stdout",
     "output_type": "stream",
     "text": [
      "1\n"
     ]
    },
    {
     "name": "stderr",
     "output_type": "stream",
     "text": [
      "\r",
      "381596it [04:28, 634.20it/s]"
     ]
    },
    {
     "name": "stdout",
     "output_type": "stream",
     "text": [
      "20\n"
     ]
    },
    {
     "name": "stderr",
     "output_type": "stream",
     "text": [
      "381596it [04:28, 1419.18it/s]\n"
     ]
    },
    {
     "name": "stdout",
     "output_type": "stream",
     "text": [
      "got faces\n",
      "KNN Radius :  0.0052715152898412465\n",
      "87\n",
      "expanded\n",
      "coloring\n",
      "_________________________Second Object_________________________\n",
      "start\n",
      "0.obj\n",
      "starting init\n",
      "starting calculating atts\n"
     ]
    },
    {
     "name": "stderr",
     "output_type": "stream",
     "text": [
      "100%|██████████████████████████████████████████████████████████████████████████| 40000/40000 [00:19<00:00, 2040.57it/s]\n"
     ]
    },
    {
     "name": "stdout",
     "output_type": "stream",
     "text": [
      "starting calculating w_co\n",
      "my radius is :  0.012537908120497982\n",
      "419876\n",
      "After graph 40000\n",
      "constructing borders\n",
      "1721\n",
      "shortest_allowed_branch_length 2.0\n",
      "smallest_isolated_island_length 2.0\n",
      "shortest_cycle_length 2.0\n",
      "my radius is :  0.02524640160744089\n",
      "43939\n",
      "After graph 1717\n",
      "After Pruning 1715\n",
      "After Pruning 1717\n",
      "dilation and segmentation\n",
      "borders dilated\n"
     ]
    },
    {
     "name": "stderr",
     "output_type": "stream",
     "text": [
      "353490it [01:02, 4391.92it/s]                                                                                          "
     ]
    },
    {
     "name": "stdout",
     "output_type": "stream",
     "text": [
      "33988\n"
     ]
    },
    {
     "name": "stderr",
     "output_type": "stream",
     "text": [
      "396197it [01:09, 6637.25it/s]"
     ]
    },
    {
     "name": "stdout",
     "output_type": "stream",
     "text": [
      "4119\n",
      "1\n"
     ]
    },
    {
     "name": "stderr",
     "output_type": "stream",
     "text": [
      "396779it [01:09, 5684.00it/s]\n"
     ]
    },
    {
     "name": "stdout",
     "output_type": "stream",
     "text": [
      "got faces\n",
      "KNN Radius :  0.012537908120497982\n",
      "63\n",
      "expanded\n",
      "coloring\n",
      "_________________________Registeration_________________________\n",
      "_________________________Evaluation_________________________\n",
      "saved\n",
      "PillBottle_fractured_40 --> DONE -->  0.39674587637414943\n",
      "_________________________First Object_________________________\n",
      "start\n",
      "1.obj\n",
      "starting init\n",
      "starting calculating atts\n"
     ]
    },
    {
     "name": "stderr",
     "output_type": "stream",
     "text": [
      "100%|██████████████████████████████████████████████████████████████████████████| 40000/40000 [00:19<00:00, 2024.74it/s]\n"
     ]
    },
    {
     "name": "stdout",
     "output_type": "stream",
     "text": [
      "starting calculating w_co\n",
      "my radius is :  0.005417792001809577\n",
      "419588\n",
      "After graph 40000\n",
      "constructing borders\n",
      "2520\n",
      "shortest_allowed_branch_length 2.0\n",
      "smallest_isolated_island_length 2.0\n",
      "shortest_cycle_length 2.0\n",
      "my radius is :  0.011803732280855439\n",
      "65432\n",
      "After graph 2509\n",
      "After Pruning 2501\n",
      "After Pruning 2509\n",
      "dilation and segmentation\n",
      "borders dilated\n"
     ]
    },
    {
     "name": "stderr",
     "output_type": "stream",
     "text": [
      "\r",
      "  0%|                                                                                        | 0/40000 [00:00<?, ?it/s]"
     ]
    },
    {
     "name": "stdout",
     "output_type": "stream",
     "text": [
      "8"
     ]
    },
    {
     "name": "stderr",
     "output_type": "stream",
     "text": [
      "  1%|▋                                                                           | 340/40000 [00:00<00:26, 1485.90it/s]"
     ]
    },
    {
     "name": "stdout",
     "output_type": "stream",
     "text": [
      "\n"
     ]
    },
    {
     "name": "stderr",
     "output_type": "stream",
     "text": [
      "371231it [05:54, 1063.84it/s]                                                                                          "
     ]
    },
    {
     "name": "stdout",
     "output_type": "stream",
     "text": [
      "35773\n",
      "4\n"
     ]
    },
    {
     "name": "stderr",
     "output_type": "stream",
     "text": [
      "371360it [05:56, 1042.74it/s]\n"
     ]
    },
    {
     "name": "stdout",
     "output_type": "stream",
     "text": [
      "2\n",
      "got faces\n",
      "KNN Radius :  0.005417792001809577\n",
      "75\n",
      "expanded\n",
      "coloring\n",
      "_________________________Second Object_________________________\n",
      "start\n",
      "0.obj\n",
      "starting init\n",
      "starting calculating atts\n"
     ]
    },
    {
     "name": "stderr",
     "output_type": "stream",
     "text": [
      "100%|██████████████████████████████████████████████████████████████████████████| 40000/40000 [00:20<00:00, 1975.68it/s]\n"
     ]
    },
    {
     "name": "stdout",
     "output_type": "stream",
     "text": [
      "starting calculating w_co\n",
      "my radius is :  0.017682209474165655\n",
      "403948\n",
      "After graph 40000\n",
      "constructing borders\n",
      "3528\n",
      "shortest_allowed_branch_length 2.0\n",
      "smallest_isolated_island_length 2.0\n",
      "shortest_cycle_length 2.0\n",
      "my radius is :  0.030722464400455646\n",
      "67598\n",
      "After graph 3525\n",
      "After Pruning 3515\n",
      "After Pruning 3525\n",
      "dilation and segmentation\n",
      "borders dilated\n"
     ]
    },
    {
     "name": "stderr",
     "output_type": "stream",
     "text": [
      "266666it [01:28, 2282.86it/s]                                                                                          "
     ]
    },
    {
     "name": "stdout",
     "output_type": "stream",
     "text": [
      "26625\n",
      "5\n",
      "4\n"
     ]
    },
    {
     "name": "stderr",
     "output_type": "stream",
     "text": [
      "352127it [01:56, 3009.65it/s]"
     ]
    },
    {
     "name": "stdout",
     "output_type": "stream",
     "text": [
      "8431\n",
      "3\n",
      "2\n",
      "2\n",
      "2\n",
      "2\n",
      "1\n",
      "2\n",
      "2\n",
      "5\n",
      "1\n",
      "1\n",
      "1\n"
     ]
    },
    {
     "name": "stderr",
     "output_type": "stream",
     "text": [
      "352687it [01:57, 1873.20it/s]"
     ]
    },
    {
     "name": "stdout",
     "output_type": "stream",
     "text": [
      "3\n",
      "1\n",
      "1\n",
      "1\n",
      "1\n",
      "3\n",
      "1\n"
     ]
    },
    {
     "name": "stderr",
     "output_type": "stream",
     "text": [
      "365064it [02:01, 3159.67it/s]"
     ]
    },
    {
     "name": "stdout",
     "output_type": "stream",
     "text": [
      "1234\n",
      "2\n",
      "2\n",
      "5\n",
      "1\n",
      "5\n",
      "3\n",
      "3\n",
      "1\n",
      "1\n",
      "8\n",
      "2\n"
     ]
    },
    {
     "name": "stderr",
     "output_type": "stream",
     "text": [
      "365664it [02:01, 3007.84it/s]\n"
     ]
    },
    {
     "name": "stdout",
     "output_type": "stream",
     "text": [
      "1\n",
      "2\n",
      "4\n",
      "1\n",
      "7\n",
      "6\n",
      "1\n",
      "5\n",
      "got faces\n",
      "KNN Radius :  0.017682209474165655\n",
      "40\n",
      "expanded\n",
      "coloring\n",
      "_________________________Registeration_________________________\n",
      "_________________________Evaluation_________________________\n",
      "saved\n",
      "PillBottle_fractured_62 --> DONE -->  0.00919927512184304\n",
      "_________________________First Object_________________________\n",
      "start\n",
      "1.obj\n",
      "starting init\n",
      "starting calculating atts\n"
     ]
    },
    {
     "name": "stderr",
     "output_type": "stream",
     "text": [
      "100%|██████████████████████████████████████████████████████████████████████████| 40000/40000 [00:15<00:00, 2522.24it/s]\n"
     ]
    },
    {
     "name": "stdout",
     "output_type": "stream",
     "text": [
      "starting calculating w_co\n",
      "my radius is :  0.0015959252907729448\n",
      "413480\n",
      "After graph 40000\n",
      "constructing borders\n",
      "1389\n",
      "shortest_allowed_branch_length 2.0\n",
      "smallest_isolated_island_length 2.0\n",
      "shortest_cycle_length 2.0\n",
      "my radius is :  0.004160046959979975\n",
      "36949\n",
      "After graph 1387\n",
      "After Pruning 1385\n",
      "After Pruning 1387\n",
      "dilation and segmentation\n",
      "borders dilated\n"
     ]
    },
    {
     "name": "stderr",
     "output_type": "stream",
     "text": [
      "315517it [26:41, 204.69it/s]                                                                                           "
     ]
    },
    {
     "name": "stdout",
     "output_type": "stream",
     "text": [
      "30645\n"
     ]
    },
    {
     "name": "stderr",
     "output_type": "stream",
     "text": [
      "318751it [26:55, 256.25it/s]"
     ]
    },
    {
     "name": "stdout",
     "output_type": "stream",
     "text": [
      "316\n"
     ]
    },
    {
     "name": "stderr",
     "output_type": "stream",
     "text": [
      "345027it [28:57, 269.33it/s]"
     ]
    },
    {
     "name": "stdout",
     "output_type": "stream",
     "text": [
      "2553\n"
     ]
    },
    {
     "name": "stderr",
     "output_type": "stream",
     "text": [
      "\r",
      "345059it [28:59, 49.02it/s] "
     ]
    },
    {
     "name": "stdout",
     "output_type": "stream",
     "text": [
      "1\n"
     ]
    },
    {
     "name": "stderr",
     "output_type": "stream",
     "text": [
      "345349it [29:05, 168.73it/s]"
     ]
    },
    {
     "name": "stdout",
     "output_type": "stream",
     "text": [
      "28\n"
     ]
    },
    {
     "name": "stderr",
     "output_type": "stream",
     "text": [
      "345682it [29:11, 186.27it/s]"
     ]
    },
    {
     "name": "stdout",
     "output_type": "stream",
     "text": [
      "36\n"
     ]
    },
    {
     "name": "stderr",
     "output_type": "stream",
     "text": [
      "345704it [29:14, 197.07it/s]\n"
     ]
    },
    {
     "name": "stdout",
     "output_type": "stream",
     "text": [
      "got faces\n",
      "KNN Radius :  0.0015959252907729448\n"
     ]
    }
   ],
   "source": [
    "do_all_objects(\"data_test/breaking_bad/\")"
   ]
  },
  {
   "cell_type": "code",
   "execution_count": null,
   "id": "8fa5f381",
   "metadata": {},
   "outputs": [],
   "source": []
  }
 ],
 "metadata": {
  "kernelspec": {
   "display_name": ".env",
   "language": "python",
   "name": ".env"
  },
  "language_info": {
   "codemirror_mode": {
    "name": "ipython",
    "version": 3
   },
   "file_extension": ".py",
   "mimetype": "text/x-python",
   "name": "python",
   "nbconvert_exporter": "python",
   "pygments_lexer": "ipython3",
   "version": "3.9.0"
  }
 },
 "nbformat": 4,
 "nbformat_minor": 5
}
