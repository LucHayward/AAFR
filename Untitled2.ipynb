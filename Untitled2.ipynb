{
 "cells": [
  {
   "cell_type": "code",
   "execution_count": null,
   "id": "26530136",
   "metadata": {},
   "outputs": [],
   "source": [
    "import helper"
   ]
  },
  {
   "cell_type": "code",
   "execution_count": null,
   "id": "34f8adfe",
   "metadata": {},
   "outputs": [],
   "source": [
    "import pipline_modules.pipline_1 as pipeline\n",
    "\n",
    "#Before Evaluate do a Rotation and translation of\n",
    "init_R_T = [( 0 , 0 , 0),( -0.2, 0, 0 )]\n",
    "\n",
    "\n",
    "#pipline name and pipline parameters\n",
    "pipline_name = \"pipline_1\"\n",
    "\n",
    "N = 15\n",
    "t1 = 5\n",
    "t2 = 5\n",
    "t3 = 5\n",
    "\n",
    "\n",
    "#threshold for corner\n",
    "thre = 0.90\n",
    "\n",
    "pipline_variables = (N, t1, t2, t3, thre)\n"
   ]
  },
  {
   "cell_type": "code",
   "execution_count": null,
   "id": "1979c52c",
   "metadata": {},
   "outputs": [],
   "source": [
    "Obj1 = pipeline.run(\"data_test/pairwise/repair_group15_pair1/RPf_00105_gt.ply\" ,pipline_variables)"
   ]
  },
  {
   "cell_type": "code",
   "execution_count": null,
   "id": "7cd57745",
   "metadata": {},
   "outputs": [],
   "source": [
    "Obj1.pruned_graph"
   ]
  },
  {
   "cell_type": "code",
   "execution_count": null,
   "id": "d0fd6002",
   "metadata": {},
   "outputs": [],
   "source": [
    "import helper"
   ]
  },
  {
   "cell_type": "code",
   "execution_count": null,
   "id": "65c7dd35",
   "metadata": {},
   "outputs": [],
   "source": [
    "my_obj = Obj1.pcd_original"
   ]
  },
  {
   "cell_type": "code",
   "execution_count": null,
   "id": "65a4a4f8",
   "metadata": {},
   "outputs": [],
   "source": [
    "def find_cycles(Graph):\n",
    "    visited = set()\n",
    "    cycles = []\n",
    "    stack = [[list(Graph.nodes)[0]]]\n",
    "    parent = None\n",
    "    while stack:\n",
    "        path = stack.pop(-1)\n",
    "        last_node = path[-1]\n",
    "        # check that the node is not visited before if it is visited then it is a cycle\n",
    "        if last_node in visited:\n",
    "            cycles.append((path,last_node))\n",
    "            continue \n",
    "        visited.add(last_node)\n",
    "        nghs = Graph.neighbors(last_node)\n",
    "        for node in nghs:\n",
    "            if parent and parent == last_node:\n",
    "                continue\n",
    "            stack.append(path+[node])\n",
    "    filtered_cycles = []\n",
    "    for cycle,node in cycles:\n",
    "        path = []\n",
    "        counter = 0\n",
    "        for n in cycle:\n",
    "            if node == n:\n",
    "                counter = 1\n",
    "                \n",
    "            if counter:\n",
    "                path.append(n)\n",
    "            else:\n",
    "                continue\n",
    "        filtered_cycles.append((path,len(path)))\n",
    "    return filtered_cycles"
   ]
  },
  {
   "cell_type": "code",
   "execution_count": null,
   "id": "8c5b8482",
   "metadata": {},
   "outputs": [],
   "source": [
    "cycles = find_cycles(Obj1.pruned_graph)"
   ]
  },
  {
   "cell_type": "code",
   "execution_count": null,
   "id": "2b572913",
   "metadata": {},
   "outputs": [],
   "source": [
    "sorted_cycles = sorted(cycles,key = lambda x:x[1],reverse=True)"
   ]
  },
  {
   "cell_type": "code",
   "execution_count": null,
   "id": "88f04340",
   "metadata": {},
   "outputs": [],
   "source": [
    "sorted_cycles"
   ]
  },
  {
   "cell_type": "code",
   "execution_count": null,
   "id": "e042d137",
   "metadata": {},
   "outputs": [],
   "source": [
    "from copy import copy\n",
    "new_obj = copy(Obj1.pcd)"
   ]
  },
  {
   "cell_type": "code",
   "execution_count": null,
   "id": "a2cd1cae",
   "metadata": {},
   "outputs": [],
   "source": [
    "a,b = sorted_cycles[0]"
   ]
  },
  {
   "cell_type": "code",
   "execution_count": null,
   "id": "c97a062e",
   "metadata": {},
   "outputs": [],
   "source": [
    "import open3d as o3d\n",
    "import numpy as np\n",
    "\n",
    "for cycle,length in sorted_cycles[0:10]:\n",
    "    colors = [(0,255,0) for _ in my_obj.points]\n",
    "    points = cycle\n",
    "    for point in points:\n",
    "        print(point)\n",
    "        colors[point] = (255,0,0)\n",
    "\n",
    "    my_obj.colors = o3d.utility.Vector3dVector(np.asarray(colors).astype(np.float) / 255.0)\n",
    "    o3d.visualization.draw_geometries([my_obj])"
   ]
  },
  {
   "cell_type": "markdown",
   "id": "bf50d622",
   "metadata": {},
   "source": [
    "<h1>Check flat surfaces (Get rotation for it)</h1>"
   ]
  },
  {
   "cell_type": "code",
   "execution_count": null,
   "id": "95963831",
   "metadata": {},
   "outputs": [],
   "source": [
    "import helper\n",
    "import pipline_modules.pipline_1 as pipeline\n",
    "\n",
    "#Before Evaluate do a Rotation and translation of\n",
    "init_R_T = [( 0 , 0 , 0),( -0.2, 0, 0 )]\n",
    "\n",
    "\n",
    "#pipline name and pipline parameters\n",
    "pipline_name = \"pipline_1\"\n",
    "\n",
    "N = 15\n",
    "t1 = 5\n",
    "t2 = 5\n",
    "t3 = 5\n",
    "\n",
    "\n",
    "#threshold for corner\n",
    "thre = 0.80\n",
    "\n",
    "pipline_variables = (N, t1, t2, t3, thre)"
   ]
  },
  {
   "cell_type": "code",
   "execution_count": null,
   "id": "1b04636a",
   "metadata": {},
   "outputs": [],
   "source": [
    "from copy import copy\n",
    "import helper\n",
    "import numpy as np\n",
    "from Fragment import FeatureLines\n",
    "from tqdm import tqdm\n",
    "import open3d as o3d\n",
    "import numpy as np\n",
    "\n",
    "print(\"start\")\n",
    "\n",
    "Obj_url = \"data_test/pairwise/repair_group8_pair1/RPf_00060_gt.ply\"\n",
    "\n",
    "Obj = FeatureLines(Obj_url,voxel_size=30000)\n",
    "# print(\"Size :\",len(Obj.pcd.points))\n",
    "\n",
    "print(\"starting init\")\n",
    "Obj.init(int(N))"
   ]
  },
  {
   "cell_type": "code",
   "execution_count": null,
   "id": "1134af8d",
   "metadata": {},
   "outputs": [],
   "source": [
    "points = np.asarray(Obj.pcd.points)\n",
    "centroid = points.mean()\n",
    "points_vectors = points - centroid"
   ]
  },
  {
   "cell_type": "code",
   "execution_count": null,
   "id": "c13d45e4",
   "metadata": {},
   "outputs": [],
   "source": [
    "points_vectors"
   ]
  },
  {
   "cell_type": "code",
   "execution_count": null,
   "id": "c55e7042",
   "metadata": {},
   "outputs": [],
   "source": []
  },
  {
   "cell_type": "code",
   "execution_count": null,
   "id": "aa895481",
   "metadata": {},
   "outputs": [],
   "source": []
  },
  {
   "cell_type": "code",
   "execution_count": null,
   "id": "88434b34",
   "metadata": {},
   "outputs": [],
   "source": [
    "from numpy.linalg import norm\n",
    "def cal_cos(p_vec,q_vecs):\n",
    "    p_vecs = np.repeat(p_vec.reshape(1,3),len(q_vecs),axis=0)\n",
    "    p_dot_q = (p_vecs * q_vecs).sum(axis=1)\n",
    "    p_norms = np.sqrt((p_vecs*p_vecs).sum(axis=1))\n",
    "    q_norms = np.sqrt((q_vecs*q_vecs).sum(axis=1))\n",
    "    cos_sim = p_dot_q / (p_norms*q_norms)\n",
    "    return np.mean(cos_sim)"
   ]
  },
  {
   "cell_type": "code",
   "execution_count": null,
   "id": "44e0f076",
   "metadata": {},
   "outputs": [],
   "source": [
    "cal_cos(points_vectors[0],points_vectors[0:10])"
   ]
  },
  {
   "cell_type": "code",
   "execution_count": null,
   "id": "a61054cb",
   "metadata": {},
   "outputs": [],
   "source": [
    "from scipy import spatial\n",
    "pcd_tree = o3d.geometry.KDTreeFlann(Obj.pcd)\n",
    "sim_results = []\n",
    "for i in range(len(Obj.pcd.points)):\n",
    "        point = Obj.pcd.points[i]\n",
    "        p_vector = points_vectors[i]\n",
    "        [k, idx, _] = pcd_tree.search_knn_vector_3d(point, 5)\n",
    "        q_vectors = np.asarray(points_vectors).take(idx,axis=0)\n",
    "        result = cal_cos(p_vector, q_vectors)\n",
    "        sim_results.append((result,(p_vector[0]%255,p_vector[1]%255,p_vector[2]%255)))"
   ]
  },
  {
   "cell_type": "code",
   "execution_count": null,
   "id": "34576eef",
   "metadata": {},
   "outputs": [],
   "source": [
    "sim_results"
   ]
  },
  {
   "cell_type": "code",
   "execution_count": null,
   "id": "d7778181",
   "metadata": {},
   "outputs": [],
   "source": [
    "import open3d as o3d\n",
    "import numpy as np\n",
    "colors = [(0,255,0) for _ in Obj.pcd.points]\n",
    "for i,point in enumerate(Obj.pcd.points):\n",
    "    colors[i] = sim_results[i][1]\n",
    "\n",
    "Obj.pcd.colors = o3d.utility.Vector3dVector(np.asarray(colors).astype(np.float) / 255.0)\n",
    "o3d.visualization.draw_geometries([Obj.pcd])"
   ]
  },
  {
   "cell_type": "markdown",
   "id": "8fab069f",
   "metadata": {},
   "source": [
    "<h1>New Trial to get sides"
   ]
  },
  {
   "cell_type": "code",
   "execution_count": 1,
   "id": "7975a838",
   "metadata": {},
   "outputs": [
    {
     "name": "stdout",
     "output_type": "stream",
     "text": [
      "Jupyter environment detected. Enabling Open3D WebVisualizer.\n",
      "[Open3D INFO] WebRTC GUI backend enabled.\n",
      "[Open3D INFO] WebRTCWindowSystem: HTTP handshake server disabled.\n"
     ]
    }
   ],
   "source": [
    "import helper\n",
    "import pipline_modules.pipline_1 as pipeline\n",
    "from Fragment import FeatureLines \n",
    "import numpy as np\n",
    "#Before Evaluate do a Rotation and translation of\n",
    "init_R_T = [( 0 , 0 , 0),( -0.2, 0, 0 )]\n",
    "\n",
    "\n",
    "#pipline name and pipline parameters\n",
    "pipline_name = \"pipline_1\"\n",
    "\n",
    "N = 15\n",
    "t1 = 2\n",
    "t2 = 100\n",
    "t3 = 100\n",
    "\n",
    "Obj_url = \"data_test/pairwise/breaking_bad_cat_artifact_pair1/breaking_bad_cat_artifact_piece1.ply\"\n",
    "#threshold for corner\n",
    "thre = 0.95\n",
    "\n",
    "pipline_variables = (N, t1, t2, t3, thre)"
   ]
  },
  {
   "cell_type": "code",
   "execution_count": 2,
   "id": "e321f3a5",
   "metadata": {},
   "outputs": [
    {
     "name": "stdout",
     "output_type": "stream",
     "text": [
      "start\n",
      "starting init\n"
     ]
    },
    {
     "name": "stderr",
     "output_type": "stream",
     "text": [
      "C:\\Users\\alial\\Documents\\THESIS\\Fragment.py:163: RuntimeWarning: invalid value encountered in true_divide\n",
      "  e_vectors_dir = e_vectors/np.repeat(e_vectors_mag.reshape(e_vectors_mag.shape[0],e_vectors_mag.shape[1],1),3,axis=2)\n"
     ]
    },
    {
     "name": "stdout",
     "output_type": "stream",
     "text": [
      "my radius is :  0.018027842021235387\n",
      "110023\n",
      "After graph 9993\n",
      "After Pruning 9993\n"
     ]
    }
   ],
   "source": [
    "(N, shortest_cycle_length, smallest_isolated_island_length, shortest_allowed_branch_length, thre) = pipline_variables\n",
    "\n",
    "print(\"start\")\n",
    "Obj = FeatureLines(Obj_url,voxel_size=10000)\n",
    "# print(\"Size :\",len(Obj.pcd.points))\n",
    "print(\"starting init\")\n",
    "Obj.init(int(N))\n",
    "\n",
    "# print(\"Size valid :\",len(valid))\n",
    "\n",
    "shortest_cycle_length = np.sqrt(len(Obj.pcd.points))//shortest_cycle_length\n",
    "smallest_isolated_island_length = np.sqrt(len(Obj.pcd.points))//smallest_isolated_island_length\n",
    "shortest_allowed_branch_length = np.sqrt(len(Obj.pcd.points))//shortest_allowed_branch_length\n",
    "\n",
    "isolated_islands_pruned_graph, F_lines, isolated_islands = helper.create_graph(Obj, \\\n",
    "shortest_cycle_length, smallest_isolated_island_length)\n",
    "print(\"After graph\",len([point for branch in F_lines for point in branch]))\n",
    "pruned_graph_original, removed_nodes, valid_nodes = helper.prune_branches(F_lines,isolated_islands_pruned_graph,\\\n",
    "shortest_allowed_branch_length)\n",
    "print(\"After Pruning\",len([node for branch in valid_nodes for node in branch]))"
   ]
  },
  {
   "cell_type": "code",
   "execution_count": 3,
   "id": "a499fde5",
   "metadata": {},
   "outputs": [],
   "source": [
    "Obj.show_heat(Obj.w_co)"
   ]
  },
  {
   "cell_type": "code",
   "execution_count": null,
   "id": "8ad645b0",
   "metadata": {},
   "outputs": [
    {
     "name": "stdout",
     "output_type": "stream",
     "text": [
      "9993\n",
      "shortest_allowed_branch_length 999.0\n",
      "smallest_isolated_island_length 99.0\n",
      "shortest_cycle_length 999.0\n",
      "my radius is :  0.018027842021235387\n",
      "110023\n",
      "After graph 9993\n",
      "After Pruning 1909\n"
     ]
    }
   ],
   "source": [
    "from copy import copy\n",
    "tmp_Obj = copy(Obj)\n",
    "tmp_Obj.pcd = copy(Obj.pcd)\n",
    "\n",
    "N = 15\n",
    "t1 = 0.1\n",
    "t2 = 1\n",
    "t3 = 0.1\n",
    "pipline_variables = (N, t1, t2, t3, thre)\n",
    "(N, shortest_cycle_length, smallest_isolated_island_length, shortest_allowed_branch_length, thre) = pipline_variables\n",
    "# print(\"Size valid :\",len(valid))\n",
    "valid = []\n",
    "for idx,val in enumerate(tmp_Obj.w_co):\n",
    "    if val<95:\n",
    "        valid.append(idx)\n",
    "print(len(valid))\n",
    "shortest_cycle_length = np.sqrt(len(valid))//shortest_cycle_length\n",
    "smallest_isolated_island_length = np.sqrt(len(valid))//smallest_isolated_island_length\n",
    "shortest_allowed_branch_length = np.sqrt(len(valid))//shortest_allowed_branch_length\n",
    "print(\"shortest_allowed_branch_length\",shortest_allowed_branch_length)\n",
    "print(\"smallest_isolated_island_length\",smallest_isolated_island_length)\n",
    "print(\"shortest_cycle_length\",shortest_cycle_length)\n",
    "isolated_islands_pruned_graph, F_lines, isolated_islands = helper.create_graph(tmp_Obj, \\\n",
    "shortest_cycle_length, smallest_isolated_island_length,mask=valid,radius=None)\n",
    "print(\"After graph\",len([point for branch in F_lines for point in branch]))\n",
    "pruned_graph, removed_nodes, valid_nodes = helper.prune_branches(F_lines,isolated_islands_pruned_graph,\\\n",
    "shortest_allowed_branch_length)\n",
    "print(\"After Pruning\",len([node for branch in valid_nodes for node in branch]))"
   ]
  },
  {
   "cell_type": "markdown",
   "id": "6a4d5278",
   "metadata": {},
   "source": [
    "<h3>normal borders as before"
   ]
  },
  {
   "cell_type": "code",
   "execution_count": 17,
   "id": "c79c3e20",
   "metadata": {},
   "outputs": [],
   "source": [
    "border_nodes = [node for branch in valid_nodes for node in branch]"
   ]
  },
  {
   "cell_type": "code",
   "execution_count": 18,
   "id": "f6f3618f",
   "metadata": {},
   "outputs": [
    {
     "name": "stderr",
     "output_type": "stream",
     "text": [
      "C:\\Users\\alial\\AppData\\Local\\Temp\\ipykernel_30812\\18278585.py:6: DeprecationWarning: `np.float` is a deprecated alias for the builtin `float`. To silence this warning, use `float` by itself. Doing this will not modify any behavior and is safe. If you specifically wanted the numpy scalar type, use `np.float64` here.\n",
      "Deprecated in NumPy 1.20; for more details and guidance: https://numpy.org/devdocs/release/1.20.0-notes.html#deprecations\n",
      "  Obj.pcd.colors = o3d.utility.Vector3dVector(np.asarray(colors).astype(np.float) / 255.0)\n"
     ]
    }
   ],
   "source": [
    "import open3d as o3d\n",
    "import numpy as np\n",
    "colors = [(0,255,0) for _ in Obj.pcd.points]\n",
    "for point in border_nodes:\n",
    "    colors[point] = (255,0,0)\n",
    "Obj.pcd.colors = o3d.utility.Vector3dVector(np.asarray(colors).astype(np.float) / 255.0)\n",
    "o3d.visualization.draw_geometries([Obj.pcd])"
   ]
  },
  {
   "cell_type": "markdown",
   "id": "7a451db3",
   "metadata": {},
   "source": [
    "<h3> segment sides using DFS"
   ]
  },
  {
   "cell_type": "code",
   "execution_count": 19,
   "id": "0850cb1e",
   "metadata": {},
   "outputs": [],
   "source": [
    "without_dilated_faces = get_sides(pruned_graph_original, border_nodes)"
   ]
  },
  {
   "cell_type": "code",
   "execution_count": 20,
   "id": "42b1e172",
   "metadata": {},
   "outputs": [
    {
     "name": "stderr",
     "output_type": "stream",
     "text": [
      "C:\\Users\\alial\\AppData\\Local\\Temp\\ipykernel_30812\\453507087.py:8: DeprecationWarning: `np.float` is a deprecated alias for the builtin `float`. To silence this warning, use `float` by itself. Doing this will not modify any behavior and is safe. If you specifically wanted the numpy scalar type, use `np.float64` here.\n",
      "Deprecated in NumPy 1.20; for more details and guidance: https://numpy.org/devdocs/release/1.20.0-notes.html#deprecations\n",
      "  Obj.pcd.colors = o3d.utility.Vector3dVector(np.asarray(colors).astype(np.float) / 255.0)\n"
     ]
    }
   ],
   "source": [
    "import open3d as o3d\n",
    "import numpy as np\n",
    "colors = [(0,255,0) for _ in Obj.pcd.points]\n",
    "for size,face in without_dilated_faces:\n",
    "    color = tuple(random.choices(range(256), k=3))\n",
    "    for point in face:\n",
    "        colors[point] = color\n",
    "Obj.pcd.colors = o3d.utility.Vector3dVector(np.asarray(colors).astype(np.float) / 255.0)\n",
    "o3d.visualization.draw_geometries([Obj.pcd])"
   ]
  },
  {
   "cell_type": "markdown",
   "id": "8338030d",
   "metadata": {},
   "source": [
    "<h3> Dilate borders"
   ]
  },
  {
   "cell_type": "code",
   "execution_count": null,
   "id": "65a4f39e",
   "metadata": {},
   "outputs": [],
   "source": [
    "my_obj = copy(Obj)\n",
    "my_obj.pcd = copy(Obj.pcd)"
   ]
  },
  {
   "cell_type": "code",
   "execution_count": null,
   "id": "6739b114",
   "metadata": {},
   "outputs": [],
   "source": [
    "def dilate_border(my_obj,border,size):\n",
    "    tmp_Obj = copy(my_obj)\n",
    "    tmp_Obj.pcd = copy(my_obj.pcd)\n",
    "    pcd_tree = o3d.geometry.KDTreeFlann(tmp_Obj.pcd)\n",
    "    w_co = copy(tmp_Obj.w_co)\n",
    "    new_borders = []\n",
    "    for idx in border:\n",
    "        point = Obj.pcd.points[idx]\n",
    "        [k, idx, _] = pcd_tree.search_radius_vector_3d(point,size)\n",
    "        new_borders.extend(idx)\n",
    "    return new_borders"
   ]
  },
  {
   "cell_type": "code",
   "execution_count": null,
   "id": "93932eb8",
   "metadata": {},
   "outputs": [],
   "source": [
    "dilated_border = dilate_border(Obj,border_nodes,0.05)"
   ]
  },
  {
   "cell_type": "code",
   "execution_count": null,
   "id": "9db47bfa",
   "metadata": {},
   "outputs": [],
   "source": [
    "import open3d as o3d\n",
    "import numpy as np\n",
    "colors = [(0,255,0) for _ in Obj.pcd.points]\n",
    "for point in dilated_border:\n",
    "    colors[point] = (255,0,0)\n",
    "Obj.pcd.colors = o3d.utility.Vector3dVector(np.asarray(colors).astype(np.float) / 255.0)\n",
    "o3d.visualization.draw_geometries([Obj.pcd])"
   ]
  },
  {
   "cell_type": "markdown",
   "id": "661ad4d1",
   "metadata": {},
   "source": [
    "<h3> segment again using dilated borders"
   ]
  },
  {
   "cell_type": "code",
   "execution_count": 13,
   "id": "f372ee5d",
   "metadata": {},
   "outputs": [],
   "source": [
    "import random\n",
    "def get_sides(Graph, borders):\n",
    "    faces = []\n",
    "    all_visited = set()\n",
    "    nodes = list(Graph.nodes)\n",
    "    while len(nodes):\n",
    "        random_point = nodes.pop(0)\n",
    "        while random_point in all_visited:\n",
    "            if not len(nodes):\n",
    "                sorted_faces = sorted(faces,key = lambda key:key[0], reverse = True)\n",
    "                return sorted_faces[:10]\n",
    "            random_point = nodes.pop(0)\n",
    "       \n",
    "        queue = [random_point]\n",
    "        visited = set()\n",
    "        while len(queue):\n",
    "            point = queue.pop(0)\n",
    "            if point not in visited:\n",
    "                visited.add(point)\n",
    "                all_visited.add(point)\n",
    "                neighbors = Graph.neighbors(point)\n",
    "                for neighbor in neighbors:\n",
    "                    all_visited.add(neighbor)\n",
    "                    if neighbor not in borders:\n",
    "                        queue.append(neighbor)\n",
    "        faces.append((len(visited),visited))\n",
    "    sorted_faces = sorted(faces,key = lambda key:key[0], reverse = True)\n",
    "    return sorted_faces[:20]"
   ]
  },
  {
   "cell_type": "code",
   "execution_count": null,
   "id": "47b0d32f",
   "metadata": {},
   "outputs": [],
   "source": [
    "dilated_faces = get_sides(pruned_graph_original, dilated_border)"
   ]
  },
  {
   "cell_type": "code",
   "execution_count": null,
   "id": "34c402e1",
   "metadata": {},
   "outputs": [],
   "source": [
    "import open3d as o3d\n",
    "import numpy as np\n",
    "colors = [(0,255,0) for _ in Obj.pcd.points]\n",
    "for size,face in dilated_faces:\n",
    "    color = tuple(random.choices(range(256), k=3))\n",
    "    for point in face:\n",
    "        colors[point] = color\n",
    "Obj.pcd.colors = o3d.utility.Vector3dVector(np.asarray(colors).astype(np.float) / 255.0)\n",
    "o3d.visualization.draw_geometries([Obj.pcd])"
   ]
  },
  {
   "cell_type": "markdown",
   "id": "dc510aa1",
   "metadata": {},
   "source": [
    "<h3> Expand segments by using KNN"
   ]
  },
  {
   "cell_type": "code",
   "execution_count": null,
   "id": "d3bcda0e",
   "metadata": {},
   "outputs": [],
   "source": [
    "node_face = {}\n",
    "face_nodes = []\n",
    "for idx,(_,face) in enumerate(dilated_faces):\n",
    "    for node in face:\n",
    "        node_face[node] = idx\n",
    "    face_nodes.append(face)\n",
    "for key,value in node_face.items():\n",
    "    if value>=10:\n",
    "        print(value)\n",
    "        \n",
    "all_dilated = [node for  _,face in dilated_faces for node in face]\n",
    "all_dilated.extend([node for node in dilated_border])"
   ]
  },
  {
   "cell_type": "code",
   "execution_count": null,
   "id": "17b34773",
   "metadata": {},
   "outputs": [],
   "source": []
  },
  {
   "cell_type": "code",
   "execution_count": null,
   "id": "4fb905f6",
   "metadata": {},
   "outputs": [],
   "source": [
    "all_dilated"
   ]
  },
  {
   "cell_type": "code",
   "execution_count": null,
   "id": "9e8185cb",
   "metadata": {},
   "outputs": [],
   "source": [
    "left_overs = list(set(range(len(Obj.pcd.points)))-set(all_dilated))\n",
    "border_left_overs = left_overs+dilated_border"
   ]
  },
  {
   "cell_type": "code",
   "execution_count": null,
   "id": "9f067b87",
   "metadata": {},
   "outputs": [],
   "source": [
    "border_left_overs"
   ]
  },
  {
   "cell_type": "code",
   "execution_count": null,
   "id": "6954de67",
   "metadata": {},
   "outputs": [],
   "source": [
    "from copy import deepcopy\n",
    "def knn_expand(Obj,my_borders,node_face,face_nodes,size):\n",
    "    borders = deepcopy(my_borders)\n",
    "    face_nodes_new = deepcopy(face_nodes)\n",
    "    tree = o3d.geometry.KDTreeFlann(Obj.pcd)\n",
    "    no_change = 0\n",
    "    while borders:\n",
    "        len_before = len(borders)\n",
    "        \n",
    "        idx = borders.pop(0)\n",
    "        point = Obj.pcd.points[idx]\n",
    "        [k, q_idxs, _] = tree.search_knn_vector_3d(point, size)\n",
    "        #vote \n",
    "        my_faces = {}\n",
    "        for q_idx in q_idxs:\n",
    "            if q_idx not in node_face:\n",
    "                continue\n",
    "                \n",
    "            if node_face[q_idx] not in my_faces:\n",
    "                my_faces[node_face[q_idx]] = 1\n",
    "            else:\n",
    "                my_faces[node_face[q_idx]] += 1\n",
    "                \n",
    "        if len(my_faces)==0:\n",
    "            borders.append(idx)\n",
    "        else:\n",
    "            winner = max(my_faces, key=my_faces.get)\n",
    "            face_nodes_new[winner].add(idx)\n",
    "            node_face[idx] = winner\n",
    "            \n",
    "        if len(borders) == len_before:\n",
    "            no_change += 1\n",
    "        else:\n",
    "            no_change = 0\n",
    "        \n",
    "        if no_change >= len_before+10000000:\n",
    "            break\n",
    "    print(len(borders))\n",
    "    return face_nodes_new"
   ]
  },
  {
   "cell_type": "code",
   "execution_count": null,
   "id": "d378214f",
   "metadata": {},
   "outputs": [],
   "source": [
    "expanded_faces = knn_expand(Obj,border_left_overs,node_face,face_nodes,size=5)"
   ]
  },
  {
   "cell_type": "code",
   "execution_count": null,
   "id": "ab75008b",
   "metadata": {},
   "outputs": [],
   "source": [
    "for expanded_face,(_,dilated_face) in zip(expanded_faces,dilated_faces):\n",
    "    print(len(expanded_face),len(dilated_face))"
   ]
  },
  {
   "cell_type": "code",
   "execution_count": null,
   "id": "27fbf097",
   "metadata": {},
   "outputs": [],
   "source": [
    "import open3d as o3d\n",
    "import numpy as np\n",
    "colors = [(0,255,0) for _ in Obj.pcd.points]\n",
    "for face in expanded_faces:\n",
    "    color = tuple(random.choices(range(256), k=3))\n",
    "    for point in face:\n",
    "        colors[point] = color\n",
    "Obj.pcd.colors = o3d.utility.Vector3dVector(np.asarray(colors).astype(np.float) / 255.0)\n",
    "o3d.visualization.draw_geometries([Obj.pcd])"
   ]
  },
  {
   "cell_type": "markdown",
   "id": "13c90151",
   "metadata": {},
   "source": [
    "<h3> END"
   ]
  },
  {
   "cell_type": "code",
   "execution_count": null,
   "id": "58395a31",
   "metadata": {},
   "outputs": [],
   "source": [
    "def dilate(my_obj,size,thre):\n",
    "    tmp_Obj = copy(my_obj)\n",
    "    pcd_tree = o3d.geometry.KDTreeFlann(tmp_Obj.pcd)\n",
    "    w_co = copy(OG_W_co)\n",
    "    for i in range(len(Obj.pcd.points)):\n",
    "        point = Obj.pcd.points[i]\n",
    "        if Obj.w_co[i] < thre :\n",
    "            [k, idx, _] = pcd_tree.search_knn_vector_3d(point, size)\n",
    "            w_co[idx] = max(OG_W_co[idx])\n",
    "    return w_co"
   ]
  },
  {
   "cell_type": "code",
   "execution_count": null,
   "id": "d92db895",
   "metadata": {},
   "outputs": [],
   "source": [
    "def erode(OG_W_co,size,thre):\n",
    "    pcd_tree = o3d.geometry.KDTreeFlann(Obj.pcd)\n",
    "    w_co = copy(OG_W_co)\n",
    "    for i in range(len(Obj.pcd.points)):\n",
    "        point = Obj.pcd.points[i]\n",
    "        if Obj.w_co[i] < thre :\n",
    "            [k, idx, _] = pcd_tree.search_knn_vector_3d(point, size)\n",
    "            w_co[idx] = min(OG_W_co[idx])\n",
    "    return w_co"
   ]
  },
  {
   "cell_type": "code",
   "execution_count": null,
   "id": "4ac9a017",
   "metadata": {},
   "outputs": [],
   "source": [
    "koko_w_co_erode = erode(Obj.w_co,50,0.9)"
   ]
  },
  {
   "cell_type": "code",
   "execution_count": null,
   "id": "f28b5402",
   "metadata": {},
   "outputs": [],
   "source": [
    "koko_w_co_dilate = dilate(koko_w_co,50,0.9)"
   ]
  },
  {
   "cell_type": "code",
   "execution_count": null,
   "id": "316df842",
   "metadata": {},
   "outputs": [],
   "source": [
    "faces = get_sides(graph,Obj.w_co,0.)"
   ]
  },
  {
   "cell_type": "code",
   "execution_count": null,
   "id": "37e3bc78",
   "metadata": {},
   "outputs": [],
   "source": [
    "koko_faces = get_sides(graph,koko_w_co,0.9)"
   ]
  },
  {
   "cell_type": "code",
   "execution_count": null,
   "id": "80a80819",
   "metadata": {},
   "outputs": [],
   "source": [
    "sizes = [size for size,_ in faces]\n",
    "print(sizes)"
   ]
  },
  {
   "cell_type": "code",
   "execution_count": null,
   "id": "3de7c422",
   "metadata": {},
   "outputs": [],
   "source": [
    "sizes = [size for size,_ in koko_faces]\n",
    "print(sizes)"
   ]
  },
  {
   "cell_type": "code",
   "execution_count": null,
   "id": "74daf487",
   "metadata": {},
   "outputs": [],
   "source": [
    "faces"
   ]
  },
  {
   "cell_type": "code",
   "execution_count": null,
   "id": "3bd00f63",
   "metadata": {},
   "outputs": [],
   "source": [
    "import open3d as o3d\n",
    "import numpy as np\n",
    "colors = [(0,255,0) for _ in Obj.pcd.points]\n",
    "for size,face in faces:\n",
    "    color = tuple(random.choices(range(256), k=3))\n",
    "    for point in face:\n",
    "        colors[point] = color\n",
    "Obj.pcd.colors = o3d.utility.Vector3dVector(np.asarray(colors).astype(np.float) / 255.0)\n",
    "o3d.visualization.draw_geometries([Obj.pcd])"
   ]
  },
  {
   "cell_type": "code",
   "execution_count": null,
   "id": "7fcf0e4b",
   "metadata": {},
   "outputs": [],
   "source": [
    "import open3d as o3d\n",
    "import numpy as np\n",
    "colors = [(0,255,0) for _ in Obj.pcd.points]\n",
    "for size,face in koko_faces:\n",
    "    color = tuple(random.choices(range(256), k=3))\n",
    "    for point in face:\n",
    "        colors[point] = color\n",
    "Obj.pcd.colors = o3d.utility.Vector3dVector(np.asarray(colors).astype(np.float) / 255.0)\n",
    "o3d.visualization.draw_geometries([Obj.pcd])"
   ]
  },
  {
   "cell_type": "code",
   "execution_count": null,
   "id": "0d2caccf",
   "metadata": {},
   "outputs": [],
   "source": [
    "import random\n",
    "def get_sides(Graph, w_co,thre):\n",
    "    faces = []\n",
    "    all_visited = set()\n",
    "    nodes = list(Graph.nodes)\n",
    "    while len(nodes):\n",
    "        random_point = nodes.pop(0)\n",
    "        while random_point in all_visited:\n",
    "            if not len(nodes):\n",
    "                sorted_faces = sorted(faces,key = lambda key:key[0], reverse = True)\n",
    "                return sorted_faces[:10]\n",
    "            random_point = nodes.pop(0)\n",
    "       \n",
    "        queue = [random_point]\n",
    "        visited = set()\n",
    "        while len(queue):\n",
    "            point = queue.pop(0)\n",
    "            if point not in visited:\n",
    "                visited.add(point)\n",
    "                all_visited.add(point)\n",
    "                neighbors = Graph.neighbors(point)\n",
    "                for neighbor in neighbors:\n",
    "                    all_visited.add(neighbor)\n",
    "                    if w_co[neighbor] > thre:\n",
    "                        queue.append(neighbor)\n",
    "        faces.append((len(visited),visited))\n",
    "    sorted_faces = sorted(faces,key = lambda key:key[0], reverse = True)\n",
    "    return sorted_faces[:20]"
   ]
  },
  {
   "cell_type": "code",
   "execution_count": null,
   "id": "444edc81",
   "metadata": {},
   "outputs": [],
   "source": [
    "from copy import copy,deepcopy"
   ]
  },
  {
   "cell_type": "code",
   "execution_count": null,
   "id": "bc98c953",
   "metadata": {},
   "outputs": [],
   "source": [
    "graph = deepcopy(pruned_graph)\n",
    "# graph.remove_nodes_from(border_nodes)\n",
    "# graph.remove_nodes_from(removed_nodes)"
   ]
  },
  {
   "cell_type": "code",
   "execution_count": null,
   "id": "754e8668",
   "metadata": {},
   "outputs": [],
   "source": [
    "faces = get_sides(graph,NormalizeData(Obj.w_co),0.92)"
   ]
  },
  {
   "cell_type": "code",
   "execution_count": null,
   "id": "a54bc312",
   "metadata": {},
   "outputs": [],
   "source": [
    "import open3d as o3d\n",
    "import numpy as np\n",
    "colors = [(0,255,0) for _ in Obj.pcd.points]\n",
    "for size,face in faces:\n",
    "    color = tuple(random.choices(range(256), k=3))\n",
    "    for point in face:\n",
    "        colors[point] = color\n",
    "Obj.pcd.colors = o3d.utility.Vector3dVector(np.asarray(colors).astype(np.float) / 255.0)\n",
    "o3d.visualization.draw_geometries([Obj.pcd])"
   ]
  },
  {
   "cell_type": "code",
   "execution_count": null,
   "id": "53268cc8",
   "metadata": {},
   "outputs": [],
   "source": [
    "shortest_cycle_length = np.sqrt(len(Obj.pcd.points))//t1\n",
    "smallest_isolated_island_length = np.sqrt(len(Obj.pcd.points))//t2\n",
    "shortest_allowed_branch_length = np.sqrt(len(Obj.pcd.points))//t3"
   ]
  },
  {
   "cell_type": "code",
   "execution_count": null,
   "id": "30c52c57",
   "metadata": {},
   "outputs": [],
   "source": [
    "isolated_islands_pruned_graph, F_lines, isolated_islands = helper.create_graph(Obj,\\\n",
    "2,shortest_cycle_length, smallest_isolated_island_length)\n",
    "print(\"After graph\",len([point for branch in F_lines for point in branch]))"
   ]
  },
  {
   "cell_type": "code",
   "execution_count": null,
   "id": "c8b0c10e",
   "metadata": {},
   "outputs": [],
   "source": [
    "pruned_graph, removed_nodes, valid_nodes = helper.prune_branches(F_lines,isolated_islands_pruned_graph,\\\n",
    "shortest_allowed_branch_length)\n",
    "Obj.pruned_graph = pruned_graph\n",
    "print(\"After Pruning\",len([node for branch in valid_nodes for node in branch]))"
   ]
  },
  {
   "cell_type": "code",
   "execution_count": null,
   "id": "48617b5a",
   "metadata": {},
   "outputs": [],
   "source": [
    "border_nodes = []\n",
    "for idx,value in enumerate(Obj.w_co):\n",
    "    if value<0.98:\n",
    "        border_nodes.append(idx)"
   ]
  },
  {
   "cell_type": "code",
   "execution_count": null,
   "id": "46bda4b6",
   "metadata": {},
   "outputs": [],
   "source": [
    "border_nodes"
   ]
  },
  {
   "cell_type": "code",
   "execution_count": null,
   "id": "4ed55158",
   "metadata": {},
   "outputs": [],
   "source": [
    "import open3d as o3d\n",
    "import numpy as np\n",
    "colors = [(0,255,0) for _ in Obj.pcd.points]\n",
    "for idx in border_nodes:\n",
    "    color = (255,0,0)\n",
    "    colors[idx] = color\n",
    "Obj.pcd.colors = o3d.utility.Vector3dVector(np.asarray(colors).astype(np.float) / 255.0)\n",
    "o3d.visualization.draw_geometries([Obj.pcd])"
   ]
  },
  {
   "cell_type": "code",
   "execution_count": null,
   "id": "eeb95c2f",
   "metadata": {},
   "outputs": [],
   "source": [
    "import random\n",
    "def get_sides(Graph, w_co, thre):\n",
    "    faces = []\n",
    "    all_visited = set()\n",
    "    nodes = list(Graph.nodes)\n",
    "    while len(nodes):\n",
    "        random_point = nodes.pop(0)\n",
    "        while random_point in all_visited:\n",
    "            if not len(nodes):\n",
    "                sorted_faces = sorted(faces,key = lambda key:key[0], reverse = True)\n",
    "                return sorted_faces[:10]\n",
    "            random_point = nodes.pop(0)\n",
    "       \n",
    "        queue = [random_point]\n",
    "        visited = set()\n",
    "        while len(queue):\n",
    "            point = queue.pop(0)\n",
    "            if point not in visited:\n",
    "                visited.add(point)\n",
    "                all_visited.add(point)\n",
    "                neighbors = Graph.neighbors(point)\n",
    "                for neighbor in neighbors:\n",
    "                    all_visited.add(neighbor)\n",
    "                    if w_co[neighbor]>thre:\n",
    "                        queue.append(neighbor)\n",
    "        faces.append((len(visited),visited))\n",
    "    sorted_faces = sorted(faces,key = lambda key:key[0], reverse = True)\n",
    "    return sorted_faces[:20]"
   ]
  },
  {
   "cell_type": "code",
   "execution_count": null,
   "id": "b7d0005e",
   "metadata": {},
   "outputs": [],
   "source": [
    "faces = get_sides(pruned_graph,Obj.w_co, 0.93)"
   ]
  },
  {
   "cell_type": "code",
   "execution_count": null,
   "id": "798d2b0c",
   "metadata": {},
   "outputs": [],
   "source": [
    "faces"
   ]
  },
  {
   "cell_type": "code",
   "execution_count": null,
   "id": "c9fd068d",
   "metadata": {},
   "outputs": [],
   "source": [
    "def cut_faces(Graph,w_co,thre,faces):\n",
    "    \n",
    "    nodes = list(set(Graph.nodes)-set([node for _,face in faces for node in face]))\n",
    "    nodes_values = w_co[nodes]\n",
    "    arr1inds = nodes_values.argsort()\n",
    "    nodes = list(np.asarray(nodes)[arr1inds[::-1]])\n",
    "    momentum = thre\n",
    "    borders = []\n",
    "    queue = []\n",
    "    all_visited = set()\n",
    "    while(len(nodes)):\n",
    "        node = nodes.pop(0)\n",
    "        queue.append(node)\n",
    "        visited = []\n",
    "        momentum = thre\n",
    "        while len(queue):\n",
    "            curr_node = queue.pop(0)\n",
    "            if curr_node not in all_visited:\n",
    "                all_visited.add(curr_node)\n",
    "                visited.append(curr_node)\n",
    "                neighbors = Graph.neighbors(curr_node)\n",
    "                for neighbor in neighbors:\n",
    "                    if w_co[neighbor]<=momentum and neighbor not in all_visited:\n",
    "                        print(momentum)\n",
    "                        queue.append(neighbor)\n",
    "                    momentum = (momentum + 0.000001*(momentum-w_co[neighbor]))\n",
    "        borders.append(visited)\n",
    "    return borders\n",
    "        \n",
    "        "
   ]
  },
  {
   "cell_type": "code",
   "execution_count": null,
   "id": "a1581bba",
   "metadata": {},
   "outputs": [],
   "source": [
    "borders = cut_faces(pruned_graph,Obj.w_co, 0.93,faces)"
   ]
  },
  {
   "cell_type": "code",
   "execution_count": null,
   "id": "3baf1df6",
   "metadata": {},
   "outputs": [],
   "source": [
    "set_borders = set([node for border in borders for node in border])\n",
    "filtred_faces = [(size,set(face)-set_borders) for size,face in faces]"
   ]
  },
  {
   "cell_type": "code",
   "execution_count": null,
   "id": "2517a4f3",
   "metadata": {},
   "outputs": [],
   "source": [
    "filtred_faces"
   ]
  },
  {
   "cell_type": "code",
   "execution_count": null,
   "id": "dcd1fbb5",
   "metadata": {},
   "outputs": [],
   "source": [
    "faces"
   ]
  },
  {
   "cell_type": "code",
   "execution_count": null,
   "id": "752c54ca",
   "metadata": {},
   "outputs": [],
   "source": [
    "import numpy as np\n",
    "\n",
    "def NormalizeData(data):\n",
    "    return (data - np.min(data)) / (np.max(data) - np.min(data))"
   ]
  },
  {
   "cell_type": "code",
   "execution_count": null,
   "id": "4bc8ab2e",
   "metadata": {},
   "outputs": [],
   "source": [
    "w =NormalizeData( 0.2 *Obj.w_k + 0.8*Obj.w_co)"
   ]
  },
  {
   "cell_type": "code",
   "execution_count": null,
   "id": "29bf4337",
   "metadata": {},
   "outputs": [],
   "source": [
    "Obj.init_create_crease(0.8, 2,2,2)"
   ]
  },
  {
   "cell_type": "code",
   "execution_count": null,
   "id": "7b995fb6",
   "metadata": {},
   "outputs": [],
   "source": [
    "Obj.create_crease(1.2,2,2)"
   ]
  },
  {
   "cell_type": "code",
   "execution_count": null,
   "id": "9256faf6",
   "metadata": {},
   "outputs": [],
   "source": [
    "w = NormalizeData(Obj.w_co+Obj.w_b2+Obj.w_k)"
   ]
  },
  {
   "cell_type": "code",
   "execution_count": null,
   "id": "52abe8f3",
   "metadata": {},
   "outputs": [],
   "source": [
    "Obj.show_heat(w)"
   ]
  },
  {
   "cell_type": "code",
   "execution_count": null,
   "id": "704b79e9",
   "metadata": {},
   "outputs": [],
   "source": []
  },
  {
   "cell_type": "code",
   "execution_count": null,
   "id": "b9d9d2b3",
   "metadata": {},
   "outputs": [],
   "source": [
    "filtred_faces"
   ]
  },
  {
   "cell_type": "code",
   "execution_count": null,
   "id": "b1589106",
   "metadata": {},
   "outputs": [],
   "source": [
    "len(Obj.pcd.points)"
   ]
  },
  {
   "cell_type": "code",
   "execution_count": null,
   "id": "b48479c4",
   "metadata": {},
   "outputs": [],
   "source": []
  },
  {
   "cell_type": "code",
   "execution_count": null,
   "id": "514e355d",
   "metadata": {},
   "outputs": [],
   "source": [
    "import open3d as o3d\n",
    "import numpy as np\n",
    "colors = [(0,255,0) for _ in Obj.pcd.points]\n",
    "for size,face in faces:\n",
    "    color = tuple(random.choices(range(256), k=3))\n",
    "    for point in face:\n",
    "        colors[point] = color\n",
    "Obj.pcd.colors = o3d.utility.Vector3dVector(np.asarray(colors).astype(np.float) / 255.0)\n",
    "o3d.visualization.draw_geometries([Obj.pcd])"
   ]
  },
  {
   "cell_type": "code",
   "execution_count": null,
   "id": "edac2bd1",
   "metadata": {},
   "outputs": [],
   "source": [
    "import open3d as o3d\n",
    "import numpy as np\n",
    "colors = [(0,255,0) for _ in Obj.pcd.points]\n",
    "for size,face in filtred_faces:\n",
    "    color = tuple(random.choices(range(256), k=3))\n",
    "    for point in face:\n",
    "        colors[point] = color\n",
    "Obj.pcd.colors = o3d.utility.Vector3dVector(np.asarray(colors).astype(np.float) / 255.0)\n",
    "o3d.visualization.draw_geometries([Obj.pcd])"
   ]
  },
  {
   "cell_type": "markdown",
   "id": "22a71661",
   "metadata": {},
   "source": [
    "<h1> trying to segement </h1>"
   ]
  },
  {
   "cell_type": "code",
   "execution_count": null,
   "id": "464ccf75",
   "metadata": {},
   "outputs": [],
   "source": [
    "valid = []\n",
    "colors = [(0,255,0) for _ in Obj.pcd.points]\n",
    "for idx,val in enumerate(w):\n",
    "    if Obj.w_co[idx]<0.85:\n",
    "        colors[idx] = (255,0,0)\n",
    "    if Obj.w_k[idx] < 0.85 and Obj.w_co[idx]>=0.85:\n",
    "        colors[idx] = (0,0,255)\n",
    "Obj.pcd.colors = o3d.utility.Vector3dVector(np.asarray(colors).astype(np.float) / 255.0)\n",
    "o3d.visualization.draw_geometries([Obj.pcd])"
   ]
  },
  {
   "cell_type": "code",
   "execution_count": null,
   "id": "fb55a178",
   "metadata": {},
   "outputs": [],
   "source": [
    "import matplotlib\n",
    "import open3d as o3d\n",
    "def show_heat(weights,thre = 0):\n",
    "    if len(weights.shape)>1 and weights.shape[-1] > 1:\n",
    "        weights = 1-NormalizeData(np.sqrt(np.sum(weights * weights,axis=1)))\n",
    "    weights = weights.copy()\n",
    "    # weights[weights>=thre] = 1\n",
    "    cmap = matplotlib.cm.get_cmap('viridis')\n",
    "    rgba = cmap(weights)\n",
    "    rgb = rgba[:,:3]\n",
    "\n",
    "    Obj.pcd.colors = o3d.utility.Vector3dVector(np.asarray(rgb).astype(np.float))\n",
    "    o3d.visualization.draw_geometries([Obj.pcd])"
   ]
  },
  {
   "cell_type": "code",
   "execution_count": null,
   "id": "0b9848c3",
   "metadata": {},
   "outputs": [],
   "source": [
    "len(Obj.w_co.shape)"
   ]
  },
  {
   "cell_type": "code",
   "execution_count": null,
   "id": "fade5cff",
   "metadata": {},
   "outputs": [],
   "source": [
    "show_heat(Obj.w_co)"
   ]
  },
  {
   "cell_type": "code",
   "execution_count": null,
   "id": "0fa876a5",
   "metadata": {},
   "outputs": [],
   "source": [
    "Obj.w_cr_v.shape[-1]"
   ]
  },
  {
   "cell_type": "code",
   "execution_count": null,
   "id": "5647b056",
   "metadata": {},
   "outputs": [],
   "source": [
    "faces = get_sides(Obj.pruned_graph, Obj.w_co, 0.96)"
   ]
  },
  {
   "cell_type": "code",
   "execution_count": null,
   "id": "cfe29802",
   "metadata": {},
   "outputs": [],
   "source": []
  }
 ],
 "metadata": {
  "kernelspec": {
   "display_name": "Python [conda env:thesis]",
   "language": "python",
   "name": "conda-env-thesis-py"
  },
  "language_info": {
   "codemirror_mode": {
    "name": "ipython",
    "version": 3
   },
   "file_extension": ".py",
   "mimetype": "text/x-python",
   "name": "python",
   "nbconvert_exporter": "python",
   "pygments_lexer": "ipython3",
   "version": "3.9.12"
  }
 },
 "nbformat": 4,
 "nbformat_minor": 5
}
