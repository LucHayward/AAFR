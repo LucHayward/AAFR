{
 "cells": [
  {
   "cell_type": "code",
   "execution_count": null,
   "id": "26530136",
   "metadata": {},
   "outputs": [],
   "source": [
    "import helper"
   ]
  },
  {
   "cell_type": "code",
   "execution_count": null,
   "id": "34f8adfe",
   "metadata": {},
   "outputs": [],
   "source": [
    "import pipline_modules.pipline_1 as pipeline\n",
    "\n",
    "#Before Evaluate do a Rotation and translation of\n",
    "init_R_T = [( 0 , 0 , 0),( -0.2, 0, 0 )]\n",
    "\n",
    "\n",
    "#pipline name and pipline parameters\n",
    "pipline_name = \"pipline_1\"\n",
    "\n",
    "N = 15\n",
    "t1 = 5\n",
    "t2 = 5\n",
    "t3 = 5\n",
    "\n",
    "\n",
    "#threshold for corner\n",
    "thre = 0.90\n",
    "\n",
    "pipline_variables = (N, t1, t2, t3, thre)\n"
   ]
  },
  {
   "cell_type": "code",
   "execution_count": null,
   "id": "1979c52c",
   "metadata": {},
   "outputs": [],
   "source": [
    "Obj1 = pipeline.run(\"data_test/pairwise/repair_group15_pair1/RPf_00105_gt.ply\" ,pipline_variables)"
   ]
  },
  {
   "cell_type": "code",
   "execution_count": null,
   "id": "7cd57745",
   "metadata": {},
   "outputs": [],
   "source": [
    "Obj1.pruned_graph"
   ]
  },
  {
   "cell_type": "code",
   "execution_count": null,
   "id": "d0fd6002",
   "metadata": {},
   "outputs": [],
   "source": [
    "import helper"
   ]
  },
  {
   "cell_type": "code",
   "execution_count": null,
   "id": "65c7dd35",
   "metadata": {},
   "outputs": [],
   "source": [
    "my_obj = Obj1.pcd_original"
   ]
  },
  {
   "cell_type": "code",
   "execution_count": null,
   "id": "65a4a4f8",
   "metadata": {},
   "outputs": [],
   "source": [
    "def find_cycles(Graph):\n",
    "    visited = set()\n",
    "    cycles = []\n",
    "    stack = [[list(Graph.nodes)[0]]]\n",
    "    parent = None\n",
    "    while stack:\n",
    "        path = stack.pop(-1)\n",
    "        last_node = path[-1]\n",
    "        # check that the node is not visited before if it is visited then it is a cycle\n",
    "        if last_node in visited:\n",
    "            cycles.append((path,last_node))\n",
    "            continue \n",
    "        visited.add(last_node)\n",
    "        nghs = Graph.neighbors(last_node)\n",
    "        for node in nghs:\n",
    "            if parent and parent == last_node:\n",
    "                continue\n",
    "            stack.append(path+[node])\n",
    "    filtered_cycles = []\n",
    "    for cycle,node in cycles:\n",
    "        path = []\n",
    "        counter = 0\n",
    "        for n in cycle:\n",
    "            if node == n:\n",
    "                counter = 1\n",
    "                \n",
    "            if counter:\n",
    "                path.append(n)\n",
    "            else:\n",
    "                continue\n",
    "        filtered_cycles.append((path,len(path)))\n",
    "    return filtered_cycles"
   ]
  },
  {
   "cell_type": "code",
   "execution_count": null,
   "id": "8c5b8482",
   "metadata": {},
   "outputs": [],
   "source": [
    "cycles = find_cycles(Obj1.pruned_graph)"
   ]
  },
  {
   "cell_type": "code",
   "execution_count": null,
   "id": "2b572913",
   "metadata": {},
   "outputs": [],
   "source": [
    "sorted_cycles = sorted(cycles,key = lambda x:x[1],reverse=True)"
   ]
  },
  {
   "cell_type": "code",
   "execution_count": null,
   "id": "88f04340",
   "metadata": {},
   "outputs": [],
   "source": [
    "sorted_cycles"
   ]
  },
  {
   "cell_type": "code",
   "execution_count": null,
   "id": "e042d137",
   "metadata": {},
   "outputs": [],
   "source": [
    "from copy import copy\n",
    "new_obj = copy(Obj1.pcd)"
   ]
  },
  {
   "cell_type": "code",
   "execution_count": null,
   "id": "a2cd1cae",
   "metadata": {},
   "outputs": [],
   "source": [
    "a,b = sorted_cycles[0]"
   ]
  },
  {
   "cell_type": "code",
   "execution_count": null,
   "id": "c97a062e",
   "metadata": {},
   "outputs": [],
   "source": [
    "import open3d as o3d\n",
    "import numpy as np\n",
    "\n",
    "for cycle,length in sorted_cycles[0:10]:\n",
    "    colors = [(0,255,0) for _ in my_obj.points]\n",
    "    points = cycle\n",
    "    for point in points:\n",
    "        print(point)\n",
    "        colors[point] = (255,0,0)\n",
    "\n",
    "    my_obj.colors = o3d.utility.Vector3dVector(np.asarray(colors).astype(np.float) / 255.0)\n",
    "    o3d.visualization.draw_geometries([my_obj])"
   ]
  },
  {
   "cell_type": "markdown",
   "id": "bf50d622",
   "metadata": {},
   "source": [
    "<h1>Check flat surfaces (Get rotation for it)</h1>"
   ]
  },
  {
   "cell_type": "code",
   "execution_count": null,
   "id": "95963831",
   "metadata": {},
   "outputs": [],
   "source": [
    "import helper\n",
    "import pipline_modules.pipline_1 as pipeline\n",
    "\n",
    "#Before Evaluate do a Rotation and translation of\n",
    "init_R_T = [( 0 , 0 , 0),( -0.2, 0, 0 )]\n",
    "\n",
    "\n",
    "#pipline name and pipline parameters\n",
    "pipline_name = \"pipline_1\"\n",
    "\n",
    "N = 15\n",
    "t1 = 5\n",
    "t2 = 5\n",
    "t3 = 5\n",
    "\n",
    "\n",
    "#threshold for corner\n",
    "thre = 0.97\n",
    "\n",
    "pipline_variables = (N, t1, t2, t3, thre)"
   ]
  },
  {
   "cell_type": "code",
   "execution_count": null,
   "id": "1b04636a",
   "metadata": {},
   "outputs": [],
   "source": [
    "from copy import copy\n",
    "import helper\n",
    "import numpy as np\n",
    "from Fragment import FeatureLines\n",
    "from tqdm import tqdm\n",
    "import open3d as o3d\n",
    "import numpy as np\n",
    "\n",
    "print(\"start\")\n",
    "\n",
    "Obj_url = \"data_test/breaking_bad/PillBottle/fractured_40/piece_0.obj\"\n",
    "\n",
    "Obj = FeatureLines(Obj_url,\"mesh\",voxel_size=30000)\n",
    "# print(\"Size :\",len(Obj.pcd.points))\n",
    "\n",
    "print(\"starting init\")\n",
    "Obj.init(int(N))"
   ]
  },
  {
   "cell_type": "code",
   "execution_count": null,
   "id": "1134af8d",
   "metadata": {},
   "outputs": [],
   "source": [
    "points = np.asarray(Obj.pcd.points)\n",
    "centroid = points.mean()\n",
    "points_vectors = points - centroid"
   ]
  },
  {
   "cell_type": "code",
   "execution_count": null,
   "id": "c13d45e4",
   "metadata": {},
   "outputs": [],
   "source": [
    "points_vectors"
   ]
  },
  {
   "cell_type": "code",
   "execution_count": null,
   "id": "c55e7042",
   "metadata": {},
   "outputs": [],
   "source": []
  },
  {
   "cell_type": "code",
   "execution_count": null,
   "id": "aa895481",
   "metadata": {},
   "outputs": [],
   "source": []
  },
  {
   "cell_type": "code",
   "execution_count": null,
   "id": "88434b34",
   "metadata": {},
   "outputs": [],
   "source": [
    "from numpy.linalg import norm\n",
    "def cal_cos(p_vec,q_vecs):\n",
    "    p_vecs = np.repeat(p_vec.reshape(1,3),len(q_vecs),axis=0)\n",
    "    p_dot_q = (p_vecs * q_vecs).sum(axis=1)\n",
    "    p_norms = np.sqrt((p_vecs*p_vecs).sum(axis=1))\n",
    "    q_norms = np.sqrt((q_vecs*q_vecs).sum(axis=1))\n",
    "    cos_sim = p_dot_q / (p_norms*q_norms)\n",
    "    return np.mean(cos_sim)"
   ]
  },
  {
   "cell_type": "code",
   "execution_count": null,
   "id": "44e0f076",
   "metadata": {},
   "outputs": [],
   "source": [
    "cal_cos(points_vectors[0],points_vectors[0:10])"
   ]
  },
  {
   "cell_type": "code",
   "execution_count": null,
   "id": "a61054cb",
   "metadata": {},
   "outputs": [],
   "source": [
    "from scipy import spatial\n",
    "pcd_tree = o3d.geometry.KDTreeFlann(Obj.pcd)\n",
    "sim_results = []\n",
    "for i in range(len(Obj.pcd.points)):\n",
    "        point = Obj.pcd.points[i]\n",
    "        p_vector = points_vectors[i]\n",
    "        [k, idx, _] = pcd_tree.search_knn_vector_3d(point, 5)\n",
    "        q_vectors = np.asarray(points_vectors).take(idx,axis=0)\n",
    "        result = cal_cos(p_vector, q_vectors)\n",
    "        sim_results.append((result,(p_vector[0]%255,p_vector[1]%255,p_vector[2]%255)))"
   ]
  },
  {
   "cell_type": "code",
   "execution_count": null,
   "id": "34576eef",
   "metadata": {},
   "outputs": [],
   "source": [
    "sim_results"
   ]
  },
  {
   "cell_type": "code",
   "execution_count": null,
   "id": "d7778181",
   "metadata": {},
   "outputs": [],
   "source": [
    "import open3d as o3d\n",
    "import numpy as np\n",
    "colors = [(0,255,0) for _ in Obj.pcd.points]\n",
    "for i,point in enumerate(Obj.pcd.points):\n",
    "    colors[i] = sim_results[i][1]\n",
    "\n",
    "Obj.pcd.colors = o3d.utility.Vector3dVector(np.asarray(colors).astype(np.float) / 255.0)\n",
    "o3d.visualization.draw_geometries([Obj.pcd])"
   ]
  },
  {
   "cell_type": "markdown",
   "id": "8fab069f",
   "metadata": {},
   "source": [
    "<h1>New Trial to get sides"
   ]
  },
  {
   "cell_type": "code",
   "execution_count": 45,
   "id": "7975a838",
   "metadata": {},
   "outputs": [],
   "source": [
    "import helper\n",
    "import pipline_modules.pipline_1 as pipeline\n",
    "from Fragment import FeatureLines \n",
    "import numpy as np\n",
    "#Before Evaluate do a Rotation and translation of\n",
    "init_R_T = [( 0 , 0 , 0),( -0.2, 0, 0 )]\n",
    "\n",
    "\n",
    "#pipline name and pipline parameters\n",
    "pipline_name = \"pipline_breaking\"\n",
    "\n",
    "N = 15\n",
    "t1 = 100\n",
    "t2 = 100\n",
    "t3 = 100\n",
    "\n",
    "Obj_url = \"data_test/breaking_bad/WineBottle/fractured_3/piece_1.obj\"\n",
    "#threshold for corner\n",
    "thre = 0.85\n",
    "\n",
    "pipline_variables = (N, t1, t2, t3, thre)"
   ]
  },
  {
   "cell_type": "code",
   "execution_count": 46,
   "id": "e321f3a5",
   "metadata": {
    "scrolled": true
   },
   "outputs": [
    {
     "name": "stdout",
     "output_type": "stream",
     "text": [
      "start\n",
      "starting init\n",
      "starting calculating atts\n"
     ]
    },
    {
     "name": "stderr",
     "output_type": "stream",
     "text": [
      "100%|████████████████████████████████████████████████████████████████████████| 100000/100000 [00:38<00:00, 2595.79it/s]\n"
     ]
    },
    {
     "name": "stdout",
     "output_type": "stream",
     "text": [
      "my radius is :  0.0016481776927879854\n",
      "1045468\n",
      "After graph 100000\n"
     ]
    }
   ],
   "source": [
    "(N, shortest_cycle_length, smallest_isolated_island_length, shortest_allowed_branch_length, thre) = pipline_variables\n",
    "#800000\n",
    "print(\"start\")\n",
    "Obj = FeatureLines(Obj_url,\"mesh\",voxel_size=100000)\n",
    "# print(\"Size :\",len(Obj.pcd.points))\n",
    "print(\"starting init\")\n",
    "Obj.init(int(N))\n",
    "\n",
    "\n",
    "shortest_cycle_length = np.sqrt(len(Obj.pcd.points))//shortest_cycle_length\n",
    "smallest_isolated_island_length = np.sqrt(len(Obj.pcd.points))//smallest_isolated_island_length\n",
    "shortest_allowed_branch_length = np.sqrt(len(Obj.pcd.points))//shortest_allowed_branch_length\n",
    "\n",
    "isolated_islands_pruned_graph, F_lines_original, isolated_islands = helper.create_graph(Obj, \\\n",
    "shortest_cycle_length, smallest_isolated_island_length)\n",
    "print(\"After graph\",len([point for branch in F_lines_original for point in branch]))\n",
    "\n",
    "\n",
    "# pruned_graph_original, removed_nodes, valid_nodes = helper.prune_branches(F_lines_original,isolated_islands_pruned_graph,\\\n",
    "# shortest_allowed_branch_length)\n",
    "# print(\"After Pruning\",len([node for branch in valid_nodes for node in branch]))"
   ]
  },
  {
   "cell_type": "code",
   "execution_count": 15,
   "id": "1ee71621",
   "metadata": {},
   "outputs": [],
   "source": [
    "Obj.show_heat(Obj.w_co)"
   ]
  },
  {
   "cell_type": "code",
   "execution_count": 47,
   "id": "8ad645b0",
   "metadata": {},
   "outputs": [
    {
     "name": "stderr",
     "output_type": "stream",
     "text": [
      "100000it [00:00, 826920.07it/s]"
     ]
    },
    {
     "name": "stdout",
     "output_type": "stream",
     "text": [
      "1513\n",
      "shortest_allowed_branch_length 388.97300677553443\n",
      "smallest_isolated_island_length 388.97300677553443\n",
      "shortest_cycle_length 388.97300677553443\n"
     ]
    },
    {
     "name": "stderr",
     "output_type": "stream",
     "text": [
      "\n"
     ]
    },
    {
     "name": "stdout",
     "output_type": "stream",
     "text": [
      "my radius is :  0.004911786620581042\n",
      "56239\n",
      "After graph 1423\n",
      "After Pruning 0\n"
     ]
    }
   ],
   "source": [
    "from copy import copy\n",
    "from tqdm import tqdm\n",
    "tmp_Obj = copy(Obj)\n",
    "tmp_Obj.pcd = copy(Obj.pcd)\n",
    "\n",
    "\n",
    "N = 15\n",
    "t1 = 0.1\n",
    "t2 = 0.1\n",
    "t3 = 0.1\n",
    "pipline_variables = (N, t1, t2, t3, thre)\n",
    "(N, shortest_cycle_length, smallest_isolated_island_length, shortest_allowed_branch_length, thre) = pipline_variables\n",
    "# print(\"Size valid :\",len(valid))\n",
    "valid = []\n",
    "for idx,val in tqdm(enumerate(tmp_Obj.w_co)):\n",
    "    if  val<0.95:\n",
    "        valid.append(idx)\n",
    "print(len(valid))\n",
    "shortest_cycle_length = np.sqrt(len(valid))/shortest_cycle_length\n",
    "smallest_isolated_island_length = np.sqrt(len(valid))/smallest_isolated_island_length\n",
    "shortest_allowed_branch_length = np.sqrt(len(valid))/shortest_allowed_branch_length\n",
    "print(\"shortest_allowed_branch_length\",shortest_allowed_branch_length)\n",
    "print(\"smallest_isolated_island_length\",smallest_isolated_island_length)\n",
    "print(\"shortest_cycle_length\",shortest_cycle_length)\n",
    "isolated_islands_pruned_graph_border, F_lines, isolated_islands = helper.create_graph(tmp_Obj, \\\n",
    "shortest_cycle_length, smallest_isolated_island_length,mask=valid,radius=None)\n",
    "print(\"After graph\",len([point for branch in F_lines for point in branch]))\n",
    "pruned_graph, removed_nodes, valid_nodes = helper.prune_branches(F_lines,isolated_islands_pruned_graph_border,\\\n",
    "shortest_allowed_branch_length)\n",
    "print(\"After Pruning\",len([node for branch in valid_nodes for node in branch if len(branch)>smallest_isolated_island_length]))"
   ]
  },
  {
   "cell_type": "code",
   "execution_count": 48,
   "id": "0dd78a4d",
   "metadata": {},
   "outputs": [],
   "source": [
    "border_nodes = set([node for branch in valid_nodes for node in branch])"
   ]
  },
  {
   "cell_type": "code",
   "execution_count": 37,
   "id": "490a9002",
   "metadata": {},
   "outputs": [],
   "source": [
    "import open3d as o3d\n",
    "import numpy as np\n",
    "colors = [(0,255,0) for _ in Obj.pcd.points]\n",
    "for point in border_nodes:\n",
    "    colors[point] = (0,0,255)\n",
    "Obj.pcd.estimate_normals()\n",
    "Obj.pcd.colors = o3d.utility.Vector3dVector(np.asarray(colors).astype(\"float\") / 255.0)\n",
    "o3d.visualization.draw_geometries([Obj.pcd])"
   ]
  },
  {
   "cell_type": "markdown",
   "id": "7a451db3",
   "metadata": {},
   "source": [
    "<h3> segment sides using DFS"
   ]
  },
  {
   "cell_type": "code",
   "execution_count": 49,
   "id": "f372ee5d",
   "metadata": {},
   "outputs": [],
   "source": [
    "import random\n",
    "from tqdm import tqdm\n",
    "from copy import copy\n",
    "\n",
    "def get_sides(Graph, borders):\n",
    "    faces = []\n",
    "    all_visited = set()\n",
    "    nodes = list(Graph.nodes)\n",
    "    print(\"len of the graph nodes \",len(nodes))\n",
    "    shortest_cycle_length = np.sqrt(len(borders))//5\n",
    "    with tqdm(total=len(nodes)) as pbar:\n",
    "        while len(nodes):\n",
    "            random_point = nodes.pop(0)\n",
    "            while random_point in all_visited or random_point in borders:\n",
    "                if not len(nodes):\n",
    "                    sorted_faces = sorted(faces,key = lambda key:key[0], reverse = True)\n",
    "                    my_faces = []\n",
    "                    for size,face in sorted_faces:\n",
    "                        if size>shortest_cycle_length:\n",
    "                            my_faces.append((size,face))\n",
    "                    return my_faces\n",
    "                random_point = nodes.pop(0)\n",
    "\n",
    "            queue = [random_point]\n",
    "            visited = set()\n",
    "            while len(queue):\n",
    "                point = queue.pop(0)\n",
    "                if point not in visited and point not in borders:\n",
    "                    visited.add(point)\n",
    "                    all_visited.add(point)\n",
    "                    neighbors = Graph.neighbors(point)\n",
    "                    pbar.update(len(list(copy(neighbors))))\n",
    "                    for neighbor in neighbors:\n",
    "                        all_visited.add(neighbor)\n",
    "                        if neighbor not in borders:\n",
    "                            queue.append(neighbor)\n",
    "            print(len(visited))\n",
    "            faces.append((len(visited),visited))\n",
    "        sorted_faces = sorted(faces,key = lambda key:key[0], reverse = True)\n",
    "        my_faces = []\n",
    "        for size,face  in sorted_faces:\n",
    "            if size>shortest_cycle_length:\n",
    "                my_faces.append((size,face) )\n",
    "        return my_faces"
   ]
  },
  {
   "cell_type": "code",
   "execution_count": 306,
   "id": "0850cb1e",
   "metadata": {},
   "outputs": [
    {
     "name": "stdout",
     "output_type": "stream",
     "text": [
      "len of the graph nodes  800000\n"
     ]
    },
    {
     "name": "stderr",
     "output_type": "stream",
     "text": [
      "1229233it [00:04, 266290.35it/s]                                                                                       \n"
     ]
    },
    {
     "ename": "KeyboardInterrupt",
     "evalue": "",
     "output_type": "error",
     "traceback": [
      "\u001b[1;31m---------------------------------------------------------------------------\u001b[0m",
      "\u001b[1;31mKeyboardInterrupt\u001b[0m                         Traceback (most recent call last)",
      "Cell \u001b[1;32mIn[306], line 1\u001b[0m\n\u001b[1;32m----> 1\u001b[0m without_dilated_faces \u001b[38;5;241m=\u001b[39m \u001b[43mget_sides\u001b[49m\u001b[43m(\u001b[49m\u001b[43misolated_islands_pruned_graph\u001b[49m\u001b[43m,\u001b[49m\u001b[43m \u001b[49m\u001b[43mborder_nodes\u001b[49m\u001b[43m)\u001b[49m\n",
      "Cell \u001b[1;32mIn[305], line 26\u001b[0m, in \u001b[0;36mget_sides\u001b[1;34m(Graph, borders)\u001b[0m\n\u001b[0;32m     24\u001b[0m queue \u001b[38;5;241m=\u001b[39m [random_point]\n\u001b[0;32m     25\u001b[0m visited \u001b[38;5;241m=\u001b[39m \u001b[38;5;28mset\u001b[39m()\n\u001b[1;32m---> 26\u001b[0m \u001b[38;5;28;01mwhile\u001b[39;00m \u001b[38;5;28;43mlen\u001b[39;49m(queue):\n\u001b[0;32m     27\u001b[0m     point \u001b[38;5;241m=\u001b[39m queue\u001b[38;5;241m.\u001b[39mpop(\u001b[38;5;241m0\u001b[39m)\n\u001b[0;32m     28\u001b[0m     \u001b[38;5;28;01mif\u001b[39;00m point \u001b[38;5;129;01mnot\u001b[39;00m \u001b[38;5;129;01min\u001b[39;00m visited \u001b[38;5;129;01mand\u001b[39;00m point \u001b[38;5;129;01mnot\u001b[39;00m \u001b[38;5;129;01min\u001b[39;00m borders:\n",
      "\u001b[1;31mKeyboardInterrupt\u001b[0m: "
     ]
    }
   ],
   "source": [
    "without_dilated_faces = get_sides(isolated_islands_pruned_graph, border_nodes)"
   ]
  },
  {
   "cell_type": "code",
   "execution_count": 60,
   "id": "42b1e172",
   "metadata": {},
   "outputs": [
    {
     "ename": "NameError",
     "evalue": "name 'without_dilated_faces' is not defined",
     "output_type": "error",
     "traceback": [
      "\u001b[1;31m---------------------------------------------------------------------------\u001b[0m",
      "\u001b[1;31mNameError\u001b[0m                                 Traceback (most recent call last)",
      "Cell \u001b[1;32mIn[60], line 4\u001b[0m\n\u001b[0;32m      2\u001b[0m \u001b[38;5;28;01mimport\u001b[39;00m \u001b[38;5;21;01mnumpy\u001b[39;00m \u001b[38;5;28;01mas\u001b[39;00m \u001b[38;5;21;01mnp\u001b[39;00m\n\u001b[0;32m      3\u001b[0m colors \u001b[38;5;241m=\u001b[39m [(\u001b[38;5;241m0\u001b[39m,\u001b[38;5;241m255\u001b[39m,\u001b[38;5;241m0\u001b[39m) \u001b[38;5;28;01mfor\u001b[39;00m _ \u001b[38;5;129;01min\u001b[39;00m Obj\u001b[38;5;241m.\u001b[39mpcd\u001b[38;5;241m.\u001b[39mpoints]\n\u001b[1;32m----> 4\u001b[0m \u001b[38;5;28;01mfor\u001b[39;00m size,face \u001b[38;5;129;01min\u001b[39;00m \u001b[43mwithout_dilated_faces\u001b[49m:\n\u001b[0;32m      5\u001b[0m     color \u001b[38;5;241m=\u001b[39m \u001b[38;5;28mtuple\u001b[39m(random\u001b[38;5;241m.\u001b[39mchoices(\u001b[38;5;28mrange\u001b[39m(\u001b[38;5;241m256\u001b[39m), k\u001b[38;5;241m=\u001b[39m\u001b[38;5;241m3\u001b[39m))\n\u001b[0;32m      6\u001b[0m     \u001b[38;5;28;01mfor\u001b[39;00m point \u001b[38;5;129;01min\u001b[39;00m face:\n",
      "\u001b[1;31mNameError\u001b[0m: name 'without_dilated_faces' is not defined"
     ]
    }
   ],
   "source": [
    "import open3d as o3d\n",
    "import numpy as np\n",
    "colors = [(0,255,0) for _ in Obj.pcd.points]\n",
    "for size,face in without_dilated_faces:\n",
    "    color = tuple(random.choices(range(256), k=3))\n",
    "    for point in face:\n",
    "        colors[point] = color\n",
    "Obj.pcd.colors = o3d.utility.Vector3dVector(np.asarray(colors).astype(\"float\") / 255.0)\n",
    "o3d.visualization.draw_geometries([Obj.pcd])"
   ]
  },
  {
   "cell_type": "markdown",
   "id": "8338030d",
   "metadata": {},
   "source": [
    "<h3> Dilate borders"
   ]
  },
  {
   "cell_type": "code",
   "execution_count": 50,
   "id": "65a4f39e",
   "metadata": {},
   "outputs": [],
   "source": [
    "from copy import copy,deepcopy\n",
    "my_obj = copy(Obj)\n",
    "my_obj.pcd = copy(Obj.pcd)"
   ]
  },
  {
   "cell_type": "code",
   "execution_count": 51,
   "id": "6739b114",
   "metadata": {},
   "outputs": [],
   "source": [
    "def dilate_border(my_obj,border,size):\n",
    "    tmp_Obj = copy(my_obj)\n",
    "    tmp_Obj.pcd = copy(my_obj.pcd)\n",
    "    pcd_tree = o3d.geometry.KDTreeFlann(tmp_Obj.pcd)\n",
    "    w_co = copy(tmp_Obj.w_co)\n",
    "    new_borders = []\n",
    "    for idx in border:\n",
    "        point = tmp_Obj.pcd.points[idx]\n",
    "        [k, idx, _] = pcd_tree.search_radius_vector_3d(point,size)\n",
    "        new_borders.extend(idx)\n",
    "    return new_borders\n",
    "def direction(A,B,P):\n",
    "    return np.sign((P[0]-A[0])*(B[1]-A[1])-(P[1]-A[1])*(B[0]-A[0]))\n",
    "\n",
    "def remove_edges(isolated_islands_pruned_graph,border):\n",
    "    tmp_graph = deepcopy(isolated_islands_pruned_graph)\n",
    "    remove_edges = []\n",
    "    for border_point in border:\n",
    "        edges = tmp_graph.edges(border_point)\n",
    "        for edge in edges:\n",
    "            if edge[1] not in border:\n",
    "                remove_edges.append(edge)\n",
    "    tmp_graph.remove_edges_from(remove_edges)\n",
    "    return tmp_graph\n",
    "\n",
    "def find_dilattion_size(my_obj,border):\n",
    "    tmp_Obj = copy(my_obj)\n",
    "    tmp_Obj.pcd = copy(my_obj.pcd)\n",
    "    pcd_tree = o3d.geometry.KDTreeFlann(tmp_Obj.pcd)\n",
    "    w_co = copy(tmp_Obj.w_co)\n",
    "    size = 0\n",
    "    upper_size = 2\n",
    "    lower_size = 0 \n",
    "    avg_number_ngh = 0\n",
    "    while lower_size < upper_size:\n",
    "        size = (lower_size+upper_size)/2.0\n",
    "        print(size)\n",
    "        ngh = 0\n",
    "        for i,idx in enumerate(border):\n",
    "            point = Obj.pcd.points[idx]\n",
    "            [k, idx, _] = pcd_tree.search_radius_vector_3d(point,size)\n",
    "            ngh+=len(idx)\n",
    "        if abs(ngh-20*len(border))<5:\n",
    "                return size\n",
    "        elif ngh > 30*len(border):\n",
    "                upper_size = size-0.00000001\n",
    "        else:\n",
    "                lower_size = size\n",
    "        "
   ]
  },
  {
   "cell_type": "code",
   "execution_count": null,
   "id": "9507d213",
   "metadata": {},
   "outputs": [],
   "source": [
    "my_new_graph = remove_edges(isolated_islands_pruned_graph,border_nodes)"
   ]
  },
  {
   "cell_type": "code",
   "execution_count": null,
   "id": "8738eb47",
   "metadata": {},
   "outputs": [],
   "source": [
    "size = find_dilattion_size(my_obj,border_nodes)"
   ]
  },
  {
   "cell_type": "code",
   "execution_count": null,
   "id": "63766e72",
   "metadata": {},
   "outputs": [],
   "source": [
    "size"
   ]
  },
  {
   "cell_type": "code",
   "execution_count": 52,
   "id": "93932eb8",
   "metadata": {},
   "outputs": [],
   "source": [
    "dilated_border = dilate_border(my_obj,border_nodes,0.006)"
   ]
  },
  {
   "cell_type": "code",
   "execution_count": 53,
   "id": "9db47bfa",
   "metadata": {},
   "outputs": [],
   "source": [
    "import open3d as o3d\n",
    "import numpy as np\n",
    "colors = [(0,255,0) for _ in Obj.pcd.points]\n",
    "for point in dilated_border:\n",
    "    colors[point] = (255,0,0)\n",
    "Obj.pcd.colors = o3d.utility.Vector3dVector(np.asarray(colors).astype(\"float\") / 255.0)\n",
    "o3d.visualization.draw_geometries([Obj.pcd])"
   ]
  },
  {
   "cell_type": "markdown",
   "id": "661ad4d1",
   "metadata": {},
   "source": [
    "<h3> segment again using dilated borders"
   ]
  },
  {
   "cell_type": "code",
   "execution_count": 468,
   "id": "47b0d32f",
   "metadata": {},
   "outputs": [
    {
     "name": "stdout",
     "output_type": "stream",
     "text": [
      "len of the graph nodes  80000\n"
     ]
    },
    {
     "name": "stderr",
     "output_type": "stream",
     "text": [
      "715055it [02:05, 6014.37it/s]                                                                                          "
     ]
    },
    {
     "name": "stdout",
     "output_type": "stream",
     "text": [
      "68444\n"
     ]
    },
    {
     "name": "stderr",
     "output_type": "stream",
     "text": [
      "810751it [02:21, 6136.88it/s]"
     ]
    },
    {
     "name": "stdout",
     "output_type": "stream",
     "text": [
      "9085\n",
      "31\n",
      "5\n",
      "3\n",
      "1\n",
      "5\n"
     ]
    },
    {
     "name": "stderr",
     "output_type": "stream",
     "text": [
      "811373it [02:22, 5692.15it/s]"
     ]
    },
    {
     "name": "stdout",
     "output_type": "stream",
     "text": [
      "3\n",
      "1\n",
      "1\n"
     ]
    },
    {
     "name": "stderr",
     "output_type": "stream",
     "text": [
      "\n"
     ]
    }
   ],
   "source": [
    "dilated_faces = get_sides(isolated_islands_pruned_graph, dilated_border)"
   ]
  },
  {
   "cell_type": "code",
   "execution_count": 469,
   "id": "ee0609b7",
   "metadata": {},
   "outputs": [
    {
     "name": "stdout",
     "output_type": "stream",
     "text": [
      "[68444, 9085, 31]\n"
     ]
    }
   ],
   "source": [
    "print([len(size) for face,size in dilated_faces])"
   ]
  },
  {
   "cell_type": "code",
   "execution_count": 470,
   "id": "34c402e1",
   "metadata": {},
   "outputs": [],
   "source": [
    "import open3d as o3d\n",
    "import numpy as np\n",
    "colors = [(0,255,0) for _ in Obj.pcd.points]\n",
    "for size,face in dilated_faces:\n",
    "    color = tuple(random.choices(range(256), k=3))\n",
    "    for point in face:\n",
    "        colors[point] = color\n",
    "Obj.pcd.colors = o3d.utility.Vector3dVector(np.asarray(colors).astype(\"float\") / 255.0)\n",
    "o3d.visualization.draw_geometries([Obj.pcd])"
   ]
  },
  {
   "cell_type": "markdown",
   "id": "dc510aa1",
   "metadata": {},
   "source": [
    "<h3> Expand segments by using KNN"
   ]
  },
  {
   "cell_type": "code",
   "execution_count": null,
   "id": "d3bcda0e",
   "metadata": {},
   "outputs": [],
   "source": [
    "node_face = {}\n",
    "face_nodes = []\n",
    "for idx,(_,face) in enumerate(dilated_faces):\n",
    "    for node in face:\n",
    "        node_face[node] = idx\n",
    "    face_nodes.append(face)\n",
    "for key,value in node_face.items():\n",
    "    if value>=10:\n",
    "        print(value)\n",
    "        \n",
    "all_dilated = [node for  _,face in dilated_faces for node in face]\n",
    "all_dilated.extend([node for node in dilated_border])"
   ]
  },
  {
   "cell_type": "code",
   "execution_count": null,
   "id": "4fb905f6",
   "metadata": {},
   "outputs": [],
   "source": [
    "all_dilated"
   ]
  },
  {
   "cell_type": "code",
   "execution_count": null,
   "id": "9e8185cb",
   "metadata": {},
   "outputs": [],
   "source": [
    "left_overs = list(set(range(len(Obj.pcd.points)))-set(all_dilated))\n",
    "border_left_overs = list(set(left_overs+dilated_border))"
   ]
  },
  {
   "cell_type": "code",
   "execution_count": null,
   "id": "9f067b87",
   "metadata": {},
   "outputs": [],
   "source": [
    "border_left_overs"
   ]
  },
  {
   "cell_type": "code",
   "execution_count": null,
   "id": "f97322d8",
   "metadata": {},
   "outputs": [],
   "source": [
    "from copy import deepcopy"
   ]
  },
  {
   "cell_type": "code",
   "execution_count": null,
   "id": "c02d58f4",
   "metadata": {},
   "outputs": [],
   "source": [
    "Obj.w_co[Obj.w_co>=0.95]"
   ]
  },
  {
   "cell_type": "code",
   "execution_count": null,
   "id": "8aa983b3",
   "metadata": {},
   "outputs": [],
   "source": [
    "arr1inds = Obj.w_co[border_left_overs].argsort()\n",
    "border_left_overs = deepcopy(np.asarray(border_left_overs))\n",
    "sorted_border_left_overs = deepcopy(border_left_overs[arr1inds[::-1]])"
   ]
  },
  {
   "cell_type": "code",
   "execution_count": null,
   "id": "b427c6d0",
   "metadata": {},
   "outputs": [],
   "source": [
    "Obj.w_co[sorted_border_left_overs]"
   ]
  },
  {
   "cell_type": "code",
   "execution_count": null,
   "id": "6954de67",
   "metadata": {},
   "outputs": [],
   "source": [
    "from copy import deepcopy\n",
    "def knn_expand(Obj,my_borders,node_face,face_nodes,size):\n",
    "    borders = deepcopy(my_borders)\n",
    "    face_nodes_new = deepcopy(face_nodes)\n",
    "    tree = o3d.geometry.KDTreeFlann(Obj.pcd)\n",
    "    no_change = 0\n",
    "    while borders:\n",
    "        len_before = len(borders)\n",
    "        idx = borders.pop(0)\n",
    "        point = Obj.pcd.points[idx]\n",
    "        [k, q_idxs, _] = tree.search_knn_vector_3d(point, size)\n",
    "        #vote \n",
    "        my_faces = {}\n",
    "        for q_idx in q_idxs:\n",
    "            if q_idx not in node_face:\n",
    "                continue\n",
    "                \n",
    "            if node_face[q_idx] not in my_faces:\n",
    "                my_faces[node_face[q_idx]] = 1\n",
    "            else:\n",
    "                my_faces[node_face[q_idx]] += 1\n",
    "                \n",
    "        if len(my_faces)==0:\n",
    "            borders.append(idx)\n",
    "        else:\n",
    "            winner = max(my_faces, key=my_faces.get)\n",
    "            score = my_faces[winner]/sum(my_faces.values())\n",
    "#             if my_faces[winner]>40:\n",
    "            face_nodes_new[winner].add(idx)\n",
    "            node_face[idx] = winner\n",
    "#             else:\n",
    "#                 borders.append(idx)\n",
    "            \n",
    "        if len(borders) == len_before:\n",
    "            no_change += 1\n",
    "        else:\n",
    "            no_change = 0\n",
    "        \n",
    "        if no_change >= len_before+1000:\n",
    "            break\n",
    "    print(len(borders))\n",
    "    return face_nodes_new\n",
    "def knn_expand2(Obj,my_borders,node_face,face_nodes,size):\n",
    "    borders = deepcopy(my_borders)\n",
    "    face_nodes_new = deepcopy(face_nodes)\n",
    "    tree = o3d.geometry.KDTreeFlann(Obj.pcd)\n",
    "    new_node_face = deepcopy(node_face)\n",
    "    no_change = 0\n",
    "    while borders:\n",
    "        len_before = len(borders)\n",
    "        idx = borders.pop(0)\n",
    "        point = Obj.pcd.points[idx]\n",
    "        [k, q_idxs, _] = tree.search_knn_vector_3d(point, size)\n",
    "        #vote \n",
    "        my_faces = {}\n",
    "        for q_idx in q_idxs:\n",
    "            if q_idx not in node_face:\n",
    "                continue\n",
    "                \n",
    "            if node_face[q_idx] not in my_faces:\n",
    "                my_faces[node_face[q_idx]] = 1\n",
    "            else:\n",
    "                my_faces[node_face[q_idx]] += 1\n",
    "                \n",
    "        if len(my_faces)==0:\n",
    "            borders.append(idx)\n",
    "        else:\n",
    "            winner = max(my_faces, key=my_faces.get)\n",
    "            score = my_faces[winner]/sum(my_faces.values())\n",
    "#             if my_faces[winner]>40:\n",
    "            face_nodes_new[winner].add(idx)\n",
    "            new_node_face[idx] = winner\n",
    "#             else:\n",
    "#                 borders.append(idx)\n",
    "            \n",
    "        if len(borders) == len_before:\n",
    "            no_change += 1\n",
    "        else:\n",
    "            no_change = 0\n",
    "        \n",
    "        if no_change >= len_before+10000:\n",
    "            break\n",
    "    print(len(borders))\n",
    "    return face_nodes_new"
   ]
  },
  {
   "cell_type": "code",
   "execution_count": null,
   "id": "d378214f",
   "metadata": {},
   "outputs": [],
   "source": [
    "expanded_faces = knn_expand(Obj,list(border_left_overs),node_face,face_nodes,size=5)"
   ]
  },
  {
   "cell_type": "code",
   "execution_count": null,
   "id": "eee3312f",
   "metadata": {},
   "outputs": [],
   "source": [
    "sorted_expanded_faces = knn_expand2(Obj,list(dilated_border),node_face,face_nodes,size=5)"
   ]
  },
  {
   "cell_type": "code",
   "execution_count": null,
   "id": "ab75008b",
   "metadata": {},
   "outputs": [],
   "source": [
    "for expanded_face,(_,dilated_face) in zip(expanded_faces,dilated_faces):\n",
    "    print(len(expanded_face),len(dilated_face))"
   ]
  },
  {
   "cell_type": "code",
   "execution_count": null,
   "id": "e48f30e2",
   "metadata": {},
   "outputs": [],
   "source": [
    "for expanded_face,(_,dilated_face) in zip(sorted_expanded_faces,dilated_faces):\n",
    "    print(len(expanded_face),len(dilated_face))"
   ]
  },
  {
   "cell_type": "code",
   "execution_count": null,
   "id": "27fbf097",
   "metadata": {},
   "outputs": [],
   "source": [
    "import open3d as o3d\n",
    "import numpy as np\n",
    "colors = [(0,255,0) for _ in Obj.pcd.points]\n",
    "for face in expanded_faces:\n",
    "    color = tuple(random.choices(range(256), k=3))\n",
    "    for point in face:\n",
    "        colors[point] = color\n",
    "Obj.pcd.colors = o3d.utility.Vector3dVector(np.asarray(colors).astype(\"float\") / 255.0)\n",
    "o3d.visualization.draw_geometries([Obj.pcd])"
   ]
  },
  {
   "cell_type": "code",
   "execution_count": null,
   "id": "785f442e",
   "metadata": {},
   "outputs": [],
   "source": [
    "import open3d as o3d\n",
    "import numpy as np\n",
    "colors = [(0,255,0) for _ in Obj.pcd.points]\n",
    "for face in sorted_expanded_faces:\n",
    "    color = tuple(random.choices(range(256), k=3))\n",
    "    for point in face:\n",
    "        colors[point] = color\n",
    "Obj.pcd.colors = o3d.utility.Vector3dVector(np.asarray(colors).astype(\"float\") / 255.0)\n",
    "o3d.visualization.draw_geometries([Obj.pcd])"
   ]
  },
  {
   "cell_type": "markdown",
   "id": "13c90151",
   "metadata": {},
   "source": [
    "<h3> END"
   ]
  },
  {
   "cell_type": "code",
   "execution_count": null,
   "id": "58395a31",
   "metadata": {},
   "outputs": [],
   "source": [
    "def dilate(my_obj,size,thre):\n",
    "    tmp_Obj = copy(my_obj)\n",
    "    pcd_tree = o3d.geometry.KDTreeFlann(tmp_Obj.pcd)\n",
    "    w_co = copy(OG_W_co)\n",
    "    for i in range(len(Obj.pcd.points)):\n",
    "        point = Obj.pcd.points[i]\n",
    "        if Obj.w_co[i] < thre :\n",
    "            [k, idx, _] = pcd_tree.search_knn_vector_3d(point, size)\n",
    "            w_co[idx] = max(OG_W_co[idx])\n",
    "    return w_co"
   ]
  },
  {
   "cell_type": "code",
   "execution_count": null,
   "id": "d92db895",
   "metadata": {},
   "outputs": [],
   "source": [
    "def erode(OG_W_co,size,thre):\n",
    "    pcd_tree = o3d.geometry.KDTreeFlann(Obj.pcd)\n",
    "    w_co = copy(OG_W_co)\n",
    "    for i in range(len(Obj.pcd.points)):\n",
    "        point = Obj.pcd.points[i]\n",
    "        if Obj.w_co[i] < thre :\n",
    "            [k, idx, _] = pcd_tree.search_knn_vector_3d(point, size)\n",
    "            w_co[idx] = min(OG_W_co[idx])\n",
    "    return w_co"
   ]
  },
  {
   "cell_type": "code",
   "execution_count": null,
   "id": "4ac9a017",
   "metadata": {},
   "outputs": [],
   "source": [
    "koko_w_co_erode = erode(Obj.w_co,50,0.9)"
   ]
  },
  {
   "cell_type": "code",
   "execution_count": null,
   "id": "f28b5402",
   "metadata": {},
   "outputs": [],
   "source": [
    "koko_w_co_dilate = dilate(koko_w_co,50,0.9)"
   ]
  },
  {
   "cell_type": "code",
   "execution_count": null,
   "id": "316df842",
   "metadata": {},
   "outputs": [],
   "source": [
    "faces = get_sides(graph,Obj.w_co,0.)"
   ]
  },
  {
   "cell_type": "code",
   "execution_count": null,
   "id": "37e3bc78",
   "metadata": {},
   "outputs": [],
   "source": [
    "koko_faces = get_sides(graph,koko_w_co,0.9)"
   ]
  },
  {
   "cell_type": "code",
   "execution_count": null,
   "id": "80a80819",
   "metadata": {},
   "outputs": [],
   "source": [
    "sizes = [size for size,_ in faces]\n",
    "print(sizes)"
   ]
  },
  {
   "cell_type": "code",
   "execution_count": null,
   "id": "3de7c422",
   "metadata": {},
   "outputs": [],
   "source": [
    "sizes = [size for size,_ in koko_faces]\n",
    "print(sizes)"
   ]
  },
  {
   "cell_type": "code",
   "execution_count": null,
   "id": "74daf487",
   "metadata": {},
   "outputs": [],
   "source": [
    "faces"
   ]
  },
  {
   "cell_type": "code",
   "execution_count": null,
   "id": "3bd00f63",
   "metadata": {},
   "outputs": [],
   "source": [
    "import open3d as o3d\n",
    "import numpy as np\n",
    "colors = [(0,255,0) for _ in Obj.pcd.points]\n",
    "for size,face in faces:\n",
    "    color = tuple(random.choices(range(256), k=3))\n",
    "    for point in face:\n",
    "        colors[point] = color\n",
    "Obj.pcd.colors = o3d.utility.Vector3dVector(np.asarray(colors).astype(np.float) / 255.0)\n",
    "o3d.visualization.draw_geometries([Obj.pcd])"
   ]
  },
  {
   "cell_type": "code",
   "execution_count": null,
   "id": "7fcf0e4b",
   "metadata": {},
   "outputs": [],
   "source": [
    "import open3d as o3d\n",
    "import numpy as np\n",
    "colors = [(0,255,0) for _ in Obj.pcd.points]\n",
    "for size,face in koko_faces:\n",
    "    color = tuple(random.choices(range(256), k=3))\n",
    "    for point in face:\n",
    "        colors[point] = color\n",
    "Obj.pcd.colors = o3d.utility.Vector3dVector(np.asarray(colors).astype(np.float) / 255.0)\n",
    "o3d.visualization.draw_geometries([Obj.pcd])"
   ]
  },
  {
   "cell_type": "code",
   "execution_count": null,
   "id": "0d2caccf",
   "metadata": {},
   "outputs": [],
   "source": [
    "import random\n",
    "def get_sides(Graph, w_co,thre):\n",
    "    faces = []\n",
    "    all_visited = set()\n",
    "    nodes = list(Graph.nodes)\n",
    "    while len(nodes):\n",
    "        random_point = nodes.pop(0)\n",
    "        while random_point in all_visited:\n",
    "            if not len(nodes):\n",
    "                sorted_faces = sorted(faces,key = lambda key:key[0], reverse = True)\n",
    "                return sorted_faces[:10]\n",
    "            random_point = nodes.pop(0)\n",
    "       \n",
    "        queue = [random_point]\n",
    "        visited = set()\n",
    "        while len(queue):\n",
    "            point = queue.pop(0)\n",
    "            if point not in visited:\n",
    "                visited.add(point)\n",
    "                all_visited.add(point)\n",
    "                neighbors = Graph.neighbors(point)\n",
    "                for neighbor in neighbors:\n",
    "                    all_visited.add(neighbor)\n",
    "                    if w_co[neighbor] > thre:\n",
    "                        queue.append(neighbor)\n",
    "        faces.append((len(visited),visited))\n",
    "    sorted_faces = sorted(faces,key = lambda key:key[0], reverse = True)\n",
    "    return sorted_faces[:20]"
   ]
  },
  {
   "cell_type": "code",
   "execution_count": null,
   "id": "444edc81",
   "metadata": {},
   "outputs": [],
   "source": [
    "from copy import copy,deepcopy"
   ]
  },
  {
   "cell_type": "code",
   "execution_count": null,
   "id": "bc98c953",
   "metadata": {},
   "outputs": [],
   "source": [
    "graph = deepcopy(pruned_graph)\n",
    "# graph.remove_nodes_from(border_nodes)\n",
    "# graph.remove_nodes_from(removed_nodes)"
   ]
  },
  {
   "cell_type": "code",
   "execution_count": null,
   "id": "754e8668",
   "metadata": {},
   "outputs": [],
   "source": [
    "faces = get_sides(graph,NormalizeData(Obj.w_co),0.92)"
   ]
  },
  {
   "cell_type": "code",
   "execution_count": null,
   "id": "a54bc312",
   "metadata": {},
   "outputs": [],
   "source": [
    "import open3d as o3d\n",
    "import numpy as np\n",
    "colors = [(0,255,0) for _ in Obj.pcd.points]\n",
    "for size,face in faces:\n",
    "    color = tuple(random.choices(range(256), k=3))\n",
    "    for point in face:\n",
    "        colors[point] = color\n",
    "Obj.pcd.colors = o3d.utility.Vector3dVector(np.asarray(colors).astype(np.float) / 255.0)\n",
    "o3d.visualization.draw_geometries([Obj.pcd])"
   ]
  },
  {
   "cell_type": "code",
   "execution_count": null,
   "id": "53268cc8",
   "metadata": {},
   "outputs": [],
   "source": [
    "shortest_cycle_length = np.sqrt(len(Obj.pcd.points))//t1\n",
    "smallest_isolated_island_length = np.sqrt(len(Obj.pcd.points))//t2\n",
    "shortest_allowed_branch_length = np.sqrt(len(Obj.pcd.points))//t3"
   ]
  },
  {
   "cell_type": "code",
   "execution_count": null,
   "id": "30c52c57",
   "metadata": {},
   "outputs": [],
   "source": [
    "isolated_islands_pruned_graph, F_lines, isolated_islands = helper.create_graph(Obj,\\\n",
    "2,shortest_cycle_length, smallest_isolated_island_length)\n",
    "print(\"After graph\",len([point for branch in F_lines for point in branch]))"
   ]
  },
  {
   "cell_type": "code",
   "execution_count": null,
   "id": "c8b0c10e",
   "metadata": {},
   "outputs": [],
   "source": [
    "pruned_graph, removed_nodes, valid_nodes = helper.prune_branches(F_lines,isolated_islands_pruned_graph,\\\n",
    "shortest_allowed_branch_length)\n",
    "Obj.pruned_graph = pruned_graph\n",
    "print(\"After Pruning\",len([node for branch in valid_nodes for node in branch]))"
   ]
  },
  {
   "cell_type": "code",
   "execution_count": null,
   "id": "48617b5a",
   "metadata": {},
   "outputs": [],
   "source": [
    "border_nodes = []\n",
    "for idx,value in enumerate(Obj.w_co):\n",
    "    if value<0.98:\n",
    "        border_nodes.append(idx)"
   ]
  },
  {
   "cell_type": "code",
   "execution_count": null,
   "id": "46bda4b6",
   "metadata": {},
   "outputs": [],
   "source": [
    "border_nodes"
   ]
  },
  {
   "cell_type": "code",
   "execution_count": null,
   "id": "4ed55158",
   "metadata": {},
   "outputs": [],
   "source": [
    "import open3d as o3d\n",
    "import numpy as np\n",
    "colors = [(0,255,0) for _ in Obj.pcd.points]\n",
    "for idx in border_nodes:\n",
    "    color = (255,0,0)\n",
    "    colors[idx] = color\n",
    "Obj.pcd.colors = o3d.utility.Vector3dVector(np.asarray(colors).astype(np.float) / 255.0)\n",
    "o3d.visualization.draw_geometries([Obj.pcd])"
   ]
  },
  {
   "cell_type": "code",
   "execution_count": null,
   "id": "eeb95c2f",
   "metadata": {},
   "outputs": [],
   "source": [
    "import random\n",
    "def get_sides(Graph, w_co, thre):\n",
    "    faces = []\n",
    "    all_visited = set()\n",
    "    nodes = list(Graph.nodes)\n",
    "    while len(nodes):\n",
    "        random_point = nodes.pop(0)\n",
    "        while random_point in all_visited:\n",
    "            if not len(nodes):\n",
    "                sorted_faces = sorted(faces,key = lambda key:key[0], reverse = True)\n",
    "                return sorted_faces[:10]\n",
    "            random_point = nodes.pop(0)\n",
    "       \n",
    "        queue = [random_point]\n",
    "        visited = set()\n",
    "        while len(queue):\n",
    "            point = queue.pop(0)\n",
    "            if point not in visited:\n",
    "                visited.add(point)\n",
    "                all_visited.add(point)\n",
    "                neighbors = Graph.neighbors(point)\n",
    "                for neighbor in neighbors:\n",
    "                    all_visited.add(neighbor)\n",
    "                    if w_co[neighbor]>thre:\n",
    "                        queue.append(neighbor)\n",
    "        faces.append((len(visited),visited))\n",
    "    sorted_faces = sorted(faces,key = lambda key:key[0], reverse = True)\n",
    "    return sorted_faces[:20]"
   ]
  },
  {
   "cell_type": "code",
   "execution_count": null,
   "id": "b7d0005e",
   "metadata": {},
   "outputs": [],
   "source": [
    "faces = get_sides(pruned_graph,Obj.w_co, 0.93)"
   ]
  },
  {
   "cell_type": "code",
   "execution_count": null,
   "id": "798d2b0c",
   "metadata": {},
   "outputs": [],
   "source": [
    "faces"
   ]
  },
  {
   "cell_type": "code",
   "execution_count": null,
   "id": "c9fd068d",
   "metadata": {},
   "outputs": [],
   "source": [
    "def cut_faces(Graph,w_co,thre,faces):\n",
    "    \n",
    "    nodes = list(set(Graph.nodes)-set([node for _,face in faces for node in face]))\n",
    "    nodes_values = w_co[nodes]\n",
    "    arr1inds = nodes_values.argsort()\n",
    "    nodes = list(np.asarray(nodes)[arr1inds[::-1]])\n",
    "    momentum = thre\n",
    "    borders = []\n",
    "    queue = []\n",
    "    all_visited = set()\n",
    "    while(len(nodes)):\n",
    "        node = nodes.pop(0)\n",
    "        queue.append(node)\n",
    "        visited = []\n",
    "        momentum = thre\n",
    "        while len(queue):\n",
    "            curr_node = queue.pop(0)\n",
    "            if curr_node not in all_visited:\n",
    "                all_visited.add(curr_node)\n",
    "                visited.append(curr_node)\n",
    "                neighbors = Graph.neighbors(curr_node)\n",
    "                for neighbor in neighbors:\n",
    "                    if w_co[neighbor]<=momentum and neighbor not in all_visited:\n",
    "                        print(momentum)\n",
    "                        queue.append(neighbor)\n",
    "                    momentum = (momentum + 0.000001*(momentum-w_co[neighbor]))\n",
    "        borders.append(visited)\n",
    "    return borders\n",
    "        \n",
    "        "
   ]
  },
  {
   "cell_type": "code",
   "execution_count": null,
   "id": "a1581bba",
   "metadata": {},
   "outputs": [],
   "source": [
    "borders = cut_faces(pruned_graph,Obj.w_co, 0.93,faces)"
   ]
  },
  {
   "cell_type": "code",
   "execution_count": null,
   "id": "3baf1df6",
   "metadata": {},
   "outputs": [],
   "source": [
    "set_borders = set([node for border in borders for node in border])\n",
    "filtred_faces = [(size,set(face)-set_borders) for size,face in faces]"
   ]
  },
  {
   "cell_type": "code",
   "execution_count": null,
   "id": "2517a4f3",
   "metadata": {},
   "outputs": [],
   "source": [
    "filtred_faces"
   ]
  },
  {
   "cell_type": "code",
   "execution_count": null,
   "id": "dcd1fbb5",
   "metadata": {},
   "outputs": [],
   "source": [
    "faces"
   ]
  },
  {
   "cell_type": "code",
   "execution_count": null,
   "id": "752c54ca",
   "metadata": {},
   "outputs": [],
   "source": [
    "import numpy as np\n",
    "\n",
    "def NormalizeData(data):\n",
    "    return (data - np.min(data)) / (np.max(data) - np.min(data))"
   ]
  },
  {
   "cell_type": "code",
   "execution_count": null,
   "id": "4bc8ab2e",
   "metadata": {},
   "outputs": [],
   "source": [
    "w =NormalizeData( 0.2 *Obj.w_k + 0.8*Obj.w_co)"
   ]
  },
  {
   "cell_type": "code",
   "execution_count": null,
   "id": "29bf4337",
   "metadata": {},
   "outputs": [],
   "source": [
    "Obj.init_create_crease(0.8, 2,2,2)"
   ]
  },
  {
   "cell_type": "code",
   "execution_count": null,
   "id": "7b995fb6",
   "metadata": {},
   "outputs": [],
   "source": [
    "Obj.create_crease(1.2,2,2)"
   ]
  },
  {
   "cell_type": "code",
   "execution_count": null,
   "id": "9256faf6",
   "metadata": {},
   "outputs": [],
   "source": [
    "w = NormalizeData(Obj.w_co+Obj.w_b2+Obj.w_k)"
   ]
  },
  {
   "cell_type": "code",
   "execution_count": null,
   "id": "52abe8f3",
   "metadata": {},
   "outputs": [],
   "source": [
    "Obj.show_heat(w)"
   ]
  },
  {
   "cell_type": "code",
   "execution_count": null,
   "id": "704b79e9",
   "metadata": {},
   "outputs": [],
   "source": []
  },
  {
   "cell_type": "code",
   "execution_count": null,
   "id": "b9d9d2b3",
   "metadata": {},
   "outputs": [],
   "source": [
    "filtred_faces"
   ]
  },
  {
   "cell_type": "code",
   "execution_count": null,
   "id": "b1589106",
   "metadata": {},
   "outputs": [],
   "source": [
    "len(Obj.pcd.points)"
   ]
  },
  {
   "cell_type": "code",
   "execution_count": null,
   "id": "b48479c4",
   "metadata": {},
   "outputs": [],
   "source": []
  },
  {
   "cell_type": "code",
   "execution_count": null,
   "id": "514e355d",
   "metadata": {},
   "outputs": [],
   "source": [
    "import open3d as o3d\n",
    "import numpy as np\n",
    "colors = [(0,255,0) for _ in Obj.pcd.points]\n",
    "for size,face in faces:\n",
    "    color = tuple(random.choices(range(256), k=3))\n",
    "    for point in face:\n",
    "        colors[point] = color\n",
    "Obj.pcd.colors = o3d.utility.Vector3dVector(np.asarray(colors).astype(np.float) / 255.0)\n",
    "o3d.visualization.draw_geometries([Obj.pcd])"
   ]
  },
  {
   "cell_type": "code",
   "execution_count": null,
   "id": "edac2bd1",
   "metadata": {},
   "outputs": [],
   "source": [
    "import open3d as o3d\n",
    "import numpy as np\n",
    "colors = [(0,255,0) for _ in Obj.pcd.points]\n",
    "for size,face in filtred_faces:\n",
    "    color = tuple(random.choices(range(256), k=3))\n",
    "    for point in face:\n",
    "        colors[point] = color\n",
    "Obj.pcd.colors = o3d.utility.Vector3dVector(np.asarray(colors).astype(np.float) / 255.0)\n",
    "o3d.visualization.draw_geometries([Obj.pcd])"
   ]
  },
  {
   "cell_type": "markdown",
   "id": "22a71661",
   "metadata": {},
   "source": [
    "<h1> trying to segement </h1>"
   ]
  },
  {
   "cell_type": "code",
   "execution_count": null,
   "id": "464ccf75",
   "metadata": {},
   "outputs": [],
   "source": [
    "valid = []\n",
    "colors = [(0,255,0) for _ in Obj.pcd.points]\n",
    "for idx,val in enumerate(w):\n",
    "    if Obj.w_co[idx]<0.85:\n",
    "        colors[idx] = (255,0,0)\n",
    "    if Obj.w_k[idx] < 0.85 and Obj.w_co[idx]>=0.85:\n",
    "        colors[idx] = (0,0,255)\n",
    "Obj.pcd.colors = o3d.utility.Vector3dVector(np.asarray(colors).astype(np.float) / 255.0)\n",
    "o3d.visualization.draw_geometries([Obj.pcd])"
   ]
  },
  {
   "cell_type": "code",
   "execution_count": null,
   "id": "fb55a178",
   "metadata": {},
   "outputs": [],
   "source": [
    "import matplotlib\n",
    "import open3d as o3d\n",
    "def show_heat(weights,thre = 0):\n",
    "    if len(weights.shape)>1 and weights.shape[-1] > 1:\n",
    "        weights = 1-NormalizeData(np.sqrt(np.sum(weights * weights,axis=1)))\n",
    "    weights = weights.copy()\n",
    "    # weights[weights>=thre] = 1\n",
    "    cmap = matplotlib.cm.get_cmap('viridis')\n",
    "    rgba = cmap(weights)\n",
    "    rgb = rgba[:,:3]\n",
    "\n",
    "    Obj.pcd.colors = o3d.utility.Vector3dVector(np.asarray(rgb).astype(np.float))\n",
    "    o3d.visualization.draw_geometries([Obj.pcd])"
   ]
  },
  {
   "cell_type": "code",
   "execution_count": null,
   "id": "0b9848c3",
   "metadata": {},
   "outputs": [],
   "source": [
    "len(Obj.w_co.shape)"
   ]
  },
  {
   "cell_type": "code",
   "execution_count": null,
   "id": "fade5cff",
   "metadata": {},
   "outputs": [],
   "source": [
    "show_heat(Obj.w_co)"
   ]
  },
  {
   "cell_type": "code",
   "execution_count": null,
   "id": "0fa876a5",
   "metadata": {},
   "outputs": [],
   "source": [
    "Obj.w_cr_v.shape[-1]"
   ]
  },
  {
   "cell_type": "code",
   "execution_count": null,
   "id": "5647b056",
   "metadata": {},
   "outputs": [],
   "source": [
    "faces = get_sides(Obj.pruned_graph, Obj.w_co, 0.96)"
   ]
  },
  {
   "cell_type": "code",
   "execution_count": null,
   "id": "cfe29802",
   "metadata": {},
   "outputs": [],
   "source": []
  }
 ],
 "metadata": {
  "kernelspec": {
   "display_name": ".env",
   "language": "python",
   "name": ".env"
  },
  "language_info": {
   "codemirror_mode": {
    "name": "ipython",
    "version": 3
   },
   "file_extension": ".py",
   "mimetype": "text/x-python",
   "name": "python",
   "nbconvert_exporter": "python",
   "pygments_lexer": "ipython3",
   "version": "3.9.0"
  }
 },
 "nbformat": 4,
 "nbformat_minor": 5
}
